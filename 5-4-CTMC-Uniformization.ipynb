{
 "cells": [
  {
   "cell_type": "markdown",
   "metadata": {},
   "source": [
    "# Continuous-Time Markov Chains: Section 4 – Uniformization"
   ]
  },
  {
   "cell_type": "markdown",
   "metadata": {},
   "source": [
    "In discrete-time, we could have consecutive “visits“ to a state $i$ when $p_{ii} > 0$.  In continuous-time, we might wonder whether there is any difference between having two consecutive visits and one long visit?  It turns out that if $p_{ii} > 0$ in the embedded DTMC, then we can specify an equivalent CTMC with $p_{ii} = 0$ by decreasing the holding time parameter $v_i$ (which will increase the average visit time)."
   ]
  },
  {
   "cell_type": "markdown",
   "metadata": {},
   "source": [
    "## Transitions from a state to itself\n",
    "\n",
    "Let $\\{X(t),\\, t \\geq 0\\}$ be a CTMC with state space $\\mathcal{S}$, embedded transition probabilities $\\mathbf{P}$, and holding time parameters $v_i$.\n",
    "\n",
    "Suppose $X(0) = i$ where $p_{ii} > 0$.\n",
    "* How many consecutive visits to $i$ will occur before the first visit out of state $i$?\n",
    "\n",
    "    The next visit of the Markov chain will be a consecutive visit to state $i$ with probability $p_{ii}$ (and leave with probability $1 - p_{ii}$).  Therefore, the number of consecutive visits (“failures”) until the first visit out (“success”) will be $Y \\sim \\text{Geometric}(1 - p_{ii})$:\n",
    "    $$\\mathsf{P}(Y = k) = p_{ii}^{k-1} (1 - p_{ii}) \\qquad k = 1, 2, \\dots$$\n",
    "\n",
    "\n",
    "* How much time until the Markov chain leaves state $i$?\n",
    "\n",
    "    There are $Y \\sim \\text{Geometric}(1 - p_{ii})$ consecutive visits (before leaving).  The length of each visit $H_k$ ($k = 1, 2, \\dots, Y$) is independent and identically distributed according to an $\\text{Exponential}(v_i)$ distribution.  It turns out that\n",
    "    $$\\tilde{H} = \\sum_{k=1}^Y H_k \\sim \\text{Exponential}(v_i (1 - p_{ii}))$$\n",
    "    (To see this, use moment generating functions and condition on $Y$.)\n",
    "    \n",
    "Therefore, we can define a new CTMC with embedded transition probabilities $\\tilde{\\mathbf{P}}$ and holding time parameters $\\tilde{v}_i$ where\n",
    "$$\\tilde{p}_{ii} = 0 \\qquad \\tilde{p}_{ij} = \\frac{p_{ij}}{1 - p_{ii}} \\qquad \\tilde{v}_i = v_i (1 - p_{ii})$$\n",
    "and the dynamics will be the same: $\\tilde{\\mathbf{P}}(t) = \\mathbf{P}(t)$"
   ]
  },
  {
   "cell_type": "markdown",
   "metadata": {},
   "source": [
    "## Uniformization\n",
    "\n",
    "Similarly, if the embedded DTMC has $p_{ii} = 0$ and holding time parameters $v_i$, we have (some) freedom to adjust the holding time parameters by introducing transitions from a state to itself.\n",
    "\n",
    "In particular, suppose we want to define a new CTMC with $\\tilde{v}_i = v$ (the same) for all $i \\in \\mathcal{S}$.  From the previous formulas,\n",
    "$$ p_{ij} = \\frac{\\tilde{p}_{ij}}{1 - \\tilde{p}_ii} \\qquad v_i - \\tilde{v}_i (1 - \\tilde{p}_ii)$$\n",
    "and so we can choose $\\tilde{p}_{ii} = 1 - v_i/v$:\n",
    "$$\\tilde{p}_{ii} = 1 - \\frac{v_i}{v} \\qquad \\tilde{p}_{ij} = p_{ij} \\frac{v_i}{v} \\qquad \\tilde{v}_i = v$$\n",
    "\n",
    "Note that since $\\tilde{p}_{ii}$ must be a probability, this only works for $v > v_i$."
   ]
  },
  {
   "cell_type": "markdown",
   "metadata": {},
   "source": [
    "## Example\n",
    "\n",
    "Consider the following CTMC on $\\mathcal{S} = \\{1, 2, 3\\}$:\n",
    "$$\\mathbf{P} = \n",
    "  \\begin{pmatrix}\n",
    "    0 & 1 & 0 \\\\\n",
    "    1/2 & 0 & 1/2 \\\\\n",
    "    0 & 1 & 0    \n",
    "  \\end{pmatrix}\n",
    "  \\qquad\n",
    "  \\begin{matrix}\n",
    "    v_1 = 1 \\\\ v_2 = 2 \\\\ v_3 = 1\n",
    "  \\end{matrix}$$\n",
    "\n",
    "Then the equivalent CTMC with $\\tilde{v}_1 = \\tilde{v}_2 = \\tilde{v}_3 = 2$ is:\n",
    "$$\\tilde{\\mathbf{P}} = \n",
    "  \\begin{pmatrix}\n",
    "    1/2 & 1/2 & 0 \\\\\n",
    "    1/2 & 0 & 1/2 \\\\\n",
    "    0 & 1/2 & 1/2    \n",
    "  \\end{pmatrix}\n",
    "  \\qquad\n",
    "  \\begin{matrix}\n",
    "    \\tilde{v}_1 = 2 \\\\ \\tilde{v}_2 = 2 \\\\ \\tilde{v}_3 = 2\n",
    "  \\end{matrix}$$"
   ]
  },
  {
   "cell_type": "markdown",
   "metadata": {},
   "source": [
    "For each of the following CTMCs, determine:\n",
    "* Stationary distribution of the embedded DTMC.\n",
    "* Stationary distribution of the CTMC.\n",
    "* One-step transition probability matrix for the embedded DTMC of the uniformized CTMC.\n",
    "* Stationary distribution of the transition probability matrix in the previous part.\n",
    "\n",
    "### Exercise 4.1\n",
    "\n",
    "$$\\mathbf{P} = \n",
    "  \\begin{pmatrix}\n",
    "    0 & 1/3 & 2/3 \\\\\n",
    "    1/2 & 0 & 1/2 \\\\\n",
    "    1/2 & 1/2 & 0\n",
    "  \\end{pmatrix} \n",
    "  \\qquad\\qquad\n",
    "  \\begin{matrix}\n",
    "    v_1 = 9 \\\\\n",
    "    v_2 = 8 \\\\\n",
    "    v_3 = 10\n",
    "  \\end{matrix}$$\n",
    "\n",
    "### Exercise 4.2\n",
    "\n",
    "$$\\mathbf{P} = \n",
    "  \\begin{pmatrix}\n",
    "    0 & 1 & 0 \\\\\n",
    "    1/2 & 0 & 1/2 \\\\\n",
    "    0 & 1 & 0\n",
    "  \\end{pmatrix} \n",
    "  \\qquad\\qquad\n",
    "  \\begin{matrix}\n",
    "    v_1 = 1 \\\\\n",
    "    v_2 = 3 \\\\\n",
    "    v_3 = 1\n",
    "  \\end{matrix}$$\n",
    "\n",
    "### Exercise 4.3\n",
    "\n",
    "$$\\mathbf{P} = \n",
    "  \\begin{pmatrix}\n",
    "    0 & 1/3 & 1/3 & 1/3 \\\\\n",
    "    1 & 0 & 0 & 0 \\\\\n",
    "    1 & 0 & 0 & 0 \\\\\n",
    "    1 & 0 & 0 & 0\n",
    "  \\end{pmatrix} \n",
    "  \\qquad\\qquad\n",
    "  \\begin{matrix}\n",
    "    v_1 = 3 \\\\\n",
    "    v_2 = 1 \\\\\n",
    "    v_3 = 1 \\\\\n",
    "    v_4 = 1 \\\\\n",
    "  \\end{matrix}$$"
   ]
  }
 ],
 "metadata": {
  "kernelspec": {
   "display_name": "Python 3",
   "language": "python",
   "name": "python3"
  },
  "language_info": {
   "codemirror_mode": {
    "name": "ipython",
    "version": 3
   },
   "file_extension": ".py",
   "mimetype": "text/x-python",
   "name": "python",
   "nbconvert_exporter": "python",
   "pygments_lexer": "ipython3",
   "version": "3.7.4"
  }
 },
 "nbformat": 4,
 "nbformat_minor": 2
}

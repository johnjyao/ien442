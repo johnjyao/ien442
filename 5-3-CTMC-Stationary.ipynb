{
 "cells": [
  {
   "cell_type": "markdown",
   "metadata": {},
   "source": [
    "# Continuous-Time Markov Chains: Section 3 – Stationary Distribution"
   ]
  },
  {
   "cell_type": "markdown",
   "metadata": {},
   "source": [
    "## The Long-Run Proportion of Time Spent in a State\n",
    "\n",
    "Consider the rat-in-a-maze example from Section 1.  What proportion of time does it spend in room 1?  From the embedded DTMC, we know that $1/4$ of its *visits* were to room 1, but how much time was spent there?\n",
    "\n",
    "Mathematically, we write this as\n",
    "$$\\text{long-run proportion of time spent in state $j$} = \\underbrace{\\lim_{t \\to \\infty}}_{\\text{long-run}} \\overbrace{\\frac{1}{t}}^{\\text{proportion}} \\underbrace{\\int_0^t \\mathbf{1}\\{X(s) = j\\}\\,ds}_{\\text{time spent in state $j$}}$$\n",
    "Again, you should compare this to the DTMC definition (Section 6).  The only difference is that we now have an integral accumulating amount of time spent in state $j$ rather than a summation counting the number of visits to state $j$.\n",
    "\n",
    "We will define this as $\\pi_j$:\n",
    "$$\\pi_j = \\lim_{t \\to \\infty} \\frac{1}{t} \\int_0^t \\mathbf{1}\\{X(s) = j\\}\\,ds = \\lim_{t \\to \\infty} \\frac{1}{t} \\int_0^t p_{ij}(s)\\,ds$$\n",
    "and if this is the same **for any starting state** $X(0) = i$ then this is the stationary distribution and satisfies\n",
    "$$\\pi = \\pi \\mathbf{P}(t)$$\n",
    "for all $t \\geq 0$.  (Of course, $\\pi$ is a distribution over $\\mathcal{S}$, so $\\pi_j \\geq 0$ and $\\sum_{i \\in \\mathcal{S}} \\pi_i = 1$.)"
   ]
  },
  {
   "cell_type": "markdown",
   "metadata": {},
   "source": [
    "## Positive Recurrent CTMC\n",
    "\n",
    "If $\\{X(t),\\, t \\geq 0\\}$ is a positive recurrent CTMC, then the stationary distribution:\n",
    "* exists and is unique\n",
    "* satisfies\n",
    "$$ \\pi_j = \\frac{1/v_j}{\\mathsf{E}[\\tau_{jj}]} \\qquad j \\in \\mathcal{S}$$\n",
    "* and\n",
    "$$ \\pi_j = \\lim_{t \\to \\infty} p_{ij}(t) \\qquad i,j \\in \\mathcal{S}$$\n",
    "  (Note that a CTMC is, essentially, always “aperiodic”.)"
   ]
  },
  {
   "cell_type": "markdown",
   "metadata": {},
   "source": [
    "## Balance Equations (Solving for the Stationary Distribution)\n",
    "\n",
    "Note that the matrix equation $\\pi = \\pi \\mathbf{P}(t)$ is not quite as useful as the discrete-time version since we do not have a simple expression for $\\mathbf{P}(t)$.  However, it turns out that it is equivalent to:\n",
    "$$ v_j \\pi_j = \\sum_{i \\in \\mathcal{S}} v_i \\pi_i p_{ij}$$\n",
    "where $p_{ij}$ is the one-step transition probability (from state $i$ to state $j$) of the **embedded DTMC**.\n",
    "\n",
    "These are called the “**balance equations**” and have the following interpretation: when $\\pi = \\pi \\mathbf{P}(t)$, the system is in “steady state” and so\n",
    "$$\\text{rate out of state } j = \\text{rate into state } j$$\n",
    "These two rates must be in balance:\n",
    "* the rate out of state $j$: $v_j \\pi_j$\n",
    "* the rate in to state $j$:\n",
    "   * rate out of state $i$: $v_i \\pi_i$\n",
    "   * the transition probability from $i$ to $j$: $p_{ij}$\n",
    "   * sum over all states $i \\in \\mathcal{S}$\n",
    "   \n",
    "Therefore, we can solve the balance equations (along with $\\sum_i \\pi_i = 1$) to find the stationary distribution $\\pi$:\n",
    "$$\\begin{aligned}\n",
    "     v_j \\pi_j &= \\sum_{i \\in \\mathcal{S}} v_i \\pi_i p_{ij} \\\\\n",
    "     \\sum_{i \\in \\mathcal{S}} \\pi_i &= 1\n",
    "  \\end{aligned}$$"
   ]
  },
  {
   "cell_type": "markdown",
   "metadata": {},
   "source": [
    "### Exercise 3.1\n",
    "\n",
    "Solve the balance equations to find the stationary distribution for the following CTMC on $\\mathcal{S} = \\{1, 2, 3\\}$:\n",
    "$$\\mathbf{P} = \n",
    "  \\begin{pmatrix}\n",
    "    0 & 1 & 0 \\\\\n",
    "    1/2 & 0 & 1/2 \\\\\n",
    "    0 & 1 & 0    \n",
    "  \\end{pmatrix}\n",
    "  \\qquad\n",
    "  \\begin{matrix}\n",
    "    v_1 \\\\ v_2 \\\\ v_3\n",
    "  \\end{matrix}$$"
   ]
  },
  {
   "cell_type": "markdown",
   "metadata": {},
   "source": [
    "## Relationship with the Embedded DTMC Stationary Distribution\n",
    "\n",
    "Suppose that we know the stationary distribution of the embedded DTMC, $\\hat{\\pi}$, so $\\hat{\\pi} = \\hat{\\pi} \\mathbf{P}$ (and $\\hat{\\pi} \\geq 0$, $\\sum_i \\hat{\\pi}_i = 1$).\n",
    "\n",
    "Then, the stationary distribution of the CTMC, $\\pi$, can be immediately calculated using:\n",
    "$$\\pi_j = \\frac{\\hat{\\pi}_j / v_j}{\\sum_i \\hat{\\pi}_i / v_i}$$\n",
    "That is, the long-run proportion of time spent in state $j$, $\\pi_j$, is simply the long-run proportion of *visits* to state $j$, $\\hat{\\pi}_j$, adjusted by the average visit length $1/v_j$.  The denominator is a “normalization” factor —\n",
    "it simply ensures that the $\\pi_j$ sum to $1$.\n",
    "\n",
    "\n",
    "### Exercise 3.2\n",
    "\n",
    "Assume that $\\hat{\\pi} = \\hat{\\pi} \\mathbf{P}$.  Show that the above formula satisfies the balance equations and $\\sum_i \\pi_i = 1$.\n",
    "\n",
    "### Exercise 3.3\n",
    "\n",
    "When will $\\pi_j = \\hat{\\pi}_j$?  That is, the stationary distribution of the CTMC is the same as the stationary distribution of the embedded DTMC?\n",
    "\n",
    "### Exercise 3.4\n",
    "\n",
    "Find a formula for the stationary distribution of the embedded DTMC $\\hat{\\pi}$ in terms of $\\pi$ (the stationary distribution of the CTMC).\n",
    "\n",
    "(*Hint:* Note that the balance equations\n",
    "$$v_j \\pi_j = \\sum_{i \\in \\mathcal{S}} v_i \\pi_i p_{ij}$$\n",
    "look a lot like $\\hat{\\pi} = \\hat{\\pi} \\mathbf{P}$:\n",
    "$$\\hat{\\pi}_j = \\sum_{i \\in \\mathcal{S}} \\hat{\\pi}_i p_{ij}$$\n",
    "and try to guess the solution, but don't forget that $\\sum_i \\hat{\\pi}_i$ must equal 1.)"
   ]
  },
  {
   "cell_type": "markdown",
   "metadata": {},
   "source": [
    "## Transition Rate Matrix (Optional)\n",
    "\n",
    "Assume that $p_{ii} = 0$ for all $i \\in \\mathcal{S}$.  Then we can write the balance equations as:\n",
    "$$\\sum_{i \\neq j} v_i \\pi_i p_{ij} - v_j \\pi_j = 0$$\n",
    "or, in matrix form,\n",
    "$$ \\pi \\mathbf{R} = 0 $$\n",
    "where\n",
    "$$\\mathbf{R} =\n",
    "  \\begin{pmatrix}\n",
    "    -v_1 & v_1 p_{12} & v_1 p_{13} & \\dots \\\\\n",
    "    v_2 p_{21} & -v_2 & v_2 p_{23} & \\dots \\\\\n",
    "    v_3 p_{31} & v_2 p_{32} & -v_3 & \\dots \\\\\n",
    "    \\vdots & \\vdots & \\vdots & \\ddots\n",
    "  \\end{pmatrix}$$\n",
    "\n",
    "$$\\mathbf{R}$$ is called the “transition rate matrix” because\n",
    "$$ \\mathbf{R} = \\frac{d}{dt} \\mathbf{P}(t)$$\n",
    "and so, $\\pi = \\pi \\mathbf{P}(t)$ is equivalent to $\\pi \\mathbf{R} = 0$.  (In this sense, the distribution $\\pi$ is “stationary”.)  Note that the above is a matrix differential equation (with initial condition $\\mathbf{P}(0) = \\mathbf{I}$, the identity matrix), whose solution is\n",
    "$$ \\mathbf{P}(t) = e^{\\mathbf{R} t}$$\n",
    "where the matrix exponential is defined in terms of the power series\n",
    "$$ e^{\\mathbf{R} t} \\overset{\\mathsf{def}}{=} \\sum_{n=0}^\\infty \\mathbf{R}^n \\frac{t^n}{n!}.$$\n",
    "\n",
    "In general, calculating the matrix exponential is difficult, but approximation methods exist.\n",
    "\n",
    "See Chapter 6.8 of Ross, “Introduction to Probability Models” for additional details."
   ]
  }
 ],
 "metadata": {
  "kernelspec": {
   "display_name": "Python 3",
   "language": "python",
   "name": "python3"
  },
  "language_info": {
   "codemirror_mode": {
    "name": "ipython",
    "version": 3
   },
   "file_extension": ".py",
   "mimetype": "text/x-python",
   "name": "python",
   "nbconvert_exporter": "python",
   "pygments_lexer": "ipython3",
   "version": "3.7.4"
  }
 },
 "nbformat": 4,
 "nbformat_minor": 2
}

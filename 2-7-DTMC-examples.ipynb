{
 "cells": [
  {
   "cell_type": "markdown",
   "metadata": {},
   "source": [
    "# DTMC: Section 7 - More Examples\n",
    "\n",
    "We have reached the end of the technical/mathematical specification of DTMCs (mainly Sections 2-6).  Now that we have a number of tools to describe and analyze Markov chains (and their dynamics), we want to have some practice in applying them to different problems.\n",
    "\n",
    "We've primarily used two examples — the rat in a maze (with various mazes) and the ride-share driver — to explore most of the DTMC concepts.  We've looked at additional randomly generated Markov chains or come up with examples to fit certain characteristics.\n",
    "\n",
    "However, it would be good to have more practice in formulating a Markov chain based on an actual problem setting."
   ]
  },
  {
   "cell_type": "markdown",
   "metadata": {},
   "source": [
    "## A Toy Weather Model\n",
    "\n",
    "(Based on Examples 4.1, 4.17 from “Introduction to Probability Models”, 9th Edition, by Sheldon Ross)\n",
    "\n",
    "Consider a simple (and simplistic) weather model where the probability of rain tomorrow only depends on whether or not it rained today.  In particular, if it rains today, then it will also rain tomorrow with probability $\\alpha$.  If it does not rain today, then it will rain tomorrow with probability $\\beta$.\n",
    "\n",
    "* Formulate this as a simple two-state Markov chain.\n",
    "* Specify the communication class(es) and identify the states as transient, null recurrent, or positive recurrent.\n",
    "* Suppose $\\alpha = 0.8$ and $\\beta = 0.2$.  What is the probability it rains one week from today (in seven days), given that it rained today?\n",
    "* What is the long-run proportion of rainy days?  (Derive formulas for any $\\alpha$ and $\\beta$, not just the numerical values given above.)\n",
    "* If it rained today, what is the expected number of days before it rains again?\n"
   ]
  },
  {
   "cell_type": "markdown",
   "metadata": {},
   "source": [
    "## More Weather\n",
    "\n",
    "(Problem 31 of Ross)\n",
    "\n",
    "A certain town never has two sunny days in a row.  Each day is classified as being either sunny, cloudy (but dry), or rainy.  If it is sunny one day, then it is equally likely to be either cloudy or rainy the next day.  If it is rainy or cloudy one day, then there is one chance in two that it will be the same the next day, and if it changes then it is equally likely to be either of the other two possibilities.  In the long run, what proportion of days are sunny?  What proportion are cloudy?"
   ]
  },
  {
   "cell_type": "markdown",
   "metadata": {},
   "source": [
    "## Coin Flipping\n",
    "\n",
    "(Problem 18 of Ross)\n",
    "\n",
    "Coin 1 comes up heads with probability 0.6 and coin 2 with probability 0.5.  A coin is continually flipped until it comes up tails, at which time that coin is put aside and we start flipping the other one.\n",
    "\n",
    "* What proportion of flips use coin 1?\n",
    "* If we start the process with coin 1 what is the probability that coin 2 is used on the fifth flip?"
   ]
  },
  {
   "cell_type": "markdown",
   "metadata": {},
   "source": [
    "## Cars and Trucks on the Road\n",
    "\n",
    "(Problem 30 of Ross)\n",
    "\n",
    "Three out of every four trucks on the road are followed by a car, while only one out of every five cars is followed by a truck.  What fraction of vehicles on the road are trucks?"
   ]
  },
  {
   "cell_type": "markdown",
   "metadata": {},
   "source": [
    "## A Sequence of Independent and Identically Distributed Random Variables\n",
    "\n",
    "Consider the sequence of random variables $(X_1, X_2, X_3, \\dots)$ as a stochastic process on $\\{0, 1\\}$.\n",
    "\n",
    "Suppose each $X_n$ is independent and identically distributed (iid) with $\\mathsf{P}(X_n = 1) = p = 1 - \\mathsf{P}(X_n = 0)$.  (So $X_n \\sim \\text{Bernoulli}(p)$.)\n",
    "* Formulate the stochastic process as a Markov chain.\n",
    "* Is the Markov chain periodic or aperiodic?\n",
    "* Show that the stationary distribution is $\\pi = (1 - p,\\ p)$\n",
    "\n",
    "Suppose instead the stochastic process is a Markov chain with $\\mathcal{S} = \\{0, 1\\}$ and\n",
    "$$\\mathbf{P} = \\begin{pmatrix}\n",
    "    1 - a & a \\\\\n",
    "    b & 1 - b\n",
    "  \\end{pmatrix} $$\n",
    "* For what values of $a$ and $b$ is the stationary distribution equal to $(1 - p,\\ p)$?\n",
    "* Suppose $p > 0.5$ and let $a = 1$.  For what values of $b$ is the stationary distribution $(1 - p,\\ p)$?  \n",
    "\n",
    "    Provide an example of a sample path of the iid sequence that is impossible for this Markov chain.\n",
    "    \n",
    "In this way, a Markov chain offers some additional flexibility over sequences of iid random variables.  The iid sequence is independent of the past *and* the present, while a Markov chain is allowed to depend on the present.  This is an example of “autocorrelation” in a stochastic process."
   ]
  },
  {
   "cell_type": "markdown",
   "metadata": {},
   "source": [
    "## Umbrellas\n",
    "(Adapted from Problem 46 of Ross)\n",
    "\n",
    "Suppose I have a total of three umbrellas between my home and my office.\n",
    "\n",
    "My strategy is, if it is raining when I am leaving a location (home or office) then I will bring an umbrella, if one is available.  If it is not raining then I do not carry an umbrella, *even if it means leaving all my umbrellas at one location*.  (Obviously, if it is raining but there are no umbrellas available, then I also do not carry an umbrella -- I get rained on.)\n",
    "   \n",
    "For example, suppose I have one umbrella at home and two at the office and it is raining when I leave home.  Since I have an umbrella there, I will use it and bring it to the office, where I then have all three umbrellas.  If it is *not* raining when I leave my office, then I will not carry an umbrella, even though that means leaving all three umbrellas at the office.  \n",
    "   \n",
    "This means, however, that I risk getting rained on when I don't have an umbrella at my location and it is raining.\n",
    "   \n",
    "We will further assume that $p$ is the probability it is raining when I leave my current location (same for home and office).  The event “it is raining at my current location” is independent of everything else.\n",
    "\n",
    "* Formulate this as a discrete-time Markov chain where the state space is $\\mathcal{S} = \\{0, 1, 2, 3\\}$ and each state represents the number of umbrellas at my current location.\n",
    "         \n",
    "* Find the stationary distribution $\\pi$.\n",
    "         \n",
    "* What is the long-run proportion of time that I will be rained on?\n",
    "\n",
    "* What is the long-run proportion of time I carry an umbrella?\n",
    "         \n",
    "* Suppose I get one more umbrella, so now I have a total of four.  How does that change the long-run proportion of times above?\n"
   ]
  },
  {
   "cell_type": "markdown",
   "metadata": {},
   "source": [
    "## The Gambler's Ruin Problem\n",
    "\n",
    "(Chapter 4.5.1 of Ross)\n",
    "\n",
    "You start with an initial fortune of $i$ and play the following game:\n",
    "\n",
    "You make sequential bets and win 1 with probability $p$ or lose 1 with probability $1 - p$.\n",
    "\n",
    "You stop when you are broke ($0$) or rich (total fortune of $N$).\n",
    "\n",
    "What is the probability you end up rich?"
   ]
  }
 ],
 "metadata": {
  "kernelspec": {
   "display_name": "Python 3",
   "language": "python",
   "name": "python3"
  },
  "language_info": {
   "codemirror_mode": {
    "name": "ipython",
    "version": 3
   },
   "file_extension": ".py",
   "mimetype": "text/x-python",
   "name": "python",
   "nbconvert_exporter": "python",
   "pygments_lexer": "ipython3",
   "version": "3.7.4"
  }
 },
 "nbformat": 4,
 "nbformat_minor": 2
}

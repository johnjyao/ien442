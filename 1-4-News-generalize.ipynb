{
 "cells": [
  {
   "cell_type": "markdown",
   "metadata": {},
   "source": [
    "# The Newsvendor Model - Section 4: Generalization\n",
    "\n",
    "In Section 3 we saw that the analysis we did for the (discrete) $\\text{Uniform}\\{0,\\dots,d\\}$ distribution can be adapted to the (continuous) $\\text{Exponential}(\\lambda)$ distribution.  If you were able to do Exercise 3.4, you saw that this further generalized to any non-negative, continuous demand distribution.  The optimal solution satisfies the “critical fractile formula”:\n",
    "\n",
    "$$ y^* = F^{-1}\\left(\\frac{p - c}{p}\\right) $$\n",
    "\n",
    "In this section, we will consider a more general model that can be adapted for variations of the basic Newsvendor.  In doing so, we will also provide some economic insight into the critical fractile formula and answer the question initially posed in Exercise 2.4: how can you think of the optimal order quantity in terms of balancing a tradeoff?"
   ]
  },
  {
   "cell_type": "markdown",
   "metadata": {},
   "source": [
    "## Rephrasing the Original Problem\n",
    "\n",
    "Recall that we had the following formula for profit:\n",
    "\n",
    "$$ \\text{profit} = \\underbrace{p \\min\\{y, D\\}}_{\\text{revenue}} - \\underbrace{c y}_{\\text{cost}} $$\n",
    "\n",
    "We're going to rewrite this slightly and introduce two new quantities: surplus and shortage.\n",
    "\n",
    "$$ \\text{profit} = (p - c) D - (p - c) \\max\\{D - y, 0\\} - c \\max\\{y - D, 0\\} $$\n",
    "\n",
    "**Remark:** How do we know these two equations equal?  You can verify it with a bunch of algebra or look at the graphs of the function.  See the part “Sales, Shortage, Surplus (Optional)” below.  You may want to review the definition of the $\\max$ function from the “Formulas” portion of Section 2.\n",
    "\n",
    "Let's interpret the new expressions (recall that $D$ is the demand and $c$ is the wholesale cost):\n",
    "\n",
    "* $(p - c)$ is the profit *per newspaper sold*.\n",
    "\n",
    "* $\\max\\{D - y, 0\\}$ is the “shortage” or the amount that demand $D$ exceeded our order quantity $y$.  This cannot be negative and decreases as $y$ increases.\n",
    "    \n",
    "* $\\max\\{y - D, 0\\}$ is the “surplus” or the number of newspapers unsold newspapers at the end of the day.  This cannot be negative and increases as $y$ increases.\n",
    "\n",
    "So we are writing the profit as:\n",
    "\n",
    "* ideal total profit $(p - c) D$: the total profit if we were clairvoyant and exactly meet demand.\n",
    "* total shortage cost $(p - c) \\max\\{D - y, 0\\}$: the profit missed when we under-ordering (compared to the ideal)\n",
    "* total surplus cost $c \\max\\{y - D, 0\\}$: the unnecessary cost of unsold newspapers when we over-order (compared to the ideal)\n",
    "\n",
    "Putting this together and using the shorthand notation $(D - y)^+ \\overset{\\mathsf{def}}{=} \\max\\{D - y, 0\\}$ and $(y - D)^+ \\overset{\\mathsf{def}}{=} \\max\\{y - D, 0\\}$ we have:\n",
    "\n",
    "$$ \\text{profit} = \\underbrace{(p - c) D}_{\\text{ideal total profit}} - \\underbrace{(p - c) (D - y)^+}_{\\text{total shortage cost}} - \\underbrace{c (y - D)^+}_{\\text{total surplus cost}} $$\n",
    "\n",
    "So, in order to maximize expected profit, we want to find the order quantity $y$ that maximizes\n",
    "\n",
    "$$ \\mathsf{E}[\\text{profit}] = (p - c) \\mathsf{E}[D] - (p - c)\\mathsf{E}\\left[(D - y)^+\\right] - c \\mathsf{E}\\left[(y - D)^+\\right] $$\n",
    "\n",
    "How have we been finding the optimal order quantity $y^*$?  The hint in Exercise 2.4 (which also worked in Exercises 3.2, 3.3, and 3.4) was to solve for where the derivative equals $0$.  In other words, the optimal order quantity $y^*$ has to satisfy\n",
    "\n",
    "$$ \\frac{d}{dy}\\left(\\mathsf{E}[\\text{profit}]\\right) = 0. $$\n",
    "\n",
    "Using our rephrased profit function\n",
    "\n",
    "$$ \\underbrace{-\\frac{d}{dy} \\left((p - c) \\mathsf{E}\\left[(D - y)^+\\right]\\right)}_{\\text{marginal cost of shortage}} = \\underbrace{\\frac{d}{dy} \\left(c \\mathsf{E}\\left[(y - D)^+\\right]\\right)}_{\\text{marginal cost of surplus}}. $$\n",
    "\n",
    "In words, the optimal order quantity represents the point at which the benefit of ordering more inventory (since it reduces the shortage cost) begins to be outweighted by the cost of that inventory (since it increases the surplus cost).  Moreover, this is very compactly represented (and easily calculated) as:\n",
    "\n",
    "$$ y^* = F^{-1}\\left(\\frac{\\text{shortage cost}}{\\text{shortage + surplus costs}}\\right) $$"
   ]
  },
  {
   "cell_type": "markdown",
   "metadata": {},
   "source": [
    "## General Formulation\n",
    "\n",
    "The more general formulation of the newsvendor considers the problem in terms of the parameters:\n",
    "\n",
    "* $a$ = per unit profit\n",
    "* $b$ = shortage cost (per unit)\n",
    "* $c$ = surplus cost (per unit)\n",
    "\n",
    "and\n",
    "\n",
    "$$ \\text{profit} = a D - b (D - y)^+ - c (y - D)^+ $$\n",
    "\n",
    "$$ \\mathsf{E}[\\text{profit}] = a \\mathsf{E}[D] - b \\mathsf{E}\\left[(D - y)^+\\right] - c \\mathsf{E}\\left[(y - D)^+\\right] $$\n",
    "\n",
    "with optimal order quantity given by the critical fractile formula\n",
    "\n",
    "$$y^* = F^{-1}\\left(\\frac{b}{b+c}\\right)$$\n",
    "\n",
    "We can recover the original problem with $a = b = \\text{retail price} - \\text{wholesale cost}$ and $c = \\text{wholesale cost}$.\n",
    "\n",
    "In Homework 1, you will derive yet another the critical fractile formula and apply it to a setting with a feature that does not fit into the original formulation.\n",
    "\n",
    "**Remark:** You may choose to use any problem formulation that can be applied to the problem at hand and is intuitive for you to understand.  For example, you may find that having a term for $\\text{sales} = \\min\\{y, D\\}$ is helpful -- you can build an expression for $\\text{profit}$ that includes $\\min\\{y, D\\}$, $(D - y)^+$, $(y - D)^+$, $D$, and $y$.  Just be sure to formulate the coefficients correctly."
   ]
  },
  {
   "cell_type": "markdown",
   "metadata": {},
   "source": [
    "## Visualization (Optional)\n",
    "\n",
    "The following code repeats some of the analysis you did in Sections 3 but using the general formulation with $\\text{shortage}$ and $\\text{surplus}$ (and their associated costs) instead of $\\text{sales}$ (and revenue).  If you use the same problem parameters, you should get the same answers and plots for $\\text{profit}$ and $\\mathsf{E}[\\text{profit}]$ (subject to numerical accuracy or simulation error).  For a direct comparison, copy and paste the relevant codeblocks from Section 3."
   ]
  },
  {
   "cell_type": "code",
   "execution_count": 1,
   "metadata": {},
   "outputs": [
    {
     "data": {
      "text/html": [
       "\n",
       "    <div class=\"bk-root\">\n",
       "        <a href=\"https://bokeh.pydata.org\" target=\"_blank\" class=\"bk-logo bk-logo-small bk-logo-notebook\"></a>\n",
       "        <span id=\"1001\">Loading BokehJS ...</span>\n",
       "    </div>"
      ]
     },
     "metadata": {},
     "output_type": "display_data"
    },
    {
     "data": {
      "application/javascript": [
       "\n",
       "(function(root) {\n",
       "  function now() {\n",
       "    return new Date();\n",
       "  }\n",
       "\n",
       "  var force = true;\n",
       "\n",
       "  if (typeof root._bokeh_onload_callbacks === \"undefined\" || force === true) {\n",
       "    root._bokeh_onload_callbacks = [];\n",
       "    root._bokeh_is_loading = undefined;\n",
       "  }\n",
       "\n",
       "  var JS_MIME_TYPE = 'application/javascript';\n",
       "  var HTML_MIME_TYPE = 'text/html';\n",
       "  var EXEC_MIME_TYPE = 'application/vnd.bokehjs_exec.v0+json';\n",
       "  var CLASS_NAME = 'output_bokeh rendered_html';\n",
       "\n",
       "  /**\n",
       "   * Render data to the DOM node\n",
       "   */\n",
       "  function render(props, node) {\n",
       "    var script = document.createElement(\"script\");\n",
       "    node.appendChild(script);\n",
       "  }\n",
       "\n",
       "  /**\n",
       "   * Handle when an output is cleared or removed\n",
       "   */\n",
       "  function handleClearOutput(event, handle) {\n",
       "    var cell = handle.cell;\n",
       "\n",
       "    var id = cell.output_area._bokeh_element_id;\n",
       "    var server_id = cell.output_area._bokeh_server_id;\n",
       "    // Clean up Bokeh references\n",
       "    if (id != null && id in Bokeh.index) {\n",
       "      Bokeh.index[id].model.document.clear();\n",
       "      delete Bokeh.index[id];\n",
       "    }\n",
       "\n",
       "    if (server_id !== undefined) {\n",
       "      // Clean up Bokeh references\n",
       "      var cmd = \"from bokeh.io.state import curstate; print(curstate().uuid_to_server['\" + server_id + \"'].get_sessions()[0].document.roots[0]._id)\";\n",
       "      cell.notebook.kernel.execute(cmd, {\n",
       "        iopub: {\n",
       "          output: function(msg) {\n",
       "            var id = msg.content.text.trim();\n",
       "            if (id in Bokeh.index) {\n",
       "              Bokeh.index[id].model.document.clear();\n",
       "              delete Bokeh.index[id];\n",
       "            }\n",
       "          }\n",
       "        }\n",
       "      });\n",
       "      // Destroy server and session\n",
       "      var cmd = \"import bokeh.io.notebook as ion; ion.destroy_server('\" + server_id + \"')\";\n",
       "      cell.notebook.kernel.execute(cmd);\n",
       "    }\n",
       "  }\n",
       "\n",
       "  /**\n",
       "   * Handle when a new output is added\n",
       "   */\n",
       "  function handleAddOutput(event, handle) {\n",
       "    var output_area = handle.output_area;\n",
       "    var output = handle.output;\n",
       "\n",
       "    // limit handleAddOutput to display_data with EXEC_MIME_TYPE content only\n",
       "    if ((output.output_type != \"display_data\") || (!output.data.hasOwnProperty(EXEC_MIME_TYPE))) {\n",
       "      return\n",
       "    }\n",
       "\n",
       "    var toinsert = output_area.element.find(\".\" + CLASS_NAME.split(' ')[0]);\n",
       "\n",
       "    if (output.metadata[EXEC_MIME_TYPE][\"id\"] !== undefined) {\n",
       "      toinsert[toinsert.length - 1].firstChild.textContent = output.data[JS_MIME_TYPE];\n",
       "      // store reference to embed id on output_area\n",
       "      output_area._bokeh_element_id = output.metadata[EXEC_MIME_TYPE][\"id\"];\n",
       "    }\n",
       "    if (output.metadata[EXEC_MIME_TYPE][\"server_id\"] !== undefined) {\n",
       "      var bk_div = document.createElement(\"div\");\n",
       "      bk_div.innerHTML = output.data[HTML_MIME_TYPE];\n",
       "      var script_attrs = bk_div.children[0].attributes;\n",
       "      for (var i = 0; i < script_attrs.length; i++) {\n",
       "        toinsert[toinsert.length - 1].firstChild.setAttribute(script_attrs[i].name, script_attrs[i].value);\n",
       "      }\n",
       "      // store reference to server id on output_area\n",
       "      output_area._bokeh_server_id = output.metadata[EXEC_MIME_TYPE][\"server_id\"];\n",
       "    }\n",
       "  }\n",
       "\n",
       "  function register_renderer(events, OutputArea) {\n",
       "\n",
       "    function append_mime(data, metadata, element) {\n",
       "      // create a DOM node to render to\n",
       "      var toinsert = this.create_output_subarea(\n",
       "        metadata,\n",
       "        CLASS_NAME,\n",
       "        EXEC_MIME_TYPE\n",
       "      );\n",
       "      this.keyboard_manager.register_events(toinsert);\n",
       "      // Render to node\n",
       "      var props = {data: data, metadata: metadata[EXEC_MIME_TYPE]};\n",
       "      render(props, toinsert[toinsert.length - 1]);\n",
       "      element.append(toinsert);\n",
       "      return toinsert\n",
       "    }\n",
       "\n",
       "    /* Handle when an output is cleared or removed */\n",
       "    events.on('clear_output.CodeCell', handleClearOutput);\n",
       "    events.on('delete.Cell', handleClearOutput);\n",
       "\n",
       "    /* Handle when a new output is added */\n",
       "    events.on('output_added.OutputArea', handleAddOutput);\n",
       "\n",
       "    /**\n",
       "     * Register the mime type and append_mime function with output_area\n",
       "     */\n",
       "    OutputArea.prototype.register_mime_type(EXEC_MIME_TYPE, append_mime, {\n",
       "      /* Is output safe? */\n",
       "      safe: true,\n",
       "      /* Index of renderer in `output_area.display_order` */\n",
       "      index: 0\n",
       "    });\n",
       "  }\n",
       "\n",
       "  // register the mime type if in Jupyter Notebook environment and previously unregistered\n",
       "  if (root.Jupyter !== undefined) {\n",
       "    var events = require('base/js/events');\n",
       "    var OutputArea = require('notebook/js/outputarea').OutputArea;\n",
       "\n",
       "    if (OutputArea.prototype.mime_types().indexOf(EXEC_MIME_TYPE) == -1) {\n",
       "      register_renderer(events, OutputArea);\n",
       "    }\n",
       "  }\n",
       "\n",
       "  \n",
       "  if (typeof (root._bokeh_timeout) === \"undefined\" || force === true) {\n",
       "    root._bokeh_timeout = Date.now() + 5000;\n",
       "    root._bokeh_failed_load = false;\n",
       "  }\n",
       "\n",
       "  var NB_LOAD_WARNING = {'data': {'text/html':\n",
       "     \"<div style='background-color: #fdd'>\\n\"+\n",
       "     \"<p>\\n\"+\n",
       "     \"BokehJS does not appear to have successfully loaded. If loading BokehJS from CDN, this \\n\"+\n",
       "     \"may be due to a slow or bad network connection. Possible fixes:\\n\"+\n",
       "     \"</p>\\n\"+\n",
       "     \"<ul>\\n\"+\n",
       "     \"<li>re-rerun `output_notebook()` to attempt to load from CDN again, or</li>\\n\"+\n",
       "     \"<li>use INLINE resources instead, as so:</li>\\n\"+\n",
       "     \"</ul>\\n\"+\n",
       "     \"<code>\\n\"+\n",
       "     \"from bokeh.resources import INLINE\\n\"+\n",
       "     \"output_notebook(resources=INLINE)\\n\"+\n",
       "     \"</code>\\n\"+\n",
       "     \"</div>\"}};\n",
       "\n",
       "  function display_loaded() {\n",
       "    var el = document.getElementById(\"1001\");\n",
       "    if (el != null) {\n",
       "      el.textContent = \"BokehJS is loading...\";\n",
       "    }\n",
       "    if (root.Bokeh !== undefined) {\n",
       "      if (el != null) {\n",
       "        el.textContent = \"BokehJS \" + root.Bokeh.version + \" successfully loaded.\";\n",
       "      }\n",
       "    } else if (Date.now() < root._bokeh_timeout) {\n",
       "      setTimeout(display_loaded, 100)\n",
       "    }\n",
       "  }\n",
       "\n",
       "\n",
       "  function run_callbacks() {\n",
       "    try {\n",
       "      root._bokeh_onload_callbacks.forEach(function(callback) {\n",
       "        if (callback != null)\n",
       "          callback();\n",
       "      });\n",
       "    } finally {\n",
       "      delete root._bokeh_onload_callbacks\n",
       "    }\n",
       "    console.debug(\"Bokeh: all callbacks have finished\");\n",
       "  }\n",
       "\n",
       "  function load_libs(css_urls, js_urls, callback) {\n",
       "    if (css_urls == null) css_urls = [];\n",
       "    if (js_urls == null) js_urls = [];\n",
       "\n",
       "    root._bokeh_onload_callbacks.push(callback);\n",
       "    if (root._bokeh_is_loading > 0) {\n",
       "      console.debug(\"Bokeh: BokehJS is being loaded, scheduling callback at\", now());\n",
       "      return null;\n",
       "    }\n",
       "    if (js_urls == null || js_urls.length === 0) {\n",
       "      run_callbacks();\n",
       "      return null;\n",
       "    }\n",
       "    console.debug(\"Bokeh: BokehJS not loaded, scheduling load and callback at\", now());\n",
       "    root._bokeh_is_loading = css_urls.length + js_urls.length;\n",
       "\n",
       "    function on_load() {\n",
       "      root._bokeh_is_loading--;\n",
       "      if (root._bokeh_is_loading === 0) {\n",
       "        console.debug(\"Bokeh: all BokehJS libraries/stylesheets loaded\");\n",
       "        run_callbacks()\n",
       "      }\n",
       "    }\n",
       "\n",
       "    function on_error() {\n",
       "      console.error(\"failed to load \" + url);\n",
       "    }\n",
       "\n",
       "    for (var i = 0; i < css_urls.length; i++) {\n",
       "      var url = css_urls[i];\n",
       "      const element = document.createElement(\"link\");\n",
       "      element.onload = on_load;\n",
       "      element.onerror = on_error;\n",
       "      element.rel = \"stylesheet\";\n",
       "      element.type = \"text/css\";\n",
       "      element.href = url;\n",
       "      console.debug(\"Bokeh: injecting link tag for BokehJS stylesheet: \", url);\n",
       "      document.body.appendChild(element);\n",
       "    }\n",
       "\n",
       "    for (var i = 0; i < js_urls.length; i++) {\n",
       "      var url = js_urls[i];\n",
       "      var element = document.createElement('script');\n",
       "      element.onload = on_load;\n",
       "      element.onerror = on_error;\n",
       "      element.async = false;\n",
       "      element.src = url;\n",
       "      console.debug(\"Bokeh: injecting script tag for BokehJS library: \", url);\n",
       "      document.head.appendChild(element);\n",
       "    }\n",
       "  };var element = document.getElementById(\"1001\");\n",
       "  if (element == null) {\n",
       "    console.error(\"Bokeh: ERROR: autoload.js configured with elementid '1001' but no matching script tag was found. \")\n",
       "    return false;\n",
       "  }\n",
       "\n",
       "  function inject_raw_css(css) {\n",
       "    const element = document.createElement(\"style\");\n",
       "    element.appendChild(document.createTextNode(css));\n",
       "    document.body.appendChild(element);\n",
       "  }\n",
       "\n",
       "  var js_urls = [\"https://cdn.pydata.org/bokeh/release/bokeh-1.3.4.min.js\", \"https://cdn.pydata.org/bokeh/release/bokeh-widgets-1.3.4.min.js\", \"https://cdn.pydata.org/bokeh/release/bokeh-tables-1.3.4.min.js\", \"https://cdn.pydata.org/bokeh/release/bokeh-gl-1.3.4.min.js\"];\n",
       "  var css_urls = [];\n",
       "\n",
       "  var inline_js = [\n",
       "    function(Bokeh) {\n",
       "      Bokeh.set_log_level(\"info\");\n",
       "    },\n",
       "    \n",
       "    function(Bokeh) {\n",
       "      \n",
       "    },\n",
       "    function(Bokeh) {} // ensure no trailing comma for IE\n",
       "  ];\n",
       "\n",
       "  function run_inline_js() {\n",
       "    \n",
       "    if ((root.Bokeh !== undefined) || (force === true)) {\n",
       "      for (var i = 0; i < inline_js.length; i++) {\n",
       "        inline_js[i].call(root, root.Bokeh);\n",
       "      }if (force === true) {\n",
       "        display_loaded();\n",
       "      }} else if (Date.now() < root._bokeh_timeout) {\n",
       "      setTimeout(run_inline_js, 100);\n",
       "    } else if (!root._bokeh_failed_load) {\n",
       "      console.log(\"Bokeh: BokehJS failed to load within specified timeout.\");\n",
       "      root._bokeh_failed_load = true;\n",
       "    } else if (force !== true) {\n",
       "      var cell = $(document.getElementById(\"1001\")).parents('.cell').data().cell;\n",
       "      cell.output_area.append_execute_result(NB_LOAD_WARNING)\n",
       "    }\n",
       "\n",
       "  }\n",
       "\n",
       "  if (root._bokeh_is_loading === 0) {\n",
       "    console.debug(\"Bokeh: BokehJS loaded, going straight to plotting\");\n",
       "    run_inline_js();\n",
       "  } else {\n",
       "    load_libs(css_urls, js_urls, function() {\n",
       "      console.debug(\"Bokeh: BokehJS plotting callback run at\", now());\n",
       "      run_inline_js();\n",
       "    });\n",
       "  }\n",
       "}(window));"
      ],
      "application/vnd.bokehjs_load.v0+json": "\n(function(root) {\n  function now() {\n    return new Date();\n  }\n\n  var force = true;\n\n  if (typeof root._bokeh_onload_callbacks === \"undefined\" || force === true) {\n    root._bokeh_onload_callbacks = [];\n    root._bokeh_is_loading = undefined;\n  }\n\n  \n\n  \n  if (typeof (root._bokeh_timeout) === \"undefined\" || force === true) {\n    root._bokeh_timeout = Date.now() + 5000;\n    root._bokeh_failed_load = false;\n  }\n\n  var NB_LOAD_WARNING = {'data': {'text/html':\n     \"<div style='background-color: #fdd'>\\n\"+\n     \"<p>\\n\"+\n     \"BokehJS does not appear to have successfully loaded. If loading BokehJS from CDN, this \\n\"+\n     \"may be due to a slow or bad network connection. Possible fixes:\\n\"+\n     \"</p>\\n\"+\n     \"<ul>\\n\"+\n     \"<li>re-rerun `output_notebook()` to attempt to load from CDN again, or</li>\\n\"+\n     \"<li>use INLINE resources instead, as so:</li>\\n\"+\n     \"</ul>\\n\"+\n     \"<code>\\n\"+\n     \"from bokeh.resources import INLINE\\n\"+\n     \"output_notebook(resources=INLINE)\\n\"+\n     \"</code>\\n\"+\n     \"</div>\"}};\n\n  function display_loaded() {\n    var el = document.getElementById(\"1001\");\n    if (el != null) {\n      el.textContent = \"BokehJS is loading...\";\n    }\n    if (root.Bokeh !== undefined) {\n      if (el != null) {\n        el.textContent = \"BokehJS \" + root.Bokeh.version + \" successfully loaded.\";\n      }\n    } else if (Date.now() < root._bokeh_timeout) {\n      setTimeout(display_loaded, 100)\n    }\n  }\n\n\n  function run_callbacks() {\n    try {\n      root._bokeh_onload_callbacks.forEach(function(callback) {\n        if (callback != null)\n          callback();\n      });\n    } finally {\n      delete root._bokeh_onload_callbacks\n    }\n    console.debug(\"Bokeh: all callbacks have finished\");\n  }\n\n  function load_libs(css_urls, js_urls, callback) {\n    if (css_urls == null) css_urls = [];\n    if (js_urls == null) js_urls = [];\n\n    root._bokeh_onload_callbacks.push(callback);\n    if (root._bokeh_is_loading > 0) {\n      console.debug(\"Bokeh: BokehJS is being loaded, scheduling callback at\", now());\n      return null;\n    }\n    if (js_urls == null || js_urls.length === 0) {\n      run_callbacks();\n      return null;\n    }\n    console.debug(\"Bokeh: BokehJS not loaded, scheduling load and callback at\", now());\n    root._bokeh_is_loading = css_urls.length + js_urls.length;\n\n    function on_load() {\n      root._bokeh_is_loading--;\n      if (root._bokeh_is_loading === 0) {\n        console.debug(\"Bokeh: all BokehJS libraries/stylesheets loaded\");\n        run_callbacks()\n      }\n    }\n\n    function on_error() {\n      console.error(\"failed to load \" + url);\n    }\n\n    for (var i = 0; i < css_urls.length; i++) {\n      var url = css_urls[i];\n      const element = document.createElement(\"link\");\n      element.onload = on_load;\n      element.onerror = on_error;\n      element.rel = \"stylesheet\";\n      element.type = \"text/css\";\n      element.href = url;\n      console.debug(\"Bokeh: injecting link tag for BokehJS stylesheet: \", url);\n      document.body.appendChild(element);\n    }\n\n    for (var i = 0; i < js_urls.length; i++) {\n      var url = js_urls[i];\n      var element = document.createElement('script');\n      element.onload = on_load;\n      element.onerror = on_error;\n      element.async = false;\n      element.src = url;\n      console.debug(\"Bokeh: injecting script tag for BokehJS library: \", url);\n      document.head.appendChild(element);\n    }\n  };var element = document.getElementById(\"1001\");\n  if (element == null) {\n    console.error(\"Bokeh: ERROR: autoload.js configured with elementid '1001' but no matching script tag was found. \")\n    return false;\n  }\n\n  function inject_raw_css(css) {\n    const element = document.createElement(\"style\");\n    element.appendChild(document.createTextNode(css));\n    document.body.appendChild(element);\n  }\n\n  var js_urls = [\"https://cdn.pydata.org/bokeh/release/bokeh-1.3.4.min.js\", \"https://cdn.pydata.org/bokeh/release/bokeh-widgets-1.3.4.min.js\", \"https://cdn.pydata.org/bokeh/release/bokeh-tables-1.3.4.min.js\", \"https://cdn.pydata.org/bokeh/release/bokeh-gl-1.3.4.min.js\"];\n  var css_urls = [];\n\n  var inline_js = [\n    function(Bokeh) {\n      Bokeh.set_log_level(\"info\");\n    },\n    \n    function(Bokeh) {\n      \n    },\n    function(Bokeh) {} // ensure no trailing comma for IE\n  ];\n\n  function run_inline_js() {\n    \n    if ((root.Bokeh !== undefined) || (force === true)) {\n      for (var i = 0; i < inline_js.length; i++) {\n        inline_js[i].call(root, root.Bokeh);\n      }if (force === true) {\n        display_loaded();\n      }} else if (Date.now() < root._bokeh_timeout) {\n      setTimeout(run_inline_js, 100);\n    } else if (!root._bokeh_failed_load) {\n      console.log(\"Bokeh: BokehJS failed to load within specified timeout.\");\n      root._bokeh_failed_load = true;\n    } else if (force !== true) {\n      var cell = $(document.getElementById(\"1001\")).parents('.cell').data().cell;\n      cell.output_area.append_execute_result(NB_LOAD_WARNING)\n    }\n\n  }\n\n  if (root._bokeh_is_loading === 0) {\n    console.debug(\"Bokeh: BokehJS loaded, going straight to plotting\");\n    run_inline_js();\n  } else {\n    load_libs(css_urls, js_urls, function() {\n      console.debug(\"Bokeh: BokehJS plotting callback run at\", now());\n      run_inline_js();\n    });\n  }\n}(window));"
     },
     "metadata": {},
     "output_type": "display_data"
    }
   ],
   "source": [
    "# Import Python packages\n",
    "import newsvendor\n",
    "import news_plot"
   ]
  },
  {
   "cell_type": "code",
   "execution_count": 2,
   "metadata": {
    "scrolled": false
   },
   "outputs": [
    {
     "data": {
      "application/vnd.jupyter.widget-view+json": {
       "model_id": "0c532f758ba0432f8b8206df8f6a9b03",
       "version_major": 2,
       "version_minor": 0
      },
      "text/plain": [
       "interactive(children=(IntSlider(value=15, description='Order Qty', max=25), Output()), _dom_classes=('widget-i…"
      ]
     },
     "metadata": {},
     "output_type": "display_data"
    },
    {
     "data": {
      "text/html": [
       "\n",
       "\n",
       "\n",
       "\n",
       "\n",
       "\n",
       "  <div class=\"bk-root\" id=\"33a5760f-09f5-41ca-9f0b-f958063edb02\" data-root-id=\"1168\"></div>\n"
      ]
     },
     "metadata": {},
     "output_type": "display_data"
    },
    {
     "data": {
      "application/javascript": [
       "(function(root) {\n",
       "  function embed_document(root) {\n",
       "    \n",
       "  var docs_json = {\"cb95b0bc-c340-4c88-a1cd-47b8fe7e2a47\":{\"roots\":{\"references\":[{\"attributes\":{\"children\":[{\"id\":\"1167\",\"type\":\"ToolbarBox\"},{\"id\":\"1165\",\"type\":\"GridBox\"}]},\"id\":\"1168\",\"type\":\"Column\"},{\"attributes\":{},\"id\":\"1058\",\"type\":\"HelpTool\"},{\"attributes\":{\"toolbar\":{\"id\":\"1166\",\"type\":\"ProxyToolbar\"},\"toolbar_location\":\"above\"},\"id\":\"1167\",\"type\":\"ToolbarBox\"},{\"attributes\":{\"active_drag\":\"auto\",\"active_inspect\":\"auto\",\"active_multi\":null,\"active_scroll\":\"auto\",\"active_tap\":\"auto\",\"tools\":[{\"id\":\"1053\",\"type\":\"PanTool\"},{\"id\":\"1054\",\"type\":\"WheelZoomTool\"},{\"id\":\"1055\",\"type\":\"BoxZoomTool\"},{\"id\":\"1056\",\"type\":\"SaveTool\"},{\"id\":\"1057\",\"type\":\"ResetTool\"},{\"id\":\"1058\",\"type\":\"HelpTool\"}]},\"id\":\"1059\",\"type\":\"Toolbar\"},{\"attributes\":{},\"id\":\"1017\",\"type\":\"BasicTicker\"},{\"attributes\":{\"active_drag\":\"auto\",\"active_inspect\":\"auto\",\"active_multi\":null,\"active_scroll\":\"auto\",\"active_tap\":\"auto\",\"tools\":[{\"id\":\"1021\",\"type\":\"PanTool\"},{\"id\":\"1022\",\"type\":\"WheelZoomTool\"},{\"id\":\"1023\",\"type\":\"BoxZoomTool\"},{\"id\":\"1024\",\"type\":\"SaveTool\"},{\"id\":\"1025\",\"type\":\"ResetTool\"},{\"id\":\"1026\",\"type\":\"HelpTool\"}]},\"id\":\"1027\",\"type\":\"Toolbar\"},{\"attributes\":{\"axis_label\":\"profit\",\"formatter\":{\"id\":\"1157\",\"type\":\"BasicTickFormatter\"},\"ticker\":{\"id\":\"1076\",\"type\":\"BasicTicker\"}},\"id\":\"1075\",\"type\":\"LinearAxis\"},{\"attributes\":{\"dimension\":1,\"ticker\":{\"id\":\"1017\",\"type\":\"BasicTicker\"}},\"id\":\"1020\",\"type\":\"Grid\"},{\"attributes\":{\"callback\":null,\"data\":{\"top\":[35,30,37,32,22,26,18,12,17,15,11,10,13,11,6,11,3,4,3,4,5,5,7,2,3,2,1,0,3,3,1,3,1,0,1,1,1,0,0,0,0,0,1,1,0,0,0,2,0,0,0,0,0,0,0,0,0,1,0,0,0,0,0,0,0,0,0,0,0,0,0,0,0,0,0,0,0,0,0,1],\"x\":{\"__ndarray__\":\"pb3BFyZT3T93vp8aL933P8ZLN4lB4ANAN4lBYOXQC0BU46WbxOARQJqZmZmZ2RVA30+Nl27SGUAlBoGVQ8sdQDZeukkM4iBAWDm0yHbeIkB6FK5H4dokQJ7vp8ZL1yZAwMqhRbbTKEDkpZvEINAqQAaBlUOLzCxAKVyPwvXILkDC9Shcj2IwQHA9CtejYDFAAiuHFtleMkCUGARWDl0zQCUGgZVDWzRAtvP91HhZNUBI4XoUrlc2QNnO91PjVTdAarx0kxhUOED8qfHSTVI5QI6XbhKDUDpAHoXrUbhOO0DMzMzMzEw8QHsUrkfhSj1ADAIrhxZJPkCe76fGS0c/QJhuEoPAIkBAYOXQItuhQEApXI/C9SBBQPLSTWIQoEFAukkMAisfQkCDwMqhRZ5CQEw3iUFgHUNAFK5H4XqcQ0DeJAaBlRtEQLTIdr6fmkRAjGzn+6kZRUBU46WbxJhFQBxaZDvfF0ZA5tAi2/mWRkCuR+F6FBZHQHa+nxovlUdAQDVeukkUSEAIrBxaZJNIQNEi2/l+EklAmpmZmZmRSUBiEFg5tBBKQDq0yHa+j0pAEFg5tMgOS0DZzvdT441LQKJFtvP9DExAarx0kxiMTEA0MzMzMwtNQPyp8dJNik1AxCCwcmgJTkCOl24Sg4hOQFYOLbKdB09AHoXrUbiGT0D0/dR46QJQQFg5tMh2QlBARIts5/uBUEAv3SQGgcFQQJQYBFYOAVFA+FPjpZtAUUBcj8L1KIBRQMDKoUW2v1FAJQaBlUP/UUCJQWDl0D5SQO58PzVeflJAUrgeheu9UkC28/3UeP1SQBov3SQGPVNABoGVQ4t8U0Dy0k1iELxTQA==\",\"dtype\":\"float64\",\"shape\":[80]}},\"selected\":{\"id\":\"1142\",\"type\":\"Selection\"},\"selection_policy\":{\"id\":\"1141\",\"type\":\"UnionRenderers\"}},\"id\":\"1098\",\"type\":\"ColumnDataSource\"},{\"attributes\":{},\"id\":\"1039\",\"type\":\"LinearScale\"},{\"attributes\":{\"callback\":null},\"id\":\"1035\",\"type\":\"DataRange1d\"},{\"attributes\":{},\"id\":\"1081\",\"type\":\"BasicTicker\"},{\"attributes\":{\"callback\":null},\"id\":\"1037\",\"type\":\"DataRange1d\"},{\"attributes\":{},\"id\":\"1076\",\"type\":\"BasicTicker\"},{\"attributes\":{\"ticker\":{\"id\":\"1076\",\"type\":\"BasicTicker\"}},\"id\":\"1079\",\"type\":\"Grid\"},{\"attributes\":{},\"id\":\"1021\",\"type\":\"PanTool\"},{\"attributes\":{\"dimension\":1,\"ticker\":{\"id\":\"1081\",\"type\":\"BasicTicker\"}},\"id\":\"1084\",\"type\":\"Grid\"},{\"attributes\":{\"axis_label\":\"count\",\"formatter\":{\"id\":\"1159\",\"type\":\"BasicTickFormatter\"},\"ticker\":{\"id\":\"1081\",\"type\":\"BasicTicker\"}},\"id\":\"1080\",\"type\":\"LinearAxis\"},{\"attributes\":{\"below\":[{\"id\":\"1011\",\"type\":\"LinearAxis\"}],\"center\":[{\"id\":\"1015\",\"type\":\"Grid\"},{\"id\":\"1020\",\"type\":\"Grid\"}],\"left\":[{\"id\":\"1016\",\"type\":\"LinearAxis\"}],\"plot_height\":300,\"plot_width\":300,\"renderers\":[{\"id\":\"1112\",\"type\":\"GlyphRenderer\"}],\"title\":{\"id\":\"1114\",\"type\":\"Title\"},\"toolbar\":{\"id\":\"1027\",\"type\":\"Toolbar\"},\"toolbar_location\":null,\"x_range\":{\"id\":\"1003\",\"type\":\"DataRange1d\"},\"x_scale\":{\"id\":\"1007\",\"type\":\"LinearScale\"},\"y_range\":{\"id\":\"1005\",\"type\":\"DataRange1d\"},\"y_scale\":{\"id\":\"1009\",\"type\":\"LinearScale\"}},\"id\":\"1002\",\"subtype\":\"Figure\",\"type\":\"Plot\"},{\"attributes\":{},\"id\":\"1022\",\"type\":\"WheelZoomTool\"},{\"attributes\":{\"overlay\":{\"id\":\"1143\",\"type\":\"BoxAnnotation\"}},\"id\":\"1023\",\"type\":\"BoxZoomTool\"},{\"attributes\":{},\"id\":\"1024\",\"type\":\"SaveTool\"},{\"attributes\":{},\"id\":\"1025\",\"type\":\"ResetTool\"},{\"attributes\":{\"active_drag\":\"auto\",\"active_inspect\":\"auto\",\"active_multi\":null,\"active_scroll\":\"auto\",\"active_tap\":\"auto\",\"tools\":[{\"id\":\"1085\",\"type\":\"PanTool\"},{\"id\":\"1086\",\"type\":\"WheelZoomTool\"},{\"id\":\"1087\",\"type\":\"BoxZoomTool\"},{\"id\":\"1088\",\"type\":\"SaveTool\"},{\"id\":\"1089\",\"type\":\"ResetTool\"},{\"id\":\"1090\",\"type\":\"HelpTool\"}]},\"id\":\"1091\",\"type\":\"Toolbar\"},{\"attributes\":{},\"id\":\"1026\",\"type\":\"HelpTool\"},{\"attributes\":{},\"id\":\"1085\",\"type\":\"PanTool\"},{\"attributes\":{},\"id\":\"1012\",\"type\":\"BasicTicker\"},{\"attributes\":{},\"id\":\"1086\",\"type\":\"WheelZoomTool\"},{\"attributes\":{},\"id\":\"1041\",\"type\":\"LinearScale\"},{\"attributes\":{\"overlay\":{\"id\":\"1163\",\"type\":\"BoxAnnotation\"}},\"id\":\"1087\",\"type\":\"BoxZoomTool\"},{\"attributes\":{\"axis_label\":\"sales\",\"formatter\":{\"id\":\"1147\",\"type\":\"BasicTickFormatter\"},\"ticker\":{\"id\":\"1044\",\"type\":\"BasicTicker\"}},\"id\":\"1043\",\"type\":\"LinearAxis\"},{\"attributes\":{},\"id\":\"1088\",\"type\":\"SaveTool\"},{\"attributes\":{},\"id\":\"1137\",\"type\":\"BasicTickFormatter\"},{\"attributes\":{},\"id\":\"1089\",\"type\":\"ResetTool\"},{\"attributes\":{},\"id\":\"1049\",\"type\":\"BasicTicker\"},{\"attributes\":{},\"id\":\"1090\",\"type\":\"HelpTool\"},{\"attributes\":{},\"id\":\"1044\",\"type\":\"BasicTicker\"},{\"attributes\":{},\"id\":\"1139\",\"type\":\"BasicTickFormatter\"},{\"attributes\":{\"ticker\":{\"id\":\"1044\",\"type\":\"BasicTicker\"}},\"id\":\"1047\",\"type\":\"Grid\"},{\"attributes\":{\"bottom_units\":\"screen\",\"fill_alpha\":{\"value\":0.5},\"fill_color\":{\"value\":\"lightgrey\"},\"left_units\":\"screen\",\"level\":\"overlay\",\"line_alpha\":{\"value\":1.0},\"line_color\":{\"value\":\"black\"},\"line_dash\":[4,4],\"line_width\":{\"value\":2},\"render_mode\":\"css\",\"right_units\":\"screen\",\"top_units\":\"screen\"},\"id\":\"1163\",\"type\":\"BoxAnnotation\"},{\"attributes\":{\"callback\":null},\"id\":\"1069\",\"type\":\"DataRange1d\"},{\"attributes\":{\"dimension\":1,\"ticker\":{\"id\":\"1049\",\"type\":\"BasicTicker\"}},\"id\":\"1052\",\"type\":\"Grid\"},{\"attributes\":{\"axis_label\":\"count\",\"formatter\":{\"id\":\"1149\",\"type\":\"BasicTickFormatter\"},\"ticker\":{\"id\":\"1049\",\"type\":\"BasicTicker\"}},\"id\":\"1048\",\"type\":\"LinearAxis\"},{\"attributes\":{\"callback\":null},\"id\":\"1003\",\"type\":\"DataRange1d\"},{\"attributes\":{\"callback\":null},\"id\":\"1067\",\"type\":\"DataRange1d\"},{\"attributes\":{\"callback\":null,\"data\":{\"top\":[11,5,4,6,7,6,7,7,4,4,5,11,3,6,8,10,7,7,3,4,6,7,4,3,7,4,3,8,5,3,4,6,4,3,4,2,2,2,2,3,2,2,3,4,1,3,5,5,0,2,4,2,5,2,2,2,2,2,1,1,3,1,3,5,0,3,2,1,3,1,2,2,3,3,4,0,0,1,1,70],\"x\":{\"__ndarray__\":\"Vp+rrdhftj/qJjEIrBzSP+kmMQisHN4/dJMYBFYO5T90kxgEVg7rP7pJDAIrh/A/ukkMAiuH8z+6SQwCK4f2P7pJDAIrh/k/ukkMAiuH/D+6SQwCK4f/P90kBoGVQwFA3SQGgZXDAkDC9Shcj0IEQML1KFyPwgVAwvUoXI9CB0DC9Shcj8IIQML1KFyPQgpAwvUoXI/CC0DC9Shcj0INQML1KFyPwg5A4noUrkchEEDiehSuR+EQQOJ6FK5HoRFA4noUrkdhEkDiehSuRyETQOJ6FK5H4RNA4noUrkehFEDiehSuR2EVQOJ6FK5HIRZA4noUrkfhFkDiehSuR6EXQOJ6FK5HYRhA4noUrkchGUDiehSuR+EZQOJ6FK5HoRpAVOOlm8RgG0BU46WbxCAcQFTjpZvE4BxAVOOlm8SgHUBU46WbxGAeQFTjpZvEIB9AVOOlm8TgH0Cq8dJNYlAgQKrx0k1isCBAqvHSTWIQIUCq8dJNYnAhQKrx0k1i0CFAqvHSTWIwIkCq8dJNYpAiQKrx0k1i8CJAqvHSTWJQI0Cq8dJNYrAjQKrx0k1iECRAqvHSTWJwJECq8dJNYtAkQKrx0k1iMCVA5KWbxCCQJUDkpZvEIPAlQOSlm8QgUCZA5KWbxCCwJkDkpZvEIBAnQOSlm8QgcCdA5KWbxCDQJ0DkpZvEIDAoQOSlm8QgkChA5KWbxCDwKEDkpZvEIFApQOSlm8QgsClA5KWbxCAQKkDkpZvEIHAqQOSlm8Qg0CpA5KWbxCAwK0DkpZvEIJArQOSlm8Qg8CtA5KWbxCBQLEDkpZvEILAsQOSlm8QgEC1A5KWbxCBwLUDkpZvEINAtQA==\",\"dtype\":\"float64\",\"shape\":[80]}},\"selected\":{\"id\":\"1152\",\"type\":\"Selection\"},\"selection_policy\":{\"id\":\"1151\",\"type\":\"UnionRenderers\"}},\"id\":\"1100\",\"type\":\"ColumnDataSource\"},{\"attributes\":{},\"id\":\"1147\",\"type\":\"BasicTickFormatter\"},{\"attributes\":{\"fill_color\":{\"value\":\"blue\"},\"top\":{\"field\":\"top\"},\"width\":{\"value\":0.1876775},\"x\":{\"field\":\"x\"}},\"id\":\"1101\",\"type\":\"VBar\"},{\"attributes\":{},\"id\":\"1149\",\"type\":\"BasicTickFormatter\"},{\"attributes\":{\"tools\":[{\"id\":\"1021\",\"type\":\"PanTool\"},{\"id\":\"1022\",\"type\":\"WheelZoomTool\"},{\"id\":\"1023\",\"type\":\"BoxZoomTool\"},{\"id\":\"1024\",\"type\":\"SaveTool\"},{\"id\":\"1025\",\"type\":\"ResetTool\"},{\"id\":\"1026\",\"type\":\"HelpTool\"},{\"id\":\"1053\",\"type\":\"PanTool\"},{\"id\":\"1054\",\"type\":\"WheelZoomTool\"},{\"id\":\"1055\",\"type\":\"BoxZoomTool\"},{\"id\":\"1056\",\"type\":\"SaveTool\"},{\"id\":\"1057\",\"type\":\"ResetTool\"},{\"id\":\"1058\",\"type\":\"HelpTool\"},{\"id\":\"1085\",\"type\":\"PanTool\"},{\"id\":\"1086\",\"type\":\"WheelZoomTool\"},{\"id\":\"1087\",\"type\":\"BoxZoomTool\"},{\"id\":\"1088\",\"type\":\"SaveTool\"},{\"id\":\"1089\",\"type\":\"ResetTool\"},{\"id\":\"1090\",\"type\":\"HelpTool\"}]},\"id\":\"1166\",\"type\":\"ProxyToolbar\"},{\"attributes\":{\"below\":[{\"id\":\"1075\",\"type\":\"LinearAxis\"}],\"center\":[{\"id\":\"1079\",\"type\":\"Grid\"},{\"id\":\"1084\",\"type\":\"Grid\"}],\"left\":[{\"id\":\"1080\",\"type\":\"LinearAxis\"}],\"plot_height\":300,\"plot_width\":300,\"renderers\":[{\"id\":\"1118\",\"type\":\"GlyphRenderer\"}],\"title\":{\"id\":\"1120\",\"type\":\"Title\"},\"toolbar\":{\"id\":\"1091\",\"type\":\"Toolbar\"},\"toolbar_location\":null,\"x_range\":{\"id\":\"1067\",\"type\":\"DataRange1d\"},\"x_scale\":{\"id\":\"1071\",\"type\":\"LinearScale\"},\"y_range\":{\"id\":\"1069\",\"type\":\"DataRange1d\"},\"y_scale\":{\"id\":\"1073\",\"type\":\"LinearScale\"}},\"id\":\"1066\",\"subtype\":\"Figure\",\"type\":\"Plot\"},{\"attributes\":{},\"id\":\"1159\",\"type\":\"BasicTickFormatter\"},{\"attributes\":{\"below\":[{\"id\":\"1043\",\"type\":\"LinearAxis\"}],\"center\":[{\"id\":\"1047\",\"type\":\"Grid\"},{\"id\":\"1052\",\"type\":\"Grid\"}],\"left\":[{\"id\":\"1048\",\"type\":\"LinearAxis\"}],\"plot_height\":300,\"plot_width\":300,\"renderers\":[{\"id\":\"1115\",\"type\":\"GlyphRenderer\"}],\"title\":{\"id\":\"1117\",\"type\":\"Title\"},\"toolbar\":{\"id\":\"1059\",\"type\":\"Toolbar\"},\"toolbar_location\":null,\"x_range\":{\"id\":\"1035\",\"type\":\"DataRange1d\"},\"x_scale\":{\"id\":\"1039\",\"type\":\"LinearScale\"},\"y_range\":{\"id\":\"1037\",\"type\":\"DataRange1d\"},\"y_scale\":{\"id\":\"1041\",\"type\":\"LinearScale\"}},\"id\":\"1034\",\"subtype\":\"Figure\",\"type\":\"Plot\"},{\"attributes\":{\"axis_label\":\"count\",\"formatter\":{\"id\":\"1139\",\"type\":\"BasicTickFormatter\"},\"ticker\":{\"id\":\"1017\",\"type\":\"BasicTicker\"}},\"id\":\"1016\",\"type\":\"LinearAxis\"},{\"attributes\":{},\"id\":\"1073\",\"type\":\"LinearScale\"},{\"attributes\":{},\"id\":\"1053\",\"type\":\"PanTool\"},{\"attributes\":{\"bottom_units\":\"screen\",\"fill_alpha\":{\"value\":0.5},\"fill_color\":{\"value\":\"lightgrey\"},\"left_units\":\"screen\",\"level\":\"overlay\",\"line_alpha\":{\"value\":1.0},\"line_color\":{\"value\":\"black\"},\"line_dash\":[4,4],\"line_width\":{\"value\":2},\"render_mode\":\"css\",\"right_units\":\"screen\",\"top_units\":\"screen\"},\"id\":\"1143\",\"type\":\"BoxAnnotation\"},{\"attributes\":{},\"id\":\"1009\",\"type\":\"LinearScale\"},{\"attributes\":{},\"id\":\"1054\",\"type\":\"WheelZoomTool\"},{\"attributes\":{\"overlay\":{\"id\":\"1153\",\"type\":\"BoxAnnotation\"}},\"id\":\"1055\",\"type\":\"BoxZoomTool\"},{\"attributes\":{\"axis_label\":\"demand\",\"formatter\":{\"id\":\"1137\",\"type\":\"BasicTickFormatter\"},\"ticker\":{\"id\":\"1012\",\"type\":\"BasicTicker\"}},\"id\":\"1011\",\"type\":\"LinearAxis\"},{\"attributes\":{},\"id\":\"1056\",\"type\":\"SaveTool\"},{\"attributes\":{\"fill_color\":{\"value\":\"blue\"},\"top\":{\"field\":\"top\"},\"width\":{\"value\":0.9939199999999999},\"x\":{\"field\":\"x\"}},\"id\":\"1099\",\"type\":\"VBar\"},{\"attributes\":{\"data_source\":{\"id\":\"1098\",\"type\":\"ColumnDataSource\"},\"glyph\":{\"id\":\"1099\",\"type\":\"VBar\"},\"hover_glyph\":null,\"muted_glyph\":null,\"view\":{\"id\":\"1113\",\"type\":\"CDSView\"}},\"id\":\"1112\",\"type\":\"GlyphRenderer\"},{\"attributes\":{},\"id\":\"1057\",\"type\":\"ResetTool\"},{\"attributes\":{\"ticker\":{\"id\":\"1012\",\"type\":\"BasicTicker\"}},\"id\":\"1015\",\"type\":\"Grid\"},{\"attributes\":{},\"id\":\"1071\",\"type\":\"LinearScale\"},{\"attributes\":{\"fill_color\":{\"value\":\"blue\"},\"top\":{\"field\":\"top\"},\"width\":{\"value\":0.3753375},\"x\":{\"field\":\"x\"}},\"id\":\"1111\",\"type\":\"VBar\"},{\"attributes\":{},\"id\":\"1162\",\"type\":\"Selection\"},{\"attributes\":{\"callback\":null},\"id\":\"1005\",\"type\":\"DataRange1d\"},{\"attributes\":{},\"id\":\"1142\",\"type\":\"Selection\"},{\"attributes\":{\"text\":\"profit histogram\"},\"id\":\"1120\",\"type\":\"Title\"},{\"attributes\":{},\"id\":\"1007\",\"type\":\"LinearScale\"},{\"attributes\":{},\"id\":\"1141\",\"type\":\"UnionRenderers\"},{\"attributes\":{},\"id\":\"1157\",\"type\":\"BasicTickFormatter\"},{\"attributes\":{\"text\":\"sales histogram\"},\"id\":\"1117\",\"type\":\"Title\"},{\"attributes\":{},\"id\":\"1152\",\"type\":\"Selection\"},{\"attributes\":{},\"id\":\"1161\",\"type\":\"UnionRenderers\"},{\"attributes\":{},\"id\":\"1151\",\"type\":\"UnionRenderers\"},{\"attributes\":{\"callback\":null,\"data\":{\"top\":[11,5,4,6,7,6,7,7,4,4,5,11,3,6,8,10,7,7,3,4,6,7,4,3,7,4,3,8,5,3,4,6,4,3,4,2,2,2,2,3,2,2,3,4,1,3,5,5,0,2,4,2,5,2,2,2,2,2,1,1,3,1,3,5,0,3,2,1,3,1,2,2,3,3,4,0,0,1,1,70],\"x\":{\"__ndarray__\":\"2c73U+OlLcDLoUW2890swJLtfD81HizAWDm0yHZeK8BYObTIdp4qwFg5tMh23inAWDm0yHYeKcBYObTIdl4owFg5tMh2nifAWDm0yHbeJsBYObTIdh4mwFg5tMh2XiXAWDm0yHaeJMBYObTIdt4jwFg5tMh2HiPAWDm0yHZeIsBYObTIdp4hwFg5tMh23iDAWDm0yHYeIMCwcmiR7bwewLByaJHtPB3AsHJoke28G8CwcmiR7TwawLByaJHtvBjAPgrXo3A9F8DLoUW2870VwMuhRbbzPRTAy6FFtvO9EsDLoUW28z0RwJZDi2znew/AlkOLbOd7DMCWQ4ts53sJwJZDi2znewbAlkOLbOd7A8CWQ4ts53sAwCuHFtnO9/q/K4cW2c739L9WDi2yne/tv1YOLbKd7+G/Goums5PBx7/mdFlMbD7IP6rx0k1iEOI/qvHSTWIQ7j/VeOkmMQj1P9V46SYxCPs/arx0kxiEAEBQjZduEoMDQDVeukkMggZANV66SQyCCUA1XrpJDIIMQDZeukkMgg9AGy/dJAZBEUAbL90kBsESQBsv3SQGQRRAGy/dJAbBFUAbL90kBkEXQBsv3SQGwRhAGy/dJAZBGkAbL90kBsEbQBsv3SQGQR1AGy/dJAbBHkCNl24SgyAgQI2XbhKD4CBAjZduEoOgIUCNl24Sg2AiQI2XbhKDICNAjZduEoPgI0CNl24Sg6AkQMZLN4lBYCVAAAAAAAAgJkAAAAAAAOAmQAAAAAAAoCdAAAAAAABgKEAAAAAAACApQAAAAAAA4ClAAAAAAACgKkAAAAAAAGArQAAAAAAAICxAAAAAAADgLEAAAAAAAKAtQA==\",\"dtype\":\"float64\",\"shape\":[80]}},\"selected\":{\"id\":\"1162\",\"type\":\"Selection\"},\"selection_policy\":{\"id\":\"1161\",\"type\":\"UnionRenderers\"}},\"id\":\"1110\",\"type\":\"ColumnDataSource\"},{\"attributes\":{\"children\":[[{\"id\":\"1002\",\"subtype\":\"Figure\",\"type\":\"Plot\"},0,0],[{\"id\":\"1034\",\"subtype\":\"Figure\",\"type\":\"Plot\"},0,1],[{\"id\":\"1066\",\"subtype\":\"Figure\",\"type\":\"Plot\"},0,2]]},\"id\":\"1165\",\"type\":\"GridBox\"},{\"attributes\":{\"source\":{\"id\":\"1100\",\"type\":\"ColumnDataSource\"}},\"id\":\"1116\",\"type\":\"CDSView\"},{\"attributes\":{\"text\":\"demand histogram\"},\"id\":\"1114\",\"type\":\"Title\"},{\"attributes\":{\"bottom_units\":\"screen\",\"fill_alpha\":{\"value\":0.5},\"fill_color\":{\"value\":\"lightgrey\"},\"left_units\":\"screen\",\"level\":\"overlay\",\"line_alpha\":{\"value\":1.0},\"line_color\":{\"value\":\"black\"},\"line_dash\":[4,4],\"line_width\":{\"value\":2},\"render_mode\":\"css\",\"right_units\":\"screen\",\"top_units\":\"screen\"},\"id\":\"1153\",\"type\":\"BoxAnnotation\"},{\"attributes\":{\"source\":{\"id\":\"1110\",\"type\":\"ColumnDataSource\"}},\"id\":\"1119\",\"type\":\"CDSView\"},{\"attributes\":{\"data_source\":{\"id\":\"1100\",\"type\":\"ColumnDataSource\"},\"glyph\":{\"id\":\"1101\",\"type\":\"VBar\"},\"hover_glyph\":null,\"muted_glyph\":null,\"view\":{\"id\":\"1116\",\"type\":\"CDSView\"}},\"id\":\"1115\",\"type\":\"GlyphRenderer\"},{\"attributes\":{\"source\":{\"id\":\"1098\",\"type\":\"ColumnDataSource\"}},\"id\":\"1113\",\"type\":\"CDSView\"},{\"attributes\":{\"data_source\":{\"id\":\"1110\",\"type\":\"ColumnDataSource\"},\"glyph\":{\"id\":\"1111\",\"type\":\"VBar\"},\"hover_glyph\":null,\"muted_glyph\":null,\"view\":{\"id\":\"1119\",\"type\":\"CDSView\"}},\"id\":\"1118\",\"type\":\"GlyphRenderer\"}],\"root_ids\":[\"1168\"]},\"title\":\"Bokeh Application\",\"version\":\"1.3.4\"}};\n",
       "  var render_items = [{\"docid\":\"cb95b0bc-c340-4c88-a1cd-47b8fe7e2a47\",\"notebook_comms_target\":\"1196\",\"roots\":{\"1168\":\"33a5760f-09f5-41ca-9f0b-f958063edb02\"}}];\n",
       "  root.Bokeh.embed.embed_items_notebook(docs_json, render_items);\n",
       "\n",
       "  }\n",
       "  if (root.Bokeh !== undefined) {\n",
       "    embed_document(root);\n",
       "  } else {\n",
       "    var attempts = 0;\n",
       "    var timer = setInterval(function(root) {\n",
       "      if (root.Bokeh !== undefined) {\n",
       "        embed_document(root);\n",
       "        clearInterval(timer);\n",
       "      }\n",
       "      attempts++;\n",
       "      if (attempts > 100) {\n",
       "        console.log(\"Bokeh: ERROR: Unable to run BokehJS code because BokehJS library is missing\");\n",
       "        clearInterval(timer);\n",
       "      }\n",
       "    }, 10, root)\n",
       "  }\n",
       "})(window);"
      ],
      "application/vnd.bokehjs_exec.v0+json": ""
     },
     "metadata": {
      "application/vnd.bokehjs_exec.v0+json": {
       "id": "1168"
      }
     },
     "output_type": "display_data"
    },
    {
     "data": {
      "application/vnd.jupyter.widget-view+json": {
       "model_id": "424eba03a1744bb78fe6ccf1dd6ab3e1",
       "version_major": 2,
       "version_minor": 0
      },
      "text/plain": [
       "interactive(children=(IntSlider(value=15, description='Order Qty', max=25), Output()), _dom_classes=('widget-i…"
      ]
     },
     "metadata": {},
     "output_type": "display_data"
    },
    {
     "data": {
      "text/html": [
       "\n",
       "\n",
       "\n",
       "\n",
       "\n",
       "\n",
       "  <div class=\"bk-root\" id=\"5dad973d-b712-4b9e-b49f-bd4bee557e5f\" data-root-id=\"1525\"></div>\n"
      ]
     },
     "metadata": {},
     "output_type": "display_data"
    },
    {
     "data": {
      "application/javascript": [
       "(function(root) {\n",
       "  function embed_document(root) {\n",
       "    \n",
       "  var docs_json = {\"82f5f074-cece-4fed-95aa-8127ff57bf72\":{\"roots\":{\"references\":[{\"attributes\":{\"children\":[{\"id\":\"1524\",\"type\":\"ToolbarBox\"},{\"id\":\"1522\",\"type\":\"GridBox\"}]},\"id\":\"1525\",\"type\":\"Column\"},{\"attributes\":{},\"id\":\"1364\",\"type\":\"LinearScale\"},{\"attributes\":{\"bottom_units\":\"screen\",\"fill_alpha\":{\"value\":0.5},\"fill_color\":{\"value\":\"lightgrey\"},\"left_units\":\"screen\",\"level\":\"overlay\",\"line_alpha\":{\"value\":1.0},\"line_color\":{\"value\":\"black\"},\"line_dash\":[4,4],\"line_width\":{\"value\":2},\"render_mode\":\"css\",\"right_units\":\"screen\",\"top_units\":\"screen\"},\"id\":\"1500\",\"type\":\"BoxAnnotation\"},{\"attributes\":{\"fill_color\":{\"value\":\"blue\"},\"line_color\":{\"value\":\"blue\"},\"x\":{\"field\":\"x\"},\"y\":{\"field\":\"y\"}},\"id\":\"1464\",\"type\":\"Circle\"},{\"attributes\":{},\"id\":\"1504\",\"type\":\"BasicTickFormatter\"},{\"attributes\":{\"callback\":null,\"data\":{\"x\":{\"__ndarray__\":\"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\",\"dtype\":\"float64\",\"shape\":[365]},\"y\":{\"__ndarray__\":\"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\",\"dtype\":\"float64\",\"shape\":[365]}},\"selected\":{\"id\":\"1509\",\"type\":\"Selection\"},\"selection_policy\":{\"id\":\"1508\",\"type\":\"UnionRenderers\"}},\"id\":\"1463\",\"type\":\"ColumnDataSource\"},{\"attributes\":{\"overlay\":{\"id\":\"1510\",\"type\":\"BoxAnnotation\"}},\"id\":\"1412\",\"type\":\"BoxZoomTool\"},{\"attributes\":{\"below\":[{\"id\":\"1432\",\"type\":\"LinearAxis\"}],\"center\":[{\"id\":\"1436\",\"type\":\"Grid\"},{\"id\":\"1441\",\"type\":\"Grid\"}],\"left\":[{\"id\":\"1437\",\"type\":\"LinearAxis\"}],\"plot_height\":300,\"plot_width\":300,\"renderers\":[{\"id\":\"1475\",\"type\":\"GlyphRenderer\"}],\"title\":{\"id\":\"1477\",\"type\":\"Title\"},\"toolbar\":{\"id\":\"1448\",\"type\":\"Toolbar\"},\"toolbar_location\":null,\"x_range\":{\"id\":\"1424\",\"type\":\"DataRange1d\"},\"x_scale\":{\"id\":\"1428\",\"type\":\"LinearScale\"},\"y_range\":{\"id\":\"1426\",\"type\":\"DataRange1d\"},\"y_scale\":{\"id\":\"1430\",\"type\":\"LinearScale\"}},\"id\":\"1423\",\"subtype\":\"Figure\",\"type\":\"Plot\"},{\"attributes\":{\"fill_color\":{\"value\":\"blue\"},\"line_color\":{\"value\":\"blue\"},\"x\":{\"field\":\"x\"},\"y\":{\"field\":\"y\"}},\"id\":\"1468\",\"type\":\"Circle\"},{\"attributes\":{},\"id\":\"1414\",\"type\":\"ResetTool\"},{\"attributes\":{\"source\":{\"id\":\"1457\",\"type\":\"ColumnDataSource\"}},\"id\":\"1470\",\"type\":\"CDSView\"},{\"attributes\":{},\"id\":\"1366\",\"type\":\"LinearScale\"},{\"attributes\":{\"callback\":null,\"data\":{\"x\":{\"__ndarray__\":\"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\",\"dtype\":\"float64\",\"shape\":[365]},\"y\":{\"__ndarray__\":\"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\",\"dtype\":\"float64\",\"shape\":[365]}},\"selected\":{\"id\":\"1519\",\"type\":\"Selection\"},\"selection_policy\":{\"id\":\"1518\",\"type\":\"UnionRenderers\"}},\"id\":\"1467\",\"type\":\"ColumnDataSource\"},{\"attributes\":{\"source\":{\"id\":\"1463\",\"type\":\"ColumnDataSource\"}},\"id\":\"1473\",\"type\":\"CDSView\"},{\"attributes\":{\"text\":\"sales\"},\"id\":\"1471\",\"type\":\"Title\"},{\"attributes\":{\"callback\":null},\"id\":\"1360\",\"type\":\"DataRange1d\"},{\"attributes\":{\"source\":{\"id\":\"1467\",\"type\":\"ColumnDataSource\"}},\"id\":\"1476\",\"type\":\"CDSView\"},{\"attributes\":{\"callback\":null},\"id\":\"1362\",\"type\":\"DataRange1d\"},{\"attributes\":{\"data_source\":{\"id\":\"1463\",\"type\":\"ColumnDataSource\"},\"glyph\":{\"id\":\"1464\",\"type\":\"Circle\"},\"hover_glyph\":null,\"muted_glyph\":null,\"view\":{\"id\":\"1473\",\"type\":\"CDSView\"}},\"id\":\"1472\",\"type\":\"GlyphRenderer\"},{\"attributes\":{},\"id\":\"1413\",\"type\":\"SaveTool\"},{\"attributes\":{\"text\":\"revenue\"},\"id\":\"1474\",\"type\":\"Title\"},{\"attributes\":{\"data_source\":{\"id\":\"1467\",\"type\":\"ColumnDataSource\"},\"glyph\":{\"id\":\"1468\",\"type\":\"Circle\"},\"hover_glyph\":null,\"muted_glyph\":null,\"view\":{\"id\":\"1476\",\"type\":\"CDSView\"}},\"id\":\"1475\",\"type\":\"GlyphRenderer\"},{\"attributes\":{\"text\":\"profit\"},\"id\":\"1477\",\"type\":\"Title\"},{\"attributes\":{\"children\":[[{\"id\":\"1359\",\"subtype\":\"Figure\",\"type\":\"Plot\"},0,0],[{\"id\":\"1391\",\"subtype\":\"Figure\",\"type\":\"Plot\"},0,1],[{\"id\":\"1423\",\"subtype\":\"Figure\",\"type\":\"Plot\"},0,2]]},\"id\":\"1522\",\"type\":\"GridBox\"},{\"attributes\":{\"below\":[{\"id\":\"1400\",\"type\":\"LinearAxis\"}],\"center\":[{\"id\":\"1404\",\"type\":\"Grid\"},{\"id\":\"1409\",\"type\":\"Grid\"}],\"left\":[{\"id\":\"1405\",\"type\":\"LinearAxis\"}],\"plot_height\":300,\"plot_width\":300,\"renderers\":[{\"id\":\"1472\",\"type\":\"GlyphRenderer\"}],\"title\":{\"id\":\"1474\",\"type\":\"Title\"},\"toolbar\":{\"id\":\"1416\",\"type\":\"Toolbar\"},\"toolbar_location\":null,\"x_range\":{\"id\":\"1392\",\"type\":\"DataRange1d\"},\"x_scale\":{\"id\":\"1396\",\"type\":\"LinearScale\"},\"y_range\":{\"id\":\"1394\",\"type\":\"DataRange1d\"},\"y_scale\":{\"id\":\"1398\",\"type\":\"LinearScale\"}},\"id\":\"1391\",\"subtype\":\"Figure\",\"type\":\"Plot\"},{\"attributes\":{},\"id\":\"1494\",\"type\":\"BasicTickFormatter\"},{\"attributes\":{},\"id\":\"1411\",\"type\":\"WheelZoomTool\"},{\"attributes\":{\"below\":[{\"id\":\"1368\",\"type\":\"LinearAxis\"}],\"center\":[{\"id\":\"1372\",\"type\":\"Grid\"},{\"id\":\"1377\",\"type\":\"Grid\"}],\"left\":[{\"id\":\"1373\",\"type\":\"LinearAxis\"}],\"plot_height\":300,\"plot_width\":300,\"renderers\":[{\"id\":\"1469\",\"type\":\"GlyphRenderer\"}],\"title\":{\"id\":\"1471\",\"type\":\"Title\"},\"toolbar\":{\"id\":\"1384\",\"type\":\"Toolbar\"},\"toolbar_location\":null,\"x_range\":{\"id\":\"1360\",\"type\":\"DataRange1d\"},\"x_scale\":{\"id\":\"1364\",\"type\":\"LinearScale\"},\"y_range\":{\"id\":\"1362\",\"type\":\"DataRange1d\"},\"y_scale\":{\"id\":\"1366\",\"type\":\"LinearScale\"}},\"id\":\"1359\",\"subtype\":\"Figure\",\"type\":\"Plot\"},{\"attributes\":{\"tools\":[{\"id\":\"1378\",\"type\":\"PanTool\"},{\"id\":\"1379\",\"type\":\"WheelZoomTool\"},{\"id\":\"1380\",\"type\":\"BoxZoomTool\"},{\"id\":\"1381\",\"type\":\"SaveTool\"},{\"id\":\"1382\",\"type\":\"ResetTool\"},{\"id\":\"1383\",\"type\":\"HelpTool\"},{\"id\":\"1410\",\"type\":\"PanTool\"},{\"id\":\"1411\",\"type\":\"WheelZoomTool\"},{\"id\":\"1412\",\"type\":\"BoxZoomTool\"},{\"id\":\"1413\",\"type\":\"SaveTool\"},{\"id\":\"1414\",\"type\":\"ResetTool\"},{\"id\":\"1415\",\"type\":\"HelpTool\"},{\"id\":\"1442\",\"type\":\"PanTool\"},{\"id\":\"1443\",\"type\":\"WheelZoomTool\"},{\"id\":\"1444\",\"type\":\"BoxZoomTool\"},{\"id\":\"1445\",\"type\":\"SaveTool\"},{\"id\":\"1446\",\"type\":\"ResetTool\"},{\"id\":\"1447\",\"type\":\"HelpTool\"}]},\"id\":\"1523\",\"type\":\"ProxyToolbar\"},{\"attributes\":{\"toolbar\":{\"id\":\"1523\",\"type\":\"ProxyToolbar\"},\"toolbar_location\":\"above\"},\"id\":\"1524\",\"type\":\"ToolbarBox\"},{\"attributes\":{},\"id\":\"1410\",\"type\":\"PanTool\"},{\"attributes\":{},\"id\":\"1496\",\"type\":\"BasicTickFormatter\"},{\"attributes\":{},\"id\":\"1415\",\"type\":\"HelpTool\"},{\"attributes\":{\"active_drag\":\"auto\",\"active_inspect\":\"auto\",\"active_multi\":null,\"active_scroll\":\"auto\",\"active_tap\":\"auto\",\"tools\":[{\"id\":\"1410\",\"type\":\"PanTool\"},{\"id\":\"1411\",\"type\":\"WheelZoomTool\"},{\"id\":\"1412\",\"type\":\"BoxZoomTool\"},{\"id\":\"1413\",\"type\":\"SaveTool\"},{\"id\":\"1414\",\"type\":\"ResetTool\"},{\"id\":\"1415\",\"type\":\"HelpTool\"}]},\"id\":\"1416\",\"type\":\"Toolbar\"},{\"attributes\":{\"ticker\":{\"id\":\"1369\",\"type\":\"BasicTicker\"}},\"id\":\"1372\",\"type\":\"Grid\"},{\"attributes\":{},\"id\":\"1514\",\"type\":\"BasicTickFormatter\"},{\"attributes\":{\"axis_label\":\"profit\",\"formatter\":{\"id\":\"1516\",\"type\":\"BasicTickFormatter\"},\"ticker\":{\"id\":\"1438\",\"type\":\"BasicTicker\"}},\"id\":\"1437\",\"type\":\"LinearAxis\"},{\"attributes\":{},\"id\":\"1499\",\"type\":\"Selection\"},{\"attributes\":{\"dimension\":1,\"ticker\":{\"id\":\"1438\",\"type\":\"BasicTicker\"}},\"id\":\"1441\",\"type\":\"Grid\"},{\"attributes\":{},\"id\":\"1396\",\"type\":\"LinearScale\"},{\"attributes\":{\"active_drag\":\"auto\",\"active_inspect\":\"auto\",\"active_multi\":null,\"active_scroll\":\"auto\",\"active_tap\":\"auto\",\"tools\":[{\"id\":\"1442\",\"type\":\"PanTool\"},{\"id\":\"1443\",\"type\":\"WheelZoomTool\"},{\"id\":\"1444\",\"type\":\"BoxZoomTool\"},{\"id\":\"1445\",\"type\":\"SaveTool\"},{\"id\":\"1446\",\"type\":\"ResetTool\"},{\"id\":\"1447\",\"type\":\"HelpTool\"}]},\"id\":\"1448\",\"type\":\"Toolbar\"},{\"attributes\":{},\"id\":\"1374\",\"type\":\"BasicTicker\"},{\"attributes\":{\"dimension\":1,\"ticker\":{\"id\":\"1374\",\"type\":\"BasicTicker\"}},\"id\":\"1377\",\"type\":\"Grid\"},{\"attributes\":{},\"id\":\"1519\",\"type\":\"Selection\"},{\"attributes\":{},\"id\":\"1516\",\"type\":\"BasicTickFormatter\"},{\"attributes\":{\"callback\":null,\"data\":{\"x\":{\"__ndarray__\":\"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\",\"dtype\":\"float64\",\"shape\":[365]},\"y\":{\"__ndarray__\":\"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\",\"dtype\":\"float64\",\"shape\":[365]}},\"selected\":{\"id\":\"1499\",\"type\":\"Selection\"},\"selection_policy\":{\"id\":\"1498\",\"type\":\"UnionRenderers\"}},\"id\":\"1457\",\"type\":\"ColumnDataSource\"},{\"attributes\":{},\"id\":\"1446\",\"type\":\"ResetTool\"},{\"attributes\":{},\"id\":\"1445\",\"type\":\"SaveTool\"},{\"attributes\":{},\"id\":\"1430\",\"type\":\"LinearScale\"},{\"attributes\":{\"axis_label\":\"demand\",\"formatter\":{\"id\":\"1494\",\"type\":\"BasicTickFormatter\"},\"ticker\":{\"id\":\"1369\",\"type\":\"BasicTicker\"}},\"id\":\"1368\",\"type\":\"LinearAxis\"},{\"attributes\":{\"overlay\":{\"id\":\"1520\",\"type\":\"BoxAnnotation\"}},\"id\":\"1444\",\"type\":\"BoxZoomTool\"},{\"attributes\":{},\"id\":\"1369\",\"type\":\"BasicTicker\"},{\"attributes\":{},\"id\":\"1518\",\"type\":\"UnionRenderers\"},{\"attributes\":{},\"id\":\"1443\",\"type\":\"WheelZoomTool\"},{\"attributes\":{\"bottom_units\":\"screen\",\"fill_alpha\":{\"value\":0.5},\"fill_color\":{\"value\":\"lightgrey\"},\"left_units\":\"screen\",\"level\":\"overlay\",\"line_alpha\":{\"value\":1.0},\"line_color\":{\"value\":\"black\"},\"line_dash\":[4,4],\"line_width\":{\"value\":2},\"render_mode\":\"css\",\"right_units\":\"screen\",\"top_units\":\"screen\"},\"id\":\"1510\",\"type\":\"BoxAnnotation\"},{\"attributes\":{},\"id\":\"1433\",\"type\":\"BasicTicker\"},{\"attributes\":{\"axis_label\":\"sales\",\"formatter\":{\"id\":\"1496\",\"type\":\"BasicTickFormatter\"},\"ticker\":{\"id\":\"1374\",\"type\":\"BasicTicker\"}},\"id\":\"1373\",\"type\":\"LinearAxis\"},{\"attributes\":{\"bottom_units\":\"screen\",\"fill_alpha\":{\"value\":0.5},\"fill_color\":{\"value\":\"lightgrey\"},\"left_units\":\"screen\",\"level\":\"overlay\",\"line_alpha\":{\"value\":1.0},\"line_color\":{\"value\":\"black\"},\"line_dash\":[4,4],\"line_width\":{\"value\":2},\"render_mode\":\"css\",\"right_units\":\"screen\",\"top_units\":\"screen\"},\"id\":\"1520\",\"type\":\"BoxAnnotation\"},{\"attributes\":{},\"id\":\"1442\",\"type\":\"PanTool\"},{\"attributes\":{\"active_drag\":\"auto\",\"active_inspect\":\"auto\",\"active_multi\":null,\"active_scroll\":\"auto\",\"active_tap\":\"auto\",\"tools\":[{\"id\":\"1378\",\"type\":\"PanTool\"},{\"id\":\"1379\",\"type\":\"WheelZoomTool\"},{\"id\":\"1380\",\"type\":\"BoxZoomTool\"},{\"id\":\"1381\",\"type\":\"SaveTool\"},{\"id\":\"1382\",\"type\":\"ResetTool\"},{\"id\":\"1383\",\"type\":\"HelpTool\"}]},\"id\":\"1384\",\"type\":\"Toolbar\"},{\"attributes\":{\"callback\":null},\"id\":\"1394\",\"type\":\"DataRange1d\"},{\"attributes\":{\"ticker\":{\"id\":\"1433\",\"type\":\"BasicTicker\"}},\"id\":\"1436\",\"type\":\"Grid\"},{\"attributes\":{},\"id\":\"1447\",\"type\":\"HelpTool\"},{\"attributes\":{},\"id\":\"1509\",\"type\":\"Selection\"},{\"attributes\":{},\"id\":\"1406\",\"type\":\"BasicTicker\"},{\"attributes\":{},\"id\":\"1508\",\"type\":\"UnionRenderers\"},{\"attributes\":{\"callback\":null},\"id\":\"1392\",\"type\":\"DataRange1d\"},{\"attributes\":{},\"id\":\"1506\",\"type\":\"BasicTickFormatter\"},{\"attributes\":{},\"id\":\"1498\",\"type\":\"UnionRenderers\"},{\"attributes\":{},\"id\":\"1401\",\"type\":\"BasicTicker\"},{\"attributes\":{\"axis_label\":\"demand\",\"formatter\":{\"id\":\"1514\",\"type\":\"BasicTickFormatter\"},\"ticker\":{\"id\":\"1433\",\"type\":\"BasicTicker\"}},\"id\":\"1432\",\"type\":\"LinearAxis\"},{\"attributes\":{\"axis_label\":\"demand\",\"formatter\":{\"id\":\"1504\",\"type\":\"BasicTickFormatter\"},\"ticker\":{\"id\":\"1401\",\"type\":\"BasicTicker\"}},\"id\":\"1400\",\"type\":\"LinearAxis\"},{\"attributes\":{\"axis_label\":\"revenue\",\"formatter\":{\"id\":\"1506\",\"type\":\"BasicTickFormatter\"},\"ticker\":{\"id\":\"1406\",\"type\":\"BasicTicker\"}},\"id\":\"1405\",\"type\":\"LinearAxis\"},{\"attributes\":{},\"id\":\"1398\",\"type\":\"LinearScale\"},{\"attributes\":{},\"id\":\"1379\",\"type\":\"WheelZoomTool\"},{\"attributes\":{\"overlay\":{\"id\":\"1500\",\"type\":\"BoxAnnotation\"}},\"id\":\"1380\",\"type\":\"BoxZoomTool\"},{\"attributes\":{},\"id\":\"1381\",\"type\":\"SaveTool\"},{\"attributes\":{},\"id\":\"1438\",\"type\":\"BasicTicker\"},{\"attributes\":{},\"id\":\"1382\",\"type\":\"ResetTool\"},{\"attributes\":{},\"id\":\"1378\",\"type\":\"PanTool\"},{\"attributes\":{},\"id\":\"1383\",\"type\":\"HelpTool\"},{\"attributes\":{\"ticker\":{\"id\":\"1401\",\"type\":\"BasicTicker\"}},\"id\":\"1404\",\"type\":\"Grid\"},{\"attributes\":{\"callback\":null},\"id\":\"1426\",\"type\":\"DataRange1d\"},{\"attributes\":{\"fill_color\":{\"value\":\"blue\"},\"line_color\":{\"value\":\"blue\"},\"x\":{\"field\":\"x\"},\"y\":{\"field\":\"y\"}},\"id\":\"1458\",\"type\":\"Circle\"},{\"attributes\":{\"data_source\":{\"id\":\"1457\",\"type\":\"ColumnDataSource\"},\"glyph\":{\"id\":\"1458\",\"type\":\"Circle\"},\"hover_glyph\":null,\"muted_glyph\":null,\"view\":{\"id\":\"1470\",\"type\":\"CDSView\"}},\"id\":\"1469\",\"type\":\"GlyphRenderer\"},{\"attributes\":{\"callback\":null},\"id\":\"1424\",\"type\":\"DataRange1d\"},{\"attributes\":{\"dimension\":1,\"ticker\":{\"id\":\"1406\",\"type\":\"BasicTicker\"}},\"id\":\"1409\",\"type\":\"Grid\"},{\"attributes\":{},\"id\":\"1428\",\"type\":\"LinearScale\"}],\"root_ids\":[\"1525\"]},\"title\":\"Bokeh Application\",\"version\":\"1.3.4\"}};\n",
       "  var render_items = [{\"docid\":\"82f5f074-cece-4fed-95aa-8127ff57bf72\",\"notebook_comms_target\":\"1580\",\"roots\":{\"1525\":\"5dad973d-b712-4b9e-b49f-bd4bee557e5f\"}}];\n",
       "  root.Bokeh.embed.embed_items_notebook(docs_json, render_items);\n",
       "\n",
       "  }\n",
       "  if (root.Bokeh !== undefined) {\n",
       "    embed_document(root);\n",
       "  } else {\n",
       "    var attempts = 0;\n",
       "    var timer = setInterval(function(root) {\n",
       "      if (root.Bokeh !== undefined) {\n",
       "        embed_document(root);\n",
       "        clearInterval(timer);\n",
       "      }\n",
       "      attempts++;\n",
       "      if (attempts > 100) {\n",
       "        console.log(\"Bokeh: ERROR: Unable to run BokehJS code because BokehJS library is missing\");\n",
       "        clearInterval(timer);\n",
       "      }\n",
       "    }, 10, root)\n",
       "  }\n",
       "})(window);"
      ],
      "application/vnd.bokehjs_exec.v0+json": ""
     },
     "metadata": {
      "application/vnd.bokehjs_exec.v0+json": {
       "id": "1525"
      }
     },
     "output_type": "display_data"
    },
    {
     "data": {
      "application/vnd.jupyter.widget-view+json": {
       "model_id": "8ea417df89624e63bcbf19d8283a6f83",
       "version_major": 2,
       "version_minor": 0
      },
      "text/plain": [
       "interactive(children=(IntSlider(value=15, description='Order Qty', max=25), Output()), _dom_classes=('widget-i…"
      ]
     },
     "metadata": {},
     "output_type": "display_data"
    },
    {
     "data": {
      "application/vnd.jupyter.widget-view+json": {
       "model_id": "ba91300543c8488a81590a088b57d20f",
       "version_major": 2,
       "version_minor": 0
      },
      "text/plain": [
       "interactive(children=(IntSlider(value=15, description='Order Qty', max=25), Output()), _dom_classes=('widget-i…"
      ]
     },
     "metadata": {},
     "output_type": "display_data"
    },
    {
     "data": {
      "text/html": [
       "\n",
       "\n",
       "\n",
       "\n",
       "\n",
       "\n",
       "  <div class=\"bk-root\" id=\"65e9b9e7-f997-4191-99dc-8152e385edfe\" data-root-id=\"1990\"></div>\n"
      ]
     },
     "metadata": {},
     "output_type": "display_data"
    },
    {
     "data": {
      "application/javascript": [
       "(function(root) {\n",
       "  function embed_document(root) {\n",
       "    \n",
       "  var docs_json = {\"48e12b82-afc7-417e-a377-8c35eb59486c\":{\"roots\":{\"references\":[{\"attributes\":{\"children\":[{\"id\":\"1989\",\"type\":\"ToolbarBox\"},{\"id\":\"1987\",\"type\":\"GridBox\"}]},\"id\":\"1990\",\"type\":\"Column\"},{\"attributes\":{},\"id\":\"1748\",\"type\":\"LinearScale\"},{\"attributes\":{},\"id\":\"1849\",\"type\":\"BasicTicker\"},{\"attributes\":{\"line_color\":\"blue\",\"line_width\":2,\"x\":{\"field\":\"x\"},\"y\":{\"field\":\"y\"}},\"id\":\"1882\",\"type\":\"Line\"},{\"attributes\":{},\"id\":\"1766\",\"type\":\"ResetTool\"},{\"attributes\":{},\"id\":\"1846\",\"type\":\"LinearScale\"},{\"attributes\":{\"line_color\":\"blue\",\"line_width\":2,\"x\":{\"field\":\"x\"},\"y\":{\"field\":\"y\"}},\"id\":\"1876\",\"type\":\"Line\"},{\"attributes\":{\"dimension\":1,\"ticker\":{\"id\":\"1758\",\"type\":\"BasicTicker\"}},\"id\":\"1761\",\"type\":\"Grid\"},{\"attributes\":{\"axis_label\":\"expected profit\",\"formatter\":{\"id\":\"1979\",\"type\":\"BasicTickFormatter\"},\"ticker\":{\"id\":\"1854\",\"type\":\"BasicTicker\"}},\"id\":\"1853\",\"type\":\"LinearAxis\"},{\"attributes\":{},\"id\":\"1977\",\"type\":\"BasicTickFormatter\"},{\"attributes\":{},\"id\":\"1762\",\"type\":\"PanTool\"},{\"attributes\":{\"text\":\"sales\"},\"id\":\"1889\",\"type\":\"Title\"},{\"attributes\":{\"ticker\":{\"id\":\"1849\",\"type\":\"BasicTicker\"}},\"id\":\"1852\",\"type\":\"Grid\"},{\"attributes\":{\"ticker\":{\"id\":\"1753\",\"type\":\"BasicTicker\"}},\"id\":\"1756\",\"type\":\"Grid\"},{\"attributes\":{\"data_source\":{\"id\":\"1903\",\"type\":\"ColumnDataSource\"},\"glyph\":{\"id\":\"1904\",\"type\":\"Circle\"},\"hover_glyph\":null,\"muted_glyph\":null,\"view\":{\"id\":\"1916\",\"type\":\"CDSView\"}},\"id\":\"1915\",\"type\":\"GlyphRenderer\"},{\"attributes\":{\"active_drag\":\"auto\",\"active_inspect\":\"auto\",\"active_multi\":null,\"active_scroll\":\"auto\",\"active_tap\":\"auto\",\"tools\":[{\"id\":\"1762\",\"type\":\"PanTool\"},{\"id\":\"1763\",\"type\":\"WheelZoomTool\"},{\"id\":\"1764\",\"type\":\"BoxZoomTool\"},{\"id\":\"1765\",\"type\":\"SaveTool\"},{\"id\":\"1766\",\"type\":\"ResetTool\"},{\"id\":\"1767\",\"type\":\"HelpTool\"}]},\"id\":\"1768\",\"type\":\"Toolbar\"},{\"attributes\":{},\"id\":\"1844\",\"type\":\"LinearScale\"},{\"attributes\":{},\"id\":\"1984\",\"type\":\"Selection\"},{\"attributes\":{},\"id\":\"1763\",\"type\":\"WheelZoomTool\"},{\"attributes\":{\"callback\":null},\"id\":\"1776\",\"type\":\"DataRange1d\"},{\"attributes\":{\"bottom_units\":\"screen\",\"fill_alpha\":{\"value\":0.5},\"fill_color\":{\"value\":\"lightgrey\"},\"left_units\":\"screen\",\"level\":\"overlay\",\"line_alpha\":{\"value\":1.0},\"line_color\":{\"value\":\"black\"},\"line_dash\":[4,4],\"line_width\":{\"value\":2},\"render_mode\":\"css\",\"right_units\":\"screen\",\"top_units\":\"screen\"},\"id\":\"1985\",\"type\":\"BoxAnnotation\"},{\"attributes\":{},\"id\":\"1831\",\"type\":\"HelpTool\"},{\"attributes\":{\"axis_label\":\"order qty\",\"formatter\":{\"id\":\"1941\",\"type\":\"BasicTickFormatter\"},\"ticker\":{\"id\":\"1753\",\"type\":\"BasicTicker\"}},\"id\":\"1752\",\"type\":\"LinearAxis\"},{\"attributes\":{},\"id\":\"1983\",\"type\":\"UnionRenderers\"},{\"attributes\":{},\"id\":\"1827\",\"type\":\"WheelZoomTool\"},{\"attributes\":{\"overlay\":{\"id\":\"1949\",\"type\":\"BoxAnnotation\"}},\"id\":\"1764\",\"type\":\"BoxZoomTool\"},{\"attributes\":{\"callback\":null,\"data\":{\"x\":[0,1,2,3,4,5,6,7,8,9,10,11,12,13,14,15,16,17,18,19,20,21,22,23,24,25],\"y\":{\"__ndarray__\":\"AAAAAAAAAAC3T6z9t3P+P5kZkNHJAA1A9EmX9wq8FED2HeFv2F8aQOgI6YhAeh9Al6eHOSsMIkC4qtVr9yIkQCx5jxTfBiZA3d/6B7q8J0BzFhUe6kgpQAVSJW1mrypA+HDOccXzK0DPXqlBRhktQMb819rYIi5AOHNIrCUTL0DdeFFklOwvQHxJJQ2pWDBAzVrzcKuxMECRnV5rNQIxQCuWZVYVSzFAoHIN6QWNMUCZ2qkVsMgxQJqDdbqs/jFAqrMEKoYvMkDvOfaMuVsyQA==\",\"dtype\":\"float64\",\"shape\":[26]}},\"selected\":{\"id\":\"1958\",\"type\":\"Selection\"},\"selection_policy\":{\"id\":\"1957\",\"type\":\"UnionRenderers\"}},\"id\":\"1881\",\"type\":\"ColumnDataSource\"},{\"attributes\":{\"callback\":null},\"id\":\"1842\",\"type\":\"DataRange1d\"},{\"attributes\":{},\"id\":\"1830\",\"type\":\"ResetTool\"},{\"attributes\":{},\"id\":\"1765\",\"type\":\"SaveTool\"},{\"attributes\":{},\"id\":\"1822\",\"type\":\"BasicTicker\"},{\"attributes\":{},\"id\":\"1982\",\"type\":\"Selection\"},{\"attributes\":{\"below\":[{\"id\":\"1816\",\"type\":\"LinearAxis\"}],\"center\":[{\"id\":\"1820\",\"type\":\"Grid\"},{\"id\":\"1825\",\"type\":\"Grid\"}],\"left\":[{\"id\":\"1821\",\"type\":\"LinearAxis\"}],\"plot_height\":350,\"plot_width\":350,\"renderers\":[{\"id\":\"1893\",\"type\":\"GlyphRenderer\"},{\"id\":\"1919\",\"type\":\"GlyphRenderer\"}],\"title\":{\"id\":\"1895\",\"type\":\"Title\"},\"toolbar\":{\"id\":\"1832\",\"type\":\"Toolbar\"},\"toolbar_location\":null,\"x_range\":{\"id\":\"1808\",\"type\":\"DataRange1d\"},\"x_scale\":{\"id\":\"1812\",\"type\":\"LinearScale\"},\"y_range\":{\"id\":\"1810\",\"type\":\"DataRange1d\"},\"y_scale\":{\"id\":\"1814\",\"type\":\"LinearScale\"}},\"id\":\"1807\",\"subtype\":\"Figure\",\"type\":\"Plot\"},{\"attributes\":{\"toolbar\":{\"id\":\"1988\",\"type\":\"ProxyToolbar\"},\"toolbar_location\":\"above\"},\"id\":\"1989\",\"type\":\"ToolbarBox\"},{\"attributes\":{},\"id\":\"1817\",\"type\":\"BasicTicker\"},{\"attributes\":{\"callback\":null,\"data\":{\"x\":[0,1,2,3,4,5,6,7,8,9,10,11,12,13,14,15,16,17,18,19,20,21,22,23,24,25],\"y\":{\"__ndarray__\":\"AAAAAAAAAABun1j7b+fsPzIzIKOTAfo/6JMu7xV4AUDsO8LfsL8EQNAR0hGB9AZAXJ4e5qwwCEDgqlav3YsIQLDkPVJ8GwhAdH/rH+jyBkDMWVR4qCMFQBRIlbSZvQJAwIdzjiue/z949koNMsr4PzDmv9bGFvE/gDOHxFoy4T8AI4eum2ujv4DQVlve6uS/MFPK8Ejl9L/wJhZKqdz/v6hO00xVpwXAAGuUt9CXC8CclVipP90QwJjxKRZNBRTAWDHtV+dBF8BEGCfMGZEawA==\",\"dtype\":\"float64\",\"shape\":[26]}},\"selected\":{\"id\":\"1982\",\"type\":\"Selection\"},\"selection_policy\":{\"id\":\"1981\",\"type\":\"UnionRenderers\"}},\"id\":\"1885\",\"type\":\"ColumnDataSource\"},{\"attributes\":{},\"id\":\"1960\",\"type\":\"Selection\"},{\"attributes\":{},\"id\":\"1767\",\"type\":\"HelpTool\"},{\"attributes\":{\"dimension\":1,\"ticker\":{\"id\":\"1822\",\"type\":\"BasicTicker\"}},\"id\":\"1825\",\"type\":\"Grid\"},{\"attributes\":{},\"id\":\"1782\",\"type\":\"LinearScale\"},{\"attributes\":{\"ticker\":{\"id\":\"1817\",\"type\":\"BasicTicker\"}},\"id\":\"1820\",\"type\":\"Grid\"},{\"attributes\":{\"bottom_units\":\"screen\",\"fill_alpha\":{\"value\":0.5},\"fill_color\":{\"value\":\"lightgrey\"},\"left_units\":\"screen\",\"level\":\"overlay\",\"line_alpha\":{\"value\":1.0},\"line_color\":{\"value\":\"black\"},\"line_dash\":[4,4],\"line_width\":{\"value\":2},\"render_mode\":\"css\",\"right_units\":\"screen\",\"top_units\":\"screen\"},\"id\":\"1949\",\"type\":\"BoxAnnotation\"},{\"attributes\":{\"below\":[{\"id\":\"1784\",\"type\":\"LinearAxis\"}],\"center\":[{\"id\":\"1788\",\"type\":\"Grid\"},{\"id\":\"1793\",\"type\":\"Grid\"}],\"left\":[{\"id\":\"1789\",\"type\":\"LinearAxis\"}],\"plot_height\":350,\"plot_width\":350,\"renderers\":[{\"id\":\"1890\",\"type\":\"GlyphRenderer\"},{\"id\":\"1917\",\"type\":\"GlyphRenderer\"}],\"title\":{\"id\":\"1892\",\"type\":\"Title\"},\"toolbar\":{\"id\":\"1800\",\"type\":\"Toolbar\"},\"toolbar_location\":null,\"x_range\":{\"id\":\"1776\",\"type\":\"DataRange1d\"},\"x_scale\":{\"id\":\"1780\",\"type\":\"LinearScale\"},\"y_range\":{\"id\":\"1778\",\"type\":\"DataRange1d\"},\"y_scale\":{\"id\":\"1782\",\"type\":\"LinearScale\"}},\"id\":\"1775\",\"subtype\":\"Figure\",\"type\":\"Plot\"},{\"attributes\":{\"data_source\":{\"id\":\"1911\",\"type\":\"ColumnDataSource\"},\"glyph\":{\"id\":\"1912\",\"type\":\"Circle\"},\"hover_glyph\":null,\"muted_glyph\":null,\"view\":{\"id\":\"1920\",\"type\":\"CDSView\"}},\"id\":\"1919\",\"type\":\"GlyphRenderer\"},{\"attributes\":{\"dimension\":1,\"ticker\":{\"id\":\"1790\",\"type\":\"BasicTicker\"}},\"id\":\"1793\",\"type\":\"Grid\"},{\"attributes\":{\"data_source\":{\"id\":\"1883\",\"type\":\"ColumnDataSource\"},\"glyph\":{\"id\":\"1884\",\"type\":\"Line\"},\"hover_glyph\":null,\"muted_glyph\":null,\"view\":{\"id\":\"1894\",\"type\":\"CDSView\"}},\"id\":\"1893\",\"type\":\"GlyphRenderer\"},{\"attributes\":{\"overlay\":{\"id\":\"1985\",\"type\":\"BoxAnnotation\"}},\"id\":\"1860\",\"type\":\"BoxZoomTool\"},{\"attributes\":{\"axis_label\":\"expected cost\",\"formatter\":{\"id\":\"1967\",\"type\":\"BasicTickFormatter\"},\"ticker\":{\"id\":\"1822\",\"type\":\"BasicTicker\"}},\"id\":\"1821\",\"type\":\"LinearAxis\"},{\"attributes\":{\"callback\":null},\"id\":\"1808\",\"type\":\"DataRange1d\"},{\"attributes\":{\"axis_label\":\"order qty\",\"formatter\":{\"id\":\"1977\",\"type\":\"BasicTickFormatter\"},\"ticker\":{\"id\":\"1849\",\"type\":\"BasicTicker\"}},\"id\":\"1848\",\"type\":\"LinearAxis\"},{\"attributes\":{\"source\":{\"id\":\"1883\",\"type\":\"ColumnDataSource\"}},\"id\":\"1894\",\"type\":\"CDSView\"},{\"attributes\":{\"overlay\":{\"id\":\"1973\",\"type\":\"BoxAnnotation\"}},\"id\":\"1828\",\"type\":\"BoxZoomTool\"},{\"attributes\":{\"axis_label\":\"expected sales\",\"formatter\":{\"id\":\"1943\",\"type\":\"BasicTickFormatter\"},\"ticker\":{\"id\":\"1758\",\"type\":\"BasicTicker\"}},\"id\":\"1757\",\"type\":\"LinearAxis\"},{\"attributes\":{\"line_color\":\"blue\",\"line_width\":2,\"x\":{\"field\":\"x\"},\"y\":{\"field\":\"y\"}},\"id\":\"1886\",\"type\":\"Line\"},{\"attributes\":{\"data_source\":{\"id\":\"1881\",\"type\":\"ColumnDataSource\"},\"glyph\":{\"id\":\"1882\",\"type\":\"Line\"},\"hover_glyph\":null,\"muted_glyph\":null,\"view\":{\"id\":\"1891\",\"type\":\"CDSView\"}},\"id\":\"1890\",\"type\":\"GlyphRenderer\"},{\"attributes\":{\"callback\":null},\"id\":\"1840\",\"type\":\"DataRange1d\"},{\"attributes\":{},\"id\":\"1829\",\"type\":\"SaveTool\"},{\"attributes\":{},\"id\":\"1965\",\"type\":\"BasicTickFormatter\"},{\"attributes\":{\"source\":{\"id\":\"1885\",\"type\":\"ColumnDataSource\"}},\"id\":\"1897\",\"type\":\"CDSView\"},{\"attributes\":{\"callback\":null,\"data\":{\"x\":[0,1,2,3,4,5,6,7,8,9,10,11,12,13,14,15,16,17,18,19,20,21,22,23,24,25],\"y\":{\"__ndarray__\":\"AAAAAAAAAAC3T6z9t3PuP5kZkNHJAP0/9EmX9wq8BED2HeFv2F8KQOgI6YhAeg9Al6eHOSsMEkC4qtVr9yIUQCx5jxTfBhZA3d/6B7q8F0BzFhUe6kgZQAVSJW1mrxpA+HDOccXzG0DPXqlBRhkdQMb819rYIh5AOHNIrCUTH0DdeFFklOwfQHxJJQ2pWCBAzVrzcKuxIECRnV5rNQIhQCuWZVYVSyFAoHIN6QWNIUCZ2qkVsMghQJqDdbqs/iFAqrMEKoYvIkDvOfaMuVsiQA==\",\"dtype\":\"float64\",\"shape\":[26]}},\"selected\":{\"id\":\"1946\",\"type\":\"Selection\"},\"selection_policy\":{\"id\":\"1945\",\"type\":\"UnionRenderers\"}},\"id\":\"1875\",\"type\":\"ColumnDataSource\"},{\"attributes\":{\"callback\":null,\"data\":{\"x\":[0,1,2,3,4,5,6,7,8,9,10,11,12,13,14,15,16,17,18,19,20,21,22,23,24,25],\"y\":[0,1,2,3,4,5,6,7,8,9,10,11,12,13,14,15,16,17,18,19,20,21,22,23,24,25]},\"selected\":{\"id\":\"1970\",\"type\":\"Selection\"},\"selection_policy\":{\"id\":\"1969\",\"type\":\"UnionRenderers\"}},\"id\":\"1883\",\"type\":\"ColumnDataSource\"},{\"attributes\":{\"axis_label\":\"order qty\",\"formatter\":{\"id\":\"1953\",\"type\":\"BasicTickFormatter\"},\"ticker\":{\"id\":\"1785\",\"type\":\"BasicTicker\"}},\"id\":\"1784\",\"type\":\"LinearAxis\"},{\"attributes\":{},\"id\":\"1785\",\"type\":\"BasicTicker\"},{\"attributes\":{},\"id\":\"1826\",\"type\":\"PanTool\"},{\"attributes\":{\"text\":\"revenue\"},\"id\":\"1892\",\"type\":\"Title\"},{\"attributes\":{\"axis_label\":\"expected revenue\",\"formatter\":{\"id\":\"1955\",\"type\":\"BasicTickFormatter\"},\"ticker\":{\"id\":\"1790\",\"type\":\"BasicTicker\"}},\"id\":\"1789\",\"type\":\"LinearAxis\"},{\"attributes\":{\"axis_label\":\"order qty\",\"formatter\":{\"id\":\"1965\",\"type\":\"BasicTickFormatter\"},\"ticker\":{\"id\":\"1817\",\"type\":\"BasicTicker\"}},\"id\":\"1816\",\"type\":\"LinearAxis\"},{\"attributes\":{\"bottom_units\":\"screen\",\"fill_alpha\":{\"value\":0.5},\"fill_color\":{\"value\":\"lightgrey\"},\"left_units\":\"screen\",\"level\":\"overlay\",\"line_alpha\":{\"value\":1.0},\"line_color\":{\"value\":\"black\"},\"line_dash\":[4,4],\"line_width\":{\"value\":2},\"render_mode\":\"css\",\"right_units\":\"screen\",\"top_units\":\"screen\"},\"id\":\"1961\",\"type\":\"BoxAnnotation\"},{\"attributes\":{},\"id\":\"1862\",\"type\":\"ResetTool\"},{\"attributes\":{\"active_drag\":\"auto\",\"active_inspect\":\"auto\",\"active_multi\":null,\"active_scroll\":\"auto\",\"active_tap\":\"auto\",\"tools\":[{\"id\":\"1826\",\"type\":\"PanTool\"},{\"id\":\"1827\",\"type\":\"WheelZoomTool\"},{\"id\":\"1828\",\"type\":\"BoxZoomTool\"},{\"id\":\"1829\",\"type\":\"SaveTool\"},{\"id\":\"1830\",\"type\":\"ResetTool\"},{\"id\":\"1831\",\"type\":\"HelpTool\"}]},\"id\":\"1832\",\"type\":\"Toolbar\"},{\"attributes\":{},\"id\":\"1750\",\"type\":\"LinearScale\"},{\"attributes\":{},\"id\":\"1814\",\"type\":\"LinearScale\"},{\"attributes\":{\"callback\":null},\"id\":\"1778\",\"type\":\"DataRange1d\"},{\"attributes\":{\"text\":\"cost\"},\"id\":\"1895\",\"type\":\"Title\"},{\"attributes\":{\"line_color\":\"blue\",\"line_width\":2,\"x\":{\"field\":\"x\"},\"y\":{\"field\":\"y\"}},\"id\":\"1884\",\"type\":\"Line\"},{\"attributes\":{},\"id\":\"1798\",\"type\":\"ResetTool\"},{\"attributes\":{},\"id\":\"1790\",\"type\":\"BasicTicker\"},{\"attributes\":{},\"id\":\"1797\",\"type\":\"SaveTool\"},{\"attributes\":{\"callback\":null},\"id\":\"1746\",\"type\":\"DataRange1d\"},{\"attributes\":{\"active_drag\":\"auto\",\"active_inspect\":\"auto\",\"active_multi\":null,\"active_scroll\":\"auto\",\"active_tap\":\"auto\",\"tools\":[{\"id\":\"1858\",\"type\":\"PanTool\"},{\"id\":\"1859\",\"type\":\"WheelZoomTool\"},{\"id\":\"1860\",\"type\":\"BoxZoomTool\"},{\"id\":\"1861\",\"type\":\"SaveTool\"},{\"id\":\"1862\",\"type\":\"ResetTool\"},{\"id\":\"1863\",\"type\":\"HelpTool\"}]},\"id\":\"1864\",\"type\":\"Toolbar\"},{\"attributes\":{\"ticker\":{\"id\":\"1785\",\"type\":\"BasicTicker\"}},\"id\":\"1788\",\"type\":\"Grid\"},{\"attributes\":{},\"id\":\"1753\",\"type\":\"BasicTicker\"},{\"attributes\":{},\"id\":\"1863\",\"type\":\"HelpTool\"},{\"attributes\":{\"source\":{\"id\":\"1881\",\"type\":\"ColumnDataSource\"}},\"id\":\"1891\",\"type\":\"CDSView\"},{\"attributes\":{\"callback\":null},\"id\":\"1744\",\"type\":\"DataRange1d\"},{\"attributes\":{},\"id\":\"1812\",\"type\":\"LinearScale\"},{\"attributes\":{},\"id\":\"1758\",\"type\":\"BasicTicker\"},{\"attributes\":{},\"id\":\"1794\",\"type\":\"PanTool\"},{\"attributes\":{},\"id\":\"1780\",\"type\":\"LinearScale\"},{\"attributes\":{\"overlay\":{\"id\":\"1961\",\"type\":\"BoxAnnotation\"}},\"id\":\"1796\",\"type\":\"BoxZoomTool\"},{\"attributes\":{\"data_source\":{\"id\":\"1885\",\"type\":\"ColumnDataSource\"},\"glyph\":{\"id\":\"1886\",\"type\":\"Line\"},\"hover_glyph\":null,\"muted_glyph\":null,\"view\":{\"id\":\"1897\",\"type\":\"CDSView\"}},\"id\":\"1896\",\"type\":\"GlyphRenderer\"},{\"attributes\":{},\"id\":\"1981\",\"type\":\"UnionRenderers\"},{\"attributes\":{},\"id\":\"1795\",\"type\":\"WheelZoomTool\"},{\"attributes\":{\"text\":\"profit\"},\"id\":\"1898\",\"type\":\"Title\"},{\"attributes\":{\"below\":[{\"id\":\"1848\",\"type\":\"LinearAxis\"}],\"center\":[{\"id\":\"1852\",\"type\":\"Grid\"},{\"id\":\"1857\",\"type\":\"Grid\"}],\"left\":[{\"id\":\"1853\",\"type\":\"LinearAxis\"}],\"plot_height\":350,\"plot_width\":350,\"renderers\":[{\"id\":\"1896\",\"type\":\"GlyphRenderer\"},{\"id\":\"1921\",\"type\":\"GlyphRenderer\"}],\"title\":{\"id\":\"1898\",\"type\":\"Title\"},\"toolbar\":{\"id\":\"1864\",\"type\":\"Toolbar\"},\"toolbar_location\":null,\"x_range\":{\"id\":\"1840\",\"type\":\"DataRange1d\"},\"x_scale\":{\"id\":\"1844\",\"type\":\"LinearScale\"},\"y_range\":{\"id\":\"1842\",\"type\":\"DataRange1d\"},\"y_scale\":{\"id\":\"1846\",\"type\":\"LinearScale\"}},\"id\":\"1839\",\"subtype\":\"Figure\",\"type\":\"Plot\"},{\"attributes\":{},\"id\":\"1861\",\"type\":\"SaveTool\"},{\"attributes\":{\"source\":{\"id\":\"1911\",\"type\":\"ColumnDataSource\"}},\"id\":\"1920\",\"type\":\"CDSView\"},{\"attributes\":{},\"id\":\"1958\",\"type\":\"Selection\"},{\"attributes\":{},\"id\":\"1955\",\"type\":\"BasicTickFormatter\"},{\"attributes\":{\"callback\":null},\"id\":\"1810\",\"type\":\"DataRange1d\"},{\"attributes\":{\"bottom_units\":\"screen\",\"fill_alpha\":{\"value\":0.5},\"fill_color\":{\"value\":\"lightgrey\"},\"left_units\":\"screen\",\"level\":\"overlay\",\"line_alpha\":{\"value\":1.0},\"line_color\":{\"value\":\"black\"},\"line_dash\":[4,4],\"line_width\":{\"value\":2},\"render_mode\":\"css\",\"right_units\":\"screen\",\"top_units\":\"screen\"},\"id\":\"1973\",\"type\":\"BoxAnnotation\"},{\"attributes\":{},\"id\":\"1971\",\"type\":\"UnionRenderers\"},{\"attributes\":{\"source\":{\"id\":\"1903\",\"type\":\"ColumnDataSource\"}},\"id\":\"1916\",\"type\":\"CDSView\"},{\"attributes\":{},\"id\":\"1972\",\"type\":\"Selection\"},{\"attributes\":{\"active_drag\":\"auto\",\"active_inspect\":\"auto\",\"active_multi\":null,\"active_scroll\":\"auto\",\"active_tap\":\"auto\",\"tools\":[{\"id\":\"1794\",\"type\":\"PanTool\"},{\"id\":\"1795\",\"type\":\"WheelZoomTool\"},{\"id\":\"1796\",\"type\":\"BoxZoomTool\"},{\"id\":\"1797\",\"type\":\"SaveTool\"},{\"id\":\"1798\",\"type\":\"ResetTool\"},{\"id\":\"1799\",\"type\":\"HelpTool\"}]},\"id\":\"1800\",\"type\":\"Toolbar\"},{\"attributes\":{\"fill_alpha\":{\"value\":0.5},\"fill_color\":{\"value\":\"red\"},\"line_color\":{\"value\":\"red\"},\"size\":{\"units\":\"screen\",\"value\":10},\"x\":{\"field\":\"x\"},\"y\":{\"field\":\"y\"}},\"id\":\"1910\",\"type\":\"Circle\"},{\"attributes\":{\"fill_alpha\":{\"value\":0.5},\"fill_color\":{\"value\":\"red\"},\"line_color\":{\"value\":\"red\"},\"size\":{\"units\":\"screen\",\"value\":10},\"x\":{\"field\":\"x\"},\"y\":{\"field\":\"y\"}},\"id\":\"1914\",\"type\":\"Circle\"},{\"attributes\":{\"data_source\":{\"id\":\"1909\",\"type\":\"ColumnDataSource\"},\"glyph\":{\"id\":\"1910\",\"type\":\"Circle\"},\"hover_glyph\":null,\"muted_glyph\":null,\"view\":{\"id\":\"1918\",\"type\":\"CDSView\"}},\"id\":\"1917\",\"type\":\"GlyphRenderer\"},{\"attributes\":{},\"id\":\"1799\",\"type\":\"HelpTool\"},{\"attributes\":{\"callback\":null,\"data\":{\"x\":[15],\"y\":{\"__ndarray__\":\"OHNIrCUTH0A=\",\"dtype\":\"float64\",\"shape\":[1]}},\"selected\":{\"id\":\"1948\",\"type\":\"Selection\"},\"selection_policy\":{\"id\":\"1947\",\"type\":\"UnionRenderers\"}},\"id\":\"1903\",\"type\":\"ColumnDataSource\"},{\"attributes\":{\"source\":{\"id\":\"1909\",\"type\":\"ColumnDataSource\"}},\"id\":\"1918\",\"type\":\"CDSView\"},{\"attributes\":{},\"id\":\"1858\",\"type\":\"PanTool\"},{\"attributes\":{},\"id\":\"1943\",\"type\":\"BasicTickFormatter\"},{\"attributes\":{\"source\":{\"id\":\"1913\",\"type\":\"ColumnDataSource\"}},\"id\":\"1922\",\"type\":\"CDSView\"},{\"attributes\":{\"source\":{\"id\":\"1875\",\"type\":\"ColumnDataSource\"}},\"id\":\"1888\",\"type\":\"CDSView\"},{\"attributes\":{},\"id\":\"1957\",\"type\":\"UnionRenderers\"},{\"attributes\":{\"tools\":[{\"id\":\"1762\",\"type\":\"PanTool\"},{\"id\":\"1763\",\"type\":\"WheelZoomTool\"},{\"id\":\"1764\",\"type\":\"BoxZoomTool\"},{\"id\":\"1765\",\"type\":\"SaveTool\"},{\"id\":\"1766\",\"type\":\"ResetTool\"},{\"id\":\"1767\",\"type\":\"HelpTool\"},{\"id\":\"1794\",\"type\":\"PanTool\"},{\"id\":\"1795\",\"type\":\"WheelZoomTool\"},{\"id\":\"1796\",\"type\":\"BoxZoomTool\"},{\"id\":\"1797\",\"type\":\"SaveTool\"},{\"id\":\"1798\",\"type\":\"ResetTool\"},{\"id\":\"1799\",\"type\":\"HelpTool\"},{\"id\":\"1826\",\"type\":\"PanTool\"},{\"id\":\"1827\",\"type\":\"WheelZoomTool\"},{\"id\":\"1828\",\"type\":\"BoxZoomTool\"},{\"id\":\"1829\",\"type\":\"SaveTool\"},{\"id\":\"1830\",\"type\":\"ResetTool\"},{\"id\":\"1831\",\"type\":\"HelpTool\"},{\"id\":\"1858\",\"type\":\"PanTool\"},{\"id\":\"1859\",\"type\":\"WheelZoomTool\"},{\"id\":\"1860\",\"type\":\"BoxZoomTool\"},{\"id\":\"1861\",\"type\":\"SaveTool\"},{\"id\":\"1862\",\"type\":\"ResetTool\"},{\"id\":\"1863\",\"type\":\"HelpTool\"}]},\"id\":\"1988\",\"type\":\"ProxyToolbar\"},{\"attributes\":{},\"id\":\"1941\",\"type\":\"BasicTickFormatter\"},{\"attributes\":{\"fill_alpha\":{\"value\":0.5},\"fill_color\":{\"value\":\"red\"},\"line_color\":{\"value\":\"red\"},\"size\":{\"units\":\"screen\",\"value\":10},\"x\":{\"field\":\"x\"},\"y\":{\"field\":\"y\"}},\"id\":\"1904\",\"type\":\"Circle\"},{\"attributes\":{},\"id\":\"1959\",\"type\":\"UnionRenderers\"},{\"attributes\":{\"data_source\":{\"id\":\"1913\",\"type\":\"ColumnDataSource\"},\"glyph\":{\"id\":\"1914\",\"type\":\"Circle\"},\"hover_glyph\":null,\"muted_glyph\":null,\"view\":{\"id\":\"1922\",\"type\":\"CDSView\"}},\"id\":\"1921\",\"type\":\"GlyphRenderer\"},{\"attributes\":{},\"id\":\"1967\",\"type\":\"BasicTickFormatter\"},{\"attributes\":{\"children\":[[{\"id\":\"1743\",\"subtype\":\"Figure\",\"type\":\"Plot\"},0,0],[{\"id\":\"1775\",\"subtype\":\"Figure\",\"type\":\"Plot\"},0,1],[{\"id\":\"1807\",\"subtype\":\"Figure\",\"type\":\"Plot\"},1,0],[{\"id\":\"1839\",\"subtype\":\"Figure\",\"type\":\"Plot\"},1,1]]},\"id\":\"1987\",\"type\":\"GridBox\"},{\"attributes\":{},\"id\":\"1948\",\"type\":\"Selection\"},{\"attributes\":{\"callback\":null,\"data\":{\"x\":[15],\"y\":{\"__ndarray__\":\"gDOHxFoy4T8=\",\"dtype\":\"float64\",\"shape\":[1]}},\"selected\":{\"id\":\"1984\",\"type\":\"Selection\"},\"selection_policy\":{\"id\":\"1983\",\"type\":\"UnionRenderers\"}},\"id\":\"1913\",\"type\":\"ColumnDataSource\"},{\"attributes\":{},\"id\":\"1947\",\"type\":\"UnionRenderers\"},{\"attributes\":{},\"id\":\"1945\",\"type\":\"UnionRenderers\"},{\"attributes\":{\"callback\":null,\"data\":{\"x\":[15],\"y\":[15]},\"selected\":{\"id\":\"1972\",\"type\":\"Selection\"},\"selection_policy\":{\"id\":\"1971\",\"type\":\"UnionRenderers\"}},\"id\":\"1911\",\"type\":\"ColumnDataSource\"},{\"attributes\":{\"dimension\":1,\"ticker\":{\"id\":\"1854\",\"type\":\"BasicTicker\"}},\"id\":\"1857\",\"type\":\"Grid\"},{\"attributes\":{},\"id\":\"1979\",\"type\":\"BasicTickFormatter\"},{\"attributes\":{},\"id\":\"1953\",\"type\":\"BasicTickFormatter\"},{\"attributes\":{},\"id\":\"1970\",\"type\":\"Selection\"},{\"attributes\":{\"below\":[{\"id\":\"1752\",\"type\":\"LinearAxis\"}],\"center\":[{\"id\":\"1756\",\"type\":\"Grid\"},{\"id\":\"1761\",\"type\":\"Grid\"}],\"left\":[{\"id\":\"1757\",\"type\":\"LinearAxis\"}],\"plot_height\":350,\"plot_width\":350,\"renderers\":[{\"id\":\"1887\",\"type\":\"GlyphRenderer\"},{\"id\":\"1915\",\"type\":\"GlyphRenderer\"}],\"title\":{\"id\":\"1889\",\"type\":\"Title\"},\"toolbar\":{\"id\":\"1768\",\"type\":\"Toolbar\"},\"toolbar_location\":null,\"x_range\":{\"id\":\"1744\",\"type\":\"DataRange1d\"},\"x_scale\":{\"id\":\"1748\",\"type\":\"LinearScale\"},\"y_range\":{\"id\":\"1746\",\"type\":\"DataRange1d\"},\"y_scale\":{\"id\":\"1750\",\"type\":\"LinearScale\"}},\"id\":\"1743\",\"subtype\":\"Figure\",\"type\":\"Plot\"},{\"attributes\":{},\"id\":\"1946\",\"type\":\"Selection\"},{\"attributes\":{\"callback\":null,\"data\":{\"x\":[15],\"y\":{\"__ndarray__\":\"OHNIrCUTL0A=\",\"dtype\":\"float64\",\"shape\":[1]}},\"selected\":{\"id\":\"1960\",\"type\":\"Selection\"},\"selection_policy\":{\"id\":\"1959\",\"type\":\"UnionRenderers\"}},\"id\":\"1909\",\"type\":\"ColumnDataSource\"},{\"attributes\":{\"fill_alpha\":{\"value\":0.5},\"fill_color\":{\"value\":\"red\"},\"line_color\":{\"value\":\"red\"},\"size\":{\"units\":\"screen\",\"value\":10},\"x\":{\"field\":\"x\"},\"y\":{\"field\":\"y\"}},\"id\":\"1912\",\"type\":\"Circle\"},{\"attributes\":{},\"id\":\"1969\",\"type\":\"UnionRenderers\"},{\"attributes\":{\"data_source\":{\"id\":\"1875\",\"type\":\"ColumnDataSource\"},\"glyph\":{\"id\":\"1876\",\"type\":\"Line\"},\"hover_glyph\":null,\"muted_glyph\":null,\"view\":{\"id\":\"1888\",\"type\":\"CDSView\"}},\"id\":\"1887\",\"type\":\"GlyphRenderer\"},{\"attributes\":{},\"id\":\"1854\",\"type\":\"BasicTicker\"},{\"attributes\":{},\"id\":\"1859\",\"type\":\"WheelZoomTool\"}],\"root_ids\":[\"1990\"]},\"title\":\"Bokeh Application\",\"version\":\"1.3.4\"}};\n",
       "  var render_items = [{\"docid\":\"48e12b82-afc7-417e-a377-8c35eb59486c\",\"notebook_comms_target\":\"2089\",\"roots\":{\"1990\":\"65e9b9e7-f997-4191-99dc-8152e385edfe\"}}];\n",
       "  root.Bokeh.embed.embed_items_notebook(docs_json, render_items);\n",
       "\n",
       "  }\n",
       "  if (root.Bokeh !== undefined) {\n",
       "    embed_document(root);\n",
       "  } else {\n",
       "    var attempts = 0;\n",
       "    var timer = setInterval(function(root) {\n",
       "      if (root.Bokeh !== undefined) {\n",
       "        embed_document(root);\n",
       "        clearInterval(timer);\n",
       "      }\n",
       "      attempts++;\n",
       "      if (attempts > 100) {\n",
       "        console.log(\"Bokeh: ERROR: Unable to run BokehJS code because BokehJS library is missing\");\n",
       "        clearInterval(timer);\n",
       "      }\n",
       "    }, 10, root)\n",
       "  }\n",
       "})(window);"
      ],
      "application/vnd.bokehjs_exec.v0+json": ""
     },
     "metadata": {
      "application/vnd.bokehjs_exec.v0+json": {
       "id": "1990"
      }
     },
     "output_type": "display_data"
    }
   ],
   "source": [
    "# Initialize model\n",
    "# Default exponential distribution has parameter lambda = 0.1\n",
    "# Default model parameters are wholesale_cost = 1, retail_price = 2.\n",
    "news = newsvendor.Newsvendor('exponential')\n",
    "\n",
    "# Simulate demand\n",
    "news.sim_data(num_days=365)\n",
    "\n",
    "# Histograms with order quantity slider\n",
    "bins = int(max(news.data['demand'])-min(news.data['demand'])+1)\n",
    "hist_fields = ['demand', 'sales', 'profit']\n",
    "hist_labels = {field: {'x': field, 'y': 'count', 'title': field + ' histogram'} for field in hist_fields}\n",
    "hist_func = lambda n: news_plot.hist_glyphs(news.data, bins=bins)\n",
    "newsvendor.interact_gridplot(news_plot.figures(hist_fields), hist_func, news, labels=hist_labels)\n",
    "\n",
    "# Scatter plots with order quantity slider\n",
    "scatter_fields = ['sales', 'revenue', 'profit']\n",
    "scatter_labels = {field: {'x': 'demand', 'y': field, 'title': field} for field in scatter_fields}\n",
    "scatter_func = lambda n: news_plot.scatter_glyphs(n.data, 'demand')\n",
    "newsvendor.interact_gridplot(news_plot.figures(scatter_fields), scatter_func, news, labels=scatter_labels)\n",
    "\n",
    "# Table of expected values with order quantity slider\n",
    "ev_table_fields = ['demand', 'sales', 'profit']\n",
    "newsvendor.order_qty_interact(lambda y: news.exp_vals([y])[ev_table_fields].style.hide_index(), news)\n",
    "\n",
    "# Line plots of expected values as functions of order quantity\n",
    "ev_fields = ['sales', 'revenue', 'cost', 'profit']\n",
    "ev_labels = {field: {'x': 'order qty', 'y': 'expected ' + field, 'title': field} for field in ev_fields}\n",
    "ev_func = lambda n: news_plot.line_glyphs(n.exp_vals(), 'order qty')\n",
    "ev_sources, ev_plots = newsvendor.news_gridplot(news_plot.figures(ev_fields, plot_width=350, plot_height=350), ev_func, news, labels=ev_labels)\n",
    "circle_func = lambda n: news_plot.circle_markers(n.exp_vals([n.order_qty]))\n",
    "newsvendor.interact_gridplot({field: ev_plots[field] for field in ev_fields}, circle_func, news, ncols=2)"
   ]
  },
  {
   "cell_type": "markdown",
   "metadata": {},
   "source": [
    "## Sales, Shortage, Surplus (Optional)\n",
    "\n",
    "It may be helpful to visualize the relationship between\n",
    "\n",
    "* $\\text{sales} = \\min\\{y, D\\}$\n",
    "* $\\text{shortage} = (D - y)^+$\n",
    "* $\\text{surplus} = (y - D)^+$\n",
    "\n",
    "We will consider these as functions of demand $D$.  You can verify graphically the following [identities](https://en.wikipedia.org/wiki/Identity_(mathematics)):\n",
    "\n",
    "$$\\begin{aligned}\n",
    "    D - y &= (D - y)^+ - (y - D)^+ \\\\\n",
    "    \\min\\{y, D\\} &= D - (D - y)^+ = y - (y - D)^+\n",
    "  \\end{aligned}$$\n",
    "  \n",
    "With these two identities, you can show that the original formula for $\\text{profit}$ and the rephrased formula are equivalent.\n",
    "\n",
    "Conceptually, you may find it easier to think of these identities as:\n",
    "\n",
    "$$\\begin{aligned}\n",
    "    \\text{order quantity} &= \\text{sales} + \\text{surplus} \\\\\n",
    "    \\text{demand} &= \\text{sales} + \\text{shortage}\n",
    "  \\end{aligned}$$\n",
    "\n",
    "Less relevant for the Newsvendor, but for practice, you can check that $|D - y| = (D - y)^+ + (y - D)^+$ (where $|\\cdot|$ denotes absolute value)."
   ]
  },
  {
   "cell_type": "code",
   "execution_count": 3,
   "metadata": {},
   "outputs": [
    {
     "data": {
      "application/vnd.jupyter.widget-view+json": {
       "model_id": "2b7a160e50a64c0898fe20a782b21d56",
       "version_major": 2,
       "version_minor": 0
      },
      "text/plain": [
       "interactive(children=(IntSlider(value=15, description='Order Qty', max=25), Output()), _dom_classes=('widget-i…"
      ]
     },
     "metadata": {},
     "output_type": "display_data"
    },
    {
     "data": {
      "text/html": [
       "\n",
       "\n",
       "\n",
       "\n",
       "\n",
       "\n",
       "  <div class=\"bk-root\" id=\"a064df14-663e-4940-ae92-ab8e4fd3380d\" data-root-id=\"2651\"></div>\n"
      ]
     },
     "metadata": {},
     "output_type": "display_data"
    },
    {
     "data": {
      "application/javascript": [
       "(function(root) {\n",
       "  function embed_document(root) {\n",
       "    \n",
       "  var docs_json = {\"52791831-f680-4437-9698-214cf91ccf6e\":{\"roots\":{\"references\":[{\"attributes\":{\"children\":[{\"id\":\"2650\",\"type\":\"ToolbarBox\"},{\"id\":\"2648\",\"type\":\"GridBox\"}]},\"id\":\"2651\",\"type\":\"Column\"},{\"attributes\":{},\"id\":\"2506\",\"type\":\"HelpTool\"},{\"attributes\":{\"callback\":null,\"data\":{\"x\":[0,1,2,3,4,5,6,7,8,9,10,11,12,13,14,15,16,17,18,19,20,21,22,23,24,25,26,27,28,29],\"y\":[15,14,13,12,11,10,9,8,7,6,5,4,3,2,1,0,0,0,0,0,0,0,0,0,0,0,0,0,0,0]},\"selected\":{\"id\":\"2635\",\"type\":\"Selection\"},\"selection_policy\":{\"id\":\"2634\",\"type\":\"UnionRenderers\"}},\"id\":\"2554\",\"type\":\"ColumnDataSource\"},{\"attributes\":{},\"id\":\"2410\",\"type\":\"HelpTool\"},{\"attributes\":{},\"id\":\"2505\",\"type\":\"ResetTool\"},{\"attributes\":{\"line_color\":\"blue\",\"line_width\":2,\"x\":{\"field\":\"x\"},\"y\":{\"field\":\"y\"}},\"id\":\"2555\",\"type\":\"Line\"},{\"attributes\":{\"active_drag\":\"auto\",\"active_inspect\":\"auto\",\"active_multi\":null,\"active_scroll\":\"auto\",\"active_tap\":\"auto\",\"tools\":[{\"id\":\"2501\",\"type\":\"PanTool\"},{\"id\":\"2502\",\"type\":\"WheelZoomTool\"},{\"id\":\"2503\",\"type\":\"BoxZoomTool\"},{\"id\":\"2504\",\"type\":\"SaveTool\"},{\"id\":\"2505\",\"type\":\"ResetTool\"},{\"id\":\"2506\",\"type\":\"HelpTool\"}]},\"id\":\"2507\",\"type\":\"Toolbar\"},{\"attributes\":{\"callback\":null,\"data\":{\"x\":[0,1,2,3,4,5,6,7,8,9,10,11,12,13,14,15,16,17,18,19,20,21,22,23,24,25,26,27,28,29],\"y\":[-15,-14,-13,-12,-11,-10,-9,-8,-7,-6,-5,-4,-3,-2,-1,0,1,2,3,4,5,6,7,8,9,10,11,12,13,14]},\"selected\":{\"id\":\"2645\",\"type\":\"Selection\"},\"selection_policy\":{\"id\":\"2644\",\"type\":\"UnionRenderers\"}},\"id\":\"2556\",\"type\":\"ColumnDataSource\"},{\"attributes\":{},\"id\":\"2521\",\"type\":\"LinearScale\"},{\"attributes\":{\"axis_label\":\"D\",\"formatter\":{\"id\":\"2640\",\"type\":\"BasicTickFormatter\"},\"ticker\":{\"id\":\"2524\",\"type\":\"BasicTicker\"}},\"id\":\"2523\",\"type\":\"LinearAxis\"},{\"attributes\":{\"line_color\":\"blue\",\"line_width\":2,\"x\":{\"field\":\"x\"},\"y\":{\"field\":\"y\"}},\"id\":\"2557\",\"type\":\"Line\"},{\"attributes\":{\"callback\":null},\"id\":\"2355\",\"type\":\"DataRange1d\"},{\"attributes\":{\"source\":{\"id\":\"2550\",\"type\":\"ColumnDataSource\"}},\"id\":\"2565\",\"type\":\"CDSView\"},{\"attributes\":{\"below\":[{\"id\":\"2459\",\"type\":\"LinearAxis\"}],\"center\":[{\"id\":\"2463\",\"type\":\"Grid\"},{\"id\":\"2468\",\"type\":\"Grid\"}],\"left\":[{\"id\":\"2464\",\"type\":\"LinearAxis\"}],\"plot_height\":300,\"plot_width\":300,\"renderers\":[{\"id\":\"2567\",\"type\":\"GlyphRenderer\"}],\"title\":{\"id\":\"2569\",\"type\":\"Title\"},\"toolbar\":{\"id\":\"2475\",\"type\":\"Toolbar\"},\"toolbar_location\":null,\"x_range\":{\"id\":\"2451\",\"type\":\"DataRange1d\"},\"x_scale\":{\"id\":\"2455\",\"type\":\"LinearScale\"},\"y_range\":{\"id\":\"2453\",\"type\":\"DataRange1d\"},\"y_scale\":{\"id\":\"2457\",\"type\":\"LinearScale\"}},\"id\":\"2450\",\"subtype\":\"Figure\",\"type\":\"Plot\"},{\"attributes\":{\"source\":{\"id\":\"2552\",\"type\":\"ColumnDataSource\"}},\"id\":\"2568\",\"type\":\"CDSView\"},{\"attributes\":{},\"id\":\"2533\",\"type\":\"PanTool\"},{\"attributes\":{\"source\":{\"id\":\"2548\",\"type\":\"ColumnDataSource\"}},\"id\":\"2562\",\"type\":\"CDSView\"},{\"attributes\":{\"text\":\"D\"},\"id\":\"2560\",\"type\":\"Title\"},{\"attributes\":{\"callback\":null,\"data\":{\"x\":[0,1,2,3,4,5,6,7,8,9,10,11,12,13,14,15,16,17,18,19,20,21,22,23,24,25,26,27,28,29],\"y\":[0,1,2,3,4,5,6,7,8,9,10,11,12,13,14,15,15,15,15,15,15,15,15,15,15,15,15,15,15,15]},\"selected\":{\"id\":\"2615\",\"type\":\"Selection\"},\"selection_policy\":{\"id\":\"2614\",\"type\":\"UnionRenderers\"}},\"id\":\"2550\",\"type\":\"ColumnDataSource\"},{\"attributes\":{\"data_source\":{\"id\":\"2548\",\"type\":\"ColumnDataSource\"},\"glyph\":{\"id\":\"2549\",\"type\":\"Line\"},\"hover_glyph\":null,\"muted_glyph\":null,\"view\":{\"id\":\"2562\",\"type\":\"CDSView\"}},\"id\":\"2561\",\"type\":\"GlyphRenderer\"},{\"attributes\":{},\"id\":\"2359\",\"type\":\"LinearScale\"},{\"attributes\":{\"data_source\":{\"id\":\"2546\",\"type\":\"ColumnDataSource\"},\"glyph\":{\"id\":\"2547\",\"type\":\"Line\"},\"hover_glyph\":null,\"muted_glyph\":null,\"view\":{\"id\":\"2559\",\"type\":\"CDSView\"}},\"id\":\"2558\",\"type\":\"GlyphRenderer\"},{\"attributes\":{\"ticker\":{\"id\":\"2524\",\"type\":\"BasicTicker\"}},\"id\":\"2527\",\"type\":\"Grid\"},{\"attributes\":{\"text\":\"y\"},\"id\":\"2563\",\"type\":\"Title\"},{\"attributes\":{\"callback\":null},\"id\":\"2357\",\"type\":\"DataRange1d\"},{\"attributes\":{\"axis_label\":\"D\",\"formatter\":{\"id\":\"2620\",\"type\":\"BasicTickFormatter\"},\"ticker\":{\"id\":\"2460\",\"type\":\"BasicTicker\"}},\"id\":\"2459\",\"type\":\"LinearAxis\"},{\"attributes\":{\"dimension\":1,\"ticker\":{\"id\":\"2529\",\"type\":\"BasicTicker\"}},\"id\":\"2532\",\"type\":\"Grid\"},{\"attributes\":{\"source\":{\"id\":\"2554\",\"type\":\"ColumnDataSource\"}},\"id\":\"2571\",\"type\":\"CDSView\"},{\"attributes\":{\"data_source\":{\"id\":\"2550\",\"type\":\"ColumnDataSource\"},\"glyph\":{\"id\":\"2551\",\"type\":\"Line\"},\"hover_glyph\":null,\"muted_glyph\":null,\"view\":{\"id\":\"2565\",\"type\":\"CDSView\"}},\"id\":\"2564\",\"type\":\"GlyphRenderer\"},{\"attributes\":{\"axis_label\":\"D - y\",\"formatter\":{\"id\":\"2642\",\"type\":\"BasicTickFormatter\"},\"ticker\":{\"id\":\"2529\",\"type\":\"BasicTicker\"}},\"id\":\"2528\",\"type\":\"LinearAxis\"},{\"attributes\":{\"source\":{\"id\":\"2546\",\"type\":\"ColumnDataSource\"}},\"id\":\"2559\",\"type\":\"CDSView\"},{\"attributes\":{},\"id\":\"2361\",\"type\":\"LinearScale\"},{\"attributes\":{\"text\":\"min{y, D}\"},\"id\":\"2566\",\"type\":\"Title\"},{\"attributes\":{\"source\":{\"id\":\"2556\",\"type\":\"ColumnDataSource\"}},\"id\":\"2574\",\"type\":\"CDSView\"},{\"attributes\":{},\"id\":\"2524\",\"type\":\"BasicTicker\"},{\"attributes\":{\"axis_label\":\"D\",\"formatter\":{\"id\":\"2590\",\"type\":\"BasicTickFormatter\"},\"ticker\":{\"id\":\"2364\",\"type\":\"BasicTicker\"}},\"id\":\"2363\",\"type\":\"LinearAxis\"},{\"attributes\":{\"data_source\":{\"id\":\"2552\",\"type\":\"ColumnDataSource\"},\"glyph\":{\"id\":\"2553\",\"type\":\"Line\"},\"hover_glyph\":null,\"muted_glyph\":null,\"view\":{\"id\":\"2568\",\"type\":\"CDSView\"}},\"id\":\"2567\",\"type\":\"GlyphRenderer\"},{\"attributes\":{\"active_drag\":\"auto\",\"active_inspect\":\"auto\",\"active_multi\":null,\"active_scroll\":\"auto\",\"active_tap\":\"auto\",\"tools\":[{\"id\":\"2533\",\"type\":\"PanTool\"},{\"id\":\"2534\",\"type\":\"WheelZoomTool\"},{\"id\":\"2535\",\"type\":\"BoxZoomTool\"},{\"id\":\"2536\",\"type\":\"SaveTool\"},{\"id\":\"2537\",\"type\":\"ResetTool\"},{\"id\":\"2538\",\"type\":\"HelpTool\"}]},\"id\":\"2539\",\"type\":\"Toolbar\"},{\"attributes\":{},\"id\":\"2369\",\"type\":\"BasicTicker\"},{\"attributes\":{\"text\":\"(D - y)^+\"},\"id\":\"2569\",\"type\":\"Title\"},{\"attributes\":{},\"id\":\"2364\",\"type\":\"BasicTicker\"},{\"attributes\":{},\"id\":\"2529\",\"type\":\"BasicTicker\"},{\"attributes\":{\"ticker\":{\"id\":\"2364\",\"type\":\"BasicTicker\"}},\"id\":\"2367\",\"type\":\"Grid\"},{\"attributes\":{\"overlay\":{\"id\":\"2646\",\"type\":\"BoxAnnotation\"}},\"id\":\"2535\",\"type\":\"BoxZoomTool\"},{\"attributes\":{\"callback\":null},\"id\":\"2389\",\"type\":\"DataRange1d\"},{\"attributes\":{\"dimension\":1,\"ticker\":{\"id\":\"2369\",\"type\":\"BasicTicker\"}},\"id\":\"2372\",\"type\":\"Grid\"},{\"attributes\":{\"data_source\":{\"id\":\"2554\",\"type\":\"ColumnDataSource\"},\"glyph\":{\"id\":\"2555\",\"type\":\"Line\"},\"hover_glyph\":null,\"muted_glyph\":null,\"view\":{\"id\":\"2571\",\"type\":\"CDSView\"}},\"id\":\"2570\",\"type\":\"GlyphRenderer\"},{\"attributes\":{},\"id\":\"2534\",\"type\":\"WheelZoomTool\"},{\"attributes\":{\"axis_label\":\"D\",\"formatter\":{\"id\":\"2592\",\"type\":\"BasicTickFormatter\"},\"ticker\":{\"id\":\"2369\",\"type\":\"BasicTicker\"}},\"id\":\"2368\",\"type\":\"LinearAxis\"},{\"attributes\":{\"text\":\"(y - D)^+\"},\"id\":\"2572\",\"type\":\"Title\"},{\"attributes\":{},\"id\":\"2536\",\"type\":\"SaveTool\"},{\"attributes\":{\"callback\":null},\"id\":\"2387\",\"type\":\"DataRange1d\"},{\"attributes\":{\"below\":[{\"id\":\"2427\",\"type\":\"LinearAxis\"}],\"center\":[{\"id\":\"2431\",\"type\":\"Grid\"},{\"id\":\"2436\",\"type\":\"Grid\"}],\"left\":[{\"id\":\"2432\",\"type\":\"LinearAxis\"}],\"plot_height\":300,\"plot_width\":300,\"renderers\":[{\"id\":\"2564\",\"type\":\"GlyphRenderer\"}],\"title\":{\"id\":\"2566\",\"type\":\"Title\"},\"toolbar\":{\"id\":\"2443\",\"type\":\"Toolbar\"},\"toolbar_location\":null,\"x_range\":{\"id\":\"2419\",\"type\":\"DataRange1d\"},\"x_scale\":{\"id\":\"2423\",\"type\":\"LinearScale\"},\"y_range\":{\"id\":\"2421\",\"type\":\"DataRange1d\"},\"y_scale\":{\"id\":\"2425\",\"type\":\"LinearScale\"}},\"id\":\"2418\",\"subtype\":\"Figure\",\"type\":\"Plot\"},{\"attributes\":{},\"id\":\"2537\",\"type\":\"ResetTool\"},{\"attributes\":{\"data_source\":{\"id\":\"2556\",\"type\":\"ColumnDataSource\"},\"glyph\":{\"id\":\"2557\",\"type\":\"Line\"},\"hover_glyph\":null,\"muted_glyph\":null,\"view\":{\"id\":\"2574\",\"type\":\"CDSView\"}},\"id\":\"2573\",\"type\":\"GlyphRenderer\"},{\"attributes\":{},\"id\":\"2538\",\"type\":\"HelpTool\"},{\"attributes\":{\"active_drag\":\"auto\",\"active_inspect\":\"auto\",\"active_multi\":null,\"active_scroll\":\"auto\",\"active_tap\":\"auto\",\"tools\":[{\"id\":\"2373\",\"type\":\"PanTool\"},{\"id\":\"2374\",\"type\":\"WheelZoomTool\"},{\"id\":\"2375\",\"type\":\"BoxZoomTool\"},{\"id\":\"2376\",\"type\":\"SaveTool\"},{\"id\":\"2377\",\"type\":\"ResetTool\"},{\"id\":\"2378\",\"type\":\"HelpTool\"}]},\"id\":\"2379\",\"type\":\"Toolbar\"},{\"attributes\":{\"callback\":null},\"id\":\"2419\",\"type\":\"DataRange1d\"},{\"attributes\":{\"text\":\"D - y\"},\"id\":\"2575\",\"type\":\"Title\"},{\"attributes\":{\"below\":[{\"id\":\"2395\",\"type\":\"LinearAxis\"}],\"center\":[{\"id\":\"2399\",\"type\":\"Grid\"},{\"id\":\"2404\",\"type\":\"Grid\"}],\"left\":[{\"id\":\"2400\",\"type\":\"LinearAxis\"}],\"plot_height\":300,\"plot_width\":300,\"renderers\":[{\"id\":\"2561\",\"type\":\"GlyphRenderer\"}],\"title\":{\"id\":\"2563\",\"type\":\"Title\"},\"toolbar\":{\"id\":\"2411\",\"type\":\"Toolbar\"},\"toolbar_location\":null,\"x_range\":{\"id\":\"2387\",\"type\":\"DataRange1d\"},\"x_scale\":{\"id\":\"2391\",\"type\":\"LinearScale\"},\"y_range\":{\"id\":\"2389\",\"type\":\"DataRange1d\"},\"y_scale\":{\"id\":\"2393\",\"type\":\"LinearScale\"}},\"id\":\"2386\",\"subtype\":\"Figure\",\"type\":\"Plot\"},{\"attributes\":{},\"id\":\"2373\",\"type\":\"PanTool\"},{\"attributes\":{},\"id\":\"2374\",\"type\":\"WheelZoomTool\"},{\"attributes\":{\"line_color\":\"blue\",\"line_width\":2,\"x\":{\"field\":\"x\"},\"y\":{\"field\":\"y\"}},\"id\":\"2549\",\"type\":\"Line\"},{\"attributes\":{},\"id\":\"2590\",\"type\":\"BasicTickFormatter\"},{\"attributes\":{\"overlay\":{\"id\":\"2596\",\"type\":\"BoxAnnotation\"}},\"id\":\"2375\",\"type\":\"BoxZoomTool\"},{\"attributes\":{},\"id\":\"2376\",\"type\":\"SaveTool\"},{\"attributes\":{\"line_color\":\"blue\",\"line_width\":2,\"x\":{\"field\":\"x\"},\"y\":{\"field\":\"y\"}},\"id\":\"2553\",\"type\":\"Line\"},{\"attributes\":{\"toolbar\":{\"id\":\"2649\",\"type\":\"ProxyToolbar\"},\"toolbar_location\":\"above\"},\"id\":\"2650\",\"type\":\"ToolbarBox\"},{\"attributes\":{},\"id\":\"2377\",\"type\":\"ResetTool\"},{\"attributes\":{\"tools\":[{\"id\":\"2373\",\"type\":\"PanTool\"},{\"id\":\"2374\",\"type\":\"WheelZoomTool\"},{\"id\":\"2375\",\"type\":\"BoxZoomTool\"},{\"id\":\"2376\",\"type\":\"SaveTool\"},{\"id\":\"2377\",\"type\":\"ResetTool\"},{\"id\":\"2378\",\"type\":\"HelpTool\"},{\"id\":\"2405\",\"type\":\"PanTool\"},{\"id\":\"2406\",\"type\":\"WheelZoomTool\"},{\"id\":\"2407\",\"type\":\"BoxZoomTool\"},{\"id\":\"2408\",\"type\":\"SaveTool\"},{\"id\":\"2409\",\"type\":\"ResetTool\"},{\"id\":\"2410\",\"type\":\"HelpTool\"},{\"id\":\"2437\",\"type\":\"PanTool\"},{\"id\":\"2438\",\"type\":\"WheelZoomTool\"},{\"id\":\"2439\",\"type\":\"BoxZoomTool\"},{\"id\":\"2440\",\"type\":\"SaveTool\"},{\"id\":\"2441\",\"type\":\"ResetTool\"},{\"id\":\"2442\",\"type\":\"HelpTool\"},{\"id\":\"2469\",\"type\":\"PanTool\"},{\"id\":\"2470\",\"type\":\"WheelZoomTool\"},{\"id\":\"2471\",\"type\":\"BoxZoomTool\"},{\"id\":\"2472\",\"type\":\"SaveTool\"},{\"id\":\"2473\",\"type\":\"ResetTool\"},{\"id\":\"2474\",\"type\":\"HelpTool\"},{\"id\":\"2501\",\"type\":\"PanTool\"},{\"id\":\"2502\",\"type\":\"WheelZoomTool\"},{\"id\":\"2503\",\"type\":\"BoxZoomTool\"},{\"id\":\"2504\",\"type\":\"SaveTool\"},{\"id\":\"2505\",\"type\":\"ResetTool\"},{\"id\":\"2506\",\"type\":\"HelpTool\"},{\"id\":\"2533\",\"type\":\"PanTool\"},{\"id\":\"2534\",\"type\":\"WheelZoomTool\"},{\"id\":\"2535\",\"type\":\"BoxZoomTool\"},{\"id\":\"2536\",\"type\":\"SaveTool\"},{\"id\":\"2537\",\"type\":\"ResetTool\"},{\"id\":\"2538\",\"type\":\"HelpTool\"}]},\"id\":\"2649\",\"type\":\"ProxyToolbar\"},{\"attributes\":{},\"id\":\"2391\",\"type\":\"LinearScale\"},{\"attributes\":{\"callback\":null,\"data\":{\"x\":[0,1,2,3,4,5,6,7,8,9,10,11,12,13,14,15,16,17,18,19,20,21,22,23,24,25,26,27,28,29],\"y\":[0,0,0,0,0,0,0,0,0,0,0,0,0,0,0,0,1,2,3,4,5,6,7,8,9,10,11,12,13,14]},\"selected\":{\"id\":\"2625\",\"type\":\"Selection\"},\"selection_policy\":{\"id\":\"2624\",\"type\":\"UnionRenderers\"}},\"id\":\"2552\",\"type\":\"ColumnDataSource\"},{\"attributes\":{},\"id\":\"2378\",\"type\":\"HelpTool\"},{\"attributes\":{\"active_drag\":\"auto\",\"active_inspect\":\"auto\",\"active_multi\":null,\"active_scroll\":\"auto\",\"active_tap\":\"auto\",\"tools\":[{\"id\":\"2405\",\"type\":\"PanTool\"},{\"id\":\"2406\",\"type\":\"WheelZoomTool\"},{\"id\":\"2407\",\"type\":\"BoxZoomTool\"},{\"id\":\"2408\",\"type\":\"SaveTool\"},{\"id\":\"2409\",\"type\":\"ResetTool\"},{\"id\":\"2410\",\"type\":\"HelpTool\"}]},\"id\":\"2411\",\"type\":\"Toolbar\"},{\"attributes\":{\"callback\":null,\"data\":{\"x\":[0,1,2,3,4,5,6,7,8,9,10,11,12,13,14,15,16,17,18,19,20,21,22,23,24,25,26,27,28,29],\"y\":[15,15,15,15,15,15,15,15,15,15,15,15,15,15,15,15,15,15,15,15,15,15,15,15,15,15,15,15,15,15]},\"selected\":{\"id\":\"2605\",\"type\":\"Selection\"},\"selection_policy\":{\"id\":\"2604\",\"type\":\"UnionRenderers\"}},\"id\":\"2548\",\"type\":\"ColumnDataSource\"},{\"attributes\":{\"line_color\":\"blue\",\"line_width\":2,\"x\":{\"field\":\"x\"},\"y\":{\"field\":\"y\"}},\"id\":\"2551\",\"type\":\"Line\"},{\"attributes\":{},\"id\":\"2393\",\"type\":\"LinearScale\"},{\"attributes\":{},\"id\":\"2592\",\"type\":\"BasicTickFormatter\"},{\"attributes\":{\"axis_label\":\"D\",\"formatter\":{\"id\":\"2600\",\"type\":\"BasicTickFormatter\"},\"ticker\":{\"id\":\"2396\",\"type\":\"BasicTicker\"}},\"id\":\"2395\",\"type\":\"LinearAxis\"},{\"attributes\":{\"line_color\":\"blue\",\"line_width\":2,\"x\":{\"field\":\"x\"},\"y\":{\"field\":\"y\"}},\"id\":\"2547\",\"type\":\"Line\"},{\"attributes\":{\"callback\":null,\"data\":{\"x\":[0,1,2,3,4,5,6,7,8,9,10,11,12,13,14,15,16,17,18,19,20,21,22,23,24,25,26,27,28,29],\"y\":[0,1,2,3,4,5,6,7,8,9,10,11,12,13,14,15,16,17,18,19,20,21,22,23,24,25,26,27,28,29]},\"selected\":{\"id\":\"2595\",\"type\":\"Selection\"},\"selection_policy\":{\"id\":\"2594\",\"type\":\"UnionRenderers\"}},\"id\":\"2546\",\"type\":\"ColumnDataSource\"},{\"attributes\":{\"bottom_units\":\"screen\",\"fill_alpha\":{\"value\":0.5},\"fill_color\":{\"value\":\"lightgrey\"},\"left_units\":\"screen\",\"level\":\"overlay\",\"line_alpha\":{\"value\":1.0},\"line_color\":{\"value\":\"black\"},\"line_dash\":[4,4],\"line_width\":{\"value\":2},\"render_mode\":\"css\",\"right_units\":\"screen\",\"top_units\":\"screen\"},\"id\":\"2646\",\"type\":\"BoxAnnotation\"},{\"attributes\":{},\"id\":\"2460\",\"type\":\"BasicTicker\"},{\"attributes\":{\"bottom_units\":\"screen\",\"fill_alpha\":{\"value\":0.5},\"fill_color\":{\"value\":\"lightgrey\"},\"left_units\":\"screen\",\"level\":\"overlay\",\"line_alpha\":{\"value\":1.0},\"line_color\":{\"value\":\"black\"},\"line_dash\":[4,4],\"line_width\":{\"value\":2},\"render_mode\":\"css\",\"right_units\":\"screen\",\"top_units\":\"screen\"},\"id\":\"2596\",\"type\":\"BoxAnnotation\"},{\"attributes\":{\"ticker\":{\"id\":\"2460\",\"type\":\"BasicTicker\"}},\"id\":\"2463\",\"type\":\"Grid\"},{\"attributes\":{},\"id\":\"2401\",\"type\":\"BasicTicker\"},{\"attributes\":{},\"id\":\"2622\",\"type\":\"BasicTickFormatter\"},{\"attributes\":{},\"id\":\"2396\",\"type\":\"BasicTicker\"},{\"attributes\":{},\"id\":\"2465\",\"type\":\"BasicTicker\"},{\"attributes\":{\"ticker\":{\"id\":\"2396\",\"type\":\"BasicTicker\"}},\"id\":\"2399\",\"type\":\"Grid\"},{\"attributes\":{},\"id\":\"2487\",\"type\":\"LinearScale\"},{\"attributes\":{\"dimension\":1,\"ticker\":{\"id\":\"2401\",\"type\":\"BasicTicker\"}},\"id\":\"2404\",\"type\":\"Grid\"},{\"attributes\":{\"dimension\":1,\"ticker\":{\"id\":\"2465\",\"type\":\"BasicTicker\"}},\"id\":\"2468\",\"type\":\"Grid\"},{\"attributes\":{\"axis_label\":\"y\",\"formatter\":{\"id\":\"2602\",\"type\":\"BasicTickFormatter\"},\"ticker\":{\"id\":\"2401\",\"type\":\"BasicTicker\"}},\"id\":\"2400\",\"type\":\"LinearAxis\"},{\"attributes\":{\"axis_label\":\"(D - y)^+\",\"formatter\":{\"id\":\"2622\",\"type\":\"BasicTickFormatter\"},\"ticker\":{\"id\":\"2465\",\"type\":\"BasicTicker\"}},\"id\":\"2464\",\"type\":\"LinearAxis\"},{\"attributes\":{},\"id\":\"2625\",\"type\":\"Selection\"},{\"attributes\":{},\"id\":\"2620\",\"type\":\"BasicTickFormatter\"},{\"attributes\":{},\"id\":\"2610\",\"type\":\"BasicTickFormatter\"},{\"attributes\":{},\"id\":\"2423\",\"type\":\"LinearScale\"},{\"attributes\":{\"callback\":null},\"id\":\"2483\",\"type\":\"DataRange1d\"},{\"attributes\":{\"callback\":null},\"id\":\"2421\",\"type\":\"DataRange1d\"},{\"attributes\":{},\"id\":\"2519\",\"type\":\"LinearScale\"},{\"attributes\":{\"callback\":null},\"id\":\"2485\",\"type\":\"DataRange1d\"},{\"attributes\":{},\"id\":\"2614\",\"type\":\"UnionRenderers\"},{\"attributes\":{\"active_drag\":\"auto\",\"active_inspect\":\"auto\",\"active_multi\":null,\"active_scroll\":\"auto\",\"active_tap\":\"auto\",\"tools\":[{\"id\":\"2469\",\"type\":\"PanTool\"},{\"id\":\"2470\",\"type\":\"WheelZoomTool\"},{\"id\":\"2471\",\"type\":\"BoxZoomTool\"},{\"id\":\"2472\",\"type\":\"SaveTool\"},{\"id\":\"2473\",\"type\":\"ResetTool\"},{\"id\":\"2474\",\"type\":\"HelpTool\"}]},\"id\":\"2475\",\"type\":\"Toolbar\"},{\"attributes\":{},\"id\":\"2595\",\"type\":\"Selection\"},{\"attributes\":{\"axis_label\":\"D\",\"formatter\":{\"id\":\"2610\",\"type\":\"BasicTickFormatter\"},\"ticker\":{\"id\":\"2428\",\"type\":\"BasicTicker\"}},\"id\":\"2427\",\"type\":\"LinearAxis\"},{\"attributes\":{},\"id\":\"2602\",\"type\":\"BasicTickFormatter\"},{\"attributes\":{},\"id\":\"2405\",\"type\":\"PanTool\"},{\"attributes\":{},\"id\":\"2469\",\"type\":\"PanTool\"},{\"attributes\":{},\"id\":\"2406\",\"type\":\"WheelZoomTool\"},{\"attributes\":{},\"id\":\"2408\",\"type\":\"SaveTool\"},{\"attributes\":{},\"id\":\"2470\",\"type\":\"WheelZoomTool\"},{\"attributes\":{},\"id\":\"2600\",\"type\":\"BasicTickFormatter\"},{\"attributes\":{\"overlay\":{\"id\":\"2606\",\"type\":\"BoxAnnotation\"}},\"id\":\"2407\",\"type\":\"BoxZoomTool\"},{\"attributes\":{\"overlay\":{\"id\":\"2626\",\"type\":\"BoxAnnotation\"}},\"id\":\"2471\",\"type\":\"BoxZoomTool\"},{\"attributes\":{},\"id\":\"2615\",\"type\":\"Selection\"},{\"attributes\":{},\"id\":\"2472\",\"type\":\"SaveTool\"},{\"attributes\":{},\"id\":\"2425\",\"type\":\"LinearScale\"},{\"attributes\":{},\"id\":\"2612\",\"type\":\"BasicTickFormatter\"},{\"attributes\":{},\"id\":\"2473\",\"type\":\"ResetTool\"},{\"attributes\":{},\"id\":\"2433\",\"type\":\"BasicTicker\"},{\"attributes\":{},\"id\":\"2428\",\"type\":\"BasicTicker\"},{\"attributes\":{},\"id\":\"2409\",\"type\":\"ResetTool\"},{\"attributes\":{\"ticker\":{\"id\":\"2428\",\"type\":\"BasicTicker\"}},\"id\":\"2431\",\"type\":\"Grid\"},{\"attributes\":{},\"id\":\"2474\",\"type\":\"HelpTool\"},{\"attributes\":{},\"id\":\"2455\",\"type\":\"LinearScale\"},{\"attributes\":{\"dimension\":1,\"ticker\":{\"id\":\"2433\",\"type\":\"BasicTicker\"}},\"id\":\"2436\",\"type\":\"Grid\"},{\"attributes\":{},\"id\":\"2604\",\"type\":\"UnionRenderers\"},{\"attributes\":{\"axis_label\":\"min{y, D}\",\"formatter\":{\"id\":\"2612\",\"type\":\"BasicTickFormatter\"},\"ticker\":{\"id\":\"2433\",\"type\":\"BasicTicker\"}},\"id\":\"2432\",\"type\":\"LinearAxis\"},{\"attributes\":{\"bottom_units\":\"screen\",\"fill_alpha\":{\"value\":0.5},\"fill_color\":{\"value\":\"lightgrey\"},\"left_units\":\"screen\",\"level\":\"overlay\",\"line_alpha\":{\"value\":1.0},\"line_color\":{\"value\":\"black\"},\"line_dash\":[4,4],\"line_width\":{\"value\":2},\"render_mode\":\"css\",\"right_units\":\"screen\",\"top_units\":\"screen\"},\"id\":\"2616\",\"type\":\"BoxAnnotation\"},{\"attributes\":{},\"id\":\"2489\",\"type\":\"LinearScale\"},{\"attributes\":{\"axis_label\":\"D\",\"formatter\":{\"id\":\"2630\",\"type\":\"BasicTickFormatter\"},\"ticker\":{\"id\":\"2492\",\"type\":\"BasicTicker\"}},\"id\":\"2491\",\"type\":\"LinearAxis\"},{\"attributes\":{\"bottom_units\":\"screen\",\"fill_alpha\":{\"value\":0.5},\"fill_color\":{\"value\":\"lightgrey\"},\"left_units\":\"screen\",\"level\":\"overlay\",\"line_alpha\":{\"value\":1.0},\"line_color\":{\"value\":\"black\"},\"line_dash\":[4,4],\"line_width\":{\"value\":2},\"render_mode\":\"css\",\"right_units\":\"screen\",\"top_units\":\"screen\"},\"id\":\"2606\",\"type\":\"BoxAnnotation\"},{\"attributes\":{\"callback\":null},\"id\":\"2451\",\"type\":\"DataRange1d\"},{\"attributes\":{\"below\":[{\"id\":\"2491\",\"type\":\"LinearAxis\"}],\"center\":[{\"id\":\"2495\",\"type\":\"Grid\"},{\"id\":\"2500\",\"type\":\"Grid\"}],\"left\":[{\"id\":\"2496\",\"type\":\"LinearAxis\"}],\"plot_height\":300,\"plot_width\":300,\"renderers\":[{\"id\":\"2570\",\"type\":\"GlyphRenderer\"}],\"title\":{\"id\":\"2572\",\"type\":\"Title\"},\"toolbar\":{\"id\":\"2507\",\"type\":\"Toolbar\"},\"toolbar_location\":null,\"x_range\":{\"id\":\"2483\",\"type\":\"DataRange1d\"},\"x_scale\":{\"id\":\"2487\",\"type\":\"LinearScale\"},\"y_range\":{\"id\":\"2485\",\"type\":\"DataRange1d\"},\"y_scale\":{\"id\":\"2489\",\"type\":\"LinearScale\"}},\"id\":\"2482\",\"subtype\":\"Figure\",\"type\":\"Plot\"},{\"attributes\":{},\"id\":\"2605\",\"type\":\"Selection\"},{\"attributes\":{\"callback\":null},\"id\":\"2453\",\"type\":\"DataRange1d\"},{\"attributes\":{},\"id\":\"2624\",\"type\":\"UnionRenderers\"},{\"attributes\":{\"active_drag\":\"auto\",\"active_inspect\":\"auto\",\"active_multi\":null,\"active_scroll\":\"auto\",\"active_tap\":\"auto\",\"tools\":[{\"id\":\"2437\",\"type\":\"PanTool\"},{\"id\":\"2438\",\"type\":\"WheelZoomTool\"},{\"id\":\"2439\",\"type\":\"BoxZoomTool\"},{\"id\":\"2440\",\"type\":\"SaveTool\"},{\"id\":\"2441\",\"type\":\"ResetTool\"},{\"id\":\"2442\",\"type\":\"HelpTool\"}]},\"id\":\"2443\",\"type\":\"Toolbar\"},{\"attributes\":{},\"id\":\"2497\",\"type\":\"BasicTicker\"},{\"attributes\":{},\"id\":\"2492\",\"type\":\"BasicTicker\"},{\"attributes\":{\"below\":[{\"id\":\"2363\",\"type\":\"LinearAxis\"}],\"center\":[{\"id\":\"2367\",\"type\":\"Grid\"},{\"id\":\"2372\",\"type\":\"Grid\"}],\"left\":[{\"id\":\"2368\",\"type\":\"LinearAxis\"}],\"plot_height\":300,\"plot_width\":300,\"renderers\":[{\"id\":\"2558\",\"type\":\"GlyphRenderer\"}],\"title\":{\"id\":\"2560\",\"type\":\"Title\"},\"toolbar\":{\"id\":\"2379\",\"type\":\"Toolbar\"},\"toolbar_location\":null,\"x_range\":{\"id\":\"2355\",\"type\":\"DataRange1d\"},\"x_scale\":{\"id\":\"2359\",\"type\":\"LinearScale\"},\"y_range\":{\"id\":\"2357\",\"type\":\"DataRange1d\"},\"y_scale\":{\"id\":\"2361\",\"type\":\"LinearScale\"}},\"id\":\"2354\",\"subtype\":\"Figure\",\"type\":\"Plot\"},{\"attributes\":{\"ticker\":{\"id\":\"2492\",\"type\":\"BasicTicker\"}},\"id\":\"2495\",\"type\":\"Grid\"},{\"attributes\":{},\"id\":\"2594\",\"type\":\"UnionRenderers\"},{\"attributes\":{\"callback\":null},\"id\":\"2517\",\"type\":\"DataRange1d\"},{\"attributes\":{\"bottom_units\":\"screen\",\"fill_alpha\":{\"value\":0.5},\"fill_color\":{\"value\":\"lightgrey\"},\"left_units\":\"screen\",\"level\":\"overlay\",\"line_alpha\":{\"value\":1.0},\"line_color\":{\"value\":\"black\"},\"line_dash\":[4,4],\"line_width\":{\"value\":2},\"render_mode\":\"css\",\"right_units\":\"screen\",\"top_units\":\"screen\"},\"id\":\"2626\",\"type\":\"BoxAnnotation\"},{\"attributes\":{},\"id\":\"2437\",\"type\":\"PanTool\"},{\"attributes\":{\"dimension\":1,\"ticker\":{\"id\":\"2497\",\"type\":\"BasicTicker\"}},\"id\":\"2500\",\"type\":\"Grid\"},{\"attributes\":{\"axis_label\":\"(y - D)^+\",\"formatter\":{\"id\":\"2632\",\"type\":\"BasicTickFormatter\"},\"ticker\":{\"id\":\"2497\",\"type\":\"BasicTicker\"}},\"id\":\"2496\",\"type\":\"LinearAxis\"},{\"attributes\":{},\"id\":\"2635\",\"type\":\"Selection\"},{\"attributes\":{},\"id\":\"2438\",\"type\":\"WheelZoomTool\"},{\"attributes\":{},\"id\":\"2630\",\"type\":\"BasicTickFormatter\"},{\"attributes\":{\"callback\":null},\"id\":\"2515\",\"type\":\"DataRange1d\"},{\"attributes\":{},\"id\":\"2632\",\"type\":\"BasicTickFormatter\"},{\"attributes\":{\"overlay\":{\"id\":\"2616\",\"type\":\"BoxAnnotation\"}},\"id\":\"2439\",\"type\":\"BoxZoomTool\"},{\"attributes\":{},\"id\":\"2440\",\"type\":\"SaveTool\"},{\"attributes\":{},\"id\":\"2634\",\"type\":\"UnionRenderers\"},{\"attributes\":{},\"id\":\"2441\",\"type\":\"ResetTool\"},{\"attributes\":{\"bottom_units\":\"screen\",\"fill_alpha\":{\"value\":0.5},\"fill_color\":{\"value\":\"lightgrey\"},\"left_units\":\"screen\",\"level\":\"overlay\",\"line_alpha\":{\"value\":1.0},\"line_color\":{\"value\":\"black\"},\"line_dash\":[4,4],\"line_width\":{\"value\":2},\"render_mode\":\"css\",\"right_units\":\"screen\",\"top_units\":\"screen\"},\"id\":\"2636\",\"type\":\"BoxAnnotation\"},{\"attributes\":{\"below\":[{\"id\":\"2523\",\"type\":\"LinearAxis\"}],\"center\":[{\"id\":\"2527\",\"type\":\"Grid\"},{\"id\":\"2532\",\"type\":\"Grid\"}],\"left\":[{\"id\":\"2528\",\"type\":\"LinearAxis\"}],\"plot_height\":300,\"plot_width\":300,\"renderers\":[{\"id\":\"2573\",\"type\":\"GlyphRenderer\"}],\"title\":{\"id\":\"2575\",\"type\":\"Title\"},\"toolbar\":{\"id\":\"2539\",\"type\":\"Toolbar\"},\"toolbar_location\":null,\"x_range\":{\"id\":\"2515\",\"type\":\"DataRange1d\"},\"x_scale\":{\"id\":\"2519\",\"type\":\"LinearScale\"},\"y_range\":{\"id\":\"2517\",\"type\":\"DataRange1d\"},\"y_scale\":{\"id\":\"2521\",\"type\":\"LinearScale\"}},\"id\":\"2514\",\"subtype\":\"Figure\",\"type\":\"Plot\"},{\"attributes\":{},\"id\":\"2640\",\"type\":\"BasicTickFormatter\"},{\"attributes\":{},\"id\":\"2442\",\"type\":\"HelpTool\"},{\"attributes\":{},\"id\":\"2501\",\"type\":\"PanTool\"},{\"attributes\":{},\"id\":\"2642\",\"type\":\"BasicTickFormatter\"},{\"attributes\":{\"children\":[[{\"id\":\"2354\",\"subtype\":\"Figure\",\"type\":\"Plot\"},0,0],[{\"id\":\"2386\",\"subtype\":\"Figure\",\"type\":\"Plot\"},0,1],[{\"id\":\"2418\",\"subtype\":\"Figure\",\"type\":\"Plot\"},0,2],[{\"id\":\"2450\",\"subtype\":\"Figure\",\"type\":\"Plot\"},1,0],[{\"id\":\"2482\",\"subtype\":\"Figure\",\"type\":\"Plot\"},1,1],[{\"id\":\"2514\",\"subtype\":\"Figure\",\"type\":\"Plot\"},1,2]]},\"id\":\"2648\",\"type\":\"GridBox\"},{\"attributes\":{},\"id\":\"2502\",\"type\":\"WheelZoomTool\"},{\"attributes\":{},\"id\":\"2645\",\"type\":\"Selection\"},{\"attributes\":{\"overlay\":{\"id\":\"2636\",\"type\":\"BoxAnnotation\"}},\"id\":\"2503\",\"type\":\"BoxZoomTool\"},{\"attributes\":{},\"id\":\"2457\",\"type\":\"LinearScale\"},{\"attributes\":{},\"id\":\"2504\",\"type\":\"SaveTool\"},{\"attributes\":{},\"id\":\"2644\",\"type\":\"UnionRenderers\"}],\"root_ids\":[\"2651\"]},\"title\":\"Bokeh Application\",\"version\":\"1.3.4\"}};\n",
       "  var render_items = [{\"docid\":\"52791831-f680-4437-9698-214cf91ccf6e\",\"notebook_comms_target\":\"2804\",\"roots\":{\"2651\":\"a064df14-663e-4940-ae92-ab8e4fd3380d\"}}];\n",
       "  root.Bokeh.embed.embed_items_notebook(docs_json, render_items);\n",
       "\n",
       "  }\n",
       "  if (root.Bokeh !== undefined) {\n",
       "    embed_document(root);\n",
       "  } else {\n",
       "    var attempts = 0;\n",
       "    var timer = setInterval(function(root) {\n",
       "      if (root.Bokeh !== undefined) {\n",
       "        embed_document(root);\n",
       "        clearInterval(timer);\n",
       "      }\n",
       "      attempts++;\n",
       "      if (attempts > 100) {\n",
       "        console.log(\"Bokeh: ERROR: Unable to run BokehJS code because BokehJS library is missing\");\n",
       "        clearInterval(timer);\n",
       "      }\n",
       "    }, 10, root)\n",
       "  }\n",
       "})(window);"
      ],
      "application/vnd.bokehjs_exec.v0+json": ""
     },
     "metadata": {
      "application/vnd.bokehjs_exec.v0+json": {
       "id": "2651"
      }
     },
     "output_type": "display_data"
    }
   ],
   "source": [
    "import numpy as np\n",
    "import pandas as pd\n",
    "\n",
    "# Relationship between functions for demand, order quantity, sales, shortage, and surplus\n",
    "def funcs(y):\n",
    "    D_vals = pd.Index(np.arange(0, 30, 1), name='D')\n",
    "    f = pd.DataFrame(index=D_vals)\n",
    "    f['D'] = pd.Series(D_vals)\n",
    "    f['y'] = pd.Series(y, index=D_vals)\n",
    "    f['min{y, D}'] = np.minimum(y, f['D'])\n",
    "    f['(D - y)^+'] = np.maximum(f['D'] - y, 0)\n",
    "    f['(y - D)^+'] = np.maximum(y - f['D'], 0)\n",
    "    f['D - y'] = f['D'] - y\n",
    "    \n",
    "    return f\n",
    "\n",
    "fields = funcs(news.order_qty).columns.values\n",
    "labels = {field: {'x': 'D', 'y': field, 'title': field} for field in fields}\n",
    "line_plot_func = lambda n: news_plot.line_glyphs(funcs(n.order_qty), 'D')\n",
    "newsvendor.interact_gridplot(news_plot.figures(fields), line_plot_func, news, labels=labels)"
   ]
  }
 ],
 "metadata": {
  "kernelspec": {
   "display_name": "Python 3",
   "language": "python",
   "name": "python3"
  },
  "language_info": {
   "codemirror_mode": {
    "name": "ipython",
    "version": 3
   },
   "file_extension": ".py",
   "mimetype": "text/x-python",
   "name": "python",
   "nbconvert_exporter": "python",
   "pygments_lexer": "ipython3",
   "version": "3.7.4"
  }
 },
 "nbformat": 4,
 "nbformat_minor": 2
}

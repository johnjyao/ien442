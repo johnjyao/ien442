{
 "cells": [
  {
   "cell_type": "markdown",
   "metadata": {},
   "source": [
    "# The Newsvendor Model - Section 4: Generalization\n",
    "\n",
    "In Section 3 we saw that the analysis we did for the (discrete) $\\text{Uniform}\\{0,\\dots,d\\}$ distribution can be adapted to the (continuous) $\\text{Exponential}(\\lambda)$ distribution.  If you were able to do Exercise 3.4, you saw that this further generalized to any non-negative, continuous demand distribution.  The optimal solution satisfies the “critical fractile formula”:\n",
    "\n",
    "$$ y^* = F^{-1}\\left(\\frac{p - c}{p}\\right) $$\n",
    "\n",
    "In this section, we will consider a more general model that can be adapted for variations of the basic Newsvendor.  In doing so, we will also provide some economic insight into the critical fractile formula and answer the question initially posed in Exercise 2.4: how can you think of the optimal order quantity in terms of balancing a tradeoff?"
   ]
  },
  {
   "cell_type": "markdown",
   "metadata": {},
   "source": [
    "## Rephrasing the Original Problem\n",
    "\n",
    "Recall that we had the following formula for profit:\n",
    "\n",
    "$$ \\text{profit} = \\underbrace{p \\min\\{y, D\\}}_{\\text{revenue}} - \\underbrace{c y}_{\\text{cost}} $$\n",
    "\n",
    "We're going to rewrite this slightly and introduce two new quantities: surplus and shortage.\n",
    "\n",
    "$$ \\text{profit} = (p - c) D - (p - c) \\max\\{D - y, 0\\} - c \\max\\{y - D, 0\\} $$\n",
    "\n",
    "**Remark:** How do we know these two equations equal?  You can verify it with a bunch of algebra or look at the graphs of the function.  See the part “Sales, Shortage, Surplus (Optional)” below.  You may want to review the definition of the $\\max$ function from the “Formulas” portion of Section 2.\n",
    "\n",
    "Let's interpret the new expressions (recall that $D$ is the demand and $c$ is the wholesale cost):\n",
    "\n",
    "* $(p - c)$ is the profit *per newspaper sold*.\n",
    "\n",
    "* $\\max\\{D - y, 0\\}$ is the “shortage” or the amount that demand $D$ exceeded our order quantity $y$.  This cannot be negative and decreases as $y$ increases.\n",
    "    \n",
    "* $\\max\\{y - D, 0\\}$ is the “surplus” or the number of newspapers unsold newspapers at the end of the day.  This cannot be negative and increases as $y$ increases.\n",
    "\n",
    "So we are writing the profit as:\n",
    "\n",
    "* ideal total profit $(p - c) D$: the total profit if we were clairvoyant and exactly meet demand.\n",
    "* total shortage cost $(p - c) \\max\\{D - y, 0\\}$: the profit missed when we under-ordering (compared to the ideal)\n",
    "* total surplus cost $c \\max\\{y - D, 0\\}$: the unnecessary cost of unsold newspapers when we over-order (compared to the ideal)\n",
    "\n",
    "Putting this together and using the shorthand notation $(D - y)^+ \\overset{\\mathsf{def}}{=} \\max\\{D - y, 0\\}$ and $(y - D)^+ \\overset{\\mathsf{def}}{=} \\max\\{y - D, 0\\}$ we have:\n",
    "\n",
    "$$ \\text{profit} = \\underbrace{(p - c) D}_{\\text{ideal total profit}} - \\underbrace{(p - c) (D - y)^+}_{\\text{total shortage cost}} - \\underbrace{c (y - D)^+}_{\\text{total surplus cost}} $$\n",
    "\n",
    "So, in order to maximize expected profit, we want to find the order quantity $y$ that maximizes\n",
    "\n",
    "$$ \\mathsf{E}[\\text{profit}] = (p - c) \\mathsf{E}[D] - (p - c)\\mathsf{E}\\left[(D - y)^+\\right] - c \\mathsf{E}\\left[(y - D)^+\\right] $$\n",
    "\n",
    "How have we been finding the optimal order quantity $y^*$?  The hint in Exercise 2.4 (which also worked in Exercises 3.2, 3.3, and 3.4) was to solve for where the derivative equals $0$.  In other words, the optimal order quantity $y^*$ has to satisfy\n",
    "\n",
    "$$ \\frac{d}{dy}\\left(\\mathsf{E}[\\text{profit}]\\right) = 0. $$\n",
    "\n",
    "Using our rephrased profit function\n",
    "\n",
    "$$ \\underbrace{-\\frac{d}{dy} \\left((p - c) \\mathsf{E}\\left[(D - y)^+\\right]\\right)}_{\\text{marginal cost of shortage}} = \\underbrace{\\frac{d}{dy} \\left(c \\mathsf{E}\\left[(y - D)^+\\right]\\right)}_{\\text{marginal cost of surplus}}. $$\n",
    "\n",
    "In words, the optimal order quantity represents the point at which the benefit of ordering more inventory (since it reduces the shortage cost) begins to be outweighted by the cost of that inventory (since it increases the surplus cost).  Moreover, this is very compactly represented (and easily calculated) as:\n",
    "\n",
    "$$ y^* = F^{-1}\\left(\\frac{\\text{shortage cost}}{\\text{shortage + surplus costs}}\\right) $$"
   ]
  },
  {
   "cell_type": "markdown",
   "metadata": {},
   "source": [
    "## General Formulation\n",
    "\n",
    "The more general formulation of the newsvendor considers the problem in terms of the parameters:\n",
    "\n",
    "* $a$ = per unit profit\n",
    "* $b$ = shortage cost (per unit)\n",
    "* $c$ = surplus cost (per unit)\n",
    "\n",
    "and\n",
    "\n",
    "$$ \\text{profit} = a D - b (D - y)^+ - c (y - D)^+ $$\n",
    "\n",
    "$$ \\mathsf{E}[\\text{profit}] = a \\mathsf{E}[D] - b \\mathsf{E}\\left[(D - y)^+\\right] - c \\mathsf{E}\\left[(y - D)^+\\right] $$\n",
    "\n",
    "with optimal order quantity given by the critical fractile formula\n",
    "\n",
    "$$y^* = F^{-1}\\left(\\frac{b}{b+c}\\right)$$\n",
    "\n",
    "We can recover the original problem with $a = b = \\text{retail price} - \\text{wholesale cost}$ and $c = \\text{wholesale cost}$.\n",
    "\n",
    "In Homework 1, you will derive yet another the critical fractile formula and apply it to a setting with a feature that does not fit into the original formulation.\n",
    "\n",
    "**Remark:** You may choose to use any problem formulation that can be applied to the problem at hand and is intuitive for you to understand.  For example, you may find that having a term for $\\text{sales} = \\min\\{y, D\\}$ is helpful -- you can build an expression for $\\text{profit}$ that includes $\\min\\{y, D\\}$, $(D - y)^+$, $(y - D)^+$, $D$, and $y$.  Just be sure to formulate the coefficients correctly."
   ]
  },
  {
   "cell_type": "markdown",
   "metadata": {},
   "source": [
    "## Visualization (Optional)\n",
    "\n",
    "The following code repeats some of the analysis you did in Sections 3 but using the general formulation with $\\text{shortage}$ and $\\text{surplus}$ (and their associated costs) instead of $\\text{sales}$ (and revenue).  If you use the same problem parameters, you should get the same answers and plots for $\\text{profit}$ and $\\mathsf{E}[\\text{profit}]$ (subject to numerical accuracy or simulation error).  For a direct comparison, copy and paste the relevant codeblocks from Section 3."
   ]
  },
  {
   "cell_type": "code",
   "execution_count": 1,
   "metadata": {},
   "outputs": [
    {
     "data": {
      "text/html": [
       "\n",
       "    <div class=\"bk-root\">\n",
       "        <a href=\"https://bokeh.pydata.org\" target=\"_blank\" class=\"bk-logo bk-logo-small bk-logo-notebook\"></a>\n",
       "        <span id=\"1001\">Loading BokehJS ...</span>\n",
       "    </div>"
      ]
     },
     "metadata": {},
     "output_type": "display_data"
    },
    {
     "data": {
      "application/javascript": [
       "\n",
       "(function(root) {\n",
       "  function now() {\n",
       "    return new Date();\n",
       "  }\n",
       "\n",
       "  var force = true;\n",
       "\n",
       "  if (typeof root._bokeh_onload_callbacks === \"undefined\" || force === true) {\n",
       "    root._bokeh_onload_callbacks = [];\n",
       "    root._bokeh_is_loading = undefined;\n",
       "  }\n",
       "\n",
       "  var JS_MIME_TYPE = 'application/javascript';\n",
       "  var HTML_MIME_TYPE = 'text/html';\n",
       "  var EXEC_MIME_TYPE = 'application/vnd.bokehjs_exec.v0+json';\n",
       "  var CLASS_NAME = 'output_bokeh rendered_html';\n",
       "\n",
       "  /**\n",
       "   * Render data to the DOM node\n",
       "   */\n",
       "  function render(props, node) {\n",
       "    var script = document.createElement(\"script\");\n",
       "    node.appendChild(script);\n",
       "  }\n",
       "\n",
       "  /**\n",
       "   * Handle when an output is cleared or removed\n",
       "   */\n",
       "  function handleClearOutput(event, handle) {\n",
       "    var cell = handle.cell;\n",
       "\n",
       "    var id = cell.output_area._bokeh_element_id;\n",
       "    var server_id = cell.output_area._bokeh_server_id;\n",
       "    // Clean up Bokeh references\n",
       "    if (id != null && id in Bokeh.index) {\n",
       "      Bokeh.index[id].model.document.clear();\n",
       "      delete Bokeh.index[id];\n",
       "    }\n",
       "\n",
       "    if (server_id !== undefined) {\n",
       "      // Clean up Bokeh references\n",
       "      var cmd = \"from bokeh.io.state import curstate; print(curstate().uuid_to_server['\" + server_id + \"'].get_sessions()[0].document.roots[0]._id)\";\n",
       "      cell.notebook.kernel.execute(cmd, {\n",
       "        iopub: {\n",
       "          output: function(msg) {\n",
       "            var id = msg.content.text.trim();\n",
       "            if (id in Bokeh.index) {\n",
       "              Bokeh.index[id].model.document.clear();\n",
       "              delete Bokeh.index[id];\n",
       "            }\n",
       "          }\n",
       "        }\n",
       "      });\n",
       "      // Destroy server and session\n",
       "      var cmd = \"import bokeh.io.notebook as ion; ion.destroy_server('\" + server_id + \"')\";\n",
       "      cell.notebook.kernel.execute(cmd);\n",
       "    }\n",
       "  }\n",
       "\n",
       "  /**\n",
       "   * Handle when a new output is added\n",
       "   */\n",
       "  function handleAddOutput(event, handle) {\n",
       "    var output_area = handle.output_area;\n",
       "    var output = handle.output;\n",
       "\n",
       "    // limit handleAddOutput to display_data with EXEC_MIME_TYPE content only\n",
       "    if ((output.output_type != \"display_data\") || (!output.data.hasOwnProperty(EXEC_MIME_TYPE))) {\n",
       "      return\n",
       "    }\n",
       "\n",
       "    var toinsert = output_area.element.find(\".\" + CLASS_NAME.split(' ')[0]);\n",
       "\n",
       "    if (output.metadata[EXEC_MIME_TYPE][\"id\"] !== undefined) {\n",
       "      toinsert[toinsert.length - 1].firstChild.textContent = output.data[JS_MIME_TYPE];\n",
       "      // store reference to embed id on output_area\n",
       "      output_area._bokeh_element_id = output.metadata[EXEC_MIME_TYPE][\"id\"];\n",
       "    }\n",
       "    if (output.metadata[EXEC_MIME_TYPE][\"server_id\"] !== undefined) {\n",
       "      var bk_div = document.createElement(\"div\");\n",
       "      bk_div.innerHTML = output.data[HTML_MIME_TYPE];\n",
       "      var script_attrs = bk_div.children[0].attributes;\n",
       "      for (var i = 0; i < script_attrs.length; i++) {\n",
       "        toinsert[toinsert.length - 1].firstChild.setAttribute(script_attrs[i].name, script_attrs[i].value);\n",
       "      }\n",
       "      // store reference to server id on output_area\n",
       "      output_area._bokeh_server_id = output.metadata[EXEC_MIME_TYPE][\"server_id\"];\n",
       "    }\n",
       "  }\n",
       "\n",
       "  function register_renderer(events, OutputArea) {\n",
       "\n",
       "    function append_mime(data, metadata, element) {\n",
       "      // create a DOM node to render to\n",
       "      var toinsert = this.create_output_subarea(\n",
       "        metadata,\n",
       "        CLASS_NAME,\n",
       "        EXEC_MIME_TYPE\n",
       "      );\n",
       "      this.keyboard_manager.register_events(toinsert);\n",
       "      // Render to node\n",
       "      var props = {data: data, metadata: metadata[EXEC_MIME_TYPE]};\n",
       "      render(props, toinsert[toinsert.length - 1]);\n",
       "      element.append(toinsert);\n",
       "      return toinsert\n",
       "    }\n",
       "\n",
       "    /* Handle when an output is cleared or removed */\n",
       "    events.on('clear_output.CodeCell', handleClearOutput);\n",
       "    events.on('delete.Cell', handleClearOutput);\n",
       "\n",
       "    /* Handle when a new output is added */\n",
       "    events.on('output_added.OutputArea', handleAddOutput);\n",
       "\n",
       "    /**\n",
       "     * Register the mime type and append_mime function with output_area\n",
       "     */\n",
       "    OutputArea.prototype.register_mime_type(EXEC_MIME_TYPE, append_mime, {\n",
       "      /* Is output safe? */\n",
       "      safe: true,\n",
       "      /* Index of renderer in `output_area.display_order` */\n",
       "      index: 0\n",
       "    });\n",
       "  }\n",
       "\n",
       "  // register the mime type if in Jupyter Notebook environment and previously unregistered\n",
       "  if (root.Jupyter !== undefined) {\n",
       "    var events = require('base/js/events');\n",
       "    var OutputArea = require('notebook/js/outputarea').OutputArea;\n",
       "\n",
       "    if (OutputArea.prototype.mime_types().indexOf(EXEC_MIME_TYPE) == -1) {\n",
       "      register_renderer(events, OutputArea);\n",
       "    }\n",
       "  }\n",
       "\n",
       "  \n",
       "  if (typeof (root._bokeh_timeout) === \"undefined\" || force === true) {\n",
       "    root._bokeh_timeout = Date.now() + 5000;\n",
       "    root._bokeh_failed_load = false;\n",
       "  }\n",
       "\n",
       "  var NB_LOAD_WARNING = {'data': {'text/html':\n",
       "     \"<div style='background-color: #fdd'>\\n\"+\n",
       "     \"<p>\\n\"+\n",
       "     \"BokehJS does not appear to have successfully loaded. If loading BokehJS from CDN, this \\n\"+\n",
       "     \"may be due to a slow or bad network connection. Possible fixes:\\n\"+\n",
       "     \"</p>\\n\"+\n",
       "     \"<ul>\\n\"+\n",
       "     \"<li>re-rerun `output_notebook()` to attempt to load from CDN again, or</li>\\n\"+\n",
       "     \"<li>use INLINE resources instead, as so:</li>\\n\"+\n",
       "     \"</ul>\\n\"+\n",
       "     \"<code>\\n\"+\n",
       "     \"from bokeh.resources import INLINE\\n\"+\n",
       "     \"output_notebook(resources=INLINE)\\n\"+\n",
       "     \"</code>\\n\"+\n",
       "     \"</div>\"}};\n",
       "\n",
       "  function display_loaded() {\n",
       "    var el = document.getElementById(\"1001\");\n",
       "    if (el != null) {\n",
       "      el.textContent = \"BokehJS is loading...\";\n",
       "    }\n",
       "    if (root.Bokeh !== undefined) {\n",
       "      if (el != null) {\n",
       "        el.textContent = \"BokehJS \" + root.Bokeh.version + \" successfully loaded.\";\n",
       "      }\n",
       "    } else if (Date.now() < root._bokeh_timeout) {\n",
       "      setTimeout(display_loaded, 100)\n",
       "    }\n",
       "  }\n",
       "\n",
       "\n",
       "  function run_callbacks() {\n",
       "    try {\n",
       "      root._bokeh_onload_callbacks.forEach(function(callback) {\n",
       "        if (callback != null)\n",
       "          callback();\n",
       "      });\n",
       "    } finally {\n",
       "      delete root._bokeh_onload_callbacks\n",
       "    }\n",
       "    console.debug(\"Bokeh: all callbacks have finished\");\n",
       "  }\n",
       "\n",
       "  function load_libs(css_urls, js_urls, callback) {\n",
       "    if (css_urls == null) css_urls = [];\n",
       "    if (js_urls == null) js_urls = [];\n",
       "\n",
       "    root._bokeh_onload_callbacks.push(callback);\n",
       "    if (root._bokeh_is_loading > 0) {\n",
       "      console.debug(\"Bokeh: BokehJS is being loaded, scheduling callback at\", now());\n",
       "      return null;\n",
       "    }\n",
       "    if (js_urls == null || js_urls.length === 0) {\n",
       "      run_callbacks();\n",
       "      return null;\n",
       "    }\n",
       "    console.debug(\"Bokeh: BokehJS not loaded, scheduling load and callback at\", now());\n",
       "    root._bokeh_is_loading = css_urls.length + js_urls.length;\n",
       "\n",
       "    function on_load() {\n",
       "      root._bokeh_is_loading--;\n",
       "      if (root._bokeh_is_loading === 0) {\n",
       "        console.debug(\"Bokeh: all BokehJS libraries/stylesheets loaded\");\n",
       "        run_callbacks()\n",
       "      }\n",
       "    }\n",
       "\n",
       "    function on_error() {\n",
       "      console.error(\"failed to load \" + url);\n",
       "    }\n",
       "\n",
       "    for (var i = 0; i < css_urls.length; i++) {\n",
       "      var url = css_urls[i];\n",
       "      const element = document.createElement(\"link\");\n",
       "      element.onload = on_load;\n",
       "      element.onerror = on_error;\n",
       "      element.rel = \"stylesheet\";\n",
       "      element.type = \"text/css\";\n",
       "      element.href = url;\n",
       "      console.debug(\"Bokeh: injecting link tag for BokehJS stylesheet: \", url);\n",
       "      document.body.appendChild(element);\n",
       "    }\n",
       "\n",
       "    for (var i = 0; i < js_urls.length; i++) {\n",
       "      var url = js_urls[i];\n",
       "      var element = document.createElement('script');\n",
       "      element.onload = on_load;\n",
       "      element.onerror = on_error;\n",
       "      element.async = false;\n",
       "      element.src = url;\n",
       "      console.debug(\"Bokeh: injecting script tag for BokehJS library: \", url);\n",
       "      document.head.appendChild(element);\n",
       "    }\n",
       "  };var element = document.getElementById(\"1001\");\n",
       "  if (element == null) {\n",
       "    console.error(\"Bokeh: ERROR: autoload.js configured with elementid '1001' but no matching script tag was found. \")\n",
       "    return false;\n",
       "  }\n",
       "\n",
       "  function inject_raw_css(css) {\n",
       "    const element = document.createElement(\"style\");\n",
       "    element.appendChild(document.createTextNode(css));\n",
       "    document.body.appendChild(element);\n",
       "  }\n",
       "\n",
       "  var js_urls = [\"https://cdn.pydata.org/bokeh/release/bokeh-1.3.4.min.js\", \"https://cdn.pydata.org/bokeh/release/bokeh-widgets-1.3.4.min.js\", \"https://cdn.pydata.org/bokeh/release/bokeh-tables-1.3.4.min.js\", \"https://cdn.pydata.org/bokeh/release/bokeh-gl-1.3.4.min.js\"];\n",
       "  var css_urls = [];\n",
       "\n",
       "  var inline_js = [\n",
       "    function(Bokeh) {\n",
       "      Bokeh.set_log_level(\"info\");\n",
       "    },\n",
       "    \n",
       "    function(Bokeh) {\n",
       "      \n",
       "    },\n",
       "    function(Bokeh) {} // ensure no trailing comma for IE\n",
       "  ];\n",
       "\n",
       "  function run_inline_js() {\n",
       "    \n",
       "    if ((root.Bokeh !== undefined) || (force === true)) {\n",
       "      for (var i = 0; i < inline_js.length; i++) {\n",
       "        inline_js[i].call(root, root.Bokeh);\n",
       "      }if (force === true) {\n",
       "        display_loaded();\n",
       "      }} else if (Date.now() < root._bokeh_timeout) {\n",
       "      setTimeout(run_inline_js, 100);\n",
       "    } else if (!root._bokeh_failed_load) {\n",
       "      console.log(\"Bokeh: BokehJS failed to load within specified timeout.\");\n",
       "      root._bokeh_failed_load = true;\n",
       "    } else if (force !== true) {\n",
       "      var cell = $(document.getElementById(\"1001\")).parents('.cell').data().cell;\n",
       "      cell.output_area.append_execute_result(NB_LOAD_WARNING)\n",
       "    }\n",
       "\n",
       "  }\n",
       "\n",
       "  if (root._bokeh_is_loading === 0) {\n",
       "    console.debug(\"Bokeh: BokehJS loaded, going straight to plotting\");\n",
       "    run_inline_js();\n",
       "  } else {\n",
       "    load_libs(css_urls, js_urls, function() {\n",
       "      console.debug(\"Bokeh: BokehJS plotting callback run at\", now());\n",
       "      run_inline_js();\n",
       "    });\n",
       "  }\n",
       "}(window));"
      ],
      "application/vnd.bokehjs_load.v0+json": "\n(function(root) {\n  function now() {\n    return new Date();\n  }\n\n  var force = true;\n\n  if (typeof root._bokeh_onload_callbacks === \"undefined\" || force === true) {\n    root._bokeh_onload_callbacks = [];\n    root._bokeh_is_loading = undefined;\n  }\n\n  \n\n  \n  if (typeof (root._bokeh_timeout) === \"undefined\" || force === true) {\n    root._bokeh_timeout = Date.now() + 5000;\n    root._bokeh_failed_load = false;\n  }\n\n  var NB_LOAD_WARNING = {'data': {'text/html':\n     \"<div style='background-color: #fdd'>\\n\"+\n     \"<p>\\n\"+\n     \"BokehJS does not appear to have successfully loaded. If loading BokehJS from CDN, this \\n\"+\n     \"may be due to a slow or bad network connection. Possible fixes:\\n\"+\n     \"</p>\\n\"+\n     \"<ul>\\n\"+\n     \"<li>re-rerun `output_notebook()` to attempt to load from CDN again, or</li>\\n\"+\n     \"<li>use INLINE resources instead, as so:</li>\\n\"+\n     \"</ul>\\n\"+\n     \"<code>\\n\"+\n     \"from bokeh.resources import INLINE\\n\"+\n     \"output_notebook(resources=INLINE)\\n\"+\n     \"</code>\\n\"+\n     \"</div>\"}};\n\n  function display_loaded() {\n    var el = document.getElementById(\"1001\");\n    if (el != null) {\n      el.textContent = \"BokehJS is loading...\";\n    }\n    if (root.Bokeh !== undefined) {\n      if (el != null) {\n        el.textContent = \"BokehJS \" + root.Bokeh.version + \" successfully loaded.\";\n      }\n    } else if (Date.now() < root._bokeh_timeout) {\n      setTimeout(display_loaded, 100)\n    }\n  }\n\n\n  function run_callbacks() {\n    try {\n      root._bokeh_onload_callbacks.forEach(function(callback) {\n        if (callback != null)\n          callback();\n      });\n    } finally {\n      delete root._bokeh_onload_callbacks\n    }\n    console.debug(\"Bokeh: all callbacks have finished\");\n  }\n\n  function load_libs(css_urls, js_urls, callback) {\n    if (css_urls == null) css_urls = [];\n    if (js_urls == null) js_urls = [];\n\n    root._bokeh_onload_callbacks.push(callback);\n    if (root._bokeh_is_loading > 0) {\n      console.debug(\"Bokeh: BokehJS is being loaded, scheduling callback at\", now());\n      return null;\n    }\n    if (js_urls == null || js_urls.length === 0) {\n      run_callbacks();\n      return null;\n    }\n    console.debug(\"Bokeh: BokehJS not loaded, scheduling load and callback at\", now());\n    root._bokeh_is_loading = css_urls.length + js_urls.length;\n\n    function on_load() {\n      root._bokeh_is_loading--;\n      if (root._bokeh_is_loading === 0) {\n        console.debug(\"Bokeh: all BokehJS libraries/stylesheets loaded\");\n        run_callbacks()\n      }\n    }\n\n    function on_error() {\n      console.error(\"failed to load \" + url);\n    }\n\n    for (var i = 0; i < css_urls.length; i++) {\n      var url = css_urls[i];\n      const element = document.createElement(\"link\");\n      element.onload = on_load;\n      element.onerror = on_error;\n      element.rel = \"stylesheet\";\n      element.type = \"text/css\";\n      element.href = url;\n      console.debug(\"Bokeh: injecting link tag for BokehJS stylesheet: \", url);\n      document.body.appendChild(element);\n    }\n\n    for (var i = 0; i < js_urls.length; i++) {\n      var url = js_urls[i];\n      var element = document.createElement('script');\n      element.onload = on_load;\n      element.onerror = on_error;\n      element.async = false;\n      element.src = url;\n      console.debug(\"Bokeh: injecting script tag for BokehJS library: \", url);\n      document.head.appendChild(element);\n    }\n  };var element = document.getElementById(\"1001\");\n  if (element == null) {\n    console.error(\"Bokeh: ERROR: autoload.js configured with elementid '1001' but no matching script tag was found. \")\n    return false;\n  }\n\n  function inject_raw_css(css) {\n    const element = document.createElement(\"style\");\n    element.appendChild(document.createTextNode(css));\n    document.body.appendChild(element);\n  }\n\n  var js_urls = [\"https://cdn.pydata.org/bokeh/release/bokeh-1.3.4.min.js\", \"https://cdn.pydata.org/bokeh/release/bokeh-widgets-1.3.4.min.js\", \"https://cdn.pydata.org/bokeh/release/bokeh-tables-1.3.4.min.js\", \"https://cdn.pydata.org/bokeh/release/bokeh-gl-1.3.4.min.js\"];\n  var css_urls = [];\n\n  var inline_js = [\n    function(Bokeh) {\n      Bokeh.set_log_level(\"info\");\n    },\n    \n    function(Bokeh) {\n      \n    },\n    function(Bokeh) {} // ensure no trailing comma for IE\n  ];\n\n  function run_inline_js() {\n    \n    if ((root.Bokeh !== undefined) || (force === true)) {\n      for (var i = 0; i < inline_js.length; i++) {\n        inline_js[i].call(root, root.Bokeh);\n      }if (force === true) {\n        display_loaded();\n      }} else if (Date.now() < root._bokeh_timeout) {\n      setTimeout(run_inline_js, 100);\n    } else if (!root._bokeh_failed_load) {\n      console.log(\"Bokeh: BokehJS failed to load within specified timeout.\");\n      root._bokeh_failed_load = true;\n    } else if (force !== true) {\n      var cell = $(document.getElementById(\"1001\")).parents('.cell').data().cell;\n      cell.output_area.append_execute_result(NB_LOAD_WARNING)\n    }\n\n  }\n\n  if (root._bokeh_is_loading === 0) {\n    console.debug(\"Bokeh: BokehJS loaded, going straight to plotting\");\n    run_inline_js();\n  } else {\n    load_libs(css_urls, js_urls, function() {\n      console.debug(\"Bokeh: BokehJS plotting callback run at\", now());\n      run_inline_js();\n    });\n  }\n}(window));"
     },
     "metadata": {},
     "output_type": "display_data"
    }
   ],
   "source": [
    "# Import Python packages\n",
    "import newsvendor\n",
    "import news_plot"
   ]
  },
  {
   "cell_type": "code",
   "execution_count": 2,
   "metadata": {
    "scrolled": false
   },
   "outputs": [
    {
     "data": {
      "application/vnd.jupyter.widget-view+json": {
       "model_id": "dc55d1c2ee4d42799f41364ee189c8d2",
       "version_major": 2,
       "version_minor": 0
      },
      "text/plain": [
       "interactive(children=(IntSlider(value=15, description='Order Qty', max=20), Output()), _dom_classes=('widget-i…"
      ]
     },
     "metadata": {},
     "output_type": "display_data"
    },
    {
     "data": {
      "text/html": [
       "\n",
       "\n",
       "\n",
       "\n",
       "\n",
       "\n",
       "  <div class=\"bk-root\" id=\"5754d9f5-6c5a-4efc-8dbd-81809d33234e\" data-root-id=\"1168\"></div>\n"
      ]
     },
     "metadata": {},
     "output_type": "display_data"
    },
    {
     "data": {
      "application/javascript": [
       "(function(root) {\n",
       "  function embed_document(root) {\n",
       "    \n",
       "  var docs_json = {\"7330a7d6-fdfa-46a1-b145-454411e2dde4\":{\"roots\":{\"references\":[{\"attributes\":{\"children\":[{\"id\":\"1167\",\"type\":\"ToolbarBox\"},{\"id\":\"1165\",\"type\":\"GridBox\"}]},\"id\":\"1168\",\"type\":\"Column\"},{\"attributes\":{},\"id\":\"1058\",\"type\":\"HelpTool\"},{\"attributes\":{\"active_drag\":\"auto\",\"active_inspect\":\"auto\",\"active_multi\":null,\"active_scroll\":\"auto\",\"active_tap\":\"auto\",\"tools\":[{\"id\":\"1053\",\"type\":\"PanTool\"},{\"id\":\"1054\",\"type\":\"WheelZoomTool\"},{\"id\":\"1055\",\"type\":\"BoxZoomTool\"},{\"id\":\"1056\",\"type\":\"SaveTool\"},{\"id\":\"1057\",\"type\":\"ResetTool\"},{\"id\":\"1058\",\"type\":\"HelpTool\"}]},\"id\":\"1059\",\"type\":\"Toolbar\"},{\"attributes\":{},\"id\":\"1073\",\"type\":\"LinearScale\"},{\"attributes\":{\"axis_label\":\"profit\",\"formatter\":{\"id\":\"1158\",\"type\":\"BasicTickFormatter\"},\"ticker\":{\"id\":\"1076\",\"type\":\"BasicTicker\"}},\"id\":\"1075\",\"type\":\"LinearAxis\"},{\"attributes\":{},\"id\":\"1081\",\"type\":\"BasicTicker\"},{\"attributes\":{},\"id\":\"1076\",\"type\":\"BasicTicker\"},{\"attributes\":{\"ticker\":{\"id\":\"1076\",\"type\":\"BasicTicker\"}},\"id\":\"1079\",\"type\":\"Grid\"},{\"attributes\":{\"below\":[{\"id\":\"1011\",\"type\":\"LinearAxis\"}],\"center\":[{\"id\":\"1015\",\"type\":\"Grid\"},{\"id\":\"1020\",\"type\":\"Grid\"}],\"left\":[{\"id\":\"1016\",\"type\":\"LinearAxis\"}],\"plot_height\":300,\"plot_width\":300,\"renderers\":[{\"id\":\"1112\",\"type\":\"GlyphRenderer\"}],\"title\":{\"id\":\"1114\",\"type\":\"Title\"},\"toolbar\":{\"id\":\"1027\",\"type\":\"Toolbar\"},\"toolbar_location\":null,\"x_range\":{\"id\":\"1003\",\"type\":\"DataRange1d\"},\"x_scale\":{\"id\":\"1007\",\"type\":\"LinearScale\"},\"y_range\":{\"id\":\"1005\",\"type\":\"DataRange1d\"},\"y_scale\":{\"id\":\"1009\",\"type\":\"LinearScale\"}},\"id\":\"1002\",\"subtype\":\"Figure\",\"type\":\"Plot\"},{\"attributes\":{\"dimension\":1,\"ticker\":{\"id\":\"1081\",\"type\":\"BasicTicker\"}},\"id\":\"1084\",\"type\":\"Grid\"},{\"attributes\":{\"axis_label\":\"count\",\"formatter\":{\"id\":\"1160\",\"type\":\"BasicTickFormatter\"},\"ticker\":{\"id\":\"1081\",\"type\":\"BasicTicker\"}},\"id\":\"1080\",\"type\":\"LinearAxis\"},{\"attributes\":{},\"id\":\"1152\",\"type\":\"UnionRenderers\"},{\"attributes\":{\"axis_label\":\"count\",\"formatter\":{\"id\":\"1140\",\"type\":\"BasicTickFormatter\"},\"ticker\":{\"id\":\"1017\",\"type\":\"BasicTicker\"}},\"id\":\"1016\",\"type\":\"LinearAxis\"},{\"attributes\":{\"active_drag\":\"auto\",\"active_inspect\":\"auto\",\"active_multi\":null,\"active_scroll\":\"auto\",\"active_tap\":\"auto\",\"tools\":[{\"id\":\"1085\",\"type\":\"PanTool\"},{\"id\":\"1086\",\"type\":\"WheelZoomTool\"},{\"id\":\"1087\",\"type\":\"BoxZoomTool\"},{\"id\":\"1088\",\"type\":\"SaveTool\"},{\"id\":\"1089\",\"type\":\"ResetTool\"},{\"id\":\"1090\",\"type\":\"HelpTool\"}]},\"id\":\"1091\",\"type\":\"Toolbar\"},{\"attributes\":{},\"id\":\"1085\",\"type\":\"PanTool\"},{\"attributes\":{},\"id\":\"1086\",\"type\":\"WheelZoomTool\"},{\"attributes\":{\"overlay\":{\"id\":\"1163\",\"type\":\"BoxAnnotation\"}},\"id\":\"1087\",\"type\":\"BoxZoomTool\"},{\"attributes\":{},\"id\":\"1088\",\"type\":\"SaveTool\"},{\"attributes\":{},\"id\":\"1089\",\"type\":\"ResetTool\"},{\"attributes\":{\"toolbar\":{\"id\":\"1166\",\"type\":\"ProxyToolbar\"},\"toolbar_location\":\"above\"},\"id\":\"1167\",\"type\":\"ToolbarBox\"},{\"attributes\":{},\"id\":\"1090\",\"type\":\"HelpTool\"},{\"attributes\":{},\"id\":\"1151\",\"type\":\"Selection\"},{\"attributes\":{},\"id\":\"1148\",\"type\":\"BasicTickFormatter\"},{\"attributes\":{},\"id\":\"1138\",\"type\":\"BasicTickFormatter\"},{\"attributes\":{\"callback\":null,\"data\":{\"top\":[9,8,9,6,4,8,4,11,6,5,6,6,10,7,4,5,4,5,5,7,6,6,6,3,5,4,4,8,3,5,3,6,4,4,3,2,2,5,3,2,1,4,3,3,2,2,6,2,2,1,2,1,1,0,2,2,5,2,2,6,1,2,2,1,2,1,5,1,88],\"x\":{\"__ndarray__\":\"ppvEILByxD/6fmq8dJPYP57vp8ZLN+M/KVyPwvUo6j8lBoGVQ4vwPzVeukkMAvQ/Rrbz/dR49z9WDi2yne/6P2ZmZmZmZv4/PN9PjZfuAEBEi2zn+6kCQEw3iUFgZQRAVOOlm8QgBkBcj8L1KNwHQGQ730+NlwlAbOf7qfFSC0B1kxgEVg4NQH0/NV66yQ5AUI2XbhJDEEBU46WbxCARQFg5tMh2/hFAXI/C9SjcEkBg5dAi27kTQGQ730+NlxRAaJHtfD91FUBs5/up8VIWQHA9CtejMBdAdJMYBFYOGEB56SYxCOwYQH0/NV66yRlAgZVDi2ynGkCG61G4HoUbQIpBYOXQYhxAjpduEoNAHUCS7Xw/NR4eQCPb+X5q/B5AJzEIrBzaH0CWQ4ts51sgQJhuEoPAyiBAmpmZmZk5IUCcxCCwcqghQJ7vp8ZLFyJAoBov3SSGIkCiRbbz/fQiQKRwPQrXYyNAppvEILDSI0Coxks3iUEkQKrx0k1isCRArBxaZDsfJUCuR+F6FI4lQLByaJHt/CVAsp3vp8ZrJkB7FK5H4domQH0/NV66SSdAf2q8dJO4J0CBlUOLbCcoQIPAyqFFlihAhetRuB4FKUCIFtnO93MpQIpBYOXQ4ilAjGzn+6lRKkCOl24Sg8AqQJDC9ShcLytAku18PzWeK0CUGARWDg0sQJZDi2zneyxAmG4Sg8DqLECamZmZmVktQJzEILByyC1A\",\"dtype\":\"float64\",\"shape\":[69]}},\"selected\":{\"id\":\"1151\",\"type\":\"Selection\"},\"selection_policy\":{\"id\":\"1152\",\"type\":\"UnionRenderers\"}},\"id\":\"1100\",\"type\":\"ColumnDataSource\"},{\"attributes\":{\"callback\":null,\"data\":{\"top\":[33,32,31,25,26,18,23,14,12,14,11,6,14,9,10,10,7,7,5,7,3,6,2,4,8,0,3,1,4,0,3,0,5,2,3,1,0,0,0,1,0,2,0,0,0,0,0,0,1,0,0,0,1,0,0,0,0,0,0,0,0,0,0,0,0,0,0,0,1],\"x\":{\"__ndarray__\":\"/61kx0ag4D9OYhBYObT4Py2yne+nRgRAMjMzMzMzDECPwvUoXA8SQIXrUbgeBRZAexSuR+H6GUBxPQrXo/AdQDQzMzMz8yBArkfhehTuIkApXI/C9egkQKRwPQrX4yZAHoXrUbjeKECamZmZmdkqQBSuR+F61CxAkML1KFzPLkCF61G4HmUwQML1KFyPYjFAAAAAAABgMkA+CtejcF0zQHsUrkfhWjRAuB6F61FYNUD2KFyPwlU2QDMzMzMzUzdAcD0K16NQOECuR+F6FE45QOxRuB6FSzpAKVyPwvVIO0BmZmZmZkY8QKRwPQrXQz1A4noUrkdBPkAehetRuD4/QK5H4XoUHkBAzMzMzMycQEDsUbgehRtBQArXo3A9mkFAKVyPwvUYQkBI4XoUrpdCQGZmZmZmFkNAhetRuB6VQ0CkcD0K1xNEQML1KFyPkkRA4noUrkcRRUAAAAAAAJBFQB6F61G4DkZAPgrXo3CNRkBcj8L1KAxHQHsUrkfhikdAmpmZmZkJSEC4HoXrUYhIQMl2vp8aB0lA2c73U+OFSUD4U+OlmwRKQBbZzvdTg0pANl66SQwCS0BU46WbxIBLQHJoke18/0tAku18PzV+TECwcmiR7fxMQM73U+Ole01A7nw/NV76TUAMAiuHFnlOQCuHFtnO905ASgwCK4d2T0Boke18P/VPQESLbOf7OVBA001iEFh5UEBiEFg5tLhQQPLSTWIQ+FBA\",\"dtype\":\"float64\",\"shape\":[69]}},\"selected\":{\"id\":\"1141\",\"type\":\"Selection\"},\"selection_policy\":{\"id\":\"1142\",\"type\":\"UnionRenderers\"}},\"id\":\"1098\",\"type\":\"ColumnDataSource\"},{\"attributes\":{\"below\":[{\"id\":\"1043\",\"type\":\"LinearAxis\"}],\"center\":[{\"id\":\"1047\",\"type\":\"Grid\"},{\"id\":\"1052\",\"type\":\"Grid\"}],\"left\":[{\"id\":\"1048\",\"type\":\"LinearAxis\"}],\"plot_height\":300,\"plot_width\":300,\"renderers\":[{\"id\":\"1115\",\"type\":\"GlyphRenderer\"}],\"title\":{\"id\":\"1117\",\"type\":\"Title\"},\"toolbar\":{\"id\":\"1059\",\"type\":\"Toolbar\"},\"toolbar_location\":null,\"x_range\":{\"id\":\"1035\",\"type\":\"DataRange1d\"},\"x_scale\":{\"id\":\"1039\",\"type\":\"LinearScale\"},\"y_range\":{\"id\":\"1037\",\"type\":\"DataRange1d\"},\"y_scale\":{\"id\":\"1041\",\"type\":\"LinearScale\"}},\"id\":\"1034\",\"subtype\":\"Figure\",\"type\":\"Plot\"},{\"attributes\":{\"callback\":null,\"data\":{\"top\":[9,8,9,6,4,8,4,11,6,5,6,6,10,7,4,5,4,5,5,7,6,6,6,3,5,4,4,8,3,5,3,6,4,4,3,2,2,5,3,2,1,4,3,3,2,2,6,2,2,1,2,1,1,0,2,2,5,2,2,6,1,2,2,1,2,1,5,1,88],\"x\":{\"__ndarray__\":\"XI/C9ShcLcBKDAIrh3YswEa28/3UmCvAQmDl0CK7KsA9CtejcN0pwDm0yHa+/yjANV66SQwiKMAxCKwcWkQnwC2yne+nZibAKVyPwvWIJcBeukkMAqskwJQYBFYOzSPAj8L1KFzvIsCLbOf7qREiwIcW2c73MyHAg8DKoUVWIMD+1HjpJvEewPYoXI/CNR3A7nw/NV56G8Dl0CLb+b4ZwN0kBoGVAxjA1XjpJjFIFsDNzMzMzIwUwMUgsHJo0RLAvHSTGAQWEcBoke18P7UOwFg5tMh2PgvALbKd76fGB8ACK4cW2U4EwPLSTWIQ2ADAwvUoXI/C+r+iRbbz/dTzvwIrhxbZzum/gZVDi2zn178SWDm0yHauP4XrUbgehd8/BFYOLbKd7T8i2/l+arz1P0SLbOf7qfw/sp3vp8bLAUDC9Shcj0IFQNNNYhBYuQhA5KWbxCAwDEAPLbKd76cPQB1aZDvfjxFAJQaBlUNLE0Atsp3vpwYVQDVeukkMwhZAPgrXo3B9GEBGtvP91DgaQE5iEFg59BtAVg4tsp2vHUBeukkMAmsfQDMzMzMzkyBAN4lBYOVwIUA730+Nl04iQEA1XrpJLCNARIts5/sJJEBI4XoUruckQEw3iUFgxSVAFtnO91OjJkDhehSuR4EnQOXQItv5XihA6iYxCKw8KUDufD81XhoqQPLSTWIQ+CpA9ihcj8LVK0D6fmq8dLMsQP7UeOkmkS1A\",\"dtype\":\"float64\",\"shape\":[69]}},\"selected\":{\"id\":\"1161\",\"type\":\"Selection\"},\"selection_policy\":{\"id\":\"1162\",\"type\":\"UnionRenderers\"}},\"id\":\"1110\",\"type\":\"ColumnDataSource\"},{\"attributes\":{\"callback\":null},\"id\":\"1003\",\"type\":\"DataRange1d\"},{\"attributes\":{},\"id\":\"1158\",\"type\":\"BasicTickFormatter\"},{\"attributes\":{\"callback\":null},\"id\":\"1005\",\"type\":\"DataRange1d\"},{\"attributes\":{\"fill_color\":{\"value\":\"blue\"},\"top\":{\"field\":\"top\"},\"width\":{\"value\":0.2167608695652174},\"x\":{\"field\":\"x\"}},\"id\":\"1101\",\"type\":\"VBar\"},{\"attributes\":{\"data_source\":{\"id\":\"1098\",\"type\":\"ColumnDataSource\"},\"glyph\":{\"id\":\"1099\",\"type\":\"VBar\"},\"hover_glyph\":null,\"muted_glyph\":null,\"view\":{\"id\":\"1113\",\"type\":\"CDSView\"}},\"id\":\"1112\",\"type\":\"GlyphRenderer\"},{\"attributes\":{},\"id\":\"1150\",\"type\":\"BasicTickFormatter\"},{\"attributes\":{\"bottom_units\":\"screen\",\"fill_alpha\":{\"value\":0.5},\"fill_color\":{\"value\":\"lightgrey\"},\"left_units\":\"screen\",\"level\":\"overlay\",\"line_alpha\":{\"value\":1.0},\"line_color\":{\"value\":\"black\"},\"line_dash\":[4,4],\"line_width\":{\"value\":2},\"render_mode\":\"css\",\"right_units\":\"screen\",\"top_units\":\"screen\"},\"id\":\"1153\",\"type\":\"BoxAnnotation\"},{\"attributes\":{},\"id\":\"1017\",\"type\":\"BasicTicker\"},{\"attributes\":{},\"id\":\"1012\",\"type\":\"BasicTicker\"},{\"attributes\":{},\"id\":\"1141\",\"type\":\"Selection\"},{\"attributes\":{\"ticker\":{\"id\":\"1012\",\"type\":\"BasicTicker\"}},\"id\":\"1015\",\"type\":\"Grid\"},{\"attributes\":{\"source\":{\"id\":\"1110\",\"type\":\"ColumnDataSource\"}},\"id\":\"1119\",\"type\":\"CDSView\"},{\"attributes\":{\"active_drag\":\"auto\",\"active_inspect\":\"auto\",\"active_multi\":null,\"active_scroll\":\"auto\",\"active_tap\":\"auto\",\"tools\":[{\"id\":\"1021\",\"type\":\"PanTool\"},{\"id\":\"1022\",\"type\":\"WheelZoomTool\"},{\"id\":\"1023\",\"type\":\"BoxZoomTool\"},{\"id\":\"1024\",\"type\":\"SaveTool\"},{\"id\":\"1025\",\"type\":\"ResetTool\"},{\"id\":\"1026\",\"type\":\"HelpTool\"}]},\"id\":\"1027\",\"type\":\"Toolbar\"},{\"attributes\":{},\"id\":\"1160\",\"type\":\"BasicTickFormatter\"},{\"attributes\":{\"dimension\":1,\"ticker\":{\"id\":\"1017\",\"type\":\"BasicTicker\"}},\"id\":\"1020\",\"type\":\"Grid\"},{\"attributes\":{},\"id\":\"1039\",\"type\":\"LinearScale\"},{\"attributes\":{},\"id\":\"1007\",\"type\":\"LinearScale\"},{\"attributes\":{\"callback\":null},\"id\":\"1035\",\"type\":\"DataRange1d\"},{\"attributes\":{\"callback\":null},\"id\":\"1037\",\"type\":\"DataRange1d\"},{\"attributes\":{},\"id\":\"1071\",\"type\":\"LinearScale\"},{\"attributes\":{},\"id\":\"1021\",\"type\":\"PanTool\"},{\"attributes\":{\"fill_color\":{\"value\":\"blue\"},\"top\":{\"field\":\"top\"},\"width\":{\"value\":0.9910271014492754},\"x\":{\"field\":\"x\"}},\"id\":\"1099\",\"type\":\"VBar\"},{\"attributes\":{\"data_source\":{\"id\":\"1100\",\"type\":\"ColumnDataSource\"},\"glyph\":{\"id\":\"1101\",\"type\":\"VBar\"},\"hover_glyph\":null,\"muted_glyph\":null,\"view\":{\"id\":\"1116\",\"type\":\"CDSView\"}},\"id\":\"1115\",\"type\":\"GlyphRenderer\"},{\"attributes\":{},\"id\":\"1022\",\"type\":\"WheelZoomTool\"},{\"attributes\":{\"text\":\"sales histogram\"},\"id\":\"1117\",\"type\":\"Title\"},{\"attributes\":{\"overlay\":{\"id\":\"1143\",\"type\":\"BoxAnnotation\"}},\"id\":\"1023\",\"type\":\"BoxZoomTool\"},{\"attributes\":{},\"id\":\"1024\",\"type\":\"SaveTool\"},{\"attributes\":{\"fill_color\":{\"value\":\"blue\"},\"top\":{\"field\":\"top\"},\"width\":{\"value\":0.4335072463768116},\"x\":{\"field\":\"x\"}},\"id\":\"1111\",\"type\":\"VBar\"},{\"attributes\":{},\"id\":\"1025\",\"type\":\"ResetTool\"},{\"attributes\":{},\"id\":\"1161\",\"type\":\"Selection\"},{\"attributes\":{},\"id\":\"1026\",\"type\":\"HelpTool\"},{\"attributes\":{},\"id\":\"1162\",\"type\":\"UnionRenderers\"},{\"attributes\":{},\"id\":\"1041\",\"type\":\"LinearScale\"},{\"attributes\":{\"source\":{\"id\":\"1098\",\"type\":\"ColumnDataSource\"}},\"id\":\"1113\",\"type\":\"CDSView\"},{\"attributes\":{\"children\":[[{\"id\":\"1002\",\"subtype\":\"Figure\",\"type\":\"Plot\"},0,0],[{\"id\":\"1034\",\"subtype\":\"Figure\",\"type\":\"Plot\"},0,1],[{\"id\":\"1066\",\"subtype\":\"Figure\",\"type\":\"Plot\"},0,2]]},\"id\":\"1165\",\"type\":\"GridBox\"},{\"attributes\":{\"axis_label\":\"sales\",\"formatter\":{\"id\":\"1148\",\"type\":\"BasicTickFormatter\"},\"ticker\":{\"id\":\"1044\",\"type\":\"BasicTicker\"}},\"id\":\"1043\",\"type\":\"LinearAxis\"},{\"attributes\":{},\"id\":\"1049\",\"type\":\"BasicTicker\"},{\"attributes\":{},\"id\":\"1044\",\"type\":\"BasicTicker\"},{\"attributes\":{},\"id\":\"1142\",\"type\":\"UnionRenderers\"},{\"attributes\":{\"ticker\":{\"id\":\"1044\",\"type\":\"BasicTicker\"}},\"id\":\"1047\",\"type\":\"Grid\"},{\"attributes\":{\"callback\":null},\"id\":\"1069\",\"type\":\"DataRange1d\"},{\"attributes\":{\"bottom_units\":\"screen\",\"fill_alpha\":{\"value\":0.5},\"fill_color\":{\"value\":\"lightgrey\"},\"left_units\":\"screen\",\"level\":\"overlay\",\"line_alpha\":{\"value\":1.0},\"line_color\":{\"value\":\"black\"},\"line_dash\":[4,4],\"line_width\":{\"value\":2},\"render_mode\":\"css\",\"right_units\":\"screen\",\"top_units\":\"screen\"},\"id\":\"1163\",\"type\":\"BoxAnnotation\"},{\"attributes\":{\"dimension\":1,\"ticker\":{\"id\":\"1049\",\"type\":\"BasicTicker\"}},\"id\":\"1052\",\"type\":\"Grid\"},{\"attributes\":{\"axis_label\":\"count\",\"formatter\":{\"id\":\"1150\",\"type\":\"BasicTickFormatter\"},\"ticker\":{\"id\":\"1049\",\"type\":\"BasicTicker\"}},\"id\":\"1048\",\"type\":\"LinearAxis\"},{\"attributes\":{},\"id\":\"1140\",\"type\":\"BasicTickFormatter\"},{\"attributes\":{\"callback\":null},\"id\":\"1067\",\"type\":\"DataRange1d\"},{\"attributes\":{\"tools\":[{\"id\":\"1021\",\"type\":\"PanTool\"},{\"id\":\"1022\",\"type\":\"WheelZoomTool\"},{\"id\":\"1023\",\"type\":\"BoxZoomTool\"},{\"id\":\"1024\",\"type\":\"SaveTool\"},{\"id\":\"1025\",\"type\":\"ResetTool\"},{\"id\":\"1026\",\"type\":\"HelpTool\"},{\"id\":\"1053\",\"type\":\"PanTool\"},{\"id\":\"1054\",\"type\":\"WheelZoomTool\"},{\"id\":\"1055\",\"type\":\"BoxZoomTool\"},{\"id\":\"1056\",\"type\":\"SaveTool\"},{\"id\":\"1057\",\"type\":\"ResetTool\"},{\"id\":\"1058\",\"type\":\"HelpTool\"},{\"id\":\"1085\",\"type\":\"PanTool\"},{\"id\":\"1086\",\"type\":\"WheelZoomTool\"},{\"id\":\"1087\",\"type\":\"BoxZoomTool\"},{\"id\":\"1088\",\"type\":\"SaveTool\"},{\"id\":\"1089\",\"type\":\"ResetTool\"},{\"id\":\"1090\",\"type\":\"HelpTool\"}]},\"id\":\"1166\",\"type\":\"ProxyToolbar\"},{\"attributes\":{\"below\":[{\"id\":\"1075\",\"type\":\"LinearAxis\"}],\"center\":[{\"id\":\"1079\",\"type\":\"Grid\"},{\"id\":\"1084\",\"type\":\"Grid\"}],\"left\":[{\"id\":\"1080\",\"type\":\"LinearAxis\"}],\"plot_height\":300,\"plot_width\":300,\"renderers\":[{\"id\":\"1118\",\"type\":\"GlyphRenderer\"}],\"title\":{\"id\":\"1120\",\"type\":\"Title\"},\"toolbar\":{\"id\":\"1091\",\"type\":\"Toolbar\"},\"toolbar_location\":null,\"x_range\":{\"id\":\"1067\",\"type\":\"DataRange1d\"},\"x_scale\":{\"id\":\"1071\",\"type\":\"LinearScale\"},\"y_range\":{\"id\":\"1069\",\"type\":\"DataRange1d\"},\"y_scale\":{\"id\":\"1073\",\"type\":\"LinearScale\"}},\"id\":\"1066\",\"subtype\":\"Figure\",\"type\":\"Plot\"},{\"attributes\":{},\"id\":\"1053\",\"type\":\"PanTool\"},{\"attributes\":{\"text\":\"profit histogram\"},\"id\":\"1120\",\"type\":\"Title\"},{\"attributes\":{},\"id\":\"1054\",\"type\":\"WheelZoomTool\"},{\"attributes\":{},\"id\":\"1057\",\"type\":\"ResetTool\"},{\"attributes\":{\"source\":{\"id\":\"1100\",\"type\":\"ColumnDataSource\"}},\"id\":\"1116\",\"type\":\"CDSView\"},{\"attributes\":{\"overlay\":{\"id\":\"1153\",\"type\":\"BoxAnnotation\"}},\"id\":\"1055\",\"type\":\"BoxZoomTool\"},{\"attributes\":{},\"id\":\"1009\",\"type\":\"LinearScale\"},{\"attributes\":{\"bottom_units\":\"screen\",\"fill_alpha\":{\"value\":0.5},\"fill_color\":{\"value\":\"lightgrey\"},\"left_units\":\"screen\",\"level\":\"overlay\",\"line_alpha\":{\"value\":1.0},\"line_color\":{\"value\":\"black\"},\"line_dash\":[4,4],\"line_width\":{\"value\":2},\"render_mode\":\"css\",\"right_units\":\"screen\",\"top_units\":\"screen\"},\"id\":\"1143\",\"type\":\"BoxAnnotation\"},{\"attributes\":{},\"id\":\"1056\",\"type\":\"SaveTool\"},{\"attributes\":{\"axis_label\":\"demand\",\"formatter\":{\"id\":\"1138\",\"type\":\"BasicTickFormatter\"},\"ticker\":{\"id\":\"1012\",\"type\":\"BasicTicker\"}},\"id\":\"1011\",\"type\":\"LinearAxis\"},{\"attributes\":{\"text\":\"demand histogram\"},\"id\":\"1114\",\"type\":\"Title\"},{\"attributes\":{\"data_source\":{\"id\":\"1110\",\"type\":\"ColumnDataSource\"},\"glyph\":{\"id\":\"1111\",\"type\":\"VBar\"},\"hover_glyph\":null,\"muted_glyph\":null,\"view\":{\"id\":\"1119\",\"type\":\"CDSView\"}},\"id\":\"1118\",\"type\":\"GlyphRenderer\"}],\"root_ids\":[\"1168\"]},\"title\":\"Bokeh Application\",\"version\":\"1.3.4\"}};\n",
       "  var render_items = [{\"docid\":\"7330a7d6-fdfa-46a1-b145-454411e2dde4\",\"notebook_comms_target\":\"1196\",\"roots\":{\"1168\":\"5754d9f5-6c5a-4efc-8dbd-81809d33234e\"}}];\n",
       "  root.Bokeh.embed.embed_items_notebook(docs_json, render_items);\n",
       "\n",
       "  }\n",
       "  if (root.Bokeh !== undefined) {\n",
       "    embed_document(root);\n",
       "  } else {\n",
       "    var attempts = 0;\n",
       "    var timer = setInterval(function(root) {\n",
       "      if (root.Bokeh !== undefined) {\n",
       "        embed_document(root);\n",
       "        clearInterval(timer);\n",
       "      }\n",
       "      attempts++;\n",
       "      if (attempts > 100) {\n",
       "        console.log(\"Bokeh: ERROR: Unable to run BokehJS code because BokehJS library is missing\");\n",
       "        clearInterval(timer);\n",
       "      }\n",
       "    }, 10, root)\n",
       "  }\n",
       "})(window);"
      ],
      "application/vnd.bokehjs_exec.v0+json": ""
     },
     "metadata": {
      "application/vnd.bokehjs_exec.v0+json": {
       "id": "1168"
      }
     },
     "output_type": "display_data"
    },
    {
     "data": {
      "application/vnd.jupyter.widget-view+json": {
       "model_id": "18a7a524ffdc4bed85034f8d866e3924",
       "version_major": 2,
       "version_minor": 0
      },
      "text/plain": [
       "interactive(children=(IntSlider(value=15, description='Order Qty', max=20), Output()), _dom_classes=('widget-i…"
      ]
     },
     "metadata": {},
     "output_type": "display_data"
    },
    {
     "data": {
      "text/html": [
       "\n",
       "\n",
       "\n",
       "\n",
       "\n",
       "\n",
       "  <div class=\"bk-root\" id=\"9c79883d-3635-40bd-8dc5-c5977b992c67\" data-root-id=\"1525\"></div>\n"
      ]
     },
     "metadata": {},
     "output_type": "display_data"
    },
    {
     "data": {
      "application/javascript": [
       "(function(root) {\n",
       "  function embed_document(root) {\n",
       "    \n",
       "  var docs_json = {\"dd3f0e5f-ce9b-4f96-8c85-79fc432f8503\":{\"roots\":{\"references\":[{\"attributes\":{\"children\":[{\"id\":\"1524\",\"type\":\"ToolbarBox\"},{\"id\":\"1522\",\"type\":\"GridBox\"}]},\"id\":\"1525\",\"type\":\"Column\"},{\"attributes\":{\"tools\":[{\"id\":\"1378\",\"type\":\"PanTool\"},{\"id\":\"1379\",\"type\":\"WheelZoomTool\"},{\"id\":\"1380\",\"type\":\"BoxZoomTool\"},{\"id\":\"1381\",\"type\":\"SaveTool\"},{\"id\":\"1382\",\"type\":\"ResetTool\"},{\"id\":\"1383\",\"type\":\"HelpTool\"},{\"id\":\"1410\",\"type\":\"PanTool\"},{\"id\":\"1411\",\"type\":\"WheelZoomTool\"},{\"id\":\"1412\",\"type\":\"BoxZoomTool\"},{\"id\":\"1413\",\"type\":\"SaveTool\"},{\"id\":\"1414\",\"type\":\"ResetTool\"},{\"id\":\"1415\",\"type\":\"HelpTool\"},{\"id\":\"1442\",\"type\":\"PanTool\"},{\"id\":\"1443\",\"type\":\"WheelZoomTool\"},{\"id\":\"1444\",\"type\":\"BoxZoomTool\"},{\"id\":\"1445\",\"type\":\"SaveTool\"},{\"id\":\"1446\",\"type\":\"ResetTool\"},{\"id\":\"1447\",\"type\":\"HelpTool\"}]},\"id\":\"1523\",\"type\":\"ProxyToolbar\"},{\"attributes\":{\"active_drag\":\"auto\",\"active_inspect\":\"auto\",\"active_multi\":null,\"active_scroll\":\"auto\",\"active_tap\":\"auto\",\"tools\":[{\"id\":\"1442\",\"type\":\"PanTool\"},{\"id\":\"1443\",\"type\":\"WheelZoomTool\"},{\"id\":\"1444\",\"type\":\"BoxZoomTool\"},{\"id\":\"1445\",\"type\":\"SaveTool\"},{\"id\":\"1446\",\"type\":\"ResetTool\"},{\"id\":\"1447\",\"type\":\"HelpTool\"}]},\"id\":\"1448\",\"type\":\"Toolbar\"},{\"attributes\":{\"data_source\":{\"id\":\"1457\",\"type\":\"ColumnDataSource\"},\"glyph\":{\"id\":\"1458\",\"type\":\"Circle\"},\"hover_glyph\":null,\"muted_glyph\":null,\"view\":{\"id\":\"1470\",\"type\":\"CDSView\"}},\"id\":\"1469\",\"type\":\"GlyphRenderer\"},{\"attributes\":{\"callback\":null,\"data\":{\"x\":{\"__ndarray__\":\"DS8Autk5IEAERNHREv/UPw6VG9HqyzVAA7KW7aYVJUCa1XCkKvgFQPDk1Vm4OxhAasK4ZGqzCUDkLMs/Pps3QBJ1aXjbNjFAcofN6VeOK0CelJXT2JbnP+ISeTO9MTZAQtxQxS3/O0CZtYBfG+LZPzekkIwj69o/mi95PeNNHEA6qIMuQfspQAhe/AkU9g9AIl4l3mcZQUCOOm7IqnsAQCguZq7HajdA1/MCm7Am9T9CbkweDnoxQPg4StVIIDhAGeSpAXUiHkBveVotnqMKQAq6EyiOpilAUoVfzeumFUCXlkKuvtW7P/mQoqrx7dM/1LRyllZG5j9kUlYLCv4pQJngyctw7zFAYJRtJ2GPG0D9O3DJNR4WQMh6NcHaWiRAXGz4aBLXBUDL5HAgGWbnP6yPElLUlCJA55E3CuQuGEB+17u35WE4QFaCrfVFyzBA1Um0drhC+z9lvz3XgpUnQJYTfBfcHBhAugRezgKDNECa+HV7gW6uP1ETdzdRk8w/s03DL3xuPEAHqhTS0n0cQElkxd2VNxlAu6Y8frnWLECNVObrHMe9P+ujlIGdPtU/HpJJlPnFIkC+xBdwWhgoQBFpi3fjgjJAqsiP+9ZdM0AAKcqRi9I9QByr6ToOWB5AOjYi9LccG0BEFolguwgaQKmpkLbqAhNAHKgn253yF0AA3GPGtp0qQNZUnX0wAA1AdJCDCFkBGECs1m+eh2MzQDzkpO/jfhFAwwB3yfnfHUDY1l5b7SA0QM7AWQ3kthNAhrO93T9cIECcpoONWHIgQG+8euAiAeM/bh0oK47lEEB9Q0R1WsI0QNJv4OdCHfY/RVT0xTpn/T8IVVxBiNsuQA+lMIObVRlA0Ntw6NfBP0Bk2VxwrCkjQChdIWN3kQZASBEzzEUcM0CsD/icGtspQNY6U41lSxVAevzTm7UlE0BBYem8HbPjP5PYVB7EEiRAYQhJ31UVJkBSPh7pZJRDQKKVnZjskwNAZeCXdfpnAEAwuxQKKv4hQNN+ZMjzY/E/r9X8QmKfMEBONy/4twwhQMgDQZYjgDdAGtQbChCh+j+DjJHuO0RIQJrlJ7olifc/yYDXAXcUIkCIhV7RBNgQQLwT+au8F1FAe2YZXNrz2j+EoUKZLPNJQIA+bjw1bAJAVAKudB9sOEByAgbb4bs4QIqrLMPW0iRAgDHVZ236+T8jHDZzQlgkQDhvBMmxdgNA6lSIqvp6NUBh71j5SQ0mQAZCehxPkiNAApvho9af9z88a5nciMcwQPsqNFgD/EBAhk7j7EmPJkBPOJuPR8MpQLnHYYTZQs0//qqQJX+CAEAOrZ+TnBYOQIdJr0rBicw/CEzKfRgJEkBh8qin8ukxQC4o50EgEUBAI/SN/7fjMkB2hTkVOJgEQGCtOj8ACjJAHOQeRb6/KkAOsR4xHcYcQBQk4y8EQixAZpRQonzKC0A6UfZotifzPzhyAgnDiilA7rXcknN/9j8o/fJSlqgFQE4ZQR65q/8/NRo2+UgtK0D+Nm34WjcIQGp5nDgMWihAkX9T5JtbFUC1ZP0p9FEkQCQqJK5Wo+o/nuJrz4jbLECInTRai1QwQDnXVDfXkxZA4mrFH/WQHUCbeh6JB9wRQAt8VjPikxFANrAYOvdnKEDN6tKyeVkgQNiI1ynvXxhAHd2Dy9COBkDeFt0yGyjYP/0jrVIeKPU/xqHT9kEsOkD/WD+XyxcVQL2b/qgCCS1A3wpKRjr7E0D7CrwEq0L+P1Ypp7m6yz9Apsta3FOuLUBzenfIhD8+QCxYLPGzEBtAEp0DDIe9KEAXa6cQJVQuQERac3Hv5yxAJCP8IVhz/j91u1WDm04fQEuG5iQlc0FAkEm14m3wMECyyp2fp4tAQL8z0WWMWP8/PGsnomePIkC3csuPnu8pQFVyHSyEiw9A9HUxkdtvE0AwJJTT1PkPQLI1InnojyNAQHP5RbuSHUBgo0yVfTATQNJa5qpV2eM/abj+caMcFkBt0qi97zg4QEF2ChIEHfQ/2wNKzThVM0DBOVjDgdwbQIC68CGF6xJAxhipNDS6IUCHFbF0P20NQJhy71XXP/o/R43u+3yRLkDWlUx7JWcxQHogd3PxfjxAzEhIVZZcL0CMFgmG/moIQH4pJTtiLCFAdrYwQqw/L0ACiOBTnoU1QAxfiB62CRtASMi0xlZtD0C9B20p1IYXQIJrk93/osk//QMy891HIkAT4AHkjvMgQPxBRR1zjNI/WGXl/m+2IEDE0RY7gKgJQB1RH6Z9iyhAHEQ4GHImKkB6Tdgch00rQF2ifC9RahJAJ4SU4d64RED9AP0qWPYoQH1Al8q7EPQ/wmssTFmD8T/su5B2OcQjQM5lFsWkRgxAgLOcbJE9NUAdm0UF1KcIQKzEs8Y5RQZAFCWb8tAyJUCZ0NQ2MajlP+oPewwJdS1AkJjP+uu0JEBd2TR9eDIbQHbE/viI5AFALOoZL4MBQEACD39ED7opQEYArBQKQSxANfxt1eM8+j8+OV9tv0hBQFgxBJV96xdA53NGZl0sJEDfq7OYYQP0PwzF2qqoYChAJG9uUBe7GUB9bo+NrQoQQJorFbocqAdADKpyhKmRJ0Aug8B1qtEsQCxnj/4S+B9A1arODN82GkCI/AhFbUMkQALo4DdN8QtAOAg3O2pVGEB1gGci8L4oQKKF9cb8FhdAXp7S0Sr2LUBwMTlVRLDnPxBLLI2qfwNAldzlNJjXsz9S3BSxprYTQH2AT7FHVDNAxWDMiWGpEEAKNNyjETwXQGWvOBJi2RhAcs4xTL+JN0CwcsDokjsiQDfIGsoNpQdAuCHVx/T3C0DeIYSZC8IRQOtDKpqJlfo/kiuloD2qH0A6BkE0Eww2QJSD1TnWMhpAWc8ODIy9DkABXCrE+aQKQPBoLjqnli5A1esPR9xvOkDawA3W/NsvQGG3IcTfpAdA9DZXCcHIA0ChBGFcF7AjQBWD165/ZBVArjmJcgS28j+nkDa/YDwxQIeT3L8t7ztALpsEs6agJUBkBodVutUyQBIeMuqmn0RAogC8eeGqyD+vdMZj6uASQAEhHG9tLw5AyC4sQ9Xu+T/xUj423Zr0PyOI3puglRtA0rdr7sC1JkA1NO61QlsJQI3gxA+oyRBAMqETFjMTKUBYzmN7zowwQD6OE98IIThACeeseNRGLkDm1pVFYugDQHZOdhzBbABAroIkRJeRMUAyuyV/a00uQLq3KcjYyhJAu/55yuPzP0AxvzyWAeMGQCeJTWg+eEBAKUaU4oTUFEAT90BbZfMEQAtHYvDUnBtAwTE5NwnZLUAKorCBqPoZQCHE1XHmYgZAlRoBIVebCEBpDhPpnhsdQDmYaXBh5QhAyv+KK68HEkAJWeiXtZ4EQMoBchX/fxFAUBZWcXn9AUCqvg+HiWQ4QAL2BoPWpzFAaNMHx2DP+z/opc7K6PcaQC3+CyY9EDpA7QS4MPCoFEBU1lsg9F0iQGMEUeDn6BxAtGFi4up1BUBfAu8xnG8BQPZHlSTd8DRAihNyFsyk/z82vfzntR4RQIl7QBBxuvo/wOISQzBWF0DA8kHzUsTkP/L/QTdxqyBA4B+1sjTSFEAKQdCFgKIsQPfXkhZicOk/Jlppmrdp+j9a+hVymxftP+SfQHZP4RNAmXcslyXbIkDR2awRCygwQDS4VlsWO/E/Ny5nWA3sN0A1xNpwXjYgQIyV6E30O+8/Wv7iaoel5T/DjZjlVRocQGRkrrxTe+Q/Ib7dJnE+AkC/w2C2CQs7QKLBdCzu1A9ASRncdg2CEUBGnDEwMHsWQDDwETNm+uU/XEIq5e92PkA1+y3vND8zQG6osf/88TRAXYP4xASOBUAeI22cYkb6PyltxG0v7xNAbs+WP5lUH0CKgJjSR/AMQA==\",\"dtype\":\"float64\",\"shape\":[365]},\"y\":{\"__ndarray__\":\"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\",\"dtype\":\"float64\",\"shape\":[365]}},\"selected\":{\"id\":\"1498\",\"type\":\"Selection\"},\"selection_policy\":{\"id\":\"1499\",\"type\":\"UnionRenderers\"}},\"id\":\"1457\",\"type\":\"ColumnDataSource\"},{\"attributes\":{},\"id\":\"1507\",\"type\":\"BasicTickFormatter\"},{\"attributes\":{},\"id\":\"1495\",\"type\":\"BasicTickFormatter\"},{\"attributes\":{},\"id\":\"1446\",\"type\":\"ResetTool\"},{\"attributes\":{},\"id\":\"1505\",\"type\":\"BasicTickFormatter\"},{\"attributes\":{},\"id\":\"1447\",\"type\":\"HelpTool\"},{\"attributes\":{\"callback\":null},\"id\":\"1362\",\"type\":\"DataRange1d\"},{\"attributes\":{},\"id\":\"1498\",\"type\":\"Selection\"},{\"attributes\":{},\"id\":\"1508\",\"type\":\"Selection\"},{\"attributes\":{\"bottom_units\":\"screen\",\"fill_alpha\":{\"value\":0.5},\"fill_color\":{\"value\":\"lightgrey\"},\"left_units\":\"screen\",\"level\":\"overlay\",\"line_alpha\":{\"value\":1.0},\"line_color\":{\"value\":\"black\"},\"line_dash\":[4,4],\"line_width\":{\"value\":2},\"render_mode\":\"css\",\"right_units\":\"screen\",\"top_units\":\"screen\"},\"id\":\"1510\",\"type\":\"BoxAnnotation\"},{\"attributes\":{},\"id\":\"1364\",\"type\":\"LinearScale\"},{\"attributes\":{\"axis_label\":\"revenue\",\"formatter\":{\"id\":\"1507\",\"type\":\"BasicTickFormatter\"},\"ticker\":{\"id\":\"1406\",\"type\":\"BasicTicker\"}},\"id\":\"1405\",\"type\":\"LinearAxis\"},{\"attributes\":{\"dimension\":1,\"ticker\":{\"id\":\"1406\",\"type\":\"BasicTicker\"}},\"id\":\"1409\",\"type\":\"Grid\"},{\"attributes\":{\"fill_color\":{\"value\":\"blue\"},\"line_color\":{\"value\":\"blue\"},\"x\":{\"field\":\"x\"},\"y\":{\"field\":\"y\"}},\"id\":\"1458\",\"type\":\"Circle\"},{\"attributes\":{\"callback\":null},\"id\":\"1424\",\"type\":\"DataRange1d\"},{\"attributes\":{},\"id\":\"1517\",\"type\":\"BasicTickFormatter\"},{\"attributes\":{\"callback\":null},\"id\":\"1426\",\"type\":\"DataRange1d\"},{\"attributes\":{\"fill_color\":{\"value\":\"blue\"},\"line_color\":{\"value\":\"blue\"},\"x\":{\"field\":\"x\"},\"y\":{\"field\":\"y\"}},\"id\":\"1464\",\"type\":\"Circle\"},{\"attributes\":{},\"id\":\"1410\",\"type\":\"PanTool\"},{\"attributes\":{\"active_drag\":\"auto\",\"active_inspect\":\"auto\",\"active_multi\":null,\"active_scroll\":\"auto\",\"active_tap\":\"auto\",\"tools\":[{\"id\":\"1410\",\"type\":\"PanTool\"},{\"id\":\"1411\",\"type\":\"WheelZoomTool\"},{\"id\":\"1412\",\"type\":\"BoxZoomTool\"},{\"id\":\"1413\",\"type\":\"SaveTool\"},{\"id\":\"1414\",\"type\":\"ResetTool\"},{\"id\":\"1415\",\"type\":\"HelpTool\"}]},\"id\":\"1416\",\"type\":\"Toolbar\"},{\"attributes\":{},\"id\":\"1518\",\"type\":\"Selection\"},{\"attributes\":{},\"id\":\"1411\",\"type\":\"WheelZoomTool\"},{\"attributes\":{},\"id\":\"1515\",\"type\":\"BasicTickFormatter\"},{\"attributes\":{},\"id\":\"1413\",\"type\":\"SaveTool\"},{\"attributes\":{},\"id\":\"1374\",\"type\":\"BasicTicker\"},{\"attributes\":{\"overlay\":{\"id\":\"1510\",\"type\":\"BoxAnnotation\"}},\"id\":\"1412\",\"type\":\"BoxZoomTool\"},{\"attributes\":{},\"id\":\"1366\",\"type\":\"LinearScale\"},{\"attributes\":{},\"id\":\"1414\",\"type\":\"ResetTool\"},{\"attributes\":{\"bottom_units\":\"screen\",\"fill_alpha\":{\"value\":0.5},\"fill_color\":{\"value\":\"lightgrey\"},\"left_units\":\"screen\",\"level\":\"overlay\",\"line_alpha\":{\"value\":1.0},\"line_color\":{\"value\":\"black\"},\"line_dash\":[4,4],\"line_width\":{\"value\":2},\"render_mode\":\"css\",\"right_units\":\"screen\",\"top_units\":\"screen\"},\"id\":\"1520\",\"type\":\"BoxAnnotation\"},{\"attributes\":{\"text\":\"profit\"},\"id\":\"1477\",\"type\":\"Title\"},{\"attributes\":{},\"id\":\"1519\",\"type\":\"UnionRenderers\"},{\"attributes\":{},\"id\":\"1443\",\"type\":\"WheelZoomTool\"},{\"attributes\":{},\"id\":\"1445\",\"type\":\"SaveTool\"},{\"attributes\":{\"overlay\":{\"id\":\"1500\",\"type\":\"BoxAnnotation\"}},\"id\":\"1380\",\"type\":\"BoxZoomTool\"},{\"attributes\":{\"axis_label\":\"demand\",\"formatter\":{\"id\":\"1515\",\"type\":\"BasicTickFormatter\"},\"ticker\":{\"id\":\"1433\",\"type\":\"BasicTicker\"}},\"id\":\"1432\",\"type\":\"LinearAxis\"},{\"attributes\":{\"ticker\":{\"id\":\"1433\",\"type\":\"BasicTicker\"}},\"id\":\"1436\",\"type\":\"Grid\"},{\"attributes\":{},\"id\":\"1509\",\"type\":\"UnionRenderers\"},{\"attributes\":{\"axis_label\":\"demand\",\"formatter\":{\"id\":\"1495\",\"type\":\"BasicTickFormatter\"},\"ticker\":{\"id\":\"1369\",\"type\":\"BasicTicker\"}},\"id\":\"1368\",\"type\":\"LinearAxis\"},{\"attributes\":{},\"id\":\"1430\",\"type\":\"LinearScale\"},{\"attributes\":{\"toolbar\":{\"id\":\"1523\",\"type\":\"ProxyToolbar\"},\"toolbar_location\":\"above\"},\"id\":\"1524\",\"type\":\"ToolbarBox\"},{\"attributes\":{\"below\":[{\"id\":\"1368\",\"type\":\"LinearAxis\"}],\"center\":[{\"id\":\"1372\",\"type\":\"Grid\"},{\"id\":\"1377\",\"type\":\"Grid\"}],\"left\":[{\"id\":\"1373\",\"type\":\"LinearAxis\"}],\"plot_height\":300,\"plot_width\":300,\"renderers\":[{\"id\":\"1469\",\"type\":\"GlyphRenderer\"}],\"title\":{\"id\":\"1471\",\"type\":\"Title\"},\"toolbar\":{\"id\":\"1384\",\"type\":\"Toolbar\"},\"toolbar_location\":null,\"x_range\":{\"id\":\"1360\",\"type\":\"DataRange1d\"},\"x_scale\":{\"id\":\"1364\",\"type\":\"LinearScale\"},\"y_range\":{\"id\":\"1362\",\"type\":\"DataRange1d\"},\"y_scale\":{\"id\":\"1366\",\"type\":\"LinearScale\"}},\"id\":\"1359\",\"subtype\":\"Figure\",\"type\":\"Plot\"},{\"attributes\":{\"callback\":null,\"data\":{\"x\":{\"__ndarray__\":\"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\",\"dtype\":\"float64\",\"shape\":[365]},\"y\":{\"__ndarray__\":\"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\",\"dtype\":\"float64\",\"shape\":[365]}},\"selected\":{\"id\":\"1508\",\"type\":\"Selection\"},\"selection_policy\":{\"id\":\"1509\",\"type\":\"UnionRenderers\"}},\"id\":\"1463\",\"type\":\"ColumnDataSource\"},{\"attributes\":{\"below\":[{\"id\":\"1400\",\"type\":\"LinearAxis\"}],\"center\":[{\"id\":\"1404\",\"type\":\"Grid\"},{\"id\":\"1409\",\"type\":\"Grid\"}],\"left\":[{\"id\":\"1405\",\"type\":\"LinearAxis\"}],\"plot_height\":300,\"plot_width\":300,\"renderers\":[{\"id\":\"1472\",\"type\":\"GlyphRenderer\"}],\"title\":{\"id\":\"1474\",\"type\":\"Title\"},\"toolbar\":{\"id\":\"1416\",\"type\":\"Toolbar\"},\"toolbar_location\":null,\"x_range\":{\"id\":\"1392\",\"type\":\"DataRange1d\"},\"x_scale\":{\"id\":\"1396\",\"type\":\"LinearScale\"},\"y_range\":{\"id\":\"1394\",\"type\":\"DataRange1d\"},\"y_scale\":{\"id\":\"1398\",\"type\":\"LinearScale\"}},\"id\":\"1391\",\"subtype\":\"Figure\",\"type\":\"Plot\"},{\"attributes\":{},\"id\":\"1438\",\"type\":\"BasicTicker\"},{\"attributes\":{},\"id\":\"1415\",\"type\":\"HelpTool\"},{\"attributes\":{},\"id\":\"1369\",\"type\":\"BasicTicker\"},{\"attributes\":{\"below\":[{\"id\":\"1432\",\"type\":\"LinearAxis\"}],\"center\":[{\"id\":\"1436\",\"type\":\"Grid\"},{\"id\":\"1441\",\"type\":\"Grid\"}],\"left\":[{\"id\":\"1437\",\"type\":\"LinearAxis\"}],\"plot_height\":300,\"plot_width\":300,\"renderers\":[{\"id\":\"1475\",\"type\":\"GlyphRenderer\"}],\"title\":{\"id\":\"1477\",\"type\":\"Title\"},\"toolbar\":{\"id\":\"1448\",\"type\":\"Toolbar\"},\"toolbar_location\":null,\"x_range\":{\"id\":\"1424\",\"type\":\"DataRange1d\"},\"x_scale\":{\"id\":\"1428\",\"type\":\"LinearScale\"},\"y_range\":{\"id\":\"1426\",\"type\":\"DataRange1d\"},\"y_scale\":{\"id\":\"1430\",\"type\":\"LinearScale\"}},\"id\":\"1423\",\"subtype\":\"Figure\",\"type\":\"Plot\"},{\"attributes\":{\"bottom_units\":\"screen\",\"fill_alpha\":{\"value\":0.5},\"fill_color\":{\"value\":\"lightgrey\"},\"left_units\":\"screen\",\"level\":\"overlay\",\"line_alpha\":{\"value\":1.0},\"line_color\":{\"value\":\"black\"},\"line_dash\":[4,4],\"line_width\":{\"value\":2},\"render_mode\":\"css\",\"right_units\":\"screen\",\"top_units\":\"screen\"},\"id\":\"1500\",\"type\":\"BoxAnnotation\"},{\"attributes\":{\"axis_label\":\"profit\",\"formatter\":{\"id\":\"1517\",\"type\":\"BasicTickFormatter\"},\"ticker\":{\"id\":\"1438\",\"type\":\"BasicTicker\"}},\"id\":\"1437\",\"type\":\"LinearAxis\"},{\"attributes\":{},\"id\":\"1442\",\"type\":\"PanTool\"},{\"attributes\":{\"callback\":null},\"id\":\"1360\",\"type\":\"DataRange1d\"},{\"attributes\":{\"callback\":null},\"id\":\"1392\",\"type\":\"DataRange1d\"},{\"attributes\":{\"fill_color\":{\"value\":\"blue\"},\"line_color\":{\"value\":\"blue\"},\"x\":{\"field\":\"x\"},\"y\":{\"field\":\"y\"}},\"id\":\"1468\",\"type\":\"Circle\"},{\"attributes\":{\"callback\":null,\"data\":{\"x\":{\"__ndarray__\":\"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\",\"dtype\":\"float64\",\"shape\":[365]},\"y\":{\"__ndarray__\":\"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\",\"dtype\":\"float64\",\"shape\":[365]}},\"selected\":{\"id\":\"1518\",\"type\":\"Selection\"},\"selection_policy\":{\"id\":\"1519\",\"type\":\"UnionRenderers\"}},\"id\":\"1467\",\"type\":\"ColumnDataSource\"},{\"attributes\":{},\"id\":\"1499\",\"type\":\"UnionRenderers\"},{\"attributes\":{\"dimension\":1,\"ticker\":{\"id\":\"1438\",\"type\":\"BasicTicker\"}},\"id\":\"1441\",\"type\":\"Grid\"},{\"attributes\":{\"source\":{\"id\":\"1457\",\"type\":\"ColumnDataSource\"}},\"id\":\"1470\",\"type\":\"CDSView\"},{\"attributes\":{},\"id\":\"1497\",\"type\":\"BasicTickFormatter\"},{\"attributes\":{\"overlay\":{\"id\":\"1520\",\"type\":\"BoxAnnotation\"}},\"id\":\"1444\",\"type\":\"BoxZoomTool\"},{\"attributes\":{\"text\":\"sales\"},\"id\":\"1471\",\"type\":\"Title\"},{\"attributes\":{\"axis_label\":\"sales\",\"formatter\":{\"id\":\"1497\",\"type\":\"BasicTickFormatter\"},\"ticker\":{\"id\":\"1374\",\"type\":\"BasicTicker\"}},\"id\":\"1373\",\"type\":\"LinearAxis\"},{\"attributes\":{},\"id\":\"1433\",\"type\":\"BasicTicker\"},{\"attributes\":{\"dimension\":1,\"ticker\":{\"id\":\"1374\",\"type\":\"BasicTicker\"}},\"id\":\"1377\",\"type\":\"Grid\"},{\"attributes\":{\"source\":{\"id\":\"1463\",\"type\":\"ColumnDataSource\"}},\"id\":\"1473\",\"type\":\"CDSView\"},{\"attributes\":{},\"id\":\"1396\",\"type\":\"LinearScale\"},{\"attributes\":{\"ticker\":{\"id\":\"1369\",\"type\":\"BasicTicker\"}},\"id\":\"1372\",\"type\":\"Grid\"},{\"attributes\":{\"source\":{\"id\":\"1467\",\"type\":\"ColumnDataSource\"}},\"id\":\"1476\",\"type\":\"CDSView\"},{\"attributes\":{},\"id\":\"1381\",\"type\":\"SaveTool\"},{\"attributes\":{\"active_drag\":\"auto\",\"active_inspect\":\"auto\",\"active_multi\":null,\"active_scroll\":\"auto\",\"active_tap\":\"auto\",\"tools\":[{\"id\":\"1378\",\"type\":\"PanTool\"},{\"id\":\"1379\",\"type\":\"WheelZoomTool\"},{\"id\":\"1380\",\"type\":\"BoxZoomTool\"},{\"id\":\"1381\",\"type\":\"SaveTool\"},{\"id\":\"1382\",\"type\":\"ResetTool\"},{\"id\":\"1383\",\"type\":\"HelpTool\"}]},\"id\":\"1384\",\"type\":\"Toolbar\"},{\"attributes\":{\"callback\":null},\"id\":\"1394\",\"type\":\"DataRange1d\"},{\"attributes\":{\"data_source\":{\"id\":\"1463\",\"type\":\"ColumnDataSource\"},\"glyph\":{\"id\":\"1464\",\"type\":\"Circle\"},\"hover_glyph\":null,\"muted_glyph\":null,\"view\":{\"id\":\"1473\",\"type\":\"CDSView\"}},\"id\":\"1472\",\"type\":\"GlyphRenderer\"},{\"attributes\":{},\"id\":\"1379\",\"type\":\"WheelZoomTool\"},{\"attributes\":{\"text\":\"revenue\"},\"id\":\"1474\",\"type\":\"Title\"},{\"attributes\":{},\"id\":\"1428\",\"type\":\"LinearScale\"},{\"attributes\":{},\"id\":\"1378\",\"type\":\"PanTool\"},{\"attributes\":{\"ticker\":{\"id\":\"1401\",\"type\":\"BasicTicker\"}},\"id\":\"1404\",\"type\":\"Grid\"},{\"attributes\":{\"axis_label\":\"demand\",\"formatter\":{\"id\":\"1505\",\"type\":\"BasicTickFormatter\"},\"ticker\":{\"id\":\"1401\",\"type\":\"BasicTicker\"}},\"id\":\"1400\",\"type\":\"LinearAxis\"},{\"attributes\":{\"data_source\":{\"id\":\"1467\",\"type\":\"ColumnDataSource\"},\"glyph\":{\"id\":\"1468\",\"type\":\"Circle\"},\"hover_glyph\":null,\"muted_glyph\":null,\"view\":{\"id\":\"1476\",\"type\":\"CDSView\"}},\"id\":\"1475\",\"type\":\"GlyphRenderer\"},{\"attributes\":{},\"id\":\"1406\",\"type\":\"BasicTicker\"},{\"attributes\":{\"children\":[[{\"id\":\"1359\",\"subtype\":\"Figure\",\"type\":\"Plot\"},0,0],[{\"id\":\"1391\",\"subtype\":\"Figure\",\"type\":\"Plot\"},0,1],[{\"id\":\"1423\",\"subtype\":\"Figure\",\"type\":\"Plot\"},0,2]]},\"id\":\"1522\",\"type\":\"GridBox\"},{\"attributes\":{},\"id\":\"1398\",\"type\":\"LinearScale\"},{\"attributes\":{},\"id\":\"1401\",\"type\":\"BasicTicker\"},{\"attributes\":{},\"id\":\"1383\",\"type\":\"HelpTool\"},{\"attributes\":{},\"id\":\"1382\",\"type\":\"ResetTool\"}],\"root_ids\":[\"1525\"]},\"title\":\"Bokeh Application\",\"version\":\"1.3.4\"}};\n",
       "  var render_items = [{\"docid\":\"dd3f0e5f-ce9b-4f96-8c85-79fc432f8503\",\"notebook_comms_target\":\"1580\",\"roots\":{\"1525\":\"9c79883d-3635-40bd-8dc5-c5977b992c67\"}}];\n",
       "  root.Bokeh.embed.embed_items_notebook(docs_json, render_items);\n",
       "\n",
       "  }\n",
       "  if (root.Bokeh !== undefined) {\n",
       "    embed_document(root);\n",
       "  } else {\n",
       "    var attempts = 0;\n",
       "    var timer = setInterval(function(root) {\n",
       "      if (root.Bokeh !== undefined) {\n",
       "        embed_document(root);\n",
       "        clearInterval(timer);\n",
       "      }\n",
       "      attempts++;\n",
       "      if (attempts > 100) {\n",
       "        console.log(\"Bokeh: ERROR: Unable to run BokehJS code because BokehJS library is missing\");\n",
       "        clearInterval(timer);\n",
       "      }\n",
       "    }, 10, root)\n",
       "  }\n",
       "})(window);"
      ],
      "application/vnd.bokehjs_exec.v0+json": ""
     },
     "metadata": {
      "application/vnd.bokehjs_exec.v0+json": {
       "id": "1525"
      }
     },
     "output_type": "display_data"
    },
    {
     "data": {
      "application/vnd.jupyter.widget-view+json": {
       "model_id": "de32ef41827f426f9848a0ebe855ad99",
       "version_major": 2,
       "version_minor": 0
      },
      "text/plain": [
       "interactive(children=(IntSlider(value=15, description='Order Qty', max=20), Output()), _dom_classes=('widget-i…"
      ]
     },
     "metadata": {},
     "output_type": "display_data"
    },
    {
     "data": {
      "application/vnd.jupyter.widget-view+json": {
       "model_id": "3afd87127937475ab978adca75947bfc",
       "version_major": 2,
       "version_minor": 0
      },
      "text/plain": [
       "interactive(children=(IntSlider(value=15, description='Order Qty', max=20), Output()), _dom_classes=('widget-i…"
      ]
     },
     "metadata": {},
     "output_type": "display_data"
    },
    {
     "data": {
      "text/html": [
       "\n",
       "\n",
       "\n",
       "\n",
       "\n",
       "\n",
       "  <div class=\"bk-root\" id=\"9675e3d6-f201-4cea-a3b3-188a478bd480\" data-root-id=\"1990\"></div>\n"
      ]
     },
     "metadata": {},
     "output_type": "display_data"
    },
    {
     "data": {
      "application/javascript": [
       "(function(root) {\n",
       "  function embed_document(root) {\n",
       "    \n",
       "  var docs_json = {\"e799c3fc-c617-43d7-8a48-53dcaf672e38\":{\"roots\":{\"references\":[{\"attributes\":{\"children\":[{\"id\":\"1989\",\"type\":\"ToolbarBox\"},{\"id\":\"1987\",\"type\":\"GridBox\"}]},\"id\":\"1990\",\"type\":\"Column\"},{\"attributes\":{\"active_drag\":\"auto\",\"active_inspect\":\"auto\",\"active_multi\":null,\"active_scroll\":\"auto\",\"active_tap\":\"auto\",\"tools\":[{\"id\":\"1858\",\"type\":\"PanTool\"},{\"id\":\"1859\",\"type\":\"WheelZoomTool\"},{\"id\":\"1860\",\"type\":\"BoxZoomTool\"},{\"id\":\"1861\",\"type\":\"SaveTool\"},{\"id\":\"1862\",\"type\":\"ResetTool\"},{\"id\":\"1863\",\"type\":\"HelpTool\"}]},\"id\":\"1864\",\"type\":\"Toolbar\"},{\"attributes\":{},\"id\":\"1858\",\"type\":\"PanTool\"},{\"attributes\":{\"bottom_units\":\"screen\",\"fill_alpha\":{\"value\":0.5},\"fill_color\":{\"value\":\"lightgrey\"},\"left_units\":\"screen\",\"level\":\"overlay\",\"line_alpha\":{\"value\":1.0},\"line_color\":{\"value\":\"black\"},\"line_dash\":[4,4],\"line_width\":{\"value\":2},\"render_mode\":\"css\",\"right_units\":\"screen\",\"top_units\":\"screen\"},\"id\":\"1949\",\"type\":\"BoxAnnotation\"},{\"attributes\":{\"dimension\":1,\"ticker\":{\"id\":\"1758\",\"type\":\"BasicTicker\"}},\"id\":\"1761\",\"type\":\"Grid\"},{\"attributes\":{\"callback\":null},\"id\":\"1808\",\"type\":\"DataRange1d\"},{\"attributes\":{\"overlay\":{\"id\":\"1973\",\"type\":\"BoxAnnotation\"}},\"id\":\"1828\",\"type\":\"BoxZoomTool\"},{\"attributes\":{\"axis_label\":\"order qty\",\"formatter\":{\"id\":\"1954\",\"type\":\"BasicTickFormatter\"},\"ticker\":{\"id\":\"1785\",\"type\":\"BasicTicker\"}},\"id\":\"1784\",\"type\":\"LinearAxis\"},{\"attributes\":{\"ticker\":{\"id\":\"1849\",\"type\":\"BasicTicker\"}},\"id\":\"1852\",\"type\":\"Grid\"},{\"attributes\":{},\"id\":\"1831\",\"type\":\"HelpTool\"},{\"attributes\":{\"callback\":null},\"id\":\"1744\",\"type\":\"DataRange1d\"},{\"attributes\":{\"source\":{\"id\":\"1903\",\"type\":\"ColumnDataSource\"}},\"id\":\"1916\",\"type\":\"CDSView\"},{\"attributes\":{},\"id\":\"1830\",\"type\":\"ResetTool\"},{\"attributes\":{\"source\":{\"id\":\"1885\",\"type\":\"ColumnDataSource\"}},\"id\":\"1897\",\"type\":\"CDSView\"},{\"attributes\":{\"below\":[{\"id\":\"1752\",\"type\":\"LinearAxis\"}],\"center\":[{\"id\":\"1756\",\"type\":\"Grid\"},{\"id\":\"1761\",\"type\":\"Grid\"}],\"left\":[{\"id\":\"1757\",\"type\":\"LinearAxis\"}],\"plot_height\":350,\"plot_width\":350,\"renderers\":[{\"id\":\"1887\",\"type\":\"GlyphRenderer\"},{\"id\":\"1915\",\"type\":\"GlyphRenderer\"}],\"title\":{\"id\":\"1889\",\"type\":\"Title\"},\"toolbar\":{\"id\":\"1768\",\"type\":\"Toolbar\"},\"toolbar_location\":null,\"x_range\":{\"id\":\"1744\",\"type\":\"DataRange1d\"},\"x_scale\":{\"id\":\"1748\",\"type\":\"LinearScale\"},\"y_range\":{\"id\":\"1746\",\"type\":\"DataRange1d\"},\"y_scale\":{\"id\":\"1750\",\"type\":\"LinearScale\"}},\"id\":\"1743\",\"subtype\":\"Figure\",\"type\":\"Plot\"},{\"attributes\":{},\"id\":\"1782\",\"type\":\"LinearScale\"},{\"attributes\":{\"axis_label\":\"order qty\",\"formatter\":{\"id\":\"1942\",\"type\":\"BasicTickFormatter\"},\"ticker\":{\"id\":\"1753\",\"type\":\"BasicTicker\"}},\"id\":\"1752\",\"type\":\"LinearAxis\"},{\"attributes\":{\"axis_label\":\"order qty\",\"formatter\":{\"id\":\"1978\",\"type\":\"BasicTickFormatter\"},\"ticker\":{\"id\":\"1849\",\"type\":\"BasicTicker\"}},\"id\":\"1848\",\"type\":\"LinearAxis\"},{\"attributes\":{},\"id\":\"1844\",\"type\":\"LinearScale\"},{\"attributes\":{},\"id\":\"1829\",\"type\":\"SaveTool\"},{\"attributes\":{\"text\":\"profit\"},\"id\":\"1898\",\"type\":\"Title\"},{\"attributes\":{\"overlay\":{\"id\":\"1949\",\"type\":\"BoxAnnotation\"}},\"id\":\"1764\",\"type\":\"BoxZoomTool\"},{\"attributes\":{\"callback\":null,\"data\":{\"x\":[0,1,2,3,4,5,6,7,8,9,10,11,12,13,14,15,16,17,18,19,20],\"y\":{\"__ndarray__\":\"AAAAAAAAAAC3T6z9t3PuP5kZkNHJAP0/9EmX9wq8BED2HeFv2F8KQOgI6YhAeg9Al6eHOSsMEkC4qtVr9yIUQCx5jxTfBhZA3d/6B7q8F0BzFhUe6kgZQAVSJW1mrxpA+HDOccXzG0DPXqlBRhkdQMb819rYIh5AOHNIrCUTH0DdeFFklOwfQHxJJQ2pWCBAzVrzcKuxIECRnV5rNQIhQCuWZVYVSyFA\",\"dtype\":\"float64\",\"shape\":[21]}},\"selected\":{\"id\":\"1945\",\"type\":\"Selection\"},\"selection_policy\":{\"id\":\"1946\",\"type\":\"UnionRenderers\"}},\"id\":\"1875\",\"type\":\"ColumnDataSource\"},{\"attributes\":{\"callback\":null},\"id\":\"1776\",\"type\":\"DataRange1d\"},{\"attributes\":{},\"id\":\"1822\",\"type\":\"BasicTicker\"},{\"attributes\":{},\"id\":\"1957\",\"type\":\"Selection\"},{\"attributes\":{\"callback\":null},\"id\":\"1842\",\"type\":\"DataRange1d\"},{\"attributes\":{\"source\":{\"id\":\"1875\",\"type\":\"ColumnDataSource\"}},\"id\":\"1888\",\"type\":\"CDSView\"},{\"attributes\":{\"data_source\":{\"id\":\"1875\",\"type\":\"ColumnDataSource\"},\"glyph\":{\"id\":\"1876\",\"type\":\"Line\"},\"hover_glyph\":null,\"muted_glyph\":null,\"view\":{\"id\":\"1888\",\"type\":\"CDSView\"}},\"id\":\"1887\",\"type\":\"GlyphRenderer\"},{\"attributes\":{\"callback\":null},\"id\":\"1840\",\"type\":\"DataRange1d\"},{\"attributes\":{},\"id\":\"1958\",\"type\":\"UnionRenderers\"},{\"attributes\":{\"line_color\":\"blue\",\"line_width\":2,\"x\":{\"field\":\"x\"},\"y\":{\"field\":\"y\"}},\"id\":\"1882\",\"type\":\"Line\"},{\"attributes\":{\"axis_label\":\"expected sales\",\"formatter\":{\"id\":\"1944\",\"type\":\"BasicTickFormatter\"},\"ticker\":{\"id\":\"1758\",\"type\":\"BasicTicker\"}},\"id\":\"1757\",\"type\":\"LinearAxis\"},{\"attributes\":{},\"id\":\"1812\",\"type\":\"LinearScale\"},{\"attributes\":{\"fill_alpha\":{\"value\":0.5},\"fill_color\":{\"value\":\"red\"},\"line_color\":{\"value\":\"red\"},\"size\":{\"units\":\"screen\",\"value\":10},\"x\":{\"field\":\"x\"},\"y\":{\"field\":\"y\"}},\"id\":\"1904\",\"type\":\"Circle\"},{\"attributes\":{\"callback\":null,\"data\":{\"x\":[0,1,2,3,4,5,6,7,8,9,10,11,12,13,14,15,16,17,18,19,20],\"y\":{\"__ndarray__\":\"AAAAAAAAAAC3T6z9t3P+P5kZkNHJAA1A9EmX9wq8FED2HeFv2F8aQOgI6YhAeh9Al6eHOSsMIkC4qtVr9yIkQCx5jxTfBiZA3d/6B7q8J0BzFhUe6kgpQAVSJW1mrypA+HDOccXzK0DPXqlBRhktQMb819rYIi5AOHNIrCUTL0DdeFFklOwvQHxJJQ2pWDBAzVrzcKuxMECRnV5rNQIxQCuWZVYVSzFA\",\"dtype\":\"float64\",\"shape\":[21]}},\"selected\":{\"id\":\"1957\",\"type\":\"Selection\"},\"selection_policy\":{\"id\":\"1958\",\"type\":\"UnionRenderers\"}},\"id\":\"1881\",\"type\":\"ColumnDataSource\"},{\"attributes\":{},\"id\":\"1859\",\"type\":\"WheelZoomTool\"},{\"attributes\":{},\"id\":\"1795\",\"type\":\"WheelZoomTool\"},{\"attributes\":{\"axis_label\":\"expected profit\",\"formatter\":{\"id\":\"1980\",\"type\":\"BasicTickFormatter\"},\"ticker\":{\"id\":\"1854\",\"type\":\"BasicTicker\"}},\"id\":\"1853\",\"type\":\"LinearAxis\"},{\"attributes\":{},\"id\":\"1785\",\"type\":\"BasicTicker\"},{\"attributes\":{},\"id\":\"1794\",\"type\":\"PanTool\"},{\"attributes\":{},\"id\":\"1758\",\"type\":\"BasicTicker\"},{\"attributes\":{},\"id\":\"1797\",\"type\":\"SaveTool\"},{\"attributes\":{\"line_color\":\"blue\",\"line_width\":2,\"x\":{\"field\":\"x\"},\"y\":{\"field\":\"y\"}},\"id\":\"1884\",\"type\":\"Line\"},{\"attributes\":{\"below\":[{\"id\":\"1816\",\"type\":\"LinearAxis\"}],\"center\":[{\"id\":\"1820\",\"type\":\"Grid\"},{\"id\":\"1825\",\"type\":\"Grid\"}],\"left\":[{\"id\":\"1821\",\"type\":\"LinearAxis\"}],\"plot_height\":350,\"plot_width\":350,\"renderers\":[{\"id\":\"1893\",\"type\":\"GlyphRenderer\"},{\"id\":\"1919\",\"type\":\"GlyphRenderer\"}],\"title\":{\"id\":\"1895\",\"type\":\"Title\"},\"toolbar\":{\"id\":\"1832\",\"type\":\"Toolbar\"},\"toolbar_location\":null,\"x_range\":{\"id\":\"1808\",\"type\":\"DataRange1d\"},\"x_scale\":{\"id\":\"1812\",\"type\":\"LinearScale\"},\"y_range\":{\"id\":\"1810\",\"type\":\"DataRange1d\"},\"y_scale\":{\"id\":\"1814\",\"type\":\"LinearScale\"}},\"id\":\"1807\",\"subtype\":\"Figure\",\"type\":\"Plot\"},{\"attributes\":{},\"id\":\"1765\",\"type\":\"SaveTool\"},{\"attributes\":{\"overlay\":{\"id\":\"1961\",\"type\":\"BoxAnnotation\"}},\"id\":\"1796\",\"type\":\"BoxZoomTool\"},{\"attributes\":{},\"id\":\"1954\",\"type\":\"BasicTickFormatter\"},{\"attributes\":{},\"id\":\"1827\",\"type\":\"WheelZoomTool\"},{\"attributes\":{\"ticker\":{\"id\":\"1753\",\"type\":\"BasicTicker\"}},\"id\":\"1756\",\"type\":\"Grid\"},{\"attributes\":{},\"id\":\"1790\",\"type\":\"BasicTicker\"},{\"attributes\":{},\"id\":\"1767\",\"type\":\"HelpTool\"},{\"attributes\":{\"text\":\"revenue\"},\"id\":\"1892\",\"type\":\"Title\"},{\"attributes\":{\"axis_label\":\"expected cost\",\"formatter\":{\"id\":\"1968\",\"type\":\"BasicTickFormatter\"},\"ticker\":{\"id\":\"1822\",\"type\":\"BasicTicker\"}},\"id\":\"1821\",\"type\":\"LinearAxis\"},{\"attributes\":{\"data_source\":{\"id\":\"1903\",\"type\":\"ColumnDataSource\"},\"glyph\":{\"id\":\"1904\",\"type\":\"Circle\"},\"hover_glyph\":null,\"muted_glyph\":null,\"view\":{\"id\":\"1916\",\"type\":\"CDSView\"}},\"id\":\"1915\",\"type\":\"GlyphRenderer\"},{\"attributes\":{\"data_source\":{\"id\":\"1883\",\"type\":\"ColumnDataSource\"},\"glyph\":{\"id\":\"1884\",\"type\":\"Line\"},\"hover_glyph\":null,\"muted_glyph\":null,\"view\":{\"id\":\"1894\",\"type\":\"CDSView\"}},\"id\":\"1893\",\"type\":\"GlyphRenderer\"},{\"attributes\":{},\"id\":\"1753\",\"type\":\"BasicTicker\"},{\"attributes\":{},\"id\":\"1947\",\"type\":\"Selection\"},{\"attributes\":{\"dimension\":1,\"ticker\":{\"id\":\"1822\",\"type\":\"BasicTicker\"}},\"id\":\"1825\",\"type\":\"Grid\"},{\"attributes\":{\"source\":{\"id\":\"1909\",\"type\":\"ColumnDataSource\"}},\"id\":\"1918\",\"type\":\"CDSView\"},{\"attributes\":{\"ticker\":{\"id\":\"1817\",\"type\":\"BasicTicker\"}},\"id\":\"1820\",\"type\":\"Grid\"},{\"attributes\":{\"fill_alpha\":{\"value\":0.5},\"fill_color\":{\"value\":\"red\"},\"line_color\":{\"value\":\"red\"},\"size\":{\"units\":\"screen\",\"value\":10},\"x\":{\"field\":\"x\"},\"y\":{\"field\":\"y\"}},\"id\":\"1910\",\"type\":\"Circle\"},{\"attributes\":{},\"id\":\"1766\",\"type\":\"ResetTool\"},{\"attributes\":{\"below\":[{\"id\":\"1784\",\"type\":\"LinearAxis\"}],\"center\":[{\"id\":\"1788\",\"type\":\"Grid\"},{\"id\":\"1793\",\"type\":\"Grid\"}],\"left\":[{\"id\":\"1789\",\"type\":\"LinearAxis\"}],\"plot_height\":350,\"plot_width\":350,\"renderers\":[{\"id\":\"1890\",\"type\":\"GlyphRenderer\"},{\"id\":\"1917\",\"type\":\"GlyphRenderer\"}],\"title\":{\"id\":\"1892\",\"type\":\"Title\"},\"toolbar\":{\"id\":\"1800\",\"type\":\"Toolbar\"},\"toolbar_location\":null,\"x_range\":{\"id\":\"1776\",\"type\":\"DataRange1d\"},\"x_scale\":{\"id\":\"1780\",\"type\":\"LinearScale\"},\"y_range\":{\"id\":\"1778\",\"type\":\"DataRange1d\"},\"y_scale\":{\"id\":\"1782\",\"type\":\"LinearScale\"}},\"id\":\"1775\",\"subtype\":\"Figure\",\"type\":\"Plot\"},{\"attributes\":{\"axis_label\":\"order qty\",\"formatter\":{\"id\":\"1966\",\"type\":\"BasicTickFormatter\"},\"ticker\":{\"id\":\"1817\",\"type\":\"BasicTicker\"}},\"id\":\"1816\",\"type\":\"LinearAxis\"},{\"attributes\":{\"ticker\":{\"id\":\"1785\",\"type\":\"BasicTicker\"}},\"id\":\"1788\",\"type\":\"Grid\"},{\"attributes\":{},\"id\":\"1817\",\"type\":\"BasicTicker\"},{\"attributes\":{},\"id\":\"1763\",\"type\":\"WheelZoomTool\"},{\"attributes\":{\"active_drag\":\"auto\",\"active_inspect\":\"auto\",\"active_multi\":null,\"active_scroll\":\"auto\",\"active_tap\":\"auto\",\"tools\":[{\"id\":\"1794\",\"type\":\"PanTool\"},{\"id\":\"1795\",\"type\":\"WheelZoomTool\"},{\"id\":\"1796\",\"type\":\"BoxZoomTool\"},{\"id\":\"1797\",\"type\":\"SaveTool\"},{\"id\":\"1798\",\"type\":\"ResetTool\"},{\"id\":\"1799\",\"type\":\"HelpTool\"}]},\"id\":\"1800\",\"type\":\"Toolbar\"},{\"attributes\":{\"data_source\":{\"id\":\"1885\",\"type\":\"ColumnDataSource\"},\"glyph\":{\"id\":\"1886\",\"type\":\"Line\"},\"hover_glyph\":null,\"muted_glyph\":null,\"view\":{\"id\":\"1897\",\"type\":\"CDSView\"}},\"id\":\"1896\",\"type\":\"GlyphRenderer\"},{\"attributes\":{},\"id\":\"1748\",\"type\":\"LinearScale\"},{\"attributes\":{\"callback\":null},\"id\":\"1810\",\"type\":\"DataRange1d\"},{\"attributes\":{\"source\":{\"id\":\"1911\",\"type\":\"ColumnDataSource\"}},\"id\":\"1920\",\"type\":\"CDSView\"},{\"attributes\":{\"callback\":null},\"id\":\"1778\",\"type\":\"DataRange1d\"},{\"attributes\":{},\"id\":\"1799\",\"type\":\"HelpTool\"},{\"attributes\":{\"callback\":null,\"data\":{\"x\":[0,1,2,3,4,5,6,7,8,9,10,11,12,13,14,15,16,17,18,19,20],\"y\":[0,1,2,3,4,5,6,7,8,9,10,11,12,13,14,15,16,17,18,19,20]},\"selected\":{\"id\":\"1969\",\"type\":\"Selection\"},\"selection_policy\":{\"id\":\"1970\",\"type\":\"UnionRenderers\"}},\"id\":\"1883\",\"type\":\"ColumnDataSource\"},{\"attributes\":{\"dimension\":1,\"ticker\":{\"id\":\"1790\",\"type\":\"BasicTicker\"}},\"id\":\"1793\",\"type\":\"Grid\"},{\"attributes\":{\"callback\":null},\"id\":\"1746\",\"type\":\"DataRange1d\"},{\"attributes\":{\"callback\":null,\"data\":{\"x\":[15],\"y\":{\"__ndarray__\":\"OHNIrCUTH0A=\",\"dtype\":\"float64\",\"shape\":[1]}},\"selected\":{\"id\":\"1947\",\"type\":\"Selection\"},\"selection_policy\":{\"id\":\"1948\",\"type\":\"UnionRenderers\"}},\"id\":\"1903\",\"type\":\"ColumnDataSource\"},{\"attributes\":{\"data_source\":{\"id\":\"1909\",\"type\":\"ColumnDataSource\"},\"glyph\":{\"id\":\"1910\",\"type\":\"Circle\"},\"hover_glyph\":null,\"muted_glyph\":null,\"view\":{\"id\":\"1918\",\"type\":\"CDSView\"}},\"id\":\"1917\",\"type\":\"GlyphRenderer\"},{\"attributes\":{},\"id\":\"1750\",\"type\":\"LinearScale\"},{\"attributes\":{},\"id\":\"1854\",\"type\":\"BasicTicker\"},{\"attributes\":{},\"id\":\"1762\",\"type\":\"PanTool\"},{\"attributes\":{\"line_color\":\"blue\",\"line_width\":2,\"x\":{\"field\":\"x\"},\"y\":{\"field\":\"y\"}},\"id\":\"1876\",\"type\":\"Line\"},{\"attributes\":{},\"id\":\"1814\",\"type\":\"LinearScale\"},{\"attributes\":{},\"id\":\"1862\",\"type\":\"ResetTool\"},{\"attributes\":{\"source\":{\"id\":\"1883\",\"type\":\"ColumnDataSource\"}},\"id\":\"1894\",\"type\":\"CDSView\"},{\"attributes\":{},\"id\":\"1798\",\"type\":\"ResetTool\"},{\"attributes\":{},\"id\":\"1863\",\"type\":\"HelpTool\"},{\"attributes\":{},\"id\":\"1946\",\"type\":\"UnionRenderers\"},{\"attributes\":{},\"id\":\"1826\",\"type\":\"PanTool\"},{\"attributes\":{},\"id\":\"1780\",\"type\":\"LinearScale\"},{\"attributes\":{},\"id\":\"1861\",\"type\":\"SaveTool\"},{\"attributes\":{\"callback\":null,\"data\":{\"x\":[0,1,2,3,4,5,6,7,8,9,10,11,12,13,14,15,16,17,18,19,20],\"y\":{\"__ndarray__\":\"AAAAAAAAAABun1j7b+fsPzIzIKOTAfo/6JMu7xV4AUDsO8LfsL8EQNAR0hGB9AZAXJ4e5qwwCEDgqlav3YsIQLDkPVJ8GwhAdH/rH+jyBkDMWVR4qCMFQBRIlbSZvQJAwIdzjiue/z949koNMsr4PzDmv9bGFvE/gDOHxFoy4T8AI4eum2ujv4DQVlve6uS/MFPK8Ejl9L/wJhZKqdz/v6hO00xVpwXA\",\"dtype\":\"float64\",\"shape\":[21]}},\"selected\":{\"id\":\"1981\",\"type\":\"Selection\"},\"selection_policy\":{\"id\":\"1982\",\"type\":\"UnionRenderers\"}},\"id\":\"1885\",\"type\":\"ColumnDataSource\"},{\"attributes\":{\"overlay\":{\"id\":\"1985\",\"type\":\"BoxAnnotation\"}},\"id\":\"1860\",\"type\":\"BoxZoomTool\"},{\"attributes\":{\"data_source\":{\"id\":\"1911\",\"type\":\"ColumnDataSource\"},\"glyph\":{\"id\":\"1912\",\"type\":\"Circle\"},\"hover_glyph\":null,\"muted_glyph\":null,\"view\":{\"id\":\"1920\",\"type\":\"CDSView\"}},\"id\":\"1919\",\"type\":\"GlyphRenderer\"},{\"attributes\":{\"active_drag\":\"auto\",\"active_inspect\":\"auto\",\"active_multi\":null,\"active_scroll\":\"auto\",\"active_tap\":\"auto\",\"tools\":[{\"id\":\"1826\",\"type\":\"PanTool\"},{\"id\":\"1827\",\"type\":\"WheelZoomTool\"},{\"id\":\"1828\",\"type\":\"BoxZoomTool\"},{\"id\":\"1829\",\"type\":\"SaveTool\"},{\"id\":\"1830\",\"type\":\"ResetTool\"},{\"id\":\"1831\",\"type\":\"HelpTool\"}]},\"id\":\"1832\",\"type\":\"Toolbar\"},{\"attributes\":{\"callback\":null,\"data\":{\"x\":[15],\"y\":[15]},\"selected\":{\"id\":\"1971\",\"type\":\"Selection\"},\"selection_policy\":{\"id\":\"1972\",\"type\":\"UnionRenderers\"}},\"id\":\"1911\",\"type\":\"ColumnDataSource\"},{\"attributes\":{\"text\":\"cost\"},\"id\":\"1895\",\"type\":\"Title\"},{\"attributes\":{\"dimension\":1,\"ticker\":{\"id\":\"1854\",\"type\":\"BasicTicker\"}},\"id\":\"1857\",\"type\":\"Grid\"},{\"attributes\":{\"callback\":null,\"data\":{\"x\":[15],\"y\":{\"__ndarray__\":\"OHNIrCUTL0A=\",\"dtype\":\"float64\",\"shape\":[1]}},\"selected\":{\"id\":\"1959\",\"type\":\"Selection\"},\"selection_policy\":{\"id\":\"1960\",\"type\":\"UnionRenderers\"}},\"id\":\"1909\",\"type\":\"ColumnDataSource\"},{\"attributes\":{\"below\":[{\"id\":\"1848\",\"type\":\"LinearAxis\"}],\"center\":[{\"id\":\"1852\",\"type\":\"Grid\"},{\"id\":\"1857\",\"type\":\"Grid\"}],\"left\":[{\"id\":\"1853\",\"type\":\"LinearAxis\"}],\"plot_height\":350,\"plot_width\":350,\"renderers\":[{\"id\":\"1896\",\"type\":\"GlyphRenderer\"},{\"id\":\"1921\",\"type\":\"GlyphRenderer\"}],\"title\":{\"id\":\"1898\",\"type\":\"Title\"},\"toolbar\":{\"id\":\"1864\",\"type\":\"Toolbar\"},\"toolbar_location\":null,\"x_range\":{\"id\":\"1840\",\"type\":\"DataRange1d\"},\"x_scale\":{\"id\":\"1844\",\"type\":\"LinearScale\"},\"y_range\":{\"id\":\"1842\",\"type\":\"DataRange1d\"},\"y_scale\":{\"id\":\"1846\",\"type\":\"LinearScale\"}},\"id\":\"1839\",\"subtype\":\"Figure\",\"type\":\"Plot\"},{\"attributes\":{\"active_drag\":\"auto\",\"active_inspect\":\"auto\",\"active_multi\":null,\"active_scroll\":\"auto\",\"active_tap\":\"auto\",\"tools\":[{\"id\":\"1762\",\"type\":\"PanTool\"},{\"id\":\"1763\",\"type\":\"WheelZoomTool\"},{\"id\":\"1764\",\"type\":\"BoxZoomTool\"},{\"id\":\"1765\",\"type\":\"SaveTool\"},{\"id\":\"1766\",\"type\":\"ResetTool\"},{\"id\":\"1767\",\"type\":\"HelpTool\"}]},\"id\":\"1768\",\"type\":\"Toolbar\"},{\"attributes\":{},\"id\":\"1849\",\"type\":\"BasicTicker\"},{\"attributes\":{},\"id\":\"1846\",\"type\":\"LinearScale\"},{\"attributes\":{},\"id\":\"1981\",\"type\":\"Selection\"},{\"attributes\":{},\"id\":\"1968\",\"type\":\"BasicTickFormatter\"},{\"attributes\":{},\"id\":\"1966\",\"type\":\"BasicTickFormatter\"},{\"attributes\":{},\"id\":\"1980\",\"type\":\"BasicTickFormatter\"},{\"attributes\":{\"tools\":[{\"id\":\"1762\",\"type\":\"PanTool\"},{\"id\":\"1763\",\"type\":\"WheelZoomTool\"},{\"id\":\"1764\",\"type\":\"BoxZoomTool\"},{\"id\":\"1765\",\"type\":\"SaveTool\"},{\"id\":\"1766\",\"type\":\"ResetTool\"},{\"id\":\"1767\",\"type\":\"HelpTool\"},{\"id\":\"1794\",\"type\":\"PanTool\"},{\"id\":\"1795\",\"type\":\"WheelZoomTool\"},{\"id\":\"1796\",\"type\":\"BoxZoomTool\"},{\"id\":\"1797\",\"type\":\"SaveTool\"},{\"id\":\"1798\",\"type\":\"ResetTool\"},{\"id\":\"1799\",\"type\":\"HelpTool\"},{\"id\":\"1826\",\"type\":\"PanTool\"},{\"id\":\"1827\",\"type\":\"WheelZoomTool\"},{\"id\":\"1828\",\"type\":\"BoxZoomTool\"},{\"id\":\"1829\",\"type\":\"SaveTool\"},{\"id\":\"1830\",\"type\":\"ResetTool\"},{\"id\":\"1831\",\"type\":\"HelpTool\"},{\"id\":\"1858\",\"type\":\"PanTool\"},{\"id\":\"1859\",\"type\":\"WheelZoomTool\"},{\"id\":\"1860\",\"type\":\"BoxZoomTool\"},{\"id\":\"1861\",\"type\":\"SaveTool\"},{\"id\":\"1862\",\"type\":\"ResetTool\"},{\"id\":\"1863\",\"type\":\"HelpTool\"}]},\"id\":\"1988\",\"type\":\"ProxyToolbar\"},{\"attributes\":{},\"id\":\"1978\",\"type\":\"BasicTickFormatter\"},{\"attributes\":{},\"id\":\"1956\",\"type\":\"BasicTickFormatter\"},{\"attributes\":{\"bottom_units\":\"screen\",\"fill_alpha\":{\"value\":0.5},\"fill_color\":{\"value\":\"lightgrey\"},\"left_units\":\"screen\",\"level\":\"overlay\",\"line_alpha\":{\"value\":1.0},\"line_color\":{\"value\":\"black\"},\"line_dash\":[4,4],\"line_width\":{\"value\":2},\"render_mode\":\"css\",\"right_units\":\"screen\",\"top_units\":\"screen\"},\"id\":\"1961\",\"type\":\"BoxAnnotation\"},{\"attributes\":{\"children\":[[{\"id\":\"1743\",\"subtype\":\"Figure\",\"type\":\"Plot\"},0,0],[{\"id\":\"1775\",\"subtype\":\"Figure\",\"type\":\"Plot\"},0,1],[{\"id\":\"1807\",\"subtype\":\"Figure\",\"type\":\"Plot\"},1,0],[{\"id\":\"1839\",\"subtype\":\"Figure\",\"type\":\"Plot\"},1,1]]},\"id\":\"1987\",\"type\":\"GridBox\"},{\"attributes\":{},\"id\":\"1983\",\"type\":\"Selection\"},{\"attributes\":{\"toolbar\":{\"id\":\"1988\",\"type\":\"ProxyToolbar\"},\"toolbar_location\":\"above\"},\"id\":\"1989\",\"type\":\"ToolbarBox\"},{\"attributes\":{\"fill_alpha\":{\"value\":0.5},\"fill_color\":{\"value\":\"red\"},\"line_color\":{\"value\":\"red\"},\"size\":{\"units\":\"screen\",\"value\":10},\"x\":{\"field\":\"x\"},\"y\":{\"field\":\"y\"}},\"id\":\"1914\",\"type\":\"Circle\"},{\"attributes\":{},\"id\":\"1960\",\"type\":\"UnionRenderers\"},{\"attributes\":{\"source\":{\"id\":\"1881\",\"type\":\"ColumnDataSource\"}},\"id\":\"1891\",\"type\":\"CDSView\"},{\"attributes\":{},\"id\":\"1959\",\"type\":\"Selection\"},{\"attributes\":{},\"id\":\"1984\",\"type\":\"UnionRenderers\"},{\"attributes\":{\"bottom_units\":\"screen\",\"fill_alpha\":{\"value\":0.5},\"fill_color\":{\"value\":\"lightgrey\"},\"left_units\":\"screen\",\"level\":\"overlay\",\"line_alpha\":{\"value\":1.0},\"line_color\":{\"value\":\"black\"},\"line_dash\":[4,4],\"line_width\":{\"value\":2},\"render_mode\":\"css\",\"right_units\":\"screen\",\"top_units\":\"screen\"},\"id\":\"1985\",\"type\":\"BoxAnnotation\"},{\"attributes\":{\"callback\":null,\"data\":{\"x\":[15],\"y\":{\"__ndarray__\":\"gDOHxFoy4T8=\",\"dtype\":\"float64\",\"shape\":[1]}},\"selected\":{\"id\":\"1983\",\"type\":\"Selection\"},\"selection_policy\":{\"id\":\"1984\",\"type\":\"UnionRenderers\"}},\"id\":\"1913\",\"type\":\"ColumnDataSource\"},{\"attributes\":{\"data_source\":{\"id\":\"1881\",\"type\":\"ColumnDataSource\"},\"glyph\":{\"id\":\"1882\",\"type\":\"Line\"},\"hover_glyph\":null,\"muted_glyph\":null,\"view\":{\"id\":\"1891\",\"type\":\"CDSView\"}},\"id\":\"1890\",\"type\":\"GlyphRenderer\"},{\"attributes\":{},\"id\":\"1982\",\"type\":\"UnionRenderers\"},{\"attributes\":{\"text\":\"sales\"},\"id\":\"1889\",\"type\":\"Title\"},{\"attributes\":{},\"id\":\"1969\",\"type\":\"Selection\"},{\"attributes\":{\"bottom_units\":\"screen\",\"fill_alpha\":{\"value\":0.5},\"fill_color\":{\"value\":\"lightgrey\"},\"left_units\":\"screen\",\"level\":\"overlay\",\"line_alpha\":{\"value\":1.0},\"line_color\":{\"value\":\"black\"},\"line_dash\":[4,4],\"line_width\":{\"value\":2},\"render_mode\":\"css\",\"right_units\":\"screen\",\"top_units\":\"screen\"},\"id\":\"1973\",\"type\":\"BoxAnnotation\"},{\"attributes\":{\"data_source\":{\"id\":\"1913\",\"type\":\"ColumnDataSource\"},\"glyph\":{\"id\":\"1914\",\"type\":\"Circle\"},\"hover_glyph\":null,\"muted_glyph\":null,\"view\":{\"id\":\"1922\",\"type\":\"CDSView\"}},\"id\":\"1921\",\"type\":\"GlyphRenderer\"},{\"attributes\":{\"source\":{\"id\":\"1913\",\"type\":\"ColumnDataSource\"}},\"id\":\"1922\",\"type\":\"CDSView\"},{\"attributes\":{\"fill_alpha\":{\"value\":0.5},\"fill_color\":{\"value\":\"red\"},\"line_color\":{\"value\":\"red\"},\"size\":{\"units\":\"screen\",\"value\":10},\"x\":{\"field\":\"x\"},\"y\":{\"field\":\"y\"}},\"id\":\"1912\",\"type\":\"Circle\"},{\"attributes\":{},\"id\":\"1972\",\"type\":\"UnionRenderers\"},{\"attributes\":{\"axis_label\":\"expected revenue\",\"formatter\":{\"id\":\"1956\",\"type\":\"BasicTickFormatter\"},\"ticker\":{\"id\":\"1790\",\"type\":\"BasicTicker\"}},\"id\":\"1789\",\"type\":\"LinearAxis\"},{\"attributes\":{\"line_color\":\"blue\",\"line_width\":2,\"x\":{\"field\":\"x\"},\"y\":{\"field\":\"y\"}},\"id\":\"1886\",\"type\":\"Line\"},{\"attributes\":{},\"id\":\"1944\",\"type\":\"BasicTickFormatter\"},{\"attributes\":{},\"id\":\"1970\",\"type\":\"UnionRenderers\"},{\"attributes\":{},\"id\":\"1942\",\"type\":\"BasicTickFormatter\"},{\"attributes\":{},\"id\":\"1945\",\"type\":\"Selection\"},{\"attributes\":{},\"id\":\"1948\",\"type\":\"UnionRenderers\"},{\"attributes\":{},\"id\":\"1971\",\"type\":\"Selection\"}],\"root_ids\":[\"1990\"]},\"title\":\"Bokeh Application\",\"version\":\"1.3.4\"}};\n",
       "  var render_items = [{\"docid\":\"e799c3fc-c617-43d7-8a48-53dcaf672e38\",\"notebook_comms_target\":\"2089\",\"roots\":{\"1990\":\"9675e3d6-f201-4cea-a3b3-188a478bd480\"}}];\n",
       "  root.Bokeh.embed.embed_items_notebook(docs_json, render_items);\n",
       "\n",
       "  }\n",
       "  if (root.Bokeh !== undefined) {\n",
       "    embed_document(root);\n",
       "  } else {\n",
       "    var attempts = 0;\n",
       "    var timer = setInterval(function(root) {\n",
       "      if (root.Bokeh !== undefined) {\n",
       "        embed_document(root);\n",
       "        clearInterval(timer);\n",
       "      }\n",
       "      attempts++;\n",
       "      if (attempts > 100) {\n",
       "        console.log(\"Bokeh: ERROR: Unable to run BokehJS code because BokehJS library is missing\");\n",
       "        clearInterval(timer);\n",
       "      }\n",
       "    }, 10, root)\n",
       "  }\n",
       "})(window);"
      ],
      "application/vnd.bokehjs_exec.v0+json": ""
     },
     "metadata": {
      "application/vnd.bokehjs_exec.v0+json": {
       "id": "1990"
      }
     },
     "output_type": "display_data"
    }
   ],
   "source": [
    "# Initialize model\n",
    "# Default exponential distribution has parameter lambda = 0.1\n",
    "# Default model parameters are wholesale_cost = 1, retail_price = 2.\n",
    "news = newsvendor.Newsvendor('exponential')\n",
    "\n",
    "# Simulate demand\n",
    "news.sim_data(num_days=365)\n",
    "\n",
    "# Histograms with order quantity slider\n",
    "bins = int(max(news.data['demand'])-min(news.data['demand'])+1)\n",
    "hist_fields = ['demand', 'sales', 'profit']\n",
    "hist_labels = {field: {'x': field, 'y': 'count', 'title': field + ' histogram'} for field in hist_fields}\n",
    "hist_func = lambda n: news_plot.hist_glyphs(news.data, bins=bins)\n",
    "newsvendor.interact_gridplot(news_plot.figures(hist_fields), hist_func, news, labels=hist_labels)\n",
    "\n",
    "# Scatter plots with order quantity slider\n",
    "scatter_fields = ['sales', 'revenue', 'profit']\n",
    "scatter_labels = {field: {'x': 'demand', 'y': field, 'title': field} for field in scatter_fields}\n",
    "scatter_func = lambda n: news_plot.scatter_glyphs(n.data, 'demand')\n",
    "newsvendor.interact_gridplot(news_plot.figures(scatter_fields), scatter_func, news, labels=scatter_labels)\n",
    "\n",
    "# Table of expected values with order quantity slider\n",
    "ev_table_fields = ['demand', 'sales', 'profit']\n",
    "newsvendor.order_qty_interact(lambda y: news.exp_vals([y])[ev_table_fields].style.hide_index(), news)\n",
    "\n",
    "# Line plots of expected values as functions of order quantity\n",
    "ev_fields = ['sales', 'revenue', 'cost', 'profit']\n",
    "ev_labels = {field: {'x': 'order qty', 'y': 'expected ' + field, 'title': field} for field in ev_fields}\n",
    "ev_func = lambda n: news_plot.line_glyphs(n.exp_vals(), 'order qty')\n",
    "ev_sources, ev_plots = newsvendor.news_gridplot(news_plot.figures(ev_fields, plot_width=350, plot_height=350), ev_func, news, labels=ev_labels)\n",
    "circle_func = lambda n: news_plot.circle_markers(n.exp_vals([n.order_qty]))\n",
    "newsvendor.interact_gridplot({field: ev_plots[field] for field in ev_fields}, circle_func, news, ncols=2)"
   ]
  },
  {
   "cell_type": "markdown",
   "metadata": {},
   "source": [
    "## Sales, Shortage, Surplus (Optional)\n",
    "\n",
    "It may be helpful to visualize the relationship between\n",
    "\n",
    "* $\\text{sales} = \\min\\{y, D\\}$\n",
    "* $\\text{shortage} = (D - y)^+$\n",
    "* $\\text{surplus} = (y - D)^+$\n",
    "\n",
    "We will consider these as functions of demand $D$.  You can verify graphically the following [identities](https://en.wikipedia.org/wiki/Identity_(mathematics)):\n",
    "\n",
    "$$\\begin{aligned}\n",
    "    D - y &= (D - y)^+ - (y - D)^+ \\\\\n",
    "    \\min\\{y, D\\} &= D - (D - y)^+ = y - (y - D)^+\n",
    "  \\end{aligned}$$\n",
    "  \n",
    "With these two identities, you can show that the original formula for $\\text{profit}$ and the rephrased formula are equivalent.\n",
    "\n",
    "Conceptually, you may find it easier to think of these identities as:\n",
    "\n",
    "$$\\begin{aligned}\n",
    "    \\text{order quantity} &= \\text{sales} + \\text{surplus} \\\\\n",
    "    \\text{demand} &= \\text{sales} + \\text{shortage}\n",
    "  \\end{aligned}$$\n",
    "\n",
    "Less relevant for the Newsvendor, but for practice, you can check that $|D - y| = (D - y)^+ + (y - D)^+$ (where $|\\cdot|$ denotes absolute value)."
   ]
  },
  {
   "cell_type": "code",
   "execution_count": 3,
   "metadata": {},
   "outputs": [
    {
     "data": {
      "application/vnd.jupyter.widget-view+json": {
       "model_id": "3b725ad86a0741828ead2a18f3c897df",
       "version_major": 2,
       "version_minor": 0
      },
      "text/plain": [
       "interactive(children=(IntSlider(value=15, description='Order Qty', max=20), Output()), _dom_classes=('widget-i…"
      ]
     },
     "metadata": {},
     "output_type": "display_data"
    },
    {
     "data": {
      "text/html": [
       "\n",
       "\n",
       "\n",
       "\n",
       "\n",
       "\n",
       "  <div class=\"bk-root\" id=\"b4731b62-4ae4-4951-831c-6298873d0060\" data-root-id=\"2651\"></div>\n"
      ]
     },
     "metadata": {},
     "output_type": "display_data"
    },
    {
     "data": {
      "application/javascript": [
       "(function(root) {\n",
       "  function embed_document(root) {\n",
       "    \n",
       "  var docs_json = {\"d605dd20-3417-4eb5-844f-d4ac37a7a3aa\":{\"roots\":{\"references\":[{\"attributes\":{\"children\":[{\"id\":\"2650\",\"type\":\"ToolbarBox\"},{\"id\":\"2648\",\"type\":\"GridBox\"}]},\"id\":\"2651\",\"type\":\"Column\"},{\"attributes\":{},\"id\":\"2442\",\"type\":\"HelpTool\"},{\"attributes\":{},\"id\":\"2644\",\"type\":\"Selection\"},{\"attributes\":{},\"id\":\"2378\",\"type\":\"HelpTool\"},{\"attributes\":{\"active_drag\":\"auto\",\"active_inspect\":\"auto\",\"active_multi\":null,\"active_scroll\":\"auto\",\"active_tap\":\"auto\",\"tools\":[{\"id\":\"2437\",\"type\":\"PanTool\"},{\"id\":\"2438\",\"type\":\"WheelZoomTool\"},{\"id\":\"2439\",\"type\":\"BoxZoomTool\"},{\"id\":\"2440\",\"type\":\"SaveTool\"},{\"id\":\"2441\",\"type\":\"ResetTool\"},{\"id\":\"2442\",\"type\":\"HelpTool\"}]},\"id\":\"2443\",\"type\":\"Toolbar\"},{\"attributes\":{\"callback\":null,\"data\":{\"x\":[0,1,2,3,4,5,6,7,8,9,10,11,12,13,14,15,16,17,18,19,20,21,22,23,24,25,26,27,28,29],\"y\":[15,15,15,15,15,15,15,15,15,15,15,15,15,15,15,15,15,15,15,15,15,15,15,15,15,15,15,15,15,15]},\"selected\":{\"id\":\"2604\",\"type\":\"Selection\"},\"selection_policy\":{\"id\":\"2605\",\"type\":\"UnionRenderers\"}},\"id\":\"2548\",\"type\":\"ColumnDataSource\"},{\"attributes\":{},\"id\":\"2645\",\"type\":\"UnionRenderers\"},{\"attributes\":{\"line_color\":\"blue\",\"line_width\":2,\"x\":{\"field\":\"x\"},\"y\":{\"field\":\"y\"}},\"id\":\"2547\",\"type\":\"Line\"},{\"attributes\":{},\"id\":\"2605\",\"type\":\"UnionRenderers\"},{\"attributes\":{\"active_drag\":\"auto\",\"active_inspect\":\"auto\",\"active_multi\":null,\"active_scroll\":\"auto\",\"active_tap\":\"auto\",\"tools\":[{\"id\":\"2373\",\"type\":\"PanTool\"},{\"id\":\"2374\",\"type\":\"WheelZoomTool\"},{\"id\":\"2375\",\"type\":\"BoxZoomTool\"},{\"id\":\"2376\",\"type\":\"SaveTool\"},{\"id\":\"2377\",\"type\":\"ResetTool\"},{\"id\":\"2378\",\"type\":\"HelpTool\"}]},\"id\":\"2379\",\"type\":\"Toolbar\"},{\"attributes\":{},\"id\":\"2643\",\"type\":\"BasicTickFormatter\"},{\"attributes\":{\"axis_label\":\"D\",\"formatter\":{\"id\":\"2621\",\"type\":\"BasicTickFormatter\"},\"ticker\":{\"id\":\"2460\",\"type\":\"BasicTicker\"}},\"id\":\"2459\",\"type\":\"LinearAxis\"},{\"attributes\":{},\"id\":\"2611\",\"type\":\"BasicTickFormatter\"},{\"attributes\":{},\"id\":\"2408\",\"type\":\"SaveTool\"},{\"attributes\":{},\"id\":\"2393\",\"type\":\"LinearScale\"},{\"attributes\":{\"axis_label\":\"D\",\"formatter\":{\"id\":\"2601\",\"type\":\"BasicTickFormatter\"},\"ticker\":{\"id\":\"2396\",\"type\":\"BasicTicker\"}},\"id\":\"2395\",\"type\":\"LinearAxis\"},{\"attributes\":{\"bottom_units\":\"screen\",\"fill_alpha\":{\"value\":0.5},\"fill_color\":{\"value\":\"lightgrey\"},\"left_units\":\"screen\",\"level\":\"overlay\",\"line_alpha\":{\"value\":1.0},\"line_color\":{\"value\":\"black\"},\"line_dash\":[4,4],\"line_width\":{\"value\":2},\"render_mode\":\"css\",\"right_units\":\"screen\",\"top_units\":\"screen\"},\"id\":\"2646\",\"type\":\"BoxAnnotation\"},{\"attributes\":{\"source\":{\"id\":\"2548\",\"type\":\"ColumnDataSource\"}},\"id\":\"2562\",\"type\":\"CDSView\"},{\"attributes\":{},\"id\":\"2625\",\"type\":\"UnionRenderers\"},{\"attributes\":{\"line_color\":\"blue\",\"line_width\":2,\"x\":{\"field\":\"x\"},\"y\":{\"field\":\"y\"}},\"id\":\"2549\",\"type\":\"Line\"},{\"attributes\":{},\"id\":\"2460\",\"type\":\"BasicTicker\"},{\"attributes\":{},\"id\":\"2401\",\"type\":\"BasicTicker\"},{\"attributes\":{\"callback\":null,\"data\":{\"x\":[0,1,2,3,4,5,6,7,8,9,10,11,12,13,14,15,16,17,18,19,20,21,22,23,24,25,26,27,28,29],\"y\":[0,1,2,3,4,5,6,7,8,9,10,11,12,13,14,15,15,15,15,15,15,15,15,15,15,15,15,15,15,15]},\"selected\":{\"id\":\"2614\",\"type\":\"Selection\"},\"selection_policy\":{\"id\":\"2615\",\"type\":\"UnionRenderers\"}},\"id\":\"2550\",\"type\":\"ColumnDataSource\"},{\"attributes\":{\"ticker\":{\"id\":\"2460\",\"type\":\"BasicTicker\"}},\"id\":\"2463\",\"type\":\"Grid\"},{\"attributes\":{},\"id\":\"2396\",\"type\":\"BasicTicker\"},{\"attributes\":{},\"id\":\"2465\",\"type\":\"BasicTicker\"},{\"attributes\":{},\"id\":\"2615\",\"type\":\"UnionRenderers\"},{\"attributes\":{\"ticker\":{\"id\":\"2396\",\"type\":\"BasicTicker\"}},\"id\":\"2399\",\"type\":\"Grid\"},{\"attributes\":{\"line_color\":\"blue\",\"line_width\":2,\"x\":{\"field\":\"x\"},\"y\":{\"field\":\"y\"}},\"id\":\"2551\",\"type\":\"Line\"},{\"attributes\":{},\"id\":\"2633\",\"type\":\"BasicTickFormatter\"},{\"attributes\":{\"axis_label\":\"(D - y)^+\",\"formatter\":{\"id\":\"2623\",\"type\":\"BasicTickFormatter\"},\"ticker\":{\"id\":\"2465\",\"type\":\"BasicTicker\"}},\"id\":\"2464\",\"type\":\"LinearAxis\"},{\"attributes\":{},\"id\":\"2613\",\"type\":\"BasicTickFormatter\"},{\"attributes\":{\"callback\":null,\"data\":{\"x\":[0,1,2,3,4,5,6,7,8,9,10,11,12,13,14,15,16,17,18,19,20,21,22,23,24,25,26,27,28,29],\"y\":[0,0,0,0,0,0,0,0,0,0,0,0,0,0,0,0,1,2,3,4,5,6,7,8,9,10,11,12,13,14]},\"selected\":{\"id\":\"2624\",\"type\":\"Selection\"},\"selection_policy\":{\"id\":\"2625\",\"type\":\"UnionRenderers\"}},\"id\":\"2552\",\"type\":\"ColumnDataSource\"},{\"attributes\":{\"dimension\":1,\"ticker\":{\"id\":\"2401\",\"type\":\"BasicTicker\"}},\"id\":\"2404\",\"type\":\"Grid\"},{\"attributes\":{\"bottom_units\":\"screen\",\"fill_alpha\":{\"value\":0.5},\"fill_color\":{\"value\":\"lightgrey\"},\"left_units\":\"screen\",\"level\":\"overlay\",\"line_alpha\":{\"value\":1.0},\"line_color\":{\"value\":\"black\"},\"line_dash\":[4,4],\"line_width\":{\"value\":2},\"render_mode\":\"css\",\"right_units\":\"screen\",\"top_units\":\"screen\"},\"id\":\"2616\",\"type\":\"BoxAnnotation\"},{\"attributes\":{\"axis_label\":\"y\",\"formatter\":{\"id\":\"2603\",\"type\":\"BasicTickFormatter\"},\"ticker\":{\"id\":\"2401\",\"type\":\"BasicTicker\"}},\"id\":\"2400\",\"type\":\"LinearAxis\"},{\"attributes\":{},\"id\":\"2635\",\"type\":\"UnionRenderers\"},{\"attributes\":{\"active_drag\":\"auto\",\"active_inspect\":\"auto\",\"active_multi\":null,\"active_scroll\":\"auto\",\"active_tap\":\"auto\",\"tools\":[{\"id\":\"2405\",\"type\":\"PanTool\"},{\"id\":\"2406\",\"type\":\"WheelZoomTool\"},{\"id\":\"2407\",\"type\":\"BoxZoomTool\"},{\"id\":\"2408\",\"type\":\"SaveTool\"},{\"id\":\"2409\",\"type\":\"ResetTool\"},{\"id\":\"2410\",\"type\":\"HelpTool\"}]},\"id\":\"2411\",\"type\":\"Toolbar\"},{\"attributes\":{\"dimension\":1,\"ticker\":{\"id\":\"2465\",\"type\":\"BasicTicker\"}},\"id\":\"2468\",\"type\":\"Grid\"},{\"attributes\":{},\"id\":\"2423\",\"type\":\"LinearScale\"},{\"attributes\":{},\"id\":\"2487\",\"type\":\"LinearScale\"},{\"attributes\":{\"line_color\":\"blue\",\"line_width\":2,\"x\":{\"field\":\"x\"},\"y\":{\"field\":\"y\"}},\"id\":\"2553\",\"type\":\"Line\"},{\"attributes\":{\"callback\":null,\"data\":{\"x\":[0,1,2,3,4,5,6,7,8,9,10,11,12,13,14,15,16,17,18,19,20,21,22,23,24,25,26,27,28,29],\"y\":[15,14,13,12,11,10,9,8,7,6,5,4,3,2,1,0,0,0,0,0,0,0,0,0,0,0,0,0,0,0]},\"selected\":{\"id\":\"2634\",\"type\":\"Selection\"},\"selection_policy\":{\"id\":\"2635\",\"type\":\"UnionRenderers\"}},\"id\":\"2554\",\"type\":\"ColumnDataSource\"},{\"attributes\":{\"callback\":null},\"id\":\"2421\",\"type\":\"DataRange1d\"},{\"attributes\":{\"callback\":null},\"id\":\"2483\",\"type\":\"DataRange1d\"},{\"attributes\":{\"callback\":null},\"id\":\"2517\",\"type\":\"DataRange1d\"},{\"attributes\":{},\"id\":\"2425\",\"type\":\"LinearScale\"},{\"attributes\":{\"callback\":null},\"id\":\"2485\",\"type\":\"DataRange1d\"},{\"attributes\":{\"line_color\":\"blue\",\"line_width\":2,\"x\":{\"field\":\"x\"},\"y\":{\"field\":\"y\"}},\"id\":\"2555\",\"type\":\"Line\"},{\"attributes\":{\"active_drag\":\"auto\",\"active_inspect\":\"auto\",\"active_multi\":null,\"active_scroll\":\"auto\",\"active_tap\":\"auto\",\"tools\":[{\"id\":\"2469\",\"type\":\"PanTool\"},{\"id\":\"2470\",\"type\":\"WheelZoomTool\"},{\"id\":\"2471\",\"type\":\"BoxZoomTool\"},{\"id\":\"2472\",\"type\":\"SaveTool\"},{\"id\":\"2473\",\"type\":\"ResetTool\"},{\"id\":\"2474\",\"type\":\"HelpTool\"}]},\"id\":\"2475\",\"type\":\"Toolbar\"},{\"attributes\":{\"bottom_units\":\"screen\",\"fill_alpha\":{\"value\":0.5},\"fill_color\":{\"value\":\"lightgrey\"},\"left_units\":\"screen\",\"level\":\"overlay\",\"line_alpha\":{\"value\":1.0},\"line_color\":{\"value\":\"black\"},\"line_dash\":[4,4],\"line_width\":{\"value\":2},\"render_mode\":\"css\",\"right_units\":\"screen\",\"top_units\":\"screen\"},\"id\":\"2606\",\"type\":\"BoxAnnotation\"},{\"attributes\":{\"callback\":null,\"data\":{\"x\":[0,1,2,3,4,5,6,7,8,9,10,11,12,13,14,15,16,17,18,19,20,21,22,23,24,25,26,27,28,29],\"y\":[-15,-14,-13,-12,-11,-10,-9,-8,-7,-6,-5,-4,-3,-2,-1,0,1,2,3,4,5,6,7,8,9,10,11,12,13,14]},\"selected\":{\"id\":\"2644\",\"type\":\"Selection\"},\"selection_policy\":{\"id\":\"2645\",\"type\":\"UnionRenderers\"}},\"id\":\"2556\",\"type\":\"ColumnDataSource\"},{\"attributes\":{},\"id\":\"2623\",\"type\":\"BasicTickFormatter\"},{\"attributes\":{},\"id\":\"2405\",\"type\":\"PanTool\"},{\"attributes\":{},\"id\":\"2469\",\"type\":\"PanTool\"},{\"attributes\":{\"line_color\":\"blue\",\"line_width\":2,\"x\":{\"field\":\"x\"},\"y\":{\"field\":\"y\"}},\"id\":\"2557\",\"type\":\"Line\"},{\"attributes\":{},\"id\":\"2594\",\"type\":\"Selection\"},{\"attributes\":{\"text\":\"D\"},\"id\":\"2560\",\"type\":\"Title\"},{\"attributes\":{},\"id\":\"2406\",\"type\":\"WheelZoomTool\"},{\"attributes\":{},\"id\":\"2470\",\"type\":\"WheelZoomTool\"},{\"attributes\":{},\"id\":\"2428\",\"type\":\"BasicTicker\"},{\"attributes\":{\"overlay\":{\"id\":\"2606\",\"type\":\"BoxAnnotation\"}},\"id\":\"2407\",\"type\":\"BoxZoomTool\"},{\"attributes\":{\"source\":{\"id\":\"2552\",\"type\":\"ColumnDataSource\"}},\"id\":\"2568\",\"type\":\"CDSView\"},{\"attributes\":{\"overlay\":{\"id\":\"2626\",\"type\":\"BoxAnnotation\"}},\"id\":\"2471\",\"type\":\"BoxZoomTool\"},{\"attributes\":{\"source\":{\"id\":\"2550\",\"type\":\"ColumnDataSource\"}},\"id\":\"2565\",\"type\":\"CDSView\"},{\"attributes\":{},\"id\":\"2624\",\"type\":\"Selection\"},{\"attributes\":{},\"id\":\"2591\",\"type\":\"BasicTickFormatter\"},{\"attributes\":{},\"id\":\"2472\",\"type\":\"SaveTool\"},{\"attributes\":{\"data_source\":{\"id\":\"2548\",\"type\":\"ColumnDataSource\"},\"glyph\":{\"id\":\"2549\",\"type\":\"Line\"},\"hover_glyph\":null,\"muted_glyph\":null,\"view\":{\"id\":\"2562\",\"type\":\"CDSView\"}},\"id\":\"2561\",\"type\":\"GlyphRenderer\"},{\"attributes\":{\"axis_label\":\"D\",\"formatter\":{\"id\":\"2611\",\"type\":\"BasicTickFormatter\"},\"ticker\":{\"id\":\"2428\",\"type\":\"BasicTicker\"}},\"id\":\"2427\",\"type\":\"LinearAxis\"},{\"attributes\":{},\"id\":\"2473\",\"type\":\"ResetTool\"},{\"attributes\":{\"text\":\"y\"},\"id\":\"2563\",\"type\":\"Title\"},{\"attributes\":{},\"id\":\"2433\",\"type\":\"BasicTicker\"},{\"attributes\":{},\"id\":\"2604\",\"type\":\"Selection\"},{\"attributes\":{},\"id\":\"2601\",\"type\":\"BasicTickFormatter\"},{\"attributes\":{\"ticker\":{\"id\":\"2428\",\"type\":\"BasicTicker\"}},\"id\":\"2431\",\"type\":\"Grid\"},{\"attributes\":{},\"id\":\"2474\",\"type\":\"HelpTool\"},{\"attributes\":{},\"id\":\"2455\",\"type\":\"LinearScale\"},{\"attributes\":{\"source\":{\"id\":\"2554\",\"type\":\"ColumnDataSource\"}},\"id\":\"2571\",\"type\":\"CDSView\"},{\"attributes\":{\"data_source\":{\"id\":\"2550\",\"type\":\"ColumnDataSource\"},\"glyph\":{\"id\":\"2551\",\"type\":\"Line\"},\"hover_glyph\":null,\"muted_glyph\":null,\"view\":{\"id\":\"2565\",\"type\":\"CDSView\"}},\"id\":\"2564\",\"type\":\"GlyphRenderer\"},{\"attributes\":{\"dimension\":1,\"ticker\":{\"id\":\"2433\",\"type\":\"BasicTicker\"}},\"id\":\"2436\",\"type\":\"Grid\"},{\"attributes\":{},\"id\":\"2614\",\"type\":\"Selection\"},{\"attributes\":{\"axis_label\":\"min{y, D}\",\"formatter\":{\"id\":\"2613\",\"type\":\"BasicTickFormatter\"},\"ticker\":{\"id\":\"2433\",\"type\":\"BasicTicker\"}},\"id\":\"2432\",\"type\":\"LinearAxis\"},{\"attributes\":{\"text\":\"min{y, D}\"},\"id\":\"2566\",\"type\":\"Title\"},{\"attributes\":{},\"id\":\"2593\",\"type\":\"BasicTickFormatter\"},{\"attributes\":{},\"id\":\"2489\",\"type\":\"LinearScale\"},{\"attributes\":{\"axis_label\":\"D\",\"formatter\":{\"id\":\"2631\",\"type\":\"BasicTickFormatter\"},\"ticker\":{\"id\":\"2492\",\"type\":\"BasicTicker\"}},\"id\":\"2491\",\"type\":\"LinearAxis\"},{\"attributes\":{\"callback\":null},\"id\":\"2451\",\"type\":\"DataRange1d\"},{\"attributes\":{},\"id\":\"2603\",\"type\":\"BasicTickFormatter\"},{\"attributes\":{\"source\":{\"id\":\"2556\",\"type\":\"ColumnDataSource\"}},\"id\":\"2574\",\"type\":\"CDSView\"},{\"attributes\":{\"below\":[{\"id\":\"2491\",\"type\":\"LinearAxis\"}],\"center\":[{\"id\":\"2495\",\"type\":\"Grid\"},{\"id\":\"2500\",\"type\":\"Grid\"}],\"left\":[{\"id\":\"2496\",\"type\":\"LinearAxis\"}],\"plot_height\":300,\"plot_width\":300,\"renderers\":[{\"id\":\"2570\",\"type\":\"GlyphRenderer\"}],\"title\":{\"id\":\"2572\",\"type\":\"Title\"},\"toolbar\":{\"id\":\"2507\",\"type\":\"Toolbar\"},\"toolbar_location\":null,\"x_range\":{\"id\":\"2483\",\"type\":\"DataRange1d\"},\"x_scale\":{\"id\":\"2487\",\"type\":\"LinearScale\"},\"y_range\":{\"id\":\"2485\",\"type\":\"DataRange1d\"},\"y_scale\":{\"id\":\"2489\",\"type\":\"LinearScale\"}},\"id\":\"2482\",\"subtype\":\"Figure\",\"type\":\"Plot\"},{\"attributes\":{\"data_source\":{\"id\":\"2552\",\"type\":\"ColumnDataSource\"},\"glyph\":{\"id\":\"2553\",\"type\":\"Line\"},\"hover_glyph\":null,\"muted_glyph\":null,\"view\":{\"id\":\"2568\",\"type\":\"CDSView\"}},\"id\":\"2567\",\"type\":\"GlyphRenderer\"},{\"attributes\":{\"callback\":null},\"id\":\"2453\",\"type\":\"DataRange1d\"},{\"attributes\":{\"text\":\"(D - y)^+\"},\"id\":\"2569\",\"type\":\"Title\"},{\"attributes\":{},\"id\":\"2595\",\"type\":\"UnionRenderers\"},{\"attributes\":{},\"id\":\"2497\",\"type\":\"BasicTicker\"},{\"attributes\":{},\"id\":\"2457\",\"type\":\"LinearScale\"},{\"attributes\":{},\"id\":\"2621\",\"type\":\"BasicTickFormatter\"},{\"attributes\":{},\"id\":\"2492\",\"type\":\"BasicTicker\"},{\"attributes\":{},\"id\":\"2437\",\"type\":\"PanTool\"},{\"attributes\":{\"bottom_units\":\"screen\",\"fill_alpha\":{\"value\":0.5},\"fill_color\":{\"value\":\"lightgrey\"},\"left_units\":\"screen\",\"level\":\"overlay\",\"line_alpha\":{\"value\":1.0},\"line_color\":{\"value\":\"black\"},\"line_dash\":[4,4],\"line_width\":{\"value\":2},\"render_mode\":\"css\",\"right_units\":\"screen\",\"top_units\":\"screen\"},\"id\":\"2626\",\"type\":\"BoxAnnotation\"},{\"attributes\":{\"data_source\":{\"id\":\"2554\",\"type\":\"ColumnDataSource\"},\"glyph\":{\"id\":\"2555\",\"type\":\"Line\"},\"hover_glyph\":null,\"muted_glyph\":null,\"view\":{\"id\":\"2571\",\"type\":\"CDSView\"}},\"id\":\"2570\",\"type\":\"GlyphRenderer\"},{\"attributes\":{\"ticker\":{\"id\":\"2492\",\"type\":\"BasicTicker\"}},\"id\":\"2495\",\"type\":\"Grid\"},{\"attributes\":{},\"id\":\"2438\",\"type\":\"WheelZoomTool\"},{\"attributes\":{\"callback\":null},\"id\":\"2515\",\"type\":\"DataRange1d\"},{\"attributes\":{},\"id\":\"2634\",\"type\":\"Selection\"},{\"attributes\":{\"text\":\"(y - D)^+\"},\"id\":\"2572\",\"type\":\"Title\"},{\"attributes\":{\"dimension\":1,\"ticker\":{\"id\":\"2497\",\"type\":\"BasicTicker\"}},\"id\":\"2500\",\"type\":\"Grid\"},{\"attributes\":{},\"id\":\"2631\",\"type\":\"BasicTickFormatter\"},{\"attributes\":{\"overlay\":{\"id\":\"2616\",\"type\":\"BoxAnnotation\"}},\"id\":\"2439\",\"type\":\"BoxZoomTool\"},{\"attributes\":{\"axis_label\":\"(y - D)^+\",\"formatter\":{\"id\":\"2633\",\"type\":\"BasicTickFormatter\"},\"ticker\":{\"id\":\"2497\",\"type\":\"BasicTicker\"}},\"id\":\"2496\",\"type\":\"LinearAxis\"},{\"attributes\":{\"tools\":[{\"id\":\"2373\",\"type\":\"PanTool\"},{\"id\":\"2374\",\"type\":\"WheelZoomTool\"},{\"id\":\"2375\",\"type\":\"BoxZoomTool\"},{\"id\":\"2376\",\"type\":\"SaveTool\"},{\"id\":\"2377\",\"type\":\"ResetTool\"},{\"id\":\"2378\",\"type\":\"HelpTool\"},{\"id\":\"2405\",\"type\":\"PanTool\"},{\"id\":\"2406\",\"type\":\"WheelZoomTool\"},{\"id\":\"2407\",\"type\":\"BoxZoomTool\"},{\"id\":\"2408\",\"type\":\"SaveTool\"},{\"id\":\"2409\",\"type\":\"ResetTool\"},{\"id\":\"2410\",\"type\":\"HelpTool\"},{\"id\":\"2437\",\"type\":\"PanTool\"},{\"id\":\"2438\",\"type\":\"WheelZoomTool\"},{\"id\":\"2439\",\"type\":\"BoxZoomTool\"},{\"id\":\"2440\",\"type\":\"SaveTool\"},{\"id\":\"2441\",\"type\":\"ResetTool\"},{\"id\":\"2442\",\"type\":\"HelpTool\"},{\"id\":\"2469\",\"type\":\"PanTool\"},{\"id\":\"2470\",\"type\":\"WheelZoomTool\"},{\"id\":\"2471\",\"type\":\"BoxZoomTool\"},{\"id\":\"2472\",\"type\":\"SaveTool\"},{\"id\":\"2473\",\"type\":\"ResetTool\"},{\"id\":\"2474\",\"type\":\"HelpTool\"},{\"id\":\"2501\",\"type\":\"PanTool\"},{\"id\":\"2502\",\"type\":\"WheelZoomTool\"},{\"id\":\"2503\",\"type\":\"BoxZoomTool\"},{\"id\":\"2504\",\"type\":\"SaveTool\"},{\"id\":\"2505\",\"type\":\"ResetTool\"},{\"id\":\"2506\",\"type\":\"HelpTool\"},{\"id\":\"2533\",\"type\":\"PanTool\"},{\"id\":\"2534\",\"type\":\"WheelZoomTool\"},{\"id\":\"2535\",\"type\":\"BoxZoomTool\"},{\"id\":\"2536\",\"type\":\"SaveTool\"},{\"id\":\"2537\",\"type\":\"ResetTool\"},{\"id\":\"2538\",\"type\":\"HelpTool\"}]},\"id\":\"2649\",\"type\":\"ProxyToolbar\"},{\"attributes\":{},\"id\":\"2440\",\"type\":\"SaveTool\"},{\"attributes\":{\"data_source\":{\"id\":\"2556\",\"type\":\"ColumnDataSource\"},\"glyph\":{\"id\":\"2557\",\"type\":\"Line\"},\"hover_glyph\":null,\"muted_glyph\":null,\"view\":{\"id\":\"2574\",\"type\":\"CDSView\"}},\"id\":\"2573\",\"type\":\"GlyphRenderer\"},{\"attributes\":{},\"id\":\"2641\",\"type\":\"BasicTickFormatter\"},{\"attributes\":{\"children\":[[{\"id\":\"2354\",\"subtype\":\"Figure\",\"type\":\"Plot\"},0,0],[{\"id\":\"2386\",\"subtype\":\"Figure\",\"type\":\"Plot\"},0,1],[{\"id\":\"2418\",\"subtype\":\"Figure\",\"type\":\"Plot\"},0,2],[{\"id\":\"2450\",\"subtype\":\"Figure\",\"type\":\"Plot\"},1,0],[{\"id\":\"2482\",\"subtype\":\"Figure\",\"type\":\"Plot\"},1,1],[{\"id\":\"2514\",\"subtype\":\"Figure\",\"type\":\"Plot\"},1,2]]},\"id\":\"2648\",\"type\":\"GridBox\"},{\"attributes\":{},\"id\":\"2441\",\"type\":\"ResetTool\"},{\"attributes\":{\"bottom_units\":\"screen\",\"fill_alpha\":{\"value\":0.5},\"fill_color\":{\"value\":\"lightgrey\"},\"left_units\":\"screen\",\"level\":\"overlay\",\"line_alpha\":{\"value\":1.0},\"line_color\":{\"value\":\"black\"},\"line_dash\":[4,4],\"line_width\":{\"value\":2},\"render_mode\":\"css\",\"right_units\":\"screen\",\"top_units\":\"screen\"},\"id\":\"2636\",\"type\":\"BoxAnnotation\"},{\"attributes\":{\"below\":[{\"id\":\"2523\",\"type\":\"LinearAxis\"}],\"center\":[{\"id\":\"2527\",\"type\":\"Grid\"},{\"id\":\"2532\",\"type\":\"Grid\"}],\"left\":[{\"id\":\"2528\",\"type\":\"LinearAxis\"}],\"plot_height\":300,\"plot_width\":300,\"renderers\":[{\"id\":\"2573\",\"type\":\"GlyphRenderer\"}],\"title\":{\"id\":\"2575\",\"type\":\"Title\"},\"toolbar\":{\"id\":\"2539\",\"type\":\"Toolbar\"},\"toolbar_location\":null,\"x_range\":{\"id\":\"2515\",\"type\":\"DataRange1d\"},\"x_scale\":{\"id\":\"2519\",\"type\":\"LinearScale\"},\"y_range\":{\"id\":\"2517\",\"type\":\"DataRange1d\"},\"y_scale\":{\"id\":\"2521\",\"type\":\"LinearScale\"}},\"id\":\"2514\",\"subtype\":\"Figure\",\"type\":\"Plot\"},{\"attributes\":{\"text\":\"D - y\"},\"id\":\"2575\",\"type\":\"Title\"},{\"attributes\":{\"active_drag\":\"auto\",\"active_inspect\":\"auto\",\"active_multi\":null,\"active_scroll\":\"auto\",\"active_tap\":\"auto\",\"tools\":[{\"id\":\"2501\",\"type\":\"PanTool\"},{\"id\":\"2502\",\"type\":\"WheelZoomTool\"},{\"id\":\"2503\",\"type\":\"BoxZoomTool\"},{\"id\":\"2504\",\"type\":\"SaveTool\"},{\"id\":\"2505\",\"type\":\"ResetTool\"},{\"id\":\"2506\",\"type\":\"HelpTool\"}]},\"id\":\"2507\",\"type\":\"Toolbar\"},{\"attributes\":{},\"id\":\"2501\",\"type\":\"PanTool\"},{\"attributes\":{},\"id\":\"2502\",\"type\":\"WheelZoomTool\"},{\"attributes\":{\"bottom_units\":\"screen\",\"fill_alpha\":{\"value\":0.5},\"fill_color\":{\"value\":\"lightgrey\"},\"left_units\":\"screen\",\"level\":\"overlay\",\"line_alpha\":{\"value\":1.0},\"line_color\":{\"value\":\"black\"},\"line_dash\":[4,4],\"line_width\":{\"value\":2},\"render_mode\":\"css\",\"right_units\":\"screen\",\"top_units\":\"screen\"},\"id\":\"2596\",\"type\":\"BoxAnnotation\"},{\"attributes\":{},\"id\":\"2505\",\"type\":\"ResetTool\"},{\"attributes\":{},\"id\":\"2504\",\"type\":\"SaveTool\"},{\"attributes\":{\"overlay\":{\"id\":\"2636\",\"type\":\"BoxAnnotation\"}},\"id\":\"2503\",\"type\":\"BoxZoomTool\"},{\"attributes\":{\"toolbar\":{\"id\":\"2649\",\"type\":\"ProxyToolbar\"},\"toolbar_location\":\"above\"},\"id\":\"2650\",\"type\":\"ToolbarBox\"},{\"attributes\":{},\"id\":\"2506\",\"type\":\"HelpTool\"},{\"attributes\":{},\"id\":\"2519\",\"type\":\"LinearScale\"},{\"attributes\":{\"below\":[{\"id\":\"2459\",\"type\":\"LinearAxis\"}],\"center\":[{\"id\":\"2463\",\"type\":\"Grid\"},{\"id\":\"2468\",\"type\":\"Grid\"}],\"left\":[{\"id\":\"2464\",\"type\":\"LinearAxis\"}],\"plot_height\":300,\"plot_width\":300,\"renderers\":[{\"id\":\"2567\",\"type\":\"GlyphRenderer\"}],\"title\":{\"id\":\"2569\",\"type\":\"Title\"},\"toolbar\":{\"id\":\"2475\",\"type\":\"Toolbar\"},\"toolbar_location\":null,\"x_range\":{\"id\":\"2451\",\"type\":\"DataRange1d\"},\"x_scale\":{\"id\":\"2455\",\"type\":\"LinearScale\"},\"y_range\":{\"id\":\"2453\",\"type\":\"DataRange1d\"},\"y_scale\":{\"id\":\"2457\",\"type\":\"LinearScale\"}},\"id\":\"2450\",\"subtype\":\"Figure\",\"type\":\"Plot\"},{\"attributes\":{\"dimension\":1,\"ticker\":{\"id\":\"2529\",\"type\":\"BasicTicker\"}},\"id\":\"2532\",\"type\":\"Grid\"},{\"attributes\":{\"callback\":null},\"id\":\"2357\",\"type\":\"DataRange1d\"},{\"attributes\":{\"axis_label\":\"D\",\"formatter\":{\"id\":\"2641\",\"type\":\"BasicTickFormatter\"},\"ticker\":{\"id\":\"2524\",\"type\":\"BasicTicker\"}},\"id\":\"2523\",\"type\":\"LinearAxis\"},{\"attributes\":{\"callback\":null},\"id\":\"2355\",\"type\":\"DataRange1d\"},{\"attributes\":{},\"id\":\"2521\",\"type\":\"LinearScale\"},{\"attributes\":{},\"id\":\"2534\",\"type\":\"WheelZoomTool\"},{\"attributes\":{},\"id\":\"2410\",\"type\":\"HelpTool\"},{\"attributes\":{},\"id\":\"2533\",\"type\":\"PanTool\"},{\"attributes\":{},\"id\":\"2391\",\"type\":\"LinearScale\"},{\"attributes\":{},\"id\":\"2364\",\"type\":\"BasicTicker\"},{\"attributes\":{\"ticker\":{\"id\":\"2524\",\"type\":\"BasicTicker\"}},\"id\":\"2527\",\"type\":\"Grid\"},{\"attributes\":{},\"id\":\"2361\",\"type\":\"LinearScale\"},{\"attributes\":{\"axis_label\":\"D - y\",\"formatter\":{\"id\":\"2643\",\"type\":\"BasicTickFormatter\"},\"ticker\":{\"id\":\"2529\",\"type\":\"BasicTicker\"}},\"id\":\"2528\",\"type\":\"LinearAxis\"},{\"attributes\":{},\"id\":\"2359\",\"type\":\"LinearScale\"},{\"attributes\":{\"data_source\":{\"id\":\"2546\",\"type\":\"ColumnDataSource\"},\"glyph\":{\"id\":\"2547\",\"type\":\"Line\"},\"hover_glyph\":null,\"muted_glyph\":null,\"view\":{\"id\":\"2559\",\"type\":\"CDSView\"}},\"id\":\"2558\",\"type\":\"GlyphRenderer\"},{\"attributes\":{\"axis_label\":\"D\",\"formatter\":{\"id\":\"2591\",\"type\":\"BasicTickFormatter\"},\"ticker\":{\"id\":\"2364\",\"type\":\"BasicTicker\"}},\"id\":\"2363\",\"type\":\"LinearAxis\"},{\"attributes\":{},\"id\":\"2409\",\"type\":\"ResetTool\"},{\"attributes\":{},\"id\":\"2369\",\"type\":\"BasicTicker\"},{\"attributes\":{\"active_drag\":\"auto\",\"active_inspect\":\"auto\",\"active_multi\":null,\"active_scroll\":\"auto\",\"active_tap\":\"auto\",\"tools\":[{\"id\":\"2533\",\"type\":\"PanTool\"},{\"id\":\"2534\",\"type\":\"WheelZoomTool\"},{\"id\":\"2535\",\"type\":\"BoxZoomTool\"},{\"id\":\"2536\",\"type\":\"SaveTool\"},{\"id\":\"2537\",\"type\":\"ResetTool\"},{\"id\":\"2538\",\"type\":\"HelpTool\"}]},\"id\":\"2539\",\"type\":\"Toolbar\"},{\"attributes\":{\"ticker\":{\"id\":\"2364\",\"type\":\"BasicTicker\"}},\"id\":\"2367\",\"type\":\"Grid\"},{\"attributes\":{},\"id\":\"2524\",\"type\":\"BasicTicker\"},{\"attributes\":{\"callback\":null},\"id\":\"2389\",\"type\":\"DataRange1d\"},{\"attributes\":{},\"id\":\"2529\",\"type\":\"BasicTicker\"},{\"attributes\":{\"dimension\":1,\"ticker\":{\"id\":\"2369\",\"type\":\"BasicTicker\"}},\"id\":\"2372\",\"type\":\"Grid\"},{\"attributes\":{},\"id\":\"2536\",\"type\":\"SaveTool\"},{\"attributes\":{\"axis_label\":\"D\",\"formatter\":{\"id\":\"2593\",\"type\":\"BasicTickFormatter\"},\"ticker\":{\"id\":\"2369\",\"type\":\"BasicTicker\"}},\"id\":\"2368\",\"type\":\"LinearAxis\"},{\"attributes\":{\"below\":[{\"id\":\"2363\",\"type\":\"LinearAxis\"}],\"center\":[{\"id\":\"2367\",\"type\":\"Grid\"},{\"id\":\"2372\",\"type\":\"Grid\"}],\"left\":[{\"id\":\"2368\",\"type\":\"LinearAxis\"}],\"plot_height\":300,\"plot_width\":300,\"renderers\":[{\"id\":\"2558\",\"type\":\"GlyphRenderer\"}],\"title\":{\"id\":\"2560\",\"type\":\"Title\"},\"toolbar\":{\"id\":\"2379\",\"type\":\"Toolbar\"},\"toolbar_location\":null,\"x_range\":{\"id\":\"2355\",\"type\":\"DataRange1d\"},\"x_scale\":{\"id\":\"2359\",\"type\":\"LinearScale\"},\"y_range\":{\"id\":\"2357\",\"type\":\"DataRange1d\"},\"y_scale\":{\"id\":\"2361\",\"type\":\"LinearScale\"}},\"id\":\"2354\",\"subtype\":\"Figure\",\"type\":\"Plot\"},{\"attributes\":{\"overlay\":{\"id\":\"2646\",\"type\":\"BoxAnnotation\"}},\"id\":\"2535\",\"type\":\"BoxZoomTool\"},{\"attributes\":{\"callback\":null},\"id\":\"2387\",\"type\":\"DataRange1d\"},{\"attributes\":{\"below\":[{\"id\":\"2427\",\"type\":\"LinearAxis\"}],\"center\":[{\"id\":\"2431\",\"type\":\"Grid\"},{\"id\":\"2436\",\"type\":\"Grid\"}],\"left\":[{\"id\":\"2432\",\"type\":\"LinearAxis\"}],\"plot_height\":300,\"plot_width\":300,\"renderers\":[{\"id\":\"2564\",\"type\":\"GlyphRenderer\"}],\"title\":{\"id\":\"2566\",\"type\":\"Title\"},\"toolbar\":{\"id\":\"2443\",\"type\":\"Toolbar\"},\"toolbar_location\":null,\"x_range\":{\"id\":\"2419\",\"type\":\"DataRange1d\"},\"x_scale\":{\"id\":\"2423\",\"type\":\"LinearScale\"},\"y_range\":{\"id\":\"2421\",\"type\":\"DataRange1d\"},\"y_scale\":{\"id\":\"2425\",\"type\":\"LinearScale\"}},\"id\":\"2418\",\"subtype\":\"Figure\",\"type\":\"Plot\"},{\"attributes\":{\"callback\":null,\"data\":{\"x\":[0,1,2,3,4,5,6,7,8,9,10,11,12,13,14,15,16,17,18,19,20,21,22,23,24,25,26,27,28,29],\"y\":[0,1,2,3,4,5,6,7,8,9,10,11,12,13,14,15,16,17,18,19,20,21,22,23,24,25,26,27,28,29]},\"selected\":{\"id\":\"2594\",\"type\":\"Selection\"},\"selection_policy\":{\"id\":\"2595\",\"type\":\"UnionRenderers\"}},\"id\":\"2546\",\"type\":\"ColumnDataSource\"},{\"attributes\":{},\"id\":\"2537\",\"type\":\"ResetTool\"},{\"attributes\":{\"source\":{\"id\":\"2546\",\"type\":\"ColumnDataSource\"}},\"id\":\"2559\",\"type\":\"CDSView\"},{\"attributes\":{\"below\":[{\"id\":\"2395\",\"type\":\"LinearAxis\"}],\"center\":[{\"id\":\"2399\",\"type\":\"Grid\"},{\"id\":\"2404\",\"type\":\"Grid\"}],\"left\":[{\"id\":\"2400\",\"type\":\"LinearAxis\"}],\"plot_height\":300,\"plot_width\":300,\"renderers\":[{\"id\":\"2561\",\"type\":\"GlyphRenderer\"}],\"title\":{\"id\":\"2563\",\"type\":\"Title\"},\"toolbar\":{\"id\":\"2411\",\"type\":\"Toolbar\"},\"toolbar_location\":null,\"x_range\":{\"id\":\"2387\",\"type\":\"DataRange1d\"},\"x_scale\":{\"id\":\"2391\",\"type\":\"LinearScale\"},\"y_range\":{\"id\":\"2389\",\"type\":\"DataRange1d\"},\"y_scale\":{\"id\":\"2393\",\"type\":\"LinearScale\"}},\"id\":\"2386\",\"subtype\":\"Figure\",\"type\":\"Plot\"},{\"attributes\":{},\"id\":\"2373\",\"type\":\"PanTool\"},{\"attributes\":{},\"id\":\"2538\",\"type\":\"HelpTool\"},{\"attributes\":{\"callback\":null},\"id\":\"2419\",\"type\":\"DataRange1d\"},{\"attributes\":{},\"id\":\"2374\",\"type\":\"WheelZoomTool\"},{\"attributes\":{},\"id\":\"2377\",\"type\":\"ResetTool\"},{\"attributes\":{\"overlay\":{\"id\":\"2596\",\"type\":\"BoxAnnotation\"}},\"id\":\"2375\",\"type\":\"BoxZoomTool\"},{\"attributes\":{},\"id\":\"2376\",\"type\":\"SaveTool\"}],\"root_ids\":[\"2651\"]},\"title\":\"Bokeh Application\",\"version\":\"1.3.4\"}};\n",
       "  var render_items = [{\"docid\":\"d605dd20-3417-4eb5-844f-d4ac37a7a3aa\",\"notebook_comms_target\":\"2804\",\"roots\":{\"2651\":\"b4731b62-4ae4-4951-831c-6298873d0060\"}}];\n",
       "  root.Bokeh.embed.embed_items_notebook(docs_json, render_items);\n",
       "\n",
       "  }\n",
       "  if (root.Bokeh !== undefined) {\n",
       "    embed_document(root);\n",
       "  } else {\n",
       "    var attempts = 0;\n",
       "    var timer = setInterval(function(root) {\n",
       "      if (root.Bokeh !== undefined) {\n",
       "        embed_document(root);\n",
       "        clearInterval(timer);\n",
       "      }\n",
       "      attempts++;\n",
       "      if (attempts > 100) {\n",
       "        console.log(\"Bokeh: ERROR: Unable to run BokehJS code because BokehJS library is missing\");\n",
       "        clearInterval(timer);\n",
       "      }\n",
       "    }, 10, root)\n",
       "  }\n",
       "})(window);"
      ],
      "application/vnd.bokehjs_exec.v0+json": ""
     },
     "metadata": {
      "application/vnd.bokehjs_exec.v0+json": {
       "id": "2651"
      }
     },
     "output_type": "display_data"
    }
   ],
   "source": [
    "import numpy as np\n",
    "import pandas as pd\n",
    "\n",
    "# Relationship between functions for demand, order quantity, sales, shortage, and surplus\n",
    "def funcs(y):\n",
    "    D_vals = pd.Index(np.arange(0, 30, 1), name='D')\n",
    "    f = pd.DataFrame(index=D_vals)\n",
    "    f['D'] = pd.Series(D_vals)\n",
    "    f['y'] = pd.Series(y, index=D_vals)\n",
    "    f['min{y, D}'] = np.minimum(y, f['D'])\n",
    "    f['(D - y)^+'] = np.maximum(f['D'] - y, 0)\n",
    "    f['(y - D)^+'] = np.maximum(y - f['D'], 0)\n",
    "    f['D - y'] = f['D'] - y\n",
    "    \n",
    "    return f\n",
    "\n",
    "fields = funcs(news.order_qty).columns.values\n",
    "labels = {field: {'x': 'D', 'y': field, 'title': field} for field in fields}\n",
    "line_plot_func = lambda n: news_plot.line_glyphs(funcs(n.order_qty), 'D')\n",
    "newsvendor.interact_gridplot(news_plot.figures(fields), line_plot_func, news, labels=labels)"
   ]
  }
 ],
 "metadata": {
  "kernelspec": {
   "display_name": "Python 3",
   "language": "python",
   "name": "python3"
  },
  "language_info": {
   "codemirror_mode": {
    "name": "ipython",
    "version": 3
   },
   "file_extension": ".py",
   "mimetype": "text/x-python",
   "name": "python",
   "nbconvert_exporter": "python",
   "pygments_lexer": "ipython3",
   "version": "3.7.4"
  }
 },
 "nbformat": 4,
 "nbformat_minor": 2
}

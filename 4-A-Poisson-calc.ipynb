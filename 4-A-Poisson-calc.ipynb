{
 "cells": [
  {
   "cell_type": "markdown",
   "metadata": {},
   "source": [
    "## Appendix A: Poisson Process Calculators"
   ]
  },
  {
   "cell_type": "markdown",
   "metadata": {},
   "source": [
    "The following codeblocks calculate probabilities for certain quantities.\n",
    "\n",
    "Let $\\{N(t),\\, t \\geq 0\\}$ be a Poisson process with rate $\\lambda$ and define the following random variables:\n",
    "* $X_i$ is the time between the $i-1$st and $i$th arrival.  $X_i \\sim \\text{Exponential}(\\lambda)$.\n",
    "* $S_n$ is the time of the $n$th arrival.  $\\displaystyle S_n \\sim \\text{Erlang}(n, \\lambda)$.\n",
    "* $N(t)$ is the number of arrivals that occur between times $0$ and $t$.  $N(t) \\sim \\text{Poisson}(\\lambda t)$."
   ]
  },
  {
   "cell_type": "code",
   "execution_count": 1,
   "metadata": {},
   "outputs": [],
   "source": [
    "## RUN THIS CELL FIRST\n",
    "from scipy.stats import expon, erlang, poisson, binom\n",
    "\n",
    "from IPython.display import display, Math, Markdown\n",
    "\n",
    "def expon_cdf(x, lam, disp=True):\n",
    "    ans = expon.cdf(x, scale=1./lam)\n",
    "    if disp:\n",
    "        display(Markdown('For $\\lambda$ = ' + f'{lam}' + ' and $x = ' + f'{x}' + '$:'))\n",
    "        display(Markdown('$\\mathsf{P}(X_i \\leq ' + f'{x}' + ')$ = ' + f'{ans: 0.4}'))\n",
    "        display(Markdown('The probability that the time between the $i-1$st and $i$th arrival is less than ' + f'{x}.'))\n",
    "    \n",
    "    return ans\n",
    "\n",
    "def erlang_cdf(x, n, lam, disp=True):\n",
    "    if not isinstance(n, int):\n",
    "        display(Markdown('**Error:** $n$ must be an integer.  You entered $n$ = ' + f'{n}'))\n",
    "    else:\n",
    "        ans = erlang.cdf(x, n, scale=1./lam)\n",
    "        if disp:\n",
    "            display(Markdown('For $\\lambda$ = ' + f'{lam}' + ', $n$ = ' + f'{n}' + ' and $x = ' + f'{x}' + '$:'))\n",
    "            display(Markdown('$\\mathsf{P}(S_' + f'{n}' + ' \\leq ' + f'{x}' + ')$ = ' + f'{ans: 0.4}'))\n",
    "            display(Markdown('The probability that the ' + f'{n}' + 'th arrival occurs at or before time ' + f'{x}'))\n",
    "        return ans\n",
    "    \n",
    "def poisson_pmf(k, lam, t, disp=True):\n",
    "    if not isinstance(k, int):\n",
    "        display(Markdown('**Error:** $k$ must be an integer.  You entered $k$ = ' + f'{k}'))\n",
    "    else:\n",
    "        ans = poisson.pmf(k, lam*t)\n",
    "        \n",
    "        if disp:\n",
    "            display(Markdown('For $\\lambda$ = ' + f'{lam}' + ', $t$ = ' + f'{t}' + ' and $k = ' + f'{k}' + '$:'))\n",
    "            display(Markdown('$\\mathsf{P}(N(' + f'{t}' + ') = ' + f'{k}' + ')$ = ' + f'{ans: 0.4}'))\n",
    "            display(Markdown('The probability that there are **exactly** ' + f'{k}' + ' arrivals between time $0$ and time ' + f'{t}'))\n",
    "        return ans\n",
    "\n",
    "def poisson_cdf(n, lam, t, disp=True):\n",
    "    if not isinstance(n, int):\n",
    "        display(Markdown('**Error:** $n$ must be an integer.  You entered $n$ = ' + f'{n}'))\n",
    "    else:\n",
    "        ans = poisson.cdf(n, lam*t)\n",
    "        \n",
    "        if disp:\n",
    "            display(Markdown('For $\\lambda$ = ' + f'{lam}' + ', $t$ = ' + f'{t}' + ' and $n = ' + f'{n}' + '$:'))\n",
    "            display(Markdown('$\\mathsf{P}(N(' + f'{t}' + ') \\leq ' + f'{n}' + ')$ = ' + f'{ans: 0.4}'))\n",
    "            display(Markdown('The probability that there are **at most** ' + f'{n}' + ' arrivals between time $0$ and time ' + f'{t}'))\n",
    "        return ans\n",
    "    \n",
    "def binom_pmf(a, b, t, k, n, disp=True):\n",
    "    if not isinstance(n, int) or not isinstance(k, int):\n",
    "        display(Markdown('**Error:** $n$ must be an integer.  You entered $n$ = ' + f'{n}'))\n",
    "    elif a >= b or b > t:\n",
    "        display(Markdown('**Error:** Requires $a < b \\leq t$'))\n",
    "    else:\n",
    "        ans = binom.pmf(k, n, (b - a)/t)\n",
    "        \n",
    "        if disp:\n",
    "            display(Markdown('$\\mathsf{P}'+f'(N({b}) - N({a}) = {k}\\,|\\,N({t})={n}) = {ans: 0.4}$'))\n",
    "            display(Markdown(f'The probability that there are {k} arrivals in [{a}, {b}] given there are {n} arrivals in [0, {t}].'))\n",
    "        return ans\n",
    "    \n",
    "    "
   ]
  },
  {
   "cell_type": "markdown",
   "metadata": {},
   "source": [
    "### CDF of $\\text{Exponential}(\\lambda)$ distribution:\n",
    "\n",
    "$$\\mathsf{P}(X_i \\leq x) = 1 - e^{-\\lambda x}$$"
   ]
  },
  {
   "cell_type": "code",
   "execution_count": 2,
   "metadata": {
    "scrolled": true
   },
   "outputs": [
    {
     "data": {
      "text/markdown": [
       "For $\\lambda$ = 0.1 and $x = 8$:"
      ],
      "text/plain": [
       "<IPython.core.display.Markdown object>"
      ]
     },
     "metadata": {},
     "output_type": "display_data"
    },
    {
     "data": {
      "text/markdown": [
       "$\\mathsf{P}(X_i \\leq 8)$ =  0.5507"
      ],
      "text/plain": [
       "<IPython.core.display.Markdown object>"
      ]
     },
     "metadata": {},
     "output_type": "display_data"
    },
    {
     "data": {
      "text/markdown": [
       "The probability that the time between the $i-1$st and $i$th arrival is less than 8."
      ],
      "text/plain": [
       "<IPython.core.display.Markdown object>"
      ]
     },
     "metadata": {},
     "output_type": "display_data"
    }
   ],
   "source": [
    "## PARAMETERS AND VARIABLES:\n",
    "lam = 0.1\n",
    "x = 8\n",
    "\n",
    "ans = expon_cdf(x, lam)"
   ]
  },
  {
   "cell_type": "markdown",
   "metadata": {},
   "source": [
    "### CDF of $\\text{Erlang}(n, \\lambda)$ distribution:\n",
    "\n",
    "$$\\displaystyle \\mathsf{P}(S_n \\leq x) = 1 - e^{-\\lambda x} \\sum_{k=0}^{n-1} \\frac{(\\lambda x)^k}{k!}$$"
   ]
  },
  {
   "cell_type": "code",
   "execution_count": 3,
   "metadata": {},
   "outputs": [
    {
     "data": {
      "text/markdown": [
       "For $\\lambda$ = 0.1, $n$ = 3 and $x = 8$:"
      ],
      "text/plain": [
       "<IPython.core.display.Markdown object>"
      ]
     },
     "metadata": {},
     "output_type": "display_data"
    },
    {
     "data": {
      "text/markdown": [
       "$\\mathsf{P}(S_3 \\leq 8)$ =  0.04742"
      ],
      "text/plain": [
       "<IPython.core.display.Markdown object>"
      ]
     },
     "metadata": {},
     "output_type": "display_data"
    },
    {
     "data": {
      "text/markdown": [
       "The probability that the 3th arrival occurs at or before time 8"
      ],
      "text/plain": [
       "<IPython.core.display.Markdown object>"
      ]
     },
     "metadata": {},
     "output_type": "display_data"
    }
   ],
   "source": [
    "## PARAMETERS AND VARIABLES:\n",
    "lam = 0.1\n",
    "n = 3\n",
    "x = 8\n",
    "\n",
    "ans = erlang_cdf(x, n, lam)"
   ]
  },
  {
   "cell_type": "markdown",
   "metadata": {},
   "source": [
    "### PMF of $\\text{Poisson}(\\lambda t)$ distribution:\n",
    "\n",
    "$$\\displaystyle \\mathsf{P}(N(t) = k) = \\frac{(\\lambda t)^k}{k!} e^{-(\\lambda t)}$$\n",
    "\n",
    "The probability that there are **exactly** $k$ arrivals between time $0$ and time $t$."
   ]
  },
  {
   "cell_type": "code",
   "execution_count": 4,
   "metadata": {
    "scrolled": true
   },
   "outputs": [
    {
     "data": {
      "text/markdown": [
       "For $\\lambda$ = 0.1, $t$ = 40 and $k = 4$:"
      ],
      "text/plain": [
       "<IPython.core.display.Markdown object>"
      ]
     },
     "metadata": {},
     "output_type": "display_data"
    },
    {
     "data": {
      "text/markdown": [
       "$\\mathsf{P}(N(40) = 4)$ =  0.1954"
      ],
      "text/plain": [
       "<IPython.core.display.Markdown object>"
      ]
     },
     "metadata": {},
     "output_type": "display_data"
    },
    {
     "data": {
      "text/markdown": [
       "The probability that there are **exactly** 4 arrivals between time $0$ and time 40"
      ],
      "text/plain": [
       "<IPython.core.display.Markdown object>"
      ]
     },
     "metadata": {},
     "output_type": "display_data"
    }
   ],
   "source": [
    "## PARAMETERS AND VARIABLES:\n",
    "lam = 0.1\n",
    "t = 40\n",
    "k = 4\n",
    "\n",
    "ans = poisson_pmf(k, lam, t)"
   ]
  },
  {
   "cell_type": "markdown",
   "metadata": {},
   "source": [
    "### CDF of $\\text{Poisson}(\\lambda t)$ distribution:\n",
    "$$\\displaystyle \\mathsf{P}(N(t) \\leq n) = \\sum_{k=0}^n \\frac{(\\lambda t)^k}{k!} e^{-(\\lambda t)}$$\n",
    "The probability that there are **at most** $n$ arrivals between time $0$ and time $t$."
   ]
  },
  {
   "cell_type": "code",
   "execution_count": 5,
   "metadata": {},
   "outputs": [
    {
     "data": {
      "text/markdown": [
       "For $\\lambda$ = 0.1, $t$ = 40 and $n = 4$:"
      ],
      "text/plain": [
       "<IPython.core.display.Markdown object>"
      ]
     },
     "metadata": {},
     "output_type": "display_data"
    },
    {
     "data": {
      "text/markdown": [
       "$\\mathsf{P}(N(40) \\leq 4)$ =  0.6288"
      ],
      "text/plain": [
       "<IPython.core.display.Markdown object>"
      ]
     },
     "metadata": {},
     "output_type": "display_data"
    },
    {
     "data": {
      "text/markdown": [
       "The probability that there are **at most** 4 arrivals between time $0$ and time 40"
      ],
      "text/plain": [
       "<IPython.core.display.Markdown object>"
      ]
     },
     "metadata": {},
     "output_type": "display_data"
    }
   ],
   "source": [
    "## PARAMETERS AND VARIABLES:\n",
    "lam = 0.1\n",
    "t = 40\n",
    "n = 5\n",
    "\n",
    "ans = poisson_cdf(k, lam, t)"
   ]
  },
  {
   "cell_type": "markdown",
   "metadata": {},
   "source": [
    "### Conditional Distribution of Arrivals:\n",
    "$$ \\mathsf{P}(N(b) - N(a) = k\\,|\\, N(t) = n) = \\binom{n}{k} \\left(\\frac{b-a}{t}\\right)^k \\left(1 - \\frac{b-a}{t}\\right)^{n-k}$$"
   ]
  },
  {
   "cell_type": "code",
   "execution_count": 6,
   "metadata": {},
   "outputs": [
    {
     "data": {
      "text/markdown": [
       "$\\mathsf{P}(N(5) - N(0) = 1\\,|\\,N(10)=5) =  0.1562$"
      ],
      "text/plain": [
       "<IPython.core.display.Markdown object>"
      ]
     },
     "metadata": {},
     "output_type": "display_data"
    },
    {
     "data": {
      "text/markdown": [
       "The probability that there are 1 arrivals in [0, 5] given there are 5 arrivals in [0, 10]."
      ],
      "text/plain": [
       "<IPython.core.display.Markdown object>"
      ]
     },
     "metadata": {},
     "output_type": "display_data"
    }
   ],
   "source": [
    "## PARAMETERS AND VARIABLES:\n",
    "lam = 0.1\n",
    "a = 0\n",
    "b = 5\n",
    "k = 1\n",
    "t = 10\n",
    "n = 5\n",
    "\n",
    "ans = binom_pmf(a, b, t, k, n)"
   ]
  }
 ],
 "metadata": {
  "kernelspec": {
   "display_name": "Python 3",
   "language": "python",
   "name": "python3"
  },
  "language_info": {
   "codemirror_mode": {
    "name": "ipython",
    "version": 3
   },
   "file_extension": ".py",
   "mimetype": "text/x-python",
   "name": "python",
   "nbconvert_exporter": "python",
   "pygments_lexer": "ipython3",
   "version": "3.7.4"
  }
 },
 "nbformat": 4,
 "nbformat_minor": 2
}

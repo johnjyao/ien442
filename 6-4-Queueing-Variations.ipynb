{
 "cells": [
  {
   "cell_type": "markdown",
   "metadata": {},
   "source": [
    "# Queueing Theory: Section 4 - Variations"
   ]
  },
  {
   "cell_type": "markdown",
   "metadata": {},
   "source": [
    "In Sections 1-3, we focused on a specific queueing system that had a single server and unlimited waiting space.  We will now consider a few variations.\n",
    "\n",
    "## Common Assumptions\n",
    "\n",
    "In each of the variations, we will continue to make the following assumptions:\n",
    "* Customers arrive according to a Poisson process at rate $\\lambda$.\n",
    "* Each customer has a service requirement that is independent and follows an $\\text{Exponential}(\\mu)$ distribution.\n",
    "* Each server works at unit rate as long as there are customers in the system.\n",
    "\n",
    "**Naming Conventions:** We will be making assumptions, such as those above, that allow us to formulate the queueing system as a continuous-time Markov chain.  That is, we will only consider “Markovian” queues.  It is often simplest to refer to these assumptions using [Kendall notation](https://en.wikipedia.org/wiki/Kendall%27s_notation).  For our purposes, all queueing systems that we consider will be of the $M/M$ variety, meaning that arrivals (the first $M$) are Markovian (i.e., follow a Poisson process) and the service requirements (the second $M$) are memoryless (i.e., are exponential):\n",
    "* $M/M/1$: a single-server queue\n",
    "* $M/M/n$: a queue with $n$ servers.  The $M/M/1$ is a special case with $n = 1$.\n",
    "* $M/M/\\infty$: a queue with an unlimited number of servers."
   ]
  },
  {
   "cell_type": "markdown",
   "metadata": {},
   "source": [
    "## Multiple Servers\n",
    "\n",
    "The first variation that we will consider is if there are multiple servers available.  In general, a Markovian queue with $n$ servers is denoted a $M/M/n$ queue.\n",
    "\n",
    "In particular, suppose there are two servers ($M/M/2$) that can work simultaneously.  How does this change the Markov chain formulation (compared to $M/M/1$)?\n",
    "\n",
    "Recall that the Markov chain transitions for the $M/M/1$ queue were from $i$ to $i + 1$ (an arrival) or from $i$ to $i - 1$ (a departure).  No other transitions were possible.  This is still true – even for departures with two servers, because each customer's service requirement follows a continuous distribution.  Therefore the probability that both customers finish at *exactly* the same instant is zero.\n",
    "\n",
    "However, it does change the “time until the next departure” and the probability that a departure occurs before the next arrival:\n",
    "* Let $A \\sim \\text{Exponential}(\\lambda)$ be the time until the next arrival.\n",
    "* Let $D_1 \\sim \\text{Exponential}(\\mu)$ be the time until the customer being processed by server 1 departs.\n",
    "* Let $D_2 \\sim \\text{Exponential}(\\mu)$ be the time until the customer being processed by server 2 departs.\n",
    "\n",
    "Therefore, **if there are two or more customers in the system** ($i \\geq 2$) then the time until the next departure is the smaller of $D_1$ and $D_2$ – the next departure is whichever customer finishes first:\n",
    "* Let $D = \\min\\{D_1, D_2\\}$ be the time until the next departure.  $D \\sim \\text{Exponential}(2\\mu)$.\n",
    "\n",
    "The time until the next transition is $\\min\\{A, D\\} = \\min\\{A, D_1, D_2\\} \\sim \\text{Exponential}(\\lambda + 2 \\mu)$ and:\n",
    "$$\\mathsf{P}(A < D) = \\frac{\\lambda}{\\lambda + 2 \\mu} \\qquad \\mathsf{P}(A > D) = \\frac{2 \\mu}{\\lambda + 2 \\mu}$$\n",
    "\n",
    "If there is only one customer in the system ($i = 1$) then the holding time and transition probabilities are the same as in the single-server queue (having a second server does not matter when there is only one customer).  The time until the next transition is $\\min\\{A, D_1\\} \\sim \\text{Exponential}(\\lambda + \\mu)$ and $\\mathsf{P}(A < D) = \\frac{\\lambda}{\\lambda + \\mu} = 1 - \\mathsf{P}(A > D)$\n",
    "\n",
    "The headcount process for the two-server queue can be formulated as a CTMC on $\\mathcal{S} = \\{0, 1, 2, \\dots\\}$ with\n",
    "$$\\begin{aligned}\n",
    "    \\text{state $0$:}&& p_{01} &= 1 & v_0 &= \\lambda \\\\\n",
    "    \\ \\\\\n",
    "    \\text{state $1$:}&& p_{12} &= \\frac{\\lambda}{\\lambda + \\mu} = 1 - p_{10} & v_1 &= \\lambda + \\mu \\\\\n",
    "    \\ \\\\\n",
    "    \\text{state $i \\geq 2$:}&& p_{ij} &= \\begin{cases} \\displaystyle\\frac{\\lambda}{\\lambda+2\\mu} & j = i+1 \\\\ \\displaystyle\\frac{2\\mu}{\\lambda+2\\mu} & j = i-1 \\\\ 0 & \\text{otherwise} \\end{cases} & v_i &= (\\lambda+2\\mu)\n",
    "  \\end{aligned}$$"
   ]
  },
  {
   "cell_type": "markdown",
   "metadata": {},
   "source": [
    "### Exercise 4.1\n",
    "\n",
    "For the two-server system ($M/M/2$):\n",
    "* Specify a stability condition (so that the CMTC is positive recurrent)\n",
    "* Find the stationary distribution (of the headcount process CTMC), assuming the stability condition is satisfied.\n",
    "* Calculate the following steady-state performance metrics:\n",
    "     * Expected wait time\n",
    "     * Probability that an arriving customer does not have to wait."
   ]
  },
  {
   "cell_type": "markdown",
   "metadata": {},
   "source": [
    "### Exercise 4.2\n",
    "\n",
    "Consider a system with $n$ servers ($M/M/n$): \n",
    "* Formulate the headcount process as a CTMC.\n",
    "* Specify a stability condition.\n",
    "* Find the stationary distribution.\n",
    "* Calculate the following steady-state performance metrics:\n",
    "    * Expected wait time\n",
    "    * Probability that at least one server is available/unoccupied.\n",
    "\n",
    "Note: The $M/M/1$ and $M/M/2$ are special cases, so the stationary distribution and steady-state performance metric formulas should be consistent with the formulas you derived earlier."
   ]
  },
  {
   "cell_type": "markdown",
   "metadata": {},
   "source": [
    "## Infinite (Unlimited) Servers\n",
    "\n",
    "We can consider another variation where there are an unlimited number of servers available.  While having infinite resources seems unrealistic, this can be useful in settings where customers don't actually share resources, or where one customer's use of the resource does not exclude another's use.  Suppose we wanted to model the number of tourists at a large viewpoint in the Grand Canyon.  One person viewing does not exclude any other person from doing the same.  Nevertheless, the arrivals and departures of each person may be stochastic and can be described by a queueing model with an unlimited number of “servers.”\n",
    "\n",
    "Mathematically, how do we model this as a CTMC?  The key idea is that, if there are $i$ customers in the system, then the time until the $i$th customer departs is $D_i \\sim \\text{Exponential}(\\mu)$ and therefore, the time until next departure is $D = \\min\\{D_1, D_2, \\dots, D_i\\} \\sim \\text{Exponential}(i \\mu)$.  Going through the same analysis, we get that\n",
    "$$\\begin{aligned}\n",
    "    \\text{state $0$:}&& p_{01} &= 1 & v_0 &= \\lambda \\\\\n",
    "    \\text{state $i \\geq 1$:}&& p_{ij} &= \\begin{cases} \\displaystyle\\frac{\\lambda}{\\lambda+i \\mu} & j = i+1 \\\\ \\displaystyle\\frac{i \\mu}{\\lambda+i \\mu} & j = i-1 \\\\ 0 & \\text{otherwise} \\end{cases} & v_i &= (\\lambda+i\\mu)\n",
    "  \\end{aligned}$$"
   ]
  },
  {
   "cell_type": "markdown",
   "metadata": {},
   "source": [
    "### Exercise 4.3\n",
    "\n",
    "For the infinite-server system:\n",
    "* For what values of $\\lambda$ and $\\mu$ is the system stable (i.e., the headcount process CTMC is positive recurrent).\n",
    "* Find the stationary distribution.  \n",
    "    *Hint:* Remember the power series expression $\\displaystyle e^{x} = \\sum_{i=0}^\\infty \\frac{x^i}{i!}$.\n",
    "\n",
    "* Calculate the following steady-state performance metrics:\n",
    "     * Expected number of customers in the system.\n",
    "     * Expected sojourn time."
   ]
  },
  {
   "cell_type": "markdown",
   "metadata": {},
   "source": [
    "### Solution to Exercise 4.3\n",
    "\n",
    "* We expect that the system is always stable for any values of $\\lambda$ and $\\mu$ because the system always processes as many customers as are present.\n",
    "* To find the stationary distribution, we solve the balance equations and $\\sum_{i \\in \\mathcal{S}} \\pi_i = 1$.\n",
    "\n",
    "The balance equations are:\n",
    "$$\\begin{aligned}\n",
    "    v_j \\pi_j &= \\sum_{i \\in \\mathcal{S}} v_i \\pi_i p_{ij} \\\\\n",
    "    \\ \\\\\n",
    "    \\lambda \\pi_0 &= \\mu \\pi_1 \\\\\n",
    "    (\\lambda + \\mu) \\pi_1 &= \\lambda \\pi_0 + 2 \\mu \\pi_2 \\\\\n",
    "    (\\lambda + 2 \\mu) \\pi_2 &= \\lambda \\pi_1 + 3 \\mu \\pi_3 \\\\\n",
    "    &\\dots \\\\\n",
    "    (\\lambda + i \\mu) \\pi_i &= \\lambda \\pi_{i-1} + (i+1) \\mu \\pi_{i+1} \\\\\n",
    "  \\end{aligned}$$\n",
    "which we can simplify to\n",
    "$$\\begin{aligned}\n",
    "    \\lambda \\pi_0 &= \\mu \\pi_1 \\\\\n",
    "    \\lambda \\pi_1 &= 2 \\mu \\pi_2 \\\\\n",
    "    \\lambda \\pi_2 &= 3 \\mu \\pi_3 \\\\\n",
    "    &\\dots\n",
    "  \\end{aligned}$$\n",
    "and so, we guess that the recursion is\n",
    "$$i \\mu \\pi_i = \\lambda \\pi_{i-1}$$\n",
    "and prove it solves the balance equations by mathematical induction.  The base case is given by the first balance equation, $\\mu \\pi_1 = \\lambda \\pi_0$.  So, we use the recursion $i \\mu \\pi_i = \\lambda \\pi_{i-1}$ and the balance equation for state $i$:\n",
    "$$\\begin{aligned}\n",
    "    (\\lambda + i \\mu) \\pi_i &= \\lambda \\pi_{i-1} + (i+1) \\mu \\pi_{i+1} \\\\\n",
    "    (\\lambda + i \\mu) \\pi_i &= i \\mu \\pi_i + (i+1) \\mu \\pi_{i+1} \\\\\n",
    "    \\lambda \\pi_i &= (i+1) \\mu \\pi_{i+1}\n",
    "  \\end{aligned}$$\n",
    "and therefore the recursion satisfies the balance equations for all $i \\in \\mathcal{S}$.\n",
    "\n",
    "Based on the recursion, we have:\n",
    "$$\\pi_i = \\frac{\\lambda/\\mu}i \\pi_{i-1} = \\frac{(\\lambda/\\mu)^2}{i (i - 1)} \\pi_{i-2} = \\dots = \\frac{(\\lambda/\\mu)^i}{i!} \\pi_0$$\n",
    "or, defining $\\rho = \\lambda/\\mu$,\n",
    "$$\\pi_i = \\frac{\\rho^i}{i!} \\pi_0$$\n",
    "\n",
    "Finally, we use $\\sum_{i=0}^\\infty \\pi_i = 1$ to solve for $\\pi_0$:\n",
    "$$\\begin{aligned}\n",
    "     \\sum_{i=0}^\\infty \\pi_i = \\pi_0 \\sum_{i=0}^\\infty \\frac{\\rho^i}{i!} = \\pi_0 e^{\\rho} = 1\n",
    "  \\end{aligned}$$\n",
    "so $\\pi_0 = e^{-\\rho}$ and\n",
    "$$\\pi_i = \\frac{\\rho^i}{i!} e^{-\\rho} \\qquad i \\in \\{0, 1, 2, \\dots\\}$$\n",
    "which we can recognize as the $\\text{Poisson}(\\rho)$ distribution.\n",
    "\n",
    "* For steady-state performance metrics:\n",
    "    * Expected number of customers in the system is $\\rho$ (the mean of the stationary distribution)\n",
    "    * Expected sojourn time, from Little's Law, is $\\rho/\\lambda = 1/\\mu$, which makes sense because the time spent in the system is equal to the time spent in service (there is no waiting)."
   ]
  },
  {
   "cell_type": "markdown",
   "metadata": {},
   "source": [
    "## Blocking and Loss\n",
    "\n",
    "In all the previous queueing systems, we assumed that there is unlimited space for the queue.  One variation is that there is an upper limit on number of customers allowed in the system – any customer who arrives when the system is full is **blocked** and cannot enter the system.  Moreover, a blocked customer is lost – they never return or re-try the system.  (Such features may be incorporated, but we will not consider them here.  The assumption that blocked customers are lost is an easy way to preserve the Poisson arrival process.)\n",
    "\n",
    "As an example, consider a queueing system with $n$ servers and a maximum of $n$ customers in the system.  This means that, if all servers are occupied, then any additional customers are blocked and lost – there is no queue.  How do we model this (the headcount process of this system) as a CTMC?  As with the infinite-server system, if there are $i$ customers in the system, then the time until the next departure is $D = \\min\\{D_1, \\dots, D_i\\} \\sim \\text{Exponential}(i \\mu)$.  The difference is that, when there are $n$ customers in the system, the next transition must be a departure, because any arriving customers are blocked (since there are already $n$ customers in the system.  Therefore, the CTMC is on state space $\\mathcal{S} = \\{0, 1, \\dots, n\\}$ with\n",
    "\n",
    "$$\\begin{aligned}\n",
    "    \\text{state $0$:}&& p_{01} &= 1 & v_0 &= \\lambda \\\\\n",
    "    \\text{state $1 \\leq i \\leq n-1$:}&& p_{ij} &= \\begin{cases} \\displaystyle\\frac{\\lambda}{\\lambda+i \\mu} & j = i+1 \\\\ \\displaystyle\\frac{i \\mu}{\\lambda+i \\mu} & j = i-1 \\\\ 0 & \\text{otherwise} \\end{cases} & v_i &= (\\lambda+i\\mu) \\\\\n",
    "    \\text{state $n$:}&& p_{n, n-1} &= 1 & v_n &= n \\mu \\\\    \n",
    "  \\end{aligned}$$\n",
    "  \n",
    "Note that the dynamics of the system below the barrier (states $i \\leq n-1$) is exactly the same as the infinite-server system.\n",
    "\n",
    "We can write the balance equations as:\n",
    "$$\\begin{aligned}\n",
    "    \\lambda \\pi_0 &= \\mu \\pi_1 \\\\\n",
    "    (\\lambda + i \\mu) \\pi_i &= \\lambda \\pi_{i-1} + (i+1) \\mu \\pi_{i+1} & i = 1, \\dots, n-1 \\\\\n",
    "    n \\mu \\pi_n &= \\lambda \\pi_{n-1} \\\\\n",
    "  \\end{aligned}$$\n",
    "and solve for the recursion:\n",
    "$$ \\pi_i = \\frac{\\rho^i}{i!} \\pi_0 \\qquad i = 0, 1, \\dots, n$$\n",
    "where $\\rho = \\lambda/\\mu$ and with $\\displaystyle \\sum_{i=0}^n \\pi_i = 1$ gives us:\n",
    "$$\\pi_0 = \\left(\\sum_{i=0}^n \\frac{\\rho^i}{i!}\\right)^{-1} \\qquad \\pi_i = \\frac{\\rho^i}{i!} \\pi_0$$\n",
    "for $i = 1, \\dots, n$.  Comparing this to the stationary distribution for the infinite server queue (Exercise 4.3), you should see that the recursion is exactly the same, but $\\pi_0$ is different – the stationary distribution is “truncated” at $n$.  This is, again, because the dynamics of these systems are the same for all states $i \\leq n-1$."
   ]
  },
  {
   "cell_type": "markdown",
   "metadata": {},
   "source": [
    "## Service Level and Staffing\n",
    "\n",
    "In Exercise 4.2 for the $M/M/n$ queue, you found the stationary distribution:\n",
    "$$\\begin{aligned}\n",
    "    \\pi_0 &= \\left(\\sum_{i=0}^{n-1} \\frac{(n \\rho)^i}{i!} + \\frac{(n \\rho)^n}{n! (1 - \\rho)} \\right)^{-1} \\\\\n",
    "    \\pi_i &= \\frac{(n \\rho)^i}{i!} \\pi_0 && i = 1,\\dots,n-1 \\\\\n",
    "    \\pi_i &= \\frac{(n \\rho)^n}{n!} \\rho^{i-n} \\pi_0 && i \\geq n.\n",
    "  \\end{aligned}$$\n",
    "for $\\displaystyle\\rho \\overset{\\mathsf{def}}{=} \\frac{\\lambda}{n \\mu} < 1$.  This appears complicated, but each $\\pi_i$ term can be viewed as:\n",
    "* $i = 1, \\dots, n-1$ is shaped like a Poisson distribution (like the infinite-server system)\n",
    "* $i \\geq n$ is shaped like a Geometric distribution (like the single-server system)\n",
    "* $i = 0$ is a normalizing constant\n",
    "\n",
    "The steady-state probability that a customer has to wait is:\n",
    "$$\\nu \\overset{\\mathsf{def}}{=} \\mathsf{P}(X \\geq n) = \\pi_0 \\frac{(n \\rho)^n}{n! (1 - \\rho)} = \\left( 1 + \\frac{n! (1 - \\rho)}{(n \\rho)^n} \\sum_{i=1}^{n-1} \\frac{(n \\rho)^i}{i!} \\right)^{-1}$$\n",
    "\n",
    "Suppose you are managing a service center and want to target a service level that 90% of customers do not have to wait.  If you model your service center as an $M/M/n$ queue with arrival rate $\\lambda$ and service rate $\\mu$, how many servers $n$ should have?  (This is called the “staffing level.”)\n",
    "\n",
    "* In order to guarantee system stability, at least $n > \\lambda/\\mu$.\n",
    "* Target 5% percent probability of wait:  \n",
    "    $$\\nu = \\left( 1 + \\frac{n! (1 - \\rho)}{(n \\rho)^n} \\sum_{i=1}^{n-1} \\frac{(n \\rho)^i}{i!} \\right)^{-1} \\leq 0.1$$"
   ]
  },
  {
   "cell_type": "code",
   "execution_count": 1,
   "metadata": {},
   "outputs": [],
   "source": [
    "import numpy as np\n",
    "import pandas as pd\n",
    "import scipy.stats\n",
    "\n",
    "import ipywidgets as widgets\n",
    "from IPython.display import display, Math, clear_output"
   ]
  },
  {
   "cell_type": "code",
   "execution_count": 2,
   "metadata": {},
   "outputs": [
    {
     "data": {
      "text/html": [
       "\n",
       "    <div class=\"bk-root\">\n",
       "        <a href=\"https://bokeh.pydata.org\" target=\"_blank\" class=\"bk-logo bk-logo-small bk-logo-notebook\"></a>\n",
       "        <span id=\"1001\">Loading BokehJS ...</span>\n",
       "    </div>"
      ]
     },
     "metadata": {},
     "output_type": "display_data"
    },
    {
     "data": {
      "application/javascript": [
       "\n",
       "(function(root) {\n",
       "  function now() {\n",
       "    return new Date();\n",
       "  }\n",
       "\n",
       "  var force = true;\n",
       "\n",
       "  if (typeof root._bokeh_onload_callbacks === \"undefined\" || force === true) {\n",
       "    root._bokeh_onload_callbacks = [];\n",
       "    root._bokeh_is_loading = undefined;\n",
       "  }\n",
       "\n",
       "  var JS_MIME_TYPE = 'application/javascript';\n",
       "  var HTML_MIME_TYPE = 'text/html';\n",
       "  var EXEC_MIME_TYPE = 'application/vnd.bokehjs_exec.v0+json';\n",
       "  var CLASS_NAME = 'output_bokeh rendered_html';\n",
       "\n",
       "  /**\n",
       "   * Render data to the DOM node\n",
       "   */\n",
       "  function render(props, node) {\n",
       "    var script = document.createElement(\"script\");\n",
       "    node.appendChild(script);\n",
       "  }\n",
       "\n",
       "  /**\n",
       "   * Handle when an output is cleared or removed\n",
       "   */\n",
       "  function handleClearOutput(event, handle) {\n",
       "    var cell = handle.cell;\n",
       "\n",
       "    var id = cell.output_area._bokeh_element_id;\n",
       "    var server_id = cell.output_area._bokeh_server_id;\n",
       "    // Clean up Bokeh references\n",
       "    if (id != null && id in Bokeh.index) {\n",
       "      Bokeh.index[id].model.document.clear();\n",
       "      delete Bokeh.index[id];\n",
       "    }\n",
       "\n",
       "    if (server_id !== undefined) {\n",
       "      // Clean up Bokeh references\n",
       "      var cmd = \"from bokeh.io.state import curstate; print(curstate().uuid_to_server['\" + server_id + \"'].get_sessions()[0].document.roots[0]._id)\";\n",
       "      cell.notebook.kernel.execute(cmd, {\n",
       "        iopub: {\n",
       "          output: function(msg) {\n",
       "            var id = msg.content.text.trim();\n",
       "            if (id in Bokeh.index) {\n",
       "              Bokeh.index[id].model.document.clear();\n",
       "              delete Bokeh.index[id];\n",
       "            }\n",
       "          }\n",
       "        }\n",
       "      });\n",
       "      // Destroy server and session\n",
       "      var cmd = \"import bokeh.io.notebook as ion; ion.destroy_server('\" + server_id + \"')\";\n",
       "      cell.notebook.kernel.execute(cmd);\n",
       "    }\n",
       "  }\n",
       "\n",
       "  /**\n",
       "   * Handle when a new output is added\n",
       "   */\n",
       "  function handleAddOutput(event, handle) {\n",
       "    var output_area = handle.output_area;\n",
       "    var output = handle.output;\n",
       "\n",
       "    // limit handleAddOutput to display_data with EXEC_MIME_TYPE content only\n",
       "    if ((output.output_type != \"display_data\") || (!output.data.hasOwnProperty(EXEC_MIME_TYPE))) {\n",
       "      return\n",
       "    }\n",
       "\n",
       "    var toinsert = output_area.element.find(\".\" + CLASS_NAME.split(' ')[0]);\n",
       "\n",
       "    if (output.metadata[EXEC_MIME_TYPE][\"id\"] !== undefined) {\n",
       "      toinsert[toinsert.length - 1].firstChild.textContent = output.data[JS_MIME_TYPE];\n",
       "      // store reference to embed id on output_area\n",
       "      output_area._bokeh_element_id = output.metadata[EXEC_MIME_TYPE][\"id\"];\n",
       "    }\n",
       "    if (output.metadata[EXEC_MIME_TYPE][\"server_id\"] !== undefined) {\n",
       "      var bk_div = document.createElement(\"div\");\n",
       "      bk_div.innerHTML = output.data[HTML_MIME_TYPE];\n",
       "      var script_attrs = bk_div.children[0].attributes;\n",
       "      for (var i = 0; i < script_attrs.length; i++) {\n",
       "        toinsert[toinsert.length - 1].firstChild.setAttribute(script_attrs[i].name, script_attrs[i].value);\n",
       "      }\n",
       "      // store reference to server id on output_area\n",
       "      output_area._bokeh_server_id = output.metadata[EXEC_MIME_TYPE][\"server_id\"];\n",
       "    }\n",
       "  }\n",
       "\n",
       "  function register_renderer(events, OutputArea) {\n",
       "\n",
       "    function append_mime(data, metadata, element) {\n",
       "      // create a DOM node to render to\n",
       "      var toinsert = this.create_output_subarea(\n",
       "        metadata,\n",
       "        CLASS_NAME,\n",
       "        EXEC_MIME_TYPE\n",
       "      );\n",
       "      this.keyboard_manager.register_events(toinsert);\n",
       "      // Render to node\n",
       "      var props = {data: data, metadata: metadata[EXEC_MIME_TYPE]};\n",
       "      render(props, toinsert[toinsert.length - 1]);\n",
       "      element.append(toinsert);\n",
       "      return toinsert\n",
       "    }\n",
       "\n",
       "    /* Handle when an output is cleared or removed */\n",
       "    events.on('clear_output.CodeCell', handleClearOutput);\n",
       "    events.on('delete.Cell', handleClearOutput);\n",
       "\n",
       "    /* Handle when a new output is added */\n",
       "    events.on('output_added.OutputArea', handleAddOutput);\n",
       "\n",
       "    /**\n",
       "     * Register the mime type and append_mime function with output_area\n",
       "     */\n",
       "    OutputArea.prototype.register_mime_type(EXEC_MIME_TYPE, append_mime, {\n",
       "      /* Is output safe? */\n",
       "      safe: true,\n",
       "      /* Index of renderer in `output_area.display_order` */\n",
       "      index: 0\n",
       "    });\n",
       "  }\n",
       "\n",
       "  // register the mime type if in Jupyter Notebook environment and previously unregistered\n",
       "  if (root.Jupyter !== undefined) {\n",
       "    var events = require('base/js/events');\n",
       "    var OutputArea = require('notebook/js/outputarea').OutputArea;\n",
       "\n",
       "    if (OutputArea.prototype.mime_types().indexOf(EXEC_MIME_TYPE) == -1) {\n",
       "      register_renderer(events, OutputArea);\n",
       "    }\n",
       "  }\n",
       "\n",
       "  \n",
       "  if (typeof (root._bokeh_timeout) === \"undefined\" || force === true) {\n",
       "    root._bokeh_timeout = Date.now() + 5000;\n",
       "    root._bokeh_failed_load = false;\n",
       "  }\n",
       "\n",
       "  var NB_LOAD_WARNING = {'data': {'text/html':\n",
       "     \"<div style='background-color: #fdd'>\\n\"+\n",
       "     \"<p>\\n\"+\n",
       "     \"BokehJS does not appear to have successfully loaded. If loading BokehJS from CDN, this \\n\"+\n",
       "     \"may be due to a slow or bad network connection. Possible fixes:\\n\"+\n",
       "     \"</p>\\n\"+\n",
       "     \"<ul>\\n\"+\n",
       "     \"<li>re-rerun `output_notebook()` to attempt to load from CDN again, or</li>\\n\"+\n",
       "     \"<li>use INLINE resources instead, as so:</li>\\n\"+\n",
       "     \"</ul>\\n\"+\n",
       "     \"<code>\\n\"+\n",
       "     \"from bokeh.resources import INLINE\\n\"+\n",
       "     \"output_notebook(resources=INLINE)\\n\"+\n",
       "     \"</code>\\n\"+\n",
       "     \"</div>\"}};\n",
       "\n",
       "  function display_loaded() {\n",
       "    var el = document.getElementById(\"1001\");\n",
       "    if (el != null) {\n",
       "      el.textContent = \"BokehJS is loading...\";\n",
       "    }\n",
       "    if (root.Bokeh !== undefined) {\n",
       "      if (el != null) {\n",
       "        el.textContent = \"BokehJS \" + root.Bokeh.version + \" successfully loaded.\";\n",
       "      }\n",
       "    } else if (Date.now() < root._bokeh_timeout) {\n",
       "      setTimeout(display_loaded, 100)\n",
       "    }\n",
       "  }\n",
       "\n",
       "\n",
       "  function run_callbacks() {\n",
       "    try {\n",
       "      root._bokeh_onload_callbacks.forEach(function(callback) {\n",
       "        if (callback != null)\n",
       "          callback();\n",
       "      });\n",
       "    } finally {\n",
       "      delete root._bokeh_onload_callbacks\n",
       "    }\n",
       "    console.debug(\"Bokeh: all callbacks have finished\");\n",
       "  }\n",
       "\n",
       "  function load_libs(css_urls, js_urls, callback) {\n",
       "    if (css_urls == null) css_urls = [];\n",
       "    if (js_urls == null) js_urls = [];\n",
       "\n",
       "    root._bokeh_onload_callbacks.push(callback);\n",
       "    if (root._bokeh_is_loading > 0) {\n",
       "      console.debug(\"Bokeh: BokehJS is being loaded, scheduling callback at\", now());\n",
       "      return null;\n",
       "    }\n",
       "    if (js_urls == null || js_urls.length === 0) {\n",
       "      run_callbacks();\n",
       "      return null;\n",
       "    }\n",
       "    console.debug(\"Bokeh: BokehJS not loaded, scheduling load and callback at\", now());\n",
       "    root._bokeh_is_loading = css_urls.length + js_urls.length;\n",
       "\n",
       "    function on_load() {\n",
       "      root._bokeh_is_loading--;\n",
       "      if (root._bokeh_is_loading === 0) {\n",
       "        console.debug(\"Bokeh: all BokehJS libraries/stylesheets loaded\");\n",
       "        run_callbacks()\n",
       "      }\n",
       "    }\n",
       "\n",
       "    function on_error() {\n",
       "      console.error(\"failed to load \" + url);\n",
       "    }\n",
       "\n",
       "    for (var i = 0; i < css_urls.length; i++) {\n",
       "      var url = css_urls[i];\n",
       "      const element = document.createElement(\"link\");\n",
       "      element.onload = on_load;\n",
       "      element.onerror = on_error;\n",
       "      element.rel = \"stylesheet\";\n",
       "      element.type = \"text/css\";\n",
       "      element.href = url;\n",
       "      console.debug(\"Bokeh: injecting link tag for BokehJS stylesheet: \", url);\n",
       "      document.body.appendChild(element);\n",
       "    }\n",
       "\n",
       "    for (var i = 0; i < js_urls.length; i++) {\n",
       "      var url = js_urls[i];\n",
       "      var element = document.createElement('script');\n",
       "      element.onload = on_load;\n",
       "      element.onerror = on_error;\n",
       "      element.async = false;\n",
       "      element.src = url;\n",
       "      console.debug(\"Bokeh: injecting script tag for BokehJS library: \", url);\n",
       "      document.head.appendChild(element);\n",
       "    }\n",
       "  };var element = document.getElementById(\"1001\");\n",
       "  if (element == null) {\n",
       "    console.error(\"Bokeh: ERROR: autoload.js configured with elementid '1001' but no matching script tag was found. \")\n",
       "    return false;\n",
       "  }\n",
       "\n",
       "  function inject_raw_css(css) {\n",
       "    const element = document.createElement(\"style\");\n",
       "    element.appendChild(document.createTextNode(css));\n",
       "    document.body.appendChild(element);\n",
       "  }\n",
       "\n",
       "  var js_urls = [\"https://cdn.pydata.org/bokeh/release/bokeh-1.3.4.min.js\", \"https://cdn.pydata.org/bokeh/release/bokeh-widgets-1.3.4.min.js\", \"https://cdn.pydata.org/bokeh/release/bokeh-tables-1.3.4.min.js\", \"https://cdn.pydata.org/bokeh/release/bokeh-gl-1.3.4.min.js\"];\n",
       "  var css_urls = [];\n",
       "\n",
       "  var inline_js = [\n",
       "    function(Bokeh) {\n",
       "      Bokeh.set_log_level(\"info\");\n",
       "    },\n",
       "    \n",
       "    function(Bokeh) {\n",
       "      \n",
       "    },\n",
       "    function(Bokeh) {} // ensure no trailing comma for IE\n",
       "  ];\n",
       "\n",
       "  function run_inline_js() {\n",
       "    \n",
       "    if ((root.Bokeh !== undefined) || (force === true)) {\n",
       "      for (var i = 0; i < inline_js.length; i++) {\n",
       "        inline_js[i].call(root, root.Bokeh);\n",
       "      }if (force === true) {\n",
       "        display_loaded();\n",
       "      }} else if (Date.now() < root._bokeh_timeout) {\n",
       "      setTimeout(run_inline_js, 100);\n",
       "    } else if (!root._bokeh_failed_load) {\n",
       "      console.log(\"Bokeh: BokehJS failed to load within specified timeout.\");\n",
       "      root._bokeh_failed_load = true;\n",
       "    } else if (force !== true) {\n",
       "      var cell = $(document.getElementById(\"1001\")).parents('.cell').data().cell;\n",
       "      cell.output_area.append_execute_result(NB_LOAD_WARNING)\n",
       "    }\n",
       "\n",
       "  }\n",
       "\n",
       "  if (root._bokeh_is_loading === 0) {\n",
       "    console.debug(\"Bokeh: BokehJS loaded, going straight to plotting\");\n",
       "    run_inline_js();\n",
       "  } else {\n",
       "    load_libs(css_urls, js_urls, function() {\n",
       "      console.debug(\"Bokeh: BokehJS plotting callback run at\", now());\n",
       "      run_inline_js();\n",
       "    });\n",
       "  }\n",
       "}(window));"
      ],
      "application/vnd.bokehjs_load.v0+json": "\n(function(root) {\n  function now() {\n    return new Date();\n  }\n\n  var force = true;\n\n  if (typeof root._bokeh_onload_callbacks === \"undefined\" || force === true) {\n    root._bokeh_onload_callbacks = [];\n    root._bokeh_is_loading = undefined;\n  }\n\n  \n\n  \n  if (typeof (root._bokeh_timeout) === \"undefined\" || force === true) {\n    root._bokeh_timeout = Date.now() + 5000;\n    root._bokeh_failed_load = false;\n  }\n\n  var NB_LOAD_WARNING = {'data': {'text/html':\n     \"<div style='background-color: #fdd'>\\n\"+\n     \"<p>\\n\"+\n     \"BokehJS does not appear to have successfully loaded. If loading BokehJS from CDN, this \\n\"+\n     \"may be due to a slow or bad network connection. Possible fixes:\\n\"+\n     \"</p>\\n\"+\n     \"<ul>\\n\"+\n     \"<li>re-rerun `output_notebook()` to attempt to load from CDN again, or</li>\\n\"+\n     \"<li>use INLINE resources instead, as so:</li>\\n\"+\n     \"</ul>\\n\"+\n     \"<code>\\n\"+\n     \"from bokeh.resources import INLINE\\n\"+\n     \"output_notebook(resources=INLINE)\\n\"+\n     \"</code>\\n\"+\n     \"</div>\"}};\n\n  function display_loaded() {\n    var el = document.getElementById(\"1001\");\n    if (el != null) {\n      el.textContent = \"BokehJS is loading...\";\n    }\n    if (root.Bokeh !== undefined) {\n      if (el != null) {\n        el.textContent = \"BokehJS \" + root.Bokeh.version + \" successfully loaded.\";\n      }\n    } else if (Date.now() < root._bokeh_timeout) {\n      setTimeout(display_loaded, 100)\n    }\n  }\n\n\n  function run_callbacks() {\n    try {\n      root._bokeh_onload_callbacks.forEach(function(callback) {\n        if (callback != null)\n          callback();\n      });\n    } finally {\n      delete root._bokeh_onload_callbacks\n    }\n    console.debug(\"Bokeh: all callbacks have finished\");\n  }\n\n  function load_libs(css_urls, js_urls, callback) {\n    if (css_urls == null) css_urls = [];\n    if (js_urls == null) js_urls = [];\n\n    root._bokeh_onload_callbacks.push(callback);\n    if (root._bokeh_is_loading > 0) {\n      console.debug(\"Bokeh: BokehJS is being loaded, scheduling callback at\", now());\n      return null;\n    }\n    if (js_urls == null || js_urls.length === 0) {\n      run_callbacks();\n      return null;\n    }\n    console.debug(\"Bokeh: BokehJS not loaded, scheduling load and callback at\", now());\n    root._bokeh_is_loading = css_urls.length + js_urls.length;\n\n    function on_load() {\n      root._bokeh_is_loading--;\n      if (root._bokeh_is_loading === 0) {\n        console.debug(\"Bokeh: all BokehJS libraries/stylesheets loaded\");\n        run_callbacks()\n      }\n    }\n\n    function on_error() {\n      console.error(\"failed to load \" + url);\n    }\n\n    for (var i = 0; i < css_urls.length; i++) {\n      var url = css_urls[i];\n      const element = document.createElement(\"link\");\n      element.onload = on_load;\n      element.onerror = on_error;\n      element.rel = \"stylesheet\";\n      element.type = \"text/css\";\n      element.href = url;\n      console.debug(\"Bokeh: injecting link tag for BokehJS stylesheet: \", url);\n      document.body.appendChild(element);\n    }\n\n    for (var i = 0; i < js_urls.length; i++) {\n      var url = js_urls[i];\n      var element = document.createElement('script');\n      element.onload = on_load;\n      element.onerror = on_error;\n      element.async = false;\n      element.src = url;\n      console.debug(\"Bokeh: injecting script tag for BokehJS library: \", url);\n      document.head.appendChild(element);\n    }\n  };var element = document.getElementById(\"1001\");\n  if (element == null) {\n    console.error(\"Bokeh: ERROR: autoload.js configured with elementid '1001' but no matching script tag was found. \")\n    return false;\n  }\n\n  function inject_raw_css(css) {\n    const element = document.createElement(\"style\");\n    element.appendChild(document.createTextNode(css));\n    document.body.appendChild(element);\n  }\n\n  var js_urls = [\"https://cdn.pydata.org/bokeh/release/bokeh-1.3.4.min.js\", \"https://cdn.pydata.org/bokeh/release/bokeh-widgets-1.3.4.min.js\", \"https://cdn.pydata.org/bokeh/release/bokeh-tables-1.3.4.min.js\", \"https://cdn.pydata.org/bokeh/release/bokeh-gl-1.3.4.min.js\"];\n  var css_urls = [];\n\n  var inline_js = [\n    function(Bokeh) {\n      Bokeh.set_log_level(\"info\");\n    },\n    \n    function(Bokeh) {\n      \n    },\n    function(Bokeh) {} // ensure no trailing comma for IE\n  ];\n\n  function run_inline_js() {\n    \n    if ((root.Bokeh !== undefined) || (force === true)) {\n      for (var i = 0; i < inline_js.length; i++) {\n        inline_js[i].call(root, root.Bokeh);\n      }if (force === true) {\n        display_loaded();\n      }} else if (Date.now() < root._bokeh_timeout) {\n      setTimeout(run_inline_js, 100);\n    } else if (!root._bokeh_failed_load) {\n      console.log(\"Bokeh: BokehJS failed to load within specified timeout.\");\n      root._bokeh_failed_load = true;\n    } else if (force !== true) {\n      var cell = $(document.getElementById(\"1001\")).parents('.cell').data().cell;\n      cell.output_area.append_execute_result(NB_LOAD_WARNING)\n    }\n\n  }\n\n  if (root._bokeh_is_loading === 0) {\n    console.debug(\"Bokeh: BokehJS loaded, going straight to plotting\");\n    run_inline_js();\n  } else {\n    load_libs(css_urls, js_urls, function() {\n      console.debug(\"Bokeh: BokehJS plotting callback run at\", now());\n      run_inline_js();\n    });\n  }\n}(window));"
     },
     "metadata": {},
     "output_type": "display_data"
    }
   ],
   "source": [
    "import bokeh.plotting as bplt\n",
    "from bokeh.models import Range1d, LabelSet, ColumnDataSource\n",
    "from bokeh.models.glyphs import Line\n",
    "from bokeh.io import output_notebook, show, push_notebook\n",
    "output_notebook()"
   ]
  },
  {
   "cell_type": "code",
   "execution_count": 3,
   "metadata": {},
   "outputs": [],
   "source": [
    "def mmn_nu_approx(lam, mu, n):\n",
    "    rho = lam/(n*mu)\n",
    "    gamma = np.sqrt(n)*(1 - rho)\n",
    "    A = scipy.stats.norm.cdf(gamma)\n",
    "    B = scipy.stats.norm.pdf(gamma)/gamma\n",
    "    nu = 1/(1 + A/B)\n",
    "    return nu\n",
    "\n",
    "def mmn_nu(lam, mu, n):\n",
    "    rho = lam/(n*mu)\n",
    "    A = np.exp(-n*rho) * np.sum(np.power(n*rho, range(0,n))/np.array([np.math.factorial(x) for x in range(0,n)]))\n",
    "    B = np.exp(-n*rho) * np.power(n*rho, n)/(np.math.factorial(n)*(1 - rho))\n",
    "    nu = 1/(1 + A/B)\n",
    "    return nu"
   ]
  },
  {
   "cell_type": "code",
   "execution_count": 4,
   "metadata": {
    "scrolled": true
   },
   "outputs": [
    {
     "data": {
      "application/vnd.jupyter.widget-view+json": {
       "model_id": "f5b8f7daf1a74fc08b3370e4e82b05ca",
       "version_major": 2,
       "version_minor": 0
      },
      "text/plain": [
       "interactive(children=(IntSlider(value=21, description='staffing level', max=60, min=21), Output()), _dom_class…"
      ]
     },
     "metadata": {},
     "output_type": "display_data"
    }
   ],
   "source": [
    "l_0 = 20\n",
    "m = 1\n",
    "\n",
    "n_slider = widgets.IntSlider(value=0, \n",
    "                               min=np.floor(l_0/m)+1,\n",
    "                               max=3*l_0/m, \n",
    "                               description='staffing level')\n",
    "\n",
    "widgets.interact(lambda n: print(f'probability of wait: {mmn_nu(l_0,m,n)}'), n=n_slider);"
   ]
  },
  {
   "cell_type": "markdown",
   "metadata": {},
   "source": [
    "As your demand for your service grows, how should you increase your staffing levels?  Suppose $\\lambda$ increases with $\\mu$ remaining constant (that is, you have more and more customers per unit time, but the service requirement for each individual customer is, statistically, the same).  \n",
    "\n",
    "Let $\\lambda_0$ be the arrival rate when you started your business with $n_0$ servers, which ensured that 95% of your customers did not have to wait.  For increased $\\lambda$, suppose you increase your staffing levels proportionally:\n",
    "$$\\frac{n}{n_0} = \\frac{\\lambda}{\\lambda_0}$$\n",
    "(That is, if your demand doubles then your staff doubles.)"
   ]
  },
  {
   "cell_type": "code",
   "execution_count": 5,
   "metadata": {},
   "outputs": [],
   "source": [
    "n_0 = n_slider.value\n",
    "demand = np.array(range(l_0,110))\n",
    "staff = [int(np.ceil(n_0*l/l_0)) for l in demand]\n",
    "nu = [mmn_nu(l,m,n) for l, n in zip(demand, staff)]\n",
    "proportional_staffing = pd.DataFrame({'demand': demand, 'staff': staff, 'prob_wait': nu})"
   ]
  },
  {
   "cell_type": "code",
   "execution_count": 6,
   "metadata": {},
   "outputs": [
    {
     "data": {
      "text/html": [
       "\n",
       "\n",
       "\n",
       "\n",
       "\n",
       "\n",
       "  <div class=\"bk-root\" id=\"86326d5f-0977-42b1-b4aa-00a2c730a769\" data-root-id=\"1002\"></div>\n"
      ]
     },
     "metadata": {},
     "output_type": "display_data"
    },
    {
     "data": {
      "application/javascript": [
       "(function(root) {\n",
       "  function embed_document(root) {\n",
       "    \n",
       "  var docs_json = {\"ab10091e-9267-4ce2-98a8-56dc4b5fd239\":{\"roots\":{\"references\":[{\"attributes\":{\"below\":[{\"id\":\"1013\",\"type\":\"LinearAxis\"}],\"center\":[{\"id\":\"1017\",\"type\":\"Grid\"},{\"id\":\"1022\",\"type\":\"Grid\"}],\"left\":[{\"id\":\"1018\",\"type\":\"LinearAxis\"}],\"renderers\":[{\"id\":\"1038\",\"type\":\"GlyphRenderer\"}],\"title\":{\"id\":\"1003\",\"type\":\"Title\"},\"toolbar\":{\"id\":\"1029\",\"type\":\"Toolbar\"},\"x_range\":{\"id\":\"1005\",\"type\":\"DataRange1d\"},\"x_scale\":{\"id\":\"1009\",\"type\":\"LinearScale\"},\"y_range\":{\"id\":\"1007\",\"type\":\"DataRange1d\"},\"y_scale\":{\"id\":\"1011\",\"type\":\"LinearScale\"}},\"id\":\"1002\",\"subtype\":\"Figure\",\"type\":\"Plot\"},{\"attributes\":{\"callback\":null,\"data\":{\"demand\":[20,21,22,23,24,25,26,27,28,29,30,31,32,33,34,35,36,37,38,39,40,41,42,43,44,45,46,47,48,49,50,51,52,53,54,55,56,57,58,59,60,61,62,63,64,65,66,67,68,69,70,71,72,73,74,75,76,77,78,79,80,81,82,83,84,85,86,87,88,89,90,91,92,93,94,95,96,97,98,99,100,101,102,103,104,105,106,107,108,109],\"index\":[0,1,2,3,4,5,6,7,8,9,10,11,12,13,14,15,16,17,18,19,20,21,22,23,24,25,26,27,28,29,30,31,32,33,34,35,36,37,38,39,40,41,42,43,44,45,46,47,48,49,50,51,52,53,54,55,56,57,58,59,60,61,62,63,64,65,66,67,68,69,70,71,72,73,74,75,76,77,78,79,80,81,82,83,84,85,86,87,88,89],\"prob_wait\":{\"__ndarray__\":\"Ew/rgi1X6D+OLtP4XWziP5jS/RPDqOI/SAMZ8eHh4j9jQGLABRjjPyQ+IXFwS+M/qBs1H1x84z/aVIw9/KrjP+0RrIt+1+M/1n8T4QsC5D+RzM7WyCrkP/4ktFXWUeQ/YMhfDlJ35D/AAPTeVpvkP5GG0Cn9veQ/i6bSH1vf5D8r2TAAhf/kPw/doE+NHuU/kIEoCIU85T99b7rCe1nlP4XSjdt/deU/UM4V1Lpx4T+LZd1qKJPhP/lTQHGis+E/NbN+kDTT4T8LIpmq6fHhP5HuPevLD+I/5jj61uQs4j/ICORYPUniPxsi687dZOI/lE34FM5/4j94mf2OFZriPyuoFTK7s+I/gVXMjMXM4j8/uafOOuXiP0e9Bc8g/eI/rBBgE30U4z8pJwbVVCvjP0ohWwatQeM/S+OjV4pX4z/VPnA78WzjPxxg29yHUOA/MIeFiFho4D9FbuyEtX/gP40LWYmiluA/79A/IiOt4D8MArizOsPgP+ABx3vs2OA/iC6DlDvu4D+FjBH2KgPhP5o2gXi9F+E/hEKH1fUr4T9pjR2q1j/hPy6rBnhiU+E/BQI5p5tm4T9+7jKHhHnhP3mjOVAfjOE/u1SEJG6e4T9gGVURc7DhP47VABAwwuE/nl7nBqfT4T/w1qcDm4nePxiGbfwFr94/5bWoXOrT3j8qjktaS/jeP0RKwA8sHN8/XGUXfY8/3z+nFSaJeGLfP7sJlgLqhN8/ykrnoOam3z9XF2UFccjfP6l6DryL6d8/tKw5nhwF4D9JT0P1PRXgP14UswsrJeA/8YYMAeU04D98YCLsbETgP0/ObNvDU+A/vqZb1epi4D9fx6TY4nHgP1vSjtysgOA/7a0HoP6m3D9+X8o+8MXcP5vdCWaK5Nw/cNHmuc4C3T+go3HTviDdP+TJCUFcPt0/dzW5hqhb3T8cEYwepXjdPz775HhTld0/\",\"dtype\":\"float64\",\"shape\":[90]},\"staff\":[21,23,24,25,26,27,28,29,30,31,32,33,34,35,36,37,38,39,40,41,42,44,45,46,47,48,49,50,51,52,53,54,55,56,57,58,59,60,61,62,63,65,66,67,68,69,70,71,72,73,74,75,76,77,78,79,80,81,82,83,84,86,87,88,89,90,91,92,93,94,95,96,97,98,99,100,101,102,103,104,105,107,108,109,110,111,112,113,114,115]},\"selected\":{\"id\":\"1046\",\"type\":\"Selection\"},\"selection_policy\":{\"id\":\"1045\",\"type\":\"UnionRenderers\"}},\"id\":\"1036\",\"type\":\"ColumnDataSource\"},{\"attributes\":{\"dimension\":1,\"ticker\":{\"id\":\"1019\",\"type\":\"BasicTicker\"}},\"id\":\"1022\",\"type\":\"Grid\"},{\"attributes\":{\"callback\":null},\"id\":\"1007\",\"type\":\"DataRange1d\"},{\"attributes\":{},\"id\":\"1023\",\"type\":\"PanTool\"},{\"attributes\":{\"ticker\":{\"id\":\"1014\",\"type\":\"BasicTicker\"}},\"id\":\"1017\",\"type\":\"Grid\"},{\"attributes\":{},\"id\":\"1045\",\"type\":\"UnionRenderers\"},{\"attributes\":{\"active_drag\":\"auto\",\"active_inspect\":\"auto\",\"active_multi\":null,\"active_scroll\":\"auto\",\"active_tap\":\"auto\",\"tools\":[{\"id\":\"1023\",\"type\":\"PanTool\"},{\"id\":\"1024\",\"type\":\"WheelZoomTool\"},{\"id\":\"1025\",\"type\":\"BoxZoomTool\"},{\"id\":\"1026\",\"type\":\"SaveTool\"},{\"id\":\"1027\",\"type\":\"ResetTool\"},{\"id\":\"1028\",\"type\":\"HelpTool\"}]},\"id\":\"1029\",\"type\":\"Toolbar\"},{\"attributes\":{\"overlay\":{\"id\":\"1047\",\"type\":\"BoxAnnotation\"}},\"id\":\"1025\",\"type\":\"BoxZoomTool\"},{\"attributes\":{},\"id\":\"1026\",\"type\":\"SaveTool\"},{\"attributes\":{},\"id\":\"1046\",\"type\":\"Selection\"},{\"attributes\":{\"data_source\":{\"id\":\"1036\",\"type\":\"ColumnDataSource\"},\"glyph\":{\"id\":\"1037\",\"type\":\"Line\"},\"hover_glyph\":null,\"muted_glyph\":null,\"view\":{\"id\":\"1039\",\"type\":\"CDSView\"}},\"id\":\"1038\",\"type\":\"GlyphRenderer\"},{\"attributes\":{},\"id\":\"1009\",\"type\":\"LinearScale\"},{\"attributes\":{},\"id\":\"1027\",\"type\":\"ResetTool\"},{\"attributes\":{},\"id\":\"1019\",\"type\":\"BasicTicker\"},{\"attributes\":{\"source\":{\"id\":\"1036\",\"type\":\"ColumnDataSource\"}},\"id\":\"1039\",\"type\":\"CDSView\"},{\"attributes\":{},\"id\":\"1028\",\"type\":\"HelpTool\"},{\"attributes\":{\"callback\":null},\"id\":\"1005\",\"type\":\"DataRange1d\"},{\"attributes\":{},\"id\":\"1044\",\"type\":\"BasicTickFormatter\"},{\"attributes\":{\"bottom_units\":\"screen\",\"fill_alpha\":{\"value\":0.5},\"fill_color\":{\"value\":\"lightgrey\"},\"left_units\":\"screen\",\"level\":\"overlay\",\"line_alpha\":{\"value\":1.0},\"line_color\":{\"value\":\"black\"},\"line_dash\":[4,4],\"line_width\":{\"value\":2},\"render_mode\":\"css\",\"right_units\":\"screen\",\"top_units\":\"screen\"},\"id\":\"1047\",\"type\":\"BoxAnnotation\"},{\"attributes\":{\"text\":\"Service Level Under Proportional Staffing\"},\"id\":\"1003\",\"type\":\"Title\"},{\"attributes\":{},\"id\":\"1011\",\"type\":\"LinearScale\"},{\"attributes\":{},\"id\":\"1014\",\"type\":\"BasicTicker\"},{\"attributes\":{},\"id\":\"1024\",\"type\":\"WheelZoomTool\"},{\"attributes\":{},\"id\":\"1042\",\"type\":\"BasicTickFormatter\"},{\"attributes\":{\"axis_label\":\"demand\",\"formatter\":{\"id\":\"1044\",\"type\":\"BasicTickFormatter\"},\"ticker\":{\"id\":\"1014\",\"type\":\"BasicTicker\"}},\"id\":\"1013\",\"type\":\"LinearAxis\"},{\"attributes\":{\"axis_label\":\"probability of wait\",\"formatter\":{\"id\":\"1042\",\"type\":\"BasicTickFormatter\"},\"ticker\":{\"id\":\"1019\",\"type\":\"BasicTicker\"}},\"id\":\"1018\",\"type\":\"LinearAxis\"},{\"attributes\":{\"line_color\":\"blue\",\"x\":{\"field\":\"demand\"},\"y\":{\"field\":\"prob_wait\"}},\"id\":\"1037\",\"type\":\"Line\"}],\"root_ids\":[\"1002\"]},\"title\":\"Bokeh Application\",\"version\":\"1.3.4\"}};\n",
       "  var render_items = [{\"docid\":\"ab10091e-9267-4ce2-98a8-56dc4b5fd239\",\"roots\":{\"1002\":\"86326d5f-0977-42b1-b4aa-00a2c730a769\"}}];\n",
       "  root.Bokeh.embed.embed_items_notebook(docs_json, render_items);\n",
       "\n",
       "  }\n",
       "  if (root.Bokeh !== undefined) {\n",
       "    embed_document(root);\n",
       "  } else {\n",
       "    var attempts = 0;\n",
       "    var timer = setInterval(function(root) {\n",
       "      if (root.Bokeh !== undefined) {\n",
       "        embed_document(root);\n",
       "        clearInterval(timer);\n",
       "      }\n",
       "      attempts++;\n",
       "      if (attempts > 100) {\n",
       "        console.log(\"Bokeh: ERROR: Unable to run BokehJS code because BokehJS library is missing\");\n",
       "        clearInterval(timer);\n",
       "      }\n",
       "    }, 10, root)\n",
       "  }\n",
       "})(window);"
      ],
      "application/vnd.bokehjs_exec.v0+json": ""
     },
     "metadata": {
      "application/vnd.bokehjs_exec.v0+json": {
       "id": "1002"
      }
     },
     "output_type": "display_data"
    }
   ],
   "source": [
    "plt = bplt.figure(title='Service Level Under Proportional Staffing')\n",
    "plt.add_glyph(ColumnDataSource(proportional_staffing), Line(x=\"demand\", y='prob_wait', line_color='blue'))\n",
    "plt.xaxis.axis_label = 'demand'\n",
    "plt.yaxis.axis_label = 'probability of wait'\n",
    "bplt.show(plt)"
   ]
  },
  {
   "cell_type": "markdown",
   "metadata": {},
   "source": [
    "The plot above shows that, under proportional staffing, the performance metric improves as demand increases.  This is an illustration of *economies of scale* – there are efficiencies at large scale so to reach the same performance target (e.g., 90% of customers do not wait) you do not need to increase staffing as much as the increase demand.  (In fact, for the $M/M/n$ queue, staffing that scales in proportion to the *square-root* of demand will maintain the same performance.)"
   ]
  }
 ],
 "metadata": {
  "kernelspec": {
   "display_name": "Python 3",
   "language": "python",
   "name": "python3"
  },
  "language_info": {
   "codemirror_mode": {
    "name": "ipython",
    "version": 3
   },
   "file_extension": ".py",
   "mimetype": "text/x-python",
   "name": "python",
   "nbconvert_exporter": "python",
   "pygments_lexer": "ipython3",
   "version": "3.7.4"
  },
  "widgets": {
   "application/vnd.jupyter.widget-state+json": {
    "state": {
     "00cb726573164e6680c9e401fb1dff77": {
      "model_module": "@jupyter-widgets/base",
      "model_module_version": "1.1.0",
      "model_name": "LayoutModel",
      "state": {}
     },
     "07218ef6039643df96a428e2f49e73e8": {
      "model_module": "@jupyter-widgets/controls",
      "model_module_version": "1.4.0",
      "model_name": "VBoxModel",
      "state": {
       "_dom_classes": [
        "widget-interact"
       ],
       "children": [
        "IPY_MODEL_ce72ee832d4c49e8b09fdac9b424b7fd",
        "IPY_MODEL_fbe320e534e3436e8096711155df1b18"
       ],
       "layout": "IPY_MODEL_ed7913877c0d4ba88af901e0e0c48fad"
      }
     },
     "0b0a5e08d3f34eb58ecf75cecdd57299": {
      "model_module": "@jupyter-widgets/controls",
      "model_module_version": "1.4.0",
      "model_name": "SliderStyleModel",
      "state": {
       "description_width": ""
      }
     },
     "0fe975a6e96d4a068ae96e8b4d5742bd": {
      "model_module": "@jupyter-widgets/controls",
      "model_module_version": "1.4.0",
      "model_name": "IntSliderModel",
      "state": {
       "description": "staffing level",
       "layout": "IPY_MODEL_00cb726573164e6680c9e401fb1dff77",
       "max": 60,
       "min": 21,
       "style": "IPY_MODEL_5352884b513346f0949f5458c65657d9",
       "value": 27
      }
     },
     "16d9d05d515d40ecbb91d29e94acd53e": {
      "model_module": "@jupyter-widgets/base",
      "model_module_version": "1.1.0",
      "model_name": "LayoutModel",
      "state": {}
     },
     "1eb54fdb2a134557a4056adb7a33cded": {
      "model_module": "@jupyter-widgets/base",
      "model_module_version": "1.1.0",
      "model_name": "LayoutModel",
      "state": {}
     },
     "23dc78675ace41e3ad29784ef7fbd177": {
      "model_module": "@jupyter-widgets/base",
      "model_module_version": "1.1.0",
      "model_name": "LayoutModel",
      "state": {}
     },
     "2635a6f11c5747cf8bb189c1d24a3a05": {
      "model_module": "@jupyter-widgets/controls",
      "model_module_version": "1.4.0",
      "model_name": "IntSliderModel",
      "state": {
       "description": "staffing level",
       "layout": "IPY_MODEL_bbb3ef43256f45969a4cdf8c6a1a2c34",
       "max": 200,
       "min": 21,
       "style": "IPY_MODEL_d23fe8e1250248229e38a569ece1d44a",
       "value": 36
      }
     },
     "305c5a0501f7436c8ccec8f198a5808b": {
      "model_module": "@jupyter-widgets/base",
      "model_module_version": "1.1.0",
      "model_name": "LayoutModel",
      "state": {}
     },
     "37582c9c419b416ba404dff6efcd1940": {
      "model_module": "@jupyter-widgets/base",
      "model_module_version": "1.1.0",
      "model_name": "LayoutModel",
      "state": {}
     },
     "3f42cf1e983e45a6a47ee2ca75d3c4f4": {
      "model_module": "@jupyter-widgets/base",
      "model_module_version": "1.1.0",
      "model_name": "LayoutModel",
      "state": {}
     },
     "47eac71deacc4acaaa29ebd2a83e00ca": {
      "model_module": "@jupyter-widgets/base",
      "model_module_version": "1.1.0",
      "model_name": "LayoutModel",
      "state": {}
     },
     "4a4af6a872a14d95bb37b94d92c07d1d": {
      "model_module": "@jupyter-widgets/output",
      "model_module_version": "1.0.0",
      "model_name": "OutputModel",
      "state": {
       "layout": "IPY_MODEL_7ae2acf780d24abf8e301ca68782e474",
       "outputs": [
        {
         "ename": "TypeError",
         "evalue": "'float' object cannot be interpreted as an integer",
         "output_type": "error",
         "traceback": [
          "\u001b[0;31m---------------------------------------------------------------------------\u001b[0m",
          "\u001b[0;31mTypeError\u001b[0m                                 Traceback (most recent call last)",
          "\u001b[0;32m/Applications/anaconda3/lib/python3.7/site-packages/ipywidgets/widgets/interaction.py\u001b[0m in \u001b[0;36mupdate\u001b[0;34m(self, *args)\u001b[0m\n\u001b[1;32m    249\u001b[0m                     \u001b[0mvalue\u001b[0m \u001b[0;34m=\u001b[0m \u001b[0mwidget\u001b[0m\u001b[0;34m.\u001b[0m\u001b[0mget_interact_value\u001b[0m\u001b[0;34m(\u001b[0m\u001b[0;34m)\u001b[0m\u001b[0;34m\u001b[0m\u001b[0m\n\u001b[1;32m    250\u001b[0m                     \u001b[0mself\u001b[0m\u001b[0;34m.\u001b[0m\u001b[0mkwargs\u001b[0m\u001b[0;34m[\u001b[0m\u001b[0mwidget\u001b[0m\u001b[0;34m.\u001b[0m\u001b[0m_kwarg\u001b[0m\u001b[0;34m]\u001b[0m \u001b[0;34m=\u001b[0m \u001b[0mvalue\u001b[0m\u001b[0;34m\u001b[0m\u001b[0m\n\u001b[0;32m--> 251\u001b[0;31m                 \u001b[0mself\u001b[0m\u001b[0;34m.\u001b[0m\u001b[0mresult\u001b[0m \u001b[0;34m=\u001b[0m \u001b[0mself\u001b[0m\u001b[0;34m.\u001b[0m\u001b[0mf\u001b[0m\u001b[0;34m(\u001b[0m\u001b[0;34m**\u001b[0m\u001b[0mself\u001b[0m\u001b[0;34m.\u001b[0m\u001b[0mkwargs\u001b[0m\u001b[0;34m)\u001b[0m\u001b[0;34m\u001b[0m\u001b[0m\n\u001b[0m\u001b[1;32m    252\u001b[0m                 \u001b[0mshow_inline_matplotlib_plots\u001b[0m\u001b[0;34m(\u001b[0m\u001b[0;34m)\u001b[0m\u001b[0;34m\u001b[0m\u001b[0m\n\u001b[1;32m    253\u001b[0m                 \u001b[0;32mif\u001b[0m \u001b[0mself\u001b[0m\u001b[0;34m.\u001b[0m\u001b[0mauto_display\u001b[0m \u001b[0;32mand\u001b[0m \u001b[0mself\u001b[0m\u001b[0;34m.\u001b[0m\u001b[0mresult\u001b[0m \u001b[0;32mis\u001b[0m \u001b[0;32mnot\u001b[0m \u001b[0;32mNone\u001b[0m\u001b[0;34m:\u001b[0m\u001b[0;34m\u001b[0m\u001b[0m\n",
          "\u001b[0;32m<ipython-input-65-f1c35693ac44>\u001b[0m in \u001b[0;36m<lambda>\u001b[0;34m(n)\u001b[0m\n\u001b[1;32m      7\u001b[0m                                description='staffing level')\n\u001b[1;32m      8\u001b[0m \u001b[0;34m\u001b[0m\u001b[0m\n\u001b[0;32m----> 9\u001b[0;31m \u001b[0mwidgets\u001b[0m\u001b[0;34m.\u001b[0m\u001b[0minteract\u001b[0m\u001b[0;34m(\u001b[0m\u001b[0;32mlambda\u001b[0m \u001b[0mn\u001b[0m\u001b[0;34m:\u001b[0m \u001b[0mprint\u001b[0m\u001b[0;34m(\u001b[0m\u001b[0;34mf'exact: {mmn_nu(l_0,m,n)}'\u001b[0m\u001b[0;34m)\u001b[0m\u001b[0;34m,\u001b[0m \u001b[0mn\u001b[0m\u001b[0;34m=\u001b[0m\u001b[0mn_slider\u001b[0m\u001b[0;34m)\u001b[0m\u001b[0;34m\u001b[0m\u001b[0m\n\u001b[0m\u001b[1;32m     10\u001b[0m \u001b[0;34m\u001b[0m\u001b[0m\n\u001b[1;32m     11\u001b[0m \u001b[0;31m# print(f'exact: {mmn_nu(l_0,m,n_0)}')\u001b[0m\u001b[0;34m\u001b[0m\u001b[0;34m\u001b[0m\u001b[0m\n",
          "\u001b[0;32m<ipython-input-61-2624a34dbe75>\u001b[0m in \u001b[0;36mmmn_nu\u001b[0;34m(lam, mu, n)\u001b[0m\n\u001b[1;32m      9\u001b[0m \u001b[0;32mdef\u001b[0m \u001b[0mmmn_nu\u001b[0m\u001b[0;34m(\u001b[0m\u001b[0mlam\u001b[0m\u001b[0;34m,\u001b[0m \u001b[0mmu\u001b[0m\u001b[0;34m,\u001b[0m \u001b[0mn\u001b[0m\u001b[0;34m)\u001b[0m\u001b[0;34m:\u001b[0m\u001b[0;34m\u001b[0m\u001b[0m\n\u001b[1;32m     10\u001b[0m     \u001b[0mrho\u001b[0m \u001b[0;34m=\u001b[0m \u001b[0mlam\u001b[0m\u001b[0;34m/\u001b[0m\u001b[0;34m(\u001b[0m\u001b[0mn\u001b[0m\u001b[0;34m*\u001b[0m\u001b[0mmu\u001b[0m\u001b[0;34m)\u001b[0m\u001b[0;34m\u001b[0m\u001b[0m\n\u001b[0;32m---> 11\u001b[0;31m     \u001b[0mA\u001b[0m \u001b[0;34m=\u001b[0m \u001b[0mnp\u001b[0m\u001b[0;34m.\u001b[0m\u001b[0mexp\u001b[0m\u001b[0;34m(\u001b[0m\u001b[0;34m-\u001b[0m\u001b[0mn\u001b[0m\u001b[0;34m*\u001b[0m\u001b[0mrho\u001b[0m\u001b[0;34m)\u001b[0m \u001b[0;34m*\u001b[0m \u001b[0mnp\u001b[0m\u001b[0;34m.\u001b[0m\u001b[0msum\u001b[0m\u001b[0;34m(\u001b[0m\u001b[0mnp\u001b[0m\u001b[0;34m.\u001b[0m\u001b[0mpower\u001b[0m\u001b[0;34m(\u001b[0m\u001b[0mn\u001b[0m\u001b[0;34m*\u001b[0m\u001b[0mrho\u001b[0m\u001b[0;34m,\u001b[0m \u001b[0mrange\u001b[0m\u001b[0;34m(\u001b[0m\u001b[0;36m0\u001b[0m\u001b[0;34m,\u001b[0m\u001b[0mn\u001b[0m\u001b[0;34m)\u001b[0m\u001b[0;34m)\u001b[0m\u001b[0;34m/\u001b[0m\u001b[0mnp\u001b[0m\u001b[0;34m.\u001b[0m\u001b[0marray\u001b[0m\u001b[0;34m(\u001b[0m\u001b[0;34m[\u001b[0m\u001b[0mnp\u001b[0m\u001b[0;34m.\u001b[0m\u001b[0mmath\u001b[0m\u001b[0;34m.\u001b[0m\u001b[0mfactorial\u001b[0m\u001b[0;34m(\u001b[0m\u001b[0mx\u001b[0m\u001b[0;34m)\u001b[0m \u001b[0;32mfor\u001b[0m \u001b[0mx\u001b[0m \u001b[0;32min\u001b[0m \u001b[0mrange\u001b[0m\u001b[0;34m(\u001b[0m\u001b[0;36m0\u001b[0m\u001b[0;34m,\u001b[0m\u001b[0mn\u001b[0m\u001b[0;34m)\u001b[0m\u001b[0;34m]\u001b[0m\u001b[0;34m)\u001b[0m\u001b[0;34m)\u001b[0m\u001b[0;34m\u001b[0m\u001b[0m\n\u001b[0m\u001b[1;32m     12\u001b[0m     \u001b[0mB\u001b[0m \u001b[0;34m=\u001b[0m \u001b[0mnp\u001b[0m\u001b[0;34m.\u001b[0m\u001b[0mexp\u001b[0m\u001b[0;34m(\u001b[0m\u001b[0;34m-\u001b[0m\u001b[0mn\u001b[0m\u001b[0;34m*\u001b[0m\u001b[0mrho\u001b[0m\u001b[0;34m)\u001b[0m \u001b[0;34m*\u001b[0m \u001b[0mnp\u001b[0m\u001b[0;34m.\u001b[0m\u001b[0mpower\u001b[0m\u001b[0;34m(\u001b[0m\u001b[0mn\u001b[0m\u001b[0;34m*\u001b[0m\u001b[0mrho\u001b[0m\u001b[0;34m,\u001b[0m \u001b[0mn\u001b[0m\u001b[0;34m)\u001b[0m\u001b[0;34m/\u001b[0m\u001b[0;34m(\u001b[0m\u001b[0mnp\u001b[0m\u001b[0;34m.\u001b[0m\u001b[0mmath\u001b[0m\u001b[0;34m.\u001b[0m\u001b[0mfactorial\u001b[0m\u001b[0;34m(\u001b[0m\u001b[0mn\u001b[0m\u001b[0;34m)\u001b[0m\u001b[0;34m*\u001b[0m\u001b[0;34m(\u001b[0m\u001b[0;36m1\u001b[0m \u001b[0;34m-\u001b[0m \u001b[0mrho\u001b[0m\u001b[0;34m)\u001b[0m\u001b[0;34m)\u001b[0m\u001b[0;34m\u001b[0m\u001b[0m\n\u001b[1;32m     13\u001b[0m     \u001b[0mnu\u001b[0m \u001b[0;34m=\u001b[0m \u001b[0;36m1\u001b[0m\u001b[0;34m/\u001b[0m\u001b[0;34m(\u001b[0m\u001b[0;36m1\u001b[0m \u001b[0;34m+\u001b[0m \u001b[0mA\u001b[0m\u001b[0;34m/\u001b[0m\u001b[0mB\u001b[0m\u001b[0;34m)\u001b[0m\u001b[0;34m\u001b[0m\u001b[0m\n",
          "\u001b[0;31mTypeError\u001b[0m: 'float' object cannot be interpreted as an integer"
         ]
        }
       ]
      }
     },
     "4b6ae727ac71420bb898c66a7f27267c": {
      "model_module": "@jupyter-widgets/controls",
      "model_module_version": "1.4.0",
      "model_name": "SliderStyleModel",
      "state": {
       "description_width": ""
      }
     },
     "4fa1071924aa4e9485fb923cca891d52": {
      "model_module": "@jupyter-widgets/base",
      "model_module_version": "1.1.0",
      "model_name": "LayoutModel",
      "state": {}
     },
     "5352884b513346f0949f5458c65657d9": {
      "model_module": "@jupyter-widgets/controls",
      "model_module_version": "1.4.0",
      "model_name": "SliderStyleModel",
      "state": {
       "description_width": ""
      }
     },
     "560399e9b391478fa061983e1d8d3b82": {
      "model_module": "@jupyter-widgets/output",
      "model_module_version": "1.0.0",
      "model_name": "OutputModel",
      "state": {
       "layout": "IPY_MODEL_f2eb0e615d014731809deefe7a97773d",
       "outputs": [
        {
         "name": "stdout",
         "output_type": "stream",
         "text": "probability of wait: 0.09606318958311352\n"
        }
       ]
      }
     },
     "5615655e6c2746c78c76cd6aaa2bc553": {
      "model_module": "@jupyter-widgets/base",
      "model_module_version": "1.1.0",
      "model_name": "LayoutModel",
      "state": {}
     },
     "5dd9381c4be44543abf49121c5a97e0f": {
      "model_module": "@jupyter-widgets/controls",
      "model_module_version": "1.4.0",
      "model_name": "VBoxModel",
      "state": {
       "_dom_classes": [
        "widget-interact"
       ],
       "children": [
        "IPY_MODEL_6fbee3f2fd1b4b278fadb9d6126ed2ed",
        "IPY_MODEL_e586e793e26e4b5db23adf4a361f84b3"
       ],
       "layout": "IPY_MODEL_d1420b7b208e402493e1006cce206c64"
      }
     },
     "63b0be43ef714383a568ccc13d16e0c4": {
      "model_module": "@jupyter-widgets/output",
      "model_module_version": "1.0.0",
      "model_name": "OutputModel",
      "state": {
       "layout": "IPY_MODEL_16d9d05d515d40ecbb91d29e94acd53e",
       "outputs": [
        {
         "data": {
          "text/plain": "'probability of wait: 0.760641818713767'"
         },
         "metadata": {},
         "output_type": "display_data"
        }
       ]
      }
     },
     "65aea791d4164bdba56d4263af142b04": {
      "model_module": "@jupyter-widgets/controls",
      "model_module_version": "1.4.0",
      "model_name": "VBoxModel",
      "state": {
       "_dom_classes": [
        "widget-interact"
       ],
       "children": [
        "IPY_MODEL_f31d3d496f894c2b8b43394c2859a26f",
        "IPY_MODEL_4a4af6a872a14d95bb37b94d92c07d1d"
       ],
       "layout": "IPY_MODEL_23dc78675ace41e3ad29784ef7fbd177"
      }
     },
     "68135ba41c8e4a9dacf66cf05874908f": {
      "model_module": "@jupyter-widgets/base",
      "model_module_version": "1.1.0",
      "model_name": "LayoutModel",
      "state": {}
     },
     "6dee0310bac742f99cf749772287efea": {
      "model_module": "@jupyter-widgets/base",
      "model_module_version": "1.1.0",
      "model_name": "LayoutModel",
      "state": {}
     },
     "6ec26764523242f7b95a8f486b93ca14": {
      "model_module": "@jupyter-widgets/base",
      "model_module_version": "1.1.0",
      "model_name": "LayoutModel",
      "state": {}
     },
     "6fbee3f2fd1b4b278fadb9d6126ed2ed": {
      "model_module": "@jupyter-widgets/controls",
      "model_module_version": "1.4.0",
      "model_name": "IntSliderModel",
      "state": {
       "description": "staffing level",
       "layout": "IPY_MODEL_b058da70010445ff9d2c28affb4ab44a",
       "max": 60,
       "min": 21,
       "style": "IPY_MODEL_fcf390784daa4cb4a3ee066538830acc",
       "value": 22
      }
     },
     "71e871a444994e85a4b708f7ea62c066": {
      "model_module": "@jupyter-widgets/controls",
      "model_module_version": "1.4.0",
      "model_name": "VBoxModel",
      "state": {
       "_dom_classes": [
        "widget-interact"
       ],
       "children": [
        "IPY_MODEL_abe2aec21f284a7baffd6e01d73feefe",
        "IPY_MODEL_951db5b158a7477a8ff90ae60ca13ee8"
       ],
       "layout": "IPY_MODEL_a82f26af43d24ed490ed32817db1efc4"
      }
     },
     "7499f36ec7384a63842448b233b74c17": {
      "model_module": "@jupyter-widgets/controls",
      "model_module_version": "1.4.0",
      "model_name": "VBoxModel",
      "state": {
       "_dom_classes": [
        "widget-interact"
       ],
       "children": [
        "IPY_MODEL_c8ed366f741c4b018f0e4a65e6448c87",
        "IPY_MODEL_e27a348aacb649c08740f152c1fa98fa"
       ],
       "layout": "IPY_MODEL_3f42cf1e983e45a6a47ee2ca75d3c4f4"
      }
     },
     "793a3e527390442d8cfdb0b520ce8f36": {
      "model_module": "@jupyter-widgets/controls",
      "model_module_version": "1.4.0",
      "model_name": "SliderStyleModel",
      "state": {
       "description_width": ""
      }
     },
     "7ac8e39b0e094f3b857ae35164f161a4": {
      "model_module": "@jupyter-widgets/controls",
      "model_module_version": "1.4.0",
      "model_name": "IntSliderModel",
      "state": {
       "description": "staffing level",
       "layout": "IPY_MODEL_b2e818b2f2ed4773848d2e1f424a3ee2",
       "max": 60,
       "min": 21,
       "style": "IPY_MODEL_e0e68b2290c24522a51ee787993f9d70",
       "value": 27
      }
     },
     "7ae2acf780d24abf8e301ca68782e474": {
      "model_module": "@jupyter-widgets/base",
      "model_module_version": "1.1.0",
      "model_name": "LayoutModel",
      "state": {}
     },
     "7b95cbe6442d4e2c9e731dd20f35a537": {
      "model_module": "@jupyter-widgets/output",
      "model_module_version": "1.0.0",
      "model_name": "OutputModel",
      "state": {
       "layout": "IPY_MODEL_d7f925f8d28d4601b478718a94d08954",
       "outputs": [
        {
         "name": "stdout",
         "output_type": "stream",
         "text": "probability of wait: 0.09606318958311352\n"
        }
       ]
      }
     },
     "7cf1bd2238d743d79580c96f51b96b83": {
      "model_module": "@jupyter-widgets/base",
      "model_module_version": "1.1.0",
      "model_name": "LayoutModel",
      "state": {}
     },
     "8ed9119b495f46158c97c51e2c546678": {
      "model_module": "@jupyter-widgets/output",
      "model_module_version": "1.0.0",
      "model_name": "OutputModel",
      "state": {
       "layout": "IPY_MODEL_c4655ee87ecf4f0089399f83fbaaf34d",
       "outputs": [
        {
         "name": "stdout",
         "output_type": "stream",
         "text": "probability of wait: 0.0008566719221219626\n"
        }
       ]
      }
     },
     "951db5b158a7477a8ff90ae60ca13ee8": {
      "model_module": "@jupyter-widgets/output",
      "model_module_version": "1.0.0",
      "model_name": "OutputModel",
      "state": {
       "layout": "IPY_MODEL_ac27f92cbcd34c10ac581ea27e859d41",
       "outputs": [
        {
         "name": "stdout",
         "output_type": "stream",
         "text": "probability of wait: 0.20910282659883667\n"
        }
       ]
      }
     },
     "9f8c03e55f804347a1bbab0662f68400": {
      "model_module": "@jupyter-widgets/controls",
      "model_module_version": "1.4.0",
      "model_name": "VBoxModel",
      "state": {
       "_dom_classes": [
        "widget-interact"
       ],
       "children": [
        "IPY_MODEL_c7f4c67b7bd14e52ac0f7adcfc77b987",
        "IPY_MODEL_eb3932eae08d49b8a403868d60ab8c7e"
       ],
       "layout": "IPY_MODEL_b49e5d4c6c294f9fb169ec517c3e5ce3"
      }
     },
     "a82f26af43d24ed490ed32817db1efc4": {
      "model_module": "@jupyter-widgets/base",
      "model_module_version": "1.1.0",
      "model_name": "LayoutModel",
      "state": {}
     },
     "a857edf355264762bd6cbba2682cfac9": {
      "model_module": "@jupyter-widgets/controls",
      "model_module_version": "1.4.0",
      "model_name": "SliderStyleModel",
      "state": {
       "description_width": ""
      }
     },
     "a91eb636b8a84312a8e53092a5e1f20e": {
      "model_module": "@jupyter-widgets/controls",
      "model_module_version": "1.4.0",
      "model_name": "SliderStyleModel",
      "state": {
       "description_width": ""
      }
     },
     "abe2aec21f284a7baffd6e01d73feefe": {
      "model_module": "@jupyter-widgets/controls",
      "model_module_version": "1.4.0",
      "model_name": "IntSliderModel",
      "state": {
       "description": "staffing level",
       "layout": "IPY_MODEL_1eb54fdb2a134557a4056adb7a33cded",
       "max": 200,
       "min": 20,
       "style": "IPY_MODEL_0b0a5e08d3f34eb58ecf75cecdd57299",
       "value": 25
      }
     },
     "ac27f92cbcd34c10ac581ea27e859d41": {
      "model_module": "@jupyter-widgets/base",
      "model_module_version": "1.1.0",
      "model_name": "LayoutModel",
      "state": {}
     },
     "b058da70010445ff9d2c28affb4ab44a": {
      "model_module": "@jupyter-widgets/base",
      "model_module_version": "1.1.0",
      "model_name": "LayoutModel",
      "state": {}
     },
     "b2e818b2f2ed4773848d2e1f424a3ee2": {
      "model_module": "@jupyter-widgets/base",
      "model_module_version": "1.1.0",
      "model_name": "LayoutModel",
      "state": {}
     },
     "b49e5d4c6c294f9fb169ec517c3e5ce3": {
      "model_module": "@jupyter-widgets/base",
      "model_module_version": "1.1.0",
      "model_name": "LayoutModel",
      "state": {}
     },
     "bbb3ef43256f45969a4cdf8c6a1a2c34": {
      "model_module": "@jupyter-widgets/base",
      "model_module_version": "1.1.0",
      "model_name": "LayoutModel",
      "state": {}
     },
     "c4655ee87ecf4f0089399f83fbaaf34d": {
      "model_module": "@jupyter-widgets/base",
      "model_module_version": "1.1.0",
      "model_name": "LayoutModel",
      "state": {}
     },
     "c7f4c67b7bd14e52ac0f7adcfc77b987": {
      "model_module": "@jupyter-widgets/controls",
      "model_module_version": "1.4.0",
      "model_name": "IntSliderModel",
      "state": {
       "description": "staffing level",
       "layout": "IPY_MODEL_305c5a0501f7436c8ccec8f198a5808b",
       "max": 60,
       "min": 21,
       "style": "IPY_MODEL_a91eb636b8a84312a8e53092a5e1f20e",
       "value": 27
      }
     },
     "c8ed366f741c4b018f0e4a65e6448c87": {
      "model_module": "@jupyter-widgets/controls",
      "model_module_version": "1.4.0",
      "model_name": "IntSliderModel",
      "state": {
       "description": "staffing level",
       "layout": "IPY_MODEL_47eac71deacc4acaaa29ebd2a83e00ca",
       "max": 60,
       "min": 21,
       "style": "IPY_MODEL_793a3e527390442d8cfdb0b520ce8f36",
       "value": 27
      }
     },
     "cce46e3db8de4126a18cb0e623a6d798": {
      "model_module": "@jupyter-widgets/controls",
      "model_module_version": "1.4.0",
      "model_name": "VBoxModel",
      "state": {
       "_dom_classes": [
        "widget-interact"
       ],
       "children": [
        "IPY_MODEL_2635a6f11c5747cf8bb189c1d24a3a05",
        "IPY_MODEL_8ed9119b495f46158c97c51e2c546678"
       ],
       "layout": "IPY_MODEL_4fa1071924aa4e9485fb923cca891d52"
      }
     },
     "ce72ee832d4c49e8b09fdac9b424b7fd": {
      "model_module": "@jupyter-widgets/controls",
      "model_module_version": "1.4.0",
      "model_name": "IntSliderModel",
      "state": {
       "description": "staffing level",
       "layout": "IPY_MODEL_e1bf478ecf1d49b29bb6842bf9408c1f",
       "max": 200,
       "min": 20,
       "style": "IPY_MODEL_4b6ae727ac71420bb898c66a7f27267c",
       "value": 20
      }
     },
     "d1420b7b208e402493e1006cce206c64": {
      "model_module": "@jupyter-widgets/base",
      "model_module_version": "1.1.0",
      "model_name": "LayoutModel",
      "state": {}
     },
     "d23fe8e1250248229e38a569ece1d44a": {
      "model_module": "@jupyter-widgets/controls",
      "model_module_version": "1.4.0",
      "model_name": "SliderStyleModel",
      "state": {
       "description_width": ""
      }
     },
     "d7f925f8d28d4601b478718a94d08954": {
      "model_module": "@jupyter-widgets/base",
      "model_module_version": "1.1.0",
      "model_name": "LayoutModel",
      "state": {}
     },
     "dea6208ba845450588ff5f28cb28a527": {
      "model_module": "@jupyter-widgets/controls",
      "model_module_version": "1.4.0",
      "model_name": "VBoxModel",
      "state": {
       "_dom_classes": [
        "widget-interact"
       ],
       "children": [
        "IPY_MODEL_0fe975a6e96d4a068ae96e8b4d5742bd",
        "IPY_MODEL_560399e9b391478fa061983e1d8d3b82"
       ],
       "layout": "IPY_MODEL_68135ba41c8e4a9dacf66cf05874908f"
      }
     },
     "e0e68b2290c24522a51ee787993f9d70": {
      "model_module": "@jupyter-widgets/controls",
      "model_module_version": "1.4.0",
      "model_name": "SliderStyleModel",
      "state": {
       "description_width": ""
      }
     },
     "e1bf478ecf1d49b29bb6842bf9408c1f": {
      "model_module": "@jupyter-widgets/base",
      "model_module_version": "1.1.0",
      "model_name": "LayoutModel",
      "state": {}
     },
     "e1fb7b0a69054c89af8ca183b5169afc": {
      "model_module": "@jupyter-widgets/base",
      "model_module_version": "1.1.0",
      "model_name": "LayoutModel",
      "state": {}
     },
     "e27a348aacb649c08740f152c1fa98fa": {
      "model_module": "@jupyter-widgets/output",
      "model_module_version": "1.0.0",
      "model_name": "OutputModel",
      "state": {
       "layout": "IPY_MODEL_e1fb7b0a69054c89af8ca183b5169afc",
       "outputs": [
        {
         "name": "stdout",
         "output_type": "stream",
         "text": "probability of wait: 0.09606318958311352\n"
        }
       ]
      }
     },
     "e586e793e26e4b5db23adf4a361f84b3": {
      "model_module": "@jupyter-widgets/output",
      "model_module_version": "1.0.0",
      "model_name": "OutputModel",
      "state": {
       "layout": "IPY_MODEL_fdac112183d341b4b722348df13cd59e",
       "outputs": [
        {
         "name": "stdout",
         "output_type": "stream",
         "text": "probability of wait: 0.567915162158711\n"
        }
       ]
      }
     },
     "eb3932eae08d49b8a403868d60ab8c7e": {
      "model_module": "@jupyter-widgets/output",
      "model_module_version": "1.0.0",
      "model_name": "OutputModel",
      "state": {
       "layout": "IPY_MODEL_5615655e6c2746c78c76cd6aaa2bc553",
       "outputs": [
        {
         "name": "stdout",
         "output_type": "stream",
         "text": "probability of wait: 0.09606318958311352\n"
        }
       ]
      }
     },
     "ed7913877c0d4ba88af901e0e0c48fad": {
      "model_module": "@jupyter-widgets/base",
      "model_module_version": "1.1.0",
      "model_name": "LayoutModel",
      "state": {}
     },
     "f0a4d2e4f1004460955bc40ad1308ece": {
      "model_module": "@jupyter-widgets/controls",
      "model_module_version": "1.4.0",
      "model_name": "VBoxModel",
      "state": {
       "_dom_classes": [
        "widget-interact"
       ],
       "children": [
        "IPY_MODEL_fdc469866d5d4112a8827602c7106bb9",
        "IPY_MODEL_63b0be43ef714383a568ccc13d16e0c4"
       ],
       "layout": "IPY_MODEL_f88efd9215474706990219d144ac8812"
      }
     },
     "f2eb0e615d014731809deefe7a97773d": {
      "model_module": "@jupyter-widgets/base",
      "model_module_version": "1.1.0",
      "model_name": "LayoutModel",
      "state": {}
     },
     "f31d3d496f894c2b8b43394c2859a26f": {
      "model_module": "@jupyter-widgets/controls",
      "model_module_version": "1.4.0",
      "model_name": "FloatSliderModel",
      "state": {
       "description": "staffing level",
       "layout": "IPY_MODEL_37582c9c419b416ba404dff6efcd1940",
       "max": 200,
       "min": 20,
       "step": 0.1,
       "style": "IPY_MODEL_a857edf355264762bd6cbba2682cfac9",
       "value": 20
      }
     },
     "f744fc4a36cc42869656a754a30de9ea": {
      "model_module": "@jupyter-widgets/controls",
      "model_module_version": "1.4.0",
      "model_name": "SliderStyleModel",
      "state": {
       "description_width": ""
      }
     },
     "f88efd9215474706990219d144ac8812": {
      "model_module": "@jupyter-widgets/base",
      "model_module_version": "1.1.0",
      "model_name": "LayoutModel",
      "state": {}
     },
     "fa48f28881ab4152b7221d37f923a1b2": {
      "model_module": "@jupyter-widgets/controls",
      "model_module_version": "1.4.0",
      "model_name": "VBoxModel",
      "state": {
       "_dom_classes": [
        "widget-interact"
       ],
       "children": [
        "IPY_MODEL_7ac8e39b0e094f3b857ae35164f161a4",
        "IPY_MODEL_7b95cbe6442d4e2c9e731dd20f35a537"
       ],
       "layout": "IPY_MODEL_6dee0310bac742f99cf749772287efea"
      }
     },
     "fbe320e534e3436e8096711155df1b18": {
      "model_module": "@jupyter-widgets/output",
      "model_module_version": "1.0.0",
      "model_name": "OutputModel",
      "state": {
       "layout": "IPY_MODEL_7cf1bd2238d743d79580c96f51b96b83",
       "outputs": [
        {
         "name": "stdout",
         "output_type": "stream",
         "text": "exact: 1.0\n"
        },
        {
         "name": "stderr",
         "output_type": "stream",
         "text": "/Applications/anaconda3/lib/python3.7/site-packages/ipykernel_launcher.py:12: RuntimeWarning: divide by zero encountered in double_scalars\n  if sys.path[0] == '':\n"
        }
       ]
      }
     },
     "fcf390784daa4cb4a3ee066538830acc": {
      "model_module": "@jupyter-widgets/controls",
      "model_module_version": "1.4.0",
      "model_name": "SliderStyleModel",
      "state": {
       "description_width": ""
      }
     },
     "fdac112183d341b4b722348df13cd59e": {
      "model_module": "@jupyter-widgets/base",
      "model_module_version": "1.1.0",
      "model_name": "LayoutModel",
      "state": {}
     },
     "fdc469866d5d4112a8827602c7106bb9": {
      "model_module": "@jupyter-widgets/controls",
      "model_module_version": "1.4.0",
      "model_name": "IntSliderModel",
      "state": {
       "description": "staffing level",
       "layout": "IPY_MODEL_6ec26764523242f7b95a8f486b93ca14",
       "max": 60,
       "min": 21,
       "style": "IPY_MODEL_f744fc4a36cc42869656a754a30de9ea",
       "value": 21
      }
     }
    },
    "version_major": 2,
    "version_minor": 0
   }
  }
 },
 "nbformat": 4,
 "nbformat_minor": 2
}

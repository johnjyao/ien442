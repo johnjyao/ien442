{
 "cells": [
  {
   "cell_type": "markdown",
   "metadata": {},
   "source": [
    "# The Newsvendor Model - Section 2: Mathematical Analysis\n",
    "\n",
    "In Section 1: Numerical Studies, we used numerical simulation to explore the basic ideas of the Newsvendor Problem -- how your order quantity decision in the face of random demand impacts your sales, revenue, cost and profit for the day.\n",
    "\n",
    "Here, we will repeat the same exploration but using mathematical analysis instead of numerical simulation.  If you need to refresh your memory, re-read the Problem Setting from Section 1.  While everything can be done with only pen and paper, we will use Python to automate some calculating and plotting."
   ]
  },
  {
   "cell_type": "markdown",
   "metadata": {},
   "source": [
    "## Formulas\n",
    "\n",
    "In Section 1, Exercise 1.3, you came up with formulas for how you did for the day:\n",
    "\n",
    "$$\\begin{aligned}\n",
    "    \\text{sales} &= \\text{smaller of order quantity and demand} \\\\\n",
    "    \\text{revenue} &= \\text{retail price} \\times \\text{sales} \\\\\n",
    "    \\text{cost} &= \\text{wholesale cost} \\times \\text{order quantity} \\\\\n",
    "    \\text{profit} &= \\text{revenue} - \\text{cost}\n",
    "  \\end{aligned} $$\n",
    "  \n",
    "We can write this more concisely using our variables $p$, $c$, $y$, and $D$:\n",
    "$$\\begin{aligned}\n",
    "    \\text{sales} &= \\min\\{y, D\\} \\\\\n",
    "    \\text{revenue} &= p \\min\\{y, D\\} \\\\\n",
    "    \\text{cost} &= c y \\\\\n",
    "    \\text{profit} &= p \\min\\{y, D\\} - c y\n",
    "  \\end{aligned} $$\n",
    "\n",
    "In case you are unfamiliar with this notation, $\\min\\{x, y\\}$ is a function that gives the smaller (or minimum) of its two arguments.\n",
    "$$\\min\\{x, y\\} \\overset{\\text{def}}{=} \\begin{cases}\n",
    "    x, &\\text{if } x \\lt y \\\\\n",
    "    y, &\\text{if } x \\geq y\n",
    "  \\end{cases}$$\n",
    "   \n",
    "An analogous function, $\\max\\{x, y\\}$, gives the larger (or maximum) of its two arguments.\n",
    "$$\\max\\{x, y\\} \\overset{\\text{def}}{=} \\begin{cases}\n",
    "    y, &\\text{if } x \\lt y \\\\\n",
    "    x, &\\text{if } x \\geq y\n",
    "  \\end{cases}$$"
   ]
  },
  {
   "cell_type": "markdown",
   "metadata": {},
   "source": [
    "## Setup\n",
    "\n",
    "The following Python code imports the necessary Python packages and specifies the problem parameters for the remainder of this notebook.  You can change the parameters if you'd like and all the code should still work, but their output may be mismatched with the written text."
   ]
  },
  {
   "cell_type": "code",
   "execution_count": 1,
   "metadata": {},
   "outputs": [
    {
     "data": {
      "text/html": [
       "\n",
       "    <div class=\"bk-root\">\n",
       "        <a href=\"https://bokeh.pydata.org\" target=\"_blank\" class=\"bk-logo bk-logo-small bk-logo-notebook\"></a>\n",
       "        <span id=\"1001\">Loading BokehJS ...</span>\n",
       "    </div>"
      ]
     },
     "metadata": {},
     "output_type": "display_data"
    },
    {
     "data": {
      "application/javascript": [
       "\n",
       "(function(root) {\n",
       "  function now() {\n",
       "    return new Date();\n",
       "  }\n",
       "\n",
       "  var force = true;\n",
       "\n",
       "  if (typeof root._bokeh_onload_callbacks === \"undefined\" || force === true) {\n",
       "    root._bokeh_onload_callbacks = [];\n",
       "    root._bokeh_is_loading = undefined;\n",
       "  }\n",
       "\n",
       "  var JS_MIME_TYPE = 'application/javascript';\n",
       "  var HTML_MIME_TYPE = 'text/html';\n",
       "  var EXEC_MIME_TYPE = 'application/vnd.bokehjs_exec.v0+json';\n",
       "  var CLASS_NAME = 'output_bokeh rendered_html';\n",
       "\n",
       "  /**\n",
       "   * Render data to the DOM node\n",
       "   */\n",
       "  function render(props, node) {\n",
       "    var script = document.createElement(\"script\");\n",
       "    node.appendChild(script);\n",
       "  }\n",
       "\n",
       "  /**\n",
       "   * Handle when an output is cleared or removed\n",
       "   */\n",
       "  function handleClearOutput(event, handle) {\n",
       "    var cell = handle.cell;\n",
       "\n",
       "    var id = cell.output_area._bokeh_element_id;\n",
       "    var server_id = cell.output_area._bokeh_server_id;\n",
       "    // Clean up Bokeh references\n",
       "    if (id != null && id in Bokeh.index) {\n",
       "      Bokeh.index[id].model.document.clear();\n",
       "      delete Bokeh.index[id];\n",
       "    }\n",
       "\n",
       "    if (server_id !== undefined) {\n",
       "      // Clean up Bokeh references\n",
       "      var cmd = \"from bokeh.io.state import curstate; print(curstate().uuid_to_server['\" + server_id + \"'].get_sessions()[0].document.roots[0]._id)\";\n",
       "      cell.notebook.kernel.execute(cmd, {\n",
       "        iopub: {\n",
       "          output: function(msg) {\n",
       "            var id = msg.content.text.trim();\n",
       "            if (id in Bokeh.index) {\n",
       "              Bokeh.index[id].model.document.clear();\n",
       "              delete Bokeh.index[id];\n",
       "            }\n",
       "          }\n",
       "        }\n",
       "      });\n",
       "      // Destroy server and session\n",
       "      var cmd = \"import bokeh.io.notebook as ion; ion.destroy_server('\" + server_id + \"')\";\n",
       "      cell.notebook.kernel.execute(cmd);\n",
       "    }\n",
       "  }\n",
       "\n",
       "  /**\n",
       "   * Handle when a new output is added\n",
       "   */\n",
       "  function handleAddOutput(event, handle) {\n",
       "    var output_area = handle.output_area;\n",
       "    var output = handle.output;\n",
       "\n",
       "    // limit handleAddOutput to display_data with EXEC_MIME_TYPE content only\n",
       "    if ((output.output_type != \"display_data\") || (!output.data.hasOwnProperty(EXEC_MIME_TYPE))) {\n",
       "      return\n",
       "    }\n",
       "\n",
       "    var toinsert = output_area.element.find(\".\" + CLASS_NAME.split(' ')[0]);\n",
       "\n",
       "    if (output.metadata[EXEC_MIME_TYPE][\"id\"] !== undefined) {\n",
       "      toinsert[toinsert.length - 1].firstChild.textContent = output.data[JS_MIME_TYPE];\n",
       "      // store reference to embed id on output_area\n",
       "      output_area._bokeh_element_id = output.metadata[EXEC_MIME_TYPE][\"id\"];\n",
       "    }\n",
       "    if (output.metadata[EXEC_MIME_TYPE][\"server_id\"] !== undefined) {\n",
       "      var bk_div = document.createElement(\"div\");\n",
       "      bk_div.innerHTML = output.data[HTML_MIME_TYPE];\n",
       "      var script_attrs = bk_div.children[0].attributes;\n",
       "      for (var i = 0; i < script_attrs.length; i++) {\n",
       "        toinsert[toinsert.length - 1].firstChild.setAttribute(script_attrs[i].name, script_attrs[i].value);\n",
       "      }\n",
       "      // store reference to server id on output_area\n",
       "      output_area._bokeh_server_id = output.metadata[EXEC_MIME_TYPE][\"server_id\"];\n",
       "    }\n",
       "  }\n",
       "\n",
       "  function register_renderer(events, OutputArea) {\n",
       "\n",
       "    function append_mime(data, metadata, element) {\n",
       "      // create a DOM node to render to\n",
       "      var toinsert = this.create_output_subarea(\n",
       "        metadata,\n",
       "        CLASS_NAME,\n",
       "        EXEC_MIME_TYPE\n",
       "      );\n",
       "      this.keyboard_manager.register_events(toinsert);\n",
       "      // Render to node\n",
       "      var props = {data: data, metadata: metadata[EXEC_MIME_TYPE]};\n",
       "      render(props, toinsert[toinsert.length - 1]);\n",
       "      element.append(toinsert);\n",
       "      return toinsert\n",
       "    }\n",
       "\n",
       "    /* Handle when an output is cleared or removed */\n",
       "    events.on('clear_output.CodeCell', handleClearOutput);\n",
       "    events.on('delete.Cell', handleClearOutput);\n",
       "\n",
       "    /* Handle when a new output is added */\n",
       "    events.on('output_added.OutputArea', handleAddOutput);\n",
       "\n",
       "    /**\n",
       "     * Register the mime type and append_mime function with output_area\n",
       "     */\n",
       "    OutputArea.prototype.register_mime_type(EXEC_MIME_TYPE, append_mime, {\n",
       "      /* Is output safe? */\n",
       "      safe: true,\n",
       "      /* Index of renderer in `output_area.display_order` */\n",
       "      index: 0\n",
       "    });\n",
       "  }\n",
       "\n",
       "  // register the mime type if in Jupyter Notebook environment and previously unregistered\n",
       "  if (root.Jupyter !== undefined) {\n",
       "    var events = require('base/js/events');\n",
       "    var OutputArea = require('notebook/js/outputarea').OutputArea;\n",
       "\n",
       "    if (OutputArea.prototype.mime_types().indexOf(EXEC_MIME_TYPE) == -1) {\n",
       "      register_renderer(events, OutputArea);\n",
       "    }\n",
       "  }\n",
       "\n",
       "  \n",
       "  if (typeof (root._bokeh_timeout) === \"undefined\" || force === true) {\n",
       "    root._bokeh_timeout = Date.now() + 5000;\n",
       "    root._bokeh_failed_load = false;\n",
       "  }\n",
       "\n",
       "  var NB_LOAD_WARNING = {'data': {'text/html':\n",
       "     \"<div style='background-color: #fdd'>\\n\"+\n",
       "     \"<p>\\n\"+\n",
       "     \"BokehJS does not appear to have successfully loaded. If loading BokehJS from CDN, this \\n\"+\n",
       "     \"may be due to a slow or bad network connection. Possible fixes:\\n\"+\n",
       "     \"</p>\\n\"+\n",
       "     \"<ul>\\n\"+\n",
       "     \"<li>re-rerun `output_notebook()` to attempt to load from CDN again, or</li>\\n\"+\n",
       "     \"<li>use INLINE resources instead, as so:</li>\\n\"+\n",
       "     \"</ul>\\n\"+\n",
       "     \"<code>\\n\"+\n",
       "     \"from bokeh.resources import INLINE\\n\"+\n",
       "     \"output_notebook(resources=INLINE)\\n\"+\n",
       "     \"</code>\\n\"+\n",
       "     \"</div>\"}};\n",
       "\n",
       "  function display_loaded() {\n",
       "    var el = document.getElementById(\"1001\");\n",
       "    if (el != null) {\n",
       "      el.textContent = \"BokehJS is loading...\";\n",
       "    }\n",
       "    if (root.Bokeh !== undefined) {\n",
       "      if (el != null) {\n",
       "        el.textContent = \"BokehJS \" + root.Bokeh.version + \" successfully loaded.\";\n",
       "      }\n",
       "    } else if (Date.now() < root._bokeh_timeout) {\n",
       "      setTimeout(display_loaded, 100)\n",
       "    }\n",
       "  }\n",
       "\n",
       "\n",
       "  function run_callbacks() {\n",
       "    try {\n",
       "      root._bokeh_onload_callbacks.forEach(function(callback) {\n",
       "        if (callback != null)\n",
       "          callback();\n",
       "      });\n",
       "    } finally {\n",
       "      delete root._bokeh_onload_callbacks\n",
       "    }\n",
       "    console.debug(\"Bokeh: all callbacks have finished\");\n",
       "  }\n",
       "\n",
       "  function load_libs(css_urls, js_urls, callback) {\n",
       "    if (css_urls == null) css_urls = [];\n",
       "    if (js_urls == null) js_urls = [];\n",
       "\n",
       "    root._bokeh_onload_callbacks.push(callback);\n",
       "    if (root._bokeh_is_loading > 0) {\n",
       "      console.debug(\"Bokeh: BokehJS is being loaded, scheduling callback at\", now());\n",
       "      return null;\n",
       "    }\n",
       "    if (js_urls == null || js_urls.length === 0) {\n",
       "      run_callbacks();\n",
       "      return null;\n",
       "    }\n",
       "    console.debug(\"Bokeh: BokehJS not loaded, scheduling load and callback at\", now());\n",
       "    root._bokeh_is_loading = css_urls.length + js_urls.length;\n",
       "\n",
       "    function on_load() {\n",
       "      root._bokeh_is_loading--;\n",
       "      if (root._bokeh_is_loading === 0) {\n",
       "        console.debug(\"Bokeh: all BokehJS libraries/stylesheets loaded\");\n",
       "        run_callbacks()\n",
       "      }\n",
       "    }\n",
       "\n",
       "    function on_error() {\n",
       "      console.error(\"failed to load \" + url);\n",
       "    }\n",
       "\n",
       "    for (var i = 0; i < css_urls.length; i++) {\n",
       "      var url = css_urls[i];\n",
       "      const element = document.createElement(\"link\");\n",
       "      element.onload = on_load;\n",
       "      element.onerror = on_error;\n",
       "      element.rel = \"stylesheet\";\n",
       "      element.type = \"text/css\";\n",
       "      element.href = url;\n",
       "      console.debug(\"Bokeh: injecting link tag for BokehJS stylesheet: \", url);\n",
       "      document.body.appendChild(element);\n",
       "    }\n",
       "\n",
       "    for (var i = 0; i < js_urls.length; i++) {\n",
       "      var url = js_urls[i];\n",
       "      var element = document.createElement('script');\n",
       "      element.onload = on_load;\n",
       "      element.onerror = on_error;\n",
       "      element.async = false;\n",
       "      element.src = url;\n",
       "      console.debug(\"Bokeh: injecting script tag for BokehJS library: \", url);\n",
       "      document.head.appendChild(element);\n",
       "    }\n",
       "  };var element = document.getElementById(\"1001\");\n",
       "  if (element == null) {\n",
       "    console.error(\"Bokeh: ERROR: autoload.js configured with elementid '1001' but no matching script tag was found. \")\n",
       "    return false;\n",
       "  }\n",
       "\n",
       "  function inject_raw_css(css) {\n",
       "    const element = document.createElement(\"style\");\n",
       "    element.appendChild(document.createTextNode(css));\n",
       "    document.body.appendChild(element);\n",
       "  }\n",
       "\n",
       "  var js_urls = [\"https://cdn.pydata.org/bokeh/release/bokeh-1.3.4.min.js\", \"https://cdn.pydata.org/bokeh/release/bokeh-widgets-1.3.4.min.js\", \"https://cdn.pydata.org/bokeh/release/bokeh-tables-1.3.4.min.js\", \"https://cdn.pydata.org/bokeh/release/bokeh-gl-1.3.4.min.js\"];\n",
       "  var css_urls = [];\n",
       "\n",
       "  var inline_js = [\n",
       "    function(Bokeh) {\n",
       "      Bokeh.set_log_level(\"info\");\n",
       "    },\n",
       "    \n",
       "    function(Bokeh) {\n",
       "      \n",
       "    },\n",
       "    function(Bokeh) {} // ensure no trailing comma for IE\n",
       "  ];\n",
       "\n",
       "  function run_inline_js() {\n",
       "    \n",
       "    if ((root.Bokeh !== undefined) || (force === true)) {\n",
       "      for (var i = 0; i < inline_js.length; i++) {\n",
       "        inline_js[i].call(root, root.Bokeh);\n",
       "      }if (force === true) {\n",
       "        display_loaded();\n",
       "      }} else if (Date.now() < root._bokeh_timeout) {\n",
       "      setTimeout(run_inline_js, 100);\n",
       "    } else if (!root._bokeh_failed_load) {\n",
       "      console.log(\"Bokeh: BokehJS failed to load within specified timeout.\");\n",
       "      root._bokeh_failed_load = true;\n",
       "    } else if (force !== true) {\n",
       "      var cell = $(document.getElementById(\"1001\")).parents('.cell').data().cell;\n",
       "      cell.output_area.append_execute_result(NB_LOAD_WARNING)\n",
       "    }\n",
       "\n",
       "  }\n",
       "\n",
       "  if (root._bokeh_is_loading === 0) {\n",
       "    console.debug(\"Bokeh: BokehJS loaded, going straight to plotting\");\n",
       "    run_inline_js();\n",
       "  } else {\n",
       "    load_libs(css_urls, js_urls, function() {\n",
       "      console.debug(\"Bokeh: BokehJS plotting callback run at\", now());\n",
       "      run_inline_js();\n",
       "    });\n",
       "  }\n",
       "}(window));"
      ],
      "application/vnd.bokehjs_load.v0+json": "\n(function(root) {\n  function now() {\n    return new Date();\n  }\n\n  var force = true;\n\n  if (typeof root._bokeh_onload_callbacks === \"undefined\" || force === true) {\n    root._bokeh_onload_callbacks = [];\n    root._bokeh_is_loading = undefined;\n  }\n\n  \n\n  \n  if (typeof (root._bokeh_timeout) === \"undefined\" || force === true) {\n    root._bokeh_timeout = Date.now() + 5000;\n    root._bokeh_failed_load = false;\n  }\n\n  var NB_LOAD_WARNING = {'data': {'text/html':\n     \"<div style='background-color: #fdd'>\\n\"+\n     \"<p>\\n\"+\n     \"BokehJS does not appear to have successfully loaded. If loading BokehJS from CDN, this \\n\"+\n     \"may be due to a slow or bad network connection. Possible fixes:\\n\"+\n     \"</p>\\n\"+\n     \"<ul>\\n\"+\n     \"<li>re-rerun `output_notebook()` to attempt to load from CDN again, or</li>\\n\"+\n     \"<li>use INLINE resources instead, as so:</li>\\n\"+\n     \"</ul>\\n\"+\n     \"<code>\\n\"+\n     \"from bokeh.resources import INLINE\\n\"+\n     \"output_notebook(resources=INLINE)\\n\"+\n     \"</code>\\n\"+\n     \"</div>\"}};\n\n  function display_loaded() {\n    var el = document.getElementById(\"1001\");\n    if (el != null) {\n      el.textContent = \"BokehJS is loading...\";\n    }\n    if (root.Bokeh !== undefined) {\n      if (el != null) {\n        el.textContent = \"BokehJS \" + root.Bokeh.version + \" successfully loaded.\";\n      }\n    } else if (Date.now() < root._bokeh_timeout) {\n      setTimeout(display_loaded, 100)\n    }\n  }\n\n\n  function run_callbacks() {\n    try {\n      root._bokeh_onload_callbacks.forEach(function(callback) {\n        if (callback != null)\n          callback();\n      });\n    } finally {\n      delete root._bokeh_onload_callbacks\n    }\n    console.debug(\"Bokeh: all callbacks have finished\");\n  }\n\n  function load_libs(css_urls, js_urls, callback) {\n    if (css_urls == null) css_urls = [];\n    if (js_urls == null) js_urls = [];\n\n    root._bokeh_onload_callbacks.push(callback);\n    if (root._bokeh_is_loading > 0) {\n      console.debug(\"Bokeh: BokehJS is being loaded, scheduling callback at\", now());\n      return null;\n    }\n    if (js_urls == null || js_urls.length === 0) {\n      run_callbacks();\n      return null;\n    }\n    console.debug(\"Bokeh: BokehJS not loaded, scheduling load and callback at\", now());\n    root._bokeh_is_loading = css_urls.length + js_urls.length;\n\n    function on_load() {\n      root._bokeh_is_loading--;\n      if (root._bokeh_is_loading === 0) {\n        console.debug(\"Bokeh: all BokehJS libraries/stylesheets loaded\");\n        run_callbacks()\n      }\n    }\n\n    function on_error() {\n      console.error(\"failed to load \" + url);\n    }\n\n    for (var i = 0; i < css_urls.length; i++) {\n      var url = css_urls[i];\n      const element = document.createElement(\"link\");\n      element.onload = on_load;\n      element.onerror = on_error;\n      element.rel = \"stylesheet\";\n      element.type = \"text/css\";\n      element.href = url;\n      console.debug(\"Bokeh: injecting link tag for BokehJS stylesheet: \", url);\n      document.body.appendChild(element);\n    }\n\n    for (var i = 0; i < js_urls.length; i++) {\n      var url = js_urls[i];\n      var element = document.createElement('script');\n      element.onload = on_load;\n      element.onerror = on_error;\n      element.async = false;\n      element.src = url;\n      console.debug(\"Bokeh: injecting script tag for BokehJS library: \", url);\n      document.head.appendChild(element);\n    }\n  };var element = document.getElementById(\"1001\");\n  if (element == null) {\n    console.error(\"Bokeh: ERROR: autoload.js configured with elementid '1001' but no matching script tag was found. \")\n    return false;\n  }\n\n  function inject_raw_css(css) {\n    const element = document.createElement(\"style\");\n    element.appendChild(document.createTextNode(css));\n    document.body.appendChild(element);\n  }\n\n  var js_urls = [\"https://cdn.pydata.org/bokeh/release/bokeh-1.3.4.min.js\", \"https://cdn.pydata.org/bokeh/release/bokeh-widgets-1.3.4.min.js\", \"https://cdn.pydata.org/bokeh/release/bokeh-tables-1.3.4.min.js\", \"https://cdn.pydata.org/bokeh/release/bokeh-gl-1.3.4.min.js\"];\n  var css_urls = [];\n\n  var inline_js = [\n    function(Bokeh) {\n      Bokeh.set_log_level(\"info\");\n    },\n    \n    function(Bokeh) {\n      \n    },\n    function(Bokeh) {} // ensure no trailing comma for IE\n  ];\n\n  function run_inline_js() {\n    \n    if ((root.Bokeh !== undefined) || (force === true)) {\n      for (var i = 0; i < inline_js.length; i++) {\n        inline_js[i].call(root, root.Bokeh);\n      }if (force === true) {\n        display_loaded();\n      }} else if (Date.now() < root._bokeh_timeout) {\n      setTimeout(run_inline_js, 100);\n    } else if (!root._bokeh_failed_load) {\n      console.log(\"Bokeh: BokehJS failed to load within specified timeout.\");\n      root._bokeh_failed_load = true;\n    } else if (force !== true) {\n      var cell = $(document.getElementById(\"1001\")).parents('.cell').data().cell;\n      cell.output_area.append_execute_result(NB_LOAD_WARNING)\n    }\n\n  }\n\n  if (root._bokeh_is_loading === 0) {\n    console.debug(\"Bokeh: BokehJS loaded, going straight to plotting\");\n    run_inline_js();\n  } else {\n    load_libs(css_urls, js_urls, function() {\n      console.debug(\"Bokeh: BokehJS plotting callback run at\", now());\n      run_inline_js();\n    });\n  }\n}(window));"
     },
     "metadata": {},
     "output_type": "display_data"
    }
   ],
   "source": [
    "# Import Python packages\n",
    "import numpy as np\n",
    "\n",
    "import newsvendor\n",
    "import news_plot\n",
    "\n",
    "news = newsvendor.Newsvendor()"
   ]
  },
  {
   "cell_type": "markdown",
   "metadata": {},
   "source": [
    "## Visualizing Relationships\n",
    "\n",
    "Since we have algebraic formulas for sales, revenue, cost, and profit, we can plot them as a function of demand.  This is analogous to the scatter plots made from simulated data in Section 1."
   ]
  },
  {
   "cell_type": "code",
   "execution_count": 2,
   "metadata": {
    "scrolled": false
   },
   "outputs": [
    {
     "data": {
      "application/vnd.jupyter.widget-view+json": {
       "model_id": "b6fac131b55d40d79052e034ba59062d",
       "version_major": 2,
       "version_minor": 0
      },
      "text/plain": [
       "interactive(children=(IntSlider(value=15, description='Order Qty', max=19), Output()), _dom_classes=('widget-i…"
      ]
     },
     "metadata": {},
     "output_type": "display_data"
    },
    {
     "data": {
      "text/html": [
       "\n",
       "\n",
       "\n",
       "\n",
       "\n",
       "\n",
       "  <div class=\"bk-root\" id=\"d7b689cf-cd9b-4852-9f8f-f0de7abaf198\" data-root-id=\"1213\"></div>\n"
      ]
     },
     "metadata": {},
     "output_type": "display_data"
    },
    {
     "data": {
      "application/javascript": [
       "(function(root) {\n",
       "  function embed_document(root) {\n",
       "    \n",
       "  var docs_json = {\"2d67093a-ac71-4f53-9c46-02785a61a4ad\":{\"roots\":{\"references\":[{\"attributes\":{\"children\":[{\"id\":\"1212\",\"type\":\"ToolbarBox\"},{\"id\":\"1210\",\"type\":\"GridBox\"}]},\"id\":\"1213\",\"type\":\"Column\"},{\"attributes\":{\"dimension\":1,\"ticker\":{\"id\":\"1049\",\"type\":\"BasicTicker\"}},\"id\":\"1052\",\"type\":\"Grid\"},{\"attributes\":{},\"id\":\"1071\",\"type\":\"LinearScale\"},{\"attributes\":{},\"id\":\"1185\",\"type\":\"BasicTickFormatter\"},{\"attributes\":{\"callback\":null},\"id\":\"1067\",\"type\":\"DataRange1d\"},{\"attributes\":{\"callback\":null},\"id\":\"1069\",\"type\":\"DataRange1d\"},{\"attributes\":{\"active_drag\":\"auto\",\"active_inspect\":\"auto\",\"active_multi\":null,\"active_scroll\":\"auto\",\"active_tap\":\"auto\",\"tools\":[{\"id\":\"1053\",\"type\":\"PanTool\"},{\"id\":\"1054\",\"type\":\"WheelZoomTool\"},{\"id\":\"1055\",\"type\":\"BoxZoomTool\"},{\"id\":\"1056\",\"type\":\"SaveTool\"},{\"id\":\"1057\",\"type\":\"ResetTool\"},{\"id\":\"1058\",\"type\":\"HelpTool\"}]},\"id\":\"1059\",\"type\":\"Toolbar\"},{\"attributes\":{},\"id\":\"1053\",\"type\":\"PanTool\"},{\"attributes\":{},\"id\":\"1054\",\"type\":\"WheelZoomTool\"},{\"attributes\":{\"overlay\":{\"id\":\"1186\",\"type\":\"BoxAnnotation\"}},\"id\":\"1055\",\"type\":\"BoxZoomTool\"},{\"attributes\":{\"line_color\":\"blue\",\"line_width\":2,\"x\":{\"field\":\"x\"},\"y\":{\"field\":\"y\"}},\"id\":\"1133\",\"type\":\"Line\"},{\"attributes\":{},\"id\":\"1056\",\"type\":\"SaveTool\"},{\"attributes\":{},\"id\":\"1057\",\"type\":\"ResetTool\"},{\"attributes\":{},\"id\":\"1058\",\"type\":\"HelpTool\"},{\"attributes\":{\"tools\":[{\"id\":\"1021\",\"type\":\"PanTool\"},{\"id\":\"1022\",\"type\":\"WheelZoomTool\"},{\"id\":\"1023\",\"type\":\"BoxZoomTool\"},{\"id\":\"1024\",\"type\":\"SaveTool\"},{\"id\":\"1025\",\"type\":\"ResetTool\"},{\"id\":\"1026\",\"type\":\"HelpTool\"},{\"id\":\"1053\",\"type\":\"PanTool\"},{\"id\":\"1054\",\"type\":\"WheelZoomTool\"},{\"id\":\"1055\",\"type\":\"BoxZoomTool\"},{\"id\":\"1056\",\"type\":\"SaveTool\"},{\"id\":\"1057\",\"type\":\"ResetTool\"},{\"id\":\"1058\",\"type\":\"HelpTool\"},{\"id\":\"1085\",\"type\":\"PanTool\"},{\"id\":\"1086\",\"type\":\"WheelZoomTool\"},{\"id\":\"1087\",\"type\":\"BoxZoomTool\"},{\"id\":\"1088\",\"type\":\"SaveTool\"},{\"id\":\"1089\",\"type\":\"ResetTool\"},{\"id\":\"1090\",\"type\":\"HelpTool\"},{\"id\":\"1117\",\"type\":\"PanTool\"},{\"id\":\"1118\",\"type\":\"WheelZoomTool\"},{\"id\":\"1119\",\"type\":\"BoxZoomTool\"},{\"id\":\"1120\",\"type\":\"SaveTool\"},{\"id\":\"1121\",\"type\":\"ResetTool\"},{\"id\":\"1122\",\"type\":\"HelpTool\"}]},\"id\":\"1211\",\"type\":\"ProxyToolbar\"},{\"attributes\":{\"text\":\"sales\"},\"id\":\"1146\",\"type\":\"Title\"},{\"attributes\":{},\"id\":\"1073\",\"type\":\"LinearScale\"},{\"attributes\":{\"axis_label\":\"demand\",\"formatter\":{\"id\":\"1193\",\"type\":\"BasicTickFormatter\"},\"ticker\":{\"id\":\"1076\",\"type\":\"BasicTicker\"}},\"id\":\"1075\",\"type\":\"LinearAxis\"},{\"attributes\":{},\"id\":\"1081\",\"type\":\"BasicTicker\"},{\"attributes\":{\"bottom_units\":\"screen\",\"fill_alpha\":{\"value\":0.5},\"fill_color\":{\"value\":\"lightgrey\"},\"left_units\":\"screen\",\"level\":\"overlay\",\"line_alpha\":{\"value\":1.0},\"line_color\":{\"value\":\"black\"},\"line_dash\":[4,4],\"line_width\":{\"value\":2},\"render_mode\":\"css\",\"right_units\":\"screen\",\"top_units\":\"screen\"},\"id\":\"1206\",\"type\":\"BoxAnnotation\"},{\"attributes\":{},\"id\":\"1076\",\"type\":\"BasicTicker\"},{\"attributes\":{\"ticker\":{\"id\":\"1076\",\"type\":\"BasicTicker\"}},\"id\":\"1079\",\"type\":\"Grid\"},{\"attributes\":{\"callback\":null},\"id\":\"1101\",\"type\":\"DataRange1d\"},{\"attributes\":{\"dimension\":1,\"ticker\":{\"id\":\"1081\",\"type\":\"BasicTicker\"}},\"id\":\"1084\",\"type\":\"Grid\"},{\"attributes\":{},\"id\":\"1198\",\"type\":\"Selection\"},{\"attributes\":{\"axis_label\":\"cost\",\"formatter\":{\"id\":\"1195\",\"type\":\"BasicTickFormatter\"},\"ticker\":{\"id\":\"1081\",\"type\":\"BasicTicker\"}},\"id\":\"1080\",\"type\":\"LinearAxis\"},{\"attributes\":{\"callback\":null},\"id\":\"1099\",\"type\":\"DataRange1d\"},{\"attributes\":{},\"id\":\"1208\",\"type\":\"Selection\"},{\"attributes\":{},\"id\":\"1207\",\"type\":\"UnionRenderers\"},{\"attributes\":{},\"id\":\"1195\",\"type\":\"BasicTickFormatter\"},{\"attributes\":{\"active_drag\":\"auto\",\"active_inspect\":\"auto\",\"active_multi\":null,\"active_scroll\":\"auto\",\"active_tap\":\"auto\",\"tools\":[{\"id\":\"1085\",\"type\":\"PanTool\"},{\"id\":\"1086\",\"type\":\"WheelZoomTool\"},{\"id\":\"1087\",\"type\":\"BoxZoomTool\"},{\"id\":\"1088\",\"type\":\"SaveTool\"},{\"id\":\"1089\",\"type\":\"ResetTool\"},{\"id\":\"1090\",\"type\":\"HelpTool\"}]},\"id\":\"1091\",\"type\":\"Toolbar\"},{\"attributes\":{\"below\":[{\"id\":\"1107\",\"type\":\"LinearAxis\"}],\"center\":[{\"id\":\"1111\",\"type\":\"Grid\"},{\"id\":\"1116\",\"type\":\"Grid\"}],\"left\":[{\"id\":\"1112\",\"type\":\"LinearAxis\"}],\"plot_height\":350,\"plot_width\":350,\"renderers\":[{\"id\":\"1153\",\"type\":\"GlyphRenderer\"}],\"title\":{\"id\":\"1155\",\"type\":\"Title\"},\"toolbar\":{\"id\":\"1123\",\"type\":\"Toolbar\"},\"toolbar_location\":null,\"x_range\":{\"id\":\"1099\",\"type\":\"DataRange1d\"},\"x_scale\":{\"id\":\"1103\",\"type\":\"LinearScale\"},\"y_range\":{\"id\":\"1101\",\"type\":\"DataRange1d\"},\"y_scale\":{\"id\":\"1105\",\"type\":\"LinearScale\"}},\"id\":\"1098\",\"subtype\":\"Figure\",\"type\":\"Plot\"},{\"attributes\":{\"toolbar\":{\"id\":\"1211\",\"type\":\"ProxyToolbar\"},\"toolbar_location\":\"above\"},\"id\":\"1212\",\"type\":\"ToolbarBox\"},{\"attributes\":{\"bottom_units\":\"screen\",\"fill_alpha\":{\"value\":0.5},\"fill_color\":{\"value\":\"lightgrey\"},\"left_units\":\"screen\",\"level\":\"overlay\",\"line_alpha\":{\"value\":1.0},\"line_color\":{\"value\":\"black\"},\"line_dash\":[4,4],\"line_width\":{\"value\":2},\"render_mode\":\"css\",\"right_units\":\"screen\",\"top_units\":\"screen\"},\"id\":\"1196\",\"type\":\"BoxAnnotation\"},{\"attributes\":{},\"id\":\"1085\",\"type\":\"PanTool\"},{\"attributes\":{},\"id\":\"1183\",\"type\":\"BasicTickFormatter\"},{\"attributes\":{},\"id\":\"1193\",\"type\":\"BasicTickFormatter\"},{\"attributes\":{},\"id\":\"1086\",\"type\":\"WheelZoomTool\"},{\"attributes\":{\"overlay\":{\"id\":\"1196\",\"type\":\"BoxAnnotation\"}},\"id\":\"1087\",\"type\":\"BoxZoomTool\"},{\"attributes\":{},\"id\":\"1088\",\"type\":\"SaveTool\"},{\"attributes\":{},\"id\":\"1089\",\"type\":\"ResetTool\"},{\"attributes\":{},\"id\":\"1173\",\"type\":\"BasicTickFormatter\"},{\"attributes\":{},\"id\":\"1197\",\"type\":\"UnionRenderers\"},{\"attributes\":{},\"id\":\"1205\",\"type\":\"BasicTickFormatter\"},{\"attributes\":{},\"id\":\"1103\",\"type\":\"LinearScale\"},{\"attributes\":{},\"id\":\"1090\",\"type\":\"HelpTool\"},{\"attributes\":{},\"id\":\"1105\",\"type\":\"LinearScale\"},{\"attributes\":{},\"id\":\"1188\",\"type\":\"Selection\"},{\"attributes\":{},\"id\":\"1203\",\"type\":\"BasicTickFormatter\"},{\"attributes\":{\"below\":[{\"id\":\"1011\",\"type\":\"LinearAxis\"}],\"center\":[{\"id\":\"1015\",\"type\":\"Grid\"},{\"id\":\"1020\",\"type\":\"Grid\"}],\"left\":[{\"id\":\"1016\",\"type\":\"LinearAxis\"}],\"plot_height\":350,\"plot_width\":350,\"renderers\":[{\"id\":\"1144\",\"type\":\"GlyphRenderer\"}],\"title\":{\"id\":\"1146\",\"type\":\"Title\"},\"toolbar\":{\"id\":\"1027\",\"type\":\"Toolbar\"},\"toolbar_location\":null,\"x_range\":{\"id\":\"1003\",\"type\":\"DataRange1d\"},\"x_scale\":{\"id\":\"1007\",\"type\":\"LinearScale\"},\"y_range\":{\"id\":\"1005\",\"type\":\"DataRange1d\"},\"y_scale\":{\"id\":\"1009\",\"type\":\"LinearScale\"}},\"id\":\"1002\",\"subtype\":\"Figure\",\"type\":\"Plot\"},{\"attributes\":{\"callback\":null},\"id\":\"1003\",\"type\":\"DataRange1d\"},{\"attributes\":{\"axis_label\":\"demand\",\"formatter\":{\"id\":\"1203\",\"type\":\"BasicTickFormatter\"},\"ticker\":{\"id\":\"1108\",\"type\":\"BasicTicker\"}},\"id\":\"1107\",\"type\":\"LinearAxis\"},{\"attributes\":{},\"id\":\"1113\",\"type\":\"BasicTicker\"},{\"attributes\":{\"callback\":null},\"id\":\"1005\",\"type\":\"DataRange1d\"},{\"attributes\":{},\"id\":\"1108\",\"type\":\"BasicTicker\"},{\"attributes\":{},\"id\":\"1007\",\"type\":\"LinearScale\"},{\"attributes\":{\"ticker\":{\"id\":\"1108\",\"type\":\"BasicTicker\"}},\"id\":\"1111\",\"type\":\"Grid\"},{\"attributes\":{\"dimension\":1,\"ticker\":{\"id\":\"1113\",\"type\":\"BasicTicker\"}},\"id\":\"1116\",\"type\":\"Grid\"},{\"attributes\":{},\"id\":\"1178\",\"type\":\"Selection\"},{\"attributes\":{\"axis_label\":\"profit\",\"formatter\":{\"id\":\"1205\",\"type\":\"BasicTickFormatter\"},\"ticker\":{\"id\":\"1113\",\"type\":\"BasicTicker\"}},\"id\":\"1112\",\"type\":\"LinearAxis\"},{\"attributes\":{},\"id\":\"1009\",\"type\":\"LinearScale\"},{\"attributes\":{\"axis_label\":\"demand\",\"formatter\":{\"id\":\"1173\",\"type\":\"BasicTickFormatter\"},\"ticker\":{\"id\":\"1012\",\"type\":\"BasicTicker\"}},\"id\":\"1011\",\"type\":\"LinearAxis\"},{\"attributes\":{},\"id\":\"1017\",\"type\":\"BasicTicker\"},{\"attributes\":{\"data_source\":{\"id\":\"1132\",\"type\":\"ColumnDataSource\"},\"glyph\":{\"id\":\"1133\",\"type\":\"Line\"},\"hover_glyph\":null,\"muted_glyph\":null,\"view\":{\"id\":\"1145\",\"type\":\"CDSView\"}},\"id\":\"1144\",\"type\":\"GlyphRenderer\"},{\"attributes\":{},\"id\":\"1012\",\"type\":\"BasicTicker\"},{\"attributes\":{\"active_drag\":\"auto\",\"active_inspect\":\"auto\",\"active_multi\":null,\"active_scroll\":\"auto\",\"active_tap\":\"auto\",\"tools\":[{\"id\":\"1117\",\"type\":\"PanTool\"},{\"id\":\"1118\",\"type\":\"WheelZoomTool\"},{\"id\":\"1119\",\"type\":\"BoxZoomTool\"},{\"id\":\"1120\",\"type\":\"SaveTool\"},{\"id\":\"1121\",\"type\":\"ResetTool\"},{\"id\":\"1122\",\"type\":\"HelpTool\"}]},\"id\":\"1123\",\"type\":\"Toolbar\"},{\"attributes\":{\"ticker\":{\"id\":\"1012\",\"type\":\"BasicTicker\"}},\"id\":\"1015\",\"type\":\"Grid\"},{\"attributes\":{},\"id\":\"1187\",\"type\":\"UnionRenderers\"},{\"attributes\":{\"active_drag\":\"auto\",\"active_inspect\":\"auto\",\"active_multi\":null,\"active_scroll\":\"auto\",\"active_tap\":\"auto\",\"tools\":[{\"id\":\"1021\",\"type\":\"PanTool\"},{\"id\":\"1022\",\"type\":\"WheelZoomTool\"},{\"id\":\"1023\",\"type\":\"BoxZoomTool\"},{\"id\":\"1024\",\"type\":\"SaveTool\"},{\"id\":\"1025\",\"type\":\"ResetTool\"},{\"id\":\"1026\",\"type\":\"HelpTool\"}]},\"id\":\"1027\",\"type\":\"Toolbar\"},{\"attributes\":{\"callback\":null,\"data\":{\"x\":[0,1,2,3,4,5,6,7,8,9,10,11,12,13,14,15,16,17,18,19],\"y\":[0,1,2,3,4,5,6,7,8,9,10,11,12,13,14,15,15,15,15,15]},\"selected\":{\"id\":\"1178\",\"type\":\"Selection\"},\"selection_policy\":{\"id\":\"1177\",\"type\":\"UnionRenderers\"}},\"id\":\"1132\",\"type\":\"ColumnDataSource\"},{\"attributes\":{},\"id\":\"1117\",\"type\":\"PanTool\"},{\"attributes\":{\"dimension\":1,\"ticker\":{\"id\":\"1017\",\"type\":\"BasicTicker\"}},\"id\":\"1020\",\"type\":\"Grid\"},{\"attributes\":{\"axis_label\":\"sales\",\"formatter\":{\"id\":\"1175\",\"type\":\"BasicTickFormatter\"},\"ticker\":{\"id\":\"1017\",\"type\":\"BasicTicker\"}},\"id\":\"1016\",\"type\":\"LinearAxis\"},{\"attributes\":{},\"id\":\"1118\",\"type\":\"WheelZoomTool\"},{\"attributes\":{\"callback\":null},\"id\":\"1035\",\"type\":\"DataRange1d\"},{\"attributes\":{\"overlay\":{\"id\":\"1206\",\"type\":\"BoxAnnotation\"}},\"id\":\"1119\",\"type\":\"BoxZoomTool\"},{\"attributes\":{\"callback\":null,\"data\":{\"x\":[0,1,2,3,4,5,6,7,8,9,10,11,12,13,14,15,16,17,18,19],\"y\":[0,2,4,6,8,10,12,14,16,18,20,22,24,26,28,30,30,30,30,30]},\"selected\":{\"id\":\"1188\",\"type\":\"Selection\"},\"selection_policy\":{\"id\":\"1187\",\"type\":\"UnionRenderers\"}},\"id\":\"1138\",\"type\":\"ColumnDataSource\"},{\"attributes\":{\"callback\":null},\"id\":\"1037\",\"type\":\"DataRange1d\"},{\"attributes\":{\"below\":[{\"id\":\"1075\",\"type\":\"LinearAxis\"}],\"center\":[{\"id\":\"1079\",\"type\":\"Grid\"},{\"id\":\"1084\",\"type\":\"Grid\"}],\"left\":[{\"id\":\"1080\",\"type\":\"LinearAxis\"}],\"plot_height\":350,\"plot_width\":350,\"renderers\":[{\"id\":\"1150\",\"type\":\"GlyphRenderer\"}],\"title\":{\"id\":\"1152\",\"type\":\"Title\"},\"toolbar\":{\"id\":\"1091\",\"type\":\"Toolbar\"},\"toolbar_location\":null,\"x_range\":{\"id\":\"1067\",\"type\":\"DataRange1d\"},\"x_scale\":{\"id\":\"1071\",\"type\":\"LinearScale\"},\"y_range\":{\"id\":\"1069\",\"type\":\"DataRange1d\"},\"y_scale\":{\"id\":\"1073\",\"type\":\"LinearScale\"}},\"id\":\"1066\",\"subtype\":\"Figure\",\"type\":\"Plot\"},{\"attributes\":{},\"id\":\"1120\",\"type\":\"SaveTool\"},{\"attributes\":{},\"id\":\"1121\",\"type\":\"ResetTool\"},{\"attributes\":{\"line_color\":\"blue\",\"line_width\":2,\"x\":{\"field\":\"x\"},\"y\":{\"field\":\"y\"}},\"id\":\"1139\",\"type\":\"Line\"},{\"attributes\":{\"below\":[{\"id\":\"1043\",\"type\":\"LinearAxis\"}],\"center\":[{\"id\":\"1047\",\"type\":\"Grid\"},{\"id\":\"1052\",\"type\":\"Grid\"}],\"left\":[{\"id\":\"1048\",\"type\":\"LinearAxis\"}],\"plot_height\":350,\"plot_width\":350,\"renderers\":[{\"id\":\"1147\",\"type\":\"GlyphRenderer\"}],\"title\":{\"id\":\"1149\",\"type\":\"Title\"},\"toolbar\":{\"id\":\"1059\",\"type\":\"Toolbar\"},\"toolbar_location\":null,\"x_range\":{\"id\":\"1035\",\"type\":\"DataRange1d\"},\"x_scale\":{\"id\":\"1039\",\"type\":\"LinearScale\"},\"y_range\":{\"id\":\"1037\",\"type\":\"DataRange1d\"},\"y_scale\":{\"id\":\"1041\",\"type\":\"LinearScale\"}},\"id\":\"1034\",\"subtype\":\"Figure\",\"type\":\"Plot\"},{\"attributes\":{\"callback\":null,\"data\":{\"x\":[0,1,2,3,4,5,6,7,8,9,10,11,12,13,14,15,16,17,18,19],\"y\":[15,15,15,15,15,15,15,15,15,15,15,15,15,15,15,15,15,15,15,15]},\"selected\":{\"id\":\"1198\",\"type\":\"Selection\"},\"selection_policy\":{\"id\":\"1197\",\"type\":\"UnionRenderers\"}},\"id\":\"1140\",\"type\":\"ColumnDataSource\"},{\"attributes\":{},\"id\":\"1021\",\"type\":\"PanTool\"},{\"attributes\":{},\"id\":\"1122\",\"type\":\"HelpTool\"},{\"attributes\":{},\"id\":\"1022\",\"type\":\"WheelZoomTool\"},{\"attributes\":{\"line_color\":\"blue\",\"line_width\":2,\"x\":{\"field\":\"x\"},\"y\":{\"field\":\"y\"}},\"id\":\"1141\",\"type\":\"Line\"},{\"attributes\":{\"bottom_units\":\"screen\",\"fill_alpha\":{\"value\":0.5},\"fill_color\":{\"value\":\"lightgrey\"},\"left_units\":\"screen\",\"level\":\"overlay\",\"line_alpha\":{\"value\":1.0},\"line_color\":{\"value\":\"black\"},\"line_dash\":[4,4],\"line_width\":{\"value\":2},\"render_mode\":\"css\",\"right_units\":\"screen\",\"top_units\":\"screen\"},\"id\":\"1176\",\"type\":\"BoxAnnotation\"},{\"attributes\":{\"callback\":null,\"data\":{\"x\":[0,1,2,3,4,5,6,7,8,9,10,11,12,13,14,15,16,17,18,19],\"y\":[-15,-13,-11,-9,-7,-5,-3,-1,1,3,5,7,9,11,13,15,15,15,15,15]},\"selected\":{\"id\":\"1208\",\"type\":\"Selection\"},\"selection_policy\":{\"id\":\"1207\",\"type\":\"UnionRenderers\"}},\"id\":\"1142\",\"type\":\"ColumnDataSource\"},{\"attributes\":{\"overlay\":{\"id\":\"1176\",\"type\":\"BoxAnnotation\"}},\"id\":\"1023\",\"type\":\"BoxZoomTool\"},{\"attributes\":{},\"id\":\"1175\",\"type\":\"BasicTickFormatter\"},{\"attributes\":{\"source\":{\"id\":\"1142\",\"type\":\"ColumnDataSource\"}},\"id\":\"1154\",\"type\":\"CDSView\"},{\"attributes\":{},\"id\":\"1024\",\"type\":\"SaveTool\"},{\"attributes\":{\"bottom_units\":\"screen\",\"fill_alpha\":{\"value\":0.5},\"fill_color\":{\"value\":\"lightgrey\"},\"left_units\":\"screen\",\"level\":\"overlay\",\"line_alpha\":{\"value\":1.0},\"line_color\":{\"value\":\"black\"},\"line_dash\":[4,4],\"line_width\":{\"value\":2},\"render_mode\":\"css\",\"right_units\":\"screen\",\"top_units\":\"screen\"},\"id\":\"1186\",\"type\":\"BoxAnnotation\"},{\"attributes\":{\"line_color\":\"blue\",\"line_width\":2,\"x\":{\"field\":\"x\"},\"y\":{\"field\":\"y\"}},\"id\":\"1143\",\"type\":\"Line\"},{\"attributes\":{},\"id\":\"1025\",\"type\":\"ResetTool\"},{\"attributes\":{\"source\":{\"id\":\"1140\",\"type\":\"ColumnDataSource\"}},\"id\":\"1151\",\"type\":\"CDSView\"},{\"attributes\":{},\"id\":\"1039\",\"type\":\"LinearScale\"},{\"attributes\":{\"data_source\":{\"id\":\"1138\",\"type\":\"ColumnDataSource\"},\"glyph\":{\"id\":\"1139\",\"type\":\"Line\"},\"hover_glyph\":null,\"muted_glyph\":null,\"view\":{\"id\":\"1148\",\"type\":\"CDSView\"}},\"id\":\"1147\",\"type\":\"GlyphRenderer\"},{\"attributes\":{},\"id\":\"1026\",\"type\":\"HelpTool\"},{\"attributes\":{\"source\":{\"id\":\"1138\",\"type\":\"ColumnDataSource\"}},\"id\":\"1148\",\"type\":\"CDSView\"},{\"attributes\":{\"text\":\"revenue\"},\"id\":\"1149\",\"type\":\"Title\"},{\"attributes\":{},\"id\":\"1177\",\"type\":\"UnionRenderers\"},{\"attributes\":{\"children\":[[{\"id\":\"1002\",\"subtype\":\"Figure\",\"type\":\"Plot\"},0,0],[{\"id\":\"1034\",\"subtype\":\"Figure\",\"type\":\"Plot\"},0,1],[{\"id\":\"1066\",\"subtype\":\"Figure\",\"type\":\"Plot\"},1,0],[{\"id\":\"1098\",\"subtype\":\"Figure\",\"type\":\"Plot\"},1,1]]},\"id\":\"1210\",\"type\":\"GridBox\"},{\"attributes\":{\"data_source\":{\"id\":\"1140\",\"type\":\"ColumnDataSource\"},\"glyph\":{\"id\":\"1141\",\"type\":\"Line\"},\"hover_glyph\":null,\"muted_glyph\":null,\"view\":{\"id\":\"1151\",\"type\":\"CDSView\"}},\"id\":\"1150\",\"type\":\"GlyphRenderer\"},{\"attributes\":{\"axis_label\":\"demand\",\"formatter\":{\"id\":\"1183\",\"type\":\"BasicTickFormatter\"},\"ticker\":{\"id\":\"1044\",\"type\":\"BasicTicker\"}},\"id\":\"1043\",\"type\":\"LinearAxis\"},{\"attributes\":{\"text\":\"cost\"},\"id\":\"1152\",\"type\":\"Title\"},{\"attributes\":{},\"id\":\"1041\",\"type\":\"LinearScale\"},{\"attributes\":{\"source\":{\"id\":\"1132\",\"type\":\"ColumnDataSource\"}},\"id\":\"1145\",\"type\":\"CDSView\"},{\"attributes\":{\"data_source\":{\"id\":\"1142\",\"type\":\"ColumnDataSource\"},\"glyph\":{\"id\":\"1143\",\"type\":\"Line\"},\"hover_glyph\":null,\"muted_glyph\":null,\"view\":{\"id\":\"1154\",\"type\":\"CDSView\"}},\"id\":\"1153\",\"type\":\"GlyphRenderer\"},{\"attributes\":{\"axis_label\":\"revenue\",\"formatter\":{\"id\":\"1185\",\"type\":\"BasicTickFormatter\"},\"ticker\":{\"id\":\"1049\",\"type\":\"BasicTicker\"}},\"id\":\"1048\",\"type\":\"LinearAxis\"},{\"attributes\":{\"text\":\"profit\"},\"id\":\"1155\",\"type\":\"Title\"},{\"attributes\":{},\"id\":\"1044\",\"type\":\"BasicTicker\"},{\"attributes\":{\"ticker\":{\"id\":\"1044\",\"type\":\"BasicTicker\"}},\"id\":\"1047\",\"type\":\"Grid\"},{\"attributes\":{},\"id\":\"1049\",\"type\":\"BasicTicker\"}],\"root_ids\":[\"1213\"]},\"title\":\"Bokeh Application\",\"version\":\"1.3.4\"}};\n",
       "  var render_items = [{\"docid\":\"2d67093a-ac71-4f53-9c46-02785a61a4ad\",\"notebook_comms_target\":\"1250\",\"roots\":{\"1213\":\"d7b689cf-cd9b-4852-9f8f-f0de7abaf198\"}}];\n",
       "  root.Bokeh.embed.embed_items_notebook(docs_json, render_items);\n",
       "\n",
       "  }\n",
       "  if (root.Bokeh !== undefined) {\n",
       "    embed_document(root);\n",
       "  } else {\n",
       "    var attempts = 0;\n",
       "    var timer = setInterval(function(root) {\n",
       "      if (root.Bokeh !== undefined) {\n",
       "        embed_document(root);\n",
       "        clearInterval(timer);\n",
       "      }\n",
       "      attempts++;\n",
       "      if (attempts > 100) {\n",
       "        console.log(\"Bokeh: ERROR: Unable to run BokehJS code because BokehJS library is missing\");\n",
       "        clearInterval(timer);\n",
       "      }\n",
       "    }, 10, root)\n",
       "  }\n",
       "})(window);"
      ],
      "application/vnd.bokehjs_exec.v0+json": ""
     },
     "metadata": {
      "application/vnd.bokehjs_exec.v0+json": {
       "id": "1213"
      }
     },
     "output_type": "display_data"
    }
   ],
   "source": [
    "fields = ['sales', 'revenue', 'cost', 'profit']\n",
    "labels = {field: {'x': 'demand', 'y': field, 'title': field} for field in fields}\n",
    "line_func = lambda n: news_plot.line_glyphs(n.calc_data(np.arange(news.min_order, news.max_order+1)), 'demand')\n",
    "newsvendor.interact_gridplot(news_plot.figures(fields, plot_width=350, plot_height=350), line_func, news, ncols=2, labels=labels)"
   ]
  },
  {
   "cell_type": "markdown",
   "metadata": {},
   "source": [
    "**Remark:** You may feel that this is misleading because demand is discrete, while the visualization presented implies a continuous relationship.  You are correct, but we will see in later sections that these relationships generalize to continuous demand.  If you prefer, you can add an argument `'.'` to each `plot` command, e.g., `plot(demand, sales, '.')`"
   ]
  },
  {
   "cell_type": "markdown",
   "metadata": {},
   "source": [
    "### Visualizing Probability Distributions\n",
    "\n",
    "Since demand is random, any quantity that depends on the demand will also be random:\n",
    "\n",
    "* $\\text{sales} = \\min\\{y, D\\}$\n",
    "* $\\text{revenue} = p \\min\\{y, D\\}$\n",
    "* $\\text{profit} = p \\min\\{y, D\\} - c y$\n",
    "\n",
    "We can think of each of these quantities as a *function* of the random variable $D$.\n",
    "\n",
    "Each of these quantities will also have a probability distribution that are derived from the demand distribution, but will not be the same.  For example,\n",
    "$$ \\mathsf{P}\\left(\\text{sales} = i\\right) = \\begin{cases}\n",
    "      \\frac{1}{20} &\\text{for } i = 0,\\dots,y-1 \\\\\n",
    "      1 - \\frac{y}{20} &\\text{for } i = y \\\\\n",
    "   \\end{cases} $$\n",
    "Rephrasing slightly:\n",
    "$$\\begin{aligned}\n",
    "    \\mathsf{P}(\\text{sales} = i) &= \\mathsf{P}(D = i) \\qquad \\text{i < y} \\\\\n",
    "    \\mathsf{P}(\\text{sales} = y) &= \\mathsf{P}(D \\geq y)\n",
    "  \\end{aligned}$$\n",
    "\n",
    "For the order quantity you specified above, the probability mass function (pmf) of the $D$ and $\\min\\{y, D\\}$ are calculated and shown below.  These are analogous to the histograms made from the simulated data in Section 1."
   ]
  },
  {
   "cell_type": "code",
   "execution_count": 3,
   "metadata": {},
   "outputs": [
    {
     "data": {
      "application/vnd.jupyter.widget-view+json": {
       "model_id": "8504d70335624e8692e780aec268edf0",
       "version_major": 2,
       "version_minor": 0
      },
      "text/plain": [
       "interactive(children=(IntSlider(value=15, description='Order Qty', max=19), Output()), _dom_classes=('widget-i…"
      ]
     },
     "metadata": {},
     "output_type": "display_data"
    },
    {
     "data": {
      "text/html": [
       "\n",
       "\n",
       "\n",
       "\n",
       "\n",
       "\n",
       "  <div class=\"bk-root\" id=\"aebdec1f-3206-4769-80f2-41374ecc1bd6\" data-root-id=\"1617\"></div>\n"
      ]
     },
     "metadata": {},
     "output_type": "display_data"
    },
    {
     "data": {
      "application/javascript": [
       "(function(root) {\n",
       "  function embed_document(root) {\n",
       "    \n",
       "  var docs_json = {\"e0dd4584-5702-42c6-adef-8e146f57bebf\":{\"roots\":{\"references\":[{\"attributes\":{\"children\":[{\"id\":\"1616\",\"type\":\"ToolbarBox\"},{\"id\":\"1614\",\"type\":\"GridBox\"}]},\"id\":\"1617\",\"type\":\"Column\"},{\"attributes\":{},\"id\":\"1506\",\"type\":\"LinearScale\"},{\"attributes\":{},\"id\":\"1589\",\"type\":\"BasicTickFormatter\"},{\"attributes\":{\"callback\":null,\"data\":{\"top\":{\"__ndarray__\":\"AAAAAAAA+H8AAAAAAAD4fwAAAAAAAPh/AAAAAAAA+H8AAAAAAAD4fwAAAAAAAPh/AAAAAAAA+H8AAAAAAAD4f5qZmZmZmak/mpmZmZmZqT+amZmZmZmpP5qZmZmZmak/mpmZmZmZqT+amZmZmZmpP5qZmZmZmak/mpmZmZmZqT+amZmZmZmpP5qZmZmZmak/mpmZmZmZqT+amZmZmZmpP5qZmZmZmak/mpmZmZmZqT+amZmZmZmpP5qZmZmZmak/mpmZmZmZqT+amZmZmZmpP5qZmZmZmak/mpmZmZmZqT8=\",\"dtype\":\"float64\",\"shape\":[28]},\"x\":[-15,-13,-11,-9,-7,-5,-3,-1,0,1,2,3,4,5,6,7,8,9,10,11,12,13,14,15,16,17,18,19]},\"selected\":{\"id\":\"1592\",\"type\":\"Selection\"},\"selection_policy\":{\"id\":\"1591\",\"type\":\"UnionRenderers\"}},\"id\":\"1563\",\"type\":\"ColumnDataSource\"},{\"attributes\":{\"axis_label\":\"profit\",\"formatter\":{\"id\":\"1607\",\"type\":\"BasicTickFormatter\"},\"ticker\":{\"id\":\"1541\",\"type\":\"BasicTicker\"}},\"id\":\"1540\",\"type\":\"LinearAxis\"},{\"attributes\":{\"active_drag\":\"auto\",\"active_inspect\":\"auto\",\"active_multi\":null,\"active_scroll\":\"auto\",\"active_tap\":\"auto\",\"tools\":[{\"id\":\"1486\",\"type\":\"PanTool\"},{\"id\":\"1487\",\"type\":\"WheelZoomTool\"},{\"id\":\"1488\",\"type\":\"BoxZoomTool\"},{\"id\":\"1489\",\"type\":\"SaveTool\"},{\"id\":\"1490\",\"type\":\"ResetTool\"},{\"id\":\"1491\",\"type\":\"HelpTool\"}]},\"id\":\"1492\",\"type\":\"Toolbar\"},{\"attributes\":{},\"id\":\"1592\",\"type\":\"Selection\"},{\"attributes\":{},\"id\":\"1491\",\"type\":\"HelpTool\"},{\"attributes\":{},\"id\":\"1587\",\"type\":\"BasicTickFormatter\"},{\"attributes\":{},\"id\":\"1514\",\"type\":\"BasicTicker\"},{\"attributes\":{},\"id\":\"1546\",\"type\":\"BasicTicker\"},{\"attributes\":{},\"id\":\"1541\",\"type\":\"BasicTicker\"},{\"attributes\":{\"ticker\":{\"id\":\"1541\",\"type\":\"BasicTicker\"}},\"id\":\"1544\",\"type\":\"Grid\"},{\"attributes\":{\"axis_label\":\"sales\",\"formatter\":{\"id\":\"1597\",\"type\":\"BasicTickFormatter\"},\"ticker\":{\"id\":\"1509\",\"type\":\"BasicTicker\"}},\"id\":\"1508\",\"type\":\"LinearAxis\"},{\"attributes\":{\"ticker\":{\"id\":\"1509\",\"type\":\"BasicTicker\"}},\"id\":\"1512\",\"type\":\"Grid\"},{\"attributes\":{\"dimension\":1,\"ticker\":{\"id\":\"1546\",\"type\":\"BasicTicker\"}},\"id\":\"1549\",\"type\":\"Grid\"},{\"attributes\":{\"axis_label\":\"probability\",\"formatter\":{\"id\":\"1609\",\"type\":\"BasicTickFormatter\"},\"ticker\":{\"id\":\"1546\",\"type\":\"BasicTicker\"}},\"id\":\"1545\",\"type\":\"LinearAxis\"},{\"attributes\":{},\"id\":\"1509\",\"type\":\"BasicTicker\"},{\"attributes\":{},\"id\":\"1591\",\"type\":\"UnionRenderers\"},{\"attributes\":{\"dimension\":1,\"ticker\":{\"id\":\"1514\",\"type\":\"BasicTicker\"}},\"id\":\"1517\",\"type\":\"Grid\"},{\"attributes\":{},\"id\":\"1536\",\"type\":\"LinearScale\"},{\"attributes\":{\"bottom_units\":\"screen\",\"fill_alpha\":{\"value\":0.5},\"fill_color\":{\"value\":\"lightgrey\"},\"left_units\":\"screen\",\"level\":\"overlay\",\"line_alpha\":{\"value\":1.0},\"line_color\":{\"value\":\"black\"},\"line_dash\":[4,4],\"line_width\":{\"value\":2},\"render_mode\":\"css\",\"right_units\":\"screen\",\"top_units\":\"screen\"},\"id\":\"1600\",\"type\":\"BoxAnnotation\"},{\"attributes\":{\"source\":{\"id\":\"1567\",\"type\":\"ColumnDataSource\"}},\"id\":\"1576\",\"type\":\"CDSView\"},{\"attributes\":{\"source\":{\"id\":\"1563\",\"type\":\"ColumnDataSource\"}},\"id\":\"1570\",\"type\":\"CDSView\"},{\"attributes\":{\"axis_label\":\"probability\",\"formatter\":{\"id\":\"1599\",\"type\":\"BasicTickFormatter\"},\"ticker\":{\"id\":\"1514\",\"type\":\"BasicTicker\"}},\"id\":\"1513\",\"type\":\"LinearAxis\"},{\"attributes\":{\"callback\":null,\"data\":{\"top\":{\"__ndarray__\":\"AAAAAAAA+H8AAAAAAAD4fwAAAAAAAPh/AAAAAAAA+H8AAAAAAAD4fwAAAAAAAPh/AAAAAAAA+H8AAAAAAAD4f5qZmZmZmak/mpmZmZmZqT+amZmZmZmpP5qZmZmZmak/mpmZmZmZqT+amZmZmZmpP5qZmZmZmak/mpmZmZmZqT+amZmZmZmpP5qZmZmZmak/mpmZmZmZqT+amZmZmZmpP5qZmZmZmak/mpmZmZmZqT+amZmZmZmpPwAAAAAAANA/AAAAAAAA+H8AAAAAAAD4fwAAAAAAAPh/AAAAAAAA+H8=\",\"dtype\":\"float64\",\"shape\":[28]},\"x\":[-15,-13,-11,-9,-7,-5,-3,-1,0,1,2,3,4,5,6,7,8,9,10,11,12,13,14,15,16,17,18,19]},\"selected\":{\"id\":\"1602\",\"type\":\"Selection\"},\"selection_policy\":{\"id\":\"1601\",\"type\":\"UnionRenderers\"}},\"id\":\"1565\",\"type\":\"ColumnDataSource\"},{\"attributes\":{\"children\":[[{\"id\":\"1467\",\"subtype\":\"Figure\",\"type\":\"Plot\"},0,0],[{\"id\":\"1499\",\"subtype\":\"Figure\",\"type\":\"Plot\"},0,1],[{\"id\":\"1531\",\"subtype\":\"Figure\",\"type\":\"Plot\"},0,2]]},\"id\":\"1614\",\"type\":\"GridBox\"},{\"attributes\":{\"bottom_units\":\"screen\",\"fill_alpha\":{\"value\":0.5},\"fill_color\":{\"value\":\"lightgrey\"},\"left_units\":\"screen\",\"level\":\"overlay\",\"line_alpha\":{\"value\":1.0},\"line_color\":{\"value\":\"black\"},\"line_dash\":[4,4],\"line_width\":{\"value\":2},\"render_mode\":\"css\",\"right_units\":\"screen\",\"top_units\":\"screen\"},\"id\":\"1590\",\"type\":\"BoxAnnotation\"},{\"attributes\":{\"callback\":null},\"id\":\"1532\",\"type\":\"DataRange1d\"},{\"attributes\":{},\"id\":\"1550\",\"type\":\"PanTool\"},{\"attributes\":{},\"id\":\"1490\",\"type\":\"ResetTool\"},{\"attributes\":{},\"id\":\"1551\",\"type\":\"WheelZoomTool\"},{\"attributes\":{},\"id\":\"1599\",\"type\":\"BasicTickFormatter\"},{\"attributes\":{},\"id\":\"1489\",\"type\":\"SaveTool\"},{\"attributes\":{\"overlay\":{\"id\":\"1610\",\"type\":\"BoxAnnotation\"}},\"id\":\"1552\",\"type\":\"BoxZoomTool\"},{\"attributes\":{},\"id\":\"1553\",\"type\":\"SaveTool\"},{\"attributes\":{\"callback\":null},\"id\":\"1534\",\"type\":\"DataRange1d\"},{\"attributes\":{},\"id\":\"1601\",\"type\":\"UnionRenderers\"},{\"attributes\":{},\"id\":\"1602\",\"type\":\"Selection\"},{\"attributes\":{},\"id\":\"1554\",\"type\":\"ResetTool\"},{\"attributes\":{\"bottom_units\":\"screen\",\"fill_alpha\":{\"value\":0.5},\"fill_color\":{\"value\":\"lightgrey\"},\"left_units\":\"screen\",\"level\":\"overlay\",\"line_alpha\":{\"value\":1.0},\"line_color\":{\"value\":\"black\"},\"line_dash\":[4,4],\"line_width\":{\"value\":2},\"render_mode\":\"css\",\"right_units\":\"screen\",\"top_units\":\"screen\"},\"id\":\"1610\",\"type\":\"BoxAnnotation\"},{\"attributes\":{},\"id\":\"1597\",\"type\":\"BasicTickFormatter\"},{\"attributes\":{},\"id\":\"1611\",\"type\":\"UnionRenderers\"},{\"attributes\":{},\"id\":\"1607\",\"type\":\"BasicTickFormatter\"},{\"attributes\":{\"callback\":null,\"data\":{\"top\":{\"__ndarray__\":\"mpmZmZmZqT+amZmZmZmpP5qZmZmZmak/mpmZmZmZqT+amZmZmZmpP5qZmZmZmak/mpmZmZmZqT+amZmZmZmpPwAAAAAAAPh/mpmZmZmZqT8AAAAAAAD4f5qZmZmZmak/AAAAAAAA+H+amZmZmZmpPwAAAAAAAPh/mpmZmZmZqT8AAAAAAAD4f5qZmZmZmak/AAAAAAAA+H+amZmZmZmpPwAAAAAAAPh/mpmZmZmZqT8AAAAAAAD4fwAAAAAAANA/AAAAAAAA+H8AAAAAAAD4fwAAAAAAAPh/AAAAAAAA+H8=\",\"dtype\":\"float64\",\"shape\":[28]},\"x\":[-15,-13,-11,-9,-7,-5,-3,-1,0,1,2,3,4,5,6,7,8,9,10,11,12,13,14,15,16,17,18,19]},\"selected\":{\"id\":\"1612\",\"type\":\"Selection\"},\"selection_policy\":{\"id\":\"1611\",\"type\":\"UnionRenderers\"}},\"id\":\"1567\",\"type\":\"ColumnDataSource\"},{\"attributes\":{\"text\":\"demand pmf\"},\"id\":\"1571\",\"type\":\"Title\"},{\"attributes\":{\"text\":\"profit pmf\"},\"id\":\"1577\",\"type\":\"Title\"},{\"attributes\":{},\"id\":\"1609\",\"type\":\"BasicTickFormatter\"},{\"attributes\":{\"below\":[{\"id\":\"1476\",\"type\":\"LinearAxis\"}],\"center\":[{\"id\":\"1480\",\"type\":\"Grid\"},{\"id\":\"1485\",\"type\":\"Grid\"}],\"left\":[{\"id\":\"1481\",\"type\":\"LinearAxis\"}],\"plot_height\":300,\"plot_width\":300,\"renderers\":[{\"id\":\"1569\",\"type\":\"GlyphRenderer\"}],\"title\":{\"id\":\"1571\",\"type\":\"Title\"},\"toolbar\":{\"id\":\"1492\",\"type\":\"Toolbar\"},\"toolbar_location\":null,\"x_range\":{\"id\":\"1468\",\"type\":\"DataRange1d\"},\"x_scale\":{\"id\":\"1472\",\"type\":\"LinearScale\"},\"y_range\":{\"id\":\"1470\",\"type\":\"DataRange1d\"},\"y_scale\":{\"id\":\"1474\",\"type\":\"LinearScale\"}},\"id\":\"1467\",\"subtype\":\"Figure\",\"type\":\"Plot\"},{\"attributes\":{\"overlay\":{\"id\":\"1600\",\"type\":\"BoxAnnotation\"}},\"id\":\"1520\",\"type\":\"BoxZoomTool\"},{\"attributes\":{},\"id\":\"1521\",\"type\":\"SaveTool\"},{\"attributes\":{},\"id\":\"1612\",\"type\":\"Selection\"},{\"attributes\":{},\"id\":\"1523\",\"type\":\"HelpTool\"},{\"attributes\":{\"ticker\":{\"id\":\"1477\",\"type\":\"BasicTicker\"}},\"id\":\"1480\",\"type\":\"Grid\"},{\"attributes\":{\"source\":{\"id\":\"1565\",\"type\":\"ColumnDataSource\"}},\"id\":\"1573\",\"type\":\"CDSView\"},{\"attributes\":{\"toolbar\":{\"id\":\"1615\",\"type\":\"ProxyToolbar\"},\"toolbar_location\":\"above\"},\"id\":\"1616\",\"type\":\"ToolbarBox\"},{\"attributes\":{},\"id\":\"1522\",\"type\":\"ResetTool\"},{\"attributes\":{\"callback\":null},\"id\":\"1502\",\"type\":\"DataRange1d\"},{\"attributes\":{\"fill_color\":{\"value\":\"blue\"},\"top\":{\"field\":\"top\"},\"width\":{\"value\":1},\"x\":{\"field\":\"x\"}},\"id\":\"1566\",\"type\":\"VBar\"},{\"attributes\":{\"callback\":null},\"id\":\"1500\",\"type\":\"DataRange1d\"},{\"attributes\":{},\"id\":\"1482\",\"type\":\"BasicTicker\"},{\"attributes\":{\"fill_color\":{\"value\":\"blue\"},\"top\":{\"field\":\"top\"},\"width\":{\"value\":1},\"x\":{\"field\":\"x\"}},\"id\":\"1568\",\"type\":\"VBar\"},{\"attributes\":{\"axis_label\":\"probability\",\"formatter\":{\"id\":\"1589\",\"type\":\"BasicTickFormatter\"},\"ticker\":{\"id\":\"1482\",\"type\":\"BasicTicker\"}},\"id\":\"1481\",\"type\":\"LinearAxis\"},{\"attributes\":{\"active_drag\":\"auto\",\"active_inspect\":\"auto\",\"active_multi\":null,\"active_scroll\":\"auto\",\"active_tap\":\"auto\",\"tools\":[{\"id\":\"1518\",\"type\":\"PanTool\"},{\"id\":\"1519\",\"type\":\"WheelZoomTool\"},{\"id\":\"1520\",\"type\":\"BoxZoomTool\"},{\"id\":\"1521\",\"type\":\"SaveTool\"},{\"id\":\"1522\",\"type\":\"ResetTool\"},{\"id\":\"1523\",\"type\":\"HelpTool\"}]},\"id\":\"1524\",\"type\":\"Toolbar\"},{\"attributes\":{},\"id\":\"1477\",\"type\":\"BasicTicker\"},{\"attributes\":{\"fill_color\":{\"value\":\"blue\"},\"top\":{\"field\":\"top\"},\"width\":{\"value\":1},\"x\":{\"field\":\"x\"}},\"id\":\"1564\",\"type\":\"VBar\"},{\"attributes\":{\"axis_label\":\"demand\",\"formatter\":{\"id\":\"1587\",\"type\":\"BasicTickFormatter\"},\"ticker\":{\"id\":\"1477\",\"type\":\"BasicTicker\"}},\"id\":\"1476\",\"type\":\"LinearAxis\"},{\"attributes\":{},\"id\":\"1474\",\"type\":\"LinearScale\"},{\"attributes\":{\"callback\":null},\"id\":\"1468\",\"type\":\"DataRange1d\"},{\"attributes\":{},\"id\":\"1519\",\"type\":\"WheelZoomTool\"},{\"attributes\":{},\"id\":\"1472\",\"type\":\"LinearScale\"},{\"attributes\":{\"text\":\"sales pmf\"},\"id\":\"1574\",\"type\":\"Title\"},{\"attributes\":{},\"id\":\"1518\",\"type\":\"PanTool\"},{\"attributes\":{\"callback\":null},\"id\":\"1470\",\"type\":\"DataRange1d\"},{\"attributes\":{\"data_source\":{\"id\":\"1565\",\"type\":\"ColumnDataSource\"},\"glyph\":{\"id\":\"1566\",\"type\":\"VBar\"},\"hover_glyph\":null,\"muted_glyph\":null,\"view\":{\"id\":\"1573\",\"type\":\"CDSView\"}},\"id\":\"1572\",\"type\":\"GlyphRenderer\"},{\"attributes\":{\"data_source\":{\"id\":\"1567\",\"type\":\"ColumnDataSource\"},\"glyph\":{\"id\":\"1568\",\"type\":\"VBar\"},\"hover_glyph\":null,\"muted_glyph\":null,\"view\":{\"id\":\"1576\",\"type\":\"CDSView\"}},\"id\":\"1575\",\"type\":\"GlyphRenderer\"},{\"attributes\":{},\"id\":\"1538\",\"type\":\"LinearScale\"},{\"attributes\":{\"below\":[{\"id\":\"1540\",\"type\":\"LinearAxis\"}],\"center\":[{\"id\":\"1544\",\"type\":\"Grid\"},{\"id\":\"1549\",\"type\":\"Grid\"}],\"left\":[{\"id\":\"1545\",\"type\":\"LinearAxis\"}],\"plot_height\":300,\"plot_width\":300,\"renderers\":[{\"id\":\"1575\",\"type\":\"GlyphRenderer\"}],\"title\":{\"id\":\"1577\",\"type\":\"Title\"},\"toolbar\":{\"id\":\"1556\",\"type\":\"Toolbar\"},\"toolbar_location\":null,\"x_range\":{\"id\":\"1532\",\"type\":\"DataRange1d\"},\"x_scale\":{\"id\":\"1536\",\"type\":\"LinearScale\"},\"y_range\":{\"id\":\"1534\",\"type\":\"DataRange1d\"},\"y_scale\":{\"id\":\"1538\",\"type\":\"LinearScale\"}},\"id\":\"1531\",\"subtype\":\"Figure\",\"type\":\"Plot\"},{\"attributes\":{\"below\":[{\"id\":\"1508\",\"type\":\"LinearAxis\"}],\"center\":[{\"id\":\"1512\",\"type\":\"Grid\"},{\"id\":\"1517\",\"type\":\"Grid\"}],\"left\":[{\"id\":\"1513\",\"type\":\"LinearAxis\"}],\"plot_height\":300,\"plot_width\":300,\"renderers\":[{\"id\":\"1572\",\"type\":\"GlyphRenderer\"}],\"title\":{\"id\":\"1574\",\"type\":\"Title\"},\"toolbar\":{\"id\":\"1524\",\"type\":\"Toolbar\"},\"toolbar_location\":null,\"x_range\":{\"id\":\"1500\",\"type\":\"DataRange1d\"},\"x_scale\":{\"id\":\"1504\",\"type\":\"LinearScale\"},\"y_range\":{\"id\":\"1502\",\"type\":\"DataRange1d\"},\"y_scale\":{\"id\":\"1506\",\"type\":\"LinearScale\"}},\"id\":\"1499\",\"subtype\":\"Figure\",\"type\":\"Plot\"},{\"attributes\":{\"dimension\":1,\"ticker\":{\"id\":\"1482\",\"type\":\"BasicTicker\"}},\"id\":\"1485\",\"type\":\"Grid\"},{\"attributes\":{\"overlay\":{\"id\":\"1590\",\"type\":\"BoxAnnotation\"}},\"id\":\"1488\",\"type\":\"BoxZoomTool\"},{\"attributes\":{\"data_source\":{\"id\":\"1563\",\"type\":\"ColumnDataSource\"},\"glyph\":{\"id\":\"1564\",\"type\":\"VBar\"},\"hover_glyph\":null,\"muted_glyph\":null,\"view\":{\"id\":\"1570\",\"type\":\"CDSView\"}},\"id\":\"1569\",\"type\":\"GlyphRenderer\"},{\"attributes\":{},\"id\":\"1487\",\"type\":\"WheelZoomTool\"},{\"attributes\":{},\"id\":\"1555\",\"type\":\"HelpTool\"},{\"attributes\":{\"tools\":[{\"id\":\"1486\",\"type\":\"PanTool\"},{\"id\":\"1487\",\"type\":\"WheelZoomTool\"},{\"id\":\"1488\",\"type\":\"BoxZoomTool\"},{\"id\":\"1489\",\"type\":\"SaveTool\"},{\"id\":\"1490\",\"type\":\"ResetTool\"},{\"id\":\"1491\",\"type\":\"HelpTool\"},{\"id\":\"1518\",\"type\":\"PanTool\"},{\"id\":\"1519\",\"type\":\"WheelZoomTool\"},{\"id\":\"1520\",\"type\":\"BoxZoomTool\"},{\"id\":\"1521\",\"type\":\"SaveTool\"},{\"id\":\"1522\",\"type\":\"ResetTool\"},{\"id\":\"1523\",\"type\":\"HelpTool\"},{\"id\":\"1550\",\"type\":\"PanTool\"},{\"id\":\"1551\",\"type\":\"WheelZoomTool\"},{\"id\":\"1552\",\"type\":\"BoxZoomTool\"},{\"id\":\"1553\",\"type\":\"SaveTool\"},{\"id\":\"1554\",\"type\":\"ResetTool\"},{\"id\":\"1555\",\"type\":\"HelpTool\"}]},\"id\":\"1615\",\"type\":\"ProxyToolbar\"},{\"attributes\":{},\"id\":\"1504\",\"type\":\"LinearScale\"},{\"attributes\":{},\"id\":\"1486\",\"type\":\"PanTool\"},{\"attributes\":{\"active_drag\":\"auto\",\"active_inspect\":\"auto\",\"active_multi\":null,\"active_scroll\":\"auto\",\"active_tap\":\"auto\",\"tools\":[{\"id\":\"1550\",\"type\":\"PanTool\"},{\"id\":\"1551\",\"type\":\"WheelZoomTool\"},{\"id\":\"1552\",\"type\":\"BoxZoomTool\"},{\"id\":\"1553\",\"type\":\"SaveTool\"},{\"id\":\"1554\",\"type\":\"ResetTool\"},{\"id\":\"1555\",\"type\":\"HelpTool\"}]},\"id\":\"1556\",\"type\":\"Toolbar\"}],\"root_ids\":[\"1617\"]},\"title\":\"Bokeh Application\",\"version\":\"1.3.4\"}};\n",
       "  var render_items = [{\"docid\":\"e0dd4584-5702-42c6-adef-8e146f57bebf\",\"notebook_comms_target\":\"1681\",\"roots\":{\"1617\":\"aebdec1f-3206-4769-80f2-41374ecc1bd6\"}}];\n",
       "  root.Bokeh.embed.embed_items_notebook(docs_json, render_items);\n",
       "\n",
       "  }\n",
       "  if (root.Bokeh !== undefined) {\n",
       "    embed_document(root);\n",
       "  } else {\n",
       "    var attempts = 0;\n",
       "    var timer = setInterval(function(root) {\n",
       "      if (root.Bokeh !== undefined) {\n",
       "        embed_document(root);\n",
       "        clearInterval(timer);\n",
       "      }\n",
       "      attempts++;\n",
       "      if (attempts > 100) {\n",
       "        console.log(\"Bokeh: ERROR: Unable to run BokehJS code because BokehJS library is missing\");\n",
       "        clearInterval(timer);\n",
       "      }\n",
       "    }, 10, root)\n",
       "  }\n",
       "})(window);"
      ],
      "application/vnd.bokehjs_exec.v0+json": ""
     },
     "metadata": {
      "application/vnd.bokehjs_exec.v0+json": {
       "id": "1617"
      }
     },
     "output_type": "display_data"
    }
   ],
   "source": [
    "# Bar plots of probability mass functions with order quantity slider (compare to histograms from Section 1)\n",
    "fields = ['demand', 'sales', 'profit']\n",
    "labels = {field: {'x': field, 'y': 'probability', 'title': field + ' pmf'} for field in fields}\n",
    "pmf_func = lambda n: news_plot.bar_glyphs(n.pmfs())\n",
    "newsvendor.interact_gridplot(news_plot.figures(fields), pmf_func, news, labels=labels)"
   ]
  },
  {
   "cell_type": "markdown",
   "metadata": {},
   "source": [
    "### Calculating Expected Values\n",
    "\n",
    "Each of these random quantities also has an expected value -- a probability-weighted average value.  Recall from your introductory probability class, for a discrete random variable $X$ with support $\\mathcal{S}$ (the set of possible values $X$ can take), its expected value is defined to be\n",
    "\n",
    "$$ \\mathsf{E}[X] = \\sum_{k \\in \\mathcal{S}} k \\mathsf{P}(X = k) $$\n",
    "\n",
    "Remember that, $\\mathsf{E}[\\text{sales}] = \\mathsf{E}[\\min\\{y, D\\}] \\neq \\min\\{y, \\mathsf{E}[D]\\}$, but $\\mathsf{E}[\\text{profit}] = \\mathsf{E}[p \\min\\{y, D\\} - c y] = p \\mathsf{E}[\\min\\{y, D\\}] - c y$.  This is because profit is a linear function of sales, but sales is a non-linear function of demand.\n",
    "\n",
    "This is equivalent to the part in Section 1 (“Taking a Longer-Term Perspective”) where we looked at average daily values over a large set of data."
   ]
  },
  {
   "cell_type": "markdown",
   "metadata": {},
   "source": [
    "### Exercise 2.1:\n",
    "\n",
    "Calculate the expected values of: demand, sales, and profit using the numeric values for problem parameters and order quantity that you specified.\n",
    "\n",
    "Use the codeblock below to check your answers.\n",
    "\n",
    "*Hint:* The expected sales should be the only one that is slightly tricky.  There are two ways to think about this and you can quickly see that they are equivalent.\n",
    "\n",
    "1. Treat sales as a random variable with the probability mass function specified above in “Visualizing Probability Distributions”:\n",
    "\n",
    "$$ \\mathsf{E}[\\text{sales}] = \\sum_{i=0}^y i \\mathsf{P}(\\text{sales} = i) = \\sum_{i=0}^{y-1} i \\mathsf{P}(D = i) + y \\mathsf{P}(D \\geq y) $$\n",
    "\n",
    "2. Treat sales as a function of demand:\n",
    "\n",
    "$$ \\mathsf{E}[\\text{sales}] = \\mathsf{E}[\\min\\{y, D\\}] = \\sum_{i=0}^{19} \\min\\{y, i\\} \\mathsf{P}(D = i) = \\sum_{i=0}^{y-1} i \\mathsf{P}(D = i) + \\sum_{i=y}^{19} y \\mathsf{P}(D = i)$$"
   ]
  },
  {
   "cell_type": "code",
   "execution_count": 4,
   "metadata": {
    "scrolled": true
   },
   "outputs": [
    {
     "data": {
      "application/vnd.jupyter.widget-view+json": {
       "model_id": "ccfaaee768d641db9e5d5cf5da80d1d4",
       "version_major": 2,
       "version_minor": 0
      },
      "text/plain": [
       "interactive(children=(IntSlider(value=15, description='Order Qty', max=19), Output()), _dom_classes=('widget-i…"
      ]
     },
     "metadata": {},
     "output_type": "display_data"
    }
   ],
   "source": [
    "# Table of expected values with order quantity slider\n",
    "fields = ['demand', 'sales', 'profit']\n",
    "newsvendor.order_qty_interact(lambda y: news.exp_vals([y])[fields].style.hide_index(), news)"
   ]
  },
  {
   "cell_type": "markdown",
   "metadata": {},
   "source": [
    "### Exercise 2.2:\n",
    "\n",
    "Come up with formulas for the expected values of: sales, revenue, and profit as a function of order quantity $y$.  You should continue to assume that $D \\sim \\text{Uniform}\\{0,\\dots,19\\}$, but you can represent the retail price and wholesale cost as variables or numbers.\n",
    "\n",
    "*Hint:* Use the following summation formula:\n",
    "$$ \\sum_{i=1}^n i = 1 + 2 + \\dots + n = \\frac{n (n + 1)}{2} $$"
   ]
  },
  {
   "cell_type": "markdown",
   "metadata": {},
   "source": [
    "## Finding the Optimal Order Quantity\n",
    "\n",
    "We can now use Python to plot the formulas you came up with to see how your expected sales, revenue, cost, and profit change with your order quantity.  We can also search all possible values of order quantity to find the one(s) that result in the highest expected profit.\n",
    "\n",
    "This is analogous to Exercise 1.4 in Section 1."
   ]
  },
  {
   "cell_type": "code",
   "execution_count": 5,
   "metadata": {
    "scrolled": false
   },
   "outputs": [
    {
     "data": {
      "application/vnd.jupyter.widget-view+json": {
       "model_id": "524af89d3119442fbab917d0d8613306",
       "version_major": 2,
       "version_minor": 0
      },
      "text/plain": [
       "interactive(children=(IntSlider(value=15, description='Order Qty', max=19), Output()), _dom_classes=('widget-i…"
      ]
     },
     "metadata": {},
     "output_type": "display_data"
    },
    {
     "data": {
      "text/html": [
       "\n",
       "\n",
       "\n",
       "\n",
       "\n",
       "\n",
       "  <div class=\"bk-root\" id=\"0ac61603-efe7-4558-a677-9075db6c57d1\" data-root-id=\"2091\"></div>\n"
      ]
     },
     "metadata": {},
     "output_type": "display_data"
    },
    {
     "data": {
      "application/javascript": [
       "(function(root) {\n",
       "  function embed_document(root) {\n",
       "    \n",
       "  var docs_json = {\"6f4cbfae-9340-4f2c-a080-fc00a21fba54\":{\"roots\":{\"references\":[{\"attributes\":{\"children\":[{\"id\":\"2090\",\"type\":\"ToolbarBox\"},{\"id\":\"2088\",\"type\":\"GridBox\"}]},\"id\":\"2091\",\"type\":\"Column\"},{\"attributes\":{\"callback\":null,\"data\":{\"x\":[0,1,2,3,4,5,6,7,8,9,10,11,12,13,14,15,16,17,18,19],\"y\":[0,1,2,3,4,5,6,7,8,9,10,11,12,13,14,15,16,17,18,19]},\"selected\":{\"id\":\"2072\",\"type\":\"Selection\"},\"selection_policy\":{\"id\":\"2071\",\"type\":\"UnionRenderers\"}},\"id\":\"1984\",\"type\":\"ColumnDataSource\"},{\"attributes\":{\"text\":\"sales\"},\"id\":\"1990\",\"type\":\"Title\"},{\"attributes\":{\"text\":\"cost\"},\"id\":\"1996\",\"type\":\"Title\"},{\"attributes\":{\"fill_alpha\":{\"value\":0.5},\"fill_color\":{\"value\":\"red\"},\"line_color\":{\"value\":\"red\"},\"size\":{\"units\":\"screen\",\"value\":10},\"x\":{\"field\":\"x\"},\"y\":{\"field\":\"y\"}},\"id\":\"2005\",\"type\":\"Circle\"},{\"attributes\":{\"callback\":null,\"data\":{\"x\":[15],\"y\":{\"__ndarray__\":\"AAAAAAAACEA=\",\"dtype\":\"float64\",\"shape\":[1]}},\"selected\":{\"id\":\"2086\",\"type\":\"Selection\"},\"selection_policy\":{\"id\":\"2085\",\"type\":\"UnionRenderers\"}},\"id\":\"2014\",\"type\":\"ColumnDataSource\"},{\"attributes\":{\"data_source\":{\"id\":\"1984\",\"type\":\"ColumnDataSource\"},\"glyph\":{\"id\":\"1985\",\"type\":\"Line\"},\"hover_glyph\":null,\"muted_glyph\":null,\"view\":{\"id\":\"1995\",\"type\":\"CDSView\"}},\"id\":\"1994\",\"type\":\"GlyphRenderer\"},{\"attributes\":{\"line_color\":\"blue\",\"line_width\":2,\"x\":{\"field\":\"x\"},\"y\":{\"field\":\"y\"}},\"id\":\"1987\",\"type\":\"Line\"},{\"attributes\":{\"data_source\":{\"id\":\"1982\",\"type\":\"ColumnDataSource\"},\"glyph\":{\"id\":\"1983\",\"type\":\"Line\"},\"hover_glyph\":null,\"muted_glyph\":null,\"view\":{\"id\":\"1992\",\"type\":\"CDSView\"}},\"id\":\"1991\",\"type\":\"GlyphRenderer\"},{\"attributes\":{\"text\":\"revenue\"},\"id\":\"1993\",\"type\":\"Title\"},{\"attributes\":{},\"id\":\"1913\",\"type\":\"LinearScale\"},{\"attributes\":{\"fill_alpha\":{\"value\":0.5},\"fill_color\":{\"value\":\"red\"},\"line_color\":{\"value\":\"red\"},\"size\":{\"units\":\"screen\",\"value\":10},\"x\":{\"field\":\"x\"},\"y\":{\"field\":\"y\"}},\"id\":\"2013\",\"type\":\"Circle\"},{\"attributes\":{},\"id\":\"2047\",\"type\":\"UnionRenderers\"},{\"attributes\":{\"ticker\":{\"id\":\"1918\",\"type\":\"BasicTicker\"}},\"id\":\"1921\",\"type\":\"Grid\"},{\"attributes\":{\"data_source\":{\"id\":\"2012\",\"type\":\"ColumnDataSource\"},\"glyph\":{\"id\":\"2013\",\"type\":\"Circle\"},\"hover_glyph\":null,\"muted_glyph\":null,\"view\":{\"id\":\"2021\",\"type\":\"CDSView\"}},\"id\":\"2020\",\"type\":\"GlyphRenderer\"},{\"attributes\":{\"source\":{\"id\":\"1982\",\"type\":\"ColumnDataSource\"}},\"id\":\"1992\",\"type\":\"CDSView\"},{\"attributes\":{\"line_color\":\"blue\",\"line_width\":2,\"x\":{\"field\":\"x\"},\"y\":{\"field\":\"y\"}},\"id\":\"1983\",\"type\":\"Line\"},{\"attributes\":{\"callback\":null,\"data\":{\"x\":[0,1,2,3,4,5,6,7,8,9,10,11,12,13,14,15,16,17,18,19],\"y\":{\"__ndarray__\":\"AAAAAAAAAADQzMzMzMzsPzgzMzMzM/s/NDMzMzMzA0AEAAAAAAAIQAAAAAAAAAxAMDMzMzMzD0DKzMzMzMwQQJ6ZmZmZmRFABAAAAAAAEkAAAAAAAAASQJiZmZmZmRFAzMzMzMzMEEA4MzMzMzMPQAAAAAAAAAxAAAAAAAAACEA4MzMzMzMDQDAzMzMzM/s/4MzMzMzM7D8AAAAAAAAAAA==\",\"dtype\":\"float64\",\"shape\":[20]}},\"selected\":{\"id\":\"2084\",\"type\":\"Selection\"},\"selection_policy\":{\"id\":\"2083\",\"type\":\"UnionRenderers\"}},\"id\":\"1986\",\"type\":\"ColumnDataSource\"},{\"attributes\":{\"source\":{\"id\":\"2012\",\"type\":\"ColumnDataSource\"}},\"id\":\"2021\",\"type\":\"CDSView\"},{\"attributes\":{\"callback\":null,\"data\":{\"x\":[15],\"y\":[15]},\"selected\":{\"id\":\"2074\",\"type\":\"Selection\"},\"selection_policy\":{\"id\":\"2073\",\"type\":\"UnionRenderers\"}},\"id\":\"2012\",\"type\":\"ColumnDataSource\"},{\"attributes\":{\"data_source\":{\"id\":\"1986\",\"type\":\"ColumnDataSource\"},\"glyph\":{\"id\":\"1987\",\"type\":\"Line\"},\"hover_glyph\":null,\"muted_glyph\":null,\"view\":{\"id\":\"1998\",\"type\":\"CDSView\"}},\"id\":\"1997\",\"type\":\"GlyphRenderer\"},{\"attributes\":{\"callback\":null,\"data\":{\"x\":[15],\"y\":{\"__ndarray__\":\"AAAAAAAAMkA=\",\"dtype\":\"float64\",\"shape\":[1]}},\"selected\":{\"id\":\"2062\",\"type\":\"Selection\"},\"selection_policy\":{\"id\":\"2061\",\"type\":\"UnionRenderers\"}},\"id\":\"2010\",\"type\":\"ColumnDataSource\"},{\"attributes\":{\"source\":{\"id\":\"1984\",\"type\":\"ColumnDataSource\"}},\"id\":\"1995\",\"type\":\"CDSView\"},{\"attributes\":{\"children\":[[{\"id\":\"1844\",\"subtype\":\"Figure\",\"type\":\"Plot\"},0,0],[{\"id\":\"1876\",\"subtype\":\"Figure\",\"type\":\"Plot\"},0,1],[{\"id\":\"1908\",\"subtype\":\"Figure\",\"type\":\"Plot\"},1,0],[{\"id\":\"1940\",\"subtype\":\"Figure\",\"type\":\"Plot\"},1,1]]},\"id\":\"2088\",\"type\":\"GridBox\"},{\"attributes\":{\"below\":[{\"id\":\"1853\",\"type\":\"LinearAxis\"}],\"center\":[{\"id\":\"1857\",\"type\":\"Grid\"},{\"id\":\"1862\",\"type\":\"Grid\"}],\"left\":[{\"id\":\"1858\",\"type\":\"LinearAxis\"}],\"plot_height\":350,\"plot_width\":350,\"renderers\":[{\"id\":\"1988\",\"type\":\"GlyphRenderer\"},{\"id\":\"2016\",\"type\":\"GlyphRenderer\"}],\"title\":{\"id\":\"1990\",\"type\":\"Title\"},\"toolbar\":{\"id\":\"1869\",\"type\":\"Toolbar\"},\"toolbar_location\":null,\"x_range\":{\"id\":\"1845\",\"type\":\"DataRange1d\"},\"x_scale\":{\"id\":\"1849\",\"type\":\"LinearScale\"},\"y_range\":{\"id\":\"1847\",\"type\":\"DataRange1d\"},\"y_scale\":{\"id\":\"1851\",\"type\":\"LinearScale\"}},\"id\":\"1844\",\"subtype\":\"Figure\",\"type\":\"Plot\"},{\"attributes\":{\"source\":{\"id\":\"1986\",\"type\":\"ColumnDataSource\"}},\"id\":\"1998\",\"type\":\"CDSView\"},{\"attributes\":{\"source\":{\"id\":\"2014\",\"type\":\"ColumnDataSource\"}},\"id\":\"2023\",\"type\":\"CDSView\"},{\"attributes\":{\"text\":\"profit\"},\"id\":\"1999\",\"type\":\"Title\"},{\"attributes\":{\"data_source\":{\"id\":\"2010\",\"type\":\"ColumnDataSource\"},\"glyph\":{\"id\":\"2011\",\"type\":\"Circle\"},\"hover_glyph\":null,\"muted_glyph\":null,\"view\":{\"id\":\"2019\",\"type\":\"CDSView\"}},\"id\":\"2018\",\"type\":\"GlyphRenderer\"},{\"attributes\":{\"bottom_units\":\"screen\",\"fill_alpha\":{\"value\":0.5},\"fill_color\":{\"value\":\"lightgrey\"},\"left_units\":\"screen\",\"level\":\"overlay\",\"line_alpha\":{\"value\":1.0},\"line_color\":{\"value\":\"black\"},\"line_dash\":[4,4],\"line_width\":{\"value\":2},\"render_mode\":\"css\",\"right_units\":\"screen\",\"top_units\":\"screen\"},\"id\":\"2046\",\"type\":\"BoxAnnotation\"},{\"attributes\":{\"fill_alpha\":{\"value\":0.5},\"fill_color\":{\"value\":\"red\"},\"line_color\":{\"value\":\"red\"},\"size\":{\"units\":\"screen\",\"value\":10},\"x\":{\"field\":\"x\"},\"y\":{\"field\":\"y\"}},\"id\":\"2011\",\"type\":\"Circle\"},{\"attributes\":{},\"id\":\"2045\",\"type\":\"BasicTickFormatter\"},{\"attributes\":{},\"id\":\"2048\",\"type\":\"Selection\"},{\"attributes\":{\"line_color\":\"blue\",\"line_width\":2,\"x\":{\"field\":\"x\"},\"y\":{\"field\":\"y\"}},\"id\":\"1985\",\"type\":\"Line\"},{\"attributes\":{},\"id\":\"1915\",\"type\":\"LinearScale\"},{\"attributes\":{\"fill_alpha\":{\"value\":0.5},\"fill_color\":{\"value\":\"red\"},\"line_color\":{\"value\":\"red\"},\"size\":{\"units\":\"screen\",\"value\":10},\"x\":{\"field\":\"x\"},\"y\":{\"field\":\"y\"}},\"id\":\"2015\",\"type\":\"Circle\"},{\"attributes\":{\"data_source\":{\"id\":\"2014\",\"type\":\"ColumnDataSource\"},\"glyph\":{\"id\":\"2015\",\"type\":\"Circle\"},\"hover_glyph\":null,\"muted_glyph\":null,\"view\":{\"id\":\"2023\",\"type\":\"CDSView\"}},\"id\":\"2022\",\"type\":\"GlyphRenderer\"},{\"attributes\":{\"line_color\":\"blue\",\"line_width\":2,\"x\":{\"field\":\"x\"},\"y\":{\"field\":\"y\"}},\"id\":\"1977\",\"type\":\"Line\"},{\"attributes\":{\"source\":{\"id\":\"2004\",\"type\":\"ColumnDataSource\"}},\"id\":\"2017\",\"type\":\"CDSView\"},{\"attributes\":{\"callback\":null,\"data\":{\"x\":[15],\"y\":{\"__ndarray__\":\"AAAAAAAAIkA=\",\"dtype\":\"float64\",\"shape\":[1]}},\"selected\":{\"id\":\"2050\",\"type\":\"Selection\"},\"selection_policy\":{\"id\":\"2049\",\"type\":\"UnionRenderers\"}},\"id\":\"2004\",\"type\":\"ColumnDataSource\"},{\"attributes\":{},\"id\":\"2049\",\"type\":\"UnionRenderers\"},{\"attributes\":{},\"id\":\"2060\",\"type\":\"Selection\"},{\"attributes\":{\"source\":{\"id\":\"2010\",\"type\":\"ColumnDataSource\"}},\"id\":\"2019\",\"type\":\"CDSView\"},{\"attributes\":{},\"id\":\"1962\",\"type\":\"SaveTool\"},{\"attributes\":{\"callback\":null,\"data\":{\"x\":[0,1,2,3,4,5,6,7,8,9,10,11,12,13,14,15,16,17,18,19],\"y\":{\"__ndarray__\":\"AAAAAAAAAABoZmZmZmb+P5yZmZmZmQ1AmpmZmZmZFUACAAAAAAAcQAAAAAAAACFAzMzMzMzMI0BlZmZmZmYmQM/MzMzMzChAAgAAAAAAK0AAAAAAAAAtQMzMzMzMzC5AMzMzMzMzMEBnZmZmZuYwQAAAAAAAgDFAAAAAAAAAMkBnZmZmZmYyQDMzMzMzszJAZ2ZmZmbmMkAAAAAAAAAzQA==\",\"dtype\":\"float64\",\"shape\":[20]}},\"selected\":{\"id\":\"2060\",\"type\":\"Selection\"},\"selection_policy\":{\"id\":\"2059\",\"type\":\"UnionRenderers\"}},\"id\":\"1982\",\"type\":\"ColumnDataSource\"},{\"attributes\":{},\"id\":\"2043\",\"type\":\"BasicTickFormatter\"},{\"attributes\":{},\"id\":\"1963\",\"type\":\"ResetTool\"},{\"attributes\":{\"tools\":[{\"id\":\"1863\",\"type\":\"PanTool\"},{\"id\":\"1864\",\"type\":\"WheelZoomTool\"},{\"id\":\"1865\",\"type\":\"BoxZoomTool\"},{\"id\":\"1866\",\"type\":\"SaveTool\"},{\"id\":\"1867\",\"type\":\"ResetTool\"},{\"id\":\"1868\",\"type\":\"HelpTool\"},{\"id\":\"1895\",\"type\":\"PanTool\"},{\"id\":\"1896\",\"type\":\"WheelZoomTool\"},{\"id\":\"1897\",\"type\":\"BoxZoomTool\"},{\"id\":\"1898\",\"type\":\"SaveTool\"},{\"id\":\"1899\",\"type\":\"ResetTool\"},{\"id\":\"1900\",\"type\":\"HelpTool\"},{\"id\":\"1927\",\"type\":\"PanTool\"},{\"id\":\"1928\",\"type\":\"WheelZoomTool\"},{\"id\":\"1929\",\"type\":\"BoxZoomTool\"},{\"id\":\"1930\",\"type\":\"SaveTool\"},{\"id\":\"1931\",\"type\":\"ResetTool\"},{\"id\":\"1932\",\"type\":\"HelpTool\"},{\"id\":\"1959\",\"type\":\"PanTool\"},{\"id\":\"1960\",\"type\":\"WheelZoomTool\"},{\"id\":\"1961\",\"type\":\"BoxZoomTool\"},{\"id\":\"1962\",\"type\":\"SaveTool\"},{\"id\":\"1963\",\"type\":\"ResetTool\"},{\"id\":\"1964\",\"type\":\"HelpTool\"}]},\"id\":\"2089\",\"type\":\"ProxyToolbar\"},{\"attributes\":{\"callback\":null,\"data\":{\"x\":[0,1,2,3,4,5,6,7,8,9,10,11,12,13,14,15,16,17,18,19],\"y\":{\"__ndarray__\":\"AAAAAAAAAABoZmZmZmbuP5yZmZmZmf0/mpmZmZmZBUACAAAAAAAMQAAAAAAAABFAzMzMzMzME0BlZmZmZmYWQM/MzMzMzBhAAgAAAAAAG0AAAAAAAAAdQMzMzMzMzB5AMzMzMzMzIEBnZmZmZuYgQAAAAAAAgCFAAAAAAAAAIkBnZmZmZmYiQDMzMzMzsyJAZ2ZmZmbmIkAAAAAAAAAjQA==\",\"dtype\":\"float64\",\"shape\":[20]}},\"selected\":{\"id\":\"2048\",\"type\":\"Selection\"},\"selection_policy\":{\"id\":\"2047\",\"type\":\"UnionRenderers\"}},\"id\":\"1976\",\"type\":\"ColumnDataSource\"},{\"attributes\":{\"below\":[{\"id\":\"1917\",\"type\":\"LinearAxis\"}],\"center\":[{\"id\":\"1921\",\"type\":\"Grid\"},{\"id\":\"1926\",\"type\":\"Grid\"}],\"left\":[{\"id\":\"1922\",\"type\":\"LinearAxis\"}],\"plot_height\":350,\"plot_width\":350,\"renderers\":[{\"id\":\"1994\",\"type\":\"GlyphRenderer\"},{\"id\":\"2020\",\"type\":\"GlyphRenderer\"}],\"title\":{\"id\":\"1996\",\"type\":\"Title\"},\"toolbar\":{\"id\":\"1933\",\"type\":\"Toolbar\"},\"toolbar_location\":null,\"x_range\":{\"id\":\"1909\",\"type\":\"DataRange1d\"},\"x_scale\":{\"id\":\"1913\",\"type\":\"LinearScale\"},\"y_range\":{\"id\":\"1911\",\"type\":\"DataRange1d\"},\"y_scale\":{\"id\":\"1915\",\"type\":\"LinearScale\"}},\"id\":\"1908\",\"subtype\":\"Figure\",\"type\":\"Plot\"},{\"attributes\":{\"callback\":null},\"id\":\"1845\",\"type\":\"DataRange1d\"},{\"attributes\":{\"ticker\":{\"id\":\"1886\",\"type\":\"BasicTicker\"}},\"id\":\"1889\",\"type\":\"Grid\"},{\"attributes\":{},\"id\":\"1918\",\"type\":\"BasicTicker\"},{\"attributes\":{\"axis_label\":\"order qty\",\"formatter\":{\"id\":\"2055\",\"type\":\"BasicTickFormatter\"},\"ticker\":{\"id\":\"1886\",\"type\":\"BasicTicker\"}},\"id\":\"1885\",\"type\":\"LinearAxis\"},{\"attributes\":{},\"id\":\"1945\",\"type\":\"LinearScale\"},{\"attributes\":{},\"id\":\"2072\",\"type\":\"Selection\"},{\"attributes\":{},\"id\":\"1959\",\"type\":\"PanTool\"},{\"attributes\":{\"data_source\":{\"id\":\"2004\",\"type\":\"ColumnDataSource\"},\"glyph\":{\"id\":\"2005\",\"type\":\"Circle\"},\"hover_glyph\":null,\"muted_glyph\":null,\"view\":{\"id\":\"2017\",\"type\":\"CDSView\"}},\"id\":\"2016\",\"type\":\"GlyphRenderer\"},{\"attributes\":{},\"id\":\"1900\",\"type\":\"HelpTool\"},{\"attributes\":{\"callback\":null},\"id\":\"1909\",\"type\":\"DataRange1d\"},{\"attributes\":{},\"id\":\"2074\",\"type\":\"Selection\"},{\"attributes\":{},\"id\":\"1899\",\"type\":\"ResetTool\"},{\"attributes\":{},\"id\":\"1863\",\"type\":\"PanTool\"},{\"attributes\":{},\"id\":\"2069\",\"type\":\"BasicTickFormatter\"},{\"attributes\":{},\"id\":\"2073\",\"type\":\"UnionRenderers\"},{\"attributes\":{\"callback\":null},\"id\":\"1943\",\"type\":\"DataRange1d\"},{\"attributes\":{},\"id\":\"2079\",\"type\":\"BasicTickFormatter\"},{\"attributes\":{},\"id\":\"2067\",\"type\":\"BasicTickFormatter\"},{\"attributes\":{},\"id\":\"1881\",\"type\":\"LinearScale\"},{\"attributes\":{\"axis_label\":\"expected revenue\",\"formatter\":{\"id\":\"2057\",\"type\":\"BasicTickFormatter\"},\"ticker\":{\"id\":\"1891\",\"type\":\"BasicTicker\"}},\"id\":\"1890\",\"type\":\"LinearAxis\"},{\"attributes\":{},\"id\":\"2057\",\"type\":\"BasicTickFormatter\"},{\"attributes\":{\"dimension\":1,\"ticker\":{\"id\":\"1923\",\"type\":\"BasicTicker\"}},\"id\":\"1926\",\"type\":\"Grid\"},{\"attributes\":{\"ticker\":{\"id\":\"1950\",\"type\":\"BasicTicker\"}},\"id\":\"1953\",\"type\":\"Grid\"},{\"attributes\":{},\"id\":\"2071\",\"type\":\"UnionRenderers\"},{\"attributes\":{},\"id\":\"1931\",\"type\":\"ResetTool\"},{\"attributes\":{},\"id\":\"1898\",\"type\":\"SaveTool\"},{\"attributes\":{\"bottom_units\":\"screen\",\"fill_alpha\":{\"value\":0.5},\"fill_color\":{\"value\":\"lightgrey\"},\"left_units\":\"screen\",\"level\":\"overlay\",\"line_alpha\":{\"value\":1.0},\"line_color\":{\"value\":\"black\"},\"line_dash\":[4,4],\"line_width\":{\"value\":2},\"render_mode\":\"css\",\"right_units\":\"screen\",\"top_units\":\"screen\"},\"id\":\"2058\",\"type\":\"BoxAnnotation\"},{\"attributes\":{\"bottom_units\":\"screen\",\"fill_alpha\":{\"value\":0.5},\"fill_color\":{\"value\":\"lightgrey\"},\"left_units\":\"screen\",\"level\":\"overlay\",\"line_alpha\":{\"value\":1.0},\"line_color\":{\"value\":\"black\"},\"line_dash\":[4,4],\"line_width\":{\"value\":2},\"render_mode\":\"css\",\"right_units\":\"screen\",\"top_units\":\"screen\"},\"id\":\"2070\",\"type\":\"BoxAnnotation\"},{\"attributes\":{},\"id\":\"1854\",\"type\":\"BasicTicker\"},{\"attributes\":{},\"id\":\"2083\",\"type\":\"UnionRenderers\"},{\"attributes\":{\"axis_label\":\"order qty\",\"formatter\":{\"id\":\"2067\",\"type\":\"BasicTickFormatter\"},\"ticker\":{\"id\":\"1918\",\"type\":\"BasicTicker\"}},\"id\":\"1917\",\"type\":\"LinearAxis\"},{\"attributes\":{},\"id\":\"2059\",\"type\":\"UnionRenderers\"},{\"attributes\":{},\"id\":\"1849\",\"type\":\"LinearScale\"},{\"attributes\":{},\"id\":\"2055\",\"type\":\"BasicTickFormatter\"},{\"attributes\":{},\"id\":\"2062\",\"type\":\"Selection\"},{\"attributes\":{},\"id\":\"1867\",\"type\":\"ResetTool\"},{\"attributes\":{\"bottom_units\":\"screen\",\"fill_alpha\":{\"value\":0.5},\"fill_color\":{\"value\":\"lightgrey\"},\"left_units\":\"screen\",\"level\":\"overlay\",\"line_alpha\":{\"value\":1.0},\"line_color\":{\"value\":\"black\"},\"line_dash\":[4,4],\"line_width\":{\"value\":2},\"render_mode\":\"css\",\"right_units\":\"screen\",\"top_units\":\"screen\"},\"id\":\"2082\",\"type\":\"BoxAnnotation\"},{\"attributes\":{\"source\":{\"id\":\"1976\",\"type\":\"ColumnDataSource\"}},\"id\":\"1989\",\"type\":\"CDSView\"},{\"attributes\":{},\"id\":\"1868\",\"type\":\"HelpTool\"},{\"attributes\":{\"callback\":null},\"id\":\"1847\",\"type\":\"DataRange1d\"},{\"attributes\":{\"axis_label\":\"expected cost\",\"formatter\":{\"id\":\"2069\",\"type\":\"BasicTickFormatter\"},\"ticker\":{\"id\":\"1923\",\"type\":\"BasicTicker\"}},\"id\":\"1922\",\"type\":\"LinearAxis\"},{\"attributes\":{},\"id\":\"1923\",\"type\":\"BasicTicker\"},{\"attributes\":{},\"id\":\"2061\",\"type\":\"UnionRenderers\"},{\"attributes\":{},\"id\":\"1883\",\"type\":\"LinearScale\"},{\"attributes\":{\"dimension\":1,\"ticker\":{\"id\":\"1859\",\"type\":\"BasicTicker\"}},\"id\":\"1862\",\"type\":\"Grid\"},{\"attributes\":{},\"id\":\"1932\",\"type\":\"HelpTool\"},{\"attributes\":{},\"id\":\"1891\",\"type\":\"BasicTicker\"},{\"attributes\":{\"active_drag\":\"auto\",\"active_inspect\":\"auto\",\"active_multi\":null,\"active_scroll\":\"auto\",\"active_tap\":\"auto\",\"tools\":[{\"id\":\"1863\",\"type\":\"PanTool\"},{\"id\":\"1864\",\"type\":\"WheelZoomTool\"},{\"id\":\"1865\",\"type\":\"BoxZoomTool\"},{\"id\":\"1866\",\"type\":\"SaveTool\"},{\"id\":\"1867\",\"type\":\"ResetTool\"},{\"id\":\"1868\",\"type\":\"HelpTool\"}]},\"id\":\"1869\",\"type\":\"Toolbar\"},{\"attributes\":{},\"id\":\"2050\",\"type\":\"Selection\"},{\"attributes\":{\"overlay\":{\"id\":\"2046\",\"type\":\"BoxAnnotation\"}},\"id\":\"1865\",\"type\":\"BoxZoomTool\"},{\"attributes\":{\"callback\":null},\"id\":\"1941\",\"type\":\"DataRange1d\"},{\"attributes\":{},\"id\":\"2084\",\"type\":\"Selection\"},{\"attributes\":{},\"id\":\"1930\",\"type\":\"SaveTool\"},{\"attributes\":{\"overlay\":{\"id\":\"2082\",\"type\":\"BoxAnnotation\"}},\"id\":\"1961\",\"type\":\"BoxZoomTool\"},{\"attributes\":{},\"id\":\"2081\",\"type\":\"BasicTickFormatter\"},{\"attributes\":{\"dimension\":1,\"ticker\":{\"id\":\"1891\",\"type\":\"BasicTicker\"}},\"id\":\"1894\",\"type\":\"Grid\"},{\"attributes\":{\"axis_label\":\"expected profit\",\"formatter\":{\"id\":\"2081\",\"type\":\"BasicTickFormatter\"},\"ticker\":{\"id\":\"1955\",\"type\":\"BasicTicker\"}},\"id\":\"1954\",\"type\":\"LinearAxis\"},{\"attributes\":{},\"id\":\"1859\",\"type\":\"BasicTicker\"},{\"attributes\":{},\"id\":\"2085\",\"type\":\"UnionRenderers\"},{\"attributes\":{\"axis_label\":\"order qty\",\"formatter\":{\"id\":\"2043\",\"type\":\"BasicTickFormatter\"},\"ticker\":{\"id\":\"1854\",\"type\":\"BasicTicker\"}},\"id\":\"1853\",\"type\":\"LinearAxis\"},{\"attributes\":{},\"id\":\"1866\",\"type\":\"SaveTool\"},{\"attributes\":{},\"id\":\"1927\",\"type\":\"PanTool\"},{\"attributes\":{},\"id\":\"1960\",\"type\":\"WheelZoomTool\"},{\"attributes\":{},\"id\":\"2086\",\"type\":\"Selection\"},{\"attributes\":{\"data_source\":{\"id\":\"1976\",\"type\":\"ColumnDataSource\"},\"glyph\":{\"id\":\"1977\",\"type\":\"Line\"},\"hover_glyph\":null,\"muted_glyph\":null,\"view\":{\"id\":\"1989\",\"type\":\"CDSView\"}},\"id\":\"1988\",\"type\":\"GlyphRenderer\"},{\"attributes\":{\"active_drag\":\"auto\",\"active_inspect\":\"auto\",\"active_multi\":null,\"active_scroll\":\"auto\",\"active_tap\":\"auto\",\"tools\":[{\"id\":\"1895\",\"type\":\"PanTool\"},{\"id\":\"1896\",\"type\":\"WheelZoomTool\"},{\"id\":\"1897\",\"type\":\"BoxZoomTool\"},{\"id\":\"1898\",\"type\":\"SaveTool\"},{\"id\":\"1899\",\"type\":\"ResetTool\"},{\"id\":\"1900\",\"type\":\"HelpTool\"}]},\"id\":\"1901\",\"type\":\"Toolbar\"},{\"attributes\":{\"dimension\":1,\"ticker\":{\"id\":\"1955\",\"type\":\"BasicTicker\"}},\"id\":\"1958\",\"type\":\"Grid\"},{\"attributes\":{\"toolbar\":{\"id\":\"2089\",\"type\":\"ProxyToolbar\"},\"toolbar_location\":\"above\"},\"id\":\"2090\",\"type\":\"ToolbarBox\"},{\"attributes\":{\"overlay\":{\"id\":\"2070\",\"type\":\"BoxAnnotation\"}},\"id\":\"1929\",\"type\":\"BoxZoomTool\"},{\"attributes\":{\"callback\":null},\"id\":\"1879\",\"type\":\"DataRange1d\"},{\"attributes\":{},\"id\":\"1864\",\"type\":\"WheelZoomTool\"},{\"attributes\":{\"overlay\":{\"id\":\"2058\",\"type\":\"BoxAnnotation\"}},\"id\":\"1897\",\"type\":\"BoxZoomTool\"},{\"attributes\":{},\"id\":\"1964\",\"type\":\"HelpTool\"},{\"attributes\":{\"active_drag\":\"auto\",\"active_inspect\":\"auto\",\"active_multi\":null,\"active_scroll\":\"auto\",\"active_tap\":\"auto\",\"tools\":[{\"id\":\"1959\",\"type\":\"PanTool\"},{\"id\":\"1960\",\"type\":\"WheelZoomTool\"},{\"id\":\"1961\",\"type\":\"BoxZoomTool\"},{\"id\":\"1962\",\"type\":\"SaveTool\"},{\"id\":\"1963\",\"type\":\"ResetTool\"},{\"id\":\"1964\",\"type\":\"HelpTool\"}]},\"id\":\"1965\",\"type\":\"Toolbar\"},{\"attributes\":{\"axis_label\":\"expected sales\",\"formatter\":{\"id\":\"2045\",\"type\":\"BasicTickFormatter\"},\"ticker\":{\"id\":\"1859\",\"type\":\"BasicTicker\"}},\"id\":\"1858\",\"type\":\"LinearAxis\"},{\"attributes\":{\"callback\":null},\"id\":\"1911\",\"type\":\"DataRange1d\"},{\"attributes\":{},\"id\":\"1955\",\"type\":\"BasicTicker\"},{\"attributes\":{},\"id\":\"1895\",\"type\":\"PanTool\"},{\"attributes\":{},\"id\":\"1950\",\"type\":\"BasicTicker\"},{\"attributes\":{},\"id\":\"1896\",\"type\":\"WheelZoomTool\"},{\"attributes\":{\"callback\":null},\"id\":\"1877\",\"type\":\"DataRange1d\"},{\"attributes\":{\"axis_label\":\"order qty\",\"formatter\":{\"id\":\"2079\",\"type\":\"BasicTickFormatter\"},\"ticker\":{\"id\":\"1950\",\"type\":\"BasicTicker\"}},\"id\":\"1949\",\"type\":\"LinearAxis\"},{\"attributes\":{},\"id\":\"1928\",\"type\":\"WheelZoomTool\"},{\"attributes\":{\"ticker\":{\"id\":\"1854\",\"type\":\"BasicTicker\"}},\"id\":\"1857\",\"type\":\"Grid\"},{\"attributes\":{},\"id\":\"1886\",\"type\":\"BasicTicker\"},{\"attributes\":{\"below\":[{\"id\":\"1885\",\"type\":\"LinearAxis\"}],\"center\":[{\"id\":\"1889\",\"type\":\"Grid\"},{\"id\":\"1894\",\"type\":\"Grid\"}],\"left\":[{\"id\":\"1890\",\"type\":\"LinearAxis\"}],\"plot_height\":350,\"plot_width\":350,\"renderers\":[{\"id\":\"1991\",\"type\":\"GlyphRenderer\"},{\"id\":\"2018\",\"type\":\"GlyphRenderer\"}],\"title\":{\"id\":\"1993\",\"type\":\"Title\"},\"toolbar\":{\"id\":\"1901\",\"type\":\"Toolbar\"},\"toolbar_location\":null,\"x_range\":{\"id\":\"1877\",\"type\":\"DataRange1d\"},\"x_scale\":{\"id\":\"1881\",\"type\":\"LinearScale\"},\"y_range\":{\"id\":\"1879\",\"type\":\"DataRange1d\"},\"y_scale\":{\"id\":\"1883\",\"type\":\"LinearScale\"}},\"id\":\"1876\",\"subtype\":\"Figure\",\"type\":\"Plot\"},{\"attributes\":{},\"id\":\"1851\",\"type\":\"LinearScale\"},{\"attributes\":{},\"id\":\"1947\",\"type\":\"LinearScale\"},{\"attributes\":{\"active_drag\":\"auto\",\"active_inspect\":\"auto\",\"active_multi\":null,\"active_scroll\":\"auto\",\"active_tap\":\"auto\",\"tools\":[{\"id\":\"1927\",\"type\":\"PanTool\"},{\"id\":\"1928\",\"type\":\"WheelZoomTool\"},{\"id\":\"1929\",\"type\":\"BoxZoomTool\"},{\"id\":\"1930\",\"type\":\"SaveTool\"},{\"id\":\"1931\",\"type\":\"ResetTool\"},{\"id\":\"1932\",\"type\":\"HelpTool\"}]},\"id\":\"1933\",\"type\":\"Toolbar\"},{\"attributes\":{\"below\":[{\"id\":\"1949\",\"type\":\"LinearAxis\"}],\"center\":[{\"id\":\"1953\",\"type\":\"Grid\"},{\"id\":\"1958\",\"type\":\"Grid\"}],\"left\":[{\"id\":\"1954\",\"type\":\"LinearAxis\"}],\"plot_height\":350,\"plot_width\":350,\"renderers\":[{\"id\":\"1997\",\"type\":\"GlyphRenderer\"},{\"id\":\"2022\",\"type\":\"GlyphRenderer\"}],\"title\":{\"id\":\"1999\",\"type\":\"Title\"},\"toolbar\":{\"id\":\"1965\",\"type\":\"Toolbar\"},\"toolbar_location\":null,\"x_range\":{\"id\":\"1941\",\"type\":\"DataRange1d\"},\"x_scale\":{\"id\":\"1945\",\"type\":\"LinearScale\"},\"y_range\":{\"id\":\"1943\",\"type\":\"DataRange1d\"},\"y_scale\":{\"id\":\"1947\",\"type\":\"LinearScale\"}},\"id\":\"1940\",\"subtype\":\"Figure\",\"type\":\"Plot\"}],\"root_ids\":[\"2091\"]},\"title\":\"Bokeh Application\",\"version\":\"1.3.4\"}};\n",
       "  var render_items = [{\"docid\":\"6f4cbfae-9340-4f2c-a080-fc00a21fba54\",\"notebook_comms_target\":\"2199\",\"roots\":{\"2091\":\"0ac61603-efe7-4558-a677-9075db6c57d1\"}}];\n",
       "  root.Bokeh.embed.embed_items_notebook(docs_json, render_items);\n",
       "\n",
       "  }\n",
       "  if (root.Bokeh !== undefined) {\n",
       "    embed_document(root);\n",
       "  } else {\n",
       "    var attempts = 0;\n",
       "    var timer = setInterval(function(root) {\n",
       "      if (root.Bokeh !== undefined) {\n",
       "        embed_document(root);\n",
       "        clearInterval(timer);\n",
       "      }\n",
       "      attempts++;\n",
       "      if (attempts > 100) {\n",
       "        console.log(\"Bokeh: ERROR: Unable to run BokehJS code because BokehJS library is missing\");\n",
       "        clearInterval(timer);\n",
       "      }\n",
       "    }, 10, root)\n",
       "  }\n",
       "})(window);"
      ],
      "application/vnd.bokehjs_exec.v0+json": ""
     },
     "metadata": {
      "application/vnd.bokehjs_exec.v0+json": {
       "id": "2091"
      }
     },
     "output_type": "display_data"
    }
   ],
   "source": [
    "fields = ['sales', 'revenue', 'cost', 'profit']\n",
    "labels = {field: {'x': 'order qty', 'y': 'expected ' + field, 'title': field} for field in fields}\n",
    "ev_func = lambda n: news_plot.line_glyphs(n.exp_vals(), 'order qty')\n",
    "ev_sources, ev_plots = newsvendor.news_gridplot(news_plot.figures(fields, plot_width=350, plot_height=350), ev_func, news, labels=labels)\n",
    "circle_func = lambda n: news_plot.circle_markers(n.exp_vals([n.order_qty]))\n",
    "newsvendor.interact_gridplot({field: ev_plots[field] for field in fields}, circle_func, news, ncols=2)"
   ]
  },
  {
   "cell_type": "markdown",
   "metadata": {},
   "source": [
    "**Remark:** Again, you may feel that this is misleading since demand is discrete.  However, we never explicitly required that the order quantity $y$ had to be discrete.  We did *implicitly* assume in our revenue formula that, if $y$ is not an integer and $D > y$ we could sell partially fill a unit of demand: sell a fraction of a newspaper at the pro-rated price.  This seems unrealistic for this setting, but perhaps not for others.  In later sections we will take advantage of continuous demand and continuous order quantities for further insight."
   ]
  },
  {
   "cell_type": "markdown",
   "metadata": {},
   "source": [
    "### Exercise 2.3:\n",
    "\n",
    "Examine the plots above and confirm that the optimal order quantity does indeed maximize expected profit.\n",
    "\n",
    "Does it make sense that the expected sales, revenue, and cost are all increasing functions of order quantity?\n",
    "\n",
    "Why is it that the expected profit is increasing and then decreasing?  Can you think of the optimal order quantity in terms of balancing a tradeoff?  (Obviously, the tradeoff is between ordering too much and ordering too little.  But what are the associated costs of ordering too much versus too little?)\n",
    "\n",
    "### Exercise 2.4:\n",
    "\n",
    "Generalize the formulas you derived in Exercise 2.2 to incorporate variables for the wholesale cost $c$, retail price $p$, and maximum demand $d$ (so $D \\sim \\text{Uniform}\\{0, \\dots, d\\}$).\n",
    "\n",
    "Can you derive a formula for the optimal order quantity (as a function of $p$, $c$, and $d$)?\n",
    "\n",
    "*Hint:* Your formula for expected profit as a function of $y$ should be a concave quadratic function.  You can find the maximum of this function by solving for where its derivative equals 0."
   ]
  },
  {
   "cell_type": "code",
   "execution_count": 6,
   "metadata": {},
   "outputs": [
    {
     "data": {
      "application/vnd.jupyter.widget-view+json": {
       "model_id": "bd0ae7c1bf2844348f3b279d440cdb4a",
       "version_major": 2,
       "version_minor": 0
      },
      "text/plain": [
       "interactive(children=(IntSlider(value=15, description='Order Qty', max=19), Output()), _dom_classes=('widget-i…"
      ]
     },
     "metadata": {},
     "output_type": "display_data"
    },
    {
     "data": {
      "application/vnd.jupyter.widget-view+json": {
       "model_id": "8754d17709bb4361b2263ed96b4392c0",
       "version_major": 2,
       "version_minor": 0
      },
      "text/plain": [
       "interactive(children=(IntSlider(value=15, description='Order Qty', max=19), Output()), _dom_classes=('widget-i…"
      ]
     },
     "metadata": {},
     "output_type": "display_data"
    },
    {
     "data": {
      "text/html": [
       "\n",
       "\n",
       "\n",
       "\n",
       "\n",
       "\n",
       "  <div class=\"bk-root\" id=\"dfcb8c6c-3492-472d-ac0c-b51cb06f407c\" data-root-id=\"2711\"></div>\n"
      ]
     },
     "metadata": {},
     "output_type": "display_data"
    },
    {
     "data": {
      "application/javascript": [
       "(function(root) {\n",
       "  function embed_document(root) {\n",
       "    \n",
       "  var docs_json = {\"58559c75-66ac-418e-ae9a-e5d4169dc60e\":{\"roots\":{\"references\":[{\"attributes\":{\"children\":[{\"id\":\"2710\",\"type\":\"ToolbarBox\"},{\"id\":\"2708\",\"type\":\"GridBox\"}]},\"id\":\"2711\",\"type\":\"Column\"},{\"attributes\":{\"axis_label\":\"order qty\",\"formatter\":{\"id\":\"2675\",\"type\":\"BasicTickFormatter\"},\"ticker\":{\"id\":\"2506\",\"type\":\"BasicTicker\"}},\"id\":\"2505\",\"type\":\"LinearAxis\"},{\"attributes\":{},\"id\":\"2511\",\"type\":\"BasicTicker\"},{\"attributes\":{},\"id\":\"2506\",\"type\":\"BasicTicker\"},{\"attributes\":{\"ticker\":{\"id\":\"2506\",\"type\":\"BasicTicker\"}},\"id\":\"2509\",\"type\":\"Grid\"},{\"attributes\":{},\"id\":\"2533\",\"type\":\"LinearScale\"},{\"attributes\":{\"dimension\":1,\"ticker\":{\"id\":\"2511\",\"type\":\"BasicTicker\"}},\"id\":\"2514\",\"type\":\"Grid\"},{\"attributes\":{\"axis_label\":\"expected revenue\",\"formatter\":{\"id\":\"2677\",\"type\":\"BasicTickFormatter\"},\"ticker\":{\"id\":\"2511\",\"type\":\"BasicTicker\"}},\"id\":\"2510\",\"type\":\"LinearAxis\"},{\"attributes\":{\"callback\":null},\"id\":\"2529\",\"type\":\"DataRange1d\"},{\"attributes\":{},\"id\":\"2565\",\"type\":\"LinearScale\"},{\"attributes\":{\"callback\":null},\"id\":\"2531\",\"type\":\"DataRange1d\"},{\"attributes\":{\"active_drag\":\"auto\",\"active_inspect\":\"auto\",\"active_multi\":null,\"active_scroll\":\"auto\",\"active_tap\":\"auto\",\"tools\":[{\"id\":\"2515\",\"type\":\"PanTool\"},{\"id\":\"2516\",\"type\":\"WheelZoomTool\"},{\"id\":\"2517\",\"type\":\"BoxZoomTool\"},{\"id\":\"2518\",\"type\":\"SaveTool\"},{\"id\":\"2519\",\"type\":\"ResetTool\"},{\"id\":\"2520\",\"type\":\"HelpTool\"}]},\"id\":\"2521\",\"type\":\"Toolbar\"},{\"attributes\":{},\"id\":\"2515\",\"type\":\"PanTool\"},{\"attributes\":{},\"id\":\"2516\",\"type\":\"WheelZoomTool\"},{\"attributes\":{\"overlay\":{\"id\":\"2678\",\"type\":\"BoxAnnotation\"}},\"id\":\"2517\",\"type\":\"BoxZoomTool\"},{\"attributes\":{},\"id\":\"2518\",\"type\":\"SaveTool\"},{\"attributes\":{\"source\":{\"id\":\"2596\",\"type\":\"ColumnDataSource\"}},\"id\":\"2609\",\"type\":\"CDSView\"},{\"attributes\":{},\"id\":\"2519\",\"type\":\"ResetTool\"},{\"attributes\":{},\"id\":\"2520\",\"type\":\"HelpTool\"},{\"attributes\":{},\"id\":\"2535\",\"type\":\"LinearScale\"},{\"attributes\":{\"axis_label\":\"order qty\",\"formatter\":{\"id\":\"2687\",\"type\":\"BasicTickFormatter\"},\"ticker\":{\"id\":\"2538\",\"type\":\"BasicTicker\"}},\"id\":\"2537\",\"type\":\"LinearAxis\"},{\"attributes\":{\"data_source\":{\"id\":\"2596\",\"type\":\"ColumnDataSource\"},\"glyph\":{\"id\":\"2597\",\"type\":\"Line\"},\"hover_glyph\":null,\"muted_glyph\":null,\"view\":{\"id\":\"2609\",\"type\":\"CDSView\"}},\"id\":\"2608\",\"type\":\"GlyphRenderer\"},{\"attributes\":{},\"id\":\"2543\",\"type\":\"BasicTicker\"},{\"attributes\":{},\"id\":\"2538\",\"type\":\"BasicTicker\"},{\"attributes\":{\"ticker\":{\"id\":\"2538\",\"type\":\"BasicTicker\"}},\"id\":\"2541\",\"type\":\"Grid\"},{\"attributes\":{\"callback\":null},\"id\":\"2563\",\"type\":\"DataRange1d\"},{\"attributes\":{\"dimension\":1,\"ticker\":{\"id\":\"2543\",\"type\":\"BasicTicker\"}},\"id\":\"2546\",\"type\":\"Grid\"},{\"attributes\":{\"axis_label\":\"expected cost\",\"formatter\":{\"id\":\"2689\",\"type\":\"BasicTickFormatter\"},\"ticker\":{\"id\":\"2543\",\"type\":\"BasicTicker\"}},\"id\":\"2542\",\"type\":\"LinearAxis\"},{\"attributes\":{\"callback\":null},\"id\":\"2561\",\"type\":\"DataRange1d\"},{\"attributes\":{},\"id\":\"2663\",\"type\":\"BasicTickFormatter\"},{\"attributes\":{\"below\":[{\"id\":\"2569\",\"type\":\"LinearAxis\"}],\"center\":[{\"id\":\"2573\",\"type\":\"Grid\"},{\"id\":\"2578\",\"type\":\"Grid\"}],\"left\":[{\"id\":\"2574\",\"type\":\"LinearAxis\"}],\"plot_height\":350,\"plot_width\":350,\"renderers\":[{\"id\":\"2617\",\"type\":\"GlyphRenderer\"},{\"id\":\"2642\",\"type\":\"GlyphRenderer\"}],\"title\":{\"id\":\"2619\",\"type\":\"Title\"},\"toolbar\":{\"id\":\"2585\",\"type\":\"Toolbar\"},\"toolbar_location\":null,\"x_range\":{\"id\":\"2561\",\"type\":\"DataRange1d\"},\"x_scale\":{\"id\":\"2565\",\"type\":\"LinearScale\"},\"y_range\":{\"id\":\"2563\",\"type\":\"DataRange1d\"},\"y_scale\":{\"id\":\"2567\",\"type\":\"LinearScale\"}},\"id\":\"2560\",\"subtype\":\"Figure\",\"type\":\"Plot\"},{\"attributes\":{},\"id\":\"2547\",\"type\":\"PanTool\"},{\"attributes\":{},\"id\":\"2548\",\"type\":\"WheelZoomTool\"},{\"attributes\":{},\"id\":\"2551\",\"type\":\"ResetTool\"},{\"attributes\":{\"axis_label\":\"order qty\",\"formatter\":{\"id\":\"2699\",\"type\":\"BasicTickFormatter\"},\"ticker\":{\"id\":\"2570\",\"type\":\"BasicTicker\"}},\"id\":\"2569\",\"type\":\"LinearAxis\"},{\"attributes\":{},\"id\":\"2479\",\"type\":\"BasicTicker\"},{\"attributes\":{},\"id\":\"2550\",\"type\":\"SaveTool\"},{\"attributes\":{\"callback\":null,\"data\":{\"x\":[0,1,2,3,4,5,6,7,8,9,10,11,12,13,14,15,16,17,18,19],\"y\":{\"__ndarray__\":\"AAAAAAAAAADOzMzMzMwGQDUzMzMzMxZANDMzMzMzIEACAAAAAAAlQAAAAAAAgClAMjMzMzOzLUDMzMzMzMwwQJuZmZmZmTJAAgAAAABANEAAAAAAAMA1QJmZmZmZGTdAzMzMzMxMOECamZmZmVk5QAAAAAAAQDpAAAAAAAAAO0CamZmZmZk7QMzMzMzMDDxAmpmZmZlZPEAAAAAAAIA8QA==\",\"dtype\":\"float64\",\"shape\":[20]}},\"selected\":{\"id\":\"2680\",\"type\":\"Selection\"},\"selection_policy\":{\"id\":\"2679\",\"type\":\"UnionRenderers\"}},\"id\":\"2602\",\"type\":\"ColumnDataSource\"},{\"attributes\":{\"overlay\":{\"id\":\"2690\",\"type\":\"BoxAnnotation\"}},\"id\":\"2549\",\"type\":\"BoxZoomTool\"},{\"attributes\":{\"ticker\":{\"id\":\"2570\",\"type\":\"BasicTicker\"}},\"id\":\"2573\",\"type\":\"Grid\"},{\"attributes\":{},\"id\":\"2484\",\"type\":\"WheelZoomTool\"},{\"attributes\":{},\"id\":\"2552\",\"type\":\"HelpTool\"},{\"attributes\":{\"line_color\":\"blue\",\"line_width\":2,\"x\":{\"field\":\"x\"},\"y\":{\"field\":\"y\"}},\"id\":\"2603\",\"type\":\"Line\"},{\"attributes\":{\"callback\":null,\"data\":{\"x\":[0,1,2,3,4,5,6,7,8,9,10,11,12,13,14,15,16,17,18,19],\"y\":[0,1,2,3,4,5,6,7,8,9,10,11,12,13,14,15,16,17,18,19]},\"selected\":{\"id\":\"2692\",\"type\":\"Selection\"},\"selection_policy\":{\"id\":\"2691\",\"type\":\"UnionRenderers\"}},\"id\":\"2604\",\"type\":\"ColumnDataSource\"},{\"attributes\":{\"active_drag\":\"auto\",\"active_inspect\":\"auto\",\"active_multi\":null,\"active_scroll\":\"auto\",\"active_tap\":\"auto\",\"tools\":[{\"id\":\"2547\",\"type\":\"PanTool\"},{\"id\":\"2548\",\"type\":\"WheelZoomTool\"},{\"id\":\"2549\",\"type\":\"BoxZoomTool\"},{\"id\":\"2550\",\"type\":\"SaveTool\"},{\"id\":\"2551\",\"type\":\"ResetTool\"},{\"id\":\"2552\",\"type\":\"HelpTool\"}]},\"id\":\"2553\",\"type\":\"Toolbar\"},{\"attributes\":{},\"id\":\"2691\",\"type\":\"UnionRenderers\"},{\"attributes\":{\"below\":[{\"id\":\"2473\",\"type\":\"LinearAxis\"}],\"center\":[{\"id\":\"2477\",\"type\":\"Grid\"},{\"id\":\"2482\",\"type\":\"Grid\"}],\"left\":[{\"id\":\"2478\",\"type\":\"LinearAxis\"}],\"plot_height\":350,\"plot_width\":350,\"renderers\":[{\"id\":\"2608\",\"type\":\"GlyphRenderer\"},{\"id\":\"2636\",\"type\":\"GlyphRenderer\"}],\"title\":{\"id\":\"2610\",\"type\":\"Title\"},\"toolbar\":{\"id\":\"2489\",\"type\":\"Toolbar\"},\"toolbar_location\":null,\"x_range\":{\"id\":\"2465\",\"type\":\"DataRange1d\"},\"x_scale\":{\"id\":\"2469\",\"type\":\"LinearScale\"},\"y_range\":{\"id\":\"2467\",\"type\":\"DataRange1d\"},\"y_scale\":{\"id\":\"2471\",\"type\":\"LinearScale\"}},\"id\":\"2464\",\"subtype\":\"Figure\",\"type\":\"Plot\"},{\"attributes\":{\"fill_alpha\":{\"value\":0.5},\"fill_color\":{\"value\":\"red\"},\"line_color\":{\"value\":\"red\"},\"size\":{\"units\":\"screen\",\"value\":10},\"x\":{\"field\":\"x\"},\"y\":{\"field\":\"y\"}},\"id\":\"2625\",\"type\":\"Circle\"},{\"attributes\":{},\"id\":\"2677\",\"type\":\"BasicTickFormatter\"},{\"attributes\":{\"data_source\":{\"id\":\"2624\",\"type\":\"ColumnDataSource\"},\"glyph\":{\"id\":\"2625\",\"type\":\"Circle\"},\"hover_glyph\":null,\"muted_glyph\":null,\"view\":{\"id\":\"2637\",\"type\":\"CDSView\"}},\"id\":\"2636\",\"type\":\"GlyphRenderer\"},{\"attributes\":{},\"id\":\"2567\",\"type\":\"LinearScale\"},{\"attributes\":{\"line_color\":\"blue\",\"line_width\":2,\"x\":{\"field\":\"x\"},\"y\":{\"field\":\"y\"}},\"id\":\"2605\",\"type\":\"Line\"},{\"attributes\":{},\"id\":\"2680\",\"type\":\"Selection\"},{\"attributes\":{\"callback\":null,\"data\":{\"x\":[15],\"y\":{\"__ndarray__\":\"AAAAAAAAIkA=\",\"dtype\":\"float64\",\"shape\":[1]}},\"selected\":{\"id\":\"2670\",\"type\":\"Selection\"},\"selection_policy\":{\"id\":\"2669\",\"type\":\"UnionRenderers\"}},\"id\":\"2624\",\"type\":\"ColumnDataSource\"},{\"attributes\":{\"callback\":null,\"data\":{\"x\":[0,1,2,3,4,5,6,7,8,9,10,11,12,13,14,15,16,17,18,19],\"y\":{\"__ndarray__\":\"AAAAAAAAAACcmZmZmZn9P2pmZmZmZgxAaGZmZmZmFEAEAAAAAAAaQAAAAAAAAB9AMjMzMzOzIUCYmZmZmZkjQDYzMzMzMyVABAAAAACAJkAAAAAAAIAnQDIzMzMzMyhAmJmZmZmZKEA0MzMzM7MoQAAAAAAAgChAAAAAAAAAKEA0MzMzMzMnQJiZmZmZGSZANDMzMzOzJEAAAAAAAAAjQA==\",\"dtype\":\"float64\",\"shape\":[20]}},\"selected\":{\"id\":\"2704\",\"type\":\"Selection\"},\"selection_policy\":{\"id\":\"2703\",\"type\":\"UnionRenderers\"}},\"id\":\"2606\",\"type\":\"ColumnDataSource\"},{\"attributes\":{\"bottom_units\":\"screen\",\"fill_alpha\":{\"value\":0.5},\"fill_color\":{\"value\":\"lightgrey\"},\"left_units\":\"screen\",\"level\":\"overlay\",\"line_alpha\":{\"value\":1.0},\"line_color\":{\"value\":\"black\"},\"line_dash\":[4,4],\"line_width\":{\"value\":2},\"render_mode\":\"css\",\"right_units\":\"screen\",\"top_units\":\"screen\"},\"id\":\"2690\",\"type\":\"BoxAnnotation\"},{\"attributes\":{},\"id\":\"2487\",\"type\":\"ResetTool\"},{\"attributes\":{\"axis_label\":\"expected profit\",\"formatter\":{\"id\":\"2701\",\"type\":\"BasicTickFormatter\"},\"ticker\":{\"id\":\"2575\",\"type\":\"BasicTicker\"}},\"id\":\"2574\",\"type\":\"LinearAxis\"},{\"attributes\":{},\"id\":\"2675\",\"type\":\"BasicTickFormatter\"},{\"attributes\":{\"callback\":null},\"id\":\"2497\",\"type\":\"DataRange1d\"},{\"attributes\":{\"dimension\":1,\"ticker\":{\"id\":\"2575\",\"type\":\"BasicTicker\"}},\"id\":\"2578\",\"type\":\"Grid\"},{\"attributes\":{\"line_color\":\"blue\",\"line_width\":2,\"x\":{\"field\":\"x\"},\"y\":{\"field\":\"y\"}},\"id\":\"2607\",\"type\":\"Line\"},{\"attributes\":{\"source\":{\"id\":\"2604\",\"type\":\"ColumnDataSource\"}},\"id\":\"2615\",\"type\":\"CDSView\"},{\"attributes\":{\"callback\":null},\"id\":\"2499\",\"type\":\"DataRange1d\"},{\"attributes\":{},\"id\":\"2474\",\"type\":\"BasicTicker\"},{\"attributes\":{},\"id\":\"2570\",\"type\":\"BasicTicker\"},{\"attributes\":{\"source\":{\"id\":\"2606\",\"type\":\"ColumnDataSource\"}},\"id\":\"2618\",\"type\":\"CDSView\"},{\"attributes\":{\"source\":{\"id\":\"2602\",\"type\":\"ColumnDataSource\"}},\"id\":\"2612\",\"type\":\"CDSView\"},{\"attributes\":{},\"id\":\"2679\",\"type\":\"UnionRenderers\"},{\"attributes\":{\"text\":\"sales\"},\"id\":\"2610\",\"type\":\"Title\"},{\"attributes\":{},\"id\":\"2575\",\"type\":\"BasicTicker\"},{\"attributes\":{\"data_source\":{\"id\":\"2602\",\"type\":\"ColumnDataSource\"},\"glyph\":{\"id\":\"2603\",\"type\":\"Line\"},\"hover_glyph\":null,\"muted_glyph\":null,\"view\":{\"id\":\"2612\",\"type\":\"CDSView\"}},\"id\":\"2611\",\"type\":\"GlyphRenderer\"},{\"attributes\":{\"axis_label\":\"expected sales\",\"formatter\":{\"id\":\"2665\",\"type\":\"BasicTickFormatter\"},\"ticker\":{\"id\":\"2479\",\"type\":\"BasicTicker\"}},\"id\":\"2478\",\"type\":\"LinearAxis\"},{\"attributes\":{\"data_source\":{\"id\":\"2632\",\"type\":\"ColumnDataSource\"},\"glyph\":{\"id\":\"2633\",\"type\":\"Circle\"},\"hover_glyph\":null,\"muted_glyph\":null,\"view\":{\"id\":\"2641\",\"type\":\"CDSView\"}},\"id\":\"2640\",\"type\":\"GlyphRenderer\"},{\"attributes\":{},\"id\":\"2682\",\"type\":\"Selection\"},{\"attributes\":{\"text\":\"revenue\"},\"id\":\"2613\",\"type\":\"Title\"},{\"attributes\":{\"bottom_units\":\"screen\",\"fill_alpha\":{\"value\":0.5},\"fill_color\":{\"value\":\"lightgrey\"},\"left_units\":\"screen\",\"level\":\"overlay\",\"line_alpha\":{\"value\":1.0},\"line_color\":{\"value\":\"black\"},\"line_dash\":[4,4],\"line_width\":{\"value\":2},\"render_mode\":\"css\",\"right_units\":\"screen\",\"top_units\":\"screen\"},\"id\":\"2702\",\"type\":\"BoxAnnotation\"},{\"attributes\":{},\"id\":\"2706\",\"type\":\"Selection\"},{\"attributes\":{\"dimension\":1,\"ticker\":{\"id\":\"2479\",\"type\":\"BasicTicker\"}},\"id\":\"2482\",\"type\":\"Grid\"},{\"attributes\":{\"fill_alpha\":{\"value\":0.5},\"fill_color\":{\"value\":\"red\"},\"line_color\":{\"value\":\"red\"},\"size\":{\"units\":\"screen\",\"value\":10},\"x\":{\"field\":\"x\"},\"y\":{\"field\":\"y\"}},\"id\":\"2631\",\"type\":\"Circle\"},{\"attributes\":{\"callback\":null},\"id\":\"2465\",\"type\":\"DataRange1d\"},{\"attributes\":{\"callback\":null,\"data\":{\"x\":[15],\"y\":{\"__ndarray__\":\"AAAAAAAAO0A=\",\"dtype\":\"float64\",\"shape\":[1]}},\"selected\":{\"id\":\"2682\",\"type\":\"Selection\"},\"selection_policy\":{\"id\":\"2681\",\"type\":\"UnionRenderers\"}},\"id\":\"2630\",\"type\":\"ColumnDataSource\"},{\"attributes\":{},\"id\":\"2667\",\"type\":\"UnionRenderers\"},{\"attributes\":{\"data_source\":{\"id\":\"2604\",\"type\":\"ColumnDataSource\"},\"glyph\":{\"id\":\"2605\",\"type\":\"Line\"},\"hover_glyph\":null,\"muted_glyph\":null,\"view\":{\"id\":\"2615\",\"type\":\"CDSView\"}},\"id\":\"2614\",\"type\":\"GlyphRenderer\"},{\"attributes\":{\"source\":{\"id\":\"2632\",\"type\":\"ColumnDataSource\"}},\"id\":\"2641\",\"type\":\"CDSView\"},{\"attributes\":{},\"id\":\"2694\",\"type\":\"Selection\"},{\"attributes\":{\"text\":\"cost\"},\"id\":\"2616\",\"type\":\"Title\"},{\"attributes\":{\"active_drag\":\"auto\",\"active_inspect\":\"auto\",\"active_multi\":null,\"active_scroll\":\"auto\",\"active_tap\":\"auto\",\"tools\":[{\"id\":\"2579\",\"type\":\"PanTool\"},{\"id\":\"2580\",\"type\":\"WheelZoomTool\"},{\"id\":\"2581\",\"type\":\"BoxZoomTool\"},{\"id\":\"2582\",\"type\":\"SaveTool\"},{\"id\":\"2583\",\"type\":\"ResetTool\"},{\"id\":\"2584\",\"type\":\"HelpTool\"}]},\"id\":\"2585\",\"type\":\"Toolbar\"},{\"attributes\":{\"fill_alpha\":{\"value\":0.5},\"fill_color\":{\"value\":\"red\"},\"line_color\":{\"value\":\"red\"},\"size\":{\"units\":\"screen\",\"value\":10},\"x\":{\"field\":\"x\"},\"y\":{\"field\":\"y\"}},\"id\":\"2635\",\"type\":\"Circle\"},{\"attributes\":{},\"id\":\"2582\",\"type\":\"SaveTool\"},{\"attributes\":{\"bottom_units\":\"screen\",\"fill_alpha\":{\"value\":0.5},\"fill_color\":{\"value\":\"lightgrey\"},\"left_units\":\"screen\",\"level\":\"overlay\",\"line_alpha\":{\"value\":1.0},\"line_color\":{\"value\":\"black\"},\"line_dash\":[4,4],\"line_width\":{\"value\":2},\"render_mode\":\"css\",\"right_units\":\"screen\",\"top_units\":\"screen\"},\"id\":\"2678\",\"type\":\"BoxAnnotation\"},{\"attributes\":{\"callback\":null,\"data\":{\"x\":[0,1,2,3,4,5,6,7,8,9,10,11,12,13,14,15,16,17,18,19],\"y\":{\"__ndarray__\":\"AAAAAAAAAABoZmZmZmbuP5yZmZmZmf0/mpmZmZmZBUACAAAAAAAMQAAAAAAAABFAzMzMzMzME0BlZmZmZmYWQM/MzMzMzBhAAgAAAAAAG0AAAAAAAAAdQMzMzMzMzB5AMzMzMzMzIEBnZmZmZuYgQAAAAAAAgCFAAAAAAAAAIkBnZmZmZmYiQDMzMzMzsyJAZ2ZmZmbmIkAAAAAAAAAjQA==\",\"dtype\":\"float64\",\"shape\":[20]}},\"selected\":{\"id\":\"2668\",\"type\":\"Selection\"},\"selection_policy\":{\"id\":\"2667\",\"type\":\"UnionRenderers\"}},\"id\":\"2596\",\"type\":\"ColumnDataSource\"},{\"attributes\":{\"callback\":null,\"data\":{\"x\":[15],\"y\":[15]},\"selected\":{\"id\":\"2694\",\"type\":\"Selection\"},\"selection_policy\":{\"id\":\"2693\",\"type\":\"UnionRenderers\"}},\"id\":\"2632\",\"type\":\"ColumnDataSource\"},{\"attributes\":{\"overlay\":{\"id\":\"2702\",\"type\":\"BoxAnnotation\"}},\"id\":\"2581\",\"type\":\"BoxZoomTool\"},{\"attributes\":{\"source\":{\"id\":\"2634\",\"type\":\"ColumnDataSource\"}},\"id\":\"2643\",\"type\":\"CDSView\"},{\"attributes\":{},\"id\":\"2681\",\"type\":\"UnionRenderers\"},{\"attributes\":{\"data_source\":{\"id\":\"2606\",\"type\":\"ColumnDataSource\"},\"glyph\":{\"id\":\"2607\",\"type\":\"Line\"},\"hover_glyph\":null,\"muted_glyph\":null,\"view\":{\"id\":\"2618\",\"type\":\"CDSView\"}},\"id\":\"2617\",\"type\":\"GlyphRenderer\"},{\"attributes\":{},\"id\":\"2580\",\"type\":\"WheelZoomTool\"},{\"attributes\":{\"callback\":null,\"data\":{\"x\":[15],\"y\":{\"__ndarray__\":\"AAAAAAAAKEA=\",\"dtype\":\"float64\",\"shape\":[1]}},\"selected\":{\"id\":\"2706\",\"type\":\"Selection\"},\"selection_policy\":{\"id\":\"2705\",\"type\":\"UnionRenderers\"}},\"id\":\"2634\",\"type\":\"ColumnDataSource\"},{\"attributes\":{},\"id\":\"2693\",\"type\":\"UnionRenderers\"},{\"attributes\":{\"callback\":null},\"id\":\"2467\",\"type\":\"DataRange1d\"},{\"attributes\":{\"text\":\"profit\"},\"id\":\"2619\",\"type\":\"Title\"},{\"attributes\":{},\"id\":\"2670\",\"type\":\"Selection\"},{\"attributes\":{},\"id\":\"2579\",\"type\":\"PanTool\"},{\"attributes\":{\"data_source\":{\"id\":\"2634\",\"type\":\"ColumnDataSource\"},\"glyph\":{\"id\":\"2635\",\"type\":\"Circle\"},\"hover_glyph\":null,\"muted_glyph\":null,\"view\":{\"id\":\"2643\",\"type\":\"CDSView\"}},\"id\":\"2642\",\"type\":\"GlyphRenderer\"},{\"attributes\":{},\"id\":\"2583\",\"type\":\"ResetTool\"},{\"attributes\":{},\"id\":\"2689\",\"type\":\"BasicTickFormatter\"},{\"attributes\":{},\"id\":\"2469\",\"type\":\"LinearScale\"},{\"attributes\":{},\"id\":\"2669\",\"type\":\"UnionRenderers\"},{\"attributes\":{\"tools\":[{\"id\":\"2483\",\"type\":\"PanTool\"},{\"id\":\"2484\",\"type\":\"WheelZoomTool\"},{\"id\":\"2485\",\"type\":\"BoxZoomTool\"},{\"id\":\"2486\",\"type\":\"SaveTool\"},{\"id\":\"2487\",\"type\":\"ResetTool\"},{\"id\":\"2488\",\"type\":\"HelpTool\"},{\"id\":\"2515\",\"type\":\"PanTool\"},{\"id\":\"2516\",\"type\":\"WheelZoomTool\"},{\"id\":\"2517\",\"type\":\"BoxZoomTool\"},{\"id\":\"2518\",\"type\":\"SaveTool\"},{\"id\":\"2519\",\"type\":\"ResetTool\"},{\"id\":\"2520\",\"type\":\"HelpTool\"},{\"id\":\"2547\",\"type\":\"PanTool\"},{\"id\":\"2548\",\"type\":\"WheelZoomTool\"},{\"id\":\"2549\",\"type\":\"BoxZoomTool\"},{\"id\":\"2550\",\"type\":\"SaveTool\"},{\"id\":\"2551\",\"type\":\"ResetTool\"},{\"id\":\"2552\",\"type\":\"HelpTool\"},{\"id\":\"2579\",\"type\":\"PanTool\"},{\"id\":\"2580\",\"type\":\"WheelZoomTool\"},{\"id\":\"2581\",\"type\":\"BoxZoomTool\"},{\"id\":\"2582\",\"type\":\"SaveTool\"},{\"id\":\"2583\",\"type\":\"ResetTool\"},{\"id\":\"2584\",\"type\":\"HelpTool\"}]},\"id\":\"2709\",\"type\":\"ProxyToolbar\"},{\"attributes\":{\"overlay\":{\"id\":\"2666\",\"type\":\"BoxAnnotation\"}},\"id\":\"2485\",\"type\":\"BoxZoomTool\"},{\"attributes\":{\"source\":{\"id\":\"2630\",\"type\":\"ColumnDataSource\"}},\"id\":\"2639\",\"type\":\"CDSView\"},{\"attributes\":{},\"id\":\"2687\",\"type\":\"BasicTickFormatter\"},{\"attributes\":{\"axis_label\":\"order qty\",\"formatter\":{\"id\":\"2663\",\"type\":\"BasicTickFormatter\"},\"ticker\":{\"id\":\"2474\",\"type\":\"BasicTicker\"}},\"id\":\"2473\",\"type\":\"LinearAxis\"},{\"attributes\":{\"ticker\":{\"id\":\"2474\",\"type\":\"BasicTicker\"}},\"id\":\"2477\",\"type\":\"Grid\"},{\"attributes\":{},\"id\":\"2665\",\"type\":\"BasicTickFormatter\"},{\"attributes\":{\"line_color\":\"blue\",\"line_width\":2,\"x\":{\"field\":\"x\"},\"y\":{\"field\":\"y\"}},\"id\":\"2597\",\"type\":\"Line\"},{\"attributes\":{\"below\":[{\"id\":\"2505\",\"type\":\"LinearAxis\"}],\"center\":[{\"id\":\"2509\",\"type\":\"Grid\"},{\"id\":\"2514\",\"type\":\"Grid\"}],\"left\":[{\"id\":\"2510\",\"type\":\"LinearAxis\"}],\"plot_height\":350,\"plot_width\":350,\"renderers\":[{\"id\":\"2611\",\"type\":\"GlyphRenderer\"},{\"id\":\"2638\",\"type\":\"GlyphRenderer\"}],\"title\":{\"id\":\"2613\",\"type\":\"Title\"},\"toolbar\":{\"id\":\"2521\",\"type\":\"Toolbar\"},\"toolbar_location\":null,\"x_range\":{\"id\":\"2497\",\"type\":\"DataRange1d\"},\"x_scale\":{\"id\":\"2501\",\"type\":\"LinearScale\"},\"y_range\":{\"id\":\"2499\",\"type\":\"DataRange1d\"},\"y_scale\":{\"id\":\"2503\",\"type\":\"LinearScale\"}},\"id\":\"2496\",\"subtype\":\"Figure\",\"type\":\"Plot\"},{\"attributes\":{\"source\":{\"id\":\"2624\",\"type\":\"ColumnDataSource\"}},\"id\":\"2637\",\"type\":\"CDSView\"},{\"attributes\":{},\"id\":\"2584\",\"type\":\"HelpTool\"},{\"attributes\":{\"active_drag\":\"auto\",\"active_inspect\":\"auto\",\"active_multi\":null,\"active_scroll\":\"auto\",\"active_tap\":\"auto\",\"tools\":[{\"id\":\"2483\",\"type\":\"PanTool\"},{\"id\":\"2484\",\"type\":\"WheelZoomTool\"},{\"id\":\"2485\",\"type\":\"BoxZoomTool\"},{\"id\":\"2486\",\"type\":\"SaveTool\"},{\"id\":\"2487\",\"type\":\"ResetTool\"},{\"id\":\"2488\",\"type\":\"HelpTool\"}]},\"id\":\"2489\",\"type\":\"Toolbar\"},{\"attributes\":{\"bottom_units\":\"screen\",\"fill_alpha\":{\"value\":0.5},\"fill_color\":{\"value\":\"lightgrey\"},\"left_units\":\"screen\",\"level\":\"overlay\",\"line_alpha\":{\"value\":1.0},\"line_color\":{\"value\":\"black\"},\"line_dash\":[4,4],\"line_width\":{\"value\":2},\"render_mode\":\"css\",\"right_units\":\"screen\",\"top_units\":\"screen\"},\"id\":\"2666\",\"type\":\"BoxAnnotation\"},{\"attributes\":{},\"id\":\"2692\",\"type\":\"Selection\"},{\"attributes\":{},\"id\":\"2703\",\"type\":\"UnionRenderers\"},{\"attributes\":{\"toolbar\":{\"id\":\"2709\",\"type\":\"ProxyToolbar\"},\"toolbar_location\":\"above\"},\"id\":\"2710\",\"type\":\"ToolbarBox\"},{\"attributes\":{},\"id\":\"2471\",\"type\":\"LinearScale\"},{\"attributes\":{},\"id\":\"2699\",\"type\":\"BasicTickFormatter\"},{\"attributes\":{},\"id\":\"2483\",\"type\":\"PanTool\"},{\"attributes\":{\"children\":[[{\"id\":\"2464\",\"subtype\":\"Figure\",\"type\":\"Plot\"},0,0],[{\"id\":\"2496\",\"subtype\":\"Figure\",\"type\":\"Plot\"},0,1],[{\"id\":\"2528\",\"subtype\":\"Figure\",\"type\":\"Plot\"},1,0],[{\"id\":\"2560\",\"subtype\":\"Figure\",\"type\":\"Plot\"},1,1]]},\"id\":\"2708\",\"type\":\"GridBox\"},{\"attributes\":{},\"id\":\"2701\",\"type\":\"BasicTickFormatter\"},{\"attributes\":{},\"id\":\"2668\",\"type\":\"Selection\"},{\"attributes\":{},\"id\":\"2486\",\"type\":\"SaveTool\"},{\"attributes\":{\"fill_alpha\":{\"value\":0.5},\"fill_color\":{\"value\":\"red\"},\"line_color\":{\"value\":\"red\"},\"size\":{\"units\":\"screen\",\"value\":10},\"x\":{\"field\":\"x\"},\"y\":{\"field\":\"y\"}},\"id\":\"2633\",\"type\":\"Circle\"},{\"attributes\":{\"data_source\":{\"id\":\"2630\",\"type\":\"ColumnDataSource\"},\"glyph\":{\"id\":\"2631\",\"type\":\"Circle\"},\"hover_glyph\":null,\"muted_glyph\":null,\"view\":{\"id\":\"2639\",\"type\":\"CDSView\"}},\"id\":\"2638\",\"type\":\"GlyphRenderer\"},{\"attributes\":{},\"id\":\"2704\",\"type\":\"Selection\"},{\"attributes\":{},\"id\":\"2501\",\"type\":\"LinearScale\"},{\"attributes\":{},\"id\":\"2488\",\"type\":\"HelpTool\"},{\"attributes\":{},\"id\":\"2705\",\"type\":\"UnionRenderers\"},{\"attributes\":{},\"id\":\"2503\",\"type\":\"LinearScale\"},{\"attributes\":{\"below\":[{\"id\":\"2537\",\"type\":\"LinearAxis\"}],\"center\":[{\"id\":\"2541\",\"type\":\"Grid\"},{\"id\":\"2546\",\"type\":\"Grid\"}],\"left\":[{\"id\":\"2542\",\"type\":\"LinearAxis\"}],\"plot_height\":350,\"plot_width\":350,\"renderers\":[{\"id\":\"2614\",\"type\":\"GlyphRenderer\"},{\"id\":\"2640\",\"type\":\"GlyphRenderer\"}],\"title\":{\"id\":\"2616\",\"type\":\"Title\"},\"toolbar\":{\"id\":\"2553\",\"type\":\"Toolbar\"},\"toolbar_location\":null,\"x_range\":{\"id\":\"2529\",\"type\":\"DataRange1d\"},\"x_scale\":{\"id\":\"2533\",\"type\":\"LinearScale\"},\"y_range\":{\"id\":\"2531\",\"type\":\"DataRange1d\"},\"y_scale\":{\"id\":\"2535\",\"type\":\"LinearScale\"}},\"id\":\"2528\",\"subtype\":\"Figure\",\"type\":\"Plot\"}],\"root_ids\":[\"2711\"]},\"title\":\"Bokeh Application\",\"version\":\"1.3.4\"}};\n",
       "  var render_items = [{\"docid\":\"58559c75-66ac-418e-ae9a-e5d4169dc60e\",\"notebook_comms_target\":\"2863\",\"roots\":{\"2711\":\"dfcb8c6c-3492-472d-ac0c-b51cb06f407c\"}}];\n",
       "  root.Bokeh.embed.embed_items_notebook(docs_json, render_items);\n",
       "\n",
       "  }\n",
       "  if (root.Bokeh !== undefined) {\n",
       "    embed_document(root);\n",
       "  } else {\n",
       "    var attempts = 0;\n",
       "    var timer = setInterval(function(root) {\n",
       "      if (root.Bokeh !== undefined) {\n",
       "        embed_document(root);\n",
       "        clearInterval(timer);\n",
       "      }\n",
       "      attempts++;\n",
       "      if (attempts > 100) {\n",
       "        console.log(\"Bokeh: ERROR: Unable to run BokehJS code because BokehJS library is missing\");\n",
       "        clearInterval(timer);\n",
       "      }\n",
       "    }, 10, root)\n",
       "  }\n",
       "})(window);"
      ],
      "application/vnd.bokehjs_exec.v0+json": ""
     },
     "metadata": {
      "application/vnd.bokehjs_exec.v0+json": {
       "id": "2711"
      }
     },
     "output_type": "display_data"
    }
   ],
   "source": [
    "news.coeff = {\n",
    "    'wholesale_cost': 1,\n",
    "    'retail_price': 3\n",
    "}\n",
    "\n",
    "news.set_disc_unif_demand(min_demand=0, max_demand=19)\n",
    "\n",
    "fields = ['sales', 'revenue', 'cost', 'profit']\n",
    "\n",
    "newsvendor.order_qty_interact(lambda y: news.exp_vals([y])[fields].style.hide_index(), news)\n",
    "\n",
    "labels = {field: {'x': 'order qty', 'y': 'expected ' + field, 'title': field} for field in fields}\n",
    "ev_func = lambda n: news_plot.line_glyphs(n.exp_vals(), 'order qty')\n",
    "ev_sources, ev_plots = newsvendor.news_gridplot(news_plot.figures(fields, plot_width=350, plot_height=350), ev_func, news, labels=labels)\n",
    "circle_func = lambda n: news_plot.circle_markers(n.exp_vals([n.order_qty]))\n",
    "newsvendor.interact_gridplot({field: ev_plots[field] for field in fields}, circle_func, news, ncols=2)"
   ]
  }
 ],
 "metadata": {
  "kernelspec": {
   "display_name": "Python 3",
   "language": "python",
   "name": "python3"
  },
  "language_info": {
   "codemirror_mode": {
    "name": "ipython",
    "version": 3
   },
   "file_extension": ".py",
   "mimetype": "text/x-python",
   "name": "python",
   "nbconvert_exporter": "python",
   "pygments_lexer": "ipython3",
   "version": "3.7.4"
  }
 },
 "nbformat": 4,
 "nbformat_minor": 2
}

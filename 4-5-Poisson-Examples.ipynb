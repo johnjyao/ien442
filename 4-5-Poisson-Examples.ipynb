{
 "cells": [
  {
   "cell_type": "markdown",
   "metadata": {},
   "source": [
    "# The Poisson Process: Section 5 - Additional Examples"
   ]
  },
  {
   "cell_type": "markdown",
   "metadata": {},
   "source": [
    "## Single-Server Queue with Blocking\n",
    "\n",
    "Suppose you are operating a lab-testing facility (e.g., at a hospital) that receives samples and processes them.  Assume that samples arrive according to a Poisson process with rate $\\lambda$ samples per unit time and each sample requires $m$ time units (deterministic) to process.\n",
    "\n",
    "Assume that any new samples that arrive while a sample is being processed is blocked (and lost – it does not retry for processing).\n",
    "\n",
    "Suppose that the facility is available at time $0$.\n",
    "\n",
    "* What is the expected amount of time that the facility remains available?\n",
    "* What proportion of time is the facility available (versus unavailable)?  (Over the long-run.)\n",
    "* What is the probability that the next sample is blocked, given that the first sample has been running for $s$ time units?\n",
    "* What is the expected number of samples that are blocked while the first one is processing?\n",
    "* What proportion of arriving samples are blocked (versus processed)?  (Over the long-run.)\n",
    "* Suppose, instead, that the processing time of a sample was random and follows a $\\text{Exponential}(\\mu)$ distribution with $\\mu = 1/m$ (so, on average, the processing time is $m$).  How does that change your answers to the above?"
   ]
  },
  {
   "cell_type": "markdown",
   "metadata": {},
   "source": [
    "## Lightbulbs\n",
    "\n",
    "You have an unlimited supply of lightbulbs, each with a lifetime $X_i \\sim \\text{Exponential}(\\lambda)$ independent of all others.  Suppose you start burning the first bulb at time $0$ and you replace a bulb instantly as soon as it burns out.  Let $X_i$ be the lifetime of the $i$th lightbulb.\n",
    "\n",
    "Assume that $\\displaystyle\\mathsf{E}[X_i] = \\frac{1}{\\lambda} = 5 \\text{ hours}$\n",
    "\n",
    "* Provide an interpretation of\n",
    "  $$S_n = \\sum_{i=1}^n X_i.$$\n",
    "* What is the distribution of $S_n$ (for a given value of $n$)?  Write the probability density function.\n",
    "* Provide an interpretation of\n",
    "  $$N(t) = \\max\\{n \\geq 0 | S_n < t\\}$$  \n",
    "  (where we define $S_0 = 0$).\n",
    "* What is the distribution of $N(t)$ (for a given value of $t$)?  Write the probability mass function.\n",
    "* What is the probability you have replaced fewer than 10 lightbulbs by $60$ hours?\n",
    "* What is the probability that you replace 5 lightbulbs in the first $20$ hours?\n",
    "* What is the probability that you replace 5 lightbulbs during any $20$ hour window?\n",
    "* Given that you have replaced 10 lightbulbs in the first $60$ hours, what is the probability that you replaced 5 lightbulbs in the first $20$ hours?"
   ]
  },
  {
   "cell_type": "markdown",
   "metadata": {},
   "source": [
    "## Hiking a Trail\n",
    "\n",
    "You are hiking a trail in the wilderness where potable water is available only intermittently along the trail.\n",
    "   \n",
    "Assume that these water sources are located along the length of the trail according to a Poisson process with rate $0.2$ per mile.\n",
    "   \n",
    "* Let $X_1$ be the distance from the start of the trail to the first water source.  What is the distribution of $X_1$?\n",
    "* Let $S_n$ be the distance from the start of the trail to the $n$th water source.  What is the distribution of $S_n$?\n",
    "* What is the interpretation and distribution of $S_{7} - S_{4}$?\n",
    "* What is the expected distance from the start of the trail to the first water source?\n",
    "* What is the probability you do not encounter a water source in the first 10 miles of the trail?\n",
    "* What is the expected number of water sources in the first 10 miles of the trail?\n",
    "* What is the probability that you encounter fewer than $10$ water sources in the first 60 miles?\n",
    "* What is the probability that you encounter exactly $5$ water sources in the first 20 miles?\n",
    "* Suppose you are 5 miles into the trail and have not encountered any water sources so far.  What is the probability you reach a water source within the next mile?\n",
    "* Suppose you are planning to hike the first 100 miles of the trail and you know that there are 30 water sources in that section.  What is the probability there are no water sources in a particular 10 mile stretch of this section (for example, miles 2.5 to 12.5)?\n",
    "\n"
   ]
  }
 ],
 "metadata": {
  "kernelspec": {
   "display_name": "Python 3",
   "language": "python",
   "name": "python3"
  },
  "language_info": {
   "codemirror_mode": {
    "name": "ipython",
    "version": 3
   },
   "file_extension": ".py",
   "mimetype": "text/x-python",
   "name": "python",
   "nbconvert_exporter": "python",
   "pygments_lexer": "ipython3",
   "version": "3.7.4"
  }
 },
 "nbformat": 4,
 "nbformat_minor": 2
}

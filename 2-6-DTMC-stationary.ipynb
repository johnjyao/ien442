{
 "cells": [
  {
   "cell_type": "code",
   "execution_count": 1,
   "metadata": {},
   "outputs": [],
   "source": [
    "import numpy as np\n",
    "import pandas as pd\n",
    "\n",
    "import ipywidgets as widgets\n",
    "from IPython.display import display, Math\n",
    "\n",
    "import dtmc\n",
    "import maze\n",
    "import mcviz"
   ]
  },
  {
   "cell_type": "code",
   "execution_count": 2,
   "metadata": {},
   "outputs": [
    {
     "data": {
      "text/html": [
       "\n",
       "    <div class=\"bk-root\">\n",
       "        <a href=\"https://bokeh.pydata.org\" target=\"_blank\" class=\"bk-logo bk-logo-small bk-logo-notebook\"></a>\n",
       "        <span id=\"1001\">Loading BokehJS ...</span>\n",
       "    </div>"
      ]
     },
     "metadata": {},
     "output_type": "display_data"
    },
    {
     "data": {
      "application/javascript": [
       "\n",
       "(function(root) {\n",
       "  function now() {\n",
       "    return new Date();\n",
       "  }\n",
       "\n",
       "  var force = true;\n",
       "\n",
       "  if (typeof root._bokeh_onload_callbacks === \"undefined\" || force === true) {\n",
       "    root._bokeh_onload_callbacks = [];\n",
       "    root._bokeh_is_loading = undefined;\n",
       "  }\n",
       "\n",
       "  var JS_MIME_TYPE = 'application/javascript';\n",
       "  var HTML_MIME_TYPE = 'text/html';\n",
       "  var EXEC_MIME_TYPE = 'application/vnd.bokehjs_exec.v0+json';\n",
       "  var CLASS_NAME = 'output_bokeh rendered_html';\n",
       "\n",
       "  /**\n",
       "   * Render data to the DOM node\n",
       "   */\n",
       "  function render(props, node) {\n",
       "    var script = document.createElement(\"script\");\n",
       "    node.appendChild(script);\n",
       "  }\n",
       "\n",
       "  /**\n",
       "   * Handle when an output is cleared or removed\n",
       "   */\n",
       "  function handleClearOutput(event, handle) {\n",
       "    var cell = handle.cell;\n",
       "\n",
       "    var id = cell.output_area._bokeh_element_id;\n",
       "    var server_id = cell.output_area._bokeh_server_id;\n",
       "    // Clean up Bokeh references\n",
       "    if (id != null && id in Bokeh.index) {\n",
       "      Bokeh.index[id].model.document.clear();\n",
       "      delete Bokeh.index[id];\n",
       "    }\n",
       "\n",
       "    if (server_id !== undefined) {\n",
       "      // Clean up Bokeh references\n",
       "      var cmd = \"from bokeh.io.state import curstate; print(curstate().uuid_to_server['\" + server_id + \"'].get_sessions()[0].document.roots[0]._id)\";\n",
       "      cell.notebook.kernel.execute(cmd, {\n",
       "        iopub: {\n",
       "          output: function(msg) {\n",
       "            var id = msg.content.text.trim();\n",
       "            if (id in Bokeh.index) {\n",
       "              Bokeh.index[id].model.document.clear();\n",
       "              delete Bokeh.index[id];\n",
       "            }\n",
       "          }\n",
       "        }\n",
       "      });\n",
       "      // Destroy server and session\n",
       "      var cmd = \"import bokeh.io.notebook as ion; ion.destroy_server('\" + server_id + \"')\";\n",
       "      cell.notebook.kernel.execute(cmd);\n",
       "    }\n",
       "  }\n",
       "\n",
       "  /**\n",
       "   * Handle when a new output is added\n",
       "   */\n",
       "  function handleAddOutput(event, handle) {\n",
       "    var output_area = handle.output_area;\n",
       "    var output = handle.output;\n",
       "\n",
       "    // limit handleAddOutput to display_data with EXEC_MIME_TYPE content only\n",
       "    if ((output.output_type != \"display_data\") || (!output.data.hasOwnProperty(EXEC_MIME_TYPE))) {\n",
       "      return\n",
       "    }\n",
       "\n",
       "    var toinsert = output_area.element.find(\".\" + CLASS_NAME.split(' ')[0]);\n",
       "\n",
       "    if (output.metadata[EXEC_MIME_TYPE][\"id\"] !== undefined) {\n",
       "      toinsert[toinsert.length - 1].firstChild.textContent = output.data[JS_MIME_TYPE];\n",
       "      // store reference to embed id on output_area\n",
       "      output_area._bokeh_element_id = output.metadata[EXEC_MIME_TYPE][\"id\"];\n",
       "    }\n",
       "    if (output.metadata[EXEC_MIME_TYPE][\"server_id\"] !== undefined) {\n",
       "      var bk_div = document.createElement(\"div\");\n",
       "      bk_div.innerHTML = output.data[HTML_MIME_TYPE];\n",
       "      var script_attrs = bk_div.children[0].attributes;\n",
       "      for (var i = 0; i < script_attrs.length; i++) {\n",
       "        toinsert[toinsert.length - 1].firstChild.setAttribute(script_attrs[i].name, script_attrs[i].value);\n",
       "      }\n",
       "      // store reference to server id on output_area\n",
       "      output_area._bokeh_server_id = output.metadata[EXEC_MIME_TYPE][\"server_id\"];\n",
       "    }\n",
       "  }\n",
       "\n",
       "  function register_renderer(events, OutputArea) {\n",
       "\n",
       "    function append_mime(data, metadata, element) {\n",
       "      // create a DOM node to render to\n",
       "      var toinsert = this.create_output_subarea(\n",
       "        metadata,\n",
       "        CLASS_NAME,\n",
       "        EXEC_MIME_TYPE\n",
       "      );\n",
       "      this.keyboard_manager.register_events(toinsert);\n",
       "      // Render to node\n",
       "      var props = {data: data, metadata: metadata[EXEC_MIME_TYPE]};\n",
       "      render(props, toinsert[toinsert.length - 1]);\n",
       "      element.append(toinsert);\n",
       "      return toinsert\n",
       "    }\n",
       "\n",
       "    /* Handle when an output is cleared or removed */\n",
       "    events.on('clear_output.CodeCell', handleClearOutput);\n",
       "    events.on('delete.Cell', handleClearOutput);\n",
       "\n",
       "    /* Handle when a new output is added */\n",
       "    events.on('output_added.OutputArea', handleAddOutput);\n",
       "\n",
       "    /**\n",
       "     * Register the mime type and append_mime function with output_area\n",
       "     */\n",
       "    OutputArea.prototype.register_mime_type(EXEC_MIME_TYPE, append_mime, {\n",
       "      /* Is output safe? */\n",
       "      safe: true,\n",
       "      /* Index of renderer in `output_area.display_order` */\n",
       "      index: 0\n",
       "    });\n",
       "  }\n",
       "\n",
       "  // register the mime type if in Jupyter Notebook environment and previously unregistered\n",
       "  if (root.Jupyter !== undefined) {\n",
       "    var events = require('base/js/events');\n",
       "    var OutputArea = require('notebook/js/outputarea').OutputArea;\n",
       "\n",
       "    if (OutputArea.prototype.mime_types().indexOf(EXEC_MIME_TYPE) == -1) {\n",
       "      register_renderer(events, OutputArea);\n",
       "    }\n",
       "  }\n",
       "\n",
       "  \n",
       "  if (typeof (root._bokeh_timeout) === \"undefined\" || force === true) {\n",
       "    root._bokeh_timeout = Date.now() + 5000;\n",
       "    root._bokeh_failed_load = false;\n",
       "  }\n",
       "\n",
       "  var NB_LOAD_WARNING = {'data': {'text/html':\n",
       "     \"<div style='background-color: #fdd'>\\n\"+\n",
       "     \"<p>\\n\"+\n",
       "     \"BokehJS does not appear to have successfully loaded. If loading BokehJS from CDN, this \\n\"+\n",
       "     \"may be due to a slow or bad network connection. Possible fixes:\\n\"+\n",
       "     \"</p>\\n\"+\n",
       "     \"<ul>\\n\"+\n",
       "     \"<li>re-rerun `output_notebook()` to attempt to load from CDN again, or</li>\\n\"+\n",
       "     \"<li>use INLINE resources instead, as so:</li>\\n\"+\n",
       "     \"</ul>\\n\"+\n",
       "     \"<code>\\n\"+\n",
       "     \"from bokeh.resources import INLINE\\n\"+\n",
       "     \"output_notebook(resources=INLINE)\\n\"+\n",
       "     \"</code>\\n\"+\n",
       "     \"</div>\"}};\n",
       "\n",
       "  function display_loaded() {\n",
       "    var el = document.getElementById(\"1001\");\n",
       "    if (el != null) {\n",
       "      el.textContent = \"BokehJS is loading...\";\n",
       "    }\n",
       "    if (root.Bokeh !== undefined) {\n",
       "      if (el != null) {\n",
       "        el.textContent = \"BokehJS \" + root.Bokeh.version + \" successfully loaded.\";\n",
       "      }\n",
       "    } else if (Date.now() < root._bokeh_timeout) {\n",
       "      setTimeout(display_loaded, 100)\n",
       "    }\n",
       "  }\n",
       "\n",
       "\n",
       "  function run_callbacks() {\n",
       "    try {\n",
       "      root._bokeh_onload_callbacks.forEach(function(callback) {\n",
       "        if (callback != null)\n",
       "          callback();\n",
       "      });\n",
       "    } finally {\n",
       "      delete root._bokeh_onload_callbacks\n",
       "    }\n",
       "    console.debug(\"Bokeh: all callbacks have finished\");\n",
       "  }\n",
       "\n",
       "  function load_libs(css_urls, js_urls, callback) {\n",
       "    if (css_urls == null) css_urls = [];\n",
       "    if (js_urls == null) js_urls = [];\n",
       "\n",
       "    root._bokeh_onload_callbacks.push(callback);\n",
       "    if (root._bokeh_is_loading > 0) {\n",
       "      console.debug(\"Bokeh: BokehJS is being loaded, scheduling callback at\", now());\n",
       "      return null;\n",
       "    }\n",
       "    if (js_urls == null || js_urls.length === 0) {\n",
       "      run_callbacks();\n",
       "      return null;\n",
       "    }\n",
       "    console.debug(\"Bokeh: BokehJS not loaded, scheduling load and callback at\", now());\n",
       "    root._bokeh_is_loading = css_urls.length + js_urls.length;\n",
       "\n",
       "    function on_load() {\n",
       "      root._bokeh_is_loading--;\n",
       "      if (root._bokeh_is_loading === 0) {\n",
       "        console.debug(\"Bokeh: all BokehJS libraries/stylesheets loaded\");\n",
       "        run_callbacks()\n",
       "      }\n",
       "    }\n",
       "\n",
       "    function on_error() {\n",
       "      console.error(\"failed to load \" + url);\n",
       "    }\n",
       "\n",
       "    for (var i = 0; i < css_urls.length; i++) {\n",
       "      var url = css_urls[i];\n",
       "      const element = document.createElement(\"link\");\n",
       "      element.onload = on_load;\n",
       "      element.onerror = on_error;\n",
       "      element.rel = \"stylesheet\";\n",
       "      element.type = \"text/css\";\n",
       "      element.href = url;\n",
       "      console.debug(\"Bokeh: injecting link tag for BokehJS stylesheet: \", url);\n",
       "      document.body.appendChild(element);\n",
       "    }\n",
       "\n",
       "    for (var i = 0; i < js_urls.length; i++) {\n",
       "      var url = js_urls[i];\n",
       "      var element = document.createElement('script');\n",
       "      element.onload = on_load;\n",
       "      element.onerror = on_error;\n",
       "      element.async = false;\n",
       "      element.src = url;\n",
       "      console.debug(\"Bokeh: injecting script tag for BokehJS library: \", url);\n",
       "      document.head.appendChild(element);\n",
       "    }\n",
       "  };var element = document.getElementById(\"1001\");\n",
       "  if (element == null) {\n",
       "    console.error(\"Bokeh: ERROR: autoload.js configured with elementid '1001' but no matching script tag was found. \")\n",
       "    return false;\n",
       "  }\n",
       "\n",
       "  function inject_raw_css(css) {\n",
       "    const element = document.createElement(\"style\");\n",
       "    element.appendChild(document.createTextNode(css));\n",
       "    document.body.appendChild(element);\n",
       "  }\n",
       "\n",
       "  var js_urls = [\"https://cdn.pydata.org/bokeh/release/bokeh-1.3.4.min.js\", \"https://cdn.pydata.org/bokeh/release/bokeh-widgets-1.3.4.min.js\", \"https://cdn.pydata.org/bokeh/release/bokeh-tables-1.3.4.min.js\", \"https://cdn.pydata.org/bokeh/release/bokeh-gl-1.3.4.min.js\"];\n",
       "  var css_urls = [];\n",
       "\n",
       "  var inline_js = [\n",
       "    function(Bokeh) {\n",
       "      Bokeh.set_log_level(\"info\");\n",
       "    },\n",
       "    \n",
       "    function(Bokeh) {\n",
       "      \n",
       "    },\n",
       "    function(Bokeh) {} // ensure no trailing comma for IE\n",
       "  ];\n",
       "\n",
       "  function run_inline_js() {\n",
       "    \n",
       "    if ((root.Bokeh !== undefined) || (force === true)) {\n",
       "      for (var i = 0; i < inline_js.length; i++) {\n",
       "        inline_js[i].call(root, root.Bokeh);\n",
       "      }if (force === true) {\n",
       "        display_loaded();\n",
       "      }} else if (Date.now() < root._bokeh_timeout) {\n",
       "      setTimeout(run_inline_js, 100);\n",
       "    } else if (!root._bokeh_failed_load) {\n",
       "      console.log(\"Bokeh: BokehJS failed to load within specified timeout.\");\n",
       "      root._bokeh_failed_load = true;\n",
       "    } else if (force !== true) {\n",
       "      var cell = $(document.getElementById(\"1001\")).parents('.cell').data().cell;\n",
       "      cell.output_area.append_execute_result(NB_LOAD_WARNING)\n",
       "    }\n",
       "\n",
       "  }\n",
       "\n",
       "  if (root._bokeh_is_loading === 0) {\n",
       "    console.debug(\"Bokeh: BokehJS loaded, going straight to plotting\");\n",
       "    run_inline_js();\n",
       "  } else {\n",
       "    load_libs(css_urls, js_urls, function() {\n",
       "      console.debug(\"Bokeh: BokehJS plotting callback run at\", now());\n",
       "      run_inline_js();\n",
       "    });\n",
       "  }\n",
       "}(window));"
      ],
      "application/vnd.bokehjs_load.v0+json": "\n(function(root) {\n  function now() {\n    return new Date();\n  }\n\n  var force = true;\n\n  if (typeof root._bokeh_onload_callbacks === \"undefined\" || force === true) {\n    root._bokeh_onload_callbacks = [];\n    root._bokeh_is_loading = undefined;\n  }\n\n  \n\n  \n  if (typeof (root._bokeh_timeout) === \"undefined\" || force === true) {\n    root._bokeh_timeout = Date.now() + 5000;\n    root._bokeh_failed_load = false;\n  }\n\n  var NB_LOAD_WARNING = {'data': {'text/html':\n     \"<div style='background-color: #fdd'>\\n\"+\n     \"<p>\\n\"+\n     \"BokehJS does not appear to have successfully loaded. If loading BokehJS from CDN, this \\n\"+\n     \"may be due to a slow or bad network connection. Possible fixes:\\n\"+\n     \"</p>\\n\"+\n     \"<ul>\\n\"+\n     \"<li>re-rerun `output_notebook()` to attempt to load from CDN again, or</li>\\n\"+\n     \"<li>use INLINE resources instead, as so:</li>\\n\"+\n     \"</ul>\\n\"+\n     \"<code>\\n\"+\n     \"from bokeh.resources import INLINE\\n\"+\n     \"output_notebook(resources=INLINE)\\n\"+\n     \"</code>\\n\"+\n     \"</div>\"}};\n\n  function display_loaded() {\n    var el = document.getElementById(\"1001\");\n    if (el != null) {\n      el.textContent = \"BokehJS is loading...\";\n    }\n    if (root.Bokeh !== undefined) {\n      if (el != null) {\n        el.textContent = \"BokehJS \" + root.Bokeh.version + \" successfully loaded.\";\n      }\n    } else if (Date.now() < root._bokeh_timeout) {\n      setTimeout(display_loaded, 100)\n    }\n  }\n\n\n  function run_callbacks() {\n    try {\n      root._bokeh_onload_callbacks.forEach(function(callback) {\n        if (callback != null)\n          callback();\n      });\n    } finally {\n      delete root._bokeh_onload_callbacks\n    }\n    console.debug(\"Bokeh: all callbacks have finished\");\n  }\n\n  function load_libs(css_urls, js_urls, callback) {\n    if (css_urls == null) css_urls = [];\n    if (js_urls == null) js_urls = [];\n\n    root._bokeh_onload_callbacks.push(callback);\n    if (root._bokeh_is_loading > 0) {\n      console.debug(\"Bokeh: BokehJS is being loaded, scheduling callback at\", now());\n      return null;\n    }\n    if (js_urls == null || js_urls.length === 0) {\n      run_callbacks();\n      return null;\n    }\n    console.debug(\"Bokeh: BokehJS not loaded, scheduling load and callback at\", now());\n    root._bokeh_is_loading = css_urls.length + js_urls.length;\n\n    function on_load() {\n      root._bokeh_is_loading--;\n      if (root._bokeh_is_loading === 0) {\n        console.debug(\"Bokeh: all BokehJS libraries/stylesheets loaded\");\n        run_callbacks()\n      }\n    }\n\n    function on_error() {\n      console.error(\"failed to load \" + url);\n    }\n\n    for (var i = 0; i < css_urls.length; i++) {\n      var url = css_urls[i];\n      const element = document.createElement(\"link\");\n      element.onload = on_load;\n      element.onerror = on_error;\n      element.rel = \"stylesheet\";\n      element.type = \"text/css\";\n      element.href = url;\n      console.debug(\"Bokeh: injecting link tag for BokehJS stylesheet: \", url);\n      document.body.appendChild(element);\n    }\n\n    for (var i = 0; i < js_urls.length; i++) {\n      var url = js_urls[i];\n      var element = document.createElement('script');\n      element.onload = on_load;\n      element.onerror = on_error;\n      element.async = false;\n      element.src = url;\n      console.debug(\"Bokeh: injecting script tag for BokehJS library: \", url);\n      document.head.appendChild(element);\n    }\n  };var element = document.getElementById(\"1001\");\n  if (element == null) {\n    console.error(\"Bokeh: ERROR: autoload.js configured with elementid '1001' but no matching script tag was found. \")\n    return false;\n  }\n\n  function inject_raw_css(css) {\n    const element = document.createElement(\"style\");\n    element.appendChild(document.createTextNode(css));\n    document.body.appendChild(element);\n  }\n\n  var js_urls = [\"https://cdn.pydata.org/bokeh/release/bokeh-1.3.4.min.js\", \"https://cdn.pydata.org/bokeh/release/bokeh-widgets-1.3.4.min.js\", \"https://cdn.pydata.org/bokeh/release/bokeh-tables-1.3.4.min.js\", \"https://cdn.pydata.org/bokeh/release/bokeh-gl-1.3.4.min.js\"];\n  var css_urls = [];\n\n  var inline_js = [\n    function(Bokeh) {\n      Bokeh.set_log_level(\"info\");\n    },\n    \n    function(Bokeh) {\n      \n    },\n    function(Bokeh) {} // ensure no trailing comma for IE\n  ];\n\n  function run_inline_js() {\n    \n    if ((root.Bokeh !== undefined) || (force === true)) {\n      for (var i = 0; i < inline_js.length; i++) {\n        inline_js[i].call(root, root.Bokeh);\n      }if (force === true) {\n        display_loaded();\n      }} else if (Date.now() < root._bokeh_timeout) {\n      setTimeout(run_inline_js, 100);\n    } else if (!root._bokeh_failed_load) {\n      console.log(\"Bokeh: BokehJS failed to load within specified timeout.\");\n      root._bokeh_failed_load = true;\n    } else if (force !== true) {\n      var cell = $(document.getElementById(\"1001\")).parents('.cell').data().cell;\n      cell.output_area.append_execute_result(NB_LOAD_WARNING)\n    }\n\n  }\n\n  if (root._bokeh_is_loading === 0) {\n    console.debug(\"Bokeh: BokehJS loaded, going straight to plotting\");\n    run_inline_js();\n  } else {\n    load_libs(css_urls, js_urls, function() {\n      console.debug(\"Bokeh: BokehJS plotting callback run at\", now());\n      run_inline_js();\n    });\n  }\n}(window));"
     },
     "metadata": {},
     "output_type": "display_data"
    }
   ],
   "source": [
    "import bokeh.plotting as bplt\n",
    "from bokeh.models import Range1d, LabelSet, ColumnDataSource\n",
    "from bokeh.models.glyphs import VBar\n",
    "from bokeh.io import output_notebook, push_notebook\n",
    "output_notebook()"
   ]
  },
  {
   "cell_type": "markdown",
   "metadata": {},
   "source": [
    "# DTMC: Section 6 - The Stationary Distribution\n",
    "\n",
    "In Section 5 we learned how to organize a Markov chain into communication classes and classify each state as recurrent or transient.  For a communication class whose states are transient, the Markov chain will move among the states in the class for some finite (but random) period of time before leaving and never returning.  For a communication class whose states are recurrent, the Markov chain will continue to move among the states in that class forever (and never leave the communication class)."
   ]
  },
  {
   "cell_type": "markdown",
   "metadata": {},
   "source": [
    "## The Long-Run Proportion of Time Spent in a State\n",
    "\n",
    "Consider the ride-share driver example from Section 4.  What proportion of his passengers' destinations are in Coral Gables?  Clearly this is subject to random fluctuations, but we might expect that, over the long-run this will stabilize to some value."
   ]
  },
  {
   "cell_type": "markdown",
   "metadata": {},
   "source": [
    "Mathematically, we write this as:\n",
    "\n",
    "$$ \\text{long-run proportion of passengers going to Coral Gables} = \\lim_{n \\to \\infty} \\frac{1}{n} \\sum_{k=1}^n \\mathbf{1}\\{X_k = 1\\} $$\n",
    "\n",
    "where $\\mathbf{1}\\{\\cdot\\}$ is the indicator random variable.  Given a probability space $(\\Omega, \\mathcal{F}, \\mathsf{P})$ and event $A \\in \\mathcal{F}$, the random variable $\\mathbf{1}\\{A\\} : \\Omega \\to [0, 1]$ is defined to be\n",
    "$$\\mathbf{1}\\{A\\}(\\omega) \\overset{\\mathsf{def}}{=} \\begin{cases}\n",
    "    1 & \\text{if } \\omega \\in A \\\\\n",
    "    0 & \\text{otherwise}\n",
    "  \\end{cases}$$\n",
    "  \n",
    "You can think of $\\sum_{k=1}^n \\mathbf{1}\\{X_k = 1\\}$ as a simple counter: it adds $1$ when the Markov chain visits state $1$ (the $k$th passenger goes to Coral Gables) and ignores the other states (adds $0$ otherwise).  Dividing the sum by $n$ (total time steps) normalizes this to the proportion of visits.  Taking the limit as $n \\to \\infty$ considers the long-run.  \n",
    "\n",
    "For a general DTMC on state space $\\mathcal{S}$ and any state $j \\in \\mathcal{S}$:\n",
    "\n",
    "$$ \\text{long-run proportion of time spent in state $j$} = \\underbrace{\\lim_{n \\to \\infty}}_{\\text{long-run}} \\overbrace{\\frac{1}{n}}^{\\text{proportion}} \\underbrace{\\sum_{k=1}^n \\mathbf{1}\\{X_k = j\\}}_{\\text{time spent in state $j$}} $$\n",
    "\n",
    "**Remark:** Remember that we are in discrete time, so the ”time spent in” a state means the number of visits to that state.  When we encounter this same idea in continuous-time Markov chains, we will take into account the duration of each visit.\n",
    "\n"
   ]
  },
  {
   "cell_type": "code",
   "execution_count": 3,
   "metadata": {},
   "outputs": [],
   "source": [
    "S = [1, 2, 3, 4]\n",
    "P = np.array([[0.3, 0.2, 0.4, 0.1],\n",
    "              [0.4, 0.1, 0.4, 0.1],\n",
    "              [0.7, 0.2, 0, 0.1],\n",
    "              [0.5, 0.3, 0.1, 0.1]\n",
    "             ])\n",
    "names = ['Coral Gables', 'Kendall', 'Downtown', 'Miami Beach']"
   ]
  },
  {
   "cell_type": "code",
   "execution_count": 4,
   "metadata": {},
   "outputs": [
    {
     "name": "stdout",
     "output_type": "stream",
     "text": [
      "\\mathbf{P} = \\pmatrix{0.3& 0.2& 0.4& 0.1\\\\ 0.4& 0.1& 0.4& 0.1\\\\ 0.7& 0.2& 0.0& 0.1\\\\ 0.5& 0.3& 0.1& 0.1}\n"
     ]
    }
   ],
   "source": [
    "print(r'\\mathbf{P} = ' + dtmc.pmatrix(P))"
   ]
  },
  {
   "cell_type": "code",
   "execution_count": 5,
   "metadata": {},
   "outputs": [],
   "source": [
    "d_0 = [1, 0, 0, 0]\n",
    "steps = 1000\n",
    "sample_path = pd.DataFrame(dtmc.sim_path(P, d_0, steps=steps, S=S), \n",
    "                           index=pd.Index(range(0,steps+1), name='step'),\n",
    "                           columns=['path'])\n",
    "slider = widgets.IntSlider(value=1, min=1, max=steps, description='step')\n"
   ]
  },
  {
   "cell_type": "code",
   "execution_count": 6,
   "metadata": {
    "scrolled": false
   },
   "outputs": [
    {
     "data": {
      "application/vnd.jupyter.widget-view+json": {
       "model_id": "ba8c856169ed43ae850ba5024ef38419",
       "version_major": 2,
       "version_minor": 0
      },
      "text/plain": [
       "interactive(children=(IntSlider(value=500, description='step', max=1000, min=1), Output()), _dom_classes=('wid…"
      ]
     },
     "metadata": {},
     "output_type": "display_data"
    }
   ],
   "source": [
    "def sliding_table(path, current = 0, num_rows = 10, loc = 0):\n",
    "    style_past = 'color: gray'\n",
    "    style_present = 'background-color: rgba(255, 0, 0, 0.6)'\n",
    "    style_future = ''\n",
    "    start = max(0, current-loc)\n",
    "    end = start + num_rows\n",
    "    if start == current-loc:\n",
    "        highlight = loc\n",
    "    else:\n",
    "        highlight = current\n",
    "    df = path[start:end]\n",
    "    def highlight_row(s):\n",
    "        strs = ['']*len(df)\n",
    "        strs[0:highlight] = [style_past]*highlight\n",
    "        strs[highlight] = style_present\n",
    "        strs[highlight+1:] = [style_future]*(len(df)-highlight-1)\n",
    "        return strs\n",
    "    \n",
    "    display(df.style.apply(highlight_row))\n",
    "\n",
    "def path_state_counts(path, S):\n",
    "    indic = pd.get_dummies(path[1:]).reindex(S, axis='columns', fill_value=0)\n",
    "    count = indic.cumsum()\n",
    "    prop = count/np.transpose(np.broadcast_to(path.index.values[1:], (len(S), len(path.index)-1)))\n",
    "    indic = indic.rename(columns=dict(zip(indic.columns, [f'is in state {j}' for j in S])))\n",
    "    count = count.rename(columns=dict(zip(count.columns, [f'time in state {j}' for j in S])))\n",
    "    prop = prop.rename(columns=dict(zip(prop.columns, [f'proportion in state {j}' for j in S])))\n",
    "    return indic, count, prop\n",
    "\n",
    "indic, count, prop = path_state_counts(sample_path['path'], S)\n",
    "j = [2]\n",
    "loc = [S.index(state) for state in j]\n",
    "state_path = pd.DataFrame(sample_path['path'][1:]).join(indic.iloc[:,loc]).join(count.iloc[:,loc]).join(prop.iloc[:,loc])\n",
    "widgets.interact(lambda step: sliding_table(state_path, step-1), step=(1, len(sample_path.index)-1));"
   ]
  },
  {
   "cell_type": "markdown",
   "metadata": {},
   "source": [
    "Connecting the table for the generated sample path above to the mathematical notation introduced, each column is:\n",
    "* $n$: step\n",
    "* $X_n$: path\n",
    "* $\\mathbf{1}\\{X_n = j\\}$: is in state $j$\n",
    "* $\\displaystyle\\sum_{k=0}^n \\mathbf{1}\\{X_k = j\\}$: time in state $j$\n",
    "* $\\displaystyle\\frac{1}{n}\\sum_{k=0}^n \\mathbf{1}\\{X_k = j\\}$: proportion in state $j$"
   ]
  },
  {
   "cell_type": "code",
   "execution_count": 7,
   "metadata": {},
   "outputs": [
    {
     "data": {
      "text/html": [
       "\n",
       "\n",
       "\n",
       "\n",
       "\n",
       "\n",
       "  <div class=\"bk-root\" id=\"53a2bb32-5936-4bb8-97d3-c58fdcc57872\" data-root-id=\"1002\"></div>\n"
      ]
     },
     "metadata": {},
     "output_type": "display_data"
    },
    {
     "data": {
      "application/javascript": [
       "(function(root) {\n",
       "  function embed_document(root) {\n",
       "    \n",
       "  var docs_json = {\"b467b9be-d8f4-405c-a6e9-493b7b12c00c\":{\"roots\":{\"references\":[{\"attributes\":{\"below\":[{\"id\":\"1013\",\"type\":\"CategoricalAxis\"}],\"center\":[{\"id\":\"1016\",\"type\":\"Grid\"},{\"id\":\"1021\",\"type\":\"Grid\"},{\"id\":\"1028\",\"type\":\"LabelSet\"}],\"left\":[{\"id\":\"1017\",\"type\":\"LinearAxis\"}],\"renderers\":[{\"id\":\"1025\",\"type\":\"GlyphRenderer\"}],\"title\":{\"id\":\"1003\",\"type\":\"Title\"},\"toolbar\":{\"id\":\"1022\",\"type\":\"Toolbar\"},\"x_range\":{\"id\":\"1005\",\"type\":\"FactorRange\"},\"x_scale\":{\"id\":\"1009\",\"type\":\"CategoricalScale\"},\"y_range\":{\"id\":\"1027\",\"type\":\"Range1d\"},\"y_scale\":{\"id\":\"1011\",\"type\":\"LinearScale\"}},\"id\":\"1002\",\"subtype\":\"Figure\",\"type\":\"Plot\"},{\"attributes\":{\"source\":{\"id\":\"1023\",\"type\":\"ColumnDataSource\"}},\"id\":\"1026\",\"type\":\"CDSView\"},{\"attributes\":{\"align\":\"center\",\"text\":\"Proportion of Time Spent in Each State\",\"text_font_size\":{\"value\":\"25px\"}},\"id\":\"1003\",\"type\":\"Title\"},{\"attributes\":{},\"id\":\"1032\",\"type\":\"CategoricalTickFormatter\"},{\"attributes\":{\"level\":\"glyph\",\"source\":{\"id\":\"1023\",\"type\":\"ColumnDataSource\"},\"text\":{\"field\":\"labels\"},\"text_align\":\"center\",\"x\":{\"field\":\"x\"},\"y\":{\"field\":\"top\"}},\"id\":\"1028\",\"type\":\"LabelSet\"},{\"attributes\":{\"callback\":null},\"id\":\"1027\",\"type\":\"Range1d\"},{\"attributes\":{},\"id\":\"1034\",\"type\":\"BasicTickFormatter\"},{\"attributes\":{},\"id\":\"1036\",\"type\":\"UnionRenderers\"},{\"attributes\":{\"formatter\":{\"id\":\"1032\",\"type\":\"CategoricalTickFormatter\"},\"major_label_text_font_size\":{\"value\":\"20px\"},\"ticker\":{\"id\":\"1014\",\"type\":\"CategoricalTicker\"}},\"id\":\"1013\",\"type\":\"CategoricalAxis\"},{\"attributes\":{},\"id\":\"1035\",\"type\":\"Selection\"},{\"attributes\":{\"active_drag\":\"auto\",\"active_inspect\":\"auto\",\"active_multi\":null,\"active_scroll\":\"auto\",\"active_tap\":\"auto\"},\"id\":\"1022\",\"type\":\"Toolbar\"},{\"attributes\":{\"fill_color\":{\"value\":\"blue\"},\"top\":{\"field\":\"top\"},\"width\":{\"value\":0.5},\"x\":{\"field\":\"x\"}},\"id\":\"1024\",\"type\":\"VBar\"},{\"attributes\":{\"data_source\":{\"id\":\"1023\",\"type\":\"ColumnDataSource\"},\"glyph\":{\"id\":\"1024\",\"type\":\"VBar\"},\"hover_glyph\":null,\"muted_glyph\":null,\"view\":{\"id\":\"1026\",\"type\":\"CDSView\"}},\"id\":\"1025\",\"type\":\"GlyphRenderer\"},{\"attributes\":{\"ticker\":{\"id\":\"1014\",\"type\":\"CategoricalTicker\"}},\"id\":\"1016\",\"type\":\"Grid\"},{\"attributes\":{\"callback\":null,\"factors\":[\"Coral Gables\",\"Kendall\",\"Downtown\",\"Miami Beach\"]},\"id\":\"1005\",\"type\":\"FactorRange\"},{\"attributes\":{},\"id\":\"1009\",\"type\":\"CategoricalScale\"},{\"attributes\":{\"formatter\":{\"id\":\"1034\",\"type\":\"BasicTickFormatter\"},\"ticker\":{\"id\":\"1018\",\"type\":\"BasicTicker\"}},\"id\":\"1017\",\"type\":\"LinearAxis\"},{\"attributes\":{},\"id\":\"1011\",\"type\":\"LinearScale\"},{\"attributes\":{},\"id\":\"1018\",\"type\":\"BasicTicker\"},{\"attributes\":{\"dimension\":1,\"ticker\":{\"id\":\"1018\",\"type\":\"BasicTicker\"}},\"id\":\"1021\",\"type\":\"Grid\"},{\"attributes\":{\"callback\":null,\"data\":{\"labels\":[\"0.4530\",\"0.1760\",\"0.2690\",\"0.1020\"],\"top\":{\"__ndarray__\":\"y6FFtvP93D+6SQwCK4fGP57vp8ZLN9E/6SYxCKwcuj8=\",\"dtype\":\"float64\",\"shape\":[4]},\"x\":[\"Coral Gables\",\"Kendall\",\"Downtown\",\"Miami Beach\"]},\"selected\":{\"id\":\"1035\",\"type\":\"Selection\"},\"selection_policy\":{\"id\":\"1036\",\"type\":\"UnionRenderers\"}},\"id\":\"1023\",\"type\":\"ColumnDataSource\"},{\"attributes\":{},\"id\":\"1014\",\"type\":\"CategoricalTicker\"}],\"root_ids\":[\"1002\"]},\"title\":\"Bokeh Application\",\"version\":\"1.3.4\"}};\n",
       "  var render_items = [{\"docid\":\"b467b9be-d8f4-405c-a6e9-493b7b12c00c\",\"notebook_comms_target\":\"1037\",\"roots\":{\"1002\":\"53a2bb32-5936-4bb8-97d3-c58fdcc57872\"}}];\n",
       "  root.Bokeh.embed.embed_items_notebook(docs_json, render_items);\n",
       "\n",
       "  }\n",
       "  if (root.Bokeh !== undefined) {\n",
       "    embed_document(root);\n",
       "  } else {\n",
       "    var attempts = 0;\n",
       "    var timer = setInterval(function(root) {\n",
       "      if (root.Bokeh !== undefined) {\n",
       "        embed_document(root);\n",
       "        clearInterval(timer);\n",
       "      }\n",
       "      attempts++;\n",
       "      if (attempts > 100) {\n",
       "        console.log(\"Bokeh: ERROR: Unable to run BokehJS code because BokehJS library is missing\");\n",
       "        clearInterval(timer);\n",
       "      }\n",
       "    }, 10, root)\n",
       "  }\n",
       "})(window);"
      ],
      "application/vnd.bokehjs_exec.v0+json": ""
     },
     "metadata": {
      "application/vnd.bokehjs_exec.v0+json": {
       "id": "1002"
      }
     },
     "output_type": "display_data"
    },
    {
     "data": {
      "application/vnd.jupyter.widget-view+json": {
       "model_id": "a64b578f5de7407180332c939206af10",
       "version_major": 2,
       "version_minor": 0
      },
      "text/plain": [
       "interactive(children=(IntSlider(value=1, description='step', max=1000, min=1), Output()), _dom_classes=('widge…"
      ]
     },
     "metadata": {},
     "output_type": "display_data"
    }
   ],
   "source": [
    "def freq_plot(freq, xlabels, normalize=True):\n",
    "    p = bplt.figure(title='Proportion of Time Spent in Each State', x_range=xlabels, tools=[])\n",
    "    p.title.align = 'center'\n",
    "    p.title.text_font_size = '25px'\n",
    "    p.xaxis.major_label_text_font_size = '20px'\n",
    "    source = ColumnDataSource(data=dict(x=xlabels, top=freq.iloc[-1].values))\n",
    "    source.data['labels'] = [f'{v:0.4f}' if normalize else f'{v}' for v in source.data['top']]\n",
    "    glyph = VBar(x=\"x\", top=\"top\", bottom=0, width=0.5, fill_color='blue')\n",
    "    p.add_glyph(source, glyph)\n",
    "    if normalize:\n",
    "        p.y_range = Range1d(0, 1)\n",
    "    else:\n",
    "        p.y_range = Range1d(0, len(sample_path.index))\n",
    "    labels = LabelSet(x=\"x\", y=\"top\", text=\"labels\",\n",
    "                      level=\"glyph\", text_align=\"center\",\n",
    "                      source=source, \n",
    "                      render_mode='canvas')\n",
    "    p.add_layout(labels)\n",
    "    handle = bplt.show(p, notebook_handle=True)\n",
    "    \n",
    "    return source, handle\n",
    "\n",
    "normalize = True # Set to True for proportion of time, False for number of visits\n",
    "freq = prop if normalize else count\n",
    "source, handle = freq_plot(freq, names, normalize=normalize)\n",
    "\n",
    "def wrapper(step, freq, source, handle):\n",
    "    source.data['top'] = freq.iloc[step-1].values\n",
    "    source.data['labels'] = [f'{v:0.4f}' if normalize else f'{v}' for v in source.data['top']]\n",
    "    push_notebook(handle=handle)\n",
    "        \n",
    "    sliding_table(pd.DataFrame(sample_path['path'][1:]).join(freq), current=step-1, loc=5)\n",
    "\n",
    "widgets.interact(lambda step: wrapper(step, freq, source, handle), step=slider);    "
   ]
  },
  {
   "cell_type": "markdown",
   "metadata": {},
   "source": [
    "The codeblock above produces an interactive bar plot: the relative frequency of visits to each state (neighborhood) in the first $n$ steps of the sample path $(X_0, X_1, \\dots, X_n)$ (so the height of the bars will sum to 1).  Use the slider to increase/decrease $m$.  You should notice that as $n$ increases, the frequencies tend to stabilize.  You can change the number of steps (`steps`) and the initial distribution (`d_0`) in the prior codeblock."
   ]
  },
  {
   "cell_type": "markdown",
   "metadata": {},
   "source": [
    "### Exercise 6.1\n",
    "\n",
    "Pick a large $n$ (number of steps) and look at the long-run proportions of time spent in each state for this sample path.  Compare this to the distributions you calculated in Exercises 4.2, 4.3, and 4.4.  What do you notice?"
   ]
  },
  {
   "cell_type": "markdown",
   "metadata": {},
   "source": [
    "## The Stationary Distribution — Interpretations\n",
    "\n",
    "### Proportion of Time\n",
    "\n",
    "We will define $\\pi_j$ to be the long-run proportion of time spent in state $j$:\n",
    "\n",
    "$$ \\pi_j = \\lim_{n \\to \\infty} \\frac{1}{n} \\sum_{k=1}^n \\mathbf{1}\\{X_k = j\\} $$\n",
    "\n",
    "with the caveat that $\\pi_j$ is only defined when:\n",
    "* the limit exists\n",
    "* the limit does not depend on the initial state $X_0$.  (That is, it is the same for any initial state $X_0 = i$, $i \\in \\mathcal{S}$.)\n",
    "\n",
    "In particular, we want to avoid the ambiguity described in Example 6.x below."
   ]
  },
  {
   "cell_type": "markdown",
   "metadata": {},
   "source": [
    "### Distribution\n",
    "\n",
    "We will usually represent $\\pi$ as a (row) vector with $\\pi_j$ as the $j$th element of the vector.\n",
    "\n",
    "When the limit exists and does not depend on the initial state $X_0$, $\\pi$ is called the stationary distribution and satisfies:\n",
    "\n",
    "$$ \\pi = \\pi \\mathbf{P} $$\n",
    "\n",
    "In this class, we will only discuss stationary distributions in the context of positive recurrent Markov chains. (The optional Exercise 6.x below considers a stationary distribution for a finite state-space Markov chain that is not irreducible, and hence not positive recurrent.  It may be useful to test the limits of your understanding, but you should feel free to skip it.)\n",
    "\n",
    "**Theorem:** An *irreducible* Markov chain is positive recurrent if and only if there exists a unique solution to:\n",
    "$$ \\pi = \\pi \\mathbf{P} $$\n",
    "with $\\pi \\geq 0$ and $\\sum_j \\pi_j = 1$.\n",
    "\n",
    "Note that this assumes the Markov chain is irreducible and is an “if and only if” result, so it works in both directions:\n",
    "* If a Markov chain is positive recurrent, then the stationary distribution exists and is unique.\n",
    "* If a unique stationary distribution exists, then the Markov chain is positive recurrent.\n",
    "\n",
    "The first direction will be most useful for this part of the course when we only consider finite state spaces.  The second direction will be useful once we move to infinite state spaces.  (For finite state spaces, we already know that an irreducible Markov chain is positive recurrent.)"
   ]
  },
  {
   "cell_type": "markdown",
   "metadata": {},
   "source": [
    "### Limiting or Steady-State Probabilities\n",
    "\n",
    "We saw in Section 4 (The Ride-Share Driver) that $\\lim_{m \\to \\infty} p_{ij}^{(m)} = \\pi_j$.  In matrix form, this was\n",
    "$$\\lim_{m \\to \\infty} \\mathbf{P}^{(m)} = \n",
    "  \\begin{pmatrix}\n",
    "    \\leftarrow & \\pi & \\rightarrow \\\\\n",
    "    \\leftarrow & \\pi & \\rightarrow \\\\\n",
    "    & \\vdots & \\\\\n",
    "    \\leftarrow & \\pi & \\rightarrow \\\\\n",
    "  \\end{pmatrix}$$\n",
    "This is true **only if the Markov chain is aperiodic**.  So, for a Markov chain that is positive recurrent and aperiodic, $\\pi$ can also be interpreted as the limiting distribution — the distribution representing where the Markov chain will be far into the future.\n",
    "\n",
    "Alternatively, we sometimes say that the Markov chain is in “steady-state”, if its initial distribution $\\mathbf{d}_0 = \\pi$, since $\\mathbf{d}_n = \\pi$ for all $n \\geq 0$.  For an aperiodic Markov chain, we can interpret this as the Markov chain  been running for a long time (it started at $n = -\\infty$) and, so by time $0$, has reached steady-state.\n",
    "  \n",
    "Why does this not apply to a periodic Markov chain?  Consider the original rat-in-a-maze example, where the Markov chain was *periodic* (with period 2).  $\\mathbf{P}^{(m)} = \\mathbf{P}$ for all $m$ odd and $\\mathbf{P}^{(m)} = \\mathbf{P}^{(2)}$ for all $m$ even (since $\\mathbf{P}^{(m)}$ never converges, the limit $\\lim_{m \\to \\infty} \\mathbf{P}^{(m)}$ does not exist)."
   ]
  },
  {
   "cell_type": "markdown",
   "metadata": {},
   "source": [
    "### Example: Long-Run Depends on Initial State\n",
    "\n",
    "This example shows when the limit exists (for the long-run proportion of time spent in a state), but depends on the initial state $X_0$.  $\\mathcal{S} = \\{1,2,3,4\\}$ \n",
    "$$\\mathbf{P} = \\pmatrix{0.3& 0.7& 0.0& 0.0\\\\ 0.8& 0.2& 0.0& 0.0\\\\ 0.0& 0.0& 0.5& 0.5\\\\ 0.0& 0.0& 0.5& 0.5}$$\n",
    "There are two communication classes: $\\{1, 2\\}$ and $\\{3, 4\\}$, both with recurrent states.  Depending on which set of states the Markov chain starts in, it will stay in those states forever (never visiting the other communication class).  In this case, the long-run proportion of time spent in a state depends on the starting position of the Markov chain $X_0$."
   ]
  },
  {
   "cell_type": "code",
   "execution_count": 8,
   "metadata": {},
   "outputs": [],
   "source": [
    "S = [1, 2, 3, 4]\n",
    "P = np.array([[0.3, 0.7, 0, 0],\n",
    "              [0.8, 0.2, 0, 0],\n",
    "              [0, 0, 0.5, 0.5],\n",
    "              [0, 0, 0.5, 0.5]\n",
    "             ])"
   ]
  },
  {
   "cell_type": "code",
   "execution_count": 9,
   "metadata": {
    "scrolled": false
   },
   "outputs": [
    {
     "data": {
      "text/latex": [
       "$\\displaystyle \\mathbf{d}_0 = \\pmatrix{0.5& 0& 0.5& 0}$"
      ],
      "text/plain": [
       "<IPython.core.display.Math object>"
      ]
     },
     "metadata": {},
     "output_type": "display_data"
    },
    {
     "data": {
      "text/latex": [
       "$\\displaystyle X_0 = 1$"
      ],
      "text/plain": [
       "<IPython.core.display.Math object>"
      ]
     },
     "metadata": {},
     "output_type": "display_data"
    },
    {
     "data": {
      "text/html": [
       "\n",
       "\n",
       "\n",
       "\n",
       "\n",
       "\n",
       "  <div class=\"bk-root\" id=\"6b6a6e82-8746-4f1b-b34c-12167746bcef\" data-root-id=\"1082\"></div>\n"
      ]
     },
     "metadata": {},
     "output_type": "display_data"
    },
    {
     "data": {
      "application/javascript": [
       "(function(root) {\n",
       "  function embed_document(root) {\n",
       "    \n",
       "  var docs_json = {\"a2f1f50b-6dd6-4cd3-ba9d-634053cf6490\":{\"roots\":{\"references\":[{\"attributes\":{\"below\":[{\"id\":\"1093\",\"type\":\"CategoricalAxis\"}],\"center\":[{\"id\":\"1096\",\"type\":\"Grid\"},{\"id\":\"1101\",\"type\":\"Grid\"},{\"id\":\"1108\",\"type\":\"LabelSet\"}],\"left\":[{\"id\":\"1097\",\"type\":\"LinearAxis\"}],\"renderers\":[{\"id\":\"1105\",\"type\":\"GlyphRenderer\"}],\"title\":{\"id\":\"1083\",\"type\":\"Title\"},\"toolbar\":{\"id\":\"1102\",\"type\":\"Toolbar\"},\"x_range\":{\"id\":\"1085\",\"type\":\"FactorRange\"},\"x_scale\":{\"id\":\"1089\",\"type\":\"CategoricalScale\"},\"y_range\":{\"id\":\"1107\",\"type\":\"Range1d\"},\"y_scale\":{\"id\":\"1091\",\"type\":\"LinearScale\"}},\"id\":\"1082\",\"subtype\":\"Figure\",\"type\":\"Plot\"},{\"attributes\":{},\"id\":\"1089\",\"type\":\"CategoricalScale\"},{\"attributes\":{\"callback\":null,\"data\":{\"labels\":[\"0.4900\",\"0.5100\",\"0.0000\",\"0.0000\"],\"top\":{\"__ndarray__\":\"XI/C9Shc3z9SuB6F61HgPwAAAAAAAAAAAAAAAAAAAAA=\",\"dtype\":\"float64\",\"shape\":[4]},\"x\":[\"1\",\"2\",\"3\",\"4\"]},\"selected\":{\"id\":\"1122\",\"type\":\"Selection\"},\"selection_policy\":{\"id\":\"1123\",\"type\":\"UnionRenderers\"}},\"id\":\"1103\",\"type\":\"ColumnDataSource\"},{\"attributes\":{\"callback\":null,\"factors\":[\"1\",\"2\",\"3\",\"4\"]},\"id\":\"1085\",\"type\":\"FactorRange\"},{\"attributes\":{\"data_source\":{\"id\":\"1103\",\"type\":\"ColumnDataSource\"},\"glyph\":{\"id\":\"1104\",\"type\":\"VBar\"},\"hover_glyph\":null,\"muted_glyph\":null,\"view\":{\"id\":\"1106\",\"type\":\"CDSView\"}},\"id\":\"1105\",\"type\":\"GlyphRenderer\"},{\"attributes\":{\"callback\":null},\"id\":\"1107\",\"type\":\"Range1d\"},{\"attributes\":{},\"id\":\"1122\",\"type\":\"Selection\"},{\"attributes\":{\"align\":\"center\",\"text\":\"Proportion of Time Spent in Each State\",\"text_font_size\":{\"value\":\"25px\"}},\"id\":\"1083\",\"type\":\"Title\"},{\"attributes\":{},\"id\":\"1121\",\"type\":\"BasicTickFormatter\"},{\"attributes\":{\"source\":{\"id\":\"1103\",\"type\":\"ColumnDataSource\"}},\"id\":\"1106\",\"type\":\"CDSView\"},{\"attributes\":{\"dimension\":1,\"ticker\":{\"id\":\"1098\",\"type\":\"BasicTicker\"}},\"id\":\"1101\",\"type\":\"Grid\"},{\"attributes\":{\"level\":\"glyph\",\"source\":{\"id\":\"1103\",\"type\":\"ColumnDataSource\"},\"text\":{\"field\":\"labels\"},\"text_align\":\"center\",\"x\":{\"field\":\"x\"},\"y\":{\"field\":\"top\"}},\"id\":\"1108\",\"type\":\"LabelSet\"},{\"attributes\":{},\"id\":\"1098\",\"type\":\"BasicTicker\"},{\"attributes\":{},\"id\":\"1123\",\"type\":\"UnionRenderers\"},{\"attributes\":{\"formatter\":{\"id\":\"1119\",\"type\":\"CategoricalTickFormatter\"},\"major_label_text_font_size\":{\"value\":\"20px\"},\"ticker\":{\"id\":\"1094\",\"type\":\"CategoricalTicker\"}},\"id\":\"1093\",\"type\":\"CategoricalAxis\"},{\"attributes\":{},\"id\":\"1094\",\"type\":\"CategoricalTicker\"},{\"attributes\":{\"formatter\":{\"id\":\"1121\",\"type\":\"BasicTickFormatter\"},\"ticker\":{\"id\":\"1098\",\"type\":\"BasicTicker\"}},\"id\":\"1097\",\"type\":\"LinearAxis\"},{\"attributes\":{\"fill_color\":{\"value\":\"blue\"},\"top\":{\"field\":\"top\"},\"width\":{\"value\":0.5},\"x\":{\"field\":\"x\"}},\"id\":\"1104\",\"type\":\"VBar\"},{\"attributes\":{},\"id\":\"1091\",\"type\":\"LinearScale\"},{\"attributes\":{\"active_drag\":\"auto\",\"active_inspect\":\"auto\",\"active_multi\":null,\"active_scroll\":\"auto\",\"active_tap\":\"auto\"},\"id\":\"1102\",\"type\":\"Toolbar\"},{\"attributes\":{\"ticker\":{\"id\":\"1094\",\"type\":\"CategoricalTicker\"}},\"id\":\"1096\",\"type\":\"Grid\"},{\"attributes\":{},\"id\":\"1119\",\"type\":\"CategoricalTickFormatter\"}],\"root_ids\":[\"1082\"]},\"title\":\"Bokeh Application\",\"version\":\"1.3.4\"}};\n",
       "  var render_items = [{\"docid\":\"a2f1f50b-6dd6-4cd3-ba9d-634053cf6490\",\"notebook_comms_target\":\"1124\",\"roots\":{\"1082\":\"6b6a6e82-8746-4f1b-b34c-12167746bcef\"}}];\n",
       "  root.Bokeh.embed.embed_items_notebook(docs_json, render_items);\n",
       "\n",
       "  }\n",
       "  if (root.Bokeh !== undefined) {\n",
       "    embed_document(root);\n",
       "  } else {\n",
       "    var attempts = 0;\n",
       "    var timer = setInterval(function(root) {\n",
       "      if (root.Bokeh !== undefined) {\n",
       "        embed_document(root);\n",
       "        clearInterval(timer);\n",
       "      }\n",
       "      attempts++;\n",
       "      if (attempts > 100) {\n",
       "        console.log(\"Bokeh: ERROR: Unable to run BokehJS code because BokehJS library is missing\");\n",
       "        clearInterval(timer);\n",
       "      }\n",
       "    }, 10, root)\n",
       "  }\n",
       "})(window);"
      ],
      "application/vnd.bokehjs_exec.v0+json": ""
     },
     "metadata": {
      "application/vnd.bokehjs_exec.v0+json": {
       "id": "1082"
      }
     },
     "output_type": "display_data"
    },
    {
     "data": {
      "application/vnd.jupyter.widget-view+json": {
       "model_id": "325ad95426c14cb1b90619fecbff4e0b",
       "version_major": 2,
       "version_minor": 0
      },
      "text/plain": [
       "interactive(children=(IntSlider(value=1, description='step', min=1), Output()), _dom_classes=('widget-interact…"
      ]
     },
     "metadata": {},
     "output_type": "display_data"
    }
   ],
   "source": [
    "d_0 = [0.5, 0, 0.5, 0]\n",
    "steps = 100\n",
    "example_sample_path = pd.DataFrame(dtmc.sim_path(P, d_0, steps=steps, S=S), \n",
    "                           index=pd.Index(range(0,steps+1), name='step'),\n",
    "                           columns=['path'])\n",
    "slider = widgets.IntSlider(value=1, min=1, max=steps, description='step')\n",
    "\n",
    "display(Math(r'\\mathbf{d}_0 = ' + dtmc.pmatrix([d_0])))\n",
    "X_0 = example_sample_path[\"path\"][0]\n",
    "display(Math(f'X_0 = {X_0}'))\n",
    "\n",
    "example_indic, example_count, example_prop = path_state_counts(example_sample_path['path'], S)\n",
    "\n",
    "normalize = True\n",
    "example_freq = example_prop if normalize else example_count\n",
    "example_source, example_handle = freq_plot(example_freq, list(map(str, S)), normalize=normalize)\n",
    "\n",
    "widgets.interact(lambda step: wrapper(step, example_freq, example_source, example_handle), step=slider);    \n"
   ]
  },
  {
   "cell_type": "markdown",
   "metadata": {},
   "source": [
    "The stationary distrbution $\\pi$ for a positive recurrent Markov chain has a number of interpretations and uses:\n",
    "* $\\pi$ is the unique solution to  \n",
    "    $$ \\pi = \\pi \\mathbf{P} \\qquad \\sum_{j \\in \\mathcal{S}} \\pi_j = 1. $$\n",
    "    \n",
    "* $\\pi_j$ is the long-run proportion of time spent in time $j$\n",
    "    $$ \\pi_j = \\lim_{n \\to \\infty} \\frac{1}{n} \\sum_{k=1}^n \\mathbf{1}\\{X_k = j\\}. $$\n",
    "    \n",
    "* $\\pi_j$ is $1/$expected return time to state $j$ (remember that $\\mathsf{E}[\\tau_{jj}] < \\infty$ since state $j$ is positive recurrent)\n",
    "    $$ \\pi_j = \\frac{1}{\\mathsf{E}[\\tau_{jj}]}.$$\n",
    "    (See “Transience and Recurrence” of Section 5: Markov Chain Structure to review the concept of the return time $\\tau_{jj}$.)  \n",
    "    \n",
    "* $\\pi_j$ is the long-run average probability  \n",
    "    $$ \\pi_j = \\lim_{n \\to \\infty} \\frac{1}{n} \\sum_{k=0}^n p_{ij}^{(k)}. $$\n",
    "    \n",
    "* **If the chain is aperiodic then** $\\pi_j$ is also the long-run limit probability\n",
    "    $$ \\pi_j = \\lim_{n \\to \\infty} p_{ij}^{(n)}. $$"
   ]
  },
  {
   "cell_type": "markdown",
   "metadata": {},
   "source": [
    "## Finding the Stationary Distribution $\\pi$\n",
    "\n",
    "### Solve for $\\pi$\n",
    "\n",
    "The most straightforward way to find the stationary distribution is to (algebraically) solve the system of equations:\n",
    "\n",
    "$$ \\pi = \\pi \\mathbf{P} \\qquad \\sum_{j \\in \\mathcal{S}} \\pi_j = 1. $$\n",
    "\n",
    "Since $\\pi$ is a vector and $\\mathbf{P}$ is a matrix, $\\pi = \\mathbf{P}$ is equivalent to\n",
    "$$\\pi_j = \\sum_{i \\in \\mathcal{S}} \\pi_j p_{ij} = \\pi_1 p_{1j} + \\pi_2 p_{2j} + \\pi_3 p_{3j} + \\dots$$\n",
    "for each $j \\in \\mathcal{S}$."
   ]
  },
  {
   "cell_type": "markdown",
   "metadata": {},
   "source": [
    "### Example: Rat in a Maze\n",
    "\n",
    "For $\\mathcal{S} = \\{1, 2, 3, 4\\}$ and \n",
    "$$\\mathbf{P} = \\begin{pmatrix} \n",
    "    0 & 1/2 & 0 & 1/2 \\\\\n",
    "    1/2 & 0 & 1/2 & 0 \\\\\n",
    "    0 & 1/2 & 0 & 1/2 \\\\\n",
    "    1/2 & 0 & 1/2 & 0 \\\\\n",
    "  \\end{pmatrix}$$\n",
    "Solve the system of equations $\\pi = \\pi \\mathbf{P}$ and $\\sum_{j \\in \\mathcal{S}} \\pi_j = 1$ to find the stationary distribution.\n",
    "\n",
    "\n",
    "The equations $\\pi = \\pi \\mathbf{P}$ give\n",
    "$$\\begin{aligned}\n",
    "    \\pi_1 &= \\frac{1}{2} (\\pi_2 + \\pi_4) \\\\\n",
    "    \\pi_2 &= \\frac{1}{2} (\\pi_1 + \\pi_3) \\\\\n",
    "    \\pi_3 &= \\frac{1}{2} (\\pi_2 + \\pi_4) \\\\\n",
    "    \\pi_4 &= \\frac{1}{2} (\\pi_1 + \\pi_3) \\\\\n",
    "\\end{aligned}$$\n",
    "\n",
    "While you may use various techniques from linear algebra, you can often just simplify the system of equations with basic algebra.  In the example above, notice that $\\pi_1 = \\pi_3$ (both are equal to $(\\pi_2 + \\pi_4)/2$) and $\\pi_2 = \\pi_4$ (both are equal to $(\\pi_1 + \\pi_3)/2$).  Combining these then gives us $\\pi_1 = \\pi_2 = \\pi_3 = \\pi_4$.  \n",
    "\n",
    "To fully solve for $\\pi$, we need the last equation, $\\sum_{j \\in \\mathcal{S}} \\pi_j = 1$, which ensures that $\\pi$ is a valid distribution over $\\mathcal{S}$.\n",
    "\n",
    "So we can conclude that $\\pi_i = 1/4$ for all $i \\in \\mathcal{S}$.  In other words, the stationary distribution is uniform over the state space.\n",
    "\n",
    "(**Note:** Do not forget that you need the last equation $\\sum_{j \\in \\mathcal{S}} \\pi_j = 1$.  Since $\\mathbf{P}$ is a stochastic matrix — its rows sum to 1 — it is not full-rank and hence $\\pi = \\pi \\mathbf{P}$ represents only $|\\mathcal{S}| - 1$ linearly independent equations.)"
   ]
  },
  {
   "cell_type": "markdown",
   "metadata": {},
   "source": [
    "### Numerical Estimation\n",
    "\n",
    "We can also use the various “long-run” interpretations of $\\pi$ to estimate it or, in some cases, calculate it.\n",
    "\n",
    "For the ride-share driver example, you saw in Exercise 6.1 above that for large $n$,:\n",
    "$$ \\pi_j \\approx \\frac{1}{n} \\sum_{k=1}^n \\mathbf{1}\\{X_k = j\\} $$\n",
    "and in Exercise 4.3 that, for large $n$,\n",
    "$$ \\pi_j \\approx p_{ij}^{(n)}.$$\n",
    "So, $\\pi \\approx \\pmatrix{0.4448 & 0.1909 & 0.2643 & 0.1}$.  (Remember that the limiting probability $\\lim_{n \\to \\infty} p_{ij}^{(n)}$ only exists for an aperiodic Markov chain.)\n",
    "\n",
    "In the case of the rat-in-a-maze, we would need to look at the long-run average probabilities instead of the limiting probabilities:\n",
    "$$\\pi_j = \\lim_{n \\to \\infty} \\frac{1}{n} \\sum_{k=1}^n p_{ij}^{(k)}$$\n",
    "However, as we noticed in Section 5, this DTMC is periodic with period $d = 2$ and, $\\mathbf{P}^{(m)} = \\mathbf{P}$ for any odd $m$ and $\\mathbf{P}^{(m)} = \\mathbf{P}^{(2)}$ for any even $m$.  Therefore\n",
    "$$\\pi_j = \\lim_{n \\to \\infty} \\frac{1}{n} \\sum_{k=1}^n p_{ij}^{(k)} = \\frac{1}{2} (p_{ij} + p_{ij}^{(2)}) = \\frac{1}{4}.$$"
   ]
  },
  {
   "cell_type": "markdown",
   "metadata": {},
   "source": [
    "### Guess-and-Check\n",
    "\n",
    "Recall the result above that a positive recurrent Markov chain is guaranteed to have a unique stationary distribution (that satisfies $\\pi = \\pi \\mathbf{P}$, $\\pi > 0$, and $\\sum_j \\pi_j = 1$).  Since $\\pi$ is unique, if we can guess a solution that satisfies the equations, then it must be the stationary distribution.\n",
    "\n",
    "This is actually more useful than it sounds and is not unlike how solving a partial differential equation often involves some (informed) guessing as to the form of the solution.  The guess is usually based on some understanding of the original problem, which may not be clear if you're just staring at $\\mathbf{P}$.\n",
    "\n",
    "Take, for example, the following DTMC on $\\mathcal{S} = \\{1, 2, 3\\}$.\n",
    "$$ \\mathbf{P} = \\pmatrix{0 & 1 & 0 \\\\ 1/2 & 0 & 1/2 \\\\ 0 & 1 & 0} $$\n",
    "This was the second maze example in Exercise 2.2.  We can see that if the Markov chain is in state $1$ or state $3$ then it always moves to state $2$ in the next step (with probability $1$).  On the other hand, if the Markov chain is in state $2$ then it will move to either state $1$ or state $3$ (each with probability $1/2$).  Based on this, we would guess that the Markov chain spends twice as much time in state $2$ as in either states $1$ or $3$.  \n",
    "\n",
    "Therefore our guess is that $\\pi_2 = 2 \\pi_1 = 2 \\pi_3$, which, as a distribution with $\\pi_1 + \\pi_2 + \\pi_3 = 1$, would be $\\pi = \\pmatrix{1/4 & 1/2 & 1/4}$.  Since we have constructed $\\pi$ such that $\\pi > 0$ and $\\sum_j \\pi_j = 1$, it only remains to check that $\\pi = \\pi \\mathbf{P}$:\n",
    "\n",
    "$$\\pi \\mathbf{P} = \\pmatrix{1/4 & 1/2 & 1/4} \\pmatrix{0 & 1 & 0 \\\\ 1/2 & 0 & 1/2 \\\\ 0 & 1 & 0}\n",
    "  = \\pmatrix{1/2 \\times 1/2 & 1/4 \\times 1 + 1/4 \\times 1 & 1/2 \\times 1/2} = \\pmatrix{1/4 & 1/2 & 1/4}\n",
    "  $$\n",
    "  \n",
    "Similarly, for the original rat-in-a-maze example, we might simply guess that $\\pi$ was uniform over $\\mathcal{S}$ based on the symmetry of the maze."
   ]
  },
  {
   "cell_type": "markdown",
   "metadata": {},
   "source": [
    "### Exercise 6.2\n",
    "\n",
    "For each of the following, find the stationary distribution.  Check that your answer satisfies $\\pi = \\pi \\mathbf{P}$ and $\\sum_j \\pi_j = 1$.\n",
    "\n",
    "(**Note:** Each of these codeblocks randomly generate examples.  For the second codeblock, the Markov chain is not guaranteed to be irreducible, in which case you can just re-run the codeblock until it generates an irreducible Markov chain.  Better yet, you can write a function that checks whether the Markov chain is irreducible and, if not, adds the necessary transitions to make it irreducible.)"
   ]
  },
  {
   "cell_type": "code",
   "execution_count": 10,
   "metadata": {},
   "outputs": [
    {
     "data": {
      "text/latex": [
       "$\\displaystyle \\mathcal{S} = \\{1,2,3,4\\}$"
      ],
      "text/plain": [
       "<IPython.core.display.Math object>"
      ]
     },
     "metadata": {},
     "output_type": "display_data"
    },
    {
     "data": {
      "text/latex": [
       "$\\displaystyle \\mathbf{P} = \\pmatrix{0& 1/2& 0& 1/2\\\\ 1/2& 0& 1/2& 0\\\\ 0& 1/2& 0& 1/2\\\\ 1/2& 0& 1/2& 0}$"
      ],
      "text/plain": [
       "<IPython.core.display.Math object>"
      ]
     },
     "metadata": {},
     "output_type": "display_data"
    },
    {
     "data": {
      "image/svg+xml": [
       "<?xml version=\"1.0\" encoding=\"UTF-8\" standalone=\"no\"?>\n",
       "<!DOCTYPE svg PUBLIC \"-//W3C//DTD SVG 1.1//EN\"\n",
       " \"http://www.w3.org/Graphics/SVG/1.1/DTD/svg11.dtd\">\n",
       "<!-- Generated by graphviz version 2.40.1 (20161225.0304)\n",
       " -->\n",
       "<!-- Title: Markov chain Pages: 1 -->\n",
       "<svg width=\"182pt\" height=\"182pt\"\n",
       " viewBox=\"0.00 0.00 181.51 181.51\" xmlns=\"http://www.w3.org/2000/svg\" xmlns:xlink=\"http://www.w3.org/1999/xlink\">\n",
       "<g id=\"graph0\" class=\"graph\" transform=\"scale(1 1) rotate(0) translate(4 177.5099)\">\n",
       "<title>Markov chain</title>\n",
       "<polygon fill=\"#ffffff\" stroke=\"transparent\" points=\"-4,4 -4,-177.5099 177.5099,-177.5099 177.5099,4 -4,4\"/>\n",
       "<!-- 1 -->\n",
       "<g id=\"node1\" class=\"node\">\n",
       "<title>1</title>\n",
       "<ellipse fill=\"none\" stroke=\"#000000\" cx=\"86.7549\" cy=\"-18\" rx=\"18\" ry=\"18\"/>\n",
       "<text text-anchor=\"middle\" x=\"86.7549\" y=\"-14.3\" font-family=\"Times,serif\" font-size=\"14.00\" fill=\"#000000\">1</text>\n",
       "</g>\n",
       "<!-- 2 -->\n",
       "<g id=\"node2\" class=\"node\">\n",
       "<title>2</title>\n",
       "<ellipse fill=\"none\" stroke=\"#000000\" cx=\"18\" cy=\"-86.7549\" rx=\"18\" ry=\"18\"/>\n",
       "<text text-anchor=\"middle\" x=\"18\" y=\"-83.0549\" font-family=\"Times,serif\" font-size=\"14.00\" fill=\"#000000\">2</text>\n",
       "</g>\n",
       "<!-- 1&#45;&gt;2 -->\n",
       "<g id=\"edge1\" class=\"edge\">\n",
       "<title>1&#45;&gt;2</title>\n",
       "<path fill=\"none\" stroke=\"#000000\" d=\"M66.6772,-38.0778C57.6491,-47.1058 47.0199,-57.735 38.001,-66.754\"/>\n",
       "<polygon fill=\"#000000\" stroke=\"#000000\" points=\"69.2264,-40.4783 73.8227,-30.9323 64.2767,-35.5285 69.2264,-40.4783\"/>\n",
       "<polygon fill=\"#000000\" stroke=\"#000000\" points=\"35.4705,-64.3347 30.8743,-73.8806 40.4203,-69.2844 35.4705,-64.3347\"/>\n",
       "</g>\n",
       "<!-- 4 -->\n",
       "<g id=\"node4\" class=\"node\">\n",
       "<title>4</title>\n",
       "<ellipse fill=\"none\" stroke=\"#000000\" cx=\"155.5099\" cy=\"-86.7549\" rx=\"18\" ry=\"18\"/>\n",
       "<text text-anchor=\"middle\" x=\"155.5099\" y=\"-83.0549\" font-family=\"Times,serif\" font-size=\"14.00\" fill=\"#000000\">4</text>\n",
       "</g>\n",
       "<!-- 1&#45;&gt;4 -->\n",
       "<g id=\"edge2\" class=\"edge\">\n",
       "<title>1&#45;&gt;4</title>\n",
       "<path fill=\"none\" stroke=\"#000000\" d=\"M106.8327,-38.0778C115.8608,-47.1058 126.4899,-57.735 135.5089,-66.754\"/>\n",
       "<polygon fill=\"#000000\" stroke=\"#000000\" points=\"109.2332,-35.5285 99.6872,-30.9323 104.2834,-40.4783 109.2332,-35.5285\"/>\n",
       "<polygon fill=\"#000000\" stroke=\"#000000\" points=\"133.0896,-69.2844 142.6356,-73.8806 138.0394,-64.3347 133.0896,-69.2844\"/>\n",
       "</g>\n",
       "<!-- 3 -->\n",
       "<g id=\"node3\" class=\"node\">\n",
       "<title>3</title>\n",
       "<ellipse fill=\"none\" stroke=\"#000000\" cx=\"86.7549\" cy=\"-155.5099\" rx=\"18\" ry=\"18\"/>\n",
       "<text text-anchor=\"middle\" x=\"86.7549\" y=\"-151.8099\" font-family=\"Times,serif\" font-size=\"14.00\" fill=\"#000000\">3</text>\n",
       "</g>\n",
       "<!-- 2&#45;&gt;3 -->\n",
       "<g id=\"edge3\" class=\"edge\">\n",
       "<title>2&#45;&gt;3</title>\n",
       "<path fill=\"none\" stroke=\"#000000\" d=\"M38.0778,-106.8327C47.1058,-115.8608 57.735,-126.4899 66.754,-135.5089\"/>\n",
       "<polygon fill=\"#000000\" stroke=\"#000000\" points=\"40.4783,-104.2834 30.9323,-99.6872 35.5285,-109.2332 40.4783,-104.2834\"/>\n",
       "<polygon fill=\"#000000\" stroke=\"#000000\" points=\"64.3347,-138.0394 73.8806,-142.6356 69.2844,-133.0896 64.3347,-138.0394\"/>\n",
       "</g>\n",
       "<!-- 3&#45;&gt;4 -->\n",
       "<g id=\"edge4\" class=\"edge\">\n",
       "<title>3&#45;&gt;4</title>\n",
       "<path fill=\"none\" stroke=\"#000000\" d=\"M106.8327,-135.4321C115.8608,-126.404 126.4899,-115.7749 135.5089,-106.7559\"/>\n",
       "<polygon fill=\"#000000\" stroke=\"#000000\" points=\"104.2834,-133.0316 99.6872,-142.5776 109.2332,-137.9814 104.2834,-133.0316\"/>\n",
       "<polygon fill=\"#000000\" stroke=\"#000000\" points=\"138.0394,-109.1752 142.6356,-99.6292 133.0896,-104.2254 138.0394,-109.1752\"/>\n",
       "</g>\n",
       "</g>\n",
       "</svg>\n"
      ],
      "text/plain": [
       "<graphviz.dot.Digraph at 0x7f94c8330190>"
      ]
     },
     "metadata": {},
     "output_type": "display_data"
    }
   ],
   "source": [
    "n = 4 # number of rooms\n",
    "S = range(1,n+1)\n",
    "P = maze.rand_maze(n, p = [0,0.2,0.4,0.4])\n",
    "\n",
    "display(Math(r'\\mathcal{S} = \\{' + ','.join(map(str,S)) + '\\}'))\n",
    "display(Math(r'\\mathbf{P} = ' + dtmc.pmatrix(P, frac=True)))\n",
    "display(mcviz.dot_mc(P, S, engine='circo', bidir=True))"
   ]
  },
  {
   "cell_type": "code",
   "execution_count": 11,
   "metadata": {},
   "outputs": [
    {
     "data": {
      "text/plain": [
       "array([[0.5, 0. , 0.5, 0. ],\n",
       "       [0. , 0.5, 0. , 0.5],\n",
       "       [0.5, 0. , 0.5, 0. ],\n",
       "       [0. , 0.5, 0. , 0.5]])"
      ]
     },
     "execution_count": 11,
     "metadata": {},
     "output_type": "execute_result"
    }
   ],
   "source": [
    "np.linalg.matrix_power(P, 50)"
   ]
  },
  {
   "cell_type": "code",
   "execution_count": 12,
   "metadata": {},
   "outputs": [
    {
     "data": {
      "text/latex": [
       "$\\displaystyle \\mathcal{S} = \\{1,2,3\\}$"
      ],
      "text/plain": [
       "<IPython.core.display.Math object>"
      ]
     },
     "metadata": {},
     "output_type": "display_data"
    },
    {
     "data": {
      "text/latex": [
       "$\\displaystyle \\mathbf{P} = \\pmatrix{9/17& 0& 8/17\\\\ 0& 1& 0\\\\ 2/9& 5/9& 2/9}$"
      ],
      "text/plain": [
       "<IPython.core.display.Math object>"
      ]
     },
     "metadata": {},
     "output_type": "display_data"
    },
    {
     "data": {
      "image/svg+xml": [
       "<?xml version=\"1.0\" encoding=\"UTF-8\" standalone=\"no\"?>\n",
       "<!DOCTYPE svg PUBLIC \"-//W3C//DTD SVG 1.1//EN\"\n",
       " \"http://www.w3.org/Graphics/SVG/1.1/DTD/svg11.dtd\">\n",
       "<!-- Generated by graphviz version 2.40.1 (20161225.0304)\n",
       " -->\n",
       "<!-- Title: Markov chain Pages: 1 -->\n",
       "<svg width=\"62pt\" height=\"188pt\"\n",
       " viewBox=\"0.00 0.00 62.00 188.00\" xmlns=\"http://www.w3.org/2000/svg\" xmlns:xlink=\"http://www.w3.org/1999/xlink\">\n",
       "<g id=\"graph0\" class=\"graph\" transform=\"scale(1 1) rotate(0) translate(4 184)\">\n",
       "<title>Markov chain</title>\n",
       "<polygon fill=\"#ffffff\" stroke=\"transparent\" points=\"-4,4 -4,-184 58,-184 58,4 -4,4\"/>\n",
       "<!-- 1 -->\n",
       "<g id=\"node1\" class=\"node\">\n",
       "<title>1</title>\n",
       "<ellipse fill=\"none\" stroke=\"#000000\" cx=\"18\" cy=\"-162\" rx=\"18\" ry=\"18\"/>\n",
       "<text text-anchor=\"middle\" x=\"18\" y=\"-158.3\" font-family=\"Times,serif\" font-size=\"14.00\" fill=\"#000000\">1</text>\n",
       "</g>\n",
       "<!-- 1&#45;&gt;1 -->\n",
       "<g id=\"edge1\" class=\"edge\">\n",
       "<title>1&#45;&gt;1</title>\n",
       "<path fill=\"none\" stroke=\"#000000\" d=\"M32.0417,-173.7565C42.9126,-178.1532 54,-174.2344 54,-162 54,-153.5889 48.7595,-149.1081 41.9516,-148.5578\"/>\n",
       "<polygon fill=\"#000000\" stroke=\"#000000\" points=\"41.3132,-145.116 32.0417,-150.2435 42.4871,-152.0169 41.3132,-145.116\"/>\n",
       "</g>\n",
       "<!-- 3 -->\n",
       "<g id=\"node3\" class=\"node\">\n",
       "<title>3</title>\n",
       "<ellipse fill=\"none\" stroke=\"#000000\" cx=\"18\" cy=\"-90\" rx=\"18\" ry=\"18\"/>\n",
       "<text text-anchor=\"middle\" x=\"18\" y=\"-86.3\" font-family=\"Times,serif\" font-size=\"14.00\" fill=\"#000000\">3</text>\n",
       "</g>\n",
       "<!-- 1&#45;&gt;3 -->\n",
       "<g id=\"edge2\" class=\"edge\">\n",
       "<title>1&#45;&gt;3</title>\n",
       "<path fill=\"none\" stroke=\"#000000\" d=\"M18,-133.5726C18,-128.6792 18,-123.5904 18,-118.6901\"/>\n",
       "<polygon fill=\"#000000\" stroke=\"#000000\" points=\"14.5001,-133.8313 18,-143.8314 21.5001,-133.8314 14.5001,-133.8313\"/>\n",
       "<polygon fill=\"#000000\" stroke=\"#000000\" points=\"21.5001,-118.4132 18,-108.4133 14.5001,-118.4133 21.5001,-118.4132\"/>\n",
       "</g>\n",
       "<!-- 2 -->\n",
       "<g id=\"node2\" class=\"node\">\n",
       "<title>2</title>\n",
       "<ellipse fill=\"none\" stroke=\"#000000\" cx=\"18\" cy=\"-18\" rx=\"18\" ry=\"18\"/>\n",
       "<text text-anchor=\"middle\" x=\"18\" y=\"-14.3\" font-family=\"Times,serif\" font-size=\"14.00\" fill=\"#000000\">2</text>\n",
       "</g>\n",
       "<!-- 2&#45;&gt;2 -->\n",
       "<g id=\"edge3\" class=\"edge\">\n",
       "<title>2&#45;&gt;2</title>\n",
       "<path fill=\"none\" stroke=\"#000000\" d=\"M32.0417,-29.7565C42.9126,-34.1532 54,-30.2344 54,-18 54,-9.5889 48.7595,-5.1081 41.9516,-4.5578\"/>\n",
       "<polygon fill=\"#000000\" stroke=\"#000000\" points=\"41.3132,-1.116 32.0417,-6.2435 42.4871,-8.0169 41.3132,-1.116\"/>\n",
       "</g>\n",
       "<!-- 3&#45;&gt;2 -->\n",
       "<g id=\"edge4\" class=\"edge\">\n",
       "<title>3&#45;&gt;2</title>\n",
       "<path fill=\"none\" stroke=\"#000000\" d=\"M18,-71.8314C18,-64.131 18,-54.9743 18,-46.4166\"/>\n",
       "<polygon fill=\"#000000\" stroke=\"#000000\" points=\"21.5001,-46.4132 18,-36.4133 14.5001,-46.4133 21.5001,-46.4132\"/>\n",
       "</g>\n",
       "<!-- 3&#45;&gt;3 -->\n",
       "<g id=\"edge5\" class=\"edge\">\n",
       "<title>3&#45;&gt;3</title>\n",
       "<path fill=\"none\" stroke=\"#000000\" d=\"M32.0417,-101.7565C42.9126,-106.1532 54,-102.2344 54,-90 54,-81.5889 48.7595,-77.1081 41.9516,-76.5578\"/>\n",
       "<polygon fill=\"#000000\" stroke=\"#000000\" points=\"41.3132,-73.116 32.0417,-78.2435 42.4871,-80.0169 41.3132,-73.116\"/>\n",
       "</g>\n",
       "</g>\n",
       "</svg>\n"
      ],
      "text/plain": [
       "<graphviz.dot.Digraph at 0x7f95106fa290>"
      ]
     },
     "metadata": {},
     "output_type": "display_data"
    }
   ],
   "source": [
    "dim = 3 # size of state space\n",
    "S = range(1,dim+1)\n",
    "P = dtmc.rand_P(dim, p=0.7)\n",
    "\n",
    "display(Math(r'\\mathcal{S} = \\{' + ','.join(map(str,S)) + '\\}'))\n",
    "display(Math(r'\\mathbf{P} = ' + dtmc.pmatrix(P, frac=True)))\n",
    "display(mcviz.dot_mc(P, S, engine='dot', bidir=True, self_edge=True))"
   ]
  },
  {
   "cell_type": "code",
   "execution_count": 13,
   "metadata": {},
   "outputs": [
    {
     "data": {
      "image/svg+xml": [
       "<?xml version=\"1.0\" encoding=\"UTF-8\" standalone=\"no\"?>\n",
       "<!DOCTYPE svg PUBLIC \"-//W3C//DTD SVG 1.1//EN\"\n",
       " \"http://www.w3.org/Graphics/SVG/1.1/DTD/svg11.dtd\">\n",
       "<!-- Generated by graphviz version 2.40.1 (20161225.0304)\n",
       " -->\n",
       "<!-- Title: Markov chain Pages: 1 -->\n",
       "<svg width=\"44pt\" height=\"188pt\"\n",
       " viewBox=\"0.00 0.00 44.00 188.00\" xmlns=\"http://www.w3.org/2000/svg\" xmlns:xlink=\"http://www.w3.org/1999/xlink\">\n",
       "<g id=\"graph0\" class=\"graph\" transform=\"scale(1 1) rotate(0) translate(4 184)\">\n",
       "<title>Markov chain</title>\n",
       "<polygon fill=\"#ffffff\" stroke=\"transparent\" points=\"-4,4 -4,-184 40,-184 40,4 -4,4\"/>\n",
       "<!-- 1 -->\n",
       "<g id=\"node1\" class=\"node\">\n",
       "<title>1</title>\n",
       "<ellipse fill=\"none\" stroke=\"#000000\" cx=\"18\" cy=\"-162\" rx=\"18\" ry=\"18\"/>\n",
       "<text text-anchor=\"middle\" x=\"18\" y=\"-158.3\" font-family=\"Times,serif\" font-size=\"14.00\" fill=\"#000000\">1</text>\n",
       "</g>\n",
       "<!-- 3 -->\n",
       "<g id=\"node3\" class=\"node\">\n",
       "<title>3</title>\n",
       "<ellipse fill=\"none\" stroke=\"#000000\" cx=\"18\" cy=\"-90\" rx=\"18\" ry=\"18\"/>\n",
       "<text text-anchor=\"middle\" x=\"18\" y=\"-86.3\" font-family=\"Times,serif\" font-size=\"14.00\" fill=\"#000000\">3</text>\n",
       "</g>\n",
       "<!-- 1&#45;&gt;3 -->\n",
       "<g id=\"edge1\" class=\"edge\">\n",
       "<title>1&#45;&gt;3</title>\n",
       "<path fill=\"none\" stroke=\"#000000\" d=\"M12.1601,-144.937C11.2975,-136.8072 11.0481,-126.8761 11.4119,-117.7047\"/>\n",
       "<polygon fill=\"#000000\" stroke=\"#000000\" points=\"14.9233,-117.658 12.1206,-107.4407 7.94,-117.1758 14.9233,-117.658\"/>\n",
       "</g>\n",
       "<!-- 2 -->\n",
       "<g id=\"node2\" class=\"node\">\n",
       "<title>2</title>\n",
       "<ellipse fill=\"none\" stroke=\"#000000\" cx=\"18\" cy=\"-18\" rx=\"18\" ry=\"18\"/>\n",
       "<text text-anchor=\"middle\" x=\"18\" y=\"-14.3\" font-family=\"Times,serif\" font-size=\"14.00\" fill=\"#000000\">2</text>\n",
       "</g>\n",
       "<!-- 3&#45;&gt;1 -->\n",
       "<g id=\"edge2\" class=\"edge\">\n",
       "<title>3&#45;&gt;1</title>\n",
       "<path fill=\"none\" stroke=\"#000000\" d=\"M23.8794,-107.4407C24.7231,-115.6255 24.9536,-125.572 24.5709,-134.7193\"/>\n",
       "<polygon fill=\"#000000\" stroke=\"#000000\" points=\"21.0625,-134.7127 23.8399,-144.937 28.0446,-135.2123 21.0625,-134.7127\"/>\n",
       "</g>\n",
       "<!-- 3&#45;&gt;2 -->\n",
       "<g id=\"edge3\" class=\"edge\">\n",
       "<title>3&#45;&gt;2</title>\n",
       "<path fill=\"none\" stroke=\"#000000\" d=\"M18,-71.8314C18,-64.131 18,-54.9743 18,-46.4166\"/>\n",
       "<polygon fill=\"#000000\" stroke=\"#000000\" points=\"21.5001,-46.4132 18,-36.4133 14.5001,-46.4133 21.5001,-46.4132\"/>\n",
       "</g>\n",
       "</g>\n",
       "</svg>\n"
      ],
      "text/plain": [
       "<graphviz.dot.Digraph at 0x7f951070fc90>"
      ]
     },
     "metadata": {},
     "output_type": "display_data"
    }
   ],
   "source": [
    "display(mcviz.dot_mc(P, S, engine='dot', bidir=False, self_edge=False))"
   ]
  },
  {
   "cell_type": "markdown",
   "metadata": {},
   "source": [
    "### Exercise 6.3 (Optional)\n",
    "\n",
    "Find the distribution $\\pi$ that satisfies $\\pi = \\pi \\mathbf{P}$, $\\pi \\geq 0$, $\\sum_j \\pi_j = 1$ where $\\mathcal{S} = \\{1, 2, 3\\}$ and\n",
    "$$\\mathbf{P} =\n",
    "  \\begin{pmatrix}\n",
    "    0.5 & 0.25 & 0.25 \\\\\n",
    "    0 & 0.2 & 0.8 \\\\\n",
    "    0 & 0.8 & 0.2\n",
    "  \\end{pmatrix}$$"
   ]
  }
 ],
 "metadata": {
  "kernelspec": {
   "display_name": "Python 3",
   "language": "python",
   "name": "python3"
  },
  "language_info": {
   "codemirror_mode": {
    "name": "ipython",
    "version": 3
   },
   "file_extension": ".py",
   "mimetype": "text/x-python",
   "name": "python",
   "nbconvert_exporter": "python",
   "pygments_lexer": "ipython3",
   "version": "3.7.4"
  }
 },
 "nbformat": 4,
 "nbformat_minor": 2
}

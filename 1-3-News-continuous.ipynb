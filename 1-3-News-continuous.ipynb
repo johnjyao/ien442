{
 "cells": [
  {
   "cell_type": "markdown",
   "metadata": {},
   "source": [
    "# The Newsvendor Model - Section 3: Continuous Demand\n",
    "\n",
    "In Sections 1 and 2 we explored the basic ideas of the Newsvendor Problem through numerical simulation and mathematical analysis.  By the end of Section 2, you had derived formulas for the expected profit in terms of the order quantity for any retail price $p$, wholesale cost $c$, and demand distribution $D \\sim \\text{Uniform}\\{0,\\dots,d\\}$.\n",
    "\n",
    "Here we will show that this analysis extends to continuous demand distributions.  $D \\sim \\text{Exponential}(\\lambda)$.  We will derive everything analytically and use some Python at the end to help with visualizations.\n",
    "\n",
    "The cumulative distribution function (cdf) and probability density function (pdf) of this distribution are:\n",
    "\n",
    "$$ F(x) = \\mathsf{P}(D \\leq x) = 1 - e^{-\\lambda x} \\qquad f(x) = \\frac{d F(x)}{dx} = \\lambda e^{-\\lambda x} $$"
   ]
  },
  {
   "cell_type": "markdown",
   "metadata": {},
   "source": [
    "## Formulas\n",
    "\n",
    "You may have already noticed that the formulas for sales, revenue, cost, and profit you came up with back in Section 1 Exercise 1.3 hold true for any demand random variable $D$ that has a non-negative probability distribution:\n",
    "\n",
    "$$\\begin{aligned}\n",
    "    \\text{sales} &= \\min\\{y, D\\} \\\\\n",
    "    \\text{revenue} &= p \\min\\{y, D\\} \\\\\n",
    "    \\text{cost} &= c y \\\\\n",
    "    \\text{profit} &= p \\min\\{y, D\\} - c y\n",
    "  \\end{aligned} $$\n",
    "\n",
    "However, the formulas for the *expected* sales, revenue, and profit, will change depending on the demand distribution (and therefore, so will the optimal order quantity that maximizes expected profit)."
   ]
  },
  {
   "cell_type": "markdown",
   "metadata": {},
   "source": [
    "## Expected Sales\n",
    "\n",
    "Recall that our basic recipe consisted of the following:\n",
    "\n",
    "1. Find a formula for $\\mathsf{E}[\\text{profit}]$ as a function of order quantity $y$.\n",
    "1. Maximize $\\mathsf{E}[\\text{profit}]$ with respect to order quantity $y$.\n",
    "\n",
    "\n",
    "Finding a formula for expected profit as a function of order quantity is is really about finding a formula for expected sales, $\\mathsf{E}[\\text{sales}] = \\mathsf{E}[\\min\\{y, D\\}]$.  Since $\\mathsf{E}[\\text{profit}] = p \\mathsf{E}[\\text{sales}] - c y$.\n",
    "\n",
    "### Exercise 3.1\n",
    "\n",
    "Show that $\\displaystyle\\mathsf{E}[\\text{sales}] = \\frac{1}{\\lambda} \\left(1 - e^{-\\lambda y}\\right)$.\n",
    "\n",
    "*Hint:* The hint for Exercise 2.1 can be translated to a continuous distribution:\n",
    "$$\\begin{aligned}\n",
    "    \\mathsf{E}[\\text{sales}] = \\mathsf{E}[\\min\\{y, D\\}] &= \\int_0^\\infty \\min\\{y, x\\} f(x)\\ dx = \\int_0^y x f(x)\\ dx + \\int_y^\\infty y f(x)\\ dx\n",
    "  \\end{aligned}$$\n",
    "where $f(x)$ is the pdf of the distribution.  Remember to use [integration by parts](https://en.wikipedia.org/wiki/Integration_by_parts) to evaluate the first integral.\n",
    "\n",
    "### Exercise 3.2\n",
    "\n",
    "Show that the optimal order quantity (that maximizes expected profit) is given by the formula:\n",
    "\n",
    "$$ y^* = \\frac{1}{\\lambda} \\log\\left(\\frac{p}{c}\\right) $$\n",
    "\n",
    "### Exercise 3.3\n",
    "\n",
    "Derive a formula for the optimal order quantity assuming $D \\sim \\text{Uniform}[0,d]$.\n",
    "\n",
    "### Exercise 3.4\n",
    "\n",
    "Derive a formula for the optimal order quantity for **any** demand distribution that is continuous and non-negative.  Denote its cdf as $F(x)$ and its pdf as $f(x)$.\n",
    "\n",
    "To get a guess for the general formula, try rewriting the formulas you derived in Exercises 3.2 and 3.3 as $F(y^*) = \\dots$\n",
    "\n",
    "*Hints:* This simply combines [integration by parts](https://en.wikipedia.org/wiki/Integration_by_parts) with the [fundamental theorem of calculus](https://en.wikipedia.org/wiki/Fundamental_theorem_of_calculus).\n",
    "$$\\begin{aligned}\n",
    "    \\int_0^y x f(x) dx &= y F(y) - \\int_0^y F(x) dx \\\\\n",
    "    \\int_y^\\infty f(x) dx &= 1 - F(y) \\\\\n",
    "    \\frac{d}{dy} \\left(\\int_0^y F(x) dx\\right) &= F(y)\n",
    "  \\end{aligned}$$"
   ]
  },
  {
   "cell_type": "markdown",
   "metadata": {},
   "source": [
    "## Setup\n",
    "\n",
    "The following Python code imports the necessary Python packages and specifies the problem parameters for the remainder of this notebook.  You can change the parameters if you'd like and all the code should still work, but their output may be mismatched with the written text."
   ]
  },
  {
   "cell_type": "code",
   "execution_count": 1,
   "metadata": {},
   "outputs": [
    {
     "data": {
      "text/html": [
       "\n",
       "    <div class=\"bk-root\">\n",
       "        <a href=\"https://bokeh.pydata.org\" target=\"_blank\" class=\"bk-logo bk-logo-small bk-logo-notebook\"></a>\n",
       "        <span id=\"1001\">Loading BokehJS ...</span>\n",
       "    </div>"
      ]
     },
     "metadata": {},
     "output_type": "display_data"
    },
    {
     "data": {
      "application/javascript": [
       "\n",
       "(function(root) {\n",
       "  function now() {\n",
       "    return new Date();\n",
       "  }\n",
       "\n",
       "  var force = true;\n",
       "\n",
       "  if (typeof root._bokeh_onload_callbacks === \"undefined\" || force === true) {\n",
       "    root._bokeh_onload_callbacks = [];\n",
       "    root._bokeh_is_loading = undefined;\n",
       "  }\n",
       "\n",
       "  var JS_MIME_TYPE = 'application/javascript';\n",
       "  var HTML_MIME_TYPE = 'text/html';\n",
       "  var EXEC_MIME_TYPE = 'application/vnd.bokehjs_exec.v0+json';\n",
       "  var CLASS_NAME = 'output_bokeh rendered_html';\n",
       "\n",
       "  /**\n",
       "   * Render data to the DOM node\n",
       "   */\n",
       "  function render(props, node) {\n",
       "    var script = document.createElement(\"script\");\n",
       "    node.appendChild(script);\n",
       "  }\n",
       "\n",
       "  /**\n",
       "   * Handle when an output is cleared or removed\n",
       "   */\n",
       "  function handleClearOutput(event, handle) {\n",
       "    var cell = handle.cell;\n",
       "\n",
       "    var id = cell.output_area._bokeh_element_id;\n",
       "    var server_id = cell.output_area._bokeh_server_id;\n",
       "    // Clean up Bokeh references\n",
       "    if (id != null && id in Bokeh.index) {\n",
       "      Bokeh.index[id].model.document.clear();\n",
       "      delete Bokeh.index[id];\n",
       "    }\n",
       "\n",
       "    if (server_id !== undefined) {\n",
       "      // Clean up Bokeh references\n",
       "      var cmd = \"from bokeh.io.state import curstate; print(curstate().uuid_to_server['\" + server_id + \"'].get_sessions()[0].document.roots[0]._id)\";\n",
       "      cell.notebook.kernel.execute(cmd, {\n",
       "        iopub: {\n",
       "          output: function(msg) {\n",
       "            var id = msg.content.text.trim();\n",
       "            if (id in Bokeh.index) {\n",
       "              Bokeh.index[id].model.document.clear();\n",
       "              delete Bokeh.index[id];\n",
       "            }\n",
       "          }\n",
       "        }\n",
       "      });\n",
       "      // Destroy server and session\n",
       "      var cmd = \"import bokeh.io.notebook as ion; ion.destroy_server('\" + server_id + \"')\";\n",
       "      cell.notebook.kernel.execute(cmd);\n",
       "    }\n",
       "  }\n",
       "\n",
       "  /**\n",
       "   * Handle when a new output is added\n",
       "   */\n",
       "  function handleAddOutput(event, handle) {\n",
       "    var output_area = handle.output_area;\n",
       "    var output = handle.output;\n",
       "\n",
       "    // limit handleAddOutput to display_data with EXEC_MIME_TYPE content only\n",
       "    if ((output.output_type != \"display_data\") || (!output.data.hasOwnProperty(EXEC_MIME_TYPE))) {\n",
       "      return\n",
       "    }\n",
       "\n",
       "    var toinsert = output_area.element.find(\".\" + CLASS_NAME.split(' ')[0]);\n",
       "\n",
       "    if (output.metadata[EXEC_MIME_TYPE][\"id\"] !== undefined) {\n",
       "      toinsert[toinsert.length - 1].firstChild.textContent = output.data[JS_MIME_TYPE];\n",
       "      // store reference to embed id on output_area\n",
       "      output_area._bokeh_element_id = output.metadata[EXEC_MIME_TYPE][\"id\"];\n",
       "    }\n",
       "    if (output.metadata[EXEC_MIME_TYPE][\"server_id\"] !== undefined) {\n",
       "      var bk_div = document.createElement(\"div\");\n",
       "      bk_div.innerHTML = output.data[HTML_MIME_TYPE];\n",
       "      var script_attrs = bk_div.children[0].attributes;\n",
       "      for (var i = 0; i < script_attrs.length; i++) {\n",
       "        toinsert[toinsert.length - 1].firstChild.setAttribute(script_attrs[i].name, script_attrs[i].value);\n",
       "      }\n",
       "      // store reference to server id on output_area\n",
       "      output_area._bokeh_server_id = output.metadata[EXEC_MIME_TYPE][\"server_id\"];\n",
       "    }\n",
       "  }\n",
       "\n",
       "  function register_renderer(events, OutputArea) {\n",
       "\n",
       "    function append_mime(data, metadata, element) {\n",
       "      // create a DOM node to render to\n",
       "      var toinsert = this.create_output_subarea(\n",
       "        metadata,\n",
       "        CLASS_NAME,\n",
       "        EXEC_MIME_TYPE\n",
       "      );\n",
       "      this.keyboard_manager.register_events(toinsert);\n",
       "      // Render to node\n",
       "      var props = {data: data, metadata: metadata[EXEC_MIME_TYPE]};\n",
       "      render(props, toinsert[toinsert.length - 1]);\n",
       "      element.append(toinsert);\n",
       "      return toinsert\n",
       "    }\n",
       "\n",
       "    /* Handle when an output is cleared or removed */\n",
       "    events.on('clear_output.CodeCell', handleClearOutput);\n",
       "    events.on('delete.Cell', handleClearOutput);\n",
       "\n",
       "    /* Handle when a new output is added */\n",
       "    events.on('output_added.OutputArea', handleAddOutput);\n",
       "\n",
       "    /**\n",
       "     * Register the mime type and append_mime function with output_area\n",
       "     */\n",
       "    OutputArea.prototype.register_mime_type(EXEC_MIME_TYPE, append_mime, {\n",
       "      /* Is output safe? */\n",
       "      safe: true,\n",
       "      /* Index of renderer in `output_area.display_order` */\n",
       "      index: 0\n",
       "    });\n",
       "  }\n",
       "\n",
       "  // register the mime type if in Jupyter Notebook environment and previously unregistered\n",
       "  if (root.Jupyter !== undefined) {\n",
       "    var events = require('base/js/events');\n",
       "    var OutputArea = require('notebook/js/outputarea').OutputArea;\n",
       "\n",
       "    if (OutputArea.prototype.mime_types().indexOf(EXEC_MIME_TYPE) == -1) {\n",
       "      register_renderer(events, OutputArea);\n",
       "    }\n",
       "  }\n",
       "\n",
       "  \n",
       "  if (typeof (root._bokeh_timeout) === \"undefined\" || force === true) {\n",
       "    root._bokeh_timeout = Date.now() + 5000;\n",
       "    root._bokeh_failed_load = false;\n",
       "  }\n",
       "\n",
       "  var NB_LOAD_WARNING = {'data': {'text/html':\n",
       "     \"<div style='background-color: #fdd'>\\n\"+\n",
       "     \"<p>\\n\"+\n",
       "     \"BokehJS does not appear to have successfully loaded. If loading BokehJS from CDN, this \\n\"+\n",
       "     \"may be due to a slow or bad network connection. Possible fixes:\\n\"+\n",
       "     \"</p>\\n\"+\n",
       "     \"<ul>\\n\"+\n",
       "     \"<li>re-rerun `output_notebook()` to attempt to load from CDN again, or</li>\\n\"+\n",
       "     \"<li>use INLINE resources instead, as so:</li>\\n\"+\n",
       "     \"</ul>\\n\"+\n",
       "     \"<code>\\n\"+\n",
       "     \"from bokeh.resources import INLINE\\n\"+\n",
       "     \"output_notebook(resources=INLINE)\\n\"+\n",
       "     \"</code>\\n\"+\n",
       "     \"</div>\"}};\n",
       "\n",
       "  function display_loaded() {\n",
       "    var el = document.getElementById(\"1001\");\n",
       "    if (el != null) {\n",
       "      el.textContent = \"BokehJS is loading...\";\n",
       "    }\n",
       "    if (root.Bokeh !== undefined) {\n",
       "      if (el != null) {\n",
       "        el.textContent = \"BokehJS \" + root.Bokeh.version + \" successfully loaded.\";\n",
       "      }\n",
       "    } else if (Date.now() < root._bokeh_timeout) {\n",
       "      setTimeout(display_loaded, 100)\n",
       "    }\n",
       "  }\n",
       "\n",
       "\n",
       "  function run_callbacks() {\n",
       "    try {\n",
       "      root._bokeh_onload_callbacks.forEach(function(callback) {\n",
       "        if (callback != null)\n",
       "          callback();\n",
       "      });\n",
       "    } finally {\n",
       "      delete root._bokeh_onload_callbacks\n",
       "    }\n",
       "    console.debug(\"Bokeh: all callbacks have finished\");\n",
       "  }\n",
       "\n",
       "  function load_libs(css_urls, js_urls, callback) {\n",
       "    if (css_urls == null) css_urls = [];\n",
       "    if (js_urls == null) js_urls = [];\n",
       "\n",
       "    root._bokeh_onload_callbacks.push(callback);\n",
       "    if (root._bokeh_is_loading > 0) {\n",
       "      console.debug(\"Bokeh: BokehJS is being loaded, scheduling callback at\", now());\n",
       "      return null;\n",
       "    }\n",
       "    if (js_urls == null || js_urls.length === 0) {\n",
       "      run_callbacks();\n",
       "      return null;\n",
       "    }\n",
       "    console.debug(\"Bokeh: BokehJS not loaded, scheduling load and callback at\", now());\n",
       "    root._bokeh_is_loading = css_urls.length + js_urls.length;\n",
       "\n",
       "    function on_load() {\n",
       "      root._bokeh_is_loading--;\n",
       "      if (root._bokeh_is_loading === 0) {\n",
       "        console.debug(\"Bokeh: all BokehJS libraries/stylesheets loaded\");\n",
       "        run_callbacks()\n",
       "      }\n",
       "    }\n",
       "\n",
       "    function on_error() {\n",
       "      console.error(\"failed to load \" + url);\n",
       "    }\n",
       "\n",
       "    for (var i = 0; i < css_urls.length; i++) {\n",
       "      var url = css_urls[i];\n",
       "      const element = document.createElement(\"link\");\n",
       "      element.onload = on_load;\n",
       "      element.onerror = on_error;\n",
       "      element.rel = \"stylesheet\";\n",
       "      element.type = \"text/css\";\n",
       "      element.href = url;\n",
       "      console.debug(\"Bokeh: injecting link tag for BokehJS stylesheet: \", url);\n",
       "      document.body.appendChild(element);\n",
       "    }\n",
       "\n",
       "    for (var i = 0; i < js_urls.length; i++) {\n",
       "      var url = js_urls[i];\n",
       "      var element = document.createElement('script');\n",
       "      element.onload = on_load;\n",
       "      element.onerror = on_error;\n",
       "      element.async = false;\n",
       "      element.src = url;\n",
       "      console.debug(\"Bokeh: injecting script tag for BokehJS library: \", url);\n",
       "      document.head.appendChild(element);\n",
       "    }\n",
       "  };var element = document.getElementById(\"1001\");\n",
       "  if (element == null) {\n",
       "    console.error(\"Bokeh: ERROR: autoload.js configured with elementid '1001' but no matching script tag was found. \")\n",
       "    return false;\n",
       "  }\n",
       "\n",
       "  function inject_raw_css(css) {\n",
       "    const element = document.createElement(\"style\");\n",
       "    element.appendChild(document.createTextNode(css));\n",
       "    document.body.appendChild(element);\n",
       "  }\n",
       "\n",
       "  var js_urls = [\"https://cdn.pydata.org/bokeh/release/bokeh-1.3.4.min.js\", \"https://cdn.pydata.org/bokeh/release/bokeh-widgets-1.3.4.min.js\", \"https://cdn.pydata.org/bokeh/release/bokeh-tables-1.3.4.min.js\", \"https://cdn.pydata.org/bokeh/release/bokeh-gl-1.3.4.min.js\"];\n",
       "  var css_urls = [];\n",
       "\n",
       "  var inline_js = [\n",
       "    function(Bokeh) {\n",
       "      Bokeh.set_log_level(\"info\");\n",
       "    },\n",
       "    \n",
       "    function(Bokeh) {\n",
       "      \n",
       "    },\n",
       "    function(Bokeh) {} // ensure no trailing comma for IE\n",
       "  ];\n",
       "\n",
       "  function run_inline_js() {\n",
       "    \n",
       "    if ((root.Bokeh !== undefined) || (force === true)) {\n",
       "      for (var i = 0; i < inline_js.length; i++) {\n",
       "        inline_js[i].call(root, root.Bokeh);\n",
       "      }if (force === true) {\n",
       "        display_loaded();\n",
       "      }} else if (Date.now() < root._bokeh_timeout) {\n",
       "      setTimeout(run_inline_js, 100);\n",
       "    } else if (!root._bokeh_failed_load) {\n",
       "      console.log(\"Bokeh: BokehJS failed to load within specified timeout.\");\n",
       "      root._bokeh_failed_load = true;\n",
       "    } else if (force !== true) {\n",
       "      var cell = $(document.getElementById(\"1001\")).parents('.cell').data().cell;\n",
       "      cell.output_area.append_execute_result(NB_LOAD_WARNING)\n",
       "    }\n",
       "\n",
       "  }\n",
       "\n",
       "  if (root._bokeh_is_loading === 0) {\n",
       "    console.debug(\"Bokeh: BokehJS loaded, going straight to plotting\");\n",
       "    run_inline_js();\n",
       "  } else {\n",
       "    load_libs(css_urls, js_urls, function() {\n",
       "      console.debug(\"Bokeh: BokehJS plotting callback run at\", now());\n",
       "      run_inline_js();\n",
       "    });\n",
       "  }\n",
       "}(window));"
      ],
      "application/vnd.bokehjs_load.v0+json": "\n(function(root) {\n  function now() {\n    return new Date();\n  }\n\n  var force = true;\n\n  if (typeof root._bokeh_onload_callbacks === \"undefined\" || force === true) {\n    root._bokeh_onload_callbacks = [];\n    root._bokeh_is_loading = undefined;\n  }\n\n  \n\n  \n  if (typeof (root._bokeh_timeout) === \"undefined\" || force === true) {\n    root._bokeh_timeout = Date.now() + 5000;\n    root._bokeh_failed_load = false;\n  }\n\n  var NB_LOAD_WARNING = {'data': {'text/html':\n     \"<div style='background-color: #fdd'>\\n\"+\n     \"<p>\\n\"+\n     \"BokehJS does not appear to have successfully loaded. If loading BokehJS from CDN, this \\n\"+\n     \"may be due to a slow or bad network connection. Possible fixes:\\n\"+\n     \"</p>\\n\"+\n     \"<ul>\\n\"+\n     \"<li>re-rerun `output_notebook()` to attempt to load from CDN again, or</li>\\n\"+\n     \"<li>use INLINE resources instead, as so:</li>\\n\"+\n     \"</ul>\\n\"+\n     \"<code>\\n\"+\n     \"from bokeh.resources import INLINE\\n\"+\n     \"output_notebook(resources=INLINE)\\n\"+\n     \"</code>\\n\"+\n     \"</div>\"}};\n\n  function display_loaded() {\n    var el = document.getElementById(\"1001\");\n    if (el != null) {\n      el.textContent = \"BokehJS is loading...\";\n    }\n    if (root.Bokeh !== undefined) {\n      if (el != null) {\n        el.textContent = \"BokehJS \" + root.Bokeh.version + \" successfully loaded.\";\n      }\n    } else if (Date.now() < root._bokeh_timeout) {\n      setTimeout(display_loaded, 100)\n    }\n  }\n\n\n  function run_callbacks() {\n    try {\n      root._bokeh_onload_callbacks.forEach(function(callback) {\n        if (callback != null)\n          callback();\n      });\n    } finally {\n      delete root._bokeh_onload_callbacks\n    }\n    console.debug(\"Bokeh: all callbacks have finished\");\n  }\n\n  function load_libs(css_urls, js_urls, callback) {\n    if (css_urls == null) css_urls = [];\n    if (js_urls == null) js_urls = [];\n\n    root._bokeh_onload_callbacks.push(callback);\n    if (root._bokeh_is_loading > 0) {\n      console.debug(\"Bokeh: BokehJS is being loaded, scheduling callback at\", now());\n      return null;\n    }\n    if (js_urls == null || js_urls.length === 0) {\n      run_callbacks();\n      return null;\n    }\n    console.debug(\"Bokeh: BokehJS not loaded, scheduling load and callback at\", now());\n    root._bokeh_is_loading = css_urls.length + js_urls.length;\n\n    function on_load() {\n      root._bokeh_is_loading--;\n      if (root._bokeh_is_loading === 0) {\n        console.debug(\"Bokeh: all BokehJS libraries/stylesheets loaded\");\n        run_callbacks()\n      }\n    }\n\n    function on_error() {\n      console.error(\"failed to load \" + url);\n    }\n\n    for (var i = 0; i < css_urls.length; i++) {\n      var url = css_urls[i];\n      const element = document.createElement(\"link\");\n      element.onload = on_load;\n      element.onerror = on_error;\n      element.rel = \"stylesheet\";\n      element.type = \"text/css\";\n      element.href = url;\n      console.debug(\"Bokeh: injecting link tag for BokehJS stylesheet: \", url);\n      document.body.appendChild(element);\n    }\n\n    for (var i = 0; i < js_urls.length; i++) {\n      var url = js_urls[i];\n      var element = document.createElement('script');\n      element.onload = on_load;\n      element.onerror = on_error;\n      element.async = false;\n      element.src = url;\n      console.debug(\"Bokeh: injecting script tag for BokehJS library: \", url);\n      document.head.appendChild(element);\n    }\n  };var element = document.getElementById(\"1001\");\n  if (element == null) {\n    console.error(\"Bokeh: ERROR: autoload.js configured with elementid '1001' but no matching script tag was found. \")\n    return false;\n  }\n\n  function inject_raw_css(css) {\n    const element = document.createElement(\"style\");\n    element.appendChild(document.createTextNode(css));\n    document.body.appendChild(element);\n  }\n\n  var js_urls = [\"https://cdn.pydata.org/bokeh/release/bokeh-1.3.4.min.js\", \"https://cdn.pydata.org/bokeh/release/bokeh-widgets-1.3.4.min.js\", \"https://cdn.pydata.org/bokeh/release/bokeh-tables-1.3.4.min.js\", \"https://cdn.pydata.org/bokeh/release/bokeh-gl-1.3.4.min.js\"];\n  var css_urls = [];\n\n  var inline_js = [\n    function(Bokeh) {\n      Bokeh.set_log_level(\"info\");\n    },\n    \n    function(Bokeh) {\n      \n    },\n    function(Bokeh) {} // ensure no trailing comma for IE\n  ];\n\n  function run_inline_js() {\n    \n    if ((root.Bokeh !== undefined) || (force === true)) {\n      for (var i = 0; i < inline_js.length; i++) {\n        inline_js[i].call(root, root.Bokeh);\n      }if (force === true) {\n        display_loaded();\n      }} else if (Date.now() < root._bokeh_timeout) {\n      setTimeout(run_inline_js, 100);\n    } else if (!root._bokeh_failed_load) {\n      console.log(\"Bokeh: BokehJS failed to load within specified timeout.\");\n      root._bokeh_failed_load = true;\n    } else if (force !== true) {\n      var cell = $(document.getElementById(\"1001\")).parents('.cell').data().cell;\n      cell.output_area.append_execute_result(NB_LOAD_WARNING)\n    }\n\n  }\n\n  if (root._bokeh_is_loading === 0) {\n    console.debug(\"Bokeh: BokehJS loaded, going straight to plotting\");\n    run_inline_js();\n  } else {\n    load_libs(css_urls, js_urls, function() {\n      console.debug(\"Bokeh: BokehJS plotting callback run at\", now());\n      run_inline_js();\n    });\n  }\n}(window));"
     },
     "metadata": {},
     "output_type": "display_data"
    }
   ],
   "source": [
    "# Import Python packages\n",
    "import newsvendor\n",
    "import news_plot\n",
    "\n",
    "# Default exponential distribution has parameter lambda = 0.1\n",
    "# Default model parameters are wholesale_cost = 1, retail_price = 2.\n",
    "news = newsvendor.Newsvendor('exponential')\n",
    "\n",
    "# Simulate demand\n",
    "news.sim_data(num_days=365)"
   ]
  },
  {
   "cell_type": "code",
   "execution_count": 2,
   "metadata": {
    "scrolled": false
   },
   "outputs": [
    {
     "data": {
      "application/vnd.jupyter.widget-view+json": {
       "model_id": "b30540e7a6024e1493eee4ac517a6b94",
       "version_major": 2,
       "version_minor": 0
      },
      "text/plain": [
       "interactive(children=(IntSlider(value=15, description='Order Qty', max=20), Output()), _dom_classes=('widget-i…"
      ]
     },
     "metadata": {},
     "output_type": "display_data"
    },
    {
     "data": {
      "text/html": [
       "\n",
       "\n",
       "\n",
       "\n",
       "\n",
       "\n",
       "  <div class=\"bk-root\" id=\"b1d9d552-dadb-4ec1-bbc1-5db6d2cf93b7\" data-root-id=\"1168\"></div>\n"
      ]
     },
     "metadata": {},
     "output_type": "display_data"
    },
    {
     "data": {
      "application/javascript": [
       "(function(root) {\n",
       "  function embed_document(root) {\n",
       "    \n",
       "  var docs_json = {\"b2bb9cd8-9d1f-4445-967c-a24a37de3eeb\":{\"roots\":{\"references\":[{\"attributes\":{\"children\":[{\"id\":\"1167\",\"type\":\"ToolbarBox\"},{\"id\":\"1165\",\"type\":\"GridBox\"}]},\"id\":\"1168\",\"type\":\"Column\"},{\"attributes\":{},\"id\":\"1017\",\"type\":\"BasicTicker\"},{\"attributes\":{},\"id\":\"1152\",\"type\":\"UnionRenderers\"},{\"attributes\":{\"active_drag\":\"auto\",\"active_inspect\":\"auto\",\"active_multi\":null,\"active_scroll\":\"auto\",\"active_tap\":\"auto\",\"tools\":[{\"id\":\"1021\",\"type\":\"PanTool\"},{\"id\":\"1022\",\"type\":\"WheelZoomTool\"},{\"id\":\"1023\",\"type\":\"BoxZoomTool\"},{\"id\":\"1024\",\"type\":\"SaveTool\"},{\"id\":\"1025\",\"type\":\"ResetTool\"},{\"id\":\"1026\",\"type\":\"HelpTool\"}]},\"id\":\"1027\",\"type\":\"Toolbar\"},{\"attributes\":{\"dimension\":1,\"ticker\":{\"id\":\"1017\",\"type\":\"BasicTicker\"}},\"id\":\"1020\",\"type\":\"Grid\"},{\"attributes\":{\"source\":{\"id\":\"1100\",\"type\":\"ColumnDataSource\"}},\"id\":\"1116\",\"type\":\"CDSView\"},{\"attributes\":{\"axis_label\":\"count\",\"formatter\":{\"id\":\"1138\",\"type\":\"BasicTickFormatter\"},\"ticker\":{\"id\":\"1017\",\"type\":\"BasicTicker\"}},\"id\":\"1016\",\"type\":\"LinearAxis\"},{\"attributes\":{},\"id\":\"1158\",\"type\":\"BasicTickFormatter\"},{\"attributes\":{\"bottom_units\":\"screen\",\"fill_alpha\":{\"value\":0.5},\"fill_color\":{\"value\":\"lightgrey\"},\"left_units\":\"screen\",\"level\":\"overlay\",\"line_alpha\":{\"value\":1.0},\"line_color\":{\"value\":\"black\"},\"line_dash\":[4,4],\"line_width\":{\"value\":2},\"render_mode\":\"css\",\"right_units\":\"screen\",\"top_units\":\"screen\"},\"id\":\"1153\",\"type\":\"BoxAnnotation\"},{\"attributes\":{\"toolbar\":{\"id\":\"1166\",\"type\":\"ProxyToolbar\"},\"toolbar_location\":\"above\"},\"id\":\"1167\",\"type\":\"ToolbarBox\"},{\"attributes\":{},\"id\":\"1039\",\"type\":\"LinearScale\"},{\"attributes\":{\"callback\":null},\"id\":\"1035\",\"type\":\"DataRange1d\"},{\"attributes\":{\"fill_color\":{\"value\":\"blue\"},\"top\":{\"field\":\"top\"},\"width\":{\"value\":0.237884126984127},\"x\":{\"field\":\"x\"}},\"id\":\"1101\",\"type\":\"VBar\"},{\"attributes\":{\"callback\":null},\"id\":\"1037\",\"type\":\"DataRange1d\"},{\"attributes\":{},\"id\":\"1021\",\"type\":\"PanTool\"},{\"attributes\":{\"data_source\":{\"id\":\"1100\",\"type\":\"ColumnDataSource\"},\"glyph\":{\"id\":\"1101\",\"type\":\"VBar\"},\"hover_glyph\":null,\"muted_glyph\":null,\"view\":{\"id\":\"1116\",\"type\":\"CDSView\"}},\"id\":\"1115\",\"type\":\"GlyphRenderer\"},{\"attributes\":{},\"id\":\"1022\",\"type\":\"WheelZoomTool\"},{\"attributes\":{\"fill_color\":{\"value\":\"blue\"},\"top\":{\"field\":\"top\"},\"width\":{\"value\":0.9870444444444444},\"x\":{\"field\":\"x\"}},\"id\":\"1099\",\"type\":\"VBar\"},{\"attributes\":{\"overlay\":{\"id\":\"1143\",\"type\":\"BoxAnnotation\"}},\"id\":\"1023\",\"type\":\"BoxZoomTool\"},{\"attributes\":{},\"id\":\"1024\",\"type\":\"SaveTool\"},{\"attributes\":{},\"id\":\"1025\",\"type\":\"ResetTool\"},{\"attributes\":{},\"id\":\"1026\",\"type\":\"HelpTool\"},{\"attributes\":{},\"id\":\"1138\",\"type\":\"BasicTickFormatter\"},{\"attributes\":{},\"id\":\"1148\",\"type\":\"BasicTickFormatter\"},{\"attributes\":{\"fill_color\":{\"value\":\"blue\"},\"top\":{\"field\":\"top\"},\"width\":{\"value\":0.47574603174603175},\"x\":{\"field\":\"x\"}},\"id\":\"1111\",\"type\":\"VBar\"},{\"attributes\":{},\"id\":\"1142\",\"type\":\"UnionRenderers\"},{\"attributes\":{},\"id\":\"1041\",\"type\":\"LinearScale\"},{\"attributes\":{\"axis_label\":\"sales\",\"formatter\":{\"id\":\"1150\",\"type\":\"BasicTickFormatter\"},\"ticker\":{\"id\":\"1044\",\"type\":\"BasicTicker\"}},\"id\":\"1043\",\"type\":\"LinearAxis\"},{\"attributes\":{\"callback\":null,\"data\":{\"top\":[8,7,8,6,5,9,12,4,6,5,6,6,3,8,6,5,4,7,9,3,4,1,10,6,3,7,5,5,6,2,5,4,9,5,3,4,4,2,3,3,3,6,3,3,4,2,1,3,3,1,3,1,1,2,2,2,5,3,0,1,1,2,95],\"x\":{\"__ndarray__\":\"46WbxCBwLcCiRbbz/XQswG4Sg8DKgSvAdJMYBFaOKsB6FK5H4ZopwEjhehSupyjAFK5H4Xq0J8AaL90kBsEmwCCwcmiRzSXA7nw/NV7aJMC6SQwCK+cjwMDKoUW28yLAxks3iUEAIsCUGARWDg0hwGDl0CLbGSDAzMzMzMxMHsDZzvdT42UcwHJoke18fxrAfmq8dJOYGMCLbOf7qbEWwCUGgZVDyxTAvp8aL93kEsDKoUW28/0QwK5H4XoULg7A4noUrkdhCsAUrkfhepQGwC2yne+nxgLAi2zn+6nx/b/y0k1iEFj2v7ByaJHtfO2/JQaBlUOL3L9ske18PzWeP76fGi/dJOA/8tJNYhBY7z9I4XoUrkf3PxfZzvdT4/4/WDm0yHY+A0AkBoGVQwsHQAwCK4cW2QpA9P3UeOmmDkBg5dAi2zkRQFTjpZvEIBNASOF6FK4HFUCuR+F6FO4WQBSuR+F61BhACKwcWmS7GkD8qfHSTaIcQGIQWDm0iB5AZDvfT403IEBeukkMAishQFg5tMh2HiJAjGzn+6kRI0C+nxov3QQkQLgehetR+CRAsp3vp8brJUDm0CLb+d4mQBgEVg4t0idAEoPAyqHFKEAMAiuHFrkpQEA1XrpJrCpAcmiR7XyfK0Bs5/up8ZIsQGZmZmZmhi1A\",\"dtype\":\"float64\",\"shape\":[63]}},\"selected\":{\"id\":\"1161\",\"type\":\"Selection\"},\"selection_policy\":{\"id\":\"1162\",\"type\":\"UnionRenderers\"}},\"id\":\"1110\",\"type\":\"ColumnDataSource\"},{\"attributes\":{},\"id\":\"1049\",\"type\":\"BasicTicker\"},{\"attributes\":{},\"id\":\"1044\",\"type\":\"BasicTicker\"},{\"attributes\":{\"text\":\"demand histogram\"},\"id\":\"1114\",\"type\":\"Title\"},{\"attributes\":{\"ticker\":{\"id\":\"1044\",\"type\":\"BasicTicker\"}},\"id\":\"1047\",\"type\":\"Grid\"},{\"attributes\":{\"callback\":null},\"id\":\"1069\",\"type\":\"DataRange1d\"},{\"attributes\":{\"dimension\":1,\"ticker\":{\"id\":\"1049\",\"type\":\"BasicTicker\"}},\"id\":\"1052\",\"type\":\"Grid\"},{\"attributes\":{\"axis_label\":\"count\",\"formatter\":{\"id\":\"1148\",\"type\":\"BasicTickFormatter\"},\"ticker\":{\"id\":\"1049\",\"type\":\"BasicTicker\"}},\"id\":\"1048\",\"type\":\"LinearAxis\"},{\"attributes\":{},\"id\":\"1141\",\"type\":\"Selection\"},{\"attributes\":{},\"id\":\"1161\",\"type\":\"Selection\"},{\"attributes\":{\"callback\":null},\"id\":\"1067\",\"type\":\"DataRange1d\"},{\"attributes\":{\"source\":{\"id\":\"1110\",\"type\":\"ColumnDataSource\"}},\"id\":\"1119\",\"type\":\"CDSView\"},{\"attributes\":{\"below\":[{\"id\":\"1075\",\"type\":\"LinearAxis\"}],\"center\":[{\"id\":\"1079\",\"type\":\"Grid\"},{\"id\":\"1084\",\"type\":\"Grid\"}],\"left\":[{\"id\":\"1080\",\"type\":\"LinearAxis\"}],\"plot_height\":300,\"plot_width\":300,\"renderers\":[{\"id\":\"1118\",\"type\":\"GlyphRenderer\"}],\"title\":{\"id\":\"1120\",\"type\":\"Title\"},\"toolbar\":{\"id\":\"1091\",\"type\":\"Toolbar\"},\"toolbar_location\":null,\"x_range\":{\"id\":\"1067\",\"type\":\"DataRange1d\"},\"x_scale\":{\"id\":\"1071\",\"type\":\"LinearScale\"},\"y_range\":{\"id\":\"1069\",\"type\":\"DataRange1d\"},\"y_scale\":{\"id\":\"1073\",\"type\":\"LinearScale\"}},\"id\":\"1066\",\"subtype\":\"Figure\",\"type\":\"Plot\"},{\"attributes\":{},\"id\":\"1162\",\"type\":\"UnionRenderers\"},{\"attributes\":{},\"id\":\"1073\",\"type\":\"LinearScale\"},{\"attributes\":{},\"id\":\"1140\",\"type\":\"BasicTickFormatter\"},{\"attributes\":{},\"id\":\"1053\",\"type\":\"PanTool\"},{\"attributes\":{\"bottom_units\":\"screen\",\"fill_alpha\":{\"value\":0.5},\"fill_color\":{\"value\":\"lightgrey\"},\"left_units\":\"screen\",\"level\":\"overlay\",\"line_alpha\":{\"value\":1.0},\"line_color\":{\"value\":\"black\"},\"line_dash\":[4,4],\"line_width\":{\"value\":2},\"render_mode\":\"css\",\"right_units\":\"screen\",\"top_units\":\"screen\"},\"id\":\"1143\",\"type\":\"BoxAnnotation\"},{\"attributes\":{\"data_source\":{\"id\":\"1110\",\"type\":\"ColumnDataSource\"},\"glyph\":{\"id\":\"1111\",\"type\":\"VBar\"},\"hover_glyph\":null,\"muted_glyph\":null,\"view\":{\"id\":\"1119\",\"type\":\"CDSView\"}},\"id\":\"1118\",\"type\":\"GlyphRenderer\"},{\"attributes\":{},\"id\":\"1054\",\"type\":\"WheelZoomTool\"},{\"attributes\":{\"text\":\"sales histogram\"},\"id\":\"1117\",\"type\":\"Title\"},{\"attributes\":{\"overlay\":{\"id\":\"1153\",\"type\":\"BoxAnnotation\"}},\"id\":\"1055\",\"type\":\"BoxZoomTool\"},{\"attributes\":{},\"id\":\"1056\",\"type\":\"SaveTool\"},{\"attributes\":{\"source\":{\"id\":\"1098\",\"type\":\"ColumnDataSource\"}},\"id\":\"1113\",\"type\":\"CDSView\"},{\"attributes\":{},\"id\":\"1057\",\"type\":\"ResetTool\"},{\"attributes\":{},\"id\":\"1071\",\"type\":\"LinearScale\"},{\"attributes\":{},\"id\":\"1058\",\"type\":\"HelpTool\"},{\"attributes\":{\"children\":[[{\"id\":\"1002\",\"subtype\":\"Figure\",\"type\":\"Plot\"},0,0],[{\"id\":\"1034\",\"subtype\":\"Figure\",\"type\":\"Plot\"},0,1],[{\"id\":\"1066\",\"subtype\":\"Figure\",\"type\":\"Plot\"},0,2]]},\"id\":\"1165\",\"type\":\"GridBox\"},{\"attributes\":{\"active_drag\":\"auto\",\"active_inspect\":\"auto\",\"active_multi\":null,\"active_scroll\":\"auto\",\"active_tap\":\"auto\",\"tools\":[{\"id\":\"1053\",\"type\":\"PanTool\"},{\"id\":\"1054\",\"type\":\"WheelZoomTool\"},{\"id\":\"1055\",\"type\":\"BoxZoomTool\"},{\"id\":\"1056\",\"type\":\"SaveTool\"},{\"id\":\"1057\",\"type\":\"ResetTool\"},{\"id\":\"1058\",\"type\":\"HelpTool\"}]},\"id\":\"1059\",\"type\":\"Toolbar\"},{\"attributes\":{\"bottom_units\":\"screen\",\"fill_alpha\":{\"value\":0.5},\"fill_color\":{\"value\":\"lightgrey\"},\"left_units\":\"screen\",\"level\":\"overlay\",\"line_alpha\":{\"value\":1.0},\"line_color\":{\"value\":\"black\"},\"line_dash\":[4,4],\"line_width\":{\"value\":2},\"render_mode\":\"css\",\"right_units\":\"screen\",\"top_units\":\"screen\"},\"id\":\"1163\",\"type\":\"BoxAnnotation\"},{\"attributes\":{\"axis_label\":\"profit\",\"formatter\":{\"id\":\"1160\",\"type\":\"BasicTickFormatter\"},\"ticker\":{\"id\":\"1076\",\"type\":\"BasicTicker\"}},\"id\":\"1075\",\"type\":\"LinearAxis\"},{\"attributes\":{\"text\":\"profit histogram\"},\"id\":\"1120\",\"type\":\"Title\"},{\"attributes\":{},\"id\":\"1081\",\"type\":\"BasicTicker\"},{\"attributes\":{},\"id\":\"1076\",\"type\":\"BasicTicker\"},{\"attributes\":{\"ticker\":{\"id\":\"1076\",\"type\":\"BasicTicker\"}},\"id\":\"1079\",\"type\":\"Grid\"},{\"attributes\":{\"dimension\":1,\"ticker\":{\"id\":\"1081\",\"type\":\"BasicTicker\"}},\"id\":\"1084\",\"type\":\"Grid\"},{\"attributes\":{\"callback\":null},\"id\":\"1003\",\"type\":\"DataRange1d\"},{\"attributes\":{\"axis_label\":\"count\",\"formatter\":{\"id\":\"1158\",\"type\":\"BasicTickFormatter\"},\"ticker\":{\"id\":\"1081\",\"type\":\"BasicTicker\"}},\"id\":\"1080\",\"type\":\"LinearAxis\"},{\"attributes\":{\"callback\":null,\"data\":{\"top\":[30,31,23,22,25,20,23,22,14,16,13,8,7,12,5,10,8,4,4,9,7,2,4,2,4,1,6,7,3,2,1,3,1,1,1,1,1,1,1,1,1,0,0,0,1,1,1,0,0,0,2,1,0,0,1,0,0,0,0,0,0,0,1],\"x\":{\"__ndarray__\":\"9Lnaiv1l3z9U46WbxCD4P8DKoUW28wNA16NwPQrXC0AEVg4tst0RQBxaZDvfzxVAqMZLN4nBGUA0MzMzM7MdQN9PjZdu0iBAJQaBlUPLIkBqvHSTGMQkQLByaJHtvCZA9ihcj8K1KEA830+Nl64qQIGVQ4tspyxAxks3iUGgLkAGgZVDi0wwQClcj8L1SDFATDeJQWBFMkBuEoPAykEzQJLtfD81PjRAtMh2vp86NUDXo3A9Cjc2QPp+arx0MzdAHFpkO98vOEBANV66SSw5QGIQWDm0KDpAaJHtfD8lO0BuEoPAyiE8QJLtfD81Hj1AtMh2vp8aPkDXo3A9Chc/QH0/NV66CUBADi2yne+HQECgGi/dJAZBQDEIrBxahEFAwvUoXI8CQkBU46WbxIBCQObQItv5/kJAdr6fGi99Q0AIrBxaZPtDQJqZmZmZeURAK4cW2c73REC8dJMYBHZFQE5iEFg59EVA4E+Nl25yRkBwPQrXo/BGQAIrhxbZbkdAlBgEVg7tR0AlBoGVQ2tIQKjGSzeJ6UhAK4cW2c5nSUC8dJMYBOZJQE5iEFg5ZEpA4E+Nl27iSkBwPQrXo2BLQAIrhxbZ3ktAlBgEVg5dTEAlBoGVQ9tMQLbz/dR4WU1ASOF6FK7XTUDZzvdT41VOQGq8dJMY1E5A\",\"dtype\":\"float64\",\"shape\":[63]}},\"selected\":{\"id\":\"1141\",\"type\":\"Selection\"},\"selection_policy\":{\"id\":\"1142\",\"type\":\"UnionRenderers\"}},\"id\":\"1098\",\"type\":\"ColumnDataSource\"},{\"attributes\":{\"active_drag\":\"auto\",\"active_inspect\":\"auto\",\"active_multi\":null,\"active_scroll\":\"auto\",\"active_tap\":\"auto\",\"tools\":[{\"id\":\"1085\",\"type\":\"PanTool\"},{\"id\":\"1086\",\"type\":\"WheelZoomTool\"},{\"id\":\"1087\",\"type\":\"BoxZoomTool\"},{\"id\":\"1088\",\"type\":\"SaveTool\"},{\"id\":\"1089\",\"type\":\"ResetTool\"},{\"id\":\"1090\",\"type\":\"HelpTool\"}]},\"id\":\"1091\",\"type\":\"Toolbar\"},{\"attributes\":{},\"id\":\"1085\",\"type\":\"PanTool\"},{\"attributes\":{},\"id\":\"1086\",\"type\":\"WheelZoomTool\"},{\"attributes\":{\"overlay\":{\"id\":\"1163\",\"type\":\"BoxAnnotation\"}},\"id\":\"1087\",\"type\":\"BoxZoomTool\"},{\"attributes\":{},\"id\":\"1088\",\"type\":\"SaveTool\"},{\"attributes\":{},\"id\":\"1150\",\"type\":\"BasicTickFormatter\"},{\"attributes\":{\"below\":[{\"id\":\"1011\",\"type\":\"LinearAxis\"}],\"center\":[{\"id\":\"1015\",\"type\":\"Grid\"},{\"id\":\"1020\",\"type\":\"Grid\"}],\"left\":[{\"id\":\"1016\",\"type\":\"LinearAxis\"}],\"plot_height\":300,\"plot_width\":300,\"renderers\":[{\"id\":\"1112\",\"type\":\"GlyphRenderer\"}],\"title\":{\"id\":\"1114\",\"type\":\"Title\"},\"toolbar\":{\"id\":\"1027\",\"type\":\"Toolbar\"},\"toolbar_location\":null,\"x_range\":{\"id\":\"1003\",\"type\":\"DataRange1d\"},\"x_scale\":{\"id\":\"1007\",\"type\":\"LinearScale\"},\"y_range\":{\"id\":\"1005\",\"type\":\"DataRange1d\"},\"y_scale\":{\"id\":\"1009\",\"type\":\"LinearScale\"}},\"id\":\"1002\",\"subtype\":\"Figure\",\"type\":\"Plot\"},{\"attributes\":{},\"id\":\"1089\",\"type\":\"ResetTool\"},{\"attributes\":{},\"id\":\"1090\",\"type\":\"HelpTool\"},{\"attributes\":{\"data_source\":{\"id\":\"1098\",\"type\":\"ColumnDataSource\"},\"glyph\":{\"id\":\"1099\",\"type\":\"VBar\"},\"hover_glyph\":null,\"muted_glyph\":null,\"view\":{\"id\":\"1113\",\"type\":\"CDSView\"}},\"id\":\"1112\",\"type\":\"GlyphRenderer\"},{\"attributes\":{},\"id\":\"1160\",\"type\":\"BasicTickFormatter\"},{\"attributes\":{\"callback\":null,\"data\":{\"top\":[8,7,8,6,5,9,12,4,6,5,6,6,3,8,6,5,4,7,9,3,4,1,10,6,3,7,5,5,6,2,5,4,9,5,3,4,4,2,3,3,3,6,3,3,4,2,1,3,3,1,3,1,1,2,2,2,5,3,0,1,1,2,95],\"x\":{\"__ndarray__\":\"OGdEaW/wwT9OYhBYObTYP8DKoUW28+M/WmQ730+N6z/6fmq8dJPxP8dLN4lBYPU/yXa+nxov+T+WQ4ts5/v8PzEIrBxaZABAsp3vp8ZLAkAYBFYOLTIEQH5qvHSTGAZA5dAi2/n+B0BMN4lBYOUJQMzMzMzMzAtAMzMzMzOzDUCamZmZmZkPQI6XbhKDwBBAwMqhRbazEUD0/dR46aYSQLTIdr6fmhNA5/up8dKNFEAaL90kBoEVQE5iEFg5dBZAgZVDi2xnF0BCYOXQIlsYQHWTGARWThlAqMZLN4lBGkBoke18PzUbQJzEILByKBxAz/dT46UbHUACK4cW2Q4eQDZeukkMAh9A9ihcj8L1H0AUrkfhenQgQK5H4XoU7iBADi2yne9nIUCoxks3ieEhQEJg5dAiWyJA3Pl+arzUIkB1kxgEVk4jQNV46SYxyCNAbhKDwMpBJEAIrBxaZLskQGiR7Xw/NSVAAiuHFtmuJUCcxCCwcigmQPyp8dJNoiZAlkOLbOcbJ0Av3SQGgZUnQMh2vp8aDyhAYhBYObSIKEDC9ShcjwIpQFyPwvUofClA9ihcj8L1KUBWDi2ynW8qQPCnxks36SpAiUFg5dBiK0Ai2/l+atwrQLx0kxgEVixAHVpkO9/PLEC28/3UeEktQFCNl24Swy1A\",\"dtype\":\"float64\",\"shape\":[63]}},\"selected\":{\"id\":\"1151\",\"type\":\"Selection\"},\"selection_policy\":{\"id\":\"1152\",\"type\":\"UnionRenderers\"}},\"id\":\"1100\",\"type\":\"ColumnDataSource\"},{\"attributes\":{},\"id\":\"1151\",\"type\":\"Selection\"},{\"attributes\":{\"callback\":null},\"id\":\"1005\",\"type\":\"DataRange1d\"},{\"attributes\":{},\"id\":\"1007\",\"type\":\"LinearScale\"},{\"attributes\":{\"below\":[{\"id\":\"1043\",\"type\":\"LinearAxis\"}],\"center\":[{\"id\":\"1047\",\"type\":\"Grid\"},{\"id\":\"1052\",\"type\":\"Grid\"}],\"left\":[{\"id\":\"1048\",\"type\":\"LinearAxis\"}],\"plot_height\":300,\"plot_width\":300,\"renderers\":[{\"id\":\"1115\",\"type\":\"GlyphRenderer\"}],\"title\":{\"id\":\"1117\",\"type\":\"Title\"},\"toolbar\":{\"id\":\"1059\",\"type\":\"Toolbar\"},\"toolbar_location\":null,\"x_range\":{\"id\":\"1035\",\"type\":\"DataRange1d\"},\"x_scale\":{\"id\":\"1039\",\"type\":\"LinearScale\"},\"y_range\":{\"id\":\"1037\",\"type\":\"DataRange1d\"},\"y_scale\":{\"id\":\"1041\",\"type\":\"LinearScale\"}},\"id\":\"1034\",\"subtype\":\"Figure\",\"type\":\"Plot\"},{\"attributes\":{},\"id\":\"1009\",\"type\":\"LinearScale\"},{\"attributes\":{\"tools\":[{\"id\":\"1021\",\"type\":\"PanTool\"},{\"id\":\"1022\",\"type\":\"WheelZoomTool\"},{\"id\":\"1023\",\"type\":\"BoxZoomTool\"},{\"id\":\"1024\",\"type\":\"SaveTool\"},{\"id\":\"1025\",\"type\":\"ResetTool\"},{\"id\":\"1026\",\"type\":\"HelpTool\"},{\"id\":\"1053\",\"type\":\"PanTool\"},{\"id\":\"1054\",\"type\":\"WheelZoomTool\"},{\"id\":\"1055\",\"type\":\"BoxZoomTool\"},{\"id\":\"1056\",\"type\":\"SaveTool\"},{\"id\":\"1057\",\"type\":\"ResetTool\"},{\"id\":\"1058\",\"type\":\"HelpTool\"},{\"id\":\"1085\",\"type\":\"PanTool\"},{\"id\":\"1086\",\"type\":\"WheelZoomTool\"},{\"id\":\"1087\",\"type\":\"BoxZoomTool\"},{\"id\":\"1088\",\"type\":\"SaveTool\"},{\"id\":\"1089\",\"type\":\"ResetTool\"},{\"id\":\"1090\",\"type\":\"HelpTool\"}]},\"id\":\"1166\",\"type\":\"ProxyToolbar\"},{\"attributes\":{\"ticker\":{\"id\":\"1012\",\"type\":\"BasicTicker\"}},\"id\":\"1015\",\"type\":\"Grid\"},{\"attributes\":{\"axis_label\":\"demand\",\"formatter\":{\"id\":\"1140\",\"type\":\"BasicTickFormatter\"},\"ticker\":{\"id\":\"1012\",\"type\":\"BasicTicker\"}},\"id\":\"1011\",\"type\":\"LinearAxis\"},{\"attributes\":{},\"id\":\"1012\",\"type\":\"BasicTicker\"}],\"root_ids\":[\"1168\"]},\"title\":\"Bokeh Application\",\"version\":\"1.3.4\"}};\n",
       "  var render_items = [{\"docid\":\"b2bb9cd8-9d1f-4445-967c-a24a37de3eeb\",\"notebook_comms_target\":\"1196\",\"roots\":{\"1168\":\"b1d9d552-dadb-4ec1-bbc1-5db6d2cf93b7\"}}];\n",
       "  root.Bokeh.embed.embed_items_notebook(docs_json, render_items);\n",
       "\n",
       "  }\n",
       "  if (root.Bokeh !== undefined) {\n",
       "    embed_document(root);\n",
       "  } else {\n",
       "    var attempts = 0;\n",
       "    var timer = setInterval(function(root) {\n",
       "      if (root.Bokeh !== undefined) {\n",
       "        embed_document(root);\n",
       "        clearInterval(timer);\n",
       "      }\n",
       "      attempts++;\n",
       "      if (attempts > 100) {\n",
       "        console.log(\"Bokeh: ERROR: Unable to run BokehJS code because BokehJS library is missing\");\n",
       "        clearInterval(timer);\n",
       "      }\n",
       "    }, 10, root)\n",
       "  }\n",
       "})(window);"
      ],
      "application/vnd.bokehjs_exec.v0+json": ""
     },
     "metadata": {
      "application/vnd.bokehjs_exec.v0+json": {
       "id": "1168"
      }
     },
     "output_type": "display_data"
    }
   ],
   "source": [
    "bins = int(max(news.data['demand'])-min(news.data['demand'])+1)\n",
    "fields = ['demand', 'sales', 'profit']\n",
    "hist_func = lambda n: news_plot.hist_glyphs(news.data, bins=bins)\n",
    "labels = {field: {'x': field, 'y': 'count', 'title': field + ' histogram'} for field in fields}\n",
    "newsvendor.interact_gridplot(news_plot.figures(fields), hist_func, news, labels=labels)"
   ]
  },
  {
   "cell_type": "code",
   "execution_count": 3,
   "metadata": {},
   "outputs": [
    {
     "data": {
      "application/vnd.jupyter.widget-view+json": {
       "model_id": "156e317b0a174ca29084fe1f55de9c3c",
       "version_major": 2,
       "version_minor": 0
      },
      "text/plain": [
       "interactive(children=(IntSlider(value=15, description='Order Qty', max=20), Output()), _dom_classes=('widget-i…"
      ]
     },
     "metadata": {},
     "output_type": "display_data"
    },
    {
     "data": {
      "text/html": [
       "\n",
       "\n",
       "\n",
       "\n",
       "\n",
       "\n",
       "  <div class=\"bk-root\" id=\"017260a2-4357-4dc8-936e-581d75aa03de\" data-root-id=\"1525\"></div>\n"
      ]
     },
     "metadata": {},
     "output_type": "display_data"
    },
    {
     "data": {
      "application/javascript": [
       "(function(root) {\n",
       "  function embed_document(root) {\n",
       "    \n",
       "  var docs_json = {\"4b3e21cc-bc70-432b-bf87-a3acdd855c59\":{\"roots\":{\"references\":[{\"attributes\":{\"children\":[{\"id\":\"1524\",\"type\":\"ToolbarBox\"},{\"id\":\"1522\",\"type\":\"GridBox\"}]},\"id\":\"1525\",\"type\":\"Column\"},{\"attributes\":{\"text\":\"sales\"},\"id\":\"1471\",\"type\":\"Title\"},{\"attributes\":{\"source\":{\"id\":\"1457\",\"type\":\"ColumnDataSource\"}},\"id\":\"1470\",\"type\":\"CDSView\"},{\"attributes\":{\"text\":\"revenue\"},\"id\":\"1474\",\"type\":\"Title\"},{\"attributes\":{\"ticker\":{\"id\":\"1433\",\"type\":\"BasicTicker\"}},\"id\":\"1436\",\"type\":\"Grid\"},{\"attributes\":{},\"id\":\"1498\",\"type\":\"Selection\"},{\"attributes\":{\"source\":{\"id\":\"1463\",\"type\":\"ColumnDataSource\"}},\"id\":\"1473\",\"type\":\"CDSView\"},{\"attributes\":{\"below\":[{\"id\":\"1432\",\"type\":\"LinearAxis\"}],\"center\":[{\"id\":\"1436\",\"type\":\"Grid\"},{\"id\":\"1441\",\"type\":\"Grid\"}],\"left\":[{\"id\":\"1437\",\"type\":\"LinearAxis\"}],\"plot_height\":300,\"plot_width\":300,\"renderers\":[{\"id\":\"1475\",\"type\":\"GlyphRenderer\"}],\"title\":{\"id\":\"1477\",\"type\":\"Title\"},\"toolbar\":{\"id\":\"1448\",\"type\":\"Toolbar\"},\"toolbar_location\":null,\"x_range\":{\"id\":\"1424\",\"type\":\"DataRange1d\"},\"x_scale\":{\"id\":\"1428\",\"type\":\"LinearScale\"},\"y_range\":{\"id\":\"1426\",\"type\":\"DataRange1d\"},\"y_scale\":{\"id\":\"1430\",\"type\":\"LinearScale\"}},\"id\":\"1423\",\"subtype\":\"Figure\",\"type\":\"Plot\"},{\"attributes\":{\"axis_label\":\"demand\",\"formatter\":{\"id\":\"1507\",\"type\":\"BasicTickFormatter\"},\"ticker\":{\"id\":\"1401\",\"type\":\"BasicTicker\"}},\"id\":\"1400\",\"type\":\"LinearAxis\"},{\"attributes\":{},\"id\":\"1383\",\"type\":\"HelpTool\"},{\"attributes\":{\"data_source\":{\"id\":\"1463\",\"type\":\"ColumnDataSource\"},\"glyph\":{\"id\":\"1464\",\"type\":\"Circle\"},\"hover_glyph\":null,\"muted_glyph\":null,\"view\":{\"id\":\"1473\",\"type\":\"CDSView\"}},\"id\":\"1472\",\"type\":\"GlyphRenderer\"},{\"attributes\":{},\"id\":\"1433\",\"type\":\"BasicTicker\"},{\"attributes\":{},\"id\":\"1364\",\"type\":\"LinearScale\"},{\"attributes\":{\"source\":{\"id\":\"1467\",\"type\":\"ColumnDataSource\"}},\"id\":\"1476\",\"type\":\"CDSView\"},{\"attributes\":{\"active_drag\":\"auto\",\"active_inspect\":\"auto\",\"active_multi\":null,\"active_scroll\":\"auto\",\"active_tap\":\"auto\",\"tools\":[{\"id\":\"1378\",\"type\":\"PanTool\"},{\"id\":\"1379\",\"type\":\"WheelZoomTool\"},{\"id\":\"1380\",\"type\":\"BoxZoomTool\"},{\"id\":\"1381\",\"type\":\"SaveTool\"},{\"id\":\"1382\",\"type\":\"ResetTool\"},{\"id\":\"1383\",\"type\":\"HelpTool\"}]},\"id\":\"1384\",\"type\":\"Toolbar\"},{\"attributes\":{},\"id\":\"1497\",\"type\":\"BasicTickFormatter\"},{\"attributes\":{},\"id\":\"1382\",\"type\":\"ResetTool\"},{\"attributes\":{\"data_source\":{\"id\":\"1467\",\"type\":\"ColumnDataSource\"},\"glyph\":{\"id\":\"1468\",\"type\":\"Circle\"},\"hover_glyph\":null,\"muted_glyph\":null,\"view\":{\"id\":\"1476\",\"type\":\"CDSView\"}},\"id\":\"1475\",\"type\":\"GlyphRenderer\"},{\"attributes\":{},\"id\":\"1378\",\"type\":\"PanTool\"},{\"attributes\":{},\"id\":\"1398\",\"type\":\"LinearScale\"},{\"attributes\":{},\"id\":\"1413\",\"type\":\"SaveTool\"},{\"attributes\":{},\"id\":\"1415\",\"type\":\"HelpTool\"},{\"attributes\":{\"text\":\"profit\"},\"id\":\"1477\",\"type\":\"Title\"},{\"attributes\":{\"overlay\":{\"id\":\"1500\",\"type\":\"BoxAnnotation\"}},\"id\":\"1380\",\"type\":\"BoxZoomTool\"},{\"attributes\":{\"overlay\":{\"id\":\"1510\",\"type\":\"BoxAnnotation\"}},\"id\":\"1412\",\"type\":\"BoxZoomTool\"},{\"attributes\":{},\"id\":\"1411\",\"type\":\"WheelZoomTool\"},{\"attributes\":{},\"id\":\"1507\",\"type\":\"BasicTickFormatter\"},{\"attributes\":{},\"id\":\"1410\",\"type\":\"PanTool\"},{\"attributes\":{},\"id\":\"1495\",\"type\":\"BasicTickFormatter\"},{\"attributes\":{\"active_drag\":\"auto\",\"active_inspect\":\"auto\",\"active_multi\":null,\"active_scroll\":\"auto\",\"active_tap\":\"auto\",\"tools\":[{\"id\":\"1410\",\"type\":\"PanTool\"},{\"id\":\"1411\",\"type\":\"WheelZoomTool\"},{\"id\":\"1412\",\"type\":\"BoxZoomTool\"},{\"id\":\"1413\",\"type\":\"SaveTool\"},{\"id\":\"1414\",\"type\":\"ResetTool\"},{\"id\":\"1415\",\"type\":\"HelpTool\"}]},\"id\":\"1416\",\"type\":\"Toolbar\"},{\"attributes\":{},\"id\":\"1401\",\"type\":\"BasicTicker\"},{\"attributes\":{},\"id\":\"1428\",\"type\":\"LinearScale\"},{\"attributes\":{\"ticker\":{\"id\":\"1401\",\"type\":\"BasicTicker\"}},\"id\":\"1404\",\"type\":\"Grid\"},{\"attributes\":{\"callback\":null},\"id\":\"1362\",\"type\":\"DataRange1d\"},{\"attributes\":{\"axis_label\":\"revenue\",\"formatter\":{\"id\":\"1505\",\"type\":\"BasicTickFormatter\"},\"ticker\":{\"id\":\"1406\",\"type\":\"BasicTicker\"}},\"id\":\"1405\",\"type\":\"LinearAxis\"},{\"attributes\":{\"dimension\":1,\"ticker\":{\"id\":\"1406\",\"type\":\"BasicTicker\"}},\"id\":\"1409\",\"type\":\"Grid\"},{\"attributes\":{},\"id\":\"1505\",\"type\":\"BasicTickFormatter\"},{\"attributes\":{},\"id\":\"1381\",\"type\":\"SaveTool\"},{\"attributes\":{\"callback\":null},\"id\":\"1424\",\"type\":\"DataRange1d\"},{\"attributes\":{},\"id\":\"1406\",\"type\":\"BasicTicker\"},{\"attributes\":{\"callback\":null},\"id\":\"1392\",\"type\":\"DataRange1d\"},{\"attributes\":{\"callback\":null},\"id\":\"1426\",\"type\":\"DataRange1d\"},{\"attributes\":{\"below\":[{\"id\":\"1368\",\"type\":\"LinearAxis\"}],\"center\":[{\"id\":\"1372\",\"type\":\"Grid\"},{\"id\":\"1377\",\"type\":\"Grid\"}],\"left\":[{\"id\":\"1373\",\"type\":\"LinearAxis\"}],\"plot_height\":300,\"plot_width\":300,\"renderers\":[{\"id\":\"1469\",\"type\":\"GlyphRenderer\"}],\"title\":{\"id\":\"1471\",\"type\":\"Title\"},\"toolbar\":{\"id\":\"1384\",\"type\":\"Toolbar\"},\"toolbar_location\":null,\"x_range\":{\"id\":\"1360\",\"type\":\"DataRange1d\"},\"x_scale\":{\"id\":\"1364\",\"type\":\"LinearScale\"},\"y_range\":{\"id\":\"1362\",\"type\":\"DataRange1d\"},\"y_scale\":{\"id\":\"1366\",\"type\":\"LinearScale\"}},\"id\":\"1359\",\"subtype\":\"Figure\",\"type\":\"Plot\"},{\"attributes\":{},\"id\":\"1379\",\"type\":\"WheelZoomTool\"},{\"attributes\":{},\"id\":\"1508\",\"type\":\"Selection\"},{\"attributes\":{},\"id\":\"1414\",\"type\":\"ResetTool\"},{\"attributes\":{\"bottom_units\":\"screen\",\"fill_alpha\":{\"value\":0.5},\"fill_color\":{\"value\":\"lightgrey\"},\"left_units\":\"screen\",\"level\":\"overlay\",\"line_alpha\":{\"value\":1.0},\"line_color\":{\"value\":\"black\"},\"line_dash\":[4,4],\"line_width\":{\"value\":2},\"render_mode\":\"css\",\"right_units\":\"screen\",\"top_units\":\"screen\"},\"id\":\"1510\",\"type\":\"BoxAnnotation\"},{\"attributes\":{},\"id\":\"1515\",\"type\":\"BasicTickFormatter\"},{\"attributes\":{\"below\":[{\"id\":\"1400\",\"type\":\"LinearAxis\"}],\"center\":[{\"id\":\"1404\",\"type\":\"Grid\"},{\"id\":\"1409\",\"type\":\"Grid\"}],\"left\":[{\"id\":\"1405\",\"type\":\"LinearAxis\"}],\"plot_height\":300,\"plot_width\":300,\"renderers\":[{\"id\":\"1472\",\"type\":\"GlyphRenderer\"}],\"title\":{\"id\":\"1474\",\"type\":\"Title\"},\"toolbar\":{\"id\":\"1416\",\"type\":\"Toolbar\"},\"toolbar_location\":null,\"x_range\":{\"id\":\"1392\",\"type\":\"DataRange1d\"},\"x_scale\":{\"id\":\"1396\",\"type\":\"LinearScale\"},\"y_range\":{\"id\":\"1394\",\"type\":\"DataRange1d\"},\"y_scale\":{\"id\":\"1398\",\"type\":\"LinearScale\"}},\"id\":\"1391\",\"subtype\":\"Figure\",\"type\":\"Plot\"},{\"attributes\":{},\"id\":\"1518\",\"type\":\"Selection\"},{\"attributes\":{\"axis_label\":\"demand\",\"formatter\":{\"id\":\"1517\",\"type\":\"BasicTickFormatter\"},\"ticker\":{\"id\":\"1433\",\"type\":\"BasicTicker\"}},\"id\":\"1432\",\"type\":\"LinearAxis\"},{\"attributes\":{\"tools\":[{\"id\":\"1378\",\"type\":\"PanTool\"},{\"id\":\"1379\",\"type\":\"WheelZoomTool\"},{\"id\":\"1380\",\"type\":\"BoxZoomTool\"},{\"id\":\"1381\",\"type\":\"SaveTool\"},{\"id\":\"1382\",\"type\":\"ResetTool\"},{\"id\":\"1383\",\"type\":\"HelpTool\"},{\"id\":\"1410\",\"type\":\"PanTool\"},{\"id\":\"1411\",\"type\":\"WheelZoomTool\"},{\"id\":\"1412\",\"type\":\"BoxZoomTool\"},{\"id\":\"1413\",\"type\":\"SaveTool\"},{\"id\":\"1414\",\"type\":\"ResetTool\"},{\"id\":\"1415\",\"type\":\"HelpTool\"},{\"id\":\"1442\",\"type\":\"PanTool\"},{\"id\":\"1443\",\"type\":\"WheelZoomTool\"},{\"id\":\"1444\",\"type\":\"BoxZoomTool\"},{\"id\":\"1445\",\"type\":\"SaveTool\"},{\"id\":\"1446\",\"type\":\"ResetTool\"},{\"id\":\"1447\",\"type\":\"HelpTool\"}]},\"id\":\"1523\",\"type\":\"ProxyToolbar\"},{\"attributes\":{},\"id\":\"1509\",\"type\":\"UnionRenderers\"},{\"attributes\":{},\"id\":\"1430\",\"type\":\"LinearScale\"},{\"attributes\":{},\"id\":\"1517\",\"type\":\"BasicTickFormatter\"},{\"attributes\":{},\"id\":\"1519\",\"type\":\"UnionRenderers\"},{\"attributes\":{\"data_source\":{\"id\":\"1457\",\"type\":\"ColumnDataSource\"},\"glyph\":{\"id\":\"1458\",\"type\":\"Circle\"},\"hover_glyph\":null,\"muted_glyph\":null,\"view\":{\"id\":\"1470\",\"type\":\"CDSView\"}},\"id\":\"1469\",\"type\":\"GlyphRenderer\"},{\"attributes\":{},\"id\":\"1445\",\"type\":\"SaveTool\"},{\"attributes\":{\"active_drag\":\"auto\",\"active_inspect\":\"auto\",\"active_multi\":null,\"active_scroll\":\"auto\",\"active_tap\":\"auto\",\"tools\":[{\"id\":\"1442\",\"type\":\"PanTool\"},{\"id\":\"1443\",\"type\":\"WheelZoomTool\"},{\"id\":\"1444\",\"type\":\"BoxZoomTool\"},{\"id\":\"1445\",\"type\":\"SaveTool\"},{\"id\":\"1446\",\"type\":\"ResetTool\"},{\"id\":\"1447\",\"type\":\"HelpTool\"}]},\"id\":\"1448\",\"type\":\"Toolbar\"},{\"attributes\":{},\"id\":\"1442\",\"type\":\"PanTool\"},{\"attributes\":{\"children\":[[{\"id\":\"1359\",\"subtype\":\"Figure\",\"type\":\"Plot\"},0,0],[{\"id\":\"1391\",\"subtype\":\"Figure\",\"type\":\"Plot\"},0,1],[{\"id\":\"1423\",\"subtype\":\"Figure\",\"type\":\"Plot\"},0,2]]},\"id\":\"1522\",\"type\":\"GridBox\"},{\"attributes\":{},\"id\":\"1443\",\"type\":\"WheelZoomTool\"},{\"attributes\":{\"overlay\":{\"id\":\"1520\",\"type\":\"BoxAnnotation\"}},\"id\":\"1444\",\"type\":\"BoxZoomTool\"},{\"attributes\":{},\"id\":\"1446\",\"type\":\"ResetTool\"},{\"attributes\":{},\"id\":\"1447\",\"type\":\"HelpTool\"},{\"attributes\":{\"bottom_units\":\"screen\",\"fill_alpha\":{\"value\":0.5},\"fill_color\":{\"value\":\"lightgrey\"},\"left_units\":\"screen\",\"level\":\"overlay\",\"line_alpha\":{\"value\":1.0},\"line_color\":{\"value\":\"black\"},\"line_dash\":[4,4],\"line_width\":{\"value\":2},\"render_mode\":\"css\",\"right_units\":\"screen\",\"top_units\":\"screen\"},\"id\":\"1500\",\"type\":\"BoxAnnotation\"},{\"attributes\":{\"bottom_units\":\"screen\",\"fill_alpha\":{\"value\":0.5},\"fill_color\":{\"value\":\"lightgrey\"},\"left_units\":\"screen\",\"level\":\"overlay\",\"line_alpha\":{\"value\":1.0},\"line_color\":{\"value\":\"black\"},\"line_dash\":[4,4],\"line_width\":{\"value\":2},\"render_mode\":\"css\",\"right_units\":\"screen\",\"top_units\":\"screen\"},\"id\":\"1520\",\"type\":\"BoxAnnotation\"},{\"attributes\":{\"toolbar\":{\"id\":\"1523\",\"type\":\"ProxyToolbar\"},\"toolbar_location\":\"above\"},\"id\":\"1524\",\"type\":\"ToolbarBox\"},{\"attributes\":{\"axis_label\":\"sales\",\"formatter\":{\"id\":\"1495\",\"type\":\"BasicTickFormatter\"},\"ticker\":{\"id\":\"1374\",\"type\":\"BasicTicker\"}},\"id\":\"1373\",\"type\":\"LinearAxis\"},{\"attributes\":{\"fill_color\":{\"value\":\"blue\"},\"line_color\":{\"value\":\"blue\"},\"x\":{\"field\":\"x\"},\"y\":{\"field\":\"y\"}},\"id\":\"1458\",\"type\":\"Circle\"},{\"attributes\":{\"ticker\":{\"id\":\"1369\",\"type\":\"BasicTicker\"}},\"id\":\"1372\",\"type\":\"Grid\"},{\"attributes\":{\"callback\":null,\"data\":{\"x\":{\"__ndarray__\":\"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\",\"dtype\":\"float64\",\"shape\":[365]},\"y\":{\"__ndarray__\":\"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\",\"dtype\":\"float64\",\"shape\":[365]}},\"selected\":{\"id\":\"1498\",\"type\":\"Selection\"},\"selection_policy\":{\"id\":\"1499\",\"type\":\"UnionRenderers\"}},\"id\":\"1457\",\"type\":\"ColumnDataSource\"},{\"attributes\":{},\"id\":\"1396\",\"type\":\"LinearScale\"},{\"attributes\":{\"dimension\":1,\"ticker\":{\"id\":\"1438\",\"type\":\"BasicTicker\"}},\"id\":\"1441\",\"type\":\"Grid\"},{\"attributes\":{\"dimension\":1,\"ticker\":{\"id\":\"1374\",\"type\":\"BasicTicker\"}},\"id\":\"1377\",\"type\":\"Grid\"},{\"attributes\":{\"callback\":null,\"data\":{\"x\":{\"__ndarray__\":\"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\",\"dtype\":\"float64\",\"shape\":[365]},\"y\":{\"__ndarray__\":\"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\",\"dtype\":\"float64\",\"shape\":[365]}},\"selected\":{\"id\":\"1518\",\"type\":\"Selection\"},\"selection_policy\":{\"id\":\"1519\",\"type\":\"UnionRenderers\"}},\"id\":\"1467\",\"type\":\"ColumnDataSource\"},{\"attributes\":{\"callback\":null},\"id\":\"1394\",\"type\":\"DataRange1d\"},{\"attributes\":{},\"id\":\"1369\",\"type\":\"BasicTicker\"},{\"attributes\":{\"axis_label\":\"demand\",\"formatter\":{\"id\":\"1497\",\"type\":\"BasicTickFormatter\"},\"ticker\":{\"id\":\"1369\",\"type\":\"BasicTicker\"}},\"id\":\"1368\",\"type\":\"LinearAxis\"},{\"attributes\":{\"axis_label\":\"profit\",\"formatter\":{\"id\":\"1515\",\"type\":\"BasicTickFormatter\"},\"ticker\":{\"id\":\"1438\",\"type\":\"BasicTicker\"}},\"id\":\"1437\",\"type\":\"LinearAxis\"},{\"attributes\":{\"fill_color\":{\"value\":\"blue\"},\"line_color\":{\"value\":\"blue\"},\"x\":{\"field\":\"x\"},\"y\":{\"field\":\"y\"}},\"id\":\"1464\",\"type\":\"Circle\"},{\"attributes\":{},\"id\":\"1499\",\"type\":\"UnionRenderers\"},{\"attributes\":{\"callback\":null,\"data\":{\"x\":{\"__ndarray__\":\"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\",\"dtype\":\"float64\",\"shape\":[365]},\"y\":{\"__ndarray__\":\"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\",\"dtype\":\"float64\",\"shape\":[365]}},\"selected\":{\"id\":\"1508\",\"type\":\"Selection\"},\"selection_policy\":{\"id\":\"1509\",\"type\":\"UnionRenderers\"}},\"id\":\"1463\",\"type\":\"ColumnDataSource\"},{\"attributes\":{},\"id\":\"1366\",\"type\":\"LinearScale\"},{\"attributes\":{},\"id\":\"1438\",\"type\":\"BasicTicker\"},{\"attributes\":{\"callback\":null},\"id\":\"1360\",\"type\":\"DataRange1d\"},{\"attributes\":{},\"id\":\"1374\",\"type\":\"BasicTicker\"},{\"attributes\":{\"fill_color\":{\"value\":\"blue\"},\"line_color\":{\"value\":\"blue\"},\"x\":{\"field\":\"x\"},\"y\":{\"field\":\"y\"}},\"id\":\"1468\",\"type\":\"Circle\"}],\"root_ids\":[\"1525\"]},\"title\":\"Bokeh Application\",\"version\":\"1.3.4\"}};\n",
       "  var render_items = [{\"docid\":\"4b3e21cc-bc70-432b-bf87-a3acdd855c59\",\"notebook_comms_target\":\"1580\",\"roots\":{\"1525\":\"017260a2-4357-4dc8-936e-581d75aa03de\"}}];\n",
       "  root.Bokeh.embed.embed_items_notebook(docs_json, render_items);\n",
       "\n",
       "  }\n",
       "  if (root.Bokeh !== undefined) {\n",
       "    embed_document(root);\n",
       "  } else {\n",
       "    var attempts = 0;\n",
       "    var timer = setInterval(function(root) {\n",
       "      if (root.Bokeh !== undefined) {\n",
       "        embed_document(root);\n",
       "        clearInterval(timer);\n",
       "      }\n",
       "      attempts++;\n",
       "      if (attempts > 100) {\n",
       "        console.log(\"Bokeh: ERROR: Unable to run BokehJS code because BokehJS library is missing\");\n",
       "        clearInterval(timer);\n",
       "      }\n",
       "    }, 10, root)\n",
       "  }\n",
       "})(window);"
      ],
      "application/vnd.bokehjs_exec.v0+json": ""
     },
     "metadata": {
      "application/vnd.bokehjs_exec.v0+json": {
       "id": "1525"
      }
     },
     "output_type": "display_data"
    }
   ],
   "source": [
    "fields = ['sales', 'revenue', 'profit']\n",
    "labels = {field: {'x': 'demand', 'y': field, 'title': field} for field in fields}\n",
    "scatter_func = lambda n: news_plot.scatter_glyphs(n.data, 'demand')\n",
    "newsvendor.interact_gridplot(news_plot.figures(fields), scatter_func, news, labels=labels)"
   ]
  },
  {
   "cell_type": "code",
   "execution_count": 4,
   "metadata": {
    "scrolled": true
   },
   "outputs": [
    {
     "data": {
      "application/vnd.jupyter.widget-view+json": {
       "model_id": "e4e387db8c894042a69bc9fbfafaae56",
       "version_major": 2,
       "version_minor": 0
      },
      "text/plain": [
       "interactive(children=(IntSlider(value=15, description='Order Qty', max=20), Output()), _dom_classes=('widget-i…"
      ]
     },
     "metadata": {},
     "output_type": "display_data"
    }
   ],
   "source": [
    "# Table of expected values with order quantity slider\n",
    "fields = ['demand', 'sales', 'profit']\n",
    "newsvendor.order_qty_interact(lambda y: news.exp_vals([y])[fields].style.hide_index(), news)"
   ]
  },
  {
   "cell_type": "code",
   "execution_count": 5,
   "metadata": {
    "scrolled": false
   },
   "outputs": [
    {
     "data": {
      "application/vnd.jupyter.widget-view+json": {
       "model_id": "701ebaf531bf460691b5d02d12661d8f",
       "version_major": 2,
       "version_minor": 0
      },
      "text/plain": [
       "interactive(children=(IntSlider(value=15, description='Order Qty', max=20), Output()), _dom_classes=('widget-i…"
      ]
     },
     "metadata": {},
     "output_type": "display_data"
    },
    {
     "data": {
      "text/html": [
       "\n",
       "\n",
       "\n",
       "\n",
       "\n",
       "\n",
       "  <div class=\"bk-root\" id=\"062cc998-f134-405b-9cd7-c396f1e30fd9\" data-root-id=\"1990\"></div>\n"
      ]
     },
     "metadata": {},
     "output_type": "display_data"
    },
    {
     "data": {
      "application/javascript": [
       "(function(root) {\n",
       "  function embed_document(root) {\n",
       "    \n",
       "  var docs_json = {\"ed809252-fe59-42b6-b0b9-284c853e1b7d\":{\"roots\":{\"references\":[{\"attributes\":{\"children\":[{\"id\":\"1989\",\"type\":\"ToolbarBox\"},{\"id\":\"1987\",\"type\":\"GridBox\"}]},\"id\":\"1990\",\"type\":\"Column\"},{\"attributes\":{\"line_color\":\"blue\",\"line_width\":2,\"x\":{\"field\":\"x\"},\"y\":{\"field\":\"y\"}},\"id\":\"1884\",\"type\":\"Line\"},{\"attributes\":{\"fill_alpha\":{\"value\":0.5},\"fill_color\":{\"value\":\"red\"},\"line_color\":{\"value\":\"red\"},\"size\":{\"units\":\"screen\",\"value\":10},\"x\":{\"field\":\"x\"},\"y\":{\"field\":\"y\"}},\"id\":\"1914\",\"type\":\"Circle\"},{\"attributes\":{\"children\":[[{\"id\":\"1743\",\"subtype\":\"Figure\",\"type\":\"Plot\"},0,0],[{\"id\":\"1775\",\"subtype\":\"Figure\",\"type\":\"Plot\"},0,1],[{\"id\":\"1807\",\"subtype\":\"Figure\",\"type\":\"Plot\"},1,0],[{\"id\":\"1839\",\"subtype\":\"Figure\",\"type\":\"Plot\"},1,1]]},\"id\":\"1987\",\"type\":\"GridBox\"},{\"attributes\":{\"below\":[{\"id\":\"1784\",\"type\":\"LinearAxis\"}],\"center\":[{\"id\":\"1788\",\"type\":\"Grid\"},{\"id\":\"1793\",\"type\":\"Grid\"}],\"left\":[{\"id\":\"1789\",\"type\":\"LinearAxis\"}],\"plot_height\":350,\"plot_width\":350,\"renderers\":[{\"id\":\"1890\",\"type\":\"GlyphRenderer\"},{\"id\":\"1917\",\"type\":\"GlyphRenderer\"}],\"title\":{\"id\":\"1892\",\"type\":\"Title\"},\"toolbar\":{\"id\":\"1800\",\"type\":\"Toolbar\"},\"toolbar_location\":null,\"x_range\":{\"id\":\"1776\",\"type\":\"DataRange1d\"},\"x_scale\":{\"id\":\"1780\",\"type\":\"LinearScale\"},\"y_range\":{\"id\":\"1778\",\"type\":\"DataRange1d\"},\"y_scale\":{\"id\":\"1782\",\"type\":\"LinearScale\"}},\"id\":\"1775\",\"subtype\":\"Figure\",\"type\":\"Plot\"},{\"attributes\":{},\"id\":\"1763\",\"type\":\"WheelZoomTool\"},{\"attributes\":{},\"id\":\"1846\",\"type\":\"LinearScale\"},{\"attributes\":{},\"id\":\"1854\",\"type\":\"BasicTicker\"},{\"attributes\":{},\"id\":\"1748\",\"type\":\"LinearScale\"},{\"attributes\":{\"source\":{\"id\":\"1913\",\"type\":\"ColumnDataSource\"}},\"id\":\"1922\",\"type\":\"CDSView\"},{\"attributes\":{\"active_drag\":\"auto\",\"active_inspect\":\"auto\",\"active_multi\":null,\"active_scroll\":\"auto\",\"active_tap\":\"auto\",\"tools\":[{\"id\":\"1826\",\"type\":\"PanTool\"},{\"id\":\"1827\",\"type\":\"WheelZoomTool\"},{\"id\":\"1828\",\"type\":\"BoxZoomTool\"},{\"id\":\"1829\",\"type\":\"SaveTool\"},{\"id\":\"1830\",\"type\":\"ResetTool\"},{\"id\":\"1831\",\"type\":\"HelpTool\"}]},\"id\":\"1832\",\"type\":\"Toolbar\"},{\"attributes\":{\"dimension\":1,\"ticker\":{\"id\":\"1758\",\"type\":\"BasicTicker\"}},\"id\":\"1761\",\"type\":\"Grid\"},{\"attributes\":{\"line_color\":\"blue\",\"line_width\":2,\"x\":{\"field\":\"x\"},\"y\":{\"field\":\"y\"}},\"id\":\"1886\",\"type\":\"Line\"},{\"attributes\":{\"ticker\":{\"id\":\"1753\",\"type\":\"BasicTicker\"}},\"id\":\"1756\",\"type\":\"Grid\"},{\"attributes\":{},\"id\":\"1849\",\"type\":\"BasicTicker\"},{\"attributes\":{},\"id\":\"1946\",\"type\":\"UnionRenderers\"},{\"attributes\":{},\"id\":\"1766\",\"type\":\"ResetTool\"},{\"attributes\":{},\"id\":\"1750\",\"type\":\"LinearScale\"},{\"attributes\":{\"fill_alpha\":{\"value\":0.5},\"fill_color\":{\"value\":\"red\"},\"line_color\":{\"value\":\"red\"},\"size\":{\"units\":\"screen\",\"value\":10},\"x\":{\"field\":\"x\"},\"y\":{\"field\":\"y\"}},\"id\":\"1910\",\"type\":\"Circle\"},{\"attributes\":{},\"id\":\"1831\",\"type\":\"HelpTool\"},{\"attributes\":{},\"id\":\"1970\",\"type\":\"UnionRenderers\"},{\"attributes\":{\"axis_label\":\"expected sales\",\"formatter\":{\"id\":\"1942\",\"type\":\"BasicTickFormatter\"},\"ticker\":{\"id\":\"1758\",\"type\":\"BasicTicker\"}},\"id\":\"1757\",\"type\":\"LinearAxis\"},{\"attributes\":{\"callback\":null},\"id\":\"1746\",\"type\":\"DataRange1d\"},{\"attributes\":{\"ticker\":{\"id\":\"1849\",\"type\":\"BasicTicker\"}},\"id\":\"1852\",\"type\":\"Grid\"},{\"attributes\":{\"below\":[{\"id\":\"1752\",\"type\":\"LinearAxis\"}],\"center\":[{\"id\":\"1756\",\"type\":\"Grid\"},{\"id\":\"1761\",\"type\":\"Grid\"}],\"left\":[{\"id\":\"1757\",\"type\":\"LinearAxis\"}],\"plot_height\":350,\"plot_width\":350,\"renderers\":[{\"id\":\"1887\",\"type\":\"GlyphRenderer\"},{\"id\":\"1915\",\"type\":\"GlyphRenderer\"}],\"title\":{\"id\":\"1889\",\"type\":\"Title\"},\"toolbar\":{\"id\":\"1768\",\"type\":\"Toolbar\"},\"toolbar_location\":null,\"x_range\":{\"id\":\"1744\",\"type\":\"DataRange1d\"},\"x_scale\":{\"id\":\"1748\",\"type\":\"LinearScale\"},\"y_range\":{\"id\":\"1746\",\"type\":\"DataRange1d\"},\"y_scale\":{\"id\":\"1750\",\"type\":\"LinearScale\"}},\"id\":\"1743\",\"subtype\":\"Figure\",\"type\":\"Plot\"},{\"attributes\":{},\"id\":\"1981\",\"type\":\"Selection\"},{\"attributes\":{},\"id\":\"1959\",\"type\":\"Selection\"},{\"attributes\":{},\"id\":\"1862\",\"type\":\"ResetTool\"},{\"attributes\":{\"data_source\":{\"id\":\"1909\",\"type\":\"ColumnDataSource\"},\"glyph\":{\"id\":\"1910\",\"type\":\"Circle\"},\"hover_glyph\":null,\"muted_glyph\":null,\"view\":{\"id\":\"1918\",\"type\":\"CDSView\"}},\"id\":\"1917\",\"type\":\"GlyphRenderer\"},{\"attributes\":{\"source\":{\"id\":\"1875\",\"type\":\"ColumnDataSource\"}},\"id\":\"1888\",\"type\":\"CDSView\"},{\"attributes\":{\"overlay\":{\"id\":\"1949\",\"type\":\"BoxAnnotation\"}},\"id\":\"1764\",\"type\":\"BoxZoomTool\"},{\"attributes\":{},\"id\":\"1861\",\"type\":\"SaveTool\"},{\"attributes\":{\"axis_label\":\"order qty\",\"formatter\":{\"id\":\"1944\",\"type\":\"BasicTickFormatter\"},\"ticker\":{\"id\":\"1753\",\"type\":\"BasicTicker\"}},\"id\":\"1752\",\"type\":\"LinearAxis\"},{\"attributes\":{},\"id\":\"1982\",\"type\":\"UnionRenderers\"},{\"attributes\":{},\"id\":\"1978\",\"type\":\"BasicTickFormatter\"},{\"attributes\":{\"bottom_units\":\"screen\",\"fill_alpha\":{\"value\":0.5},\"fill_color\":{\"value\":\"lightgrey\"},\"left_units\":\"screen\",\"level\":\"overlay\",\"line_alpha\":{\"value\":1.0},\"line_color\":{\"value\":\"black\"},\"line_dash\":[4,4],\"line_width\":{\"value\":2},\"render_mode\":\"css\",\"right_units\":\"screen\",\"top_units\":\"screen\"},\"id\":\"1973\",\"type\":\"BoxAnnotation\"},{\"attributes\":{\"callback\":null,\"data\":{\"x\":[15],\"y\":{\"__ndarray__\":\"OHNIrCUTH0A=\",\"dtype\":\"float64\",\"shape\":[1]}},\"selected\":{\"id\":\"1947\",\"type\":\"Selection\"},\"selection_policy\":{\"id\":\"1948\",\"type\":\"UnionRenderers\"}},\"id\":\"1903\",\"type\":\"ColumnDataSource\"},{\"attributes\":{},\"id\":\"1960\",\"type\":\"UnionRenderers\"},{\"attributes\":{\"callback\":null,\"data\":{\"x\":[15],\"y\":[15]},\"selected\":{\"id\":\"1971\",\"type\":\"Selection\"},\"selection_policy\":{\"id\":\"1972\",\"type\":\"UnionRenderers\"}},\"id\":\"1911\",\"type\":\"ColumnDataSource\"},{\"attributes\":{\"below\":[{\"id\":\"1816\",\"type\":\"LinearAxis\"}],\"center\":[{\"id\":\"1820\",\"type\":\"Grid\"},{\"id\":\"1825\",\"type\":\"Grid\"}],\"left\":[{\"id\":\"1821\",\"type\":\"LinearAxis\"}],\"plot_height\":350,\"plot_width\":350,\"renderers\":[{\"id\":\"1893\",\"type\":\"GlyphRenderer\"},{\"id\":\"1919\",\"type\":\"GlyphRenderer\"}],\"title\":{\"id\":\"1895\",\"type\":\"Title\"},\"toolbar\":{\"id\":\"1832\",\"type\":\"Toolbar\"},\"toolbar_location\":null,\"x_range\":{\"id\":\"1808\",\"type\":\"DataRange1d\"},\"x_scale\":{\"id\":\"1812\",\"type\":\"LinearScale\"},\"y_range\":{\"id\":\"1810\",\"type\":\"DataRange1d\"},\"y_scale\":{\"id\":\"1814\",\"type\":\"LinearScale\"}},\"id\":\"1807\",\"subtype\":\"Figure\",\"type\":\"Plot\"},{\"attributes\":{},\"id\":\"1858\",\"type\":\"PanTool\"},{\"attributes\":{\"axis_label\":\"order qty\",\"formatter\":{\"id\":\"1980\",\"type\":\"BasicTickFormatter\"},\"ticker\":{\"id\":\"1849\",\"type\":\"BasicTicker\"}},\"id\":\"1848\",\"type\":\"LinearAxis\"},{\"attributes\":{},\"id\":\"1765\",\"type\":\"SaveTool\"},{\"attributes\":{},\"id\":\"1947\",\"type\":\"Selection\"},{\"attributes\":{\"callback\":null,\"data\":{\"x\":[15],\"y\":{\"__ndarray__\":\"OHNIrCUTL0A=\",\"dtype\":\"float64\",\"shape\":[1]}},\"selected\":{\"id\":\"1959\",\"type\":\"Selection\"},\"selection_policy\":{\"id\":\"1960\",\"type\":\"UnionRenderers\"}},\"id\":\"1909\",\"type\":\"ColumnDataSource\"},{\"attributes\":{},\"id\":\"1948\",\"type\":\"UnionRenderers\"},{\"attributes\":{\"line_color\":\"blue\",\"line_width\":2,\"x\":{\"field\":\"x\"},\"y\":{\"field\":\"y\"}},\"id\":\"1876\",\"type\":\"Line\"},{\"attributes\":{\"fill_alpha\":{\"value\":0.5},\"fill_color\":{\"value\":\"red\"},\"line_color\":{\"value\":\"red\"},\"size\":{\"units\":\"screen\",\"value\":10},\"x\":{\"field\":\"x\"},\"y\":{\"field\":\"y\"}},\"id\":\"1904\",\"type\":\"Circle\"},{\"attributes\":{},\"id\":\"1980\",\"type\":\"BasicTickFormatter\"},{\"attributes\":{},\"id\":\"1944\",\"type\":\"BasicTickFormatter\"},{\"attributes\":{\"line_color\":\"blue\",\"line_width\":2,\"x\":{\"field\":\"x\"},\"y\":{\"field\":\"y\"}},\"id\":\"1882\",\"type\":\"Line\"},{\"attributes\":{},\"id\":\"1983\",\"type\":\"Selection\"},{\"attributes\":{\"active_drag\":\"auto\",\"active_inspect\":\"auto\",\"active_multi\":null,\"active_scroll\":\"auto\",\"active_tap\":\"auto\",\"tools\":[{\"id\":\"1858\",\"type\":\"PanTool\"},{\"id\":\"1859\",\"type\":\"WheelZoomTool\"},{\"id\":\"1860\",\"type\":\"BoxZoomTool\"},{\"id\":\"1861\",\"type\":\"SaveTool\"},{\"id\":\"1862\",\"type\":\"ResetTool\"},{\"id\":\"1863\",\"type\":\"HelpTool\"}]},\"id\":\"1864\",\"type\":\"Toolbar\"},{\"attributes\":{},\"id\":\"1957\",\"type\":\"Selection\"},{\"attributes\":{},\"id\":\"1945\",\"type\":\"Selection\"},{\"attributes\":{},\"id\":\"1844\",\"type\":\"LinearScale\"},{\"attributes\":{},\"id\":\"1968\",\"type\":\"BasicTickFormatter\"},{\"attributes\":{\"bottom_units\":\"screen\",\"fill_alpha\":{\"value\":0.5},\"fill_color\":{\"value\":\"lightgrey\"},\"left_units\":\"screen\",\"level\":\"overlay\",\"line_alpha\":{\"value\":1.0},\"line_color\":{\"value\":\"black\"},\"line_dash\":[4,4],\"line_width\":{\"value\":2},\"render_mode\":\"css\",\"right_units\":\"screen\",\"top_units\":\"screen\"},\"id\":\"1961\",\"type\":\"BoxAnnotation\"},{\"attributes\":{\"source\":{\"id\":\"1903\",\"type\":\"ColumnDataSource\"}},\"id\":\"1916\",\"type\":\"CDSView\"},{\"attributes\":{\"dimension\":1,\"ticker\":{\"id\":\"1822\",\"type\":\"BasicTicker\"}},\"id\":\"1825\",\"type\":\"Grid\"},{\"attributes\":{},\"id\":\"1758\",\"type\":\"BasicTicker\"},{\"attributes\":{\"source\":{\"id\":\"1909\",\"type\":\"ColumnDataSource\"}},\"id\":\"1918\",\"type\":\"CDSView\"},{\"attributes\":{},\"id\":\"1972\",\"type\":\"UnionRenderers\"},{\"attributes\":{},\"id\":\"1956\",\"type\":\"BasicTickFormatter\"},{\"attributes\":{},\"id\":\"1863\",\"type\":\"HelpTool\"},{\"attributes\":{},\"id\":\"1753\",\"type\":\"BasicTicker\"},{\"attributes\":{},\"id\":\"1954\",\"type\":\"BasicTickFormatter\"},{\"attributes\":{},\"id\":\"1971\",\"type\":\"Selection\"},{\"attributes\":{\"axis_label\":\"expected profit\",\"formatter\":{\"id\":\"1978\",\"type\":\"BasicTickFormatter\"},\"ticker\":{\"id\":\"1854\",\"type\":\"BasicTicker\"}},\"id\":\"1853\",\"type\":\"LinearAxis\"},{\"attributes\":{\"bottom_units\":\"screen\",\"fill_alpha\":{\"value\":0.5},\"fill_color\":{\"value\":\"lightgrey\"},\"left_units\":\"screen\",\"level\":\"overlay\",\"line_alpha\":{\"value\":1.0},\"line_color\":{\"value\":\"black\"},\"line_dash\":[4,4],\"line_width\":{\"value\":2},\"render_mode\":\"css\",\"right_units\":\"screen\",\"top_units\":\"screen\"},\"id\":\"1949\",\"type\":\"BoxAnnotation\"},{\"attributes\":{\"callback\":null,\"data\":{\"x\":[0,1,2,3,4,5,6,7,8,9,10,11,12,13,14,15,16,17,18,19,20],\"y\":{\"__ndarray__\":\"AAAAAAAAAAC3T6z9t3PuP5kZkNHJAP0/9EmX9wq8BED2HeFv2F8KQOgI6YhAeg9Al6eHOSsMEkC4qtVr9yIUQCx5jxTfBhZA3d/6B7q8F0BzFhUe6kgZQAVSJW1mrxpA+HDOccXzG0DPXqlBRhkdQMb819rYIh5AOHNIrCUTH0DdeFFklOwfQHxJJQ2pWCBAzVrzcKuxIECRnV5rNQIhQCuWZVYVSyFA\",\"dtype\":\"float64\",\"shape\":[21]}},\"selected\":{\"id\":\"1945\",\"type\":\"Selection\"},\"selection_policy\":{\"id\":\"1946\",\"type\":\"UnionRenderers\"}},\"id\":\"1875\",\"type\":\"ColumnDataSource\"},{\"attributes\":{},\"id\":\"1958\",\"type\":\"UnionRenderers\"},{\"attributes\":{\"data_source\":{\"id\":\"1903\",\"type\":\"ColumnDataSource\"},\"glyph\":{\"id\":\"1904\",\"type\":\"Circle\"},\"hover_glyph\":null,\"muted_glyph\":null,\"view\":{\"id\":\"1916\",\"type\":\"CDSView\"}},\"id\":\"1915\",\"type\":\"GlyphRenderer\"},{\"attributes\":{\"callback\":null},\"id\":\"1776\",\"type\":\"DataRange1d\"},{\"attributes\":{\"callback\":null},\"id\":\"1744\",\"type\":\"DataRange1d\"},{\"attributes\":{\"callback\":null},\"id\":\"1842\",\"type\":\"DataRange1d\"},{\"attributes\":{\"overlay\":{\"id\":\"1985\",\"type\":\"BoxAnnotation\"}},\"id\":\"1860\",\"type\":\"BoxZoomTool\"},{\"attributes\":{\"callback\":null,\"data\":{\"x\":[15],\"y\":{\"__ndarray__\":\"gDOHxFoy4T8=\",\"dtype\":\"float64\",\"shape\":[1]}},\"selected\":{\"id\":\"1983\",\"type\":\"Selection\"},\"selection_policy\":{\"id\":\"1984\",\"type\":\"UnionRenderers\"}},\"id\":\"1913\",\"type\":\"ColumnDataSource\"},{\"attributes\":{},\"id\":\"1966\",\"type\":\"BasicTickFormatter\"},{\"attributes\":{\"fill_alpha\":{\"value\":0.5},\"fill_color\":{\"value\":\"red\"},\"line_color\":{\"value\":\"red\"},\"size\":{\"units\":\"screen\",\"value\":10},\"x\":{\"field\":\"x\"},\"y\":{\"field\":\"y\"}},\"id\":\"1912\",\"type\":\"Circle\"},{\"attributes\":{},\"id\":\"1984\",\"type\":\"UnionRenderers\"},{\"attributes\":{},\"id\":\"1859\",\"type\":\"WheelZoomTool\"},{\"attributes\":{\"bottom_units\":\"screen\",\"fill_alpha\":{\"value\":0.5},\"fill_color\":{\"value\":\"lightgrey\"},\"left_units\":\"screen\",\"level\":\"overlay\",\"line_alpha\":{\"value\":1.0},\"line_color\":{\"value\":\"black\"},\"line_dash\":[4,4],\"line_width\":{\"value\":2},\"render_mode\":\"css\",\"right_units\":\"screen\",\"top_units\":\"screen\"},\"id\":\"1985\",\"type\":\"BoxAnnotation\"},{\"attributes\":{\"dimension\":1,\"ticker\":{\"id\":\"1854\",\"type\":\"BasicTicker\"}},\"id\":\"1857\",\"type\":\"Grid\"},{\"attributes\":{\"tools\":[{\"id\":\"1762\",\"type\":\"PanTool\"},{\"id\":\"1763\",\"type\":\"WheelZoomTool\"},{\"id\":\"1764\",\"type\":\"BoxZoomTool\"},{\"id\":\"1765\",\"type\":\"SaveTool\"},{\"id\":\"1766\",\"type\":\"ResetTool\"},{\"id\":\"1767\",\"type\":\"HelpTool\"},{\"id\":\"1794\",\"type\":\"PanTool\"},{\"id\":\"1795\",\"type\":\"WheelZoomTool\"},{\"id\":\"1796\",\"type\":\"BoxZoomTool\"},{\"id\":\"1797\",\"type\":\"SaveTool\"},{\"id\":\"1798\",\"type\":\"ResetTool\"},{\"id\":\"1799\",\"type\":\"HelpTool\"},{\"id\":\"1826\",\"type\":\"PanTool\"},{\"id\":\"1827\",\"type\":\"WheelZoomTool\"},{\"id\":\"1828\",\"type\":\"BoxZoomTool\"},{\"id\":\"1829\",\"type\":\"SaveTool\"},{\"id\":\"1830\",\"type\":\"ResetTool\"},{\"id\":\"1831\",\"type\":\"HelpTool\"},{\"id\":\"1858\",\"type\":\"PanTool\"},{\"id\":\"1859\",\"type\":\"WheelZoomTool\"},{\"id\":\"1860\",\"type\":\"BoxZoomTool\"},{\"id\":\"1861\",\"type\":\"SaveTool\"},{\"id\":\"1862\",\"type\":\"ResetTool\"},{\"id\":\"1863\",\"type\":\"HelpTool\"}]},\"id\":\"1988\",\"type\":\"ProxyToolbar\"},{\"attributes\":{\"callback\":null,\"data\":{\"x\":[0,1,2,3,4,5,6,7,8,9,10,11,12,13,14,15,16,17,18,19,20],\"y\":{\"__ndarray__\":\"AAAAAAAAAAC3T6z9t3P+P5kZkNHJAA1A9EmX9wq8FED2HeFv2F8aQOgI6YhAeh9Al6eHOSsMIkC4qtVr9yIkQCx5jxTfBiZA3d/6B7q8J0BzFhUe6kgpQAVSJW1mrypA+HDOccXzK0DPXqlBRhktQMb819rYIi5AOHNIrCUTL0DdeFFklOwvQHxJJQ2pWDBAzVrzcKuxMECRnV5rNQIxQCuWZVYVSzFA\",\"dtype\":\"float64\",\"shape\":[21]}},\"selected\":{\"id\":\"1957\",\"type\":\"Selection\"},\"selection_policy\":{\"id\":\"1958\",\"type\":\"UnionRenderers\"}},\"id\":\"1881\",\"type\":\"ColumnDataSource\"},{\"attributes\":{\"data_source\":{\"id\":\"1885\",\"type\":\"ColumnDataSource\"},\"glyph\":{\"id\":\"1886\",\"type\":\"Line\"},\"hover_glyph\":null,\"muted_glyph\":null,\"view\":{\"id\":\"1897\",\"type\":\"CDSView\"}},\"id\":\"1896\",\"type\":\"GlyphRenderer\"},{\"attributes\":{\"active_drag\":\"auto\",\"active_inspect\":\"auto\",\"active_multi\":null,\"active_scroll\":\"auto\",\"active_tap\":\"auto\",\"tools\":[{\"id\":\"1762\",\"type\":\"PanTool\"},{\"id\":\"1763\",\"type\":\"WheelZoomTool\"},{\"id\":\"1764\",\"type\":\"BoxZoomTool\"},{\"id\":\"1765\",\"type\":\"SaveTool\"},{\"id\":\"1766\",\"type\":\"ResetTool\"},{\"id\":\"1767\",\"type\":\"HelpTool\"}]},\"id\":\"1768\",\"type\":\"Toolbar\"},{\"attributes\":{},\"id\":\"1829\",\"type\":\"SaveTool\"},{\"attributes\":{\"text\":\"profit\"},\"id\":\"1898\",\"type\":\"Title\"},{\"attributes\":{},\"id\":\"1767\",\"type\":\"HelpTool\"},{\"attributes\":{},\"id\":\"1826\",\"type\":\"PanTool\"},{\"attributes\":{\"text\":\"cost\"},\"id\":\"1895\",\"type\":\"Title\"},{\"attributes\":{\"data_source\":{\"id\":\"1911\",\"type\":\"ColumnDataSource\"},\"glyph\":{\"id\":\"1912\",\"type\":\"Circle\"},\"hover_glyph\":null,\"muted_glyph\":null,\"view\":{\"id\":\"1920\",\"type\":\"CDSView\"}},\"id\":\"1919\",\"type\":\"GlyphRenderer\"},{\"attributes\":{},\"id\":\"1799\",\"type\":\"HelpTool\"},{\"attributes\":{\"data_source\":{\"id\":\"1875\",\"type\":\"ColumnDataSource\"},\"glyph\":{\"id\":\"1876\",\"type\":\"Line\"},\"hover_glyph\":null,\"muted_glyph\":null,\"view\":{\"id\":\"1888\",\"type\":\"CDSView\"}},\"id\":\"1887\",\"type\":\"GlyphRenderer\"},{\"attributes\":{\"axis_label\":\"expected cost\",\"formatter\":{\"id\":\"1966\",\"type\":\"BasicTickFormatter\"},\"ticker\":{\"id\":\"1822\",\"type\":\"BasicTicker\"}},\"id\":\"1821\",\"type\":\"LinearAxis\"},{\"attributes\":{\"source\":{\"id\":\"1883\",\"type\":\"ColumnDataSource\"}},\"id\":\"1894\",\"type\":\"CDSView\"},{\"attributes\":{},\"id\":\"1827\",\"type\":\"WheelZoomTool\"},{\"attributes\":{\"callback\":null},\"id\":\"1778\",\"type\":\"DataRange1d\"},{\"attributes\":{},\"id\":\"1790\",\"type\":\"BasicTicker\"},{\"attributes\":{\"axis_label\":\"order qty\",\"formatter\":{\"id\":\"1956\",\"type\":\"BasicTickFormatter\"},\"ticker\":{\"id\":\"1785\",\"type\":\"BasicTicker\"}},\"id\":\"1784\",\"type\":\"LinearAxis\"},{\"attributes\":{\"text\":\"revenue\"},\"id\":\"1892\",\"type\":\"Title\"},{\"attributes\":{},\"id\":\"1812\",\"type\":\"LinearScale\"},{\"attributes\":{\"ticker\":{\"id\":\"1785\",\"type\":\"BasicTicker\"}},\"id\":\"1788\",\"type\":\"Grid\"},{\"attributes\":{\"callback\":null,\"data\":{\"x\":[0,1,2,3,4,5,6,7,8,9,10,11,12,13,14,15,16,17,18,19,20],\"y\":[0,1,2,3,4,5,6,7,8,9,10,11,12,13,14,15,16,17,18,19,20]},\"selected\":{\"id\":\"1969\",\"type\":\"Selection\"},\"selection_policy\":{\"id\":\"1970\",\"type\":\"UnionRenderers\"}},\"id\":\"1883\",\"type\":\"ColumnDataSource\"},{\"attributes\":{},\"id\":\"1780\",\"type\":\"LinearScale\"},{\"attributes\":{},\"id\":\"1785\",\"type\":\"BasicTicker\"},{\"attributes\":{\"source\":{\"id\":\"1881\",\"type\":\"ColumnDataSource\"}},\"id\":\"1891\",\"type\":\"CDSView\"},{\"attributes\":{},\"id\":\"1830\",\"type\":\"ResetTool\"},{\"attributes\":{\"dimension\":1,\"ticker\":{\"id\":\"1790\",\"type\":\"BasicTicker\"}},\"id\":\"1793\",\"type\":\"Grid\"},{\"attributes\":{\"source\":{\"id\":\"1885\",\"type\":\"ColumnDataSource\"}},\"id\":\"1897\",\"type\":\"CDSView\"},{\"attributes\":{\"callback\":null,\"data\":{\"x\":[0,1,2,3,4,5,6,7,8,9,10,11,12,13,14,15,16,17,18,19,20],\"y\":{\"__ndarray__\":\"AAAAAAAAAABun1j7b+fsPzIzIKOTAfo/6JMu7xV4AUDsO8LfsL8EQNAR0hGB9AZAXJ4e5qwwCEDgqlav3YsIQLDkPVJ8GwhAdH/rH+jyBkDMWVR4qCMFQBRIlbSZvQJAwIdzjiue/z949koNMsr4PzDmv9bGFvE/gDOHxFoy4T8AI4eum2ujv4DQVlve6uS/MFPK8Ejl9L/wJhZKqdz/v6hO00xVpwXA\",\"dtype\":\"float64\",\"shape\":[21]}},\"selected\":{\"id\":\"1981\",\"type\":\"Selection\"},\"selection_policy\":{\"id\":\"1982\",\"type\":\"UnionRenderers\"}},\"id\":\"1885\",\"type\":\"ColumnDataSource\"},{\"attributes\":{},\"id\":\"1797\",\"type\":\"SaveTool\"},{\"attributes\":{\"data_source\":{\"id\":\"1913\",\"type\":\"ColumnDataSource\"},\"glyph\":{\"id\":\"1914\",\"type\":\"Circle\"},\"hover_glyph\":null,\"muted_glyph\":null,\"view\":{\"id\":\"1922\",\"type\":\"CDSView\"}},\"id\":\"1921\",\"type\":\"GlyphRenderer\"},{\"attributes\":{\"overlay\":{\"id\":\"1961\",\"type\":\"BoxAnnotation\"}},\"id\":\"1796\",\"type\":\"BoxZoomTool\"},{\"attributes\":{},\"id\":\"1795\",\"type\":\"WheelZoomTool\"},{\"attributes\":{},\"id\":\"1782\",\"type\":\"LinearScale\"},{\"attributes\":{\"source\":{\"id\":\"1911\",\"type\":\"ColumnDataSource\"}},\"id\":\"1920\",\"type\":\"CDSView\"},{\"attributes\":{\"ticker\":{\"id\":\"1817\",\"type\":\"BasicTicker\"}},\"id\":\"1820\",\"type\":\"Grid\"},{\"attributes\":{},\"id\":\"1942\",\"type\":\"BasicTickFormatter\"},{\"attributes\":{},\"id\":\"1822\",\"type\":\"BasicTicker\"},{\"attributes\":{\"overlay\":{\"id\":\"1973\",\"type\":\"BoxAnnotation\"}},\"id\":\"1828\",\"type\":\"BoxZoomTool\"},{\"attributes\":{\"callback\":null},\"id\":\"1808\",\"type\":\"DataRange1d\"},{\"attributes\":{\"callback\":null},\"id\":\"1840\",\"type\":\"DataRange1d\"},{\"attributes\":{\"data_source\":{\"id\":\"1881\",\"type\":\"ColumnDataSource\"},\"glyph\":{\"id\":\"1882\",\"type\":\"Line\"},\"hover_glyph\":null,\"muted_glyph\":null,\"view\":{\"id\":\"1891\",\"type\":\"CDSView\"}},\"id\":\"1890\",\"type\":\"GlyphRenderer\"},{\"attributes\":{\"callback\":null},\"id\":\"1810\",\"type\":\"DataRange1d\"},{\"attributes\":{},\"id\":\"1798\",\"type\":\"ResetTool\"},{\"attributes\":{\"toolbar\":{\"id\":\"1988\",\"type\":\"ProxyToolbar\"},\"toolbar_location\":\"above\"},\"id\":\"1989\",\"type\":\"ToolbarBox\"},{\"attributes\":{\"active_drag\":\"auto\",\"active_inspect\":\"auto\",\"active_multi\":null,\"active_scroll\":\"auto\",\"active_tap\":\"auto\",\"tools\":[{\"id\":\"1794\",\"type\":\"PanTool\"},{\"id\":\"1795\",\"type\":\"WheelZoomTool\"},{\"id\":\"1796\",\"type\":\"BoxZoomTool\"},{\"id\":\"1797\",\"type\":\"SaveTool\"},{\"id\":\"1798\",\"type\":\"ResetTool\"},{\"id\":\"1799\",\"type\":\"HelpTool\"}]},\"id\":\"1800\",\"type\":\"Toolbar\"},{\"attributes\":{},\"id\":\"1817\",\"type\":\"BasicTicker\"},{\"attributes\":{},\"id\":\"1969\",\"type\":\"Selection\"},{\"attributes\":{\"axis_label\":\"expected revenue\",\"formatter\":{\"id\":\"1954\",\"type\":\"BasicTickFormatter\"},\"ticker\":{\"id\":\"1790\",\"type\":\"BasicTicker\"}},\"id\":\"1789\",\"type\":\"LinearAxis\"},{\"attributes\":{\"data_source\":{\"id\":\"1883\",\"type\":\"ColumnDataSource\"},\"glyph\":{\"id\":\"1884\",\"type\":\"Line\"},\"hover_glyph\":null,\"muted_glyph\":null,\"view\":{\"id\":\"1894\",\"type\":\"CDSView\"}},\"id\":\"1893\",\"type\":\"GlyphRenderer\"},{\"attributes\":{},\"id\":\"1794\",\"type\":\"PanTool\"},{\"attributes\":{\"text\":\"sales\"},\"id\":\"1889\",\"type\":\"Title\"},{\"attributes\":{\"axis_label\":\"order qty\",\"formatter\":{\"id\":\"1968\",\"type\":\"BasicTickFormatter\"},\"ticker\":{\"id\":\"1817\",\"type\":\"BasicTicker\"}},\"id\":\"1816\",\"type\":\"LinearAxis\"},{\"attributes\":{\"below\":[{\"id\":\"1848\",\"type\":\"LinearAxis\"}],\"center\":[{\"id\":\"1852\",\"type\":\"Grid\"},{\"id\":\"1857\",\"type\":\"Grid\"}],\"left\":[{\"id\":\"1853\",\"type\":\"LinearAxis\"}],\"plot_height\":350,\"plot_width\":350,\"renderers\":[{\"id\":\"1896\",\"type\":\"GlyphRenderer\"},{\"id\":\"1921\",\"type\":\"GlyphRenderer\"}],\"title\":{\"id\":\"1898\",\"type\":\"Title\"},\"toolbar\":{\"id\":\"1864\",\"type\":\"Toolbar\"},\"toolbar_location\":null,\"x_range\":{\"id\":\"1840\",\"type\":\"DataRange1d\"},\"x_scale\":{\"id\":\"1844\",\"type\":\"LinearScale\"},\"y_range\":{\"id\":\"1842\",\"type\":\"DataRange1d\"},\"y_scale\":{\"id\":\"1846\",\"type\":\"LinearScale\"}},\"id\":\"1839\",\"subtype\":\"Figure\",\"type\":\"Plot\"},{\"attributes\":{},\"id\":\"1814\",\"type\":\"LinearScale\"},{\"attributes\":{},\"id\":\"1762\",\"type\":\"PanTool\"}],\"root_ids\":[\"1990\"]},\"title\":\"Bokeh Application\",\"version\":\"1.3.4\"}};\n",
       "  var render_items = [{\"docid\":\"ed809252-fe59-42b6-b0b9-284c853e1b7d\",\"notebook_comms_target\":\"2089\",\"roots\":{\"1990\":\"062cc998-f134-405b-9cd7-c396f1e30fd9\"}}];\n",
       "  root.Bokeh.embed.embed_items_notebook(docs_json, render_items);\n",
       "\n",
       "  }\n",
       "  if (root.Bokeh !== undefined) {\n",
       "    embed_document(root);\n",
       "  } else {\n",
       "    var attempts = 0;\n",
       "    var timer = setInterval(function(root) {\n",
       "      if (root.Bokeh !== undefined) {\n",
       "        embed_document(root);\n",
       "        clearInterval(timer);\n",
       "      }\n",
       "      attempts++;\n",
       "      if (attempts > 100) {\n",
       "        console.log(\"Bokeh: ERROR: Unable to run BokehJS code because BokehJS library is missing\");\n",
       "        clearInterval(timer);\n",
       "      }\n",
       "    }, 10, root)\n",
       "  }\n",
       "})(window);"
      ],
      "application/vnd.bokehjs_exec.v0+json": ""
     },
     "metadata": {
      "application/vnd.bokehjs_exec.v0+json": {
       "id": "1990"
      }
     },
     "output_type": "display_data"
    }
   ],
   "source": [
    "fields = ['sales', 'revenue', 'cost', 'profit']\n",
    "labels = {field: {'x': 'order qty', 'y': 'expected ' + field, 'title': field} for field in fields}\n",
    "ev_func = lambda n: news_plot.line_glyphs(n.exp_vals(), 'order qty')\n",
    "ev_sources, ev_plots = newsvendor.news_gridplot(news_plot.figures(fields, plot_width=350, plot_height=350), ev_func, news, labels=labels)\n",
    "circle_func = lambda n: news_plot.circle_markers(n.exp_vals([n.order_qty]))\n",
    "newsvendor.interact_gridplot({field: ev_plots[field] for field in fields}, circle_func, news, ncols=2)"
   ]
  }
 ],
 "metadata": {
  "kernelspec": {
   "display_name": "Python 3",
   "language": "python",
   "name": "python3"
  },
  "language_info": {
   "codemirror_mode": {
    "name": "ipython",
    "version": 3
   },
   "file_extension": ".py",
   "mimetype": "text/x-python",
   "name": "python",
   "nbconvert_exporter": "python",
   "pygments_lexer": "ipython3",
   "version": "3.7.4"
  }
 },
 "nbformat": 4,
 "nbformat_minor": 2
}

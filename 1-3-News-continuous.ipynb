{
 "cells": [
  {
   "cell_type": "markdown",
   "metadata": {},
   "source": [
    "# The Newsvendor Model - Section 3: Continuous Demand\n",
    "\n",
    "In Sections 1 and 2 we explored the basic ideas of the Newsvendor Problem through numerical simulation and mathematical analysis.  By the end of Section 2, you had derived formulas for the expected profit in terms of the order quantity for any retail price $p$, wholesale cost $c$, and demand distribution $D \\sim \\text{Uniform}\\{0,\\dots,d\\}$.\n",
    "\n",
    "Here we will show that this analysis extends to continuous demand distributions.  $D \\sim \\text{Exponential}(\\lambda)$.  We will derive everything analytically and use some Python at the end to help with visualizations.\n",
    "\n",
    "The cumulative distribution function (cdf) and probability density function (pdf) of this distribution are:\n",
    "\n",
    "$$ F(x) = \\mathsf{P}(D \\leq x) = 1 - e^{-\\lambda x} \\qquad f(x) = \\frac{d F(x)}{dx} = \\lambda e^{-\\lambda x} $$"
   ]
  },
  {
   "cell_type": "markdown",
   "metadata": {},
   "source": [
    "## Formulas\n",
    "\n",
    "You may have already noticed that the formulas for sales, revenue, cost, and profit you came up with back in Section 1 Exercise 1.3 hold true for any demand random variable $D$ that has a non-negative probability distribution:\n",
    "\n",
    "$$\\begin{aligned}\n",
    "    \\text{sales} &= \\min\\{y, D\\} \\\\\n",
    "    \\text{revenue} &= p \\min\\{y, D\\} \\\\\n",
    "    \\text{cost} &= c y \\\\\n",
    "    \\text{profit} &= p \\min\\{y, D\\} - c y\n",
    "  \\end{aligned} $$\n",
    "\n",
    "However, the formulas for the *expected* sales, revenue, and profit, will change depending on the demand distribution (and therefore, so will the optimal order quantity that maximizes expected profit)."
   ]
  },
  {
   "cell_type": "markdown",
   "metadata": {},
   "source": [
    "## Expected Sales\n",
    "\n",
    "Recall that our basic recipe consisted of the following:\n",
    "\n",
    "1. Find a formula for $\\mathsf{E}[\\text{profit}]$ as a function of order quantity $y$.\n",
    "1. Maximize $\\mathsf{E}[\\text{profit}]$ with respect to order quantity $y$.\n",
    "\n",
    "\n",
    "Finding a formula for expected profit as a function of order quantity is is really about finding a formula for expected sales, $\\mathsf{E}[\\text{sales}] = \\mathsf{E}[\\min\\{y, D\\}]$.  Since $\\mathsf{E}[\\text{profit}] = p \\mathsf{E}[\\text{sales}] - c y$.\n",
    "\n",
    "### Exercise 3.1\n",
    "\n",
    "Show that $\\displaystyle\\mathsf{E}[\\text{sales}] = \\frac{1}{\\lambda} \\left(1 - e^{-\\lambda y}\\right)$.\n",
    "\n",
    "*Hint:* The hint for Exercise 2.1 can be translated to a continuous distribution:\n",
    "$$\\begin{aligned}\n",
    "    \\mathsf{E}[\\text{sales}] = \\mathsf{E}[\\min\\{y, D\\}] &= \\int_0^\\infty \\min\\{y, x\\} f(x)\\ dx = \\int_0^y x f(x)\\ dx + \\int_y^\\infty y f(x)\\ dx\n",
    "  \\end{aligned}$$\n",
    "where $f(x)$ is the pdf of the distribution.  Remember to use [integration by parts](https://en.wikipedia.org/wiki/Integration_by_parts) to evaluate the first integral.\n",
    "\n",
    "### Exercise 3.2\n",
    "\n",
    "Show that the optimal order quantity (that maximizes expected profit) is given by the formula:\n",
    "\n",
    "$$ y^* = \\frac{1}{\\lambda} \\log\\left(\\frac{p}{c}\\right) $$\n",
    "\n",
    "### Exercise 3.3\n",
    "\n",
    "Derive a formula for the optimal order quantity assuming $D \\sim \\text{Uniform}[0,d]$.\n",
    "\n",
    "### Exercise 3.4\n",
    "\n",
    "Derive a formula for the optimal order quantity for **any** demand distribution that is continuous and non-negative.  Denote its cdf as $F(x)$ and its pdf as $f(x)$.\n",
    "\n",
    "To get a guess for the general formula, try rewriting the formulas you derived in Exercises 3.2 and 3.3 as $F(y^*) = \\dots$\n",
    "\n",
    "*Hints:* This simply combines [integration by parts](https://en.wikipedia.org/wiki/Integration_by_parts) with the [fundamental theorem of calculus](https://en.wikipedia.org/wiki/Fundamental_theorem_of_calculus).\n",
    "$$\\begin{aligned}\n",
    "    \\int_0^y x f(x) dx &= y F(y) - \\int_0^y F(x) dx \\\\\n",
    "    \\int_y^\\infty f(x) dx &= 1 - F(y) \\\\\n",
    "    \\frac{d}{dy} \\left(\\int_0^y F(x) dx\\right) &= F(y)\n",
    "  \\end{aligned}$$"
   ]
  },
  {
   "cell_type": "markdown",
   "metadata": {},
   "source": [
    "## Setup\n",
    "\n",
    "The following Python code imports the necessary Python packages and specifies the problem parameters for the remainder of this notebook.  You can change the parameters if you'd like and all the code should still work, but their output may be mismatched with the written text."
   ]
  },
  {
   "cell_type": "code",
   "execution_count": 1,
   "metadata": {},
   "outputs": [
    {
     "data": {
      "text/html": [
       "\n",
       "    <div class=\"bk-root\">\n",
       "        <a href=\"https://bokeh.pydata.org\" target=\"_blank\" class=\"bk-logo bk-logo-small bk-logo-notebook\"></a>\n",
       "        <span id=\"1001\">Loading BokehJS ...</span>\n",
       "    </div>"
      ]
     },
     "metadata": {},
     "output_type": "display_data"
    },
    {
     "data": {
      "application/javascript": [
       "\n",
       "(function(root) {\n",
       "  function now() {\n",
       "    return new Date();\n",
       "  }\n",
       "\n",
       "  var force = true;\n",
       "\n",
       "  if (typeof root._bokeh_onload_callbacks === \"undefined\" || force === true) {\n",
       "    root._bokeh_onload_callbacks = [];\n",
       "    root._bokeh_is_loading = undefined;\n",
       "  }\n",
       "\n",
       "  var JS_MIME_TYPE = 'application/javascript';\n",
       "  var HTML_MIME_TYPE = 'text/html';\n",
       "  var EXEC_MIME_TYPE = 'application/vnd.bokehjs_exec.v0+json';\n",
       "  var CLASS_NAME = 'output_bokeh rendered_html';\n",
       "\n",
       "  /**\n",
       "   * Render data to the DOM node\n",
       "   */\n",
       "  function render(props, node) {\n",
       "    var script = document.createElement(\"script\");\n",
       "    node.appendChild(script);\n",
       "  }\n",
       "\n",
       "  /**\n",
       "   * Handle when an output is cleared or removed\n",
       "   */\n",
       "  function handleClearOutput(event, handle) {\n",
       "    var cell = handle.cell;\n",
       "\n",
       "    var id = cell.output_area._bokeh_element_id;\n",
       "    var server_id = cell.output_area._bokeh_server_id;\n",
       "    // Clean up Bokeh references\n",
       "    if (id != null && id in Bokeh.index) {\n",
       "      Bokeh.index[id].model.document.clear();\n",
       "      delete Bokeh.index[id];\n",
       "    }\n",
       "\n",
       "    if (server_id !== undefined) {\n",
       "      // Clean up Bokeh references\n",
       "      var cmd = \"from bokeh.io.state import curstate; print(curstate().uuid_to_server['\" + server_id + \"'].get_sessions()[0].document.roots[0]._id)\";\n",
       "      cell.notebook.kernel.execute(cmd, {\n",
       "        iopub: {\n",
       "          output: function(msg) {\n",
       "            var id = msg.content.text.trim();\n",
       "            if (id in Bokeh.index) {\n",
       "              Bokeh.index[id].model.document.clear();\n",
       "              delete Bokeh.index[id];\n",
       "            }\n",
       "          }\n",
       "        }\n",
       "      });\n",
       "      // Destroy server and session\n",
       "      var cmd = \"import bokeh.io.notebook as ion; ion.destroy_server('\" + server_id + \"')\";\n",
       "      cell.notebook.kernel.execute(cmd);\n",
       "    }\n",
       "  }\n",
       "\n",
       "  /**\n",
       "   * Handle when a new output is added\n",
       "   */\n",
       "  function handleAddOutput(event, handle) {\n",
       "    var output_area = handle.output_area;\n",
       "    var output = handle.output;\n",
       "\n",
       "    // limit handleAddOutput to display_data with EXEC_MIME_TYPE content only\n",
       "    if ((output.output_type != \"display_data\") || (!output.data.hasOwnProperty(EXEC_MIME_TYPE))) {\n",
       "      return\n",
       "    }\n",
       "\n",
       "    var toinsert = output_area.element.find(\".\" + CLASS_NAME.split(' ')[0]);\n",
       "\n",
       "    if (output.metadata[EXEC_MIME_TYPE][\"id\"] !== undefined) {\n",
       "      toinsert[toinsert.length - 1].firstChild.textContent = output.data[JS_MIME_TYPE];\n",
       "      // store reference to embed id on output_area\n",
       "      output_area._bokeh_element_id = output.metadata[EXEC_MIME_TYPE][\"id\"];\n",
       "    }\n",
       "    if (output.metadata[EXEC_MIME_TYPE][\"server_id\"] !== undefined) {\n",
       "      var bk_div = document.createElement(\"div\");\n",
       "      bk_div.innerHTML = output.data[HTML_MIME_TYPE];\n",
       "      var script_attrs = bk_div.children[0].attributes;\n",
       "      for (var i = 0; i < script_attrs.length; i++) {\n",
       "        toinsert[toinsert.length - 1].firstChild.setAttribute(script_attrs[i].name, script_attrs[i].value);\n",
       "      }\n",
       "      // store reference to server id on output_area\n",
       "      output_area._bokeh_server_id = output.metadata[EXEC_MIME_TYPE][\"server_id\"];\n",
       "    }\n",
       "  }\n",
       "\n",
       "  function register_renderer(events, OutputArea) {\n",
       "\n",
       "    function append_mime(data, metadata, element) {\n",
       "      // create a DOM node to render to\n",
       "      var toinsert = this.create_output_subarea(\n",
       "        metadata,\n",
       "        CLASS_NAME,\n",
       "        EXEC_MIME_TYPE\n",
       "      );\n",
       "      this.keyboard_manager.register_events(toinsert);\n",
       "      // Render to node\n",
       "      var props = {data: data, metadata: metadata[EXEC_MIME_TYPE]};\n",
       "      render(props, toinsert[toinsert.length - 1]);\n",
       "      element.append(toinsert);\n",
       "      return toinsert\n",
       "    }\n",
       "\n",
       "    /* Handle when an output is cleared or removed */\n",
       "    events.on('clear_output.CodeCell', handleClearOutput);\n",
       "    events.on('delete.Cell', handleClearOutput);\n",
       "\n",
       "    /* Handle when a new output is added */\n",
       "    events.on('output_added.OutputArea', handleAddOutput);\n",
       "\n",
       "    /**\n",
       "     * Register the mime type and append_mime function with output_area\n",
       "     */\n",
       "    OutputArea.prototype.register_mime_type(EXEC_MIME_TYPE, append_mime, {\n",
       "      /* Is output safe? */\n",
       "      safe: true,\n",
       "      /* Index of renderer in `output_area.display_order` */\n",
       "      index: 0\n",
       "    });\n",
       "  }\n",
       "\n",
       "  // register the mime type if in Jupyter Notebook environment and previously unregistered\n",
       "  if (root.Jupyter !== undefined) {\n",
       "    var events = require('base/js/events');\n",
       "    var OutputArea = require('notebook/js/outputarea').OutputArea;\n",
       "\n",
       "    if (OutputArea.prototype.mime_types().indexOf(EXEC_MIME_TYPE) == -1) {\n",
       "      register_renderer(events, OutputArea);\n",
       "    }\n",
       "  }\n",
       "\n",
       "  \n",
       "  if (typeof (root._bokeh_timeout) === \"undefined\" || force === true) {\n",
       "    root._bokeh_timeout = Date.now() + 5000;\n",
       "    root._bokeh_failed_load = false;\n",
       "  }\n",
       "\n",
       "  var NB_LOAD_WARNING = {'data': {'text/html':\n",
       "     \"<div style='background-color: #fdd'>\\n\"+\n",
       "     \"<p>\\n\"+\n",
       "     \"BokehJS does not appear to have successfully loaded. If loading BokehJS from CDN, this \\n\"+\n",
       "     \"may be due to a slow or bad network connection. Possible fixes:\\n\"+\n",
       "     \"</p>\\n\"+\n",
       "     \"<ul>\\n\"+\n",
       "     \"<li>re-rerun `output_notebook()` to attempt to load from CDN again, or</li>\\n\"+\n",
       "     \"<li>use INLINE resources instead, as so:</li>\\n\"+\n",
       "     \"</ul>\\n\"+\n",
       "     \"<code>\\n\"+\n",
       "     \"from bokeh.resources import INLINE\\n\"+\n",
       "     \"output_notebook(resources=INLINE)\\n\"+\n",
       "     \"</code>\\n\"+\n",
       "     \"</div>\"}};\n",
       "\n",
       "  function display_loaded() {\n",
       "    var el = document.getElementById(\"1001\");\n",
       "    if (el != null) {\n",
       "      el.textContent = \"BokehJS is loading...\";\n",
       "    }\n",
       "    if (root.Bokeh !== undefined) {\n",
       "      if (el != null) {\n",
       "        el.textContent = \"BokehJS \" + root.Bokeh.version + \" successfully loaded.\";\n",
       "      }\n",
       "    } else if (Date.now() < root._bokeh_timeout) {\n",
       "      setTimeout(display_loaded, 100)\n",
       "    }\n",
       "  }\n",
       "\n",
       "\n",
       "  function run_callbacks() {\n",
       "    try {\n",
       "      root._bokeh_onload_callbacks.forEach(function(callback) {\n",
       "        if (callback != null)\n",
       "          callback();\n",
       "      });\n",
       "    } finally {\n",
       "      delete root._bokeh_onload_callbacks\n",
       "    }\n",
       "    console.debug(\"Bokeh: all callbacks have finished\");\n",
       "  }\n",
       "\n",
       "  function load_libs(css_urls, js_urls, callback) {\n",
       "    if (css_urls == null) css_urls = [];\n",
       "    if (js_urls == null) js_urls = [];\n",
       "\n",
       "    root._bokeh_onload_callbacks.push(callback);\n",
       "    if (root._bokeh_is_loading > 0) {\n",
       "      console.debug(\"Bokeh: BokehJS is being loaded, scheduling callback at\", now());\n",
       "      return null;\n",
       "    }\n",
       "    if (js_urls == null || js_urls.length === 0) {\n",
       "      run_callbacks();\n",
       "      return null;\n",
       "    }\n",
       "    console.debug(\"Bokeh: BokehJS not loaded, scheduling load and callback at\", now());\n",
       "    root._bokeh_is_loading = css_urls.length + js_urls.length;\n",
       "\n",
       "    function on_load() {\n",
       "      root._bokeh_is_loading--;\n",
       "      if (root._bokeh_is_loading === 0) {\n",
       "        console.debug(\"Bokeh: all BokehJS libraries/stylesheets loaded\");\n",
       "        run_callbacks()\n",
       "      }\n",
       "    }\n",
       "\n",
       "    function on_error() {\n",
       "      console.error(\"failed to load \" + url);\n",
       "    }\n",
       "\n",
       "    for (var i = 0; i < css_urls.length; i++) {\n",
       "      var url = css_urls[i];\n",
       "      const element = document.createElement(\"link\");\n",
       "      element.onload = on_load;\n",
       "      element.onerror = on_error;\n",
       "      element.rel = \"stylesheet\";\n",
       "      element.type = \"text/css\";\n",
       "      element.href = url;\n",
       "      console.debug(\"Bokeh: injecting link tag for BokehJS stylesheet: \", url);\n",
       "      document.body.appendChild(element);\n",
       "    }\n",
       "\n",
       "    for (var i = 0; i < js_urls.length; i++) {\n",
       "      var url = js_urls[i];\n",
       "      var element = document.createElement('script');\n",
       "      element.onload = on_load;\n",
       "      element.onerror = on_error;\n",
       "      element.async = false;\n",
       "      element.src = url;\n",
       "      console.debug(\"Bokeh: injecting script tag for BokehJS library: \", url);\n",
       "      document.head.appendChild(element);\n",
       "    }\n",
       "  };var element = document.getElementById(\"1001\");\n",
       "  if (element == null) {\n",
       "    console.error(\"Bokeh: ERROR: autoload.js configured with elementid '1001' but no matching script tag was found. \")\n",
       "    return false;\n",
       "  }\n",
       "\n",
       "  function inject_raw_css(css) {\n",
       "    const element = document.createElement(\"style\");\n",
       "    element.appendChild(document.createTextNode(css));\n",
       "    document.body.appendChild(element);\n",
       "  }\n",
       "\n",
       "  var js_urls = [\"https://cdn.pydata.org/bokeh/release/bokeh-1.3.4.min.js\", \"https://cdn.pydata.org/bokeh/release/bokeh-widgets-1.3.4.min.js\", \"https://cdn.pydata.org/bokeh/release/bokeh-tables-1.3.4.min.js\", \"https://cdn.pydata.org/bokeh/release/bokeh-gl-1.3.4.min.js\"];\n",
       "  var css_urls = [];\n",
       "\n",
       "  var inline_js = [\n",
       "    function(Bokeh) {\n",
       "      Bokeh.set_log_level(\"info\");\n",
       "    },\n",
       "    \n",
       "    function(Bokeh) {\n",
       "      \n",
       "    },\n",
       "    function(Bokeh) {} // ensure no trailing comma for IE\n",
       "  ];\n",
       "\n",
       "  function run_inline_js() {\n",
       "    \n",
       "    if ((root.Bokeh !== undefined) || (force === true)) {\n",
       "      for (var i = 0; i < inline_js.length; i++) {\n",
       "        inline_js[i].call(root, root.Bokeh);\n",
       "      }if (force === true) {\n",
       "        display_loaded();\n",
       "      }} else if (Date.now() < root._bokeh_timeout) {\n",
       "      setTimeout(run_inline_js, 100);\n",
       "    } else if (!root._bokeh_failed_load) {\n",
       "      console.log(\"Bokeh: BokehJS failed to load within specified timeout.\");\n",
       "      root._bokeh_failed_load = true;\n",
       "    } else if (force !== true) {\n",
       "      var cell = $(document.getElementById(\"1001\")).parents('.cell').data().cell;\n",
       "      cell.output_area.append_execute_result(NB_LOAD_WARNING)\n",
       "    }\n",
       "\n",
       "  }\n",
       "\n",
       "  if (root._bokeh_is_loading === 0) {\n",
       "    console.debug(\"Bokeh: BokehJS loaded, going straight to plotting\");\n",
       "    run_inline_js();\n",
       "  } else {\n",
       "    load_libs(css_urls, js_urls, function() {\n",
       "      console.debug(\"Bokeh: BokehJS plotting callback run at\", now());\n",
       "      run_inline_js();\n",
       "    });\n",
       "  }\n",
       "}(window));"
      ],
      "application/vnd.bokehjs_load.v0+json": "\n(function(root) {\n  function now() {\n    return new Date();\n  }\n\n  var force = true;\n\n  if (typeof root._bokeh_onload_callbacks === \"undefined\" || force === true) {\n    root._bokeh_onload_callbacks = [];\n    root._bokeh_is_loading = undefined;\n  }\n\n  \n\n  \n  if (typeof (root._bokeh_timeout) === \"undefined\" || force === true) {\n    root._bokeh_timeout = Date.now() + 5000;\n    root._bokeh_failed_load = false;\n  }\n\n  var NB_LOAD_WARNING = {'data': {'text/html':\n     \"<div style='background-color: #fdd'>\\n\"+\n     \"<p>\\n\"+\n     \"BokehJS does not appear to have successfully loaded. If loading BokehJS from CDN, this \\n\"+\n     \"may be due to a slow or bad network connection. Possible fixes:\\n\"+\n     \"</p>\\n\"+\n     \"<ul>\\n\"+\n     \"<li>re-rerun `output_notebook()` to attempt to load from CDN again, or</li>\\n\"+\n     \"<li>use INLINE resources instead, as so:</li>\\n\"+\n     \"</ul>\\n\"+\n     \"<code>\\n\"+\n     \"from bokeh.resources import INLINE\\n\"+\n     \"output_notebook(resources=INLINE)\\n\"+\n     \"</code>\\n\"+\n     \"</div>\"}};\n\n  function display_loaded() {\n    var el = document.getElementById(\"1001\");\n    if (el != null) {\n      el.textContent = \"BokehJS is loading...\";\n    }\n    if (root.Bokeh !== undefined) {\n      if (el != null) {\n        el.textContent = \"BokehJS \" + root.Bokeh.version + \" successfully loaded.\";\n      }\n    } else if (Date.now() < root._bokeh_timeout) {\n      setTimeout(display_loaded, 100)\n    }\n  }\n\n\n  function run_callbacks() {\n    try {\n      root._bokeh_onload_callbacks.forEach(function(callback) {\n        if (callback != null)\n          callback();\n      });\n    } finally {\n      delete root._bokeh_onload_callbacks\n    }\n    console.debug(\"Bokeh: all callbacks have finished\");\n  }\n\n  function load_libs(css_urls, js_urls, callback) {\n    if (css_urls == null) css_urls = [];\n    if (js_urls == null) js_urls = [];\n\n    root._bokeh_onload_callbacks.push(callback);\n    if (root._bokeh_is_loading > 0) {\n      console.debug(\"Bokeh: BokehJS is being loaded, scheduling callback at\", now());\n      return null;\n    }\n    if (js_urls == null || js_urls.length === 0) {\n      run_callbacks();\n      return null;\n    }\n    console.debug(\"Bokeh: BokehJS not loaded, scheduling load and callback at\", now());\n    root._bokeh_is_loading = css_urls.length + js_urls.length;\n\n    function on_load() {\n      root._bokeh_is_loading--;\n      if (root._bokeh_is_loading === 0) {\n        console.debug(\"Bokeh: all BokehJS libraries/stylesheets loaded\");\n        run_callbacks()\n      }\n    }\n\n    function on_error() {\n      console.error(\"failed to load \" + url);\n    }\n\n    for (var i = 0; i < css_urls.length; i++) {\n      var url = css_urls[i];\n      const element = document.createElement(\"link\");\n      element.onload = on_load;\n      element.onerror = on_error;\n      element.rel = \"stylesheet\";\n      element.type = \"text/css\";\n      element.href = url;\n      console.debug(\"Bokeh: injecting link tag for BokehJS stylesheet: \", url);\n      document.body.appendChild(element);\n    }\n\n    for (var i = 0; i < js_urls.length; i++) {\n      var url = js_urls[i];\n      var element = document.createElement('script');\n      element.onload = on_load;\n      element.onerror = on_error;\n      element.async = false;\n      element.src = url;\n      console.debug(\"Bokeh: injecting script tag for BokehJS library: \", url);\n      document.head.appendChild(element);\n    }\n  };var element = document.getElementById(\"1001\");\n  if (element == null) {\n    console.error(\"Bokeh: ERROR: autoload.js configured with elementid '1001' but no matching script tag was found. \")\n    return false;\n  }\n\n  function inject_raw_css(css) {\n    const element = document.createElement(\"style\");\n    element.appendChild(document.createTextNode(css));\n    document.body.appendChild(element);\n  }\n\n  var js_urls = [\"https://cdn.pydata.org/bokeh/release/bokeh-1.3.4.min.js\", \"https://cdn.pydata.org/bokeh/release/bokeh-widgets-1.3.4.min.js\", \"https://cdn.pydata.org/bokeh/release/bokeh-tables-1.3.4.min.js\", \"https://cdn.pydata.org/bokeh/release/bokeh-gl-1.3.4.min.js\"];\n  var css_urls = [];\n\n  var inline_js = [\n    function(Bokeh) {\n      Bokeh.set_log_level(\"info\");\n    },\n    \n    function(Bokeh) {\n      \n    },\n    function(Bokeh) {} // ensure no trailing comma for IE\n  ];\n\n  function run_inline_js() {\n    \n    if ((root.Bokeh !== undefined) || (force === true)) {\n      for (var i = 0; i < inline_js.length; i++) {\n        inline_js[i].call(root, root.Bokeh);\n      }if (force === true) {\n        display_loaded();\n      }} else if (Date.now() < root._bokeh_timeout) {\n      setTimeout(run_inline_js, 100);\n    } else if (!root._bokeh_failed_load) {\n      console.log(\"Bokeh: BokehJS failed to load within specified timeout.\");\n      root._bokeh_failed_load = true;\n    } else if (force !== true) {\n      var cell = $(document.getElementById(\"1001\")).parents('.cell').data().cell;\n      cell.output_area.append_execute_result(NB_LOAD_WARNING)\n    }\n\n  }\n\n  if (root._bokeh_is_loading === 0) {\n    console.debug(\"Bokeh: BokehJS loaded, going straight to plotting\");\n    run_inline_js();\n  } else {\n    load_libs(css_urls, js_urls, function() {\n      console.debug(\"Bokeh: BokehJS plotting callback run at\", now());\n      run_inline_js();\n    });\n  }\n}(window));"
     },
     "metadata": {},
     "output_type": "display_data"
    }
   ],
   "source": [
    "# Import Python packages\n",
    "import newsvendor\n",
    "import news_plot\n",
    "\n",
    "# Default exponential distribution has parameter lambda = 0.1\n",
    "# Default model parameters are wholesale_cost = 1, retail_price = 2.\n",
    "news = newsvendor.Newsvendor('exponential')\n",
    "\n",
    "# Simulate demand\n",
    "news.sim_data(num_days=365)"
   ]
  },
  {
   "cell_type": "code",
   "execution_count": 2,
   "metadata": {
    "scrolled": false
   },
   "outputs": [
    {
     "data": {
      "application/vnd.jupyter.widget-view+json": {
       "model_id": "9da7a4fc127f4a15863bbe9293d085ca",
       "version_major": 2,
       "version_minor": 0
      },
      "text/plain": [
       "interactive(children=(IntSlider(value=15, description='Order Qty', max=25), Output()), _dom_classes=('widget-i…"
      ]
     },
     "metadata": {},
     "output_type": "display_data"
    },
    {
     "data": {
      "text/html": [
       "\n",
       "\n",
       "\n",
       "\n",
       "\n",
       "\n",
       "  <div class=\"bk-root\" id=\"d6775e94-97fc-4405-858e-611b117dd8b0\" data-root-id=\"1168\"></div>\n"
      ]
     },
     "metadata": {},
     "output_type": "display_data"
    },
    {
     "data": {
      "application/javascript": [
       "(function(root) {\n",
       "  function embed_document(root) {\n",
       "    \n",
       "  var docs_json = {\"07108e62-2e10-4e35-a367-b87458256ecf\":{\"roots\":{\"references\":[{\"attributes\":{\"children\":[{\"id\":\"1167\",\"type\":\"ToolbarBox\"},{\"id\":\"1165\",\"type\":\"GridBox\"}]},\"id\":\"1168\",\"type\":\"Column\"},{\"attributes\":{},\"id\":\"1058\",\"type\":\"HelpTool\"},{\"attributes\":{\"callback\":null},\"id\":\"1005\",\"type\":\"DataRange1d\"},{\"attributes\":{\"active_drag\":\"auto\",\"active_inspect\":\"auto\",\"active_multi\":null,\"active_scroll\":\"auto\",\"active_tap\":\"auto\",\"tools\":[{\"id\":\"1053\",\"type\":\"PanTool\"},{\"id\":\"1054\",\"type\":\"WheelZoomTool\"},{\"id\":\"1055\",\"type\":\"BoxZoomTool\"},{\"id\":\"1056\",\"type\":\"SaveTool\"},{\"id\":\"1057\",\"type\":\"ResetTool\"},{\"id\":\"1058\",\"type\":\"HelpTool\"}]},\"id\":\"1059\",\"type\":\"Toolbar\"},{\"attributes\":{},\"id\":\"1073\",\"type\":\"LinearScale\"},{\"attributes\":{\"axis_label\":\"profit\",\"formatter\":{\"id\":\"1157\",\"type\":\"BasicTickFormatter\"},\"ticker\":{\"id\":\"1076\",\"type\":\"BasicTicker\"}},\"id\":\"1075\",\"type\":\"LinearAxis\"},{\"attributes\":{\"data_source\":{\"id\":\"1100\",\"type\":\"ColumnDataSource\"},\"glyph\":{\"id\":\"1101\",\"type\":\"VBar\"},\"hover_glyph\":null,\"muted_glyph\":null,\"view\":{\"id\":\"1116\",\"type\":\"CDSView\"}},\"id\":\"1115\",\"type\":\"GlyphRenderer\"},{\"attributes\":{},\"id\":\"1081\",\"type\":\"BasicTicker\"},{\"attributes\":{},\"id\":\"1076\",\"type\":\"BasicTicker\"},{\"attributes\":{\"fill_color\":{\"value\":\"blue\"},\"top\":{\"field\":\"top\"},\"width\":{\"value\":0.3609518072289157},\"x\":{\"field\":\"x\"}},\"id\":\"1111\",\"type\":\"VBar\"},{\"attributes\":{\"ticker\":{\"id\":\"1076\",\"type\":\"BasicTicker\"}},\"id\":\"1079\",\"type\":\"Grid\"},{\"attributes\":{\"dimension\":1,\"ticker\":{\"id\":\"1081\",\"type\":\"BasicTicker\"}},\"id\":\"1084\",\"type\":\"Grid\"},{\"attributes\":{\"callback\":null},\"id\":\"1003\",\"type\":\"DataRange1d\"},{\"attributes\":{\"axis_label\":\"count\",\"formatter\":{\"id\":\"1159\",\"type\":\"BasicTickFormatter\"},\"ticker\":{\"id\":\"1081\",\"type\":\"BasicTicker\"}},\"id\":\"1080\",\"type\":\"LinearAxis\"},{\"attributes\":{\"source\":{\"id\":\"1098\",\"type\":\"ColumnDataSource\"}},\"id\":\"1113\",\"type\":\"CDSView\"},{\"attributes\":{\"fill_color\":{\"value\":\"blue\"},\"top\":{\"field\":\"top\"},\"width\":{\"value\":0.9947072289156628},\"x\":{\"field\":\"x\"}},\"id\":\"1099\",\"type\":\"VBar\"},{\"attributes\":{\"active_drag\":\"auto\",\"active_inspect\":\"auto\",\"active_multi\":null,\"active_scroll\":\"auto\",\"active_tap\":\"auto\",\"tools\":[{\"id\":\"1085\",\"type\":\"PanTool\"},{\"id\":\"1086\",\"type\":\"WheelZoomTool\"},{\"id\":\"1087\",\"type\":\"BoxZoomTool\"},{\"id\":\"1088\",\"type\":\"SaveTool\"},{\"id\":\"1089\",\"type\":\"ResetTool\"},{\"id\":\"1090\",\"type\":\"HelpTool\"}]},\"id\":\"1091\",\"type\":\"Toolbar\"},{\"attributes\":{},\"id\":\"1137\",\"type\":\"BasicTickFormatter\"},{\"attributes\":{},\"id\":\"1085\",\"type\":\"PanTool\"},{\"attributes\":{\"bottom_units\":\"screen\",\"fill_alpha\":{\"value\":0.5},\"fill_color\":{\"value\":\"lightgrey\"},\"left_units\":\"screen\",\"level\":\"overlay\",\"line_alpha\":{\"value\":1.0},\"line_color\":{\"value\":\"black\"},\"line_dash\":[4,4],\"line_width\":{\"value\":2},\"render_mode\":\"css\",\"right_units\":\"screen\",\"top_units\":\"screen\"},\"id\":\"1163\",\"type\":\"BoxAnnotation\"},{\"attributes\":{\"text\":\"sales histogram\"},\"id\":\"1117\",\"type\":\"Title\"},{\"attributes\":{},\"id\":\"1086\",\"type\":\"WheelZoomTool\"},{\"attributes\":{\"text\":\"demand histogram\"},\"id\":\"1114\",\"type\":\"Title\"},{\"attributes\":{\"below\":[{\"id\":\"1043\",\"type\":\"LinearAxis\"}],\"center\":[{\"id\":\"1047\",\"type\":\"Grid\"},{\"id\":\"1052\",\"type\":\"Grid\"}],\"left\":[{\"id\":\"1048\",\"type\":\"LinearAxis\"}],\"plot_height\":300,\"plot_width\":300,\"renderers\":[{\"id\":\"1115\",\"type\":\"GlyphRenderer\"}],\"title\":{\"id\":\"1117\",\"type\":\"Title\"},\"toolbar\":{\"id\":\"1059\",\"type\":\"Toolbar\"},\"toolbar_location\":null,\"x_range\":{\"id\":\"1035\",\"type\":\"DataRange1d\"},\"x_scale\":{\"id\":\"1039\",\"type\":\"LinearScale\"},\"y_range\":{\"id\":\"1037\",\"type\":\"DataRange1d\"},\"y_scale\":{\"id\":\"1041\",\"type\":\"LinearScale\"}},\"id\":\"1034\",\"subtype\":\"Figure\",\"type\":\"Plot\"},{\"attributes\":{\"overlay\":{\"id\":\"1163\",\"type\":\"BoxAnnotation\"}},\"id\":\"1087\",\"type\":\"BoxZoomTool\"},{\"attributes\":{\"tools\":[{\"id\":\"1021\",\"type\":\"PanTool\"},{\"id\":\"1022\",\"type\":\"WheelZoomTool\"},{\"id\":\"1023\",\"type\":\"BoxZoomTool\"},{\"id\":\"1024\",\"type\":\"SaveTool\"},{\"id\":\"1025\",\"type\":\"ResetTool\"},{\"id\":\"1026\",\"type\":\"HelpTool\"},{\"id\":\"1053\",\"type\":\"PanTool\"},{\"id\":\"1054\",\"type\":\"WheelZoomTool\"},{\"id\":\"1055\",\"type\":\"BoxZoomTool\"},{\"id\":\"1056\",\"type\":\"SaveTool\"},{\"id\":\"1057\",\"type\":\"ResetTool\"},{\"id\":\"1058\",\"type\":\"HelpTool\"},{\"id\":\"1085\",\"type\":\"PanTool\"},{\"id\":\"1086\",\"type\":\"WheelZoomTool\"},{\"id\":\"1087\",\"type\":\"BoxZoomTool\"},{\"id\":\"1088\",\"type\":\"SaveTool\"},{\"id\":\"1089\",\"type\":\"ResetTool\"},{\"id\":\"1090\",\"type\":\"HelpTool\"}]},\"id\":\"1166\",\"type\":\"ProxyToolbar\"},{\"attributes\":{},\"id\":\"1088\",\"type\":\"SaveTool\"},{\"attributes\":{},\"id\":\"1089\",\"type\":\"ResetTool\"},{\"attributes\":{},\"id\":\"1090\",\"type\":\"HelpTool\"},{\"attributes\":{\"data_source\":{\"id\":\"1110\",\"type\":\"ColumnDataSource\"},\"glyph\":{\"id\":\"1111\",\"type\":\"VBar\"},\"hover_glyph\":null,\"muted_glyph\":null,\"view\":{\"id\":\"1119\",\"type\":\"CDSView\"}},\"id\":\"1118\",\"type\":\"GlyphRenderer\"},{\"attributes\":{\"callback\":null,\"data\":{\"top\":[7,8,5,8,8,3,7,6,5,9,5,5,6,4,1,1,0,3,6,4,6,7,3,6,4,4,1,3,3,4,6,5,0,4,1,2,2,5,2,2,0,2,3,2,4,6,2,1,4,5,1,3,4,3,2,1,3,2,1,2,2,5,4,2,0,2,2,2,1,0,2,1,9,3,1,3,0,2,1,0,2,3,96],\"x\":{\"__ndarray__\":\"9P3UeOmGLcBmZmZmZsYswOj7qfHSDSzAaJHtfD9VK8DqJjEIrJwqwGq8dJMY5CnAJQaBlUMrKcCmm8QgsHIowCcxCKwcuifAqMZLN4kBJ8ApXI/C9UgmwOSlm8QgkCXAZDvfT43XJMDm0CLb+R4kwGZmZmZmZiPA6Pup8dKtIsBoke18P/UhwOomMQisPCHApHA9CteDIMBKDAIrh5YfwEw3iUFgJR7ATmIQWDm0HMBQjZduEkMbwMQgsHJo0RnAxks3iUFgGMDIdr6fGu8WwMqhRbbzfRXAzMzMzMwMFMDP91PjpZsSwNEi2/l+KhHAi2zn+6lxD8CQwvUoXI8MwJQYBFYOrQnAmG4Sg8DKBsCcxCCwcugDwIXrUbgeBQHAEoPAyqFF/L8aL90kBoH2vyPb+X5qvPC/Vg4tsp3v5b/NzMzMzMzUv5QYBFYOLaI/xks3iUFg2T/TTWIQWDnoP+J6FK5H4fE/2c73U+Ol9z/RItv5fmr9P39qvHSTmAFAexSuR+F6BEB3vp8aL10HQHJoke18PwpAbhKDwMohDUA2XrpJDAIQQDQzMzMzcxFAvp8aL93kEkC8dJMYBFYUQLpJDAIrxxVAuB6F61E4F0C28/3UeKkYQEJg5dAiGxpAQDVeukmMG0A+CtejcP0cQDzfT42Xbh5AObTIdr7fH0CcxCCwcqggQBov3SQGYSFAYOXQItsZIkDfT42XbtIiQF66SQwCiyNA3SQGgZVDJEBcj8L1KPwkQKJFtvP9tCVAIbByaJFtJkCgGi/dJCYnQB+F61G43idAnu+nxkuXKEAdWmQ7308pQJzEILByCCpA4XoUrkfBKkBg5dAi23krQN9PjZduMixAXrpJDALrLEDdJAaBlaMtQA==\",\"dtype\":\"float64\",\"shape\":[83]}},\"selected\":{\"id\":\"1161\",\"type\":\"Selection\"},\"selection_policy\":{\"id\":\"1162\",\"type\":\"UnionRenderers\"}},\"id\":\"1110\",\"type\":\"ColumnDataSource\"},{\"attributes\":{\"text\":\"profit histogram\"},\"id\":\"1120\",\"type\":\"Title\"},{\"attributes\":{\"source\":{\"id\":\"1110\",\"type\":\"ColumnDataSource\"}},\"id\":\"1119\",\"type\":\"CDSView\"},{\"attributes\":{\"source\":{\"id\":\"1100\",\"type\":\"ColumnDataSource\"}},\"id\":\"1116\",\"type\":\"CDSView\"},{\"attributes\":{\"data_source\":{\"id\":\"1098\",\"type\":\"ColumnDataSource\"},\"glyph\":{\"id\":\"1099\",\"type\":\"VBar\"},\"hover_glyph\":null,\"muted_glyph\":null,\"view\":{\"id\":\"1113\",\"type\":\"CDSView\"}},\"id\":\"1112\",\"type\":\"GlyphRenderer\"},{\"attributes\":{\"callback\":null,\"data\":{\"top\":[37,34,17,26,21,18,14,11,22,13,11,13,8,16,9,10,10,4,7,6,7,4,2,2,4,2,7,2,4,0,2,4,2,2,3,2,0,0,0,1,0,1,0,0,1,0,0,1,0,0,0,1,0,0,2,0,0,0,0,0,1,0,0,0,0,0,0,0,0,0,0,0,0,0,0,0,0,0,0,0,0,0,1],\"x\":{\"__ndarray__\":\"1xLyQc9m3z/RItv5fmr4Pylcj8L1KARA6iYxCKwcDEBI4XoUrgcSQBov3SQGARZAexSuR+H6GUBOYhBYOfQdQBBYObTI9iBAwMqhRbbzIkBxPQrXo/AkQFpkO99P7SZARIts5/vpKED0/dR46eYqQN4kBoGV4yxAx0s3iUHgLkA730+Nl24wQLByaJHtbDFAJQaBlUNrMkB9PzVeumkzQNV46SYxaDRASgwCK4dmNUC+nxov3WQ2QBbZzvdTYzdAjGzn+6lhOEAAAAAAAGA5QFg5tMh2XjpAzczMzMxcO0BCYOXQIls8QJqZmZmZWT1A8tJNYhBYPkBmZmZmZlY/QO58PzVeKkBAmpmZmZmpQEBU46WbxChBQA4tsp3vp0FAukkMAisnQkBmZmZmZqZCQCCwcmiRJUNA2/l+arykQ0CHFtnO9yNEQEJg5dAio0RA/Knx0k0iRUCoxks3iaFFQGIQWDm0IEZAHVpkO9+fRkDJdr6fGh9HQHWTGARWnkdAL90kBoEdSEDpJjEIrJxIQJZDi2znG0lAUI2XbhKbSUAK16NwPRpKQLbz/dR4mUpAYhBYObQYS0AcWmQ735dLQNejcD0KF0xAg8DKoUWWTEA+CtejcBVNQPhT46WblE1ApHA9CtcTTkBeukkMApNOQBkEVg4tEk9AxSCwcmiRT0C4HoXrUQhQQJZDi2znR1BAc2iR7XyHUEDJdr6fGsdQQKabxCCwBlFAg8DKoUVGUUDZzvdT44VRQC/dJAaBxVFADAIrhxYFUkDpJjEIrERSQD81XrpJhFJAHFpkO9/DUkD6fmq8dANTQFCNl24SQ1NALbKd76eCU0AK16NwPcJTQGDl0CLbAVRAtvP91HhBVECUGARWDoFUQA==\",\"dtype\":\"float64\",\"shape\":[83]}},\"selected\":{\"id\":\"1141\",\"type\":\"Selection\"},\"selection_policy\":{\"id\":\"1142\",\"type\":\"UnionRenderers\"}},\"id\":\"1098\",\"type\":\"ColumnDataSource\"},{\"attributes\":{\"below\":[{\"id\":\"1011\",\"type\":\"LinearAxis\"}],\"center\":[{\"id\":\"1015\",\"type\":\"Grid\"},{\"id\":\"1020\",\"type\":\"Grid\"}],\"left\":[{\"id\":\"1016\",\"type\":\"LinearAxis\"}],\"plot_height\":300,\"plot_width\":300,\"renderers\":[{\"id\":\"1112\",\"type\":\"GlyphRenderer\"}],\"title\":{\"id\":\"1114\",\"type\":\"Title\"},\"toolbar\":{\"id\":\"1027\",\"type\":\"Toolbar\"},\"toolbar_location\":null,\"x_range\":{\"id\":\"1003\",\"type\":\"DataRange1d\"},\"x_scale\":{\"id\":\"1007\",\"type\":\"LinearScale\"},\"y_range\":{\"id\":\"1005\",\"type\":\"DataRange1d\"},\"y_scale\":{\"id\":\"1009\",\"type\":\"LinearScale\"}},\"id\":\"1002\",\"subtype\":\"Figure\",\"type\":\"Plot\"},{\"attributes\":{},\"id\":\"1149\",\"type\":\"BasicTickFormatter\"},{\"attributes\":{\"fill_color\":{\"value\":\"blue\"},\"top\":{\"field\":\"top\"},\"width\":{\"value\":0.1804843373493976},\"x\":{\"field\":\"x\"}},\"id\":\"1101\",\"type\":\"VBar\"},{\"attributes\":{},\"id\":\"1151\",\"type\":\"Selection\"},{\"attributes\":{},\"id\":\"1017\",\"type\":\"BasicTicker\"},{\"attributes\":{},\"id\":\"1147\",\"type\":\"BasicTickFormatter\"},{\"attributes\":{\"active_drag\":\"auto\",\"active_inspect\":\"auto\",\"active_multi\":null,\"active_scroll\":\"auto\",\"active_tap\":\"auto\",\"tools\":[{\"id\":\"1021\",\"type\":\"PanTool\"},{\"id\":\"1022\",\"type\":\"WheelZoomTool\"},{\"id\":\"1023\",\"type\":\"BoxZoomTool\"},{\"id\":\"1024\",\"type\":\"SaveTool\"},{\"id\":\"1025\",\"type\":\"ResetTool\"},{\"id\":\"1026\",\"type\":\"HelpTool\"}]},\"id\":\"1027\",\"type\":\"Toolbar\"},{\"attributes\":{\"dimension\":1,\"ticker\":{\"id\":\"1017\",\"type\":\"BasicTicker\"}},\"id\":\"1020\",\"type\":\"Grid\"},{\"attributes\":{\"axis_label\":\"count\",\"formatter\":{\"id\":\"1139\",\"type\":\"BasicTickFormatter\"},\"ticker\":{\"id\":\"1017\",\"type\":\"BasicTicker\"}},\"id\":\"1016\",\"type\":\"LinearAxis\"},{\"attributes\":{},\"id\":\"1162\",\"type\":\"UnionRenderers\"},{\"attributes\":{},\"id\":\"1039\",\"type\":\"LinearScale\"},{\"attributes\":{\"callback\":null},\"id\":\"1035\",\"type\":\"DataRange1d\"},{\"attributes\":{\"callback\":null},\"id\":\"1037\",\"type\":\"DataRange1d\"},{\"attributes\":{},\"id\":\"1071\",\"type\":\"LinearScale\"},{\"attributes\":{},\"id\":\"1021\",\"type\":\"PanTool\"},{\"attributes\":{\"bottom_units\":\"screen\",\"fill_alpha\":{\"value\":0.5},\"fill_color\":{\"value\":\"lightgrey\"},\"left_units\":\"screen\",\"level\":\"overlay\",\"line_alpha\":{\"value\":1.0},\"line_color\":{\"value\":\"black\"},\"line_dash\":[4,4],\"line_width\":{\"value\":2},\"render_mode\":\"css\",\"right_units\":\"screen\",\"top_units\":\"screen\"},\"id\":\"1153\",\"type\":\"BoxAnnotation\"},{\"attributes\":{},\"id\":\"1142\",\"type\":\"UnionRenderers\"},{\"attributes\":{},\"id\":\"1022\",\"type\":\"WheelZoomTool\"},{\"attributes\":{\"overlay\":{\"id\":\"1143\",\"type\":\"BoxAnnotation\"}},\"id\":\"1023\",\"type\":\"BoxZoomTool\"},{\"attributes\":{\"callback\":null,\"data\":{\"top\":[7,8,5,8,8,3,7,6,5,9,5,5,6,4,1,1,0,3,6,4,6,7,3,6,4,4,1,3,3,4,6,5,0,4,1,2,2,5,2,2,0,2,3,2,4,6,2,1,4,5,1,3,4,3,2,1,3,2,1,2,2,5,4,2,0,2,2,2,1,0,2,1,9,3,1,3,0,2,1,0,2,3,96],\"x\":{\"__ndarray__\":\"WMoyxLEuvj8v3SQGgZXTP4lBYOXQIt8/8tJNYhBY5T+0yHa+nxrrP3E9CtejcPA/iBbZzvdT8z9oke18PzX2P0oMAiuHFvk/YOXQItv5+z93vp8aL93+P6wcWmQ73wBAN4lBYOVQAkDC9Shcj8IDQDQzMzMzMwVApHA9CtejBkAv3SQGgRUIQLpJDAIrhwlAK4cW2c73CkC28/3UeGkMQEJg5dAi2w1Asp3vp8ZLD0CS7Xw/NV4QQNijcD0KFxFAHVpkO9/PEUDVeOkmMYgSQBov3SQGQRNAYOXQItv5E0AYBFYOLbIUQF66SQwCaxVApHA9CtcjFkBcj8L1KNwWQBSuR+F6lBdAWmQ7309NGECgGi/dJAYZQFg5tMh2vhlAnu+nxkt3GkDjpZvEIDAbQJzEILBy6BtAVOOlm8SgHECamZmZmVkdQN9PjZduEh5AmG4Sg8DKHkDeJAaBlYMfQJHtfD81HiBA7nw/NV56IEBKDAIrh9YgQGzn+6nxMiFAj8L1KFyPIUDsUbgeheshQA4tsp3vRyJAMQisHFqkIkCNl24SgwAjQLByaJHtXCNA001iEFi5I0Av3SQGgRUkQIts5/upcSRArkfhehTOJEDRItv5fiolQC2yne+nhiVAUI2XbhLjJUBzaJHtfD8mQM/3U+OlmyZAK4cW2c73JkBOYhBYOVQnQHE9CtejsCdAzczMzMwMKEDwp8ZLN2koQBKDwMqhxShAbxKDwMohKUDLoUW2830pQO58PzVe2ilAEFg5tMg2KkBs5/up8ZIqQJDC9Shc7ypAsp3vp8ZLK0AOLbKd76crQDEIrBxaBCxAVOOlm8RgLECwcmiR7bwsQAwCK4cWGS1AL90kBoF1LUBSuB6F69EtQA==\",\"dtype\":\"float64\",\"shape\":[83]}},\"selected\":{\"id\":\"1151\",\"type\":\"Selection\"},\"selection_policy\":{\"id\":\"1152\",\"type\":\"UnionRenderers\"}},\"id\":\"1100\",\"type\":\"ColumnDataSource\"},{\"attributes\":{},\"id\":\"1024\",\"type\":\"SaveTool\"},{\"attributes\":{\"bottom_units\":\"screen\",\"fill_alpha\":{\"value\":0.5},\"fill_color\":{\"value\":\"lightgrey\"},\"left_units\":\"screen\",\"level\":\"overlay\",\"line_alpha\":{\"value\":1.0},\"line_color\":{\"value\":\"black\"},\"line_dash\":[4,4],\"line_width\":{\"value\":2},\"render_mode\":\"css\",\"right_units\":\"screen\",\"top_units\":\"screen\"},\"id\":\"1143\",\"type\":\"BoxAnnotation\"},{\"attributes\":{},\"id\":\"1025\",\"type\":\"ResetTool\"},{\"attributes\":{},\"id\":\"1026\",\"type\":\"HelpTool\"},{\"attributes\":{},\"id\":\"1159\",\"type\":\"BasicTickFormatter\"},{\"attributes\":{},\"id\":\"1041\",\"type\":\"LinearScale\"},{\"attributes\":{\"axis_label\":\"sales\",\"formatter\":{\"id\":\"1147\",\"type\":\"BasicTickFormatter\"},\"ticker\":{\"id\":\"1044\",\"type\":\"BasicTicker\"}},\"id\":\"1043\",\"type\":\"LinearAxis\"},{\"attributes\":{},\"id\":\"1161\",\"type\":\"Selection\"},{\"attributes\":{},\"id\":\"1049\",\"type\":\"BasicTicker\"},{\"attributes\":{\"toolbar\":{\"id\":\"1166\",\"type\":\"ProxyToolbar\"},\"toolbar_location\":\"above\"},\"id\":\"1167\",\"type\":\"ToolbarBox\"},{\"attributes\":{},\"id\":\"1044\",\"type\":\"BasicTicker\"},{\"attributes\":{\"ticker\":{\"id\":\"1044\",\"type\":\"BasicTicker\"}},\"id\":\"1047\",\"type\":\"Grid\"},{\"attributes\":{\"callback\":null},\"id\":\"1069\",\"type\":\"DataRange1d\"},{\"attributes\":{\"dimension\":1,\"ticker\":{\"id\":\"1049\",\"type\":\"BasicTicker\"}},\"id\":\"1052\",\"type\":\"Grid\"},{\"attributes\":{\"axis_label\":\"count\",\"formatter\":{\"id\":\"1149\",\"type\":\"BasicTickFormatter\"},\"ticker\":{\"id\":\"1049\",\"type\":\"BasicTicker\"}},\"id\":\"1048\",\"type\":\"LinearAxis\"},{\"attributes\":{\"callback\":null},\"id\":\"1067\",\"type\":\"DataRange1d\"},{\"attributes\":{\"children\":[[{\"id\":\"1002\",\"subtype\":\"Figure\",\"type\":\"Plot\"},0,0],[{\"id\":\"1034\",\"subtype\":\"Figure\",\"type\":\"Plot\"},0,1],[{\"id\":\"1066\",\"subtype\":\"Figure\",\"type\":\"Plot\"},0,2]]},\"id\":\"1165\",\"type\":\"GridBox\"},{\"attributes\":{},\"id\":\"1157\",\"type\":\"BasicTickFormatter\"},{\"attributes\":{},\"id\":\"1141\",\"type\":\"Selection\"},{\"attributes\":{\"below\":[{\"id\":\"1075\",\"type\":\"LinearAxis\"}],\"center\":[{\"id\":\"1079\",\"type\":\"Grid\"},{\"id\":\"1084\",\"type\":\"Grid\"}],\"left\":[{\"id\":\"1080\",\"type\":\"LinearAxis\"}],\"plot_height\":300,\"plot_width\":300,\"renderers\":[{\"id\":\"1118\",\"type\":\"GlyphRenderer\"}],\"title\":{\"id\":\"1120\",\"type\":\"Title\"},\"toolbar\":{\"id\":\"1091\",\"type\":\"Toolbar\"},\"toolbar_location\":null,\"x_range\":{\"id\":\"1067\",\"type\":\"DataRange1d\"},\"x_scale\":{\"id\":\"1071\",\"type\":\"LinearScale\"},\"y_range\":{\"id\":\"1069\",\"type\":\"DataRange1d\"},\"y_scale\":{\"id\":\"1073\",\"type\":\"LinearScale\"}},\"id\":\"1066\",\"subtype\":\"Figure\",\"type\":\"Plot\"},{\"attributes\":{},\"id\":\"1007\",\"type\":\"LinearScale\"},{\"attributes\":{},\"id\":\"1152\",\"type\":\"UnionRenderers\"},{\"attributes\":{},\"id\":\"1053\",\"type\":\"PanTool\"},{\"attributes\":{},\"id\":\"1054\",\"type\":\"WheelZoomTool\"},{\"attributes\":{},\"id\":\"1139\",\"type\":\"BasicTickFormatter\"},{\"attributes\":{},\"id\":\"1009\",\"type\":\"LinearScale\"},{\"attributes\":{\"overlay\":{\"id\":\"1153\",\"type\":\"BoxAnnotation\"}},\"id\":\"1055\",\"type\":\"BoxZoomTool\"},{\"attributes\":{\"axis_label\":\"demand\",\"formatter\":{\"id\":\"1137\",\"type\":\"BasicTickFormatter\"},\"ticker\":{\"id\":\"1012\",\"type\":\"BasicTicker\"}},\"id\":\"1011\",\"type\":\"LinearAxis\"},{\"attributes\":{},\"id\":\"1056\",\"type\":\"SaveTool\"},{\"attributes\":{},\"id\":\"1012\",\"type\":\"BasicTicker\"},{\"attributes\":{},\"id\":\"1057\",\"type\":\"ResetTool\"},{\"attributes\":{\"ticker\":{\"id\":\"1012\",\"type\":\"BasicTicker\"}},\"id\":\"1015\",\"type\":\"Grid\"}],\"root_ids\":[\"1168\"]},\"title\":\"Bokeh Application\",\"version\":\"1.3.4\"}};\n",
       "  var render_items = [{\"docid\":\"07108e62-2e10-4e35-a367-b87458256ecf\",\"notebook_comms_target\":\"1196\",\"roots\":{\"1168\":\"d6775e94-97fc-4405-858e-611b117dd8b0\"}}];\n",
       "  root.Bokeh.embed.embed_items_notebook(docs_json, render_items);\n",
       "\n",
       "  }\n",
       "  if (root.Bokeh !== undefined) {\n",
       "    embed_document(root);\n",
       "  } else {\n",
       "    var attempts = 0;\n",
       "    var timer = setInterval(function(root) {\n",
       "      if (root.Bokeh !== undefined) {\n",
       "        embed_document(root);\n",
       "        clearInterval(timer);\n",
       "      }\n",
       "      attempts++;\n",
       "      if (attempts > 100) {\n",
       "        console.log(\"Bokeh: ERROR: Unable to run BokehJS code because BokehJS library is missing\");\n",
       "        clearInterval(timer);\n",
       "      }\n",
       "    }, 10, root)\n",
       "  }\n",
       "})(window);"
      ],
      "application/vnd.bokehjs_exec.v0+json": ""
     },
     "metadata": {
      "application/vnd.bokehjs_exec.v0+json": {
       "id": "1168"
      }
     },
     "output_type": "display_data"
    }
   ],
   "source": [
    "bins = int(max(news.data['demand'])-min(news.data['demand'])+1)\n",
    "fields = ['demand', 'sales', 'profit']\n",
    "hist_func = lambda n: news_plot.hist_glyphs(news.data, bins=bins)\n",
    "labels = {field: {'x': field, 'y': 'count', 'title': field + ' histogram'} for field in fields}\n",
    "newsvendor.interact_gridplot(news_plot.figures(fields), hist_func, news, labels=labels)"
   ]
  },
  {
   "cell_type": "code",
   "execution_count": 3,
   "metadata": {},
   "outputs": [
    {
     "data": {
      "application/vnd.jupyter.widget-view+json": {
       "model_id": "b75091238715437796ddb6dd0a100387",
       "version_major": 2,
       "version_minor": 0
      },
      "text/plain": [
       "interactive(children=(IntSlider(value=15, description='Order Qty', max=25), Output()), _dom_classes=('widget-i…"
      ]
     },
     "metadata": {},
     "output_type": "display_data"
    },
    {
     "data": {
      "text/html": [
       "\n",
       "\n",
       "\n",
       "\n",
       "\n",
       "\n",
       "  <div class=\"bk-root\" id=\"15d3026e-0e00-4f16-beb5-bc03012e9dfa\" data-root-id=\"1525\"></div>\n"
      ]
     },
     "metadata": {},
     "output_type": "display_data"
    },
    {
     "data": {
      "application/javascript": [
       "(function(root) {\n",
       "  function embed_document(root) {\n",
       "    \n",
       "  var docs_json = {\"a5d1fdf1-be81-4bf7-ae6b-cd073817565d\":{\"roots\":{\"references\":[{\"attributes\":{\"children\":[{\"id\":\"1524\",\"type\":\"ToolbarBox\"},{\"id\":\"1522\",\"type\":\"GridBox\"}]},\"id\":\"1525\",\"type\":\"Column\"},{\"attributes\":{\"source\":{\"id\":\"1467\",\"type\":\"ColumnDataSource\"}},\"id\":\"1476\",\"type\":\"CDSView\"},{\"attributes\":{\"bottom_units\":\"screen\",\"fill_alpha\":{\"value\":0.5},\"fill_color\":{\"value\":\"lightgrey\"},\"left_units\":\"screen\",\"level\":\"overlay\",\"line_alpha\":{\"value\":1.0},\"line_color\":{\"value\":\"black\"},\"line_dash\":[4,4],\"line_width\":{\"value\":2},\"render_mode\":\"css\",\"right_units\":\"screen\",\"top_units\":\"screen\"},\"id\":\"1520\",\"type\":\"BoxAnnotation\"},{\"attributes\":{},\"id\":\"1508\",\"type\":\"Selection\"},{\"attributes\":{\"axis_label\":\"demand\",\"formatter\":{\"id\":\"1514\",\"type\":\"BasicTickFormatter\"},\"ticker\":{\"id\":\"1433\",\"type\":\"BasicTicker\"}},\"id\":\"1432\",\"type\":\"LinearAxis\"},{\"attributes\":{\"text\":\"sales\"},\"id\":\"1471\",\"type\":\"Title\"},{\"attributes\":{\"toolbar\":{\"id\":\"1523\",\"type\":\"ProxyToolbar\"},\"toolbar_location\":\"above\"},\"id\":\"1524\",\"type\":\"ToolbarBox\"},{\"attributes\":{\"source\":{\"id\":\"1463\",\"type\":\"ColumnDataSource\"}},\"id\":\"1473\",\"type\":\"CDSView\"},{\"attributes\":{\"data_source\":{\"id\":\"1467\",\"type\":\"ColumnDataSource\"},\"glyph\":{\"id\":\"1468\",\"type\":\"Circle\"},\"hover_glyph\":null,\"muted_glyph\":null,\"view\":{\"id\":\"1476\",\"type\":\"CDSView\"}},\"id\":\"1475\",\"type\":\"GlyphRenderer\"},{\"attributes\":{\"text\":\"revenue\"},\"id\":\"1474\",\"type\":\"Title\"},{\"attributes\":{},\"id\":\"1433\",\"type\":\"BasicTicker\"},{\"attributes\":{\"ticker\":{\"id\":\"1433\",\"type\":\"BasicTicker\"}},\"id\":\"1436\",\"type\":\"Grid\"},{\"attributes\":{\"children\":[[{\"id\":\"1359\",\"subtype\":\"Figure\",\"type\":\"Plot\"},0,0],[{\"id\":\"1391\",\"subtype\":\"Figure\",\"type\":\"Plot\"},0,1],[{\"id\":\"1423\",\"subtype\":\"Figure\",\"type\":\"Plot\"},0,2]]},\"id\":\"1522\",\"type\":\"GridBox\"},{\"attributes\":{},\"id\":\"1438\",\"type\":\"BasicTicker\"},{\"attributes\":{\"below\":[{\"id\":\"1368\",\"type\":\"LinearAxis\"}],\"center\":[{\"id\":\"1372\",\"type\":\"Grid\"},{\"id\":\"1377\",\"type\":\"Grid\"}],\"left\":[{\"id\":\"1373\",\"type\":\"LinearAxis\"}],\"plot_height\":300,\"plot_width\":300,\"renderers\":[{\"id\":\"1469\",\"type\":\"GlyphRenderer\"}],\"title\":{\"id\":\"1471\",\"type\":\"Title\"},\"toolbar\":{\"id\":\"1384\",\"type\":\"Toolbar\"},\"toolbar_location\":null,\"x_range\":{\"id\":\"1360\",\"type\":\"DataRange1d\"},\"x_scale\":{\"id\":\"1364\",\"type\":\"LinearScale\"},\"y_range\":{\"id\":\"1362\",\"type\":\"DataRange1d\"},\"y_scale\":{\"id\":\"1366\",\"type\":\"LinearScale\"}},\"id\":\"1359\",\"subtype\":\"Figure\",\"type\":\"Plot\"},{\"attributes\":{\"text\":\"profit\"},\"id\":\"1477\",\"type\":\"Title\"},{\"attributes\":{\"dimension\":1,\"ticker\":{\"id\":\"1438\",\"type\":\"BasicTicker\"}},\"id\":\"1441\",\"type\":\"Grid\"},{\"attributes\":{\"active_drag\":\"auto\",\"active_inspect\":\"auto\",\"active_multi\":null,\"active_scroll\":\"auto\",\"active_tap\":\"auto\",\"tools\":[{\"id\":\"1410\",\"type\":\"PanTool\"},{\"id\":\"1411\",\"type\":\"WheelZoomTool\"},{\"id\":\"1412\",\"type\":\"BoxZoomTool\"},{\"id\":\"1413\",\"type\":\"SaveTool\"},{\"id\":\"1414\",\"type\":\"ResetTool\"},{\"id\":\"1415\",\"type\":\"HelpTool\"}]},\"id\":\"1416\",\"type\":\"Toolbar\"},{\"attributes\":{\"axis_label\":\"profit\",\"formatter\":{\"id\":\"1516\",\"type\":\"BasicTickFormatter\"},\"ticker\":{\"id\":\"1438\",\"type\":\"BasicTicker\"}},\"id\":\"1437\",\"type\":\"LinearAxis\"},{\"attributes\":{\"fill_color\":{\"value\":\"blue\"},\"line_color\":{\"value\":\"blue\"},\"x\":{\"field\":\"x\"},\"y\":{\"field\":\"y\"}},\"id\":\"1464\",\"type\":\"Circle\"},{\"attributes\":{},\"id\":\"1504\",\"type\":\"BasicTickFormatter\"},{\"attributes\":{},\"id\":\"1447\",\"type\":\"HelpTool\"},{\"attributes\":{},\"id\":\"1446\",\"type\":\"ResetTool\"},{\"attributes\":{},\"id\":\"1514\",\"type\":\"BasicTickFormatter\"},{\"attributes\":{},\"id\":\"1516\",\"type\":\"BasicTickFormatter\"},{\"attributes\":{\"active_drag\":\"auto\",\"active_inspect\":\"auto\",\"active_multi\":null,\"active_scroll\":\"auto\",\"active_tap\":\"auto\",\"tools\":[{\"id\":\"1442\",\"type\":\"PanTool\"},{\"id\":\"1443\",\"type\":\"WheelZoomTool\"},{\"id\":\"1444\",\"type\":\"BoxZoomTool\"},{\"id\":\"1445\",\"type\":\"SaveTool\"},{\"id\":\"1446\",\"type\":\"ResetTool\"},{\"id\":\"1447\",\"type\":\"HelpTool\"}]},\"id\":\"1448\",\"type\":\"Toolbar\"},{\"attributes\":{\"bottom_units\":\"screen\",\"fill_alpha\":{\"value\":0.5},\"fill_color\":{\"value\":\"lightgrey\"},\"left_units\":\"screen\",\"level\":\"overlay\",\"line_alpha\":{\"value\":1.0},\"line_color\":{\"value\":\"black\"},\"line_dash\":[4,4],\"line_width\":{\"value\":2},\"render_mode\":\"css\",\"right_units\":\"screen\",\"top_units\":\"screen\"},\"id\":\"1510\",\"type\":\"BoxAnnotation\"},{\"attributes\":{},\"id\":\"1509\",\"type\":\"UnionRenderers\"},{\"attributes\":{},\"id\":\"1442\",\"type\":\"PanTool\"},{\"attributes\":{},\"id\":\"1443\",\"type\":\"WheelZoomTool\"},{\"attributes\":{\"overlay\":{\"id\":\"1520\",\"type\":\"BoxAnnotation\"}},\"id\":\"1444\",\"type\":\"BoxZoomTool\"},{\"attributes\":{},\"id\":\"1445\",\"type\":\"SaveTool\"},{\"attributes\":{},\"id\":\"1506\",\"type\":\"BasicTickFormatter\"},{\"attributes\":{\"below\":[{\"id\":\"1400\",\"type\":\"LinearAxis\"}],\"center\":[{\"id\":\"1404\",\"type\":\"Grid\"},{\"id\":\"1409\",\"type\":\"Grid\"}],\"left\":[{\"id\":\"1405\",\"type\":\"LinearAxis\"}],\"plot_height\":300,\"plot_width\":300,\"renderers\":[{\"id\":\"1472\",\"type\":\"GlyphRenderer\"}],\"title\":{\"id\":\"1474\",\"type\":\"Title\"},\"toolbar\":{\"id\":\"1416\",\"type\":\"Toolbar\"},\"toolbar_location\":null,\"x_range\":{\"id\":\"1392\",\"type\":\"DataRange1d\"},\"x_scale\":{\"id\":\"1396\",\"type\":\"LinearScale\"},\"y_range\":{\"id\":\"1394\",\"type\":\"DataRange1d\"},\"y_scale\":{\"id\":\"1398\",\"type\":\"LinearScale\"}},\"id\":\"1391\",\"subtype\":\"Figure\",\"type\":\"Plot\"},{\"attributes\":{},\"id\":\"1519\",\"type\":\"UnionRenderers\"},{\"attributes\":{\"callback\":null,\"data\":{\"x\":{\"__ndarray__\":\"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\",\"dtype\":\"float64\",\"shape\":[365]},\"y\":{\"__ndarray__\":\"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\",\"dtype\":\"float64\",\"shape\":[365]}},\"selected\":{\"id\":\"1508\",\"type\":\"Selection\"},\"selection_policy\":{\"id\":\"1509\",\"type\":\"UnionRenderers\"}},\"id\":\"1463\",\"type\":\"ColumnDataSource\"},{\"attributes\":{\"bottom_units\":\"screen\",\"fill_alpha\":{\"value\":0.5},\"fill_color\":{\"value\":\"lightgrey\"},\"left_units\":\"screen\",\"level\":\"overlay\",\"line_alpha\":{\"value\":1.0},\"line_color\":{\"value\":\"black\"},\"line_dash\":[4,4],\"line_width\":{\"value\":2},\"render_mode\":\"css\",\"right_units\":\"screen\",\"top_units\":\"screen\"},\"id\":\"1500\",\"type\":\"BoxAnnotation\"},{\"attributes\":{\"callback\":null,\"data\":{\"x\":{\"__ndarray__\":\"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\",\"dtype\":\"float64\",\"shape\":[365]},\"y\":{\"__ndarray__\":\"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\",\"dtype\":\"float64\",\"shape\":[365]}},\"selected\":{\"id\":\"1518\",\"type\":\"Selection\"},\"selection_policy\":{\"id\":\"1519\",\"type\":\"UnionRenderers\"}},\"id\":\"1467\",\"type\":\"ColumnDataSource\"},{\"attributes\":{\"callback\":null},\"id\":\"1360\",\"type\":\"DataRange1d\"},{\"attributes\":{\"fill_color\":{\"value\":\"blue\"},\"line_color\":{\"value\":\"blue\"},\"x\":{\"field\":\"x\"},\"y\":{\"field\":\"y\"}},\"id\":\"1458\",\"type\":\"Circle\"},{\"attributes\":{\"fill_color\":{\"value\":\"blue\"},\"line_color\":{\"value\":\"blue\"},\"x\":{\"field\":\"x\"},\"y\":{\"field\":\"y\"}},\"id\":\"1468\",\"type\":\"Circle\"},{\"attributes\":{},\"id\":\"1518\",\"type\":\"Selection\"},{\"attributes\":{},\"id\":\"1494\",\"type\":\"BasicTickFormatter\"},{\"attributes\":{\"data_source\":{\"id\":\"1463\",\"type\":\"ColumnDataSource\"},\"glyph\":{\"id\":\"1464\",\"type\":\"Circle\"},\"hover_glyph\":null,\"muted_glyph\":null,\"view\":{\"id\":\"1473\",\"type\":\"CDSView\"}},\"id\":\"1472\",\"type\":\"GlyphRenderer\"},{\"attributes\":{\"callback\":null,\"data\":{\"x\":{\"__ndarray__\":\"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\",\"dtype\":\"float64\",\"shape\":[365]},\"y\":{\"__ndarray__\":\"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\",\"dtype\":\"float64\",\"shape\":[365]}},\"selected\":{\"id\":\"1498\",\"type\":\"Selection\"},\"selection_policy\":{\"id\":\"1499\",\"type\":\"UnionRenderers\"}},\"id\":\"1457\",\"type\":\"ColumnDataSource\"},{\"attributes\":{\"tools\":[{\"id\":\"1378\",\"type\":\"PanTool\"},{\"id\":\"1379\",\"type\":\"WheelZoomTool\"},{\"id\":\"1380\",\"type\":\"BoxZoomTool\"},{\"id\":\"1381\",\"type\":\"SaveTool\"},{\"id\":\"1382\",\"type\":\"ResetTool\"},{\"id\":\"1383\",\"type\":\"HelpTool\"},{\"id\":\"1410\",\"type\":\"PanTool\"},{\"id\":\"1411\",\"type\":\"WheelZoomTool\"},{\"id\":\"1412\",\"type\":\"BoxZoomTool\"},{\"id\":\"1413\",\"type\":\"SaveTool\"},{\"id\":\"1414\",\"type\":\"ResetTool\"},{\"id\":\"1415\",\"type\":\"HelpTool\"},{\"id\":\"1442\",\"type\":\"PanTool\"},{\"id\":\"1443\",\"type\":\"WheelZoomTool\"},{\"id\":\"1444\",\"type\":\"BoxZoomTool\"},{\"id\":\"1445\",\"type\":\"SaveTool\"},{\"id\":\"1446\",\"type\":\"ResetTool\"},{\"id\":\"1447\",\"type\":\"HelpTool\"}]},\"id\":\"1523\",\"type\":\"ProxyToolbar\"},{\"attributes\":{},\"id\":\"1496\",\"type\":\"BasicTickFormatter\"},{\"attributes\":{\"source\":{\"id\":\"1457\",\"type\":\"ColumnDataSource\"}},\"id\":\"1470\",\"type\":\"CDSView\"},{\"attributes\":{\"callback\":null},\"id\":\"1362\",\"type\":\"DataRange1d\"},{\"attributes\":{\"ticker\":{\"id\":\"1401\",\"type\":\"BasicTicker\"}},\"id\":\"1404\",\"type\":\"Grid\"},{\"attributes\":{\"axis_label\":\"demand\",\"formatter\":{\"id\":\"1504\",\"type\":\"BasicTickFormatter\"},\"ticker\":{\"id\":\"1401\",\"type\":\"BasicTicker\"}},\"id\":\"1400\",\"type\":\"LinearAxis\"},{\"attributes\":{},\"id\":\"1398\",\"type\":\"LinearScale\"},{\"attributes\":{},\"id\":\"1383\",\"type\":\"HelpTool\"},{\"attributes\":{},\"id\":\"1499\",\"type\":\"UnionRenderers\"},{\"attributes\":{},\"id\":\"1382\",\"type\":\"ResetTool\"},{\"attributes\":{},\"id\":\"1381\",\"type\":\"SaveTool\"},{\"attributes\":{\"below\":[{\"id\":\"1432\",\"type\":\"LinearAxis\"}],\"center\":[{\"id\":\"1436\",\"type\":\"Grid\"},{\"id\":\"1441\",\"type\":\"Grid\"}],\"left\":[{\"id\":\"1437\",\"type\":\"LinearAxis\"}],\"plot_height\":300,\"plot_width\":300,\"renderers\":[{\"id\":\"1475\",\"type\":\"GlyphRenderer\"}],\"title\":{\"id\":\"1477\",\"type\":\"Title\"},\"toolbar\":{\"id\":\"1448\",\"type\":\"Toolbar\"},\"toolbar_location\":null,\"x_range\":{\"id\":\"1424\",\"type\":\"DataRange1d\"},\"x_scale\":{\"id\":\"1428\",\"type\":\"LinearScale\"},\"y_range\":{\"id\":\"1426\",\"type\":\"DataRange1d\"},\"y_scale\":{\"id\":\"1430\",\"type\":\"LinearScale\"}},\"id\":\"1423\",\"subtype\":\"Figure\",\"type\":\"Plot\"},{\"attributes\":{\"overlay\":{\"id\":\"1500\",\"type\":\"BoxAnnotation\"}},\"id\":\"1380\",\"type\":\"BoxZoomTool\"},{\"attributes\":{},\"id\":\"1379\",\"type\":\"WheelZoomTool\"},{\"attributes\":{},\"id\":\"1401\",\"type\":\"BasicTicker\"},{\"attributes\":{},\"id\":\"1406\",\"type\":\"BasicTicker\"},{\"attributes\":{\"ticker\":{\"id\":\"1369\",\"type\":\"BasicTicker\"}},\"id\":\"1372\",\"type\":\"Grid\"},{\"attributes\":{},\"id\":\"1428\",\"type\":\"LinearScale\"},{\"attributes\":{},\"id\":\"1374\",\"type\":\"BasicTicker\"},{\"attributes\":{\"dimension\":1,\"ticker\":{\"id\":\"1406\",\"type\":\"BasicTicker\"}},\"id\":\"1409\",\"type\":\"Grid\"},{\"attributes\":{\"axis_label\":\"sales\",\"formatter\":{\"id\":\"1496\",\"type\":\"BasicTickFormatter\"},\"ticker\":{\"id\":\"1374\",\"type\":\"BasicTicker\"}},\"id\":\"1373\",\"type\":\"LinearAxis\"},{\"attributes\":{\"axis_label\":\"revenue\",\"formatter\":{\"id\":\"1506\",\"type\":\"BasicTickFormatter\"},\"ticker\":{\"id\":\"1406\",\"type\":\"BasicTicker\"}},\"id\":\"1405\",\"type\":\"LinearAxis\"},{\"attributes\":{},\"id\":\"1366\",\"type\":\"LinearScale\"},{\"attributes\":{\"callback\":null},\"id\":\"1424\",\"type\":\"DataRange1d\"},{\"attributes\":{},\"id\":\"1369\",\"type\":\"BasicTicker\"},{\"attributes\":{},\"id\":\"1410\",\"type\":\"PanTool\"},{\"attributes\":{},\"id\":\"1430\",\"type\":\"LinearScale\"},{\"attributes\":{\"callback\":null},\"id\":\"1426\",\"type\":\"DataRange1d\"},{\"attributes\":{},\"id\":\"1411\",\"type\":\"WheelZoomTool\"},{\"attributes\":{},\"id\":\"1364\",\"type\":\"LinearScale\"},{\"attributes\":{\"axis_label\":\"demand\",\"formatter\":{\"id\":\"1494\",\"type\":\"BasicTickFormatter\"},\"ticker\":{\"id\":\"1369\",\"type\":\"BasicTicker\"}},\"id\":\"1368\",\"type\":\"LinearAxis\"},{\"attributes\":{\"overlay\":{\"id\":\"1510\",\"type\":\"BoxAnnotation\"}},\"id\":\"1412\",\"type\":\"BoxZoomTool\"},{\"attributes\":{\"callback\":null},\"id\":\"1392\",\"type\":\"DataRange1d\"},{\"attributes\":{},\"id\":\"1413\",\"type\":\"SaveTool\"},{\"attributes\":{},\"id\":\"1415\",\"type\":\"HelpTool\"},{\"attributes\":{\"callback\":null},\"id\":\"1394\",\"type\":\"DataRange1d\"},{\"attributes\":{},\"id\":\"1414\",\"type\":\"ResetTool\"},{\"attributes\":{},\"id\":\"1498\",\"type\":\"Selection\"},{\"attributes\":{},\"id\":\"1378\",\"type\":\"PanTool\"},{\"attributes\":{\"active_drag\":\"auto\",\"active_inspect\":\"auto\",\"active_multi\":null,\"active_scroll\":\"auto\",\"active_tap\":\"auto\",\"tools\":[{\"id\":\"1378\",\"type\":\"PanTool\"},{\"id\":\"1379\",\"type\":\"WheelZoomTool\"},{\"id\":\"1380\",\"type\":\"BoxZoomTool\"},{\"id\":\"1381\",\"type\":\"SaveTool\"},{\"id\":\"1382\",\"type\":\"ResetTool\"},{\"id\":\"1383\",\"type\":\"HelpTool\"}]},\"id\":\"1384\",\"type\":\"Toolbar\"},{\"attributes\":{},\"id\":\"1396\",\"type\":\"LinearScale\"},{\"attributes\":{\"dimension\":1,\"ticker\":{\"id\":\"1374\",\"type\":\"BasicTicker\"}},\"id\":\"1377\",\"type\":\"Grid\"},{\"attributes\":{\"data_source\":{\"id\":\"1457\",\"type\":\"ColumnDataSource\"},\"glyph\":{\"id\":\"1458\",\"type\":\"Circle\"},\"hover_glyph\":null,\"muted_glyph\":null,\"view\":{\"id\":\"1470\",\"type\":\"CDSView\"}},\"id\":\"1469\",\"type\":\"GlyphRenderer\"}],\"root_ids\":[\"1525\"]},\"title\":\"Bokeh Application\",\"version\":\"1.3.4\"}};\n",
       "  var render_items = [{\"docid\":\"a5d1fdf1-be81-4bf7-ae6b-cd073817565d\",\"notebook_comms_target\":\"1580\",\"roots\":{\"1525\":\"15d3026e-0e00-4f16-beb5-bc03012e9dfa\"}}];\n",
       "  root.Bokeh.embed.embed_items_notebook(docs_json, render_items);\n",
       "\n",
       "  }\n",
       "  if (root.Bokeh !== undefined) {\n",
       "    embed_document(root);\n",
       "  } else {\n",
       "    var attempts = 0;\n",
       "    var timer = setInterval(function(root) {\n",
       "      if (root.Bokeh !== undefined) {\n",
       "        embed_document(root);\n",
       "        clearInterval(timer);\n",
       "      }\n",
       "      attempts++;\n",
       "      if (attempts > 100) {\n",
       "        console.log(\"Bokeh: ERROR: Unable to run BokehJS code because BokehJS library is missing\");\n",
       "        clearInterval(timer);\n",
       "      }\n",
       "    }, 10, root)\n",
       "  }\n",
       "})(window);"
      ],
      "application/vnd.bokehjs_exec.v0+json": ""
     },
     "metadata": {
      "application/vnd.bokehjs_exec.v0+json": {
       "id": "1525"
      }
     },
     "output_type": "display_data"
    }
   ],
   "source": [
    "fields = ['sales', 'revenue', 'profit']\n",
    "labels = {field: {'x': 'demand', 'y': field, 'title': field} for field in fields}\n",
    "scatter_func = lambda n: news_plot.scatter_glyphs(n.data, 'demand')\n",
    "newsvendor.interact_gridplot(news_plot.figures(fields), scatter_func, news, labels=labels)"
   ]
  },
  {
   "cell_type": "code",
   "execution_count": 4,
   "metadata": {
    "scrolled": true
   },
   "outputs": [
    {
     "data": {
      "application/vnd.jupyter.widget-view+json": {
       "model_id": "2bcb9af7daa744d8b2a06c20b1ca3609",
       "version_major": 2,
       "version_minor": 0
      },
      "text/plain": [
       "interactive(children=(IntSlider(value=15, description='Order Qty', max=25), Output()), _dom_classes=('widget-i…"
      ]
     },
     "metadata": {},
     "output_type": "display_data"
    }
   ],
   "source": [
    "# Table of expected values with order quantity slider\n",
    "fields = ['demand', 'sales', 'profit']\n",
    "newsvendor.order_qty_interact(lambda y: news.exp_vals([y])[fields].style.hide_index(), news)"
   ]
  },
  {
   "cell_type": "code",
   "execution_count": 5,
   "metadata": {
    "scrolled": false
   },
   "outputs": [
    {
     "data": {
      "application/vnd.jupyter.widget-view+json": {
       "model_id": "e508d95d7c274e1fafe6c755b6752c75",
       "version_major": 2,
       "version_minor": 0
      },
      "text/plain": [
       "interactive(children=(IntSlider(value=15, description='Order Qty', max=25), Output()), _dom_classes=('widget-i…"
      ]
     },
     "metadata": {},
     "output_type": "display_data"
    },
    {
     "data": {
      "text/html": [
       "\n",
       "\n",
       "\n",
       "\n",
       "\n",
       "\n",
       "  <div class=\"bk-root\" id=\"9accb1d1-63e0-4f0d-a20b-c4baad22b51f\" data-root-id=\"1990\"></div>\n"
      ]
     },
     "metadata": {},
     "output_type": "display_data"
    },
    {
     "data": {
      "application/javascript": [
       "(function(root) {\n",
       "  function embed_document(root) {\n",
       "    \n",
       "  var docs_json = {\"ce717bb5-cf4b-46df-880d-654a9b6b2454\":{\"roots\":{\"references\":[{\"attributes\":{\"children\":[{\"id\":\"1989\",\"type\":\"ToolbarBox\"},{\"id\":\"1987\",\"type\":\"GridBox\"}]},\"id\":\"1990\",\"type\":\"Column\"},{\"attributes\":{\"text\":\"cost\"},\"id\":\"1895\",\"type\":\"Title\"},{\"attributes\":{},\"id\":\"1947\",\"type\":\"Selection\"},{\"attributes\":{},\"id\":\"1965\",\"type\":\"BasicTickFormatter\"},{\"attributes\":{\"callback\":null,\"data\":{\"x\":[15],\"y\":{\"__ndarray__\":\"gDOHxFoy4T8=\",\"dtype\":\"float64\",\"shape\":[1]}},\"selected\":{\"id\":\"1983\",\"type\":\"Selection\"},\"selection_policy\":{\"id\":\"1984\",\"type\":\"UnionRenderers\"}},\"id\":\"1913\",\"type\":\"ColumnDataSource\"},{\"attributes\":{\"tools\":[{\"id\":\"1762\",\"type\":\"PanTool\"},{\"id\":\"1763\",\"type\":\"WheelZoomTool\"},{\"id\":\"1764\",\"type\":\"BoxZoomTool\"},{\"id\":\"1765\",\"type\":\"SaveTool\"},{\"id\":\"1766\",\"type\":\"ResetTool\"},{\"id\":\"1767\",\"type\":\"HelpTool\"},{\"id\":\"1794\",\"type\":\"PanTool\"},{\"id\":\"1795\",\"type\":\"WheelZoomTool\"},{\"id\":\"1796\",\"type\":\"BoxZoomTool\"},{\"id\":\"1797\",\"type\":\"SaveTool\"},{\"id\":\"1798\",\"type\":\"ResetTool\"},{\"id\":\"1799\",\"type\":\"HelpTool\"},{\"id\":\"1826\",\"type\":\"PanTool\"},{\"id\":\"1827\",\"type\":\"WheelZoomTool\"},{\"id\":\"1828\",\"type\":\"BoxZoomTool\"},{\"id\":\"1829\",\"type\":\"SaveTool\"},{\"id\":\"1830\",\"type\":\"ResetTool\"},{\"id\":\"1831\",\"type\":\"HelpTool\"},{\"id\":\"1858\",\"type\":\"PanTool\"},{\"id\":\"1859\",\"type\":\"WheelZoomTool\"},{\"id\":\"1860\",\"type\":\"BoxZoomTool\"},{\"id\":\"1861\",\"type\":\"SaveTool\"},{\"id\":\"1862\",\"type\":\"ResetTool\"},{\"id\":\"1863\",\"type\":\"HelpTool\"}]},\"id\":\"1988\",\"type\":\"ProxyToolbar\"},{\"attributes\":{\"fill_alpha\":{\"value\":0.5},\"fill_color\":{\"value\":\"red\"},\"line_color\":{\"value\":\"red\"},\"size\":{\"units\":\"screen\",\"value\":10},\"x\":{\"field\":\"x\"},\"y\":{\"field\":\"y\"}},\"id\":\"1904\",\"type\":\"Circle\"},{\"attributes\":{\"text\":\"profit\"},\"id\":\"1898\",\"type\":\"Title\"},{\"attributes\":{\"source\":{\"id\":\"1903\",\"type\":\"ColumnDataSource\"}},\"id\":\"1916\",\"type\":\"CDSView\"},{\"attributes\":{},\"id\":\"1948\",\"type\":\"UnionRenderers\"},{\"attributes\":{},\"id\":\"1941\",\"type\":\"BasicTickFormatter\"},{\"attributes\":{\"callback\":null,\"data\":{\"x\":[15],\"y\":{\"__ndarray__\":\"OHNIrCUTH0A=\",\"dtype\":\"float64\",\"shape\":[1]}},\"selected\":{\"id\":\"1947\",\"type\":\"Selection\"},\"selection_policy\":{\"id\":\"1948\",\"type\":\"UnionRenderers\"}},\"id\":\"1903\",\"type\":\"ColumnDataSource\"},{\"attributes\":{},\"id\":\"1844\",\"type\":\"LinearScale\"},{\"attributes\":{\"source\":{\"id\":\"1883\",\"type\":\"ColumnDataSource\"}},\"id\":\"1894\",\"type\":\"CDSView\"},{\"attributes\":{},\"id\":\"1827\",\"type\":\"WheelZoomTool\"},{\"attributes\":{\"below\":[{\"id\":\"1848\",\"type\":\"LinearAxis\"}],\"center\":[{\"id\":\"1852\",\"type\":\"Grid\"},{\"id\":\"1857\",\"type\":\"Grid\"}],\"left\":[{\"id\":\"1853\",\"type\":\"LinearAxis\"}],\"plot_height\":350,\"plot_width\":350,\"renderers\":[{\"id\":\"1896\",\"type\":\"GlyphRenderer\"},{\"id\":\"1921\",\"type\":\"GlyphRenderer\"}],\"title\":{\"id\":\"1898\",\"type\":\"Title\"},\"toolbar\":{\"id\":\"1864\",\"type\":\"Toolbar\"},\"toolbar_location\":null,\"x_range\":{\"id\":\"1840\",\"type\":\"DataRange1d\"},\"x_scale\":{\"id\":\"1844\",\"type\":\"LinearScale\"},\"y_range\":{\"id\":\"1842\",\"type\":\"DataRange1d\"},\"y_scale\":{\"id\":\"1846\",\"type\":\"LinearScale\"}},\"id\":\"1839\",\"subtype\":\"Figure\",\"type\":\"Plot\"},{\"attributes\":{\"overlay\":{\"id\":\"1973\",\"type\":\"BoxAnnotation\"}},\"id\":\"1828\",\"type\":\"BoxZoomTool\"},{\"attributes\":{},\"id\":\"1983\",\"type\":\"Selection\"},{\"attributes\":{\"children\":[[{\"id\":\"1743\",\"subtype\":\"Figure\",\"type\":\"Plot\"},0,0],[{\"id\":\"1775\",\"subtype\":\"Figure\",\"type\":\"Plot\"},0,1],[{\"id\":\"1807\",\"subtype\":\"Figure\",\"type\":\"Plot\"},1,0],[{\"id\":\"1839\",\"subtype\":\"Figure\",\"type\":\"Plot\"},1,1]]},\"id\":\"1987\",\"type\":\"GridBox\"},{\"attributes\":{\"data_source\":{\"id\":\"1885\",\"type\":\"ColumnDataSource\"},\"glyph\":{\"id\":\"1886\",\"type\":\"Line\"},\"hover_glyph\":null,\"muted_glyph\":null,\"view\":{\"id\":\"1897\",\"type\":\"CDSView\"}},\"id\":\"1896\",\"type\":\"GlyphRenderer\"},{\"attributes\":{\"axis_label\":\"order qty\",\"formatter\":{\"id\":\"1965\",\"type\":\"BasicTickFormatter\"},\"ticker\":{\"id\":\"1817\",\"type\":\"BasicTicker\"}},\"id\":\"1816\",\"type\":\"LinearAxis\"},{\"attributes\":{},\"id\":\"1960\",\"type\":\"UnionRenderers\"},{\"attributes\":{\"text\":\"revenue\"},\"id\":\"1892\",\"type\":\"Title\"},{\"attributes\":{},\"id\":\"1979\",\"type\":\"BasicTickFormatter\"},{\"attributes\":{\"callback\":null},\"id\":\"1842\",\"type\":\"DataRange1d\"},{\"attributes\":{\"fill_alpha\":{\"value\":0.5},\"fill_color\":{\"value\":\"red\"},\"line_color\":{\"value\":\"red\"},\"size\":{\"units\":\"screen\",\"value\":10},\"x\":{\"field\":\"x\"},\"y\":{\"field\":\"y\"}},\"id\":\"1914\",\"type\":\"Circle\"},{\"attributes\":{\"callback\":null,\"data\":{\"x\":[15],\"y\":{\"__ndarray__\":\"OHNIrCUTL0A=\",\"dtype\":\"float64\",\"shape\":[1]}},\"selected\":{\"id\":\"1959\",\"type\":\"Selection\"},\"selection_policy\":{\"id\":\"1960\",\"type\":\"UnionRenderers\"}},\"id\":\"1909\",\"type\":\"ColumnDataSource\"},{\"attributes\":{},\"id\":\"1959\",\"type\":\"Selection\"},{\"attributes\":{\"data_source\":{\"id\":\"1883\",\"type\":\"ColumnDataSource\"},\"glyph\":{\"id\":\"1884\",\"type\":\"Line\"},\"hover_glyph\":null,\"muted_glyph\":null,\"view\":{\"id\":\"1894\",\"type\":\"CDSView\"}},\"id\":\"1893\",\"type\":\"GlyphRenderer\"},{\"attributes\":{\"axis_label\":\"order qty\",\"formatter\":{\"id\":\"1941\",\"type\":\"BasicTickFormatter\"},\"ticker\":{\"id\":\"1753\",\"type\":\"BasicTicker\"}},\"id\":\"1752\",\"type\":\"LinearAxis\"},{\"attributes\":{\"callback\":null,\"data\":{\"x\":[15],\"y\":[15]},\"selected\":{\"id\":\"1971\",\"type\":\"Selection\"},\"selection_policy\":{\"id\":\"1972\",\"type\":\"UnionRenderers\"}},\"id\":\"1911\",\"type\":\"ColumnDataSource\"},{\"attributes\":{},\"id\":\"1977\",\"type\":\"BasicTickFormatter\"},{\"attributes\":{\"data_source\":{\"id\":\"1903\",\"type\":\"ColumnDataSource\"},\"glyph\":{\"id\":\"1904\",\"type\":\"Circle\"},\"hover_glyph\":null,\"muted_glyph\":null,\"view\":{\"id\":\"1916\",\"type\":\"CDSView\"}},\"id\":\"1915\",\"type\":\"GlyphRenderer\"},{\"attributes\":{\"source\":{\"id\":\"1909\",\"type\":\"ColumnDataSource\"}},\"id\":\"1918\",\"type\":\"CDSView\"},{\"attributes\":{},\"id\":\"1982\",\"type\":\"UnionRenderers\"},{\"attributes\":{},\"id\":\"1955\",\"type\":\"BasicTickFormatter\"},{\"attributes\":{\"fill_alpha\":{\"value\":0.5},\"fill_color\":{\"value\":\"red\"},\"line_color\":{\"value\":\"red\"},\"size\":{\"units\":\"screen\",\"value\":10},\"x\":{\"field\":\"x\"},\"y\":{\"field\":\"y\"}},\"id\":\"1912\",\"type\":\"Circle\"},{\"attributes\":{},\"id\":\"1981\",\"type\":\"Selection\"},{\"attributes\":{\"data_source\":{\"id\":\"1909\",\"type\":\"ColumnDataSource\"},\"glyph\":{\"id\":\"1910\",\"type\":\"Circle\"},\"hover_glyph\":null,\"muted_glyph\":null,\"view\":{\"id\":\"1918\",\"type\":\"CDSView\"}},\"id\":\"1917\",\"type\":\"GlyphRenderer\"},{\"attributes\":{},\"id\":\"1822\",\"type\":\"BasicTicker\"},{\"attributes\":{},\"id\":\"1957\",\"type\":\"Selection\"},{\"attributes\":{\"bottom_units\":\"screen\",\"fill_alpha\":{\"value\":0.5},\"fill_color\":{\"value\":\"lightgrey\"},\"left_units\":\"screen\",\"level\":\"overlay\",\"line_alpha\":{\"value\":1.0},\"line_color\":{\"value\":\"black\"},\"line_dash\":[4,4],\"line_width\":{\"value\":2},\"render_mode\":\"css\",\"right_units\":\"screen\",\"top_units\":\"screen\"},\"id\":\"1973\",\"type\":\"BoxAnnotation\"},{\"attributes\":{\"dimension\":1,\"ticker\":{\"id\":\"1822\",\"type\":\"BasicTicker\"}},\"id\":\"1825\",\"type\":\"Grid\"},{\"attributes\":{\"source\":{\"id\":\"1885\",\"type\":\"ColumnDataSource\"}},\"id\":\"1897\",\"type\":\"CDSView\"},{\"attributes\":{},\"id\":\"1958\",\"type\":\"UnionRenderers\"},{\"attributes\":{\"source\":{\"id\":\"1881\",\"type\":\"ColumnDataSource\"}},\"id\":\"1891\",\"type\":\"CDSView\"},{\"attributes\":{},\"id\":\"1972\",\"type\":\"UnionRenderers\"},{\"attributes\":{\"data_source\":{\"id\":\"1913\",\"type\":\"ColumnDataSource\"},\"glyph\":{\"id\":\"1914\",\"type\":\"Circle\"},\"hover_glyph\":null,\"muted_glyph\":null,\"view\":{\"id\":\"1922\",\"type\":\"CDSView\"}},\"id\":\"1921\",\"type\":\"GlyphRenderer\"},{\"attributes\":{},\"id\":\"1943\",\"type\":\"BasicTickFormatter\"},{\"attributes\":{},\"id\":\"1971\",\"type\":\"Selection\"},{\"attributes\":{\"bottom_units\":\"screen\",\"fill_alpha\":{\"value\":0.5},\"fill_color\":{\"value\":\"lightgrey\"},\"left_units\":\"screen\",\"level\":\"overlay\",\"line_alpha\":{\"value\":1.0},\"line_color\":{\"value\":\"black\"},\"line_dash\":[4,4],\"line_width\":{\"value\":2},\"render_mode\":\"css\",\"right_units\":\"screen\",\"top_units\":\"screen\"},\"id\":\"1961\",\"type\":\"BoxAnnotation\"},{\"attributes\":{},\"id\":\"1967\",\"type\":\"BasicTickFormatter\"},{\"attributes\":{},\"id\":\"1946\",\"type\":\"UnionRenderers\"},{\"attributes\":{\"data_source\":{\"id\":\"1911\",\"type\":\"ColumnDataSource\"},\"glyph\":{\"id\":\"1912\",\"type\":\"Circle\"},\"hover_glyph\":null,\"muted_glyph\":null,\"view\":{\"id\":\"1920\",\"type\":\"CDSView\"}},\"id\":\"1919\",\"type\":\"GlyphRenderer\"},{\"attributes\":{\"bottom_units\":\"screen\",\"fill_alpha\":{\"value\":0.5},\"fill_color\":{\"value\":\"lightgrey\"},\"left_units\":\"screen\",\"level\":\"overlay\",\"line_alpha\":{\"value\":1.0},\"line_color\":{\"value\":\"black\"},\"line_dash\":[4,4],\"line_width\":{\"value\":2},\"render_mode\":\"css\",\"right_units\":\"screen\",\"top_units\":\"screen\"},\"id\":\"1949\",\"type\":\"BoxAnnotation\"},{\"attributes\":{},\"id\":\"1953\",\"type\":\"BasicTickFormatter\"},{\"attributes\":{\"source\":{\"id\":\"1913\",\"type\":\"ColumnDataSource\"}},\"id\":\"1922\",\"type\":\"CDSView\"},{\"attributes\":{},\"id\":\"1970\",\"type\":\"UnionRenderers\"},{\"attributes\":{},\"id\":\"1945\",\"type\":\"Selection\"},{\"attributes\":{},\"id\":\"1984\",\"type\":\"UnionRenderers\"},{\"attributes\":{\"source\":{\"id\":\"1911\",\"type\":\"ColumnDataSource\"}},\"id\":\"1920\",\"type\":\"CDSView\"},{\"attributes\":{\"bottom_units\":\"screen\",\"fill_alpha\":{\"value\":0.5},\"fill_color\":{\"value\":\"lightgrey\"},\"left_units\":\"screen\",\"level\":\"overlay\",\"line_alpha\":{\"value\":1.0},\"line_color\":{\"value\":\"black\"},\"line_dash\":[4,4],\"line_width\":{\"value\":2},\"render_mode\":\"css\",\"right_units\":\"screen\",\"top_units\":\"screen\"},\"id\":\"1985\",\"type\":\"BoxAnnotation\"},{\"attributes\":{\"fill_alpha\":{\"value\":0.5},\"fill_color\":{\"value\":\"red\"},\"line_color\":{\"value\":\"red\"},\"size\":{\"units\":\"screen\",\"value\":10},\"x\":{\"field\":\"x\"},\"y\":{\"field\":\"y\"}},\"id\":\"1910\",\"type\":\"Circle\"},{\"attributes\":{},\"id\":\"1859\",\"type\":\"WheelZoomTool\"},{\"attributes\":{\"toolbar\":{\"id\":\"1988\",\"type\":\"ProxyToolbar\"},\"toolbar_location\":\"above\"},\"id\":\"1989\",\"type\":\"ToolbarBox\"},{\"attributes\":{\"callback\":null},\"id\":\"1810\",\"type\":\"DataRange1d\"},{\"attributes\":{},\"id\":\"1863\",\"type\":\"HelpTool\"},{\"attributes\":{\"callback\":null},\"id\":\"1778\",\"type\":\"DataRange1d\"},{\"attributes\":{\"active_drag\":\"auto\",\"active_inspect\":\"auto\",\"active_multi\":null,\"active_scroll\":\"auto\",\"active_tap\":\"auto\",\"tools\":[{\"id\":\"1858\",\"type\":\"PanTool\"},{\"id\":\"1859\",\"type\":\"WheelZoomTool\"},{\"id\":\"1860\",\"type\":\"BoxZoomTool\"},{\"id\":\"1861\",\"type\":\"SaveTool\"},{\"id\":\"1862\",\"type\":\"ResetTool\"},{\"id\":\"1863\",\"type\":\"HelpTool\"}]},\"id\":\"1864\",\"type\":\"Toolbar\"},{\"attributes\":{\"line_color\":\"blue\",\"line_width\":2,\"x\":{\"field\":\"x\"},\"y\":{\"field\":\"y\"}},\"id\":\"1876\",\"type\":\"Line\"},{\"attributes\":{\"data_source\":{\"id\":\"1875\",\"type\":\"ColumnDataSource\"},\"glyph\":{\"id\":\"1876\",\"type\":\"Line\"},\"hover_glyph\":null,\"muted_glyph\":null,\"view\":{\"id\":\"1888\",\"type\":\"CDSView\"}},\"id\":\"1887\",\"type\":\"GlyphRenderer\"},{\"attributes\":{\"callback\":null},\"id\":\"1808\",\"type\":\"DataRange1d\"},{\"attributes\":{},\"id\":\"1829\",\"type\":\"SaveTool\"},{\"attributes\":{\"axis_label\":\"order qty\",\"formatter\":{\"id\":\"1953\",\"type\":\"BasicTickFormatter\"},\"ticker\":{\"id\":\"1785\",\"type\":\"BasicTicker\"}},\"id\":\"1784\",\"type\":\"LinearAxis\"},{\"attributes\":{},\"id\":\"1762\",\"type\":\"PanTool\"},{\"attributes\":{\"overlay\":{\"id\":\"1949\",\"type\":\"BoxAnnotation\"}},\"id\":\"1764\",\"type\":\"BoxZoomTool\"},{\"attributes\":{\"line_color\":\"blue\",\"line_width\":2,\"x\":{\"field\":\"x\"},\"y\":{\"field\":\"y\"}},\"id\":\"1882\",\"type\":\"Line\"},{\"attributes\":{\"dimension\":1,\"ticker\":{\"id\":\"1854\",\"type\":\"BasicTicker\"}},\"id\":\"1857\",\"type\":\"Grid\"},{\"attributes\":{},\"id\":\"1785\",\"type\":\"BasicTicker\"},{\"attributes\":{\"callback\":null},\"id\":\"1744\",\"type\":\"DataRange1d\"},{\"attributes\":{\"ticker\":{\"id\":\"1753\",\"type\":\"BasicTicker\"}},\"id\":\"1756\",\"type\":\"Grid\"},{\"attributes\":{},\"id\":\"1799\",\"type\":\"HelpTool\"},{\"attributes\":{},\"id\":\"1750\",\"type\":\"LinearScale\"},{\"attributes\":{},\"id\":\"1790\",\"type\":\"BasicTicker\"},{\"attributes\":{\"ticker\":{\"id\":\"1785\",\"type\":\"BasicTicker\"}},\"id\":\"1788\",\"type\":\"Grid\"},{\"attributes\":{\"callback\":null},\"id\":\"1840\",\"type\":\"DataRange1d\"},{\"attributes\":{},\"id\":\"1812\",\"type\":\"LinearScale\"},{\"attributes\":{\"ticker\":{\"id\":\"1849\",\"type\":\"BasicTicker\"}},\"id\":\"1852\",\"type\":\"Grid\"},{\"attributes\":{\"below\":[{\"id\":\"1784\",\"type\":\"LinearAxis\"}],\"center\":[{\"id\":\"1788\",\"type\":\"Grid\"},{\"id\":\"1793\",\"type\":\"Grid\"}],\"left\":[{\"id\":\"1789\",\"type\":\"LinearAxis\"}],\"plot_height\":350,\"plot_width\":350,\"renderers\":[{\"id\":\"1890\",\"type\":\"GlyphRenderer\"},{\"id\":\"1917\",\"type\":\"GlyphRenderer\"}],\"title\":{\"id\":\"1892\",\"type\":\"Title\"},\"toolbar\":{\"id\":\"1800\",\"type\":\"Toolbar\"},\"toolbar_location\":null,\"x_range\":{\"id\":\"1776\",\"type\":\"DataRange1d\"},\"x_scale\":{\"id\":\"1780\",\"type\":\"LinearScale\"},\"y_range\":{\"id\":\"1778\",\"type\":\"DataRange1d\"},\"y_scale\":{\"id\":\"1782\",\"type\":\"LinearScale\"}},\"id\":\"1775\",\"subtype\":\"Figure\",\"type\":\"Plot\"},{\"attributes\":{},\"id\":\"1831\",\"type\":\"HelpTool\"},{\"attributes\":{\"line_color\":\"blue\",\"line_width\":2,\"x\":{\"field\":\"x\"},\"y\":{\"field\":\"y\"}},\"id\":\"1884\",\"type\":\"Line\"},{\"attributes\":{},\"id\":\"1861\",\"type\":\"SaveTool\"},{\"attributes\":{\"ticker\":{\"id\":\"1817\",\"type\":\"BasicTicker\"}},\"id\":\"1820\",\"type\":\"Grid\"},{\"attributes\":{},\"id\":\"1817\",\"type\":\"BasicTicker\"},{\"attributes\":{\"callback\":null,\"data\":{\"x\":[0,1,2,3,4,5,6,7,8,9,10,11,12,13,14,15,16,17,18,19,20,21,22,23,24,25],\"y\":{\"__ndarray__\":\"AAAAAAAAAAC3T6z9t3P+P5kZkNHJAA1A9EmX9wq8FED2HeFv2F8aQOgI6YhAeh9Al6eHOSsMIkC4qtVr9yIkQCx5jxTfBiZA3d/6B7q8J0BzFhUe6kgpQAVSJW1mrypA+HDOccXzK0DPXqlBRhktQMb819rYIi5AOHNIrCUTL0DdeFFklOwvQHxJJQ2pWDBAzVrzcKuxMECRnV5rNQIxQCuWZVYVSzFAoHIN6QWNMUCZ2qkVsMgxQJqDdbqs/jFAqrMEKoYvMkDvOfaMuVsyQA==\",\"dtype\":\"float64\",\"shape\":[26]}},\"selected\":{\"id\":\"1957\",\"type\":\"Selection\"},\"selection_policy\":{\"id\":\"1958\",\"type\":\"UnionRenderers\"}},\"id\":\"1881\",\"type\":\"ColumnDataSource\"},{\"attributes\":{\"line_color\":\"blue\",\"line_width\":2,\"x\":{\"field\":\"x\"},\"y\":{\"field\":\"y\"}},\"id\":\"1886\",\"type\":\"Line\"},{\"attributes\":{\"dimension\":1,\"ticker\":{\"id\":\"1790\",\"type\":\"BasicTicker\"}},\"id\":\"1793\",\"type\":\"Grid\"},{\"attributes\":{},\"id\":\"1969\",\"type\":\"Selection\"},{\"attributes\":{},\"id\":\"1797\",\"type\":\"SaveTool\"},{\"attributes\":{\"active_drag\":\"auto\",\"active_inspect\":\"auto\",\"active_multi\":null,\"active_scroll\":\"auto\",\"active_tap\":\"auto\",\"tools\":[{\"id\":\"1762\",\"type\":\"PanTool\"},{\"id\":\"1763\",\"type\":\"WheelZoomTool\"},{\"id\":\"1764\",\"type\":\"BoxZoomTool\"},{\"id\":\"1765\",\"type\":\"SaveTool\"},{\"id\":\"1766\",\"type\":\"ResetTool\"},{\"id\":\"1767\",\"type\":\"HelpTool\"}]},\"id\":\"1768\",\"type\":\"Toolbar\"},{\"attributes\":{\"callback\":null},\"id\":\"1746\",\"type\":\"DataRange1d\"},{\"attributes\":{\"axis_label\":\"expected profit\",\"formatter\":{\"id\":\"1979\",\"type\":\"BasicTickFormatter\"},\"ticker\":{\"id\":\"1854\",\"type\":\"BasicTicker\"}},\"id\":\"1853\",\"type\":\"LinearAxis\"},{\"attributes\":{},\"id\":\"1763\",\"type\":\"WheelZoomTool\"},{\"attributes\":{},\"id\":\"1862\",\"type\":\"ResetTool\"},{\"attributes\":{},\"id\":\"1766\",\"type\":\"ResetTool\"},{\"attributes\":{},\"id\":\"1748\",\"type\":\"LinearScale\"},{\"attributes\":{\"source\":{\"id\":\"1875\",\"type\":\"ColumnDataSource\"}},\"id\":\"1888\",\"type\":\"CDSView\"},{\"attributes\":{},\"id\":\"1854\",\"type\":\"BasicTicker\"},{\"attributes\":{\"callback\":null,\"data\":{\"x\":[0,1,2,3,4,5,6,7,8,9,10,11,12,13,14,15,16,17,18,19,20,21,22,23,24,25],\"y\":{\"__ndarray__\":\"AAAAAAAAAABun1j7b+fsPzIzIKOTAfo/6JMu7xV4AUDsO8LfsL8EQNAR0hGB9AZAXJ4e5qwwCEDgqlav3YsIQLDkPVJ8GwhAdH/rH+jyBkDMWVR4qCMFQBRIlbSZvQJAwIdzjiue/z949koNMsr4PzDmv9bGFvE/gDOHxFoy4T8AI4eum2ujv4DQVlve6uS/MFPK8Ejl9L/wJhZKqdz/v6hO00xVpwXAAGuUt9CXC8CclVipP90QwJjxKRZNBRTAWDHtV+dBF8BEGCfMGZEawA==\",\"dtype\":\"float64\",\"shape\":[26]}},\"selected\":{\"id\":\"1981\",\"type\":\"Selection\"},\"selection_policy\":{\"id\":\"1982\",\"type\":\"UnionRenderers\"}},\"id\":\"1885\",\"type\":\"ColumnDataSource\"},{\"attributes\":{},\"id\":\"1780\",\"type\":\"LinearScale\"},{\"attributes\":{},\"id\":\"1814\",\"type\":\"LinearScale\"},{\"attributes\":{},\"id\":\"1846\",\"type\":\"LinearScale\"},{\"attributes\":{},\"id\":\"1826\",\"type\":\"PanTool\"},{\"attributes\":{},\"id\":\"1765\",\"type\":\"SaveTool\"},{\"attributes\":{},\"id\":\"1795\",\"type\":\"WheelZoomTool\"},{\"attributes\":{\"below\":[{\"id\":\"1816\",\"type\":\"LinearAxis\"}],\"center\":[{\"id\":\"1820\",\"type\":\"Grid\"},{\"id\":\"1825\",\"type\":\"Grid\"}],\"left\":[{\"id\":\"1821\",\"type\":\"LinearAxis\"}],\"plot_height\":350,\"plot_width\":350,\"renderers\":[{\"id\":\"1893\",\"type\":\"GlyphRenderer\"},{\"id\":\"1919\",\"type\":\"GlyphRenderer\"}],\"title\":{\"id\":\"1895\",\"type\":\"Title\"},\"toolbar\":{\"id\":\"1832\",\"type\":\"Toolbar\"},\"toolbar_location\":null,\"x_range\":{\"id\":\"1808\",\"type\":\"DataRange1d\"},\"x_scale\":{\"id\":\"1812\",\"type\":\"LinearScale\"},\"y_range\":{\"id\":\"1810\",\"type\":\"DataRange1d\"},\"y_scale\":{\"id\":\"1814\",\"type\":\"LinearScale\"}},\"id\":\"1807\",\"subtype\":\"Figure\",\"type\":\"Plot\"},{\"attributes\":{},\"id\":\"1798\",\"type\":\"ResetTool\"},{\"attributes\":{},\"id\":\"1858\",\"type\":\"PanTool\"},{\"attributes\":{\"below\":[{\"id\":\"1752\",\"type\":\"LinearAxis\"}],\"center\":[{\"id\":\"1756\",\"type\":\"Grid\"},{\"id\":\"1761\",\"type\":\"Grid\"}],\"left\":[{\"id\":\"1757\",\"type\":\"LinearAxis\"}],\"plot_height\":350,\"plot_width\":350,\"renderers\":[{\"id\":\"1887\",\"type\":\"GlyphRenderer\"},{\"id\":\"1915\",\"type\":\"GlyphRenderer\"}],\"title\":{\"id\":\"1889\",\"type\":\"Title\"},\"toolbar\":{\"id\":\"1768\",\"type\":\"Toolbar\"},\"toolbar_location\":null,\"x_range\":{\"id\":\"1744\",\"type\":\"DataRange1d\"},\"x_scale\":{\"id\":\"1748\",\"type\":\"LinearScale\"},\"y_range\":{\"id\":\"1746\",\"type\":\"DataRange1d\"},\"y_scale\":{\"id\":\"1750\",\"type\":\"LinearScale\"}},\"id\":\"1743\",\"subtype\":\"Figure\",\"type\":\"Plot\"},{\"attributes\":{\"callback\":null,\"data\":{\"x\":[0,1,2,3,4,5,6,7,8,9,10,11,12,13,14,15,16,17,18,19,20,21,22,23,24,25],\"y\":{\"__ndarray__\":\"AAAAAAAAAAC3T6z9t3PuP5kZkNHJAP0/9EmX9wq8BED2HeFv2F8KQOgI6YhAeg9Al6eHOSsMEkC4qtVr9yIUQCx5jxTfBhZA3d/6B7q8F0BzFhUe6kgZQAVSJW1mrxpA+HDOccXzG0DPXqlBRhkdQMb819rYIh5AOHNIrCUTH0DdeFFklOwfQHxJJQ2pWCBAzVrzcKuxIECRnV5rNQIhQCuWZVYVSyFAoHIN6QWNIUCZ2qkVsMghQJqDdbqs/iFAqrMEKoYvIkDvOfaMuVsiQA==\",\"dtype\":\"float64\",\"shape\":[26]}},\"selected\":{\"id\":\"1945\",\"type\":\"Selection\"},\"selection_policy\":{\"id\":\"1946\",\"type\":\"UnionRenderers\"}},\"id\":\"1875\",\"type\":\"ColumnDataSource\"},{\"attributes\":{},\"id\":\"1753\",\"type\":\"BasicTicker\"},{\"attributes\":{},\"id\":\"1794\",\"type\":\"PanTool\"},{\"attributes\":{},\"id\":\"1849\",\"type\":\"BasicTicker\"},{\"attributes\":{},\"id\":\"1830\",\"type\":\"ResetTool\"},{\"attributes\":{\"callback\":null},\"id\":\"1776\",\"type\":\"DataRange1d\"},{\"attributes\":{\"callback\":null,\"data\":{\"x\":[0,1,2,3,4,5,6,7,8,9,10,11,12,13,14,15,16,17,18,19,20,21,22,23,24,25],\"y\":[0,1,2,3,4,5,6,7,8,9,10,11,12,13,14,15,16,17,18,19,20,21,22,23,24,25]},\"selected\":{\"id\":\"1969\",\"type\":\"Selection\"},\"selection_policy\":{\"id\":\"1970\",\"type\":\"UnionRenderers\"}},\"id\":\"1883\",\"type\":\"ColumnDataSource\"},{\"attributes\":{\"data_source\":{\"id\":\"1881\",\"type\":\"ColumnDataSource\"},\"glyph\":{\"id\":\"1882\",\"type\":\"Line\"},\"hover_glyph\":null,\"muted_glyph\":null,\"view\":{\"id\":\"1891\",\"type\":\"CDSView\"}},\"id\":\"1890\",\"type\":\"GlyphRenderer\"},{\"attributes\":{\"active_drag\":\"auto\",\"active_inspect\":\"auto\",\"active_multi\":null,\"active_scroll\":\"auto\",\"active_tap\":\"auto\",\"tools\":[{\"id\":\"1794\",\"type\":\"PanTool\"},{\"id\":\"1795\",\"type\":\"WheelZoomTool\"},{\"id\":\"1796\",\"type\":\"BoxZoomTool\"},{\"id\":\"1797\",\"type\":\"SaveTool\"},{\"id\":\"1798\",\"type\":\"ResetTool\"},{\"id\":\"1799\",\"type\":\"HelpTool\"}]},\"id\":\"1800\",\"type\":\"Toolbar\"},{\"attributes\":{\"overlay\":{\"id\":\"1961\",\"type\":\"BoxAnnotation\"}},\"id\":\"1796\",\"type\":\"BoxZoomTool\"},{\"attributes\":{\"overlay\":{\"id\":\"1985\",\"type\":\"BoxAnnotation\"}},\"id\":\"1860\",\"type\":\"BoxZoomTool\"},{\"attributes\":{\"dimension\":1,\"ticker\":{\"id\":\"1758\",\"type\":\"BasicTicker\"}},\"id\":\"1761\",\"type\":\"Grid\"},{\"attributes\":{},\"id\":\"1758\",\"type\":\"BasicTicker\"},{\"attributes\":{\"text\":\"sales\"},\"id\":\"1889\",\"type\":\"Title\"},{\"attributes\":{\"axis_label\":\"expected sales\",\"formatter\":{\"id\":\"1943\",\"type\":\"BasicTickFormatter\"},\"ticker\":{\"id\":\"1758\",\"type\":\"BasicTicker\"}},\"id\":\"1757\",\"type\":\"LinearAxis\"},{\"attributes\":{\"axis_label\":\"expected cost\",\"formatter\":{\"id\":\"1967\",\"type\":\"BasicTickFormatter\"},\"ticker\":{\"id\":\"1822\",\"type\":\"BasicTicker\"}},\"id\":\"1821\",\"type\":\"LinearAxis\"},{\"attributes\":{\"axis_label\":\"order qty\",\"formatter\":{\"id\":\"1977\",\"type\":\"BasicTickFormatter\"},\"ticker\":{\"id\":\"1849\",\"type\":\"BasicTicker\"}},\"id\":\"1848\",\"type\":\"LinearAxis\"},{\"attributes\":{},\"id\":\"1767\",\"type\":\"HelpTool\"},{\"attributes\":{\"active_drag\":\"auto\",\"active_inspect\":\"auto\",\"active_multi\":null,\"active_scroll\":\"auto\",\"active_tap\":\"auto\",\"tools\":[{\"id\":\"1826\",\"type\":\"PanTool\"},{\"id\":\"1827\",\"type\":\"WheelZoomTool\"},{\"id\":\"1828\",\"type\":\"BoxZoomTool\"},{\"id\":\"1829\",\"type\":\"SaveTool\"},{\"id\":\"1830\",\"type\":\"ResetTool\"},{\"id\":\"1831\",\"type\":\"HelpTool\"}]},\"id\":\"1832\",\"type\":\"Toolbar\"},{\"attributes\":{\"axis_label\":\"expected revenue\",\"formatter\":{\"id\":\"1955\",\"type\":\"BasicTickFormatter\"},\"ticker\":{\"id\":\"1790\",\"type\":\"BasicTicker\"}},\"id\":\"1789\",\"type\":\"LinearAxis\"},{\"attributes\":{},\"id\":\"1782\",\"type\":\"LinearScale\"}],\"root_ids\":[\"1990\"]},\"title\":\"Bokeh Application\",\"version\":\"1.3.4\"}};\n",
       "  var render_items = [{\"docid\":\"ce717bb5-cf4b-46df-880d-654a9b6b2454\",\"notebook_comms_target\":\"2089\",\"roots\":{\"1990\":\"9accb1d1-63e0-4f0d-a20b-c4baad22b51f\"}}];\n",
       "  root.Bokeh.embed.embed_items_notebook(docs_json, render_items);\n",
       "\n",
       "  }\n",
       "  if (root.Bokeh !== undefined) {\n",
       "    embed_document(root);\n",
       "  } else {\n",
       "    var attempts = 0;\n",
       "    var timer = setInterval(function(root) {\n",
       "      if (root.Bokeh !== undefined) {\n",
       "        embed_document(root);\n",
       "        clearInterval(timer);\n",
       "      }\n",
       "      attempts++;\n",
       "      if (attempts > 100) {\n",
       "        console.log(\"Bokeh: ERROR: Unable to run BokehJS code because BokehJS library is missing\");\n",
       "        clearInterval(timer);\n",
       "      }\n",
       "    }, 10, root)\n",
       "  }\n",
       "})(window);"
      ],
      "application/vnd.bokehjs_exec.v0+json": ""
     },
     "metadata": {
      "application/vnd.bokehjs_exec.v0+json": {
       "id": "1990"
      }
     },
     "output_type": "display_data"
    }
   ],
   "source": [
    "fields = ['sales', 'revenue', 'cost', 'profit']\n",
    "labels = {field: {'x': 'order qty', 'y': 'expected ' + field, 'title': field} for field in fields}\n",
    "ev_func = lambda n: news_plot.line_glyphs(n.exp_vals(), 'order qty')\n",
    "ev_sources, ev_plots = newsvendor.news_gridplot(news_plot.figures(fields, plot_width=350, plot_height=350), ev_func, news, labels=labels)\n",
    "circle_func = lambda n: news_plot.circle_markers(n.exp_vals([n.order_qty]))\n",
    "newsvendor.interact_gridplot({field: ev_plots[field] for field in fields}, circle_func, news, ncols=2)"
   ]
  }
 ],
 "metadata": {
  "kernelspec": {
   "display_name": "Python 3",
   "language": "python",
   "name": "python3"
  },
  "language_info": {
   "codemirror_mode": {
    "name": "ipython",
    "version": 3
   },
   "file_extension": ".py",
   "mimetype": "text/x-python",
   "name": "python",
   "nbconvert_exporter": "python",
   "pygments_lexer": "ipython3",
   "version": "3.7.4"
  }
 },
 "nbformat": 4,
 "nbformat_minor": 2
}

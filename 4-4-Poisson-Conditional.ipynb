{
 "cells": [
  {
   "cell_type": "markdown",
   "metadata": {},
   "source": [
    "# The Poisson Process: Section 4 - Conditional Distribution"
   ]
  },
  {
   "cell_type": "markdown",
   "metadata": {},
   "source": [
    "One additional useful property of the Poisson process has to do with the conditional distribution of arrivals over a time period.\n",
    "\n",
    "We've already seen that the *number* of arrivals for any time period of length $t$ is $N(t) \\sim \\text{Poisson}(\\lambda)$, since the Poisson process has stationary increments.  If the number of arrivals is given, how are they distributed over the time period?"
   ]
  },
  {
   "cell_type": "markdown",
   "metadata": {},
   "source": [
    "## A Single Arrival\n",
    "\n",
    "Suppose that $N(t) = 1$, so there is exactly one arrival during the time inteval $[0, t]$ and that arrival occurs at time $S_1$.  What is the conditional probability distribution of $S_1$ given $N(t) = 1$?\n",
    "\n",
    "First, we should note that *given* $N(t) = 1$, the (conditional) distribution of $S_1$ *is not* exponential, because clearly the first arrival must occur by time $t$.\n",
    "$$\\mathsf{P}(S_1 \\leq t\\,|\\,N(t) = 1) = 1$$\n",
    "\n",
    "Using the definition of conditional probability:\n",
    "$$\\begin{aligned}\n",
    "    \\mathsf{P}(S_1 \\leq s\\,|\\,N(t) = 1) = \\frac{\\mathsf{P}(S_1 \\leq s \\text{ and } N(t) = 1)}{\\mathsf{P}(N(t)=1)}\\\\\n",
    "  \\end{aligned}$$\n",
    "The denominator is easy to calculate since $N(t) \\sim \\text{Poisson}(\\lambda t)$, so $\\mathsf{P}(N(t)=1) = \\lambda t e^{-\\lambda t}$.\n",
    "\n",
    "For the numerator, note that $\\{S_1 \\leq s \\text{ and } N(t) = 1\\} = \\{N(s) = 1 \\text{ and } N(t) - N(s) = 0\\}$.  That is, the numerator asks for the probability that there is exactly one arrival in $[0, s]$ and no arrivals in $(s, t]$.  This lets us use the fact that the Poisson process has **stationary and independent increments**:\n",
    "$$\\begin{aligned}\n",
    "    \\mathsf{P}(N(s) = 1 \\text{ and } N(t) - N(s) = 0) &= \\mathsf{P}(N(s) = 1) \\times \\mathsf{P}(N(t) - N(s) = 0) & \\text{(independent increments)} \\\\\n",
    "    \\mathsf{P}(N(s) = 1) &= e^{-\\lambda s} \\frac{(\\lambda s)^1}{1!}  = \\lambda s e^{-\\lambda s} \\\\\n",
    "    \\mathsf{P}(N(t) - N(s) = 0) &= e^{-\\lambda (t - s)} \\frac{(\\lambda (t-s))^0}{0!} = e^{-\\lambda (t-s)} &\\text{(stationary increments)} \\\\\n",
    "  \\end{aligned}$$  \n",
    "\n",
    "Putting this together, we get\n",
    "$$\\begin{aligned}\n",
    "    \\mathsf{P}(S_1 \\leq s\\,|\\,N(t) = 1) &= \\frac{\\mathsf{P}(S_1 \\leq s \\text{ and } N(t) = 1)}{\\mathsf{P}(N(t)=1)} \\\\\n",
    "    &= \\frac{\\lambda s e^{-\\lambda s} \\times e^{-\\lambda (t-s)}}{\\lambda t e^{-\\lambda t}} \\\\\n",
    "    &= \\frac{s}{t}\n",
    "  \\end{aligned}$$\n",
    "which we recognize as (the cdf of) the $\\text{Uniform}[0,t]$ distribution.\n",
    "\n",
    "Therefore, given that there is one arrival during a time interval, $N(t) = 1$, then that arrival is equally likely to occur anywhere in the interval $\\text{Uniform}[0, t]$."
   ]
  },
  {
   "cell_type": "markdown",
   "metadata": {},
   "source": [
    "## Multiple Arrivals\n",
    "\n",
    "It turns out that the same idea is true for multiple arrivals as well: given the number of arrivals, the timing of those arrivals are uniformly distributed over the interval: Given $N(t) = n$ then the **unordered** arrivals are independent and identically distributed according to $\\text{Uniform}[0, t]$.\n",
    "\n",
    "A good way to think about this is an alternative way to simulate a Poisson process.  Suppose we want to simulate a Poisson process with rate $\\lambda$ over a time period $[0, t]$.  \n",
    "\n",
    "From our earlier description, with independent and exponentially distributed $X_i$, the “obvious“ way to do this is to simulate $X_1, X_2, X_3, \\dots$, calculate the arrival times $S_1, S_2, S_3, \\dots$, and stop when the next arrival, $S_{n+1}$, occurs after $t$.\n",
    "\n",
    "The alternative way, based on the conditional distribution of arrival times is to first simulate $N(t) \\sim \\text{Poisson}(\\lambda t)$ and then, given the number of arrivals, simulate the (unordered) arrival times $U_1, U_2, U_3, \\dots, U_{N(t)}$ as independent $\\text{Uniform}[0, t]$.  To obtain the actual arrival time sequence $S_1, S_2, S_3, \\dots S_{N(t)}$, we simply sort the $U_i$ (so $S_1$ is the smallest $U_i$, $S_2$ is the second smallest, etc.)."
   ]
  },
  {
   "cell_type": "markdown",
   "metadata": {},
   "source": [
    "## Arrivals in a Subinterval\n",
    "\n",
    "One application of the conditional distribution of arrivals, is as follows.  Given that there are $N(t) = n$ arrivals in $[0, t]$, what is the number of arrivals in $[a, b]$ where $[a, b] \\subseteq [0, t]$ (that is, $0 \\leq a < b \\leq t$).  (Note that these are two increments of the Poisson process, but they are *not* independent because they are overlapping.)\n",
    "\n",
    "Conditional on $N(t) = n$, each unordered arrival falls uniformly in $[0, t]$.  So the probability that any single arrival falls in $(a, b]$ is simply $(b - a)/t$ (the relative size of the intervals) **and** *this is independent from the other arrivals*.  Put another way, given that there are $n$ arrivals in $[0, t]$, the timing of each arrival is independent and falls in the subinterval $(a, b]$ with probability $(b - a)/t$ (think of this as a “success”).  What is the probability that there are $k$ successes out of $n$ attempts?\n",
    "$$ \\mathsf{P}(N(b) - N(a) = k\\,|\\, N(t) = n) = \\binom{n}{k} \\left(\\frac{b - a}{t}\\right)^k \\left(1 - \\frac{b-a}{t}\\right)^{n-k}$$\n"
   ]
  },
  {
   "cell_type": "markdown",
   "metadata": {},
   "source": [
    "## Example: Bus Stop\n",
    "\n",
    "Continuing with the bus stop example where passengers arrive according to a Poisson process with rate $\\lambda = 2$ passengers per minute and buses depart every $d = 10$ minutes.  Assume that the bus stop is empty at time $0$ and the first bus departs at time $10$ minutes.\n",
    "\n",
    "* Given that there are $30$ passengers on a bus, what is the probability $10$ of them waited more than $5$ minutes?\n",
    "* Suppose the first two buses had a total of $40$ passengers. What is the probability that the first bus was more full than the second?  What is the probability that each took exactly $20$ passengers?"
   ]
  }
 ],
 "metadata": {
  "kernelspec": {
   "display_name": "Python 3",
   "language": "python",
   "name": "python3"
  },
  "language_info": {
   "codemirror_mode": {
    "name": "ipython",
    "version": 3
   },
   "file_extension": ".py",
   "mimetype": "text/x-python",
   "name": "python",
   "nbconvert_exporter": "python",
   "pygments_lexer": "ipython3",
   "version": "3.7.4"
  }
 },
 "nbformat": 4,
 "nbformat_minor": 2
}

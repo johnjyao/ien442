{
 "cells": [
  {
   "cell_type": "markdown",
   "metadata": {},
   "source": [
    "# The Newsvendor Model - Section 1: Numerical Studies\n",
    "---\n",
    "\n",
    "## Problem Setting\n",
    "\n",
    "You are a newsvendor, who sells newspapers during the day.\n",
    "In the morning, you receive an order of $y$ newspapers from a wholesale distributor and pay a wholesale cost of $c =$ \\\\$1 per newspaper.\n",
    "The retail price of a newspaper is $p =$ \\\\$2 per newspaper.\n",
    "The demand, or number of newspapers you can *potentially* sell during the day, is random and represented by $D$ (a random variable).\n",
    "You don’t know what the realized demand will be during the day (since it is random), but you do know the probability distribution of $D$.\n",
    "\n",
    "**Summary of Notation**\n",
    "\n",
    "* $p$ = retail price of a newspaper\n",
    "* $c$ = wholesale cost of a newspaper\n",
    "* $y$ = order quantity\n",
    "* $D$ = demand (random)\n",
    "\n",
    "For now, assume that $D\\sim\\text{Uniform}\\{0, \\dots, 19\\}$.\n",
    "That is, it is equally likely for $D$ to take any value in the set $\\{0, 1, 2, \\dots, 19\\}$:\n",
    "\n",
    "$$ \\mathsf{P}(D = i) = \\frac{1}{20} \\qquad\\text{for } i = 0, 1, 2, \\dots, 19 $$\n",
    "\n",
    "(Note that there are $20$ elements in the set $\\{0, \\dots, 19\\}$.)\n",
    "\n",
    "If demand is high and you run out of newspapers during the day, you cannot order more.  \n",
    "\n",
    "If demand is low and you are left with unsold newspapers at the end of the day, they are worthless and thrown out.\n",
    "\n",
    "**Note:** This means that your sales (the actual number of newspapers you sell) may be less than the demand or the order quantity.\n",
    "\n",
    "How do you decide on the order quantity $y$?"
   ]
  },
  {
   "cell_type": "markdown",
   "metadata": {},
   "source": [
    "## Setup\n",
    "\n",
    "The following Python code imports the necessary Python packages and specifies the problem parameters for the remainder of this notebook.  You can change the parameters if you'd like, but they may end up mismatched with the text."
   ]
  },
  {
   "cell_type": "code",
   "execution_count": 1,
   "metadata": {},
   "outputs": [
    {
     "data": {
      "text/html": [
       "\n",
       "    <div class=\"bk-root\">\n",
       "        <a href=\"https://bokeh.pydata.org\" target=\"_blank\" class=\"bk-logo bk-logo-small bk-logo-notebook\"></a>\n",
       "        <span id=\"1001\">Loading BokehJS ...</span>\n",
       "    </div>"
      ]
     },
     "metadata": {},
     "output_type": "display_data"
    },
    {
     "data": {
      "application/javascript": [
       "\n",
       "(function(root) {\n",
       "  function now() {\n",
       "    return new Date();\n",
       "  }\n",
       "\n",
       "  var force = true;\n",
       "\n",
       "  if (typeof root._bokeh_onload_callbacks === \"undefined\" || force === true) {\n",
       "    root._bokeh_onload_callbacks = [];\n",
       "    root._bokeh_is_loading = undefined;\n",
       "  }\n",
       "\n",
       "  var JS_MIME_TYPE = 'application/javascript';\n",
       "  var HTML_MIME_TYPE = 'text/html';\n",
       "  var EXEC_MIME_TYPE = 'application/vnd.bokehjs_exec.v0+json';\n",
       "  var CLASS_NAME = 'output_bokeh rendered_html';\n",
       "\n",
       "  /**\n",
       "   * Render data to the DOM node\n",
       "   */\n",
       "  function render(props, node) {\n",
       "    var script = document.createElement(\"script\");\n",
       "    node.appendChild(script);\n",
       "  }\n",
       "\n",
       "  /**\n",
       "   * Handle when an output is cleared or removed\n",
       "   */\n",
       "  function handleClearOutput(event, handle) {\n",
       "    var cell = handle.cell;\n",
       "\n",
       "    var id = cell.output_area._bokeh_element_id;\n",
       "    var server_id = cell.output_area._bokeh_server_id;\n",
       "    // Clean up Bokeh references\n",
       "    if (id != null && id in Bokeh.index) {\n",
       "      Bokeh.index[id].model.document.clear();\n",
       "      delete Bokeh.index[id];\n",
       "    }\n",
       "\n",
       "    if (server_id !== undefined) {\n",
       "      // Clean up Bokeh references\n",
       "      var cmd = \"from bokeh.io.state import curstate; print(curstate().uuid_to_server['\" + server_id + \"'].get_sessions()[0].document.roots[0]._id)\";\n",
       "      cell.notebook.kernel.execute(cmd, {\n",
       "        iopub: {\n",
       "          output: function(msg) {\n",
       "            var id = msg.content.text.trim();\n",
       "            if (id in Bokeh.index) {\n",
       "              Bokeh.index[id].model.document.clear();\n",
       "              delete Bokeh.index[id];\n",
       "            }\n",
       "          }\n",
       "        }\n",
       "      });\n",
       "      // Destroy server and session\n",
       "      var cmd = \"import bokeh.io.notebook as ion; ion.destroy_server('\" + server_id + \"')\";\n",
       "      cell.notebook.kernel.execute(cmd);\n",
       "    }\n",
       "  }\n",
       "\n",
       "  /**\n",
       "   * Handle when a new output is added\n",
       "   */\n",
       "  function handleAddOutput(event, handle) {\n",
       "    var output_area = handle.output_area;\n",
       "    var output = handle.output;\n",
       "\n",
       "    // limit handleAddOutput to display_data with EXEC_MIME_TYPE content only\n",
       "    if ((output.output_type != \"display_data\") || (!output.data.hasOwnProperty(EXEC_MIME_TYPE))) {\n",
       "      return\n",
       "    }\n",
       "\n",
       "    var toinsert = output_area.element.find(\".\" + CLASS_NAME.split(' ')[0]);\n",
       "\n",
       "    if (output.metadata[EXEC_MIME_TYPE][\"id\"] !== undefined) {\n",
       "      toinsert[toinsert.length - 1].firstChild.textContent = output.data[JS_MIME_TYPE];\n",
       "      // store reference to embed id on output_area\n",
       "      output_area._bokeh_element_id = output.metadata[EXEC_MIME_TYPE][\"id\"];\n",
       "    }\n",
       "    if (output.metadata[EXEC_MIME_TYPE][\"server_id\"] !== undefined) {\n",
       "      var bk_div = document.createElement(\"div\");\n",
       "      bk_div.innerHTML = output.data[HTML_MIME_TYPE];\n",
       "      var script_attrs = bk_div.children[0].attributes;\n",
       "      for (var i = 0; i < script_attrs.length; i++) {\n",
       "        toinsert[toinsert.length - 1].firstChild.setAttribute(script_attrs[i].name, script_attrs[i].value);\n",
       "      }\n",
       "      // store reference to server id on output_area\n",
       "      output_area._bokeh_server_id = output.metadata[EXEC_MIME_TYPE][\"server_id\"];\n",
       "    }\n",
       "  }\n",
       "\n",
       "  function register_renderer(events, OutputArea) {\n",
       "\n",
       "    function append_mime(data, metadata, element) {\n",
       "      // create a DOM node to render to\n",
       "      var toinsert = this.create_output_subarea(\n",
       "        metadata,\n",
       "        CLASS_NAME,\n",
       "        EXEC_MIME_TYPE\n",
       "      );\n",
       "      this.keyboard_manager.register_events(toinsert);\n",
       "      // Render to node\n",
       "      var props = {data: data, metadata: metadata[EXEC_MIME_TYPE]};\n",
       "      render(props, toinsert[toinsert.length - 1]);\n",
       "      element.append(toinsert);\n",
       "      return toinsert\n",
       "    }\n",
       "\n",
       "    /* Handle when an output is cleared or removed */\n",
       "    events.on('clear_output.CodeCell', handleClearOutput);\n",
       "    events.on('delete.Cell', handleClearOutput);\n",
       "\n",
       "    /* Handle when a new output is added */\n",
       "    events.on('output_added.OutputArea', handleAddOutput);\n",
       "\n",
       "    /**\n",
       "     * Register the mime type and append_mime function with output_area\n",
       "     */\n",
       "    OutputArea.prototype.register_mime_type(EXEC_MIME_TYPE, append_mime, {\n",
       "      /* Is output safe? */\n",
       "      safe: true,\n",
       "      /* Index of renderer in `output_area.display_order` */\n",
       "      index: 0\n",
       "    });\n",
       "  }\n",
       "\n",
       "  // register the mime type if in Jupyter Notebook environment and previously unregistered\n",
       "  if (root.Jupyter !== undefined) {\n",
       "    var events = require('base/js/events');\n",
       "    var OutputArea = require('notebook/js/outputarea').OutputArea;\n",
       "\n",
       "    if (OutputArea.prototype.mime_types().indexOf(EXEC_MIME_TYPE) == -1) {\n",
       "      register_renderer(events, OutputArea);\n",
       "    }\n",
       "  }\n",
       "\n",
       "  \n",
       "  if (typeof (root._bokeh_timeout) === \"undefined\" || force === true) {\n",
       "    root._bokeh_timeout = Date.now() + 5000;\n",
       "    root._bokeh_failed_load = false;\n",
       "  }\n",
       "\n",
       "  var NB_LOAD_WARNING = {'data': {'text/html':\n",
       "     \"<div style='background-color: #fdd'>\\n\"+\n",
       "     \"<p>\\n\"+\n",
       "     \"BokehJS does not appear to have successfully loaded. If loading BokehJS from CDN, this \\n\"+\n",
       "     \"may be due to a slow or bad network connection. Possible fixes:\\n\"+\n",
       "     \"</p>\\n\"+\n",
       "     \"<ul>\\n\"+\n",
       "     \"<li>re-rerun `output_notebook()` to attempt to load from CDN again, or</li>\\n\"+\n",
       "     \"<li>use INLINE resources instead, as so:</li>\\n\"+\n",
       "     \"</ul>\\n\"+\n",
       "     \"<code>\\n\"+\n",
       "     \"from bokeh.resources import INLINE\\n\"+\n",
       "     \"output_notebook(resources=INLINE)\\n\"+\n",
       "     \"</code>\\n\"+\n",
       "     \"</div>\"}};\n",
       "\n",
       "  function display_loaded() {\n",
       "    var el = document.getElementById(\"1001\");\n",
       "    if (el != null) {\n",
       "      el.textContent = \"BokehJS is loading...\";\n",
       "    }\n",
       "    if (root.Bokeh !== undefined) {\n",
       "      if (el != null) {\n",
       "        el.textContent = \"BokehJS \" + root.Bokeh.version + \" successfully loaded.\";\n",
       "      }\n",
       "    } else if (Date.now() < root._bokeh_timeout) {\n",
       "      setTimeout(display_loaded, 100)\n",
       "    }\n",
       "  }\n",
       "\n",
       "\n",
       "  function run_callbacks() {\n",
       "    try {\n",
       "      root._bokeh_onload_callbacks.forEach(function(callback) {\n",
       "        if (callback != null)\n",
       "          callback();\n",
       "      });\n",
       "    } finally {\n",
       "      delete root._bokeh_onload_callbacks\n",
       "    }\n",
       "    console.debug(\"Bokeh: all callbacks have finished\");\n",
       "  }\n",
       "\n",
       "  function load_libs(css_urls, js_urls, callback) {\n",
       "    if (css_urls == null) css_urls = [];\n",
       "    if (js_urls == null) js_urls = [];\n",
       "\n",
       "    root._bokeh_onload_callbacks.push(callback);\n",
       "    if (root._bokeh_is_loading > 0) {\n",
       "      console.debug(\"Bokeh: BokehJS is being loaded, scheduling callback at\", now());\n",
       "      return null;\n",
       "    }\n",
       "    if (js_urls == null || js_urls.length === 0) {\n",
       "      run_callbacks();\n",
       "      return null;\n",
       "    }\n",
       "    console.debug(\"Bokeh: BokehJS not loaded, scheduling load and callback at\", now());\n",
       "    root._bokeh_is_loading = css_urls.length + js_urls.length;\n",
       "\n",
       "    function on_load() {\n",
       "      root._bokeh_is_loading--;\n",
       "      if (root._bokeh_is_loading === 0) {\n",
       "        console.debug(\"Bokeh: all BokehJS libraries/stylesheets loaded\");\n",
       "        run_callbacks()\n",
       "      }\n",
       "    }\n",
       "\n",
       "    function on_error() {\n",
       "      console.error(\"failed to load \" + url);\n",
       "    }\n",
       "\n",
       "    for (var i = 0; i < css_urls.length; i++) {\n",
       "      var url = css_urls[i];\n",
       "      const element = document.createElement(\"link\");\n",
       "      element.onload = on_load;\n",
       "      element.onerror = on_error;\n",
       "      element.rel = \"stylesheet\";\n",
       "      element.type = \"text/css\";\n",
       "      element.href = url;\n",
       "      console.debug(\"Bokeh: injecting link tag for BokehJS stylesheet: \", url);\n",
       "      document.body.appendChild(element);\n",
       "    }\n",
       "\n",
       "    for (var i = 0; i < js_urls.length; i++) {\n",
       "      var url = js_urls[i];\n",
       "      var element = document.createElement('script');\n",
       "      element.onload = on_load;\n",
       "      element.onerror = on_error;\n",
       "      element.async = false;\n",
       "      element.src = url;\n",
       "      console.debug(\"Bokeh: injecting script tag for BokehJS library: \", url);\n",
       "      document.head.appendChild(element);\n",
       "    }\n",
       "  };var element = document.getElementById(\"1001\");\n",
       "  if (element == null) {\n",
       "    console.error(\"Bokeh: ERROR: autoload.js configured with elementid '1001' but no matching script tag was found. \")\n",
       "    return false;\n",
       "  }\n",
       "\n",
       "  function inject_raw_css(css) {\n",
       "    const element = document.createElement(\"style\");\n",
       "    element.appendChild(document.createTextNode(css));\n",
       "    document.body.appendChild(element);\n",
       "  }\n",
       "\n",
       "  var js_urls = [\"https://cdn.pydata.org/bokeh/release/bokeh-1.3.4.min.js\", \"https://cdn.pydata.org/bokeh/release/bokeh-widgets-1.3.4.min.js\", \"https://cdn.pydata.org/bokeh/release/bokeh-tables-1.3.4.min.js\", \"https://cdn.pydata.org/bokeh/release/bokeh-gl-1.3.4.min.js\"];\n",
       "  var css_urls = [];\n",
       "\n",
       "  var inline_js = [\n",
       "    function(Bokeh) {\n",
       "      Bokeh.set_log_level(\"info\");\n",
       "    },\n",
       "    \n",
       "    function(Bokeh) {\n",
       "      \n",
       "    },\n",
       "    function(Bokeh) {} // ensure no trailing comma for IE\n",
       "  ];\n",
       "\n",
       "  function run_inline_js() {\n",
       "    \n",
       "    if ((root.Bokeh !== undefined) || (force === true)) {\n",
       "      for (var i = 0; i < inline_js.length; i++) {\n",
       "        inline_js[i].call(root, root.Bokeh);\n",
       "      }if (force === true) {\n",
       "        display_loaded();\n",
       "      }} else if (Date.now() < root._bokeh_timeout) {\n",
       "      setTimeout(run_inline_js, 100);\n",
       "    } else if (!root._bokeh_failed_load) {\n",
       "      console.log(\"Bokeh: BokehJS failed to load within specified timeout.\");\n",
       "      root._bokeh_failed_load = true;\n",
       "    } else if (force !== true) {\n",
       "      var cell = $(document.getElementById(\"1001\")).parents('.cell').data().cell;\n",
       "      cell.output_area.append_execute_result(NB_LOAD_WARNING)\n",
       "    }\n",
       "\n",
       "  }\n",
       "\n",
       "  if (root._bokeh_is_loading === 0) {\n",
       "    console.debug(\"Bokeh: BokehJS loaded, going straight to plotting\");\n",
       "    run_inline_js();\n",
       "  } else {\n",
       "    load_libs(css_urls, js_urls, function() {\n",
       "      console.debug(\"Bokeh: BokehJS plotting callback run at\", now());\n",
       "      run_inline_js();\n",
       "    });\n",
       "  }\n",
       "}(window));"
      ],
      "application/vnd.bokehjs_load.v0+json": "\n(function(root) {\n  function now() {\n    return new Date();\n  }\n\n  var force = true;\n\n  if (typeof root._bokeh_onload_callbacks === \"undefined\" || force === true) {\n    root._bokeh_onload_callbacks = [];\n    root._bokeh_is_loading = undefined;\n  }\n\n  \n\n  \n  if (typeof (root._bokeh_timeout) === \"undefined\" || force === true) {\n    root._bokeh_timeout = Date.now() + 5000;\n    root._bokeh_failed_load = false;\n  }\n\n  var NB_LOAD_WARNING = {'data': {'text/html':\n     \"<div style='background-color: #fdd'>\\n\"+\n     \"<p>\\n\"+\n     \"BokehJS does not appear to have successfully loaded. If loading BokehJS from CDN, this \\n\"+\n     \"may be due to a slow or bad network connection. Possible fixes:\\n\"+\n     \"</p>\\n\"+\n     \"<ul>\\n\"+\n     \"<li>re-rerun `output_notebook()` to attempt to load from CDN again, or</li>\\n\"+\n     \"<li>use INLINE resources instead, as so:</li>\\n\"+\n     \"</ul>\\n\"+\n     \"<code>\\n\"+\n     \"from bokeh.resources import INLINE\\n\"+\n     \"output_notebook(resources=INLINE)\\n\"+\n     \"</code>\\n\"+\n     \"</div>\"}};\n\n  function display_loaded() {\n    var el = document.getElementById(\"1001\");\n    if (el != null) {\n      el.textContent = \"BokehJS is loading...\";\n    }\n    if (root.Bokeh !== undefined) {\n      if (el != null) {\n        el.textContent = \"BokehJS \" + root.Bokeh.version + \" successfully loaded.\";\n      }\n    } else if (Date.now() < root._bokeh_timeout) {\n      setTimeout(display_loaded, 100)\n    }\n  }\n\n\n  function run_callbacks() {\n    try {\n      root._bokeh_onload_callbacks.forEach(function(callback) {\n        if (callback != null)\n          callback();\n      });\n    } finally {\n      delete root._bokeh_onload_callbacks\n    }\n    console.debug(\"Bokeh: all callbacks have finished\");\n  }\n\n  function load_libs(css_urls, js_urls, callback) {\n    if (css_urls == null) css_urls = [];\n    if (js_urls == null) js_urls = [];\n\n    root._bokeh_onload_callbacks.push(callback);\n    if (root._bokeh_is_loading > 0) {\n      console.debug(\"Bokeh: BokehJS is being loaded, scheduling callback at\", now());\n      return null;\n    }\n    if (js_urls == null || js_urls.length === 0) {\n      run_callbacks();\n      return null;\n    }\n    console.debug(\"Bokeh: BokehJS not loaded, scheduling load and callback at\", now());\n    root._bokeh_is_loading = css_urls.length + js_urls.length;\n\n    function on_load() {\n      root._bokeh_is_loading--;\n      if (root._bokeh_is_loading === 0) {\n        console.debug(\"Bokeh: all BokehJS libraries/stylesheets loaded\");\n        run_callbacks()\n      }\n    }\n\n    function on_error() {\n      console.error(\"failed to load \" + url);\n    }\n\n    for (var i = 0; i < css_urls.length; i++) {\n      var url = css_urls[i];\n      const element = document.createElement(\"link\");\n      element.onload = on_load;\n      element.onerror = on_error;\n      element.rel = \"stylesheet\";\n      element.type = \"text/css\";\n      element.href = url;\n      console.debug(\"Bokeh: injecting link tag for BokehJS stylesheet: \", url);\n      document.body.appendChild(element);\n    }\n\n    for (var i = 0; i < js_urls.length; i++) {\n      var url = js_urls[i];\n      var element = document.createElement('script');\n      element.onload = on_load;\n      element.onerror = on_error;\n      element.async = false;\n      element.src = url;\n      console.debug(\"Bokeh: injecting script tag for BokehJS library: \", url);\n      document.head.appendChild(element);\n    }\n  };var element = document.getElementById(\"1001\");\n  if (element == null) {\n    console.error(\"Bokeh: ERROR: autoload.js configured with elementid '1001' but no matching script tag was found. \")\n    return false;\n  }\n\n  function inject_raw_css(css) {\n    const element = document.createElement(\"style\");\n    element.appendChild(document.createTextNode(css));\n    document.body.appendChild(element);\n  }\n\n  var js_urls = [\"https://cdn.pydata.org/bokeh/release/bokeh-1.3.4.min.js\", \"https://cdn.pydata.org/bokeh/release/bokeh-widgets-1.3.4.min.js\", \"https://cdn.pydata.org/bokeh/release/bokeh-tables-1.3.4.min.js\", \"https://cdn.pydata.org/bokeh/release/bokeh-gl-1.3.4.min.js\"];\n  var css_urls = [];\n\n  var inline_js = [\n    function(Bokeh) {\n      Bokeh.set_log_level(\"info\");\n    },\n    \n    function(Bokeh) {\n      \n    },\n    function(Bokeh) {} // ensure no trailing comma for IE\n  ];\n\n  function run_inline_js() {\n    \n    if ((root.Bokeh !== undefined) || (force === true)) {\n      for (var i = 0; i < inline_js.length; i++) {\n        inline_js[i].call(root, root.Bokeh);\n      }if (force === true) {\n        display_loaded();\n      }} else if (Date.now() < root._bokeh_timeout) {\n      setTimeout(run_inline_js, 100);\n    } else if (!root._bokeh_failed_load) {\n      console.log(\"Bokeh: BokehJS failed to load within specified timeout.\");\n      root._bokeh_failed_load = true;\n    } else if (force !== true) {\n      var cell = $(document.getElementById(\"1001\")).parents('.cell').data().cell;\n      cell.output_area.append_execute_result(NB_LOAD_WARNING)\n    }\n\n  }\n\n  if (root._bokeh_is_loading === 0) {\n    console.debug(\"Bokeh: BokehJS loaded, going straight to plotting\");\n    run_inline_js();\n  } else {\n    load_libs(css_urls, js_urls, function() {\n      console.debug(\"Bokeh: BokehJS plotting callback run at\", now());\n      run_inline_js();\n    });\n  }\n}(window));"
     },
     "metadata": {},
     "output_type": "display_data"
    }
   ],
   "source": [
    "# Import Python packages\n",
    "import newsvendor\n",
    "import news_plot\n",
    "\n",
    "news = newsvendor.Newsvendor()"
   ]
  },
  {
   "cell_type": "markdown",
   "metadata": {},
   "source": [
    "---\n",
    "## A Day in the Life of the Newsvendor\n",
    "\n",
    "Here we will explore how your order quantity decision impacts your sales, revenue, cost, and profit for a single day.\n",
    "\n",
    "* sales: the number of newspaper actually sold\n",
    "* revenue: the amount you earn from your retail customers (at the retail price)\n",
    "* cost: the amount you pay to your wholeseller\n",
    "* profit: your revenue minus your cost\n",
    "\n",
    "We will specify an order quantity and simulate a single day of random demand.  From that (and the wholesale cost and retail price parameters specified above), calculate your sales, revenue, cost, and profit."
   ]
  },
  {
   "cell_type": "code",
   "execution_count": 2,
   "metadata": {},
   "outputs": [
    {
     "data": {
      "application/vnd.jupyter.widget-view+json": {
       "model_id": "6955a2df45ce4758af2ba447e3b416fb",
       "version_major": 2,
       "version_minor": 0
      },
      "text/plain": [
       "interactive(children=(IntSlider(value=15, description='Order Qty', max=19), Output()), _dom_classes=('widget-i…"
      ]
     },
     "metadata": {},
     "output_type": "display_data"
    }
   ],
   "source": [
    "# Specify your order quantity\n",
    "newsvendor.order_qty_interact(lambda y: None, news)"
   ]
  },
  {
   "cell_type": "code",
   "execution_count": 3,
   "metadata": {},
   "outputs": [
    {
     "data": {
      "text/html": [
       "<style  type=\"text/css\" >\n",
       "</style><table id=\"T_3ecd8310_de5e_11ea_9a4e_3e22fb7a36d1\" ><thead>    <tr>        <th class=\"col_heading level0 col0\" >demand</th>    </tr></thead><tbody>\n",
       "                <tr>\n",
       "                                <td id=\"T_3ecd8310_de5e_11ea_9a4e_3e22fb7a36d1row0_col0\" class=\"data row0 col0\" >2</td>\n",
       "            </tr>\n",
       "    </tbody></table>"
      ],
      "text/plain": [
       "<pandas.io.formats.style.Styler at 0x7fec1004c450>"
      ]
     },
     "metadata": {},
     "output_type": "display_data"
    }
   ],
   "source": [
    "# Simulate demand\n",
    "news.sim_data(num_days=1)\n",
    "display(news.data[['demand']].style.hide_index())"
   ]
  },
  {
   "cell_type": "markdown",
   "metadata": {},
   "source": [
    "### Exercise 1.1:\n",
    "\n",
    "For the problem parameters and demand shown above, calculate the following quantities of interest: sales, revenue, cost, profit.\n",
    "\n",
    "### Exercise 1.2:\n",
    "\n",
    "Simulate another demand realization by re-running the codeblock above.  Re-calculate your answers for the new demand realization.\n",
    "\n",
    "Change some of the problem parameters and re-calculate your answers.\n",
    "\n",
    "### Exercise 1.3 <a id=\"exercise:formulas\"></a>:\n",
    "\n",
    "If you haven't already, come up with formulas for these quantities of interest as functions of demand $D$, order quantity $y$, retail price $p$, and wholesale cost $c$.\n",
    "\n",
    "You can use the following codeblock to check your answers and formulas."
   ]
  },
  {
   "cell_type": "code",
   "execution_count": 4,
   "metadata": {
    "scrolled": false
   },
   "outputs": [
    {
     "data": {
      "application/vnd.jupyter.widget-view+json": {
       "model_id": "165361ee6a6d40c8ad784280e38c713a",
       "version_major": 2,
       "version_minor": 0
      },
      "text/plain": [
       "interactive(children=(IntSlider(value=15, description='Order Qty', max=19), Output()), _dom_classes=('widget-i…"
      ]
     },
     "metadata": {},
     "output_type": "display_data"
    }
   ],
   "source": [
    "fields = ['demand', 'sales', 'revenue', 'cost', 'profit']\n",
    "newsvendor.order_qty_interact(lambda y: news.set_order_qty(y)[fields].style.hide_index(), news)"
   ]
  },
  {
   "cell_type": "markdown",
   "metadata": {},
   "source": [
    "---\n",
    "## Taking a Longer-Term Perspective\n",
    "\n",
    "If we only look at a single day of demand, it is difficult to see what a good choice of order quantity would be.  Suppose instead we simulate an entire year's sales and calculate the average daily demand, sales, and profit.  For each quantity, the average should be equal to its expected value plus some randomness that tends to be small when the number of samples is large.  (This is a result of the Strong Law of Large Numbers and the Central Limit Theorem.)"
   ]
  },
  {
   "cell_type": "code",
   "execution_count": 5,
   "metadata": {},
   "outputs": [],
   "source": [
    "# Simulate demand\n",
    "news.sim_data(num_days=365)"
   ]
  },
  {
   "cell_type": "code",
   "execution_count": 6,
   "metadata": {
    "scrolled": true
   },
   "outputs": [
    {
     "data": {
      "application/vnd.jupyter.widget-view+json": {
       "model_id": "f2e03ac2c9cf41738acbf3d1588ee689",
       "version_major": 2,
       "version_minor": 0
      },
      "text/plain": [
       "interactive(children=(IntSlider(value=15, description='Order Qty', max=19), Output()), _dom_classes=('widget-i…"
      ]
     },
     "metadata": {},
     "output_type": "display_data"
    }
   ],
   "source": [
    "# Table of average values with order quantity slider\n",
    "def wrapper(y):\n",
    "    fields = ['demand', 'sales', 'revenue', 'profit']\n",
    "    news.set_order_qty(y)\n",
    "    return news.data_avg()[fields]\n",
    "\n",
    "newsvendor.order_qty_interact(wrapper, news)"
   ]
  },
  {
   "cell_type": "markdown",
   "metadata": {},
   "source": [
    "### Exercise 1.4: <a id=\"max_avg_profit\"></a>\n",
    "Using the slider, change the order quantity and see how the daily averages change.  What order quantity gives you the highest daily average profit?"
   ]
  },
  {
   "cell_type": "markdown",
   "metadata": {},
   "source": [
    "### Data Visualization:\n",
    "\n",
    "Another benefit of having more data is that we can look at the relative frequency of random samples (using histograms) and the relationship between the various quantities of interest and demand (using scatter plots).  Re-run the codeblock to refresh the plots.\n",
    "\n",
    "**Note:** If you want to smooth out the histograms, you can simulate more data by increasing `num_days` and re-running the codeblocks in this section.  Most computers should be able to handle `100000` ($10^5$) or `1000000` ($10^6$) samples quite easily.  This is again an illustration of the Strong Law of Large Numbers and the Central Limit Theorem."
   ]
  },
  {
   "cell_type": "code",
   "execution_count": 7,
   "metadata": {
    "scrolled": false
   },
   "outputs": [
    {
     "data": {
      "application/vnd.jupyter.widget-view+json": {
       "model_id": "fc7b07689886457c942e6251f451cc9d",
       "version_major": 2,
       "version_minor": 0
      },
      "text/plain": [
       "interactive(children=(IntSlider(value=15, description='Order Qty', max=19), Output()), _dom_classes=('widget-i…"
      ]
     },
     "metadata": {},
     "output_type": "display_data"
    },
    {
     "data": {
      "text/html": [
       "\n",
       "\n",
       "\n",
       "\n",
       "\n",
       "\n",
       "  <div class=\"bk-root\" id=\"c37fee6f-8223-4a47-aacf-a279d7045985\" data-root-id=\"1168\"></div>\n"
      ]
     },
     "metadata": {},
     "output_type": "display_data"
    },
    {
     "data": {
      "application/javascript": [
       "(function(root) {\n",
       "  function embed_document(root) {\n",
       "    \n",
       "  var docs_json = {\"a842efd7-1375-4d9e-a5df-731e378a3ccc\":{\"roots\":{\"references\":[{\"attributes\":{\"children\":[{\"id\":\"1167\",\"type\":\"ToolbarBox\"},{\"id\":\"1165\",\"type\":\"GridBox\"}]},\"id\":\"1168\",\"type\":\"Column\"},{\"attributes\":{\"fill_color\":{\"value\":\"blue\"},\"top\":{\"field\":\"top\"},\"width\":{\"value\":1},\"x\":{\"field\":\"x\"}},\"id\":\"1101\",\"type\":\"VBar\"},{\"attributes\":{\"axis_label\":\"count\",\"formatter\":{\"id\":\"1160\",\"type\":\"BasicTickFormatter\"},\"ticker\":{\"id\":\"1081\",\"type\":\"BasicTicker\"}},\"id\":\"1080\",\"type\":\"LinearAxis\"},{\"attributes\":{},\"id\":\"1049\",\"type\":\"BasicTicker\"},{\"attributes\":{},\"id\":\"1044\",\"type\":\"BasicTicker\"},{\"attributes\":{\"active_drag\":\"auto\",\"active_inspect\":\"auto\",\"active_multi\":null,\"active_scroll\":\"auto\",\"active_tap\":\"auto\",\"tools\":[{\"id\":\"1021\",\"type\":\"PanTool\"},{\"id\":\"1022\",\"type\":\"WheelZoomTool\"},{\"id\":\"1023\",\"type\":\"BoxZoomTool\"},{\"id\":\"1024\",\"type\":\"SaveTool\"},{\"id\":\"1025\",\"type\":\"ResetTool\"},{\"id\":\"1026\",\"type\":\"HelpTool\"}]},\"id\":\"1027\",\"type\":\"Toolbar\"},{\"attributes\":{\"ticker\":{\"id\":\"1044\",\"type\":\"BasicTicker\"}},\"id\":\"1047\",\"type\":\"Grid\"},{\"attributes\":{\"dimension\":1,\"ticker\":{\"id\":\"1017\",\"type\":\"BasicTicker\"}},\"id\":\"1020\",\"type\":\"Grid\"},{\"attributes\":{\"callback\":null,\"data\":{\"top\":[11,21,19,11,14,22,19,21,23,21,22,23,16,19,17,86],\"x\":[-15,-13,-11,-9,-7,-5,-3,-1,1,3,5,7,9,11,13,15]},\"selected\":{\"id\":\"1161\",\"type\":\"Selection\"},\"selection_policy\":{\"id\":\"1162\",\"type\":\"UnionRenderers\"}},\"id\":\"1110\",\"type\":\"ColumnDataSource\"},{\"attributes\":{},\"id\":\"1151\",\"type\":\"Selection\"},{\"attributes\":{\"axis_label\":\"count\",\"formatter\":{\"id\":\"1150\",\"type\":\"BasicTickFormatter\"},\"ticker\":{\"id\":\"1049\",\"type\":\"BasicTicker\"}},\"id\":\"1048\",\"type\":\"LinearAxis\"},{\"attributes\":{},\"id\":\"1021\",\"type\":\"PanTool\"},{\"attributes\":{},\"id\":\"1022\",\"type\":\"WheelZoomTool\"},{\"attributes\":{},\"id\":\"1148\",\"type\":\"BasicTickFormatter\"},{\"attributes\":{\"overlay\":{\"id\":\"1143\",\"type\":\"BoxAnnotation\"}},\"id\":\"1023\",\"type\":\"BoxZoomTool\"},{\"attributes\":{\"fill_color\":{\"value\":\"blue\"},\"top\":{\"field\":\"top\"},\"width\":{\"value\":1},\"x\":{\"field\":\"x\"}},\"id\":\"1111\",\"type\":\"VBar\"},{\"attributes\":{\"callback\":null},\"id\":\"1035\",\"type\":\"DataRange1d\"},{\"attributes\":{},\"id\":\"1024\",\"type\":\"SaveTool\"},{\"attributes\":{\"source\":{\"id\":\"1110\",\"type\":\"ColumnDataSource\"}},\"id\":\"1119\",\"type\":\"CDSView\"},{\"attributes\":{},\"id\":\"1025\",\"type\":\"ResetTool\"},{\"attributes\":{},\"id\":\"1071\",\"type\":\"LinearScale\"},{\"attributes\":{\"below\":[{\"id\":\"1075\",\"type\":\"LinearAxis\"}],\"center\":[{\"id\":\"1079\",\"type\":\"Grid\"},{\"id\":\"1084\",\"type\":\"Grid\"}],\"left\":[{\"id\":\"1080\",\"type\":\"LinearAxis\"}],\"plot_height\":300,\"plot_width\":300,\"renderers\":[{\"id\":\"1118\",\"type\":\"GlyphRenderer\"}],\"title\":{\"id\":\"1120\",\"type\":\"Title\"},\"toolbar\":{\"id\":\"1091\",\"type\":\"Toolbar\"},\"toolbar_location\":null,\"x_range\":{\"id\":\"1067\",\"type\":\"DataRange1d\"},\"x_scale\":{\"id\":\"1071\",\"type\":\"LinearScale\"},\"y_range\":{\"id\":\"1069\",\"type\":\"DataRange1d\"},\"y_scale\":{\"id\":\"1073\",\"type\":\"LinearScale\"}},\"id\":\"1066\",\"subtype\":\"Figure\",\"type\":\"Plot\"},{\"attributes\":{},\"id\":\"1026\",\"type\":\"HelpTool\"},{\"attributes\":{\"source\":{\"id\":\"1100\",\"type\":\"ColumnDataSource\"}},\"id\":\"1116\",\"type\":\"CDSView\"},{\"attributes\":{},\"id\":\"1076\",\"type\":\"BasicTicker\"},{\"attributes\":{\"ticker\":{\"id\":\"1076\",\"type\":\"BasicTicker\"}},\"id\":\"1079\",\"type\":\"Grid\"},{\"attributes\":{\"dimension\":1,\"ticker\":{\"id\":\"1049\",\"type\":\"BasicTicker\"}},\"id\":\"1052\",\"type\":\"Grid\"},{\"attributes\":{\"text\":\"demand histogram\"},\"id\":\"1114\",\"type\":\"Title\"},{\"attributes\":{\"callback\":null},\"id\":\"1067\",\"type\":\"DataRange1d\"},{\"attributes\":{},\"id\":\"1138\",\"type\":\"BasicTickFormatter\"},{\"attributes\":{\"source\":{\"id\":\"1098\",\"type\":\"ColumnDataSource\"}},\"id\":\"1113\",\"type\":\"CDSView\"},{\"attributes\":{\"data_source\":{\"id\":\"1100\",\"type\":\"ColumnDataSource\"},\"glyph\":{\"id\":\"1101\",\"type\":\"VBar\"},\"hover_glyph\":null,\"muted_glyph\":null,\"view\":{\"id\":\"1116\",\"type\":\"CDSView\"}},\"id\":\"1115\",\"type\":\"GlyphRenderer\"},{\"attributes\":{\"callback\":null},\"id\":\"1037\",\"type\":\"DataRange1d\"},{\"attributes\":{\"callback\":null},\"id\":\"1069\",\"type\":\"DataRange1d\"},{\"attributes\":{},\"id\":\"1073\",\"type\":\"LinearScale\"},{\"attributes\":{\"text\":\"sales histogram\"},\"id\":\"1117\",\"type\":\"Title\"},{\"attributes\":{},\"id\":\"1053\",\"type\":\"PanTool\"},{\"attributes\":{},\"id\":\"1054\",\"type\":\"WheelZoomTool\"},{\"attributes\":{\"data_source\":{\"id\":\"1110\",\"type\":\"ColumnDataSource\"},\"glyph\":{\"id\":\"1111\",\"type\":\"VBar\"},\"hover_glyph\":null,\"muted_glyph\":null,\"view\":{\"id\":\"1119\",\"type\":\"CDSView\"}},\"id\":\"1118\",\"type\":\"GlyphRenderer\"},{\"attributes\":{\"overlay\":{\"id\":\"1153\",\"type\":\"BoxAnnotation\"}},\"id\":\"1055\",\"type\":\"BoxZoomTool\"},{\"attributes\":{\"children\":[[{\"id\":\"1002\",\"subtype\":\"Figure\",\"type\":\"Plot\"},0,0],[{\"id\":\"1034\",\"subtype\":\"Figure\",\"type\":\"Plot\"},0,1],[{\"id\":\"1066\",\"subtype\":\"Figure\",\"type\":\"Plot\"},0,2]]},\"id\":\"1165\",\"type\":\"GridBox\"},{\"attributes\":{\"text\":\"profit histogram\"},\"id\":\"1120\",\"type\":\"Title\"},{\"attributes\":{\"callback\":null,\"data\":{\"top\":[11,21,19,11,14,22,19,21,23,21,22,23,16,19,17,86],\"x\":[0,1,2,3,4,5,6,7,8,9,10,11,12,13,14,15]},\"selected\":{\"id\":\"1151\",\"type\":\"Selection\"},\"selection_policy\":{\"id\":\"1152\",\"type\":\"UnionRenderers\"}},\"id\":\"1100\",\"type\":\"ColumnDataSource\"},{\"attributes\":{},\"id\":\"1150\",\"type\":\"BasicTickFormatter\"},{\"attributes\":{},\"id\":\"1142\",\"type\":\"UnionRenderers\"},{\"attributes\":{},\"id\":\"1039\",\"type\":\"LinearScale\"},{\"attributes\":{\"toolbar\":{\"id\":\"1166\",\"type\":\"ProxyToolbar\"},\"toolbar_location\":\"above\"},\"id\":\"1167\",\"type\":\"ToolbarBox\"},{\"attributes\":{},\"id\":\"1009\",\"type\":\"LinearScale\"},{\"attributes\":{},\"id\":\"1160\",\"type\":\"BasicTickFormatter\"},{\"attributes\":{\"active_drag\":\"auto\",\"active_inspect\":\"auto\",\"active_multi\":null,\"active_scroll\":\"auto\",\"active_tap\":\"auto\",\"tools\":[{\"id\":\"1053\",\"type\":\"PanTool\"},{\"id\":\"1054\",\"type\":\"WheelZoomTool\"},{\"id\":\"1055\",\"type\":\"BoxZoomTool\"},{\"id\":\"1056\",\"type\":\"SaveTool\"},{\"id\":\"1057\",\"type\":\"ResetTool\"},{\"id\":\"1058\",\"type\":\"HelpTool\"}]},\"id\":\"1059\",\"type\":\"Toolbar\"},{\"attributes\":{},\"id\":\"1085\",\"type\":\"PanTool\"},{\"attributes\":{},\"id\":\"1152\",\"type\":\"UnionRenderers\"},{\"attributes\":{\"ticker\":{\"id\":\"1012\",\"type\":\"BasicTicker\"}},\"id\":\"1015\",\"type\":\"Grid\"},{\"attributes\":{},\"id\":\"1141\",\"type\":\"Selection\"},{\"attributes\":{},\"id\":\"1158\",\"type\":\"BasicTickFormatter\"},{\"attributes\":{},\"id\":\"1058\",\"type\":\"HelpTool\"},{\"attributes\":{},\"id\":\"1161\",\"type\":\"Selection\"},{\"attributes\":{\"active_drag\":\"auto\",\"active_inspect\":\"auto\",\"active_multi\":null,\"active_scroll\":\"auto\",\"active_tap\":\"auto\",\"tools\":[{\"id\":\"1085\",\"type\":\"PanTool\"},{\"id\":\"1086\",\"type\":\"WheelZoomTool\"},{\"id\":\"1087\",\"type\":\"BoxZoomTool\"},{\"id\":\"1088\",\"type\":\"SaveTool\"},{\"id\":\"1089\",\"type\":\"ResetTool\"},{\"id\":\"1090\",\"type\":\"HelpTool\"}]},\"id\":\"1091\",\"type\":\"Toolbar\"},{\"attributes\":{\"axis_label\":\"demand\",\"formatter\":{\"id\":\"1138\",\"type\":\"BasicTickFormatter\"},\"ticker\":{\"id\":\"1012\",\"type\":\"BasicTicker\"}},\"id\":\"1011\",\"type\":\"LinearAxis\"},{\"attributes\":{\"below\":[{\"id\":\"1043\",\"type\":\"LinearAxis\"}],\"center\":[{\"id\":\"1047\",\"type\":\"Grid\"},{\"id\":\"1052\",\"type\":\"Grid\"}],\"left\":[{\"id\":\"1048\",\"type\":\"LinearAxis\"}],\"plot_height\":300,\"plot_width\":300,\"renderers\":[{\"id\":\"1115\",\"type\":\"GlyphRenderer\"}],\"title\":{\"id\":\"1117\",\"type\":\"Title\"},\"toolbar\":{\"id\":\"1059\",\"type\":\"Toolbar\"},\"toolbar_location\":null,\"x_range\":{\"id\":\"1035\",\"type\":\"DataRange1d\"},\"x_scale\":{\"id\":\"1039\",\"type\":\"LinearScale\"},\"y_range\":{\"id\":\"1037\",\"type\":\"DataRange1d\"},\"y_scale\":{\"id\":\"1041\",\"type\":\"LinearScale\"}},\"id\":\"1034\",\"subtype\":\"Figure\",\"type\":\"Plot\"},{\"attributes\":{\"bottom_units\":\"screen\",\"fill_alpha\":{\"value\":0.5},\"fill_color\":{\"value\":\"lightgrey\"},\"left_units\":\"screen\",\"level\":\"overlay\",\"line_alpha\":{\"value\":1.0},\"line_color\":{\"value\":\"black\"},\"line_dash\":[4,4],\"line_width\":{\"value\":2},\"render_mode\":\"css\",\"right_units\":\"screen\",\"top_units\":\"screen\"},\"id\":\"1153\",\"type\":\"BoxAnnotation\"},{\"attributes\":{\"dimension\":1,\"ticker\":{\"id\":\"1081\",\"type\":\"BasicTicker\"}},\"id\":\"1084\",\"type\":\"Grid\"},{\"attributes\":{\"below\":[{\"id\":\"1011\",\"type\":\"LinearAxis\"}],\"center\":[{\"id\":\"1015\",\"type\":\"Grid\"},{\"id\":\"1020\",\"type\":\"Grid\"}],\"left\":[{\"id\":\"1016\",\"type\":\"LinearAxis\"}],\"plot_height\":300,\"plot_width\":300,\"renderers\":[{\"id\":\"1112\",\"type\":\"GlyphRenderer\"}],\"title\":{\"id\":\"1114\",\"type\":\"Title\"},\"toolbar\":{\"id\":\"1027\",\"type\":\"Toolbar\"},\"toolbar_location\":null,\"x_range\":{\"id\":\"1003\",\"type\":\"DataRange1d\"},\"x_scale\":{\"id\":\"1007\",\"type\":\"LinearScale\"},\"y_range\":{\"id\":\"1005\",\"type\":\"DataRange1d\"},\"y_scale\":{\"id\":\"1009\",\"type\":\"LinearScale\"}},\"id\":\"1002\",\"subtype\":\"Figure\",\"type\":\"Plot\"},{\"attributes\":{},\"id\":\"1086\",\"type\":\"WheelZoomTool\"},{\"attributes\":{},\"id\":\"1081\",\"type\":\"BasicTicker\"},{\"attributes\":{\"fill_color\":{\"value\":\"blue\"},\"top\":{\"field\":\"top\"},\"width\":{\"value\":1},\"x\":{\"field\":\"x\"}},\"id\":\"1099\",\"type\":\"VBar\"},{\"attributes\":{\"axis_label\":\"count\",\"formatter\":{\"id\":\"1140\",\"type\":\"BasicTickFormatter\"},\"ticker\":{\"id\":\"1017\",\"type\":\"BasicTicker\"}},\"id\":\"1016\",\"type\":\"LinearAxis\"},{\"attributes\":{\"callback\":null,\"data\":{\"top\":[11,21,19,11,14,22,19,21,23,21,22,23,16,19,17,11,18,23,20,14],\"x\":[0,1,2,3,4,5,6,7,8,9,10,11,12,13,14,15,16,17,18,19]},\"selected\":{\"id\":\"1141\",\"type\":\"Selection\"},\"selection_policy\":{\"id\":\"1142\",\"type\":\"UnionRenderers\"}},\"id\":\"1098\",\"type\":\"ColumnDataSource\"},{\"attributes\":{},\"id\":\"1041\",\"type\":\"LinearScale\"},{\"attributes\":{\"callback\":null},\"id\":\"1005\",\"type\":\"DataRange1d\"},{\"attributes\":{},\"id\":\"1017\",\"type\":\"BasicTicker\"},{\"attributes\":{},\"id\":\"1140\",\"type\":\"BasicTickFormatter\"},{\"attributes\":{\"callback\":null},\"id\":\"1003\",\"type\":\"DataRange1d\"},{\"attributes\":{},\"id\":\"1057\",\"type\":\"ResetTool\"},{\"attributes\":{\"overlay\":{\"id\":\"1163\",\"type\":\"BoxAnnotation\"}},\"id\":\"1087\",\"type\":\"BoxZoomTool\"},{\"attributes\":{\"bottom_units\":\"screen\",\"fill_alpha\":{\"value\":0.5},\"fill_color\":{\"value\":\"lightgrey\"},\"left_units\":\"screen\",\"level\":\"overlay\",\"line_alpha\":{\"value\":1.0},\"line_color\":{\"value\":\"black\"},\"line_dash\":[4,4],\"line_width\":{\"value\":2},\"render_mode\":\"css\",\"right_units\":\"screen\",\"top_units\":\"screen\"},\"id\":\"1163\",\"type\":\"BoxAnnotation\"},{\"attributes\":{\"bottom_units\":\"screen\",\"fill_alpha\":{\"value\":0.5},\"fill_color\":{\"value\":\"lightgrey\"},\"left_units\":\"screen\",\"level\":\"overlay\",\"line_alpha\":{\"value\":1.0},\"line_color\":{\"value\":\"black\"},\"line_dash\":[4,4],\"line_width\":{\"value\":2},\"render_mode\":\"css\",\"right_units\":\"screen\",\"top_units\":\"screen\"},\"id\":\"1143\",\"type\":\"BoxAnnotation\"},{\"attributes\":{\"data_source\":{\"id\":\"1098\",\"type\":\"ColumnDataSource\"},\"glyph\":{\"id\":\"1099\",\"type\":\"VBar\"},\"hover_glyph\":null,\"muted_glyph\":null,\"view\":{\"id\":\"1113\",\"type\":\"CDSView\"}},\"id\":\"1112\",\"type\":\"GlyphRenderer\"},{\"attributes\":{\"tools\":[{\"id\":\"1021\",\"type\":\"PanTool\"},{\"id\":\"1022\",\"type\":\"WheelZoomTool\"},{\"id\":\"1023\",\"type\":\"BoxZoomTool\"},{\"id\":\"1024\",\"type\":\"SaveTool\"},{\"id\":\"1025\",\"type\":\"ResetTool\"},{\"id\":\"1026\",\"type\":\"HelpTool\"},{\"id\":\"1053\",\"type\":\"PanTool\"},{\"id\":\"1054\",\"type\":\"WheelZoomTool\"},{\"id\":\"1055\",\"type\":\"BoxZoomTool\"},{\"id\":\"1056\",\"type\":\"SaveTool\"},{\"id\":\"1057\",\"type\":\"ResetTool\"},{\"id\":\"1058\",\"type\":\"HelpTool\"},{\"id\":\"1085\",\"type\":\"PanTool\"},{\"id\":\"1086\",\"type\":\"WheelZoomTool\"},{\"id\":\"1087\",\"type\":\"BoxZoomTool\"},{\"id\":\"1088\",\"type\":\"SaveTool\"},{\"id\":\"1089\",\"type\":\"ResetTool\"},{\"id\":\"1090\",\"type\":\"HelpTool\"}]},\"id\":\"1166\",\"type\":\"ProxyToolbar\"},{\"attributes\":{},\"id\":\"1012\",\"type\":\"BasicTicker\"},{\"attributes\":{},\"id\":\"1088\",\"type\":\"SaveTool\"},{\"attributes\":{},\"id\":\"1162\",\"type\":\"UnionRenderers\"},{\"attributes\":{},\"id\":\"1056\",\"type\":\"SaveTool\"},{\"attributes\":{},\"id\":\"1007\",\"type\":\"LinearScale\"},{\"attributes\":{\"axis_label\":\"sales\",\"formatter\":{\"id\":\"1148\",\"type\":\"BasicTickFormatter\"},\"ticker\":{\"id\":\"1044\",\"type\":\"BasicTicker\"}},\"id\":\"1043\",\"type\":\"LinearAxis\"},{\"attributes\":{},\"id\":\"1089\",\"type\":\"ResetTool\"},{\"attributes\":{\"axis_label\":\"profit\",\"formatter\":{\"id\":\"1158\",\"type\":\"BasicTickFormatter\"},\"ticker\":{\"id\":\"1076\",\"type\":\"BasicTicker\"}},\"id\":\"1075\",\"type\":\"LinearAxis\"},{\"attributes\":{},\"id\":\"1090\",\"type\":\"HelpTool\"}],\"root_ids\":[\"1168\"]},\"title\":\"Bokeh Application\",\"version\":\"1.3.4\"}};\n",
       "  var render_items = [{\"docid\":\"a842efd7-1375-4d9e-a5df-731e378a3ccc\",\"notebook_comms_target\":\"1196\",\"roots\":{\"1168\":\"c37fee6f-8223-4a47-aacf-a279d7045985\"}}];\n",
       "  root.Bokeh.embed.embed_items_notebook(docs_json, render_items);\n",
       "\n",
       "  }\n",
       "  if (root.Bokeh !== undefined) {\n",
       "    embed_document(root);\n",
       "  } else {\n",
       "    var attempts = 0;\n",
       "    var timer = setInterval(function(root) {\n",
       "      if (root.Bokeh !== undefined) {\n",
       "        embed_document(root);\n",
       "        clearInterval(timer);\n",
       "      }\n",
       "      attempts++;\n",
       "      if (attempts > 100) {\n",
       "        console.log(\"Bokeh: ERROR: Unable to run BokehJS code because BokehJS library is missing\");\n",
       "        clearInterval(timer);\n",
       "      }\n",
       "    }, 10, root)\n",
       "  }\n",
       "})(window);"
      ],
      "application/vnd.bokehjs_exec.v0+json": ""
     },
     "metadata": {
      "application/vnd.bokehjs_exec.v0+json": {
       "id": "1168"
      }
     },
     "output_type": "display_data"
    }
   ],
   "source": [
    "fields = ['demand', 'sales', 'profit']\n",
    "hist_func = lambda n: news_plot.hist_glyphs(news.data)\n",
    "labels = {field: {'x': field, 'y': 'count', 'title': field + ' histogram'} for field in fields}\n",
    "newsvendor.interact_gridplot(news_plot.figures(fields), hist_func, news, labels=labels)"
   ]
  },
  {
   "cell_type": "code",
   "execution_count": 8,
   "metadata": {},
   "outputs": [
    {
     "data": {
      "application/vnd.jupyter.widget-view+json": {
       "model_id": "1270e23500954446b30911dd2b1bead4",
       "version_major": 2,
       "version_minor": 0
      },
      "text/plain": [
       "interactive(children=(IntSlider(value=15, description='Order Qty', max=19), Output()), _dom_classes=('widget-i…"
      ]
     },
     "metadata": {},
     "output_type": "display_data"
    },
    {
     "data": {
      "text/html": [
       "\n",
       "\n",
       "\n",
       "\n",
       "\n",
       "\n",
       "  <div class=\"bk-root\" id=\"eb896246-411a-4e70-a0d5-f6a409faa777\" data-root-id=\"1525\"></div>\n"
      ]
     },
     "metadata": {},
     "output_type": "display_data"
    },
    {
     "data": {
      "application/javascript": [
       "(function(root) {\n",
       "  function embed_document(root) {\n",
       "    \n",
       "  var docs_json = {\"c58cb333-d645-40cc-80df-489ebba3c2e9\":{\"roots\":{\"references\":[{\"attributes\":{\"children\":[{\"id\":\"1524\",\"type\":\"ToolbarBox\"},{\"id\":\"1522\",\"type\":\"GridBox\"}]},\"id\":\"1525\",\"type\":\"Column\"},{\"attributes\":{\"fill_color\":{\"value\":\"blue\"},\"line_color\":{\"value\":\"blue\"},\"x\":{\"field\":\"x\"},\"y\":{\"field\":\"y\"}},\"id\":\"1464\",\"type\":\"Circle\"},{\"attributes\":{\"active_drag\":\"auto\",\"active_inspect\":\"auto\",\"active_multi\":null,\"active_scroll\":\"auto\",\"active_tap\":\"auto\",\"tools\":[{\"id\":\"1410\",\"type\":\"PanTool\"},{\"id\":\"1411\",\"type\":\"WheelZoomTool\"},{\"id\":\"1412\",\"type\":\"BoxZoomTool\"},{\"id\":\"1413\",\"type\":\"SaveTool\"},{\"id\":\"1414\",\"type\":\"ResetTool\"},{\"id\":\"1415\",\"type\":\"HelpTool\"}]},\"id\":\"1416\",\"type\":\"Toolbar\"},{\"attributes\":{},\"id\":\"1438\",\"type\":\"BasicTicker\"},{\"attributes\":{\"callback\":null,\"data\":{\"x\":[11,11,9,12,6,4,18,7,19,12,4,14,8,1,11,13,12,12,8,11,14,5,7,8,2,17,12,12,11,18,1,11,8,11,9,10,10,7,7,2,13,2,11,6,1,15,5,3,9,7,2,16,11,17,6,12,11,12,7,18,7,4,9,7,7,13,11,14,3,1,9,13,11,15,19,9,8,12,7,4,17,17,14,14,13,17,8,4,16,4,8,6,8,2,4,5,6,18,5,6,5,14,17,17,18,0,10,18,11,8,10,16,15,0,15,13,16,5,2,19,10,0,1,2,9,7,19,6,2,5,17,2,16,4,8,15,2,1,6,1,4,2,0,18,9,7,6,8,16,12,10,5,14,13,10,10,14,12,14,0,18,10,11,9,6,17,19,14,16,5,16,19,17,8,16,18,18,12,10,17,18,16,0,1,3,4,18,3,3,9,16,11,16,17,0,8,19,5,15,9,0,1,8,15,9,8,19,19,5,1,8,5,17,10,13,5,7,8,5,4,18,3,1,17,11,2,9,10,1,9,7,12,12,13,9,1,16,9,14,15,17,10,5,11,5,8,17,11,2,2,7,3,1,7,3,18,7,4,10,13,1,10,13,9,10,11,2,11,9,6,13,13,17,6,1,1,10,9,2,5,0,14,16,3,19,18,10,17,6,7,13,17,10,18,11,0,8,11,17,4,2,7,10,14,5,13,14,16,15,6,10,8,3,12,3,4,8,18,13,17,13,5,6,5,6,1,11,14,6,2,1,9,6,7,5,18,1,18,14,19,7,12,18,19,6,19,17,15,15,9,16,13,0,17,8,14,1,2,8,16,5,10,16,13,19],\"y\":[22,22,18,24,12,8,30,14,30,24,8,28,16,2,22,26,24,24,16,22,28,10,14,16,4,30,24,24,22,30,2,22,16,22,18,20,20,14,14,4,26,4,22,12,2,30,10,6,18,14,4,30,22,30,12,24,22,24,14,30,14,8,18,14,14,26,22,28,6,2,18,26,22,30,30,18,16,24,14,8,30,30,28,28,26,30,16,8,30,8,16,12,16,4,8,10,12,30,10,12,10,28,30,30,30,0,20,30,22,16,20,30,30,0,30,26,30,10,4,30,20,0,2,4,18,14,30,12,4,10,30,4,30,8,16,30,4,2,12,2,8,4,0,30,18,14,12,16,30,24,20,10,28,26,20,20,28,24,28,0,30,20,22,18,12,30,30,28,30,10,30,30,30,16,30,30,30,24,20,30,30,30,0,2,6,8,30,6,6,18,30,22,30,30,0,16,30,10,30,18,0,2,16,30,18,16,30,30,10,2,16,10,30,20,26,10,14,16,10,8,30,6,2,30,22,4,18,20,2,18,14,24,24,26,18,2,30,18,28,30,30,20,10,22,10,16,30,22,4,4,14,6,2,14,6,30,14,8,20,26,2,20,26,18,20,22,4,22,18,12,26,26,30,12,2,2,20,18,4,10,0,28,30,6,30,30,20,30,12,14,26,30,20,30,22,0,16,22,30,8,4,14,20,28,10,26,28,30,30,12,20,16,6,24,6,8,16,30,26,30,26,10,12,10,12,2,22,28,12,4,2,18,12,14,10,30,2,30,28,30,14,24,30,30,12,30,30,30,30,18,30,26,0,30,16,28,2,4,16,30,10,20,30,26,30]},\"selected\":{\"id\":\"1508\",\"type\":\"Selection\"},\"selection_policy\":{\"id\":\"1509\",\"type\":\"UnionRenderers\"}},\"id\":\"1463\",\"type\":\"ColumnDataSource\"},{\"attributes\":{},\"id\":\"1415\",\"type\":\"HelpTool\"},{\"attributes\":{\"bottom_units\":\"screen\",\"fill_alpha\":{\"value\":0.5},\"fill_color\":{\"value\":\"lightgrey\"},\"left_units\":\"screen\",\"level\":\"overlay\",\"line_alpha\":{\"value\":1.0},\"line_color\":{\"value\":\"black\"},\"line_dash\":[4,4],\"line_width\":{\"value\":2},\"render_mode\":\"css\",\"right_units\":\"screen\",\"top_units\":\"screen\"},\"id\":\"1520\",\"type\":\"BoxAnnotation\"},{\"attributes\":{\"axis_label\":\"demand\",\"formatter\":{\"id\":\"1515\",\"type\":\"BasicTickFormatter\"},\"ticker\":{\"id\":\"1433\",\"type\":\"BasicTicker\"}},\"id\":\"1432\",\"type\":\"LinearAxis\"},{\"attributes\":{\"fill_color\":{\"value\":\"blue\"},\"line_color\":{\"value\":\"blue\"},\"x\":{\"field\":\"x\"},\"y\":{\"field\":\"y\"}},\"id\":\"1468\",\"type\":\"Circle\"},{\"attributes\":{\"source\":{\"id\":\"1457\",\"type\":\"ColumnDataSource\"}},\"id\":\"1470\",\"type\":\"CDSView\"},{\"attributes\":{},\"id\":\"1433\",\"type\":\"BasicTicker\"},{\"attributes\":{\"callback\":null,\"data\":{\"x\":[11,11,9,12,6,4,18,7,19,12,4,14,8,1,11,13,12,12,8,11,14,5,7,8,2,17,12,12,11,18,1,11,8,11,9,10,10,7,7,2,13,2,11,6,1,15,5,3,9,7,2,16,11,17,6,12,11,12,7,18,7,4,9,7,7,13,11,14,3,1,9,13,11,15,19,9,8,12,7,4,17,17,14,14,13,17,8,4,16,4,8,6,8,2,4,5,6,18,5,6,5,14,17,17,18,0,10,18,11,8,10,16,15,0,15,13,16,5,2,19,10,0,1,2,9,7,19,6,2,5,17,2,16,4,8,15,2,1,6,1,4,2,0,18,9,7,6,8,16,12,10,5,14,13,10,10,14,12,14,0,18,10,11,9,6,17,19,14,16,5,16,19,17,8,16,18,18,12,10,17,18,16,0,1,3,4,18,3,3,9,16,11,16,17,0,8,19,5,15,9,0,1,8,15,9,8,19,19,5,1,8,5,17,10,13,5,7,8,5,4,18,3,1,17,11,2,9,10,1,9,7,12,12,13,9,1,16,9,14,15,17,10,5,11,5,8,17,11,2,2,7,3,1,7,3,18,7,4,10,13,1,10,13,9,10,11,2,11,9,6,13,13,17,6,1,1,10,9,2,5,0,14,16,3,19,18,10,17,6,7,13,17,10,18,11,0,8,11,17,4,2,7,10,14,5,13,14,16,15,6,10,8,3,12,3,4,8,18,13,17,13,5,6,5,6,1,11,14,6,2,1,9,6,7,5,18,1,18,14,19,7,12,18,19,6,19,17,15,15,9,16,13,0,17,8,14,1,2,8,16,5,10,16,13,19],\"y\":[7,7,3,9,-3,-7,15,-1,15,9,-7,13,1,-13,7,11,9,9,1,7,13,-5,-1,1,-11,15,9,9,7,15,-13,7,1,7,3,5,5,-1,-1,-11,11,-11,7,-3,-13,15,-5,-9,3,-1,-11,15,7,15,-3,9,7,9,-1,15,-1,-7,3,-1,-1,11,7,13,-9,-13,3,11,7,15,15,3,1,9,-1,-7,15,15,13,13,11,15,1,-7,15,-7,1,-3,1,-11,-7,-5,-3,15,-5,-3,-5,13,15,15,15,-15,5,15,7,1,5,15,15,-15,15,11,15,-5,-11,15,5,-15,-13,-11,3,-1,15,-3,-11,-5,15,-11,15,-7,1,15,-11,-13,-3,-13,-7,-11,-15,15,3,-1,-3,1,15,9,5,-5,13,11,5,5,13,9,13,-15,15,5,7,3,-3,15,15,13,15,-5,15,15,15,1,15,15,15,9,5,15,15,15,-15,-13,-9,-7,15,-9,-9,3,15,7,15,15,-15,1,15,-5,15,3,-15,-13,1,15,3,1,15,15,-5,-13,1,-5,15,5,11,-5,-1,1,-5,-7,15,-9,-13,15,7,-11,3,5,-13,3,-1,9,9,11,3,-13,15,3,13,15,15,5,-5,7,-5,1,15,7,-11,-11,-1,-9,-13,-1,-9,15,-1,-7,5,11,-13,5,11,3,5,7,-11,7,3,-3,11,11,15,-3,-13,-13,5,3,-11,-5,-15,13,15,-9,15,15,5,15,-3,-1,11,15,5,15,7,-15,1,7,15,-7,-11,-1,5,13,-5,11,13,15,15,-3,5,1,-9,9,-9,-7,1,15,11,15,11,-5,-3,-5,-3,-13,7,13,-3,-11,-13,3,-3,-1,-5,15,-13,15,13,15,-1,9,15,15,-3,15,15,15,15,3,15,11,-15,15,1,13,-13,-11,1,15,-5,5,15,11,15]},\"selected\":{\"id\":\"1518\",\"type\":\"Selection\"},\"selection_policy\":{\"id\":\"1519\",\"type\":\"UnionRenderers\"}},\"id\":\"1467\",\"type\":\"ColumnDataSource\"},{\"attributes\":{\"source\":{\"id\":\"1463\",\"type\":\"ColumnDataSource\"}},\"id\":\"1473\",\"type\":\"CDSView\"},{\"attributes\":{\"text\":\"sales\"},\"id\":\"1471\",\"type\":\"Title\"},{\"attributes\":{},\"id\":\"1430\",\"type\":\"LinearScale\"},{\"attributes\":{\"source\":{\"id\":\"1467\",\"type\":\"ColumnDataSource\"}},\"id\":\"1476\",\"type\":\"CDSView\"},{\"attributes\":{},\"id\":\"1414\",\"type\":\"ResetTool\"},{\"attributes\":{\"ticker\":{\"id\":\"1433\",\"type\":\"BasicTicker\"}},\"id\":\"1436\",\"type\":\"Grid\"},{\"attributes\":{\"bottom_units\":\"screen\",\"fill_alpha\":{\"value\":0.5},\"fill_color\":{\"value\":\"lightgrey\"},\"left_units\":\"screen\",\"level\":\"overlay\",\"line_alpha\":{\"value\":1.0},\"line_color\":{\"value\":\"black\"},\"line_dash\":[4,4],\"line_width\":{\"value\":2},\"render_mode\":\"css\",\"right_units\":\"screen\",\"top_units\":\"screen\"},\"id\":\"1500\",\"type\":\"BoxAnnotation\"},{\"attributes\":{\"data_source\":{\"id\":\"1463\",\"type\":\"ColumnDataSource\"},\"glyph\":{\"id\":\"1464\",\"type\":\"Circle\"},\"hover_glyph\":null,\"muted_glyph\":null,\"view\":{\"id\":\"1473\",\"type\":\"CDSView\"}},\"id\":\"1472\",\"type\":\"GlyphRenderer\"},{\"attributes\":{\"text\":\"revenue\"},\"id\":\"1474\",\"type\":\"Title\"},{\"attributes\":{\"dimension\":1,\"ticker\":{\"id\":\"1438\",\"type\":\"BasicTicker\"}},\"id\":\"1441\",\"type\":\"Grid\"},{\"attributes\":{\"axis_label\":\"profit\",\"formatter\":{\"id\":\"1517\",\"type\":\"BasicTickFormatter\"},\"ticker\":{\"id\":\"1438\",\"type\":\"BasicTicker\"}},\"id\":\"1437\",\"type\":\"LinearAxis\"},{\"attributes\":{},\"id\":\"1443\",\"type\":\"WheelZoomTool\"},{\"attributes\":{},\"id\":\"1509\",\"type\":\"UnionRenderers\"},{\"attributes\":{\"data_source\":{\"id\":\"1467\",\"type\":\"ColumnDataSource\"},\"glyph\":{\"id\":\"1468\",\"type\":\"Circle\"},\"hover_glyph\":null,\"muted_glyph\":null,\"view\":{\"id\":\"1476\",\"type\":\"CDSView\"}},\"id\":\"1475\",\"type\":\"GlyphRenderer\"},{\"attributes\":{},\"id\":\"1519\",\"type\":\"UnionRenderers\"},{\"attributes\":{\"active_drag\":\"auto\",\"active_inspect\":\"auto\",\"active_multi\":null,\"active_scroll\":\"auto\",\"active_tap\":\"auto\",\"tools\":[{\"id\":\"1442\",\"type\":\"PanTool\"},{\"id\":\"1443\",\"type\":\"WheelZoomTool\"},{\"id\":\"1444\",\"type\":\"BoxZoomTool\"},{\"id\":\"1445\",\"type\":\"SaveTool\"},{\"id\":\"1446\",\"type\":\"ResetTool\"},{\"id\":\"1447\",\"type\":\"HelpTool\"}]},\"id\":\"1448\",\"type\":\"Toolbar\"},{\"attributes\":{\"text\":\"profit\"},\"id\":\"1477\",\"type\":\"Title\"},{\"attributes\":{},\"id\":\"1497\",\"type\":\"BasicTickFormatter\"},{\"attributes\":{},\"id\":\"1498\",\"type\":\"Selection\"},{\"attributes\":{\"fill_color\":{\"value\":\"blue\"},\"line_color\":{\"value\":\"blue\"},\"x\":{\"field\":\"x\"},\"y\":{\"field\":\"y\"}},\"id\":\"1458\",\"type\":\"Circle\"},{\"attributes\":{},\"id\":\"1508\",\"type\":\"Selection\"},{\"attributes\":{},\"id\":\"1442\",\"type\":\"PanTool\"},{\"attributes\":{\"overlay\":{\"id\":\"1520\",\"type\":\"BoxAnnotation\"}},\"id\":\"1444\",\"type\":\"BoxZoomTool\"},{\"attributes\":{},\"id\":\"1445\",\"type\":\"SaveTool\"},{\"attributes\":{},\"id\":\"1446\",\"type\":\"ResetTool\"},{\"attributes\":{},\"id\":\"1505\",\"type\":\"BasicTickFormatter\"},{\"attributes\":{},\"id\":\"1447\",\"type\":\"HelpTool\"},{\"attributes\":{},\"id\":\"1517\",\"type\":\"BasicTickFormatter\"},{\"attributes\":{},\"id\":\"1499\",\"type\":\"UnionRenderers\"},{\"attributes\":{},\"id\":\"1507\",\"type\":\"BasicTickFormatter\"},{\"attributes\":{},\"id\":\"1518\",\"type\":\"Selection\"},{\"attributes\":{\"data_source\":{\"id\":\"1457\",\"type\":\"ColumnDataSource\"},\"glyph\":{\"id\":\"1458\",\"type\":\"Circle\"},\"hover_glyph\":null,\"muted_glyph\":null,\"view\":{\"id\":\"1470\",\"type\":\"CDSView\"}},\"id\":\"1469\",\"type\":\"GlyphRenderer\"},{\"attributes\":{\"callback\":null,\"data\":{\"x\":[11,11,9,12,6,4,18,7,19,12,4,14,8,1,11,13,12,12,8,11,14,5,7,8,2,17,12,12,11,18,1,11,8,11,9,10,10,7,7,2,13,2,11,6,1,15,5,3,9,7,2,16,11,17,6,12,11,12,7,18,7,4,9,7,7,13,11,14,3,1,9,13,11,15,19,9,8,12,7,4,17,17,14,14,13,17,8,4,16,4,8,6,8,2,4,5,6,18,5,6,5,14,17,17,18,0,10,18,11,8,10,16,15,0,15,13,16,5,2,19,10,0,1,2,9,7,19,6,2,5,17,2,16,4,8,15,2,1,6,1,4,2,0,18,9,7,6,8,16,12,10,5,14,13,10,10,14,12,14,0,18,10,11,9,6,17,19,14,16,5,16,19,17,8,16,18,18,12,10,17,18,16,0,1,3,4,18,3,3,9,16,11,16,17,0,8,19,5,15,9,0,1,8,15,9,8,19,19,5,1,8,5,17,10,13,5,7,8,5,4,18,3,1,17,11,2,9,10,1,9,7,12,12,13,9,1,16,9,14,15,17,10,5,11,5,8,17,11,2,2,7,3,1,7,3,18,7,4,10,13,1,10,13,9,10,11,2,11,9,6,13,13,17,6,1,1,10,9,2,5,0,14,16,3,19,18,10,17,6,7,13,17,10,18,11,0,8,11,17,4,2,7,10,14,5,13,14,16,15,6,10,8,3,12,3,4,8,18,13,17,13,5,6,5,6,1,11,14,6,2,1,9,6,7,5,18,1,18,14,19,7,12,18,19,6,19,17,15,15,9,16,13,0,17,8,14,1,2,8,16,5,10,16,13,19],\"y\":[11,11,9,12,6,4,15,7,15,12,4,14,8,1,11,13,12,12,8,11,14,5,7,8,2,15,12,12,11,15,1,11,8,11,9,10,10,7,7,2,13,2,11,6,1,15,5,3,9,7,2,15,11,15,6,12,11,12,7,15,7,4,9,7,7,13,11,14,3,1,9,13,11,15,15,9,8,12,7,4,15,15,14,14,13,15,8,4,15,4,8,6,8,2,4,5,6,15,5,6,5,14,15,15,15,0,10,15,11,8,10,15,15,0,15,13,15,5,2,15,10,0,1,2,9,7,15,6,2,5,15,2,15,4,8,15,2,1,6,1,4,2,0,15,9,7,6,8,15,12,10,5,14,13,10,10,14,12,14,0,15,10,11,9,6,15,15,14,15,5,15,15,15,8,15,15,15,12,10,15,15,15,0,1,3,4,15,3,3,9,15,11,15,15,0,8,15,5,15,9,0,1,8,15,9,8,15,15,5,1,8,5,15,10,13,5,7,8,5,4,15,3,1,15,11,2,9,10,1,9,7,12,12,13,9,1,15,9,14,15,15,10,5,11,5,8,15,11,2,2,7,3,1,7,3,15,7,4,10,13,1,10,13,9,10,11,2,11,9,6,13,13,15,6,1,1,10,9,2,5,0,14,15,3,15,15,10,15,6,7,13,15,10,15,11,0,8,11,15,4,2,7,10,14,5,13,14,15,15,6,10,8,3,12,3,4,8,15,13,15,13,5,6,5,6,1,11,14,6,2,1,9,6,7,5,15,1,15,14,15,7,12,15,15,6,15,15,15,15,9,15,13,0,15,8,14,1,2,8,15,5,10,15,13,15]},\"selected\":{\"id\":\"1498\",\"type\":\"Selection\"},\"selection_policy\":{\"id\":\"1499\",\"type\":\"UnionRenderers\"}},\"id\":\"1457\",\"type\":\"ColumnDataSource\"},{\"attributes\":{\"bottom_units\":\"screen\",\"fill_alpha\":{\"value\":0.5},\"fill_color\":{\"value\":\"lightgrey\"},\"left_units\":\"screen\",\"level\":\"overlay\",\"line_alpha\":{\"value\":1.0},\"line_color\":{\"value\":\"black\"},\"line_dash\":[4,4],\"line_width\":{\"value\":2},\"render_mode\":\"css\",\"right_units\":\"screen\",\"top_units\":\"screen\"},\"id\":\"1510\",\"type\":\"BoxAnnotation\"},{\"attributes\":{},\"id\":\"1515\",\"type\":\"BasicTickFormatter\"},{\"attributes\":{},\"id\":\"1428\",\"type\":\"LinearScale\"},{\"attributes\":{},\"id\":\"1383\",\"type\":\"HelpTool\"},{\"attributes\":{\"below\":[{\"id\":\"1368\",\"type\":\"LinearAxis\"}],\"center\":[{\"id\":\"1372\",\"type\":\"Grid\"},{\"id\":\"1377\",\"type\":\"Grid\"}],\"left\":[{\"id\":\"1373\",\"type\":\"LinearAxis\"}],\"plot_height\":300,\"plot_width\":300,\"renderers\":[{\"id\":\"1469\",\"type\":\"GlyphRenderer\"}],\"title\":{\"id\":\"1471\",\"type\":\"Title\"},\"toolbar\":{\"id\":\"1384\",\"type\":\"Toolbar\"},\"toolbar_location\":null,\"x_range\":{\"id\":\"1360\",\"type\":\"DataRange1d\"},\"x_scale\":{\"id\":\"1364\",\"type\":\"LinearScale\"},\"y_range\":{\"id\":\"1362\",\"type\":\"DataRange1d\"},\"y_scale\":{\"id\":\"1366\",\"type\":\"LinearScale\"}},\"id\":\"1359\",\"subtype\":\"Figure\",\"type\":\"Plot\"},{\"attributes\":{\"axis_label\":\"revenue\",\"formatter\":{\"id\":\"1507\",\"type\":\"BasicTickFormatter\"},\"ticker\":{\"id\":\"1406\",\"type\":\"BasicTicker\"}},\"id\":\"1405\",\"type\":\"LinearAxis\"},{\"attributes\":{},\"id\":\"1495\",\"type\":\"BasicTickFormatter\"},{\"attributes\":{},\"id\":\"1406\",\"type\":\"BasicTicker\"},{\"attributes\":{},\"id\":\"1364\",\"type\":\"LinearScale\"},{\"attributes\":{\"ticker\":{\"id\":\"1401\",\"type\":\"BasicTicker\"}},\"id\":\"1404\",\"type\":\"Grid\"},{\"attributes\":{\"callback\":null},\"id\":\"1360\",\"type\":\"DataRange1d\"},{\"attributes\":{\"callback\":null},\"id\":\"1362\",\"type\":\"DataRange1d\"},{\"attributes\":{},\"id\":\"1369\",\"type\":\"BasicTicker\"},{\"attributes\":{},\"id\":\"1366\",\"type\":\"LinearScale\"},{\"attributes\":{\"axis_label\":\"demand\",\"formatter\":{\"id\":\"1505\",\"type\":\"BasicTickFormatter\"},\"ticker\":{\"id\":\"1401\",\"type\":\"BasicTicker\"}},\"id\":\"1400\",\"type\":\"LinearAxis\"},{\"attributes\":{\"overlay\":{\"id\":\"1510\",\"type\":\"BoxAnnotation\"}},\"id\":\"1412\",\"type\":\"BoxZoomTool\"},{\"attributes\":{\"ticker\":{\"id\":\"1369\",\"type\":\"BasicTicker\"}},\"id\":\"1372\",\"type\":\"Grid\"},{\"attributes\":{},\"id\":\"1374\",\"type\":\"BasicTicker\"},{\"attributes\":{},\"id\":\"1396\",\"type\":\"LinearScale\"},{\"attributes\":{},\"id\":\"1411\",\"type\":\"WheelZoomTool\"},{\"attributes\":{\"dimension\":1,\"ticker\":{\"id\":\"1406\",\"type\":\"BasicTicker\"}},\"id\":\"1409\",\"type\":\"Grid\"},{\"attributes\":{},\"id\":\"1379\",\"type\":\"WheelZoomTool\"},{\"attributes\":{\"callback\":null},\"id\":\"1392\",\"type\":\"DataRange1d\"},{\"attributes\":{\"axis_label\":\"sales\",\"formatter\":{\"id\":\"1497\",\"type\":\"BasicTickFormatter\"},\"ticker\":{\"id\":\"1374\",\"type\":\"BasicTicker\"}},\"id\":\"1373\",\"type\":\"LinearAxis\"},{\"attributes\":{\"callback\":null},\"id\":\"1424\",\"type\":\"DataRange1d\"},{\"attributes\":{\"below\":[{\"id\":\"1400\",\"type\":\"LinearAxis\"}],\"center\":[{\"id\":\"1404\",\"type\":\"Grid\"},{\"id\":\"1409\",\"type\":\"Grid\"}],\"left\":[{\"id\":\"1405\",\"type\":\"LinearAxis\"}],\"plot_height\":300,\"plot_width\":300,\"renderers\":[{\"id\":\"1472\",\"type\":\"GlyphRenderer\"}],\"title\":{\"id\":\"1474\",\"type\":\"Title\"},\"toolbar\":{\"id\":\"1416\",\"type\":\"Toolbar\"},\"toolbar_location\":null,\"x_range\":{\"id\":\"1392\",\"type\":\"DataRange1d\"},\"x_scale\":{\"id\":\"1396\",\"type\":\"LinearScale\"},\"y_range\":{\"id\":\"1394\",\"type\":\"DataRange1d\"},\"y_scale\":{\"id\":\"1398\",\"type\":\"LinearScale\"}},\"id\":\"1391\",\"subtype\":\"Figure\",\"type\":\"Plot\"},{\"attributes\":{\"dimension\":1,\"ticker\":{\"id\":\"1374\",\"type\":\"BasicTicker\"}},\"id\":\"1377\",\"type\":\"Grid\"},{\"attributes\":{\"callback\":null},\"id\":\"1394\",\"type\":\"DataRange1d\"},{\"attributes\":{\"below\":[{\"id\":\"1432\",\"type\":\"LinearAxis\"}],\"center\":[{\"id\":\"1436\",\"type\":\"Grid\"},{\"id\":\"1441\",\"type\":\"Grid\"}],\"left\":[{\"id\":\"1437\",\"type\":\"LinearAxis\"}],\"plot_height\":300,\"plot_width\":300,\"renderers\":[{\"id\":\"1475\",\"type\":\"GlyphRenderer\"}],\"title\":{\"id\":\"1477\",\"type\":\"Title\"},\"toolbar\":{\"id\":\"1448\",\"type\":\"Toolbar\"},\"toolbar_location\":null,\"x_range\":{\"id\":\"1424\",\"type\":\"DataRange1d\"},\"x_scale\":{\"id\":\"1428\",\"type\":\"LinearScale\"},\"y_range\":{\"id\":\"1426\",\"type\":\"DataRange1d\"},\"y_scale\":{\"id\":\"1430\",\"type\":\"LinearScale\"}},\"id\":\"1423\",\"subtype\":\"Figure\",\"type\":\"Plot\"},{\"attributes\":{\"axis_label\":\"demand\",\"formatter\":{\"id\":\"1495\",\"type\":\"BasicTickFormatter\"},\"ticker\":{\"id\":\"1369\",\"type\":\"BasicTicker\"}},\"id\":\"1368\",\"type\":\"LinearAxis\"},{\"attributes\":{},\"id\":\"1378\",\"type\":\"PanTool\"},{\"attributes\":{},\"id\":\"1398\",\"type\":\"LinearScale\"},{\"attributes\":{\"callback\":null},\"id\":\"1426\",\"type\":\"DataRange1d\"},{\"attributes\":{\"overlay\":{\"id\":\"1500\",\"type\":\"BoxAnnotation\"}},\"id\":\"1380\",\"type\":\"BoxZoomTool\"},{\"attributes\":{},\"id\":\"1382\",\"type\":\"ResetTool\"},{\"attributes\":{},\"id\":\"1381\",\"type\":\"SaveTool\"},{\"attributes\":{\"tools\":[{\"id\":\"1378\",\"type\":\"PanTool\"},{\"id\":\"1379\",\"type\":\"WheelZoomTool\"},{\"id\":\"1380\",\"type\":\"BoxZoomTool\"},{\"id\":\"1381\",\"type\":\"SaveTool\"},{\"id\":\"1382\",\"type\":\"ResetTool\"},{\"id\":\"1383\",\"type\":\"HelpTool\"},{\"id\":\"1410\",\"type\":\"PanTool\"},{\"id\":\"1411\",\"type\":\"WheelZoomTool\"},{\"id\":\"1412\",\"type\":\"BoxZoomTool\"},{\"id\":\"1413\",\"type\":\"SaveTool\"},{\"id\":\"1414\",\"type\":\"ResetTool\"},{\"id\":\"1415\",\"type\":\"HelpTool\"},{\"id\":\"1442\",\"type\":\"PanTool\"},{\"id\":\"1443\",\"type\":\"WheelZoomTool\"},{\"id\":\"1444\",\"type\":\"BoxZoomTool\"},{\"id\":\"1445\",\"type\":\"SaveTool\"},{\"id\":\"1446\",\"type\":\"ResetTool\"},{\"id\":\"1447\",\"type\":\"HelpTool\"}]},\"id\":\"1523\",\"type\":\"ProxyToolbar\"},{\"attributes\":{\"children\":[[{\"id\":\"1359\",\"subtype\":\"Figure\",\"type\":\"Plot\"},0,0],[{\"id\":\"1391\",\"subtype\":\"Figure\",\"type\":\"Plot\"},0,1],[{\"id\":\"1423\",\"subtype\":\"Figure\",\"type\":\"Plot\"},0,2]]},\"id\":\"1522\",\"type\":\"GridBox\"},{\"attributes\":{},\"id\":\"1413\",\"type\":\"SaveTool\"},{\"attributes\":{\"active_drag\":\"auto\",\"active_inspect\":\"auto\",\"active_multi\":null,\"active_scroll\":\"auto\",\"active_tap\":\"auto\",\"tools\":[{\"id\":\"1378\",\"type\":\"PanTool\"},{\"id\":\"1379\",\"type\":\"WheelZoomTool\"},{\"id\":\"1380\",\"type\":\"BoxZoomTool\"},{\"id\":\"1381\",\"type\":\"SaveTool\"},{\"id\":\"1382\",\"type\":\"ResetTool\"},{\"id\":\"1383\",\"type\":\"HelpTool\"}]},\"id\":\"1384\",\"type\":\"Toolbar\"},{\"attributes\":{},\"id\":\"1410\",\"type\":\"PanTool\"},{\"attributes\":{\"toolbar\":{\"id\":\"1523\",\"type\":\"ProxyToolbar\"},\"toolbar_location\":\"above\"},\"id\":\"1524\",\"type\":\"ToolbarBox\"},{\"attributes\":{},\"id\":\"1401\",\"type\":\"BasicTicker\"}],\"root_ids\":[\"1525\"]},\"title\":\"Bokeh Application\",\"version\":\"1.3.4\"}};\n",
       "  var render_items = [{\"docid\":\"c58cb333-d645-40cc-80df-489ebba3c2e9\",\"notebook_comms_target\":\"1580\",\"roots\":{\"1525\":\"eb896246-411a-4e70-a0d5-f6a409faa777\"}}];\n",
       "  root.Bokeh.embed.embed_items_notebook(docs_json, render_items);\n",
       "\n",
       "  }\n",
       "  if (root.Bokeh !== undefined) {\n",
       "    embed_document(root);\n",
       "  } else {\n",
       "    var attempts = 0;\n",
       "    var timer = setInterval(function(root) {\n",
       "      if (root.Bokeh !== undefined) {\n",
       "        embed_document(root);\n",
       "        clearInterval(timer);\n",
       "      }\n",
       "      attempts++;\n",
       "      if (attempts > 100) {\n",
       "        console.log(\"Bokeh: ERROR: Unable to run BokehJS code because BokehJS library is missing\");\n",
       "        clearInterval(timer);\n",
       "      }\n",
       "    }, 10, root)\n",
       "  }\n",
       "})(window);"
      ],
      "application/vnd.bokehjs_exec.v0+json": ""
     },
     "metadata": {
      "application/vnd.bokehjs_exec.v0+json": {
       "id": "1525"
      }
     },
     "output_type": "display_data"
    }
   ],
   "source": [
    "fields = ['sales', 'revenue', 'profit']\n",
    "labels = {field: {'x': 'demand', 'y': field, 'title': field} for field in fields}\n",
    "scatter_func = lambda n: news_plot.scatter_glyphs(n.data, 'demand')\n",
    "newsvendor.interact_gridplot(news_plot.figures(fields), scatter_func, news, labels=labels)"
   ]
  },
  {
   "cell_type": "markdown",
   "metadata": {},
   "source": [
    "### Exercise 1.5:\n",
    "Examine these figures and connect them with the formulas you derived in [Exercise 1.3](#exercise:formulas).\n",
    "\n",
    "* Do the scatter plots for sales, revenue, and profit (each as a function of demand) match your formulas?\n",
    "* What would the scatter plot for cost as a function of demand look like?\n",
    "* In the histograms, why is there a spike in sales and profit on the right side of the distribution?"
   ]
  }
 ],
 "metadata": {
  "kernelspec": {
   "display_name": "Python 3",
   "language": "python",
   "name": "python3"
  },
  "language_info": {
   "codemirror_mode": {
    "name": "ipython",
    "version": 3
   },
   "file_extension": ".py",
   "mimetype": "text/x-python",
   "name": "python",
   "nbconvert_exporter": "python",
   "pygments_lexer": "ipython3",
   "version": "3.7.4"
  }
 },
 "nbformat": 4,
 "nbformat_minor": 2
}
